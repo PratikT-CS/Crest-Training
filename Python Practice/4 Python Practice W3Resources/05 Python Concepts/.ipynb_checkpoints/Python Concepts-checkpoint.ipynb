{
 "cells": [
  {
   "cell_type": "markdown",
   "id": "b250934f-7b72-4643-9231-354a6a78492d",
   "metadata": {},
   "source": [
    "# Unit test"
   ]
  },
  {
   "cell_type": "code",
   "execution_count": 2,
   "id": "1b858e1b-0eb1-4bba-bede-72945b6cf542",
   "metadata": {},
   "outputs": [
    {
     "name": "stderr",
     "output_type": "stream",
     "text": [
      "E\n",
      "======================================================================\n",
      "ERROR: C:\\Users\\PratikTalaviya\\AppData\\Roaming\\jupyter\\runtime\\kernel-149b2e04-2c12-410c-ad5d-707957aa055c (unittest.loader._FailedTest.C:\\Users\\PratikTalaviya\\AppData\\Roaming\\jupyter\\runtime\\kernel-149b2e04-2c12-410c-ad5d-707957aa055c)\n",
      "----------------------------------------------------------------------\n",
      "AttributeError: module '__main__' has no attribute 'C:\\Users\\PratikTalaviya\\AppData\\Roaming\\jupyter\\runtime\\kernel-149b2e04-2c12-410c-ad5d-707957aa055c'\n",
      "\n",
      "----------------------------------------------------------------------\n",
      "Ran 1 test in 0.010s\n",
      "\n",
      "FAILED (errors=1)\n"
     ]
    },
    {
     "ename": "SystemExit",
     "evalue": "1",
     "output_type": "error",
     "traceback": [
      "An exception has occurred, use %tb to see the full traceback.\n",
      "\u001b[1;31mSystemExit\u001b[0m\u001b[1;31m:\u001b[0m 1\n"
     ]
    },
    {
     "name": "stderr",
     "output_type": "stream",
     "text": [
      "C:\\Users\\PratikTalaviya\\anaconda3\\Lib\\site-packages\\IPython\\core\\interactiveshell.py:3585: UserWarning: To exit: use 'exit', 'quit', or Ctrl-D.\n",
      "  warn(\"To exit: use 'exit', 'quit', or Ctrl-D.\", stacklevel=1)\n"
     ]
    }
   ],
   "source": [
    "import unittest\n",
    "\n",
    "def is_prime(number):\n",
    "    if number < 2:\n",
    "        return False\n",
    "    for i in range(2, int(number**0.5) + 1):\n",
    "        if number % i == 0:\n",
    "            return False\n",
    "    return True\n",
    "\n",
    "class PrimeNumberTestCase(unittest.TestCase):\n",
    "    \n",
    "    def test_prime_numbers(self):\n",
    "        prime_numbers = [2, 3, 5, 7, 11, 13, 17, 19, 23, 29, 31]\n",
    "        print(\"Prime numbers: {}\".format(prime_numbers))\n",
    "        for number in prime_numbers:\n",
    "            self.assertTrue(is_prime(number), f\"{number} is not recognized as a prime number\")\n",
    "\n",
    "    def test_non_prime_numbers(self):\n",
    "        non_prime_numbers = [4, 6, 8, 10, 12, 14, 16, 18, 20]\n",
    "        print(\"Non-prime numbers: {}\".format(non_prime_numbers))\n",
    "        for number in non_prime_numbers:\n",
    "            self.assertFalse(is_prime(number), f\"{number} is incorrectly recognized as a prime number\")\n",
    "\n",
    "if __name__ == '__main__':\n",
    "\n",
    "    unittest.main()"
   ]
  },
  {
   "cell_type": "code",
   "execution_count": null,
   "id": "27f98535-3360-4216-8386-b2479681260d",
   "metadata": {},
   "outputs": [],
   "source": []
  }
 ],
 "metadata": {
  "kernelspec": {
   "display_name": "Python 3 (ipykernel)",
   "language": "python",
   "name": "python3"
  },
  "language_info": {
   "codemirror_mode": {
    "name": "ipython",
    "version": 3
   },
   "file_extension": ".py",
   "mimetype": "text/x-python",
   "name": "python",
   "nbconvert_exporter": "python",
   "pygments_lexer": "ipython3",
   "version": "3.12.7"
  }
 },
 "nbformat": 4,
 "nbformat_minor": 5
}
