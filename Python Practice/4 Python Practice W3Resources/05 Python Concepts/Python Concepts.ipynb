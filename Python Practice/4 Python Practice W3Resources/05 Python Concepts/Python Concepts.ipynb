{
 "cells": [
  {
   "cell_type": "markdown",
   "id": "b250934f-7b72-4643-9231-354a6a78492d",
   "metadata": {},
   "source": [
    "# Unit test"
   ]
  },
  {
   "cell_type": "code",
   "execution_count": null,
   "id": "27f98535-3360-4216-8386-b2479681260d",
   "metadata": {},
   "outputs": [],
   "source": [
    "import unittest\n",
    "\n",
    "def is_prime(number):\n",
    "    if number < 2:\n",
    "        return False\n",
    "    for i in range(2, int(number**0.5) + 1):\n",
    "        if number % i == 0:\n",
    "            return False\n",
    "    return True\n",
    "\n",
    "class PrimeNumberTestCase(unittest.TestCase):\n",
    "    \n",
    "    def test_prime_numbers(self):\n",
    "        prime_numbers = [2, 3, 5, 7, 11, 13, 17, 19, 23, 29, 31]\n",
    "        print(\"Prime numbers: {}\".format(prime_numbers))\n",
    "        for number in prime_numbers:\n",
    "            self.assertTrue(is_prime(number), f\"{number} is not recognized as a prime number\")\n",
    "\n",
    "    def test_non_prime_numbers(self):\n",
    "        non_prime_numbers = [4, 6, 8, 10, 12, 14, 16, 18, 20]\n",
    "        print(\"Non-prime numbers: {}\".format(non_prime_numbers))\n",
    "        for number in non_prime_numbers:\n",
    "            self.assertFalse(is_prime(number), f\"{number} is incorrectly recognized as a prime number\")\n",
    "\n",
    "if __name__ == '__main__':\n",
    "\n",
    "    unittest.main()"
   ]
  },
  {
   "cell_type": "markdown",
   "id": "68fe9899-7246-42d3-9485-2d0c6e32e2ff",
   "metadata": {},
   "source": [
    "# Exception Handling"
   ]
  },
  {
   "cell_type": "code",
   "execution_count": 3,
   "id": "2c05848a-c92d-4a6b-a6bf-2be9cfd6b551",
   "metadata": {},
   "outputs": [],
   "source": [
    "def get_integer_input(prompt):\n",
    "    try:\n",
    "        value = int(input(prompt))\n",
    "        return value\n",
    "    except ValueError:\n",
    "        print(\"Error: Invalid input, input a valid integer.\")\n"
   ]
  },
  {
   "cell_type": "code",
   "execution_count": 4,
   "id": "37d9febb-e873-4c3c-ad0f-6637b78b97a6",
   "metadata": {},
   "outputs": [
    {
     "name": "stdin",
     "output_type": "stream",
     "text": [
      "Input an integer:  v\n"
     ]
    },
    {
     "name": "stdout",
     "output_type": "stream",
     "text": [
      "Error: Invalid input, input a valid integer.\n"
     ]
    }
   ],
   "source": [
    "n = get_integer_input(\"Input an integer: \")"
   ]
  },
  {
   "cell_type": "code",
   "execution_count": 5,
   "id": "c0d137f4-2056-4348-8a31-7a6a7608f0ab",
   "metadata": {},
   "outputs": [
    {
     "name": "stdin",
     "output_type": "stream",
     "text": [
      "Input an integer:  5\n"
     ]
    }
   ],
   "source": [
    "n = get_integer_input(\"Input an integer: \")"
   ]
  },
  {
   "cell_type": "code",
   "execution_count": null,
   "id": "8cdd7b18-fb59-4a7f-a1f8-c997ba2fe673",
   "metadata": {},
   "outputs": [],
   "source": []
  },
  {
   "cell_type": "markdown",
   "id": "54c7df70-1d38-4929-a64e-0a872d1ae1fa",
   "metadata": {},
   "source": [
    "# Python Decorator"
   ]
  },
  {
   "cell_type": "code",
   "execution_count": 6,
   "id": "c6925c3e-8075-45e5-9b6b-7533abec642a",
   "metadata": {},
   "outputs": [
    {
     "name": "stdout",
     "output_type": "stream",
     "text": [
      "Result: 30 <class 'int'>\n",
      "Result: Python Decorator <class 'str'>\n"
     ]
    }
   ],
   "source": [
    "def convert_to_data_type(data_type):\n",
    "    def decorator(func):\n",
    "        def wrapper(*args, **kwargs):\n",
    "            result = func(*args, **kwargs)\n",
    "            return data_type(result)\n",
    "        return wrapper\n",
    "    return decorator\n",
    "\n",
    "@convert_to_data_type(int)\n",
    "def add_numbers(x, y):\n",
    "    return x + y\n",
    "\n",
    "result = add_numbers(10, 20)\n",
    "print(\"Result:\", result, type(result))\n",
    "\n",
    "@convert_to_data_type(str)\n",
    "def concatenate_strings(x, y):\n",
    "    return x + y\n",
    "\n",
    "result = concatenate_strings(\"Python\", \" Decorator\")\n",
    "print(\"Result:\", result, type(result))"
   ]
  },
  {
   "cell_type": "code",
   "execution_count": null,
   "id": "ae4f1c51-aa00-4127-afa4-4fca5466006f",
   "metadata": {},
   "outputs": [],
   "source": []
  }
 ],
 "metadata": {
  "kernelspec": {
   "display_name": "Python 3 (ipykernel)",
   "language": "python",
   "name": "python3"
  },
  "language_info": {
   "codemirror_mode": {
    "name": "ipython",
    "version": 3
   },
   "file_extension": ".py",
   "mimetype": "text/x-python",
   "name": "python",
   "nbconvert_exporter": "python",
   "pygments_lexer": "ipython3",
   "version": "3.12.7"
  }
 },
 "nbformat": 4,
 "nbformat_minor": 5
}
