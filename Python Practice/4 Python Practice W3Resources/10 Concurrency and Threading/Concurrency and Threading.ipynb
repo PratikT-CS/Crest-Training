{
 "cells": [
  {
   "cell_type": "markdown",
   "id": "6868ae91-03ac-46b9-a343-200ffc4dc8d5",
   "metadata": {},
   "source": [
    "# Mulit-Threading and Concurrency\n",
    "## Write a  Python program that creates two threads to find and print even and odd numbers from 30 to 50."
   ]
  },
  {
   "cell_type": "code",
   "execution_count": 7,
   "id": "7d635775-3ae1-4448-9d4f-5b1cba9f9929",
   "metadata": {},
   "outputs": [
    {
     "data": {
      "text/plain": [
       "<_MainThread(MainThread, started 11668)>"
      ]
     },
     "execution_count": 7,
     "metadata": {},
     "output_type": "execute_result"
    }
   ],
   "source": [
    "import threading\n",
    "threading.current_thread()"
   ]
  },
  {
   "cell_type": "code",
   "execution_count": 1,
   "id": "0cce8397-1509-4570-8028-51e14a8bb502",
   "metadata": {},
   "outputs": [
    {
     "name": "stdout",
     "output_type": "stream",
     "text": [
      "List of even numbers:\n",
      "30 32 34 36 38 40 42 44 46 48 50 \n",
      "List of odd numbers:\n",
      "31 33 35 37 39 41 43 45 47 49 "
     ]
    }
   ],
   "source": [
    "def print_even():\n",
    "    print(\"List of even numbers:\")\n",
    "    for i in range(30, 51, 2):\n",
    "        print(i, end = \" \")\n",
    "\n",
    "def print_odd():\n",
    "    print(\"\\nList of odd numbers:\")\n",
    "    for i in range(31, 51, 2):\n",
    "        print(i, end = \" \")\n",
    "even = threading.Thread(target=print_even)\n",
    "odd = threading.Thread(target=print_odd)\n",
    "\n",
    "even.start()\n",
    "odd.start()\n",
    "\n",
    "even.join()\n",
    "odd.join()"
   ]
  },
  {
   "cell_type": "code",
   "execution_count": 23,
   "id": "926d3f40-f7ba-42e4-a1ca-f332a1357071",
   "metadata": {},
   "outputs": [
    {
     "name": "stdout",
     "output_type": "stream",
     "text": [
      "List of even numbers:\n",
      "30 32 34 36 38 40 42 44 46 48 50 \n",
      "List of odd numbers:\n",
      "31 33 35 37 39 41 43 45 47 49 Code After Threads started\n"
     ]
    }
   ],
   "source": [
    "import threading\n",
    "import time\n",
    "\n",
    "def print_even():\n",
    "    time.sleep(1)\n",
    "    print(\"List of even numbers:\")\n",
    "    for i in range(30, 51, 2):\n",
    "        print(i, end = \" \")\n",
    "\n",
    "def print_odd():\n",
    "    time.sleep(1)\n",
    "    print(\"\\nList of odd numbers:\")\n",
    "    for i in range(31, 51, 2):\n",
    "        print(i, end = \" \")\n",
    "even = threading.Thread(target=print_even)\n",
    "odd = threading.Thread(target=print_odd)\n",
    "\n",
    "even.start()\n",
    "odd.start()\n",
    "\n",
    "odd.join()\n",
    "even.join()\n",
    "\n",
    "print(\"Code After Threads started\")"
   ]
  },
  {
   "cell_type": "code",
   "execution_count": 19,
   "id": "34b03726-dc87-4d29-811b-bff805a871ca",
   "metadata": {},
   "outputs": [
    {
     "name": "stdout",
     "output_type": "stream",
     "text": [
      "Code After Threads started\n",
      "List of even numbers:\n",
      "30 32 34 36 38 40 42 44 46 48 50 \n",
      "List of odd numbers:\n",
      "31 33 35 37 39 41 43 45 47 49 "
     ]
    }
   ],
   "source": [
    "import threading\n",
    "import time\n",
    "def print_even():\n",
    "    time.sleep(1)\n",
    "    print(\"List of even numbers:\")\n",
    "    for i in range(30, 51, 2):\n",
    "        print(i, end = \" \")\n",
    "\n",
    "def print_odd():\n",
    "    time.sleep(1)\n",
    "    print(\"\\nList of odd numbers:\")\n",
    "    for i in range(31, 51, 2):\n",
    "        print(i, end = \" \")\n",
    "    \n",
    "even = threading.Thread(target=print_even)\n",
    "odd = threading.Thread(target=print_odd)\n",
    "\n",
    "even.start()\n",
    "odd.start()\n",
    "\n",
    "print(\"Code After Threads started\")\n"
   ]
  },
  {
   "cell_type": "markdown",
   "id": "f83009cf-4d57-4837-9963-3e2fba817117",
   "metadata": {},
   "source": [
    "## Write a Python program that performs concurrent HTTP requests using threads."
   ]
  },
  {
   "cell_type": "code",
   "execution_count": 27,
   "id": "f209d1fd-398d-46ec-a964-6edbc52f6d6d",
   "metadata": {},
   "outputs": [
    {
     "name": "stdout",
     "output_type": "stream",
     "text": [
      "Response from https://www.example.com: 200\n",
      "Response from https://www.google.com: 200\n",
      "Response from https://www.wikipedia.org: 200\n",
      "Response from https://www.python.org: 200\n"
     ]
    }
   ],
   "source": [
    "import requests\n",
    "\n",
    "def make_request(url):\n",
    "    response = requests.get(url)\n",
    "    print(f\"Response from {url}: {response.status_code}\")\n",
    "\n",
    "urls = [\n",
    "    \"https://www.example.com\",\n",
    "    \"https://www.google.com\",\n",
    "    \"https://www.wikipedia.org\",\n",
    "    \"https://www.python.org\"\n",
    "    ]\n",
    "\n",
    "threads = []\n",
    "for url in urls:\n",
    "    thread = threading.Thread(target=make_request, args=(url,))\n",
    "    thread.start()\n",
    "    threads.append(thread)\n",
    "\n",
    "for thread in threads:\n",
    "    thread.join()"
   ]
  },
  {
   "cell_type": "code",
   "execution_count": 28,
   "id": "39f5e124-a00b-4413-bb6b-8d70a2a43ed0",
   "metadata": {},
   "outputs": [
    {
     "name": "stdout",
     "output_type": "stream",
     "text": [
      "Response from https://www.python.org: 200\n",
      "Response from https://www.example.com: 200\n",
      "Response from https://www.google.com: 200\n",
      "Response from https://www.wikipedia.org: 200\n"
     ]
    }
   ],
   "source": [
    "from concurrent.futures import ThreadPoolExecutor\n",
    "\n",
    "with ThreadPoolExecutor(max_workers=4) as executor:\n",
    "    executor.map(make_request, urls)"
   ]
  },
  {
   "cell_type": "code",
   "execution_count": null,
   "id": "b7ab014a-b296-4ad6-a9b1-3f87e6ffc68d",
   "metadata": {},
   "outputs": [],
   "source": []
  },
  {
   "cell_type": "code",
   "execution_count": null,
   "id": "6d3aac1e-b550-498d-a116-6d2ebcf2b38e",
   "metadata": {},
   "outputs": [],
   "source": []
  },
  {
   "cell_type": "markdown",
   "id": "8bf161fe-29cf-4748-93af-b2b6fe07c0df",
   "metadata": {},
   "source": [
    "# Asynchronous Programming\n",
    "## Write a  Python program that creates an asyncio event loop and runs a coroutine that prints numbers from 1 to 7 with a delay of 1 second each."
   ]
  },
  {
   "cell_type": "code",
   "execution_count": 33,
   "id": "4d6b177f-735d-4cda-9888-0cf622dbb5c1",
   "metadata": {},
   "outputs": [
    {
     "name": "stdout",
     "output_type": "stream",
     "text": [
      "1\n",
      "2\n",
      "3\n",
      "4\n",
      "5\n",
      "6\n",
      "7\n"
     ]
    }
   ],
   "source": [
    "import asyncio\n",
    "\n",
    "async def display_numbers():\n",
    "    for i in range(1, 8):\n",
    "        print(i)\n",
    "        await asyncio.sleep(1)\n",
    "\n",
    "await display_numbers()"
   ]
  },
  {
   "cell_type": "markdown",
   "id": "2032bbe2-a01d-4e3d-862d-7cedaf266d99",
   "metadata": {},
   "source": [
    "## Write a  Python program that implements a coroutine to fetch data from two different URLs simultaneously using the \"aiohttp\" library."
   ]
  },
  {
   "cell_type": "code",
   "execution_count": 36,
   "id": "c8c71ae7-7855-4471-8abd-a011f0ddbe7f",
   "metadata": {},
   "outputs": [
    {
     "name": "stdout",
     "output_type": "stream",
     "text": [
      "Data from  https://www.wikipedia.org/ 76712 bytes\n",
      "Data from  https://www.google.com 21021 bytes\n"
     ]
    }
   ],
   "source": [
    "import asyncio\n",
    "import aiohttp\n",
    "async def fetch_url(url):\n",
    "    async with aiohttp.ClientSession() as session:\n",
    "        async with session.get(url) as response:\n",
    "            return await response.text()\n",
    "            \n",
    "async def main():\n",
    "    url_1 = \"https://www.wikipedia.org/\"\n",
    "    url_2 = \"https://www.google.com\"    \n",
    "    task1 = asyncio.create_task(fetch_url(url_1))\n",
    "    task2 = asyncio.create_task(fetch_url(url_2))    \n",
    "    data1 = await task1\n",
    "    data2 = await task2    \n",
    "    print(\"Data from \",url_1, len(data1), \"bytes\")\n",
    "    print(\"Data from \",url_2, len(data2), \"bytes\")\n",
    "\n",
    "await main()\n"
   ]
  },
  {
   "cell_type": "code",
   "execution_count": null,
   "id": "a46efd19-6f6f-4ca5-a796-083f5ca252f5",
   "metadata": {},
   "outputs": [],
   "source": []
  }
 ],
 "metadata": {
  "kernelspec": {
   "display_name": "Python 3 (ipykernel)",
   "language": "python",
   "name": "python3"
  },
  "language_info": {
   "codemirror_mode": {
    "name": "ipython",
    "version": 3
   },
   "file_extension": ".py",
   "mimetype": "text/x-python",
   "name": "python",
   "nbconvert_exporter": "python",
   "pygments_lexer": "ipython3",
   "version": "3.12.7"
  }
 },
 "nbformat": 4,
 "nbformat_minor": 5
}
