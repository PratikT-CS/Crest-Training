{
 "cells": [
  {
   "cell_type": "code",
   "execution_count": 1,
   "id": "ed8ed190-82ac-4c0b-8928-ea5f06292b30",
   "metadata": {},
   "outputs": [],
   "source": [
    "import numpy as np"
   ]
  },
  {
   "cell_type": "code",
   "execution_count": null,
   "id": "6c7ca7fc-9223-43f6-968e-2f39f85c6f79",
   "metadata": {},
   "outputs": [],
   "source": []
  },
  {
   "cell_type": "markdown",
   "id": "dc737839-18c7-42d1-8806-a190279a3ab7",
   "metadata": {},
   "source": [
    "# DateTime\n",
    "## Write a NumPy program to find the number of weekdays in March 2017."
   ]
  },
  {
   "cell_type": "code",
   "execution_count": 2,
   "id": "1cd0f73b-bf95-43bd-82c0-9aff70fd2a54",
   "metadata": {},
   "outputs": [
    {
     "name": "stdout",
     "output_type": "stream",
     "text": [
      "23\n"
     ]
    }
   ],
   "source": [
    "print(np.busday_count(\"2017-03\", \"2017-04\"))"
   ]
  },
  {
   "cell_type": "code",
   "execution_count": 4,
   "id": "6c83e867-a085-43d9-995d-cceb6958c7f3",
   "metadata": {},
   "outputs": [
    {
     "name": "stdout",
     "output_type": "stream",
     "text": [
      "23\n"
     ]
    }
   ],
   "source": [
    "print(np.busday_count(\"2025-01\", \"2025-02\"))"
   ]
  },
  {
   "cell_type": "code",
   "execution_count": 7,
   "id": "854ea3b2-c68d-4c80-b61b-7a53ab3de11c",
   "metadata": {},
   "outputs": [
    {
     "name": "stdout",
     "output_type": "stream",
     "text": [
      "20\n"
     ]
    }
   ],
   "source": [
    "print(np.busday_count(\"2025-01-06\", \"2025-02-01\"))"
   ]
  },
  {
   "cell_type": "code",
   "execution_count": null,
   "id": "f029a305-94b6-4a6e-bf0d-647f1d7c7f91",
   "metadata": {},
   "outputs": [],
   "source": []
  },
  {
   "cell_type": "code",
   "execution_count": null,
   "id": "f24c749e-f3ad-40b3-9403-56641ff6f685",
   "metadata": {},
   "outputs": [],
   "source": []
  },
  {
   "cell_type": "markdown",
   "id": "176fc613-e9cb-4b1f-bddd-9aed15b054b5",
   "metadata": {},
   "source": [
    "# Write a  NumPy program to get the dates of yesterday, today and tomorrow."
   ]
  },
  {
   "cell_type": "code",
   "execution_count": 12,
   "id": "eeae44b4-9a06-4afc-ae26-489084cbf9d1",
   "metadata": {},
   "outputs": [
    {
     "name": "stdout",
     "output_type": "stream",
     "text": [
      "Yestraday:  2025-01-29\n",
      "Today:  2025-01-30\n",
      "Tomorrow:  2025-01-31\n"
     ]
    }
   ],
   "source": [
    "yesterday = np.datetime64('today', 'D') - np.timedelta64(1, 'D')\n",
    "print(\"Yestraday: \", yesterday)\n",
    "\n",
    "today = np.datetime64('today', 'D')\n",
    "print(\"Today: \", today)\n",
    "\n",
    "tomorrow = np.datetime64('today', 'D') + np.timedelta64(1, 'D')\n",
    "print(\"Tomorrow: \", tomorrow) "
   ]
  },
  {
   "cell_type": "code",
   "execution_count": null,
   "id": "7d7e0631-75e1-4e93-ae4b-95dc1f1bd943",
   "metadata": {},
   "outputs": [],
   "source": []
  },
  {
   "cell_type": "code",
   "execution_count": null,
   "id": "a3cf74a7-d56e-4587-8dbb-fbd0ebe2c584",
   "metadata": {},
   "outputs": [],
   "source": []
  },
  {
   "cell_type": "markdown",
   "id": "80caefb2-8441-4f0e-8e82-15f36ecd4fb3",
   "metadata": {},
   "source": [
    "# String\n",
    "## Write a NumPy program to count a given word in each row of a given array of string values."
   ]
  },
  {
   "cell_type": "code",
   "execution_count": 13,
   "id": "ae3dab45-7f4a-4c8d-b57f-333fc5554d97",
   "metadata": {},
   "outputs": [],
   "source": [
    "str1 = np.array([['Python','NumPy','Exercises'],\n",
    "                 ['Python','Pandas','Exercises'],\n",
    "                 ['Python','Machine learning','Python']])"
   ]
  },
  {
   "cell_type": "code",
   "execution_count": 14,
   "id": "8de81b94-046e-4d6d-a616-28a74ede44eb",
   "metadata": {},
   "outputs": [
    {
     "name": "stdout",
     "output_type": "stream",
     "text": [
      "[[1 0 0]\n",
      " [1 0 0]\n",
      " [1 0 1]]\n"
     ]
    }
   ],
   "source": [
    "print(np.char.count(str1, 'Python')) "
   ]
  },
  {
   "cell_type": "code",
   "execution_count": 16,
   "id": "e396ddec-b2f4-47de-927a-4c25405e197c",
   "metadata": {},
   "outputs": [],
   "source": [
    "row_counts = np.sum(np.char.count(str1, \"Python\"), axis=1)"
   ]
  },
  {
   "cell_type": "code",
   "execution_count": 17,
   "id": "2f35690f-33e6-4c8f-8d2f-b239e77a4f26",
   "metadata": {},
   "outputs": [
    {
     "data": {
      "text/plain": [
       "array([1, 1, 2])"
      ]
     },
     "execution_count": 17,
     "metadata": {},
     "output_type": "execute_result"
    }
   ],
   "source": [
    "row_counts"
   ]
  },
  {
   "cell_type": "code",
   "execution_count": null,
   "id": "75d09e6d-bddf-4c11-9ff7-ca57364490c7",
   "metadata": {},
   "outputs": [],
   "source": []
  }
 ],
 "metadata": {
  "kernelspec": {
   "display_name": "Python 3 (ipykernel)",
   "language": "python",
   "name": "python3"
  },
  "language_info": {
   "codemirror_mode": {
    "name": "ipython",
    "version": 3
   },
   "file_extension": ".py",
   "mimetype": "text/x-python",
   "name": "python",
   "nbconvert_exporter": "python",
   "pygments_lexer": "ipython3",
   "version": "3.12.7"
  }
 },
 "nbformat": 4,
 "nbformat_minor": 5
}
