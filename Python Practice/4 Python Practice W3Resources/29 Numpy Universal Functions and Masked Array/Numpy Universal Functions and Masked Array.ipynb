{
 "cells": [
  {
   "cell_type": "markdown",
   "id": "cd901b3f-9931-470c-82c3-4373f3cc40f9",
   "metadata": {},
   "source": [
    "# Universal Functions\n",
    "## Write a NumPy program that creates a 2D NumPy array and a 1D array. Use the np.add ufunc to add the 1D array to each row of the 2D array."
   ]
  },
  {
   "cell_type": "code",
   "execution_count": 3,
   "id": "eb3ca119-b104-4581-bf7b-f2020846c196",
   "metadata": {},
   "outputs": [
    {
     "name": "stdout",
     "output_type": "stream",
     "text": [
      "[[1 5 3]\n",
      " [9 0 4]\n",
      " [7 4 7]]\n",
      "[7 5 7]\n",
      "[[ 8 10 10]\n",
      " [16  5 11]\n",
      " [14  9 14]]\n"
     ]
    }
   ],
   "source": [
    "import numpy as np\n",
    "\n",
    "array_2d = np.random.randint(0, 10, size=(3, 3))\n",
    "\n",
    "array_1d = np.random.randint(0, 10, size=3)\n",
    "\n",
    "result_array = np.add(array_2d, array_1d)\n",
    "\n",
    "print(array_2d)\n",
    "print(array_1d)\n",
    "print(result_array)"
   ]
  },
  {
   "cell_type": "code",
   "execution_count": null,
   "id": "807f3244-53da-4623-832d-adc8df2a5e55",
   "metadata": {},
   "outputs": [],
   "source": []
  },
  {
   "cell_type": "code",
   "execution_count": null,
   "id": "9900c78a-d8f1-4dc9-8511-a04e2732c911",
   "metadata": {},
   "outputs": [],
   "source": []
  },
  {
   "cell_type": "markdown",
   "id": "c30a4697-b315-429b-ae41-2673fba0ea0f",
   "metadata": {},
   "source": [
    "# Masked Array\n",
    "## Write a NumPy program to replace all masked values in a masked array with the mean of the unmasked elements."
   ]
  },
  {
   "cell_type": "code",
   "execution_count": 4,
   "id": "c5a3a6e4-8dc4-4e4e-9162-e3e929485a1e",
   "metadata": {},
   "outputs": [
    {
     "name": "stdout",
     "output_type": "stream",
     "text": [
      "Original Array:\n",
      "[ 1.  2.  3. nan  5.  6. nan  8.  9. 10.]\n",
      "\n",
      "Masked Array:\n",
      "[1.0 2.0 3.0 -- 5.0 6.0 -- 8.0 9.0 10.0]\n",
      "\n",
      "Filled Array (masked values replaced with mean):\n",
      "[ 1.   2.   3.   5.5  5.   6.   5.5  8.   9.  10. ]\n"
     ]
    }
   ],
   "source": [
    "data = np.array([1, 2, 3, np.nan, 5, 6, np.nan, 8, 9, 10])\n",
    "\n",
    "mask = np.isnan(data)\n",
    "masked_array = np.ma.masked_array(data, mask=mask)\n",
    "\n",
    "mean_value = masked_array.mean()\n",
    "\n",
    "filled_array = masked_array.filled(mean_value)\n",
    "\n",
    "print(\"Original Array:\")\n",
    "print(data)\n",
    "\n",
    "print(\"\\nMasked Array:\")\n",
    "print(masked_array)\n",
    "\n",
    "print(\"\\nFilled Array (masked values replaced with mean):\")\n",
    "print(filled_array)"
   ]
  },
  {
   "cell_type": "code",
   "execution_count": null,
   "id": "7ec3604f-6eaf-479d-8543-9d75cc5c9f12",
   "metadata": {},
   "outputs": [],
   "source": []
  }
 ],
 "metadata": {
  "kernelspec": {
   "display_name": "Python 3 (ipykernel)",
   "language": "python",
   "name": "python3"
  },
  "language_info": {
   "codemirror_mode": {
    "name": "ipython",
    "version": 3
   },
   "file_extension": ".py",
   "mimetype": "text/x-python",
   "name": "python",
   "nbconvert_exporter": "python",
   "pygments_lexer": "ipython3",
   "version": "3.12.7"
  }
 },
 "nbformat": 4,
 "nbformat_minor": 5
}
