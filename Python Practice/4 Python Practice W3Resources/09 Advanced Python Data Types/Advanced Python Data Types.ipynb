{
 "cells": [
  {
   "cell_type": "markdown",
   "id": "7bb8575a-4c3f-446b-b02e-059297bb6d49",
   "metadata": {},
   "source": [
    "# Python Boolen Data Type\n",
    "## Write a program that calculates whether a person is eligible for voting based on their age using boolean conditions."
   ]
  },
  {
   "cell_type": "code",
   "execution_count": 43,
   "id": "53fae699-e685-45e2-b2db-84c724e4ecc0",
   "metadata": {},
   "outputs": [
    {
     "name": "stdin",
     "output_type": "stream",
     "text": [
      "Input your age:  22\n"
     ]
    },
    {
     "name": "stdout",
     "output_type": "stream",
     "text": [
      "You are eligible to vote.\n"
     ]
    }
   ],
   "source": [
    "def voter_eligibility(age):\n",
    "    return age >= 18\n",
    "\n",
    "try:\n",
    "    age = int(input(\"Input your age: \"))\n",
    "    \n",
    "    if age < 0:\n",
    "        print(\"Age cannot be negative.\")\n",
    "    elif voter_eligibility(age):\n",
    "        print(\"You are eligible to vote.\")\n",
    "    else:\n",
    "        print(\"You are not eligible to vote.\")\n",
    "except ValueError:\n",
    "    print(\"Invalid input. Please input a valid age.\")\n"
   ]
  },
  {
   "cell_type": "code",
   "execution_count": null,
   "id": "b11b110d-6eea-4b7d-9295-886bdb181487",
   "metadata": {},
   "outputs": [],
   "source": []
  },
  {
   "cell_type": "code",
   "execution_count": null,
   "id": "60a4827c-09c6-4328-aacd-3273e0c90cd1",
   "metadata": {},
   "outputs": [],
   "source": []
  },
  {
   "cell_type": "markdown",
   "id": "b18e9127-4bb5-4ec3-9c2c-bfa21781275a",
   "metadata": {},
   "source": [
    "# None Data Type\n",
    "## Write a Python program that iterates through a list of strings and prints each string. If a string is empty, print \"Empty string\" instead."
   ]
  },
  {
   "cell_type": "code",
   "execution_count": 44,
   "id": "e19d0e53-d2c6-4882-a2fa-e32558696ea0",
   "metadata": {},
   "outputs": [
    {
     "name": "stdout",
     "output_type": "stream",
     "text": [
      "Python\n",
      "None\n",
      "Java\n",
      "C++\n",
      "None\n",
      "C#\n"
     ]
    }
   ],
   "source": [
    "def empty(string_list):\n",
    "    for s in string_list:\n",
    "        if s:\n",
    "            print(s)\n",
    "        else:\n",
    "            print(None)\n",
    "\n",
    "try:\n",
    "    text_list = [\"Python\", \"\", \"Java\", \"C++\", \"\", \"C#\"]\n",
    "    empty(text_list)\n",
    "except Exception as e:\n",
    "    print(\"An error occurred:\", e) "
   ]
  },
  {
   "cell_type": "code",
   "execution_count": null,
   "id": "2a5c9061-06f2-4d85-b7e1-7a186952e21e",
   "metadata": {},
   "outputs": [],
   "source": []
  },
  {
   "cell_type": "code",
   "execution_count": null,
   "id": "fbc8ddd4-6a64-4fa7-8f70-5a1969b94e1c",
   "metadata": {},
   "outputs": [],
   "source": []
  },
  {
   "cell_type": "markdown",
   "id": "d8f51b18-2c3e-4de5-8b50-42341193ea9e",
   "metadata": {},
   "source": [
    "# Bytes and Bytes Array\n",
    "## Write a  Python program that checks if two bytes objects are equal."
   ]
  },
  {
   "cell_type": "code",
   "execution_count": 28,
   "id": "f765c491-493c-4da6-8f5d-6a9f7d041f8f",
   "metadata": {},
   "outputs": [],
   "source": [
    "name = b\"Pratik\""
   ]
  },
  {
   "cell_type": "code",
   "execution_count": 29,
   "id": "bff4a819-d45b-4f2a-8c97-a7ceb34c5846",
   "metadata": {},
   "outputs": [
    {
     "data": {
      "text/plain": [
       "b'Pra'"
      ]
     },
     "execution_count": 29,
     "metadata": {},
     "output_type": "execute_result"
    }
   ],
   "source": [
    "name[:3]"
   ]
  },
  {
   "cell_type": "code",
   "execution_count": 30,
   "id": "a1f350bf-f47a-4237-9fe3-1011aca1a1bf",
   "metadata": {},
   "outputs": [
    {
     "data": {
      "text/plain": [
       "False"
      ]
     },
     "execution_count": 30,
     "metadata": {},
     "output_type": "execute_result"
    }
   ],
   "source": [
    "def check(bytes_obj1, bytes_obj2):\n",
    "    return bytes_obj1 == bytes_obj2\n",
    "\n",
    "check(b\"Pratik\", b\"pratik\")"
   ]
  },
  {
   "cell_type": "code",
   "execution_count": 31,
   "id": "420c41a0-2ee4-49ca-a87b-050e31d9cad9",
   "metadata": {},
   "outputs": [
    {
     "data": {
      "text/plain": [
       "True"
      ]
     },
     "execution_count": 31,
     "metadata": {},
     "output_type": "execute_result"
    }
   ],
   "source": [
    "check(b\"Pratik\", b\"Pratik\")"
   ]
  },
  {
   "cell_type": "markdown",
   "id": "77ed903e-11e7-4f16-a948-f92a4562d8af",
   "metadata": {},
   "source": [
    "## Write a  Python program to create a bytearray from a given list of integers."
   ]
  },
  {
   "cell_type": "code",
   "execution_count": 32,
   "id": "5ffa66df-2448-4fdb-970e-d8bee5a0f097",
   "metadata": {},
   "outputs": [],
   "source": [
    "def lst_to_barray(lst):\n",
    "    return bytearray(lst)\n",
    "\n",
    "byte_arr = lst_to_barray([72, 123, 21, 108, 222, 67, 44, 38, 10])"
   ]
  },
  {
   "cell_type": "code",
   "execution_count": 33,
   "id": "c5133abf-cdf7-4415-b944-0db99a1c69be",
   "metadata": {},
   "outputs": [
    {
     "data": {
      "text/plain": [
       "bytearray(b'H{\\x15l\\xdeC,&\\n')"
      ]
     },
     "execution_count": 33,
     "metadata": {},
     "output_type": "execute_result"
    }
   ],
   "source": [
    "byte_arr"
   ]
  },
  {
   "cell_type": "code",
   "execution_count": 34,
   "id": "199ab19c-ec11-4cc4-a7ee-b3a73773e458",
   "metadata": {},
   "outputs": [
    {
     "name": "stdout",
     "output_type": "stream",
     "text": [
      "bytearray(b'H{\\x15l\\xdeC,&\\n')\n"
     ]
    }
   ],
   "source": [
    "print(byte_arr)"
   ]
  },
  {
   "cell_type": "code",
   "execution_count": 35,
   "id": "37e55b7a-975a-4e58-a487-523510ff13d3",
   "metadata": {},
   "outputs": [
    {
     "name": "stdout",
     "output_type": "stream",
     "text": [
      "72\n",
      "123\n",
      "21\n",
      "108\n",
      "222\n",
      "67\n",
      "44\n",
      "38\n",
      "10\n"
     ]
    }
   ],
   "source": [
    "for i in byte_arr:\n",
    "    print(i)"
   ]
  },
  {
   "cell_type": "code",
   "execution_count": null,
   "id": "a60aabf8-a25b-4c55-8f00-0451fc3e5f1d",
   "metadata": {},
   "outputs": [],
   "source": []
  },
  {
   "cell_type": "code",
   "execution_count": null,
   "id": "36883508-87a0-47a9-b598-bd73c44831b6",
   "metadata": {},
   "outputs": [],
   "source": []
  },
  {
   "cell_type": "markdown",
   "id": "ca9fa77a-7ce2-4070-b952-6f642453839b",
   "metadata": {},
   "source": [
    "# Memory View\n",
    "## Write a  Python program that creates a memory view on a bytes object and prints the length and first 8 bytes."
   ]
  },
  {
   "cell_type": "code",
   "execution_count": 36,
   "id": "8b7ec0ca-7c03-4a0b-b104-68901657a35d",
   "metadata": {},
   "outputs": [],
   "source": [
    "memory_view = memoryview(byte_arr)"
   ]
  },
  {
   "cell_type": "code",
   "execution_count": 37,
   "id": "9558d977-ff28-458c-a6bc-235cd23a691a",
   "metadata": {},
   "outputs": [
    {
     "name": "stdout",
     "output_type": "stream",
     "text": [
      "<memory at 0x000002069E08D0C0>\n"
     ]
    }
   ],
   "source": [
    "print(memory_view)"
   ]
  },
  {
   "cell_type": "code",
   "execution_count": 38,
   "id": "fd4c128b-182c-444c-a962-8d327d07e21a",
   "metadata": {},
   "outputs": [
    {
     "data": {
      "text/plain": [
       "10"
      ]
     },
     "execution_count": 38,
     "metadata": {},
     "output_type": "execute_result"
    }
   ],
   "source": [
    "memory_view[-1]"
   ]
  },
  {
   "cell_type": "code",
   "execution_count": 39,
   "id": "de4f41a7-6211-4bed-8859-6683c948a0d9",
   "metadata": {},
   "outputs": [
    {
     "data": {
      "text/plain": [
       "9"
      ]
     },
     "execution_count": 39,
     "metadata": {},
     "output_type": "execute_result"
    }
   ],
   "source": [
    "len(memory_view)"
   ]
  },
  {
   "cell_type": "code",
   "execution_count": 40,
   "id": "37b39f61-6b63-44c6-8a56-64d2a150fa7a",
   "metadata": {},
   "outputs": [
    {
     "data": {
      "text/plain": [
       "72"
      ]
     },
     "execution_count": 40,
     "metadata": {},
     "output_type": "execute_result"
    }
   ],
   "source": [
    "memory_view[0]"
   ]
  },
  {
   "cell_type": "code",
   "execution_count": 41,
   "id": "ca762bc5-7cd3-4ef0-b304-7f0101626618",
   "metadata": {},
   "outputs": [
    {
     "name": "stdout",
     "output_type": "stream",
     "text": [
      "Memory View Length: 17\n",
      "First 8 Bytes: <memory at 0x000002069E08CDC0>\n"
     ]
    }
   ],
   "source": [
    "try:\n",
    "    data = b\"Python Exercises!\"\n",
    "    # Create memory view on data\n",
    "    mem_data  = memoryview(data)        \n",
    "    print(\"Memory View Length:\", len(mem_data))\n",
    "    # Print first 8 bytes\n",
    "    print(\"First 8 Bytes:\", mem_data[:8])\n",
    "except Exception as e:\n",
    "    print(\"An error occurred:\", e)"
   ]
  },
  {
   "cell_type": "code",
   "execution_count": null,
   "id": "b56d3fe1-f357-4e57-bd21-b5c535251eb5",
   "metadata": {},
   "outputs": [],
   "source": []
  },
  {
   "cell_type": "code",
   "execution_count": null,
   "id": "80dce519-d47f-4619-afad-218ab258a6d5",
   "metadata": {},
   "outputs": [],
   "source": []
  },
  {
   "cell_type": "markdown",
   "id": "6d17fa5c-8ce6-4fad-afe2-a0a337d6b05e",
   "metadata": {},
   "source": [
    "# Frozenset\n",
    "## Write a  Python function that calculates the symmetric difference between two frozenset instances."
   ]
  },
  {
   "cell_type": "code",
   "execution_count": 45,
   "id": "db494ce1-db8a-4be0-810b-7834bdab2308",
   "metadata": {},
   "outputs": [
    {
     "data": {
      "text/plain": [
       "frozenset({1, 2, 3, 7, 8})"
      ]
     },
     "execution_count": 45,
     "metadata": {},
     "output_type": "execute_result"
    }
   ],
   "source": [
    "frozenset_a = frozenset([1, 2, 3, 4, 5, 6])\n",
    "frozenset_b = frozenset([4, 5, 6, 7, 8])\n",
    "\n",
    "frozenset_a.symmetric_difference(frozenset_b)"
   ]
  },
  {
   "cell_type": "code",
   "execution_count": 47,
   "id": "9f495c9d-9632-4dd9-9d5d-a814f1e49fe1",
   "metadata": {},
   "outputs": [
    {
     "name": "stdout",
     "output_type": "stream",
     "text": [
      "frozenset({1, 2, 3, 7, 8})\n"
     ]
    }
   ],
   "source": [
    "print(frozenset_b.symmetric_difference(frozenset_a))"
   ]
  },
  {
   "cell_type": "code",
   "execution_count": 48,
   "id": "d0b6ee81-1f88-48f3-a88d-a2c9e8354cb5",
   "metadata": {},
   "outputs": [
    {
     "name": "stdout",
     "output_type": "stream",
     "text": [
      "frozenset({1, 2, 3, 4, 5, 6})\n"
     ]
    }
   ],
   "source": [
    "print(frozenset_a)"
   ]
  },
  {
   "cell_type": "code",
   "execution_count": null,
   "id": "6bc03a78-c2d1-41d8-aee9-8e49aaf2d420",
   "metadata": {},
   "outputs": [],
   "source": []
  },
  {
   "cell_type": "code",
   "execution_count": null,
   "id": "e10ffb74-7a9d-4707-a912-6352924a494a",
   "metadata": {},
   "outputs": [],
   "source": []
  },
  {
   "cell_type": "markdown",
   "id": "bf8d2c88-1c1e-4182-87b2-c12e43f2a087",
   "metadata": {},
   "source": [
    "# Namedtuple\n",
    "## Write a Python program that creates a dictionary where keys are food names and prices are instances of the Food named tuple."
   ]
  },
  {
   "cell_type": "code",
   "execution_count": 49,
   "id": "f0d3ae41-f329-4e28-b5e1-b4b17fffdfa1",
   "metadata": {},
   "outputs": [],
   "source": [
    "from collections import namedtuple\n",
    "food = namedtuple('food', ['name', 'price'])"
   ]
  },
  {
   "cell_type": "code",
   "execution_count": 50,
   "id": "5a4a6008-de3f-4d45-954b-0e2b08c1610d",
   "metadata": {},
   "outputs": [],
   "source": [
    "f1 = food('Pizza', 150)"
   ]
  },
  {
   "cell_type": "code",
   "execution_count": 51,
   "id": "e1494218-555c-42d9-8357-b11f8dddd307",
   "metadata": {},
   "outputs": [],
   "source": [
    "f2 = food('Sandwich', 100)\n",
    "f3 = food('Burger', 120)"
   ]
  },
  {
   "cell_type": "code",
   "execution_count": 53,
   "id": "bb61f83f-91fb-41aa-baad-19e0ecc1234d",
   "metadata": {},
   "outputs": [],
   "source": [
    "food_dic = { f1.name : f1, f2.name : f2, f3.name : f3}"
   ]
  },
  {
   "cell_type": "code",
   "execution_count": 54,
   "id": "f54a2439-48c7-4a02-b5a3-ceeb03e1cdab",
   "metadata": {},
   "outputs": [
    {
     "data": {
      "text/plain": [
       "{'Pizza': food(name='Pizza', price=150),\n",
       " 'Sandwich': food(name='Sandwich', price=100),\n",
       " 'Burger': food(name='Burger', price=120)}"
      ]
     },
     "execution_count": 54,
     "metadata": {},
     "output_type": "execute_result"
    }
   ],
   "source": [
    "food_dic"
   ]
  },
  {
   "cell_type": "code",
   "execution_count": null,
   "id": "8325585d-ef25-40c5-a45b-d05df948a9bc",
   "metadata": {},
   "outputs": [],
   "source": []
  },
  {
   "cell_type": "code",
   "execution_count": null,
   "id": "cf4039c6-c141-4229-9376-a835f3ac22c2",
   "metadata": {},
   "outputs": [],
   "source": []
  },
  {
   "cell_type": "markdown",
   "id": "4369b2ac-9712-4ac9-9c69-39ba0fb38b5a",
   "metadata": {},
   "source": [
    "# OrderedDict\n",
    "## Write a Python program that creates an OrderedDict and adds some items. Print the OrderedDict contents."
   ]
  },
  {
   "cell_type": "code",
   "execution_count": 56,
   "id": "a01c4714-8bec-469f-b351-5774497331a9",
   "metadata": {},
   "outputs": [
    {
     "name": "stdout",
     "output_type": "stream",
     "text": [
      "There are 15 Laptop in Stock \n",
      "There are 40 Desktop in Stock \n",
      "There are 50 Mobile in Stock \n"
     ]
    }
   ],
   "source": [
    "from collections import OrderedDict\n",
    "\n",
    "ordered_dict = OrderedDict()\n",
    "ordered_dict['Laptop'] = 15\n",
    "ordered_dict['Desktop'] = 40\n",
    "ordered_dict['Mobile'] = 50\n",
    "\n",
    "for item, quantity in ordered_dict.items():\n",
    "    print(f\"There are {quantity} {item} in Stock \")"
   ]
  },
  {
   "cell_type": "code",
   "execution_count": null,
   "id": "a69859e5-854c-4e18-9845-c12247e9a3b1",
   "metadata": {},
   "outputs": [],
   "source": []
  },
  {
   "cell_type": "code",
   "execution_count": null,
   "id": "de06995b-a8aa-40ff-a848-aee019ae18d2",
   "metadata": {},
   "outputs": [],
   "source": []
  },
  {
   "cell_type": "markdown",
   "id": "3379d628-187c-4236-8250-9a30ca6cc4c0",
   "metadata": {},
   "source": [
    "# Counter\n",
    "## Write a Python program that creates a counter of the vowels in the word \"Python Exercises\"."
   ]
  },
  {
   "cell_type": "code",
   "execution_count": 64,
   "id": "56fc1eb1-cff1-4d60-ad3c-b1897c388670",
   "metadata": {},
   "outputs": [],
   "source": [
    "from collections import Counter\n",
    "\n",
    "word = \"Python Exercises\"\n",
    "vowels = \"aeiou\"  # List of vowels\n",
    "\n",
    "vowel_ctr = Counter(c for c in word.lower() if c in vowels)"
   ]
  },
  {
   "cell_type": "code",
   "execution_count": 65,
   "id": "5dab36c2-e026-4d20-8381-7431ffbdced8",
   "metadata": {},
   "outputs": [
    {
     "data": {
      "text/plain": [
       "Counter({'e': 3, 'o': 1, 'i': 1})"
      ]
     },
     "execution_count": 65,
     "metadata": {},
     "output_type": "execute_result"
    }
   ],
   "source": [
    "vowel_ctr"
   ]
  },
  {
   "cell_type": "markdown",
   "id": "d4ca8e9d-3d05-4e66-9f7e-aec09642dffe",
   "metadata": {},
   "source": [
    "## Write a function that takes two 'Counter' objects and returns their sum."
   ]
  },
  {
   "cell_type": "code",
   "execution_count": 66,
   "id": "476a2ba1-4939-4156-ba5c-1b1b0b091368",
   "metadata": {},
   "outputs": [
    {
     "data": {
      "text/plain": [
       "Counter({'item2': 54, 'item3': 32, 'item1': 22})"
      ]
     },
     "execution_count": 66,
     "metadata": {},
     "output_type": "execute_result"
    }
   ],
   "source": [
    "ctr1 = Counter({'item1': 10, 'item2': 34, 'item3': 22})\n",
    "ctr2 = Counter({'item1': 12, 'item2': 20, 'item3': 10})\n",
    "ctr1 + ctr2"
   ]
  },
  {
   "cell_type": "code",
   "execution_count": null,
   "id": "4ff8373a-9495-4715-8034-f2006213f8b6",
   "metadata": {},
   "outputs": [],
   "source": []
  },
  {
   "cell_type": "code",
   "execution_count": null,
   "id": "0e2c916f-3513-43a9-9536-59861c9571dd",
   "metadata": {},
   "outputs": [],
   "source": []
  },
  {
   "cell_type": "markdown",
   "id": "25130c69-2ff1-4fab-80cb-f7d52cc9ae24",
   "metadata": {},
   "source": [
    "# Ellipsis\n",
    "## Write a Python function that takes a function as an argument and calls it with any number of arguments."
   ]
  },
  {
   "cell_type": "code",
   "execution_count": 67,
   "id": "25aa4827-1a75-442b-8562-5e0a89d24559",
   "metadata": {},
   "outputs": [
    {
     "name": "stdout",
     "output_type": "stream",
     "text": [
      "Erich, Ellipsis!\n"
     ]
    }
   ],
   "source": [
    "def call_function(func, *args, **kwargs):\n",
    "    return func(*args, **kwargs)\n",
    "    \n",
    "def message(name, text=\"Good Evening\"):\n",
    "    return f\"{name}, {text}!\"\n",
    " \n",
    "result = call_function(message, \"Erich\", text = ...)\n",
    "print(result)  "
   ]
  },
  {
   "cell_type": "code",
   "execution_count": null,
   "id": "3453f61b-ee33-432e-8c86-76448da2ad85",
   "metadata": {},
   "outputs": [],
   "source": []
  },
  {
   "cell_type": "code",
   "execution_count": null,
   "id": "a0f9bea9-c513-45b8-9f3e-89f33c5d5557",
   "metadata": {},
   "outputs": [],
   "source": []
  }
 ],
 "metadata": {
  "kernelspec": {
   "display_name": "Python 3 (ipykernel)",
   "language": "python",
   "name": "python3"
  },
  "language_info": {
   "codemirror_mode": {
    "name": "ipython",
    "version": 3
   },
   "file_extension": ".py",
   "mimetype": "text/x-python",
   "name": "python",
   "nbconvert_exporter": "python",
   "pygments_lexer": "ipython3",
   "version": "3.12.7"
  }
 },
 "nbformat": 4,
 "nbformat_minor": 5
}
