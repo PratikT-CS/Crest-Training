{
 "cells": [
  {
   "cell_type": "markdown",
   "id": "32ad48c5-35a8-4f54-8b1d-256afc158ea0",
   "metadata": {},
   "source": [
    "# File I/O\n",
    "## Write a  Python program to write a list content to a file."
   ]
  },
  {
   "cell_type": "code",
   "execution_count": 3,
   "id": "5c1d6fc7-066e-43c1-928c-137836a5f0ed",
   "metadata": {},
   "outputs": [
    {
     "name": "stdout",
     "output_type": "stream",
     "text": [
      "Red\n",
      "Green\n",
      "White\n",
      "Black\n",
      "Pink\n",
      "Yellow\n",
      "\n"
     ]
    }
   ],
   "source": [
    "color = ['Red', 'Green', 'White', 'Black', 'Pink', 'Yellow']\n",
    "with open('text.txt', \"w\") as myfile:\n",
    "        for c in color:\n",
    "                myfile.write(\"%s\\n\" % c)\n",
    "\n",
    "content = open('text.txt')\n",
    "print(content.read())"
   ]
  },
  {
   "cell_type": "markdown",
   "id": "5f21e26d-0eb5-4637-8fc4-f472fac6efef",
   "metadata": {},
   "source": [
    "## Write a  python program to  find the longest words."
   ]
  },
  {
   "cell_type": "code",
   "execution_count": 8,
   "id": "330104a8-3e1d-4a33-86e6-492a7cca19bc",
   "metadata": {},
   "outputs": [
    {
     "data": {
      "text/plain": [
       "['general-purpose,', 'object-oriented,']"
      ]
     },
     "execution_count": 8,
     "metadata": {},
     "output_type": "execute_result"
    }
   ],
   "source": [
    "with open(\"content.txt\", 'r') as infile:\n",
    "    words = infile.read().split()\n",
    "max_len = len(max(words, key=len))\n",
    "[word for word in words if len(word) == max_len]"
   ]
  },
  {
   "cell_type": "markdown",
   "id": "ed1b7c65-8c39-4213-bfaf-129fc69d8336",
   "metadata": {},
   "source": [
    "# CSV Read, Write\n",
    "## Write a  Python program to create an object for  writing and iterate over the rows to print the values."
   ]
  },
  {
   "cell_type": "code",
   "execution_count": 11,
   "id": "1067404e-aeac-4f91-a0c1-48919fd88379",
   "metadata": {},
   "outputs": [
    {
     "name": "stdout",
     "output_type": "stream",
     "text": [
      "id1,id2,date\n",
      "\n",
      "1,a,01/01/2025\n",
      "\n",
      "2,b,01/02/2025\n",
      "\n",
      "3,c,01/03/2025\n",
      "\n",
      "\n"
     ]
    }
   ],
   "source": [
    "import csv\n",
    "import sys\n",
    "with open('temp.csv', 'wt') as f:\n",
    "    writer = csv.writer(f)\n",
    "    writer.writerow(('id1', 'id2', 'date'))\n",
    "    for i in range(3):\n",
    "        row = (\n",
    "            i + 1,\n",
    "            chr(ord('a') + i),\n",
    "            '01/{:02d}/2025'.format(i + 1),)\n",
    "        writer.writerow(row)\n",
    "print(open('temp.csv', 'rt').read())"
   ]
  },
  {
   "cell_type": "markdown",
   "id": "3b07237f-c59b-49fb-9c01-8804c1909cca",
   "metadata": {},
   "source": [
    "## Write a  Python program to read specific columns of a given CSV file and print the content of the columns."
   ]
  },
  {
   "cell_type": "code",
   "execution_count": 18,
   "id": "78ff69d0-2a5c-4df3-85eb-f01b73a7024d",
   "metadata": {},
   "outputs": [],
   "source": [
    "with open(\"data.csv\", \"wt\") as f:\n",
    "    writer = csv.writer(f)\n",
    "    data = [\n",
    "        [\"department_id\", \"department_name\", \"manager_id\", \"location_id\"],\n",
    "        [10, \"Administration\", 200, 1700],\n",
    "        [20, \"Marketing\", 201, 1800],\n",
    "        [30, \"Purchasing\", 114, 1700],\n",
    "        [40, \"Human Resources\", 203, 2400],\n",
    "        [50, \"Shipping\", 121, 1500],\n",
    "        [60, \"IT\", 103, 1400],\n",
    "        [70, \"Public Relations\", 204, 2700],\n",
    "        [80, \"Sales\", 145, 2500],\n",
    "        [90, \"Executive\", 100, 1700],\n",
    "        [100, \"Finance\", 108, 1700],\n",
    "        [110, \"Accounting\", 205, 1700],\n",
    "        [120, \"Treasury\", \"\", 1700],\n",
    "        [130, \"Corporate Tax\", \"\", 1700],\n",
    "        [140, \"Control And Credit\", \"\", 1700],\n",
    "        [150, \"Shareholder Services\", \"\", 1700],\n",
    "        [160, \"Benefits\", \"\", 1700],\n",
    "        [170, \"Manufacturing\", \"\", 1700],\n",
    "        [180, \"Construction\", \"\", 1700],\n",
    "        [190, \"Contracting\", \"\", 1700],\n",
    "        [200, \"Operations\", \"\", 1700],\n",
    "        [210, \"IT Support\", \"\", 1700],\n",
    "        [220, \"NOC\", \"\", 1700],\n",
    "        [230, \"IT Helpdesk\", \"\", 1700],\n",
    "        [240, \"Government Sales\", \"\", 1700],\n",
    "        [250, \"Retail Sales\", \"\", 1700],\n",
    "        [260, \"Recruiting\", \"\", 1700],\n",
    "        [270, \"Payroll\", \"\", 1700],\n",
    "    ]\n",
    "    writer.writerows(data)"
   ]
  },
  {
   "cell_type": "code",
   "execution_count": 19,
   "id": "0bfc5a4b-7e0e-42ff-8145-f33e3419be81",
   "metadata": {},
   "outputs": [
    {
     "name": "stdout",
     "output_type": "stream",
     "text": [
      "10 Administration\n",
      "20 Marketing\n",
      "30 Purchasing\n",
      "40 Human Resources\n",
      "50 Shipping\n",
      "60 IT\n",
      "70 Public Relations\n",
      "80 Sales\n",
      "90 Executive\n",
      "100 Finance\n",
      "110 Accounting\n",
      "120 Treasury\n",
      "130 Corporate Tax\n",
      "140 Control And Credit\n",
      "150 Shareholder Services\n",
      "160 Benefits\n",
      "170 Manufacturing\n",
      "180 Construction\n",
      "190 Contracting\n",
      "200 Operations\n",
      "210 IT Support\n",
      "220 NOC\n",
      "230 IT Helpdesk\n",
      "240 Government Sales\n",
      "250 Retail Sales\n",
      "260 Recruiting\n",
      "270 Payroll\n"
     ]
    }
   ],
   "source": [
    "with open('data.csv', newline='') as csvfile:\n",
    " data = csv.DictReader(csvfile)\n",
    " for row in data:\n",
    "   print(row['department_id'], row['department_name'])"
   ]
  },
  {
   "cell_type": "code",
   "execution_count": null,
   "id": "fc5332a1-ac5f-49fa-9a0e-59dc8794cf2d",
   "metadata": {},
   "outputs": [],
   "source": []
  }
 ],
 "metadata": {
  "kernelspec": {
   "display_name": "Python 3 (ipykernel)",
   "language": "python",
   "name": "python3"
  },
  "language_info": {
   "codemirror_mode": {
    "name": "ipython",
    "version": 3
   },
   "file_extension": ".py",
   "mimetype": "text/x-python",
   "name": "python",
   "nbconvert_exporter": "python",
   "pygments_lexer": "ipython3",
   "version": "3.12.7"
  }
 },
 "nbformat": 4,
 "nbformat_minor": 5
}
