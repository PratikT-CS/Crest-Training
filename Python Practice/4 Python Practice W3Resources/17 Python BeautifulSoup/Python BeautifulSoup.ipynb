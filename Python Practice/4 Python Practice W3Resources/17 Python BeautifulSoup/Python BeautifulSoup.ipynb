{
 "cells": [
  {
   "cell_type": "markdown",
   "id": "40547329-58aa-438d-ad91-736468d01cb8",
   "metadata": {},
   "source": [
    "# Write a  Python program to find all the h2 tags and list the first four from the webpage  python.org."
   ]
  },
  {
   "cell_type": "code",
   "execution_count": 7,
   "id": "2470c980-f467-4355-8f8c-8ee380978ee1",
   "metadata": {},
   "outputs": [
    {
     "data": {
      "text/plain": [
       "[<h2 class=\"widget-title\"><span aria-hidden=\"true\" class=\"icon-get-started\"></span>Get Started</h2>,\n",
       " <h2 class=\"widget-title\"><span aria-hidden=\"true\" class=\"icon-download\"></span>Download</h2>,\n",
       " <h2 class=\"widget-title\"><span aria-hidden=\"true\" class=\"icon-documentation\"></span>Docs</h2>,\n",
       " <h2 class=\"widget-title\"><span aria-hidden=\"true\" class=\"icon-jobs\"></span>Jobs</h2>]"
      ]
     },
     "execution_count": 7,
     "metadata": {},
     "output_type": "execute_result"
    }
   ],
   "source": [
    "from bs4 import BeautifulSoup\n",
    "import requests\n",
    "\n",
    "url = 'https://www.python.org/'\n",
    "reqs = requests.get(url)\n",
    "\n",
    "soup = BeautifulSoup(reqs.text, 'lxml')\n",
    "\n",
    "soup.find_all('h2')[0:4]"
   ]
  },
  {
   "cell_type": "code",
   "execution_count": null,
   "id": "b27bfc74-c8b2-436a-89d1-f649f494e541",
   "metadata": {},
   "outputs": [],
   "source": []
  },
  {
   "cell_type": "code",
   "execution_count": null,
   "id": "39e1d2a6-8e7e-439a-b811-4edf18845bbe",
   "metadata": {},
   "outputs": [],
   "source": []
  },
  {
   "cell_type": "code",
   "execution_count": 9,
   "id": "8dc464f4-af42-4fe0-b4ed-2b8b7d3c2ab2",
   "metadata": {},
   "outputs": [
    {
     "data": {
      "text/plain": [
       "'Welcome to Python.org'"
      ]
     },
     "execution_count": 9,
     "metadata": {},
     "output_type": "execute_result"
    }
   ],
   "source": [
    "soup.find(\"title\").text"
   ]
  },
  {
   "cell_type": "code",
   "execution_count": 19,
   "id": "23828503-374b-40c2-acd5-1ccbfe4e8791",
   "metadata": {},
   "outputs": [
    {
     "data": {
      "text/plain": [
       "[<a href=\"https://status.python.org/\">Status <span class=\"python-status-indicator-default\" id=\"python-status-indicator\"></span></a>,\n",
       " <a href=\"/psf-landing/\">Python Software Foundation</a>,\n",
       " <a href=\"/about/legal/\">Legal Statements</a>]"
      ]
     },
     "execution_count": 19,
     "metadata": {},
     "output_type": "execute_result"
    }
   ],
   "source": [
    "soup.find_all('a')[-4:-1]"
   ]
  },
  {
   "cell_type": "code",
   "execution_count": null,
   "id": "9349c4c0-d4d9-492f-bbc0-de1019382798",
   "metadata": {},
   "outputs": [],
   "source": []
  }
 ],
 "metadata": {
  "kernelspec": {
   "display_name": "Python 3 (ipykernel)",
   "language": "python",
   "name": "python3"
  },
  "language_info": {
   "codemirror_mode": {
    "name": "ipython",
    "version": 3
   },
   "file_extension": ".py",
   "mimetype": "text/x-python",
   "name": "python",
   "nbconvert_exporter": "python",
   "pygments_lexer": "ipython3",
   "version": "3.12.7"
  }
 },
 "nbformat": 4,
 "nbformat_minor": 5
}
