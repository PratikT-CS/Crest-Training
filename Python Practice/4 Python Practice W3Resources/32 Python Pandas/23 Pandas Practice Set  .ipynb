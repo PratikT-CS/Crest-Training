{
 "cells": [
  {
   "cell_type": "markdown",
   "id": "6573c295-07da-4854-8ea6-21f8b642bd98",
   "metadata": {},
   "source": [
    "# Write a Pandas program to remove the second column of the  diamonds Dataframe."
   ]
  },
  {
   "cell_type": "code",
   "execution_count": 1,
   "id": "b1e8e4b6-7d93-48e6-be68-47236b451d35",
   "metadata": {},
   "outputs": [
    {
     "name": "stdout",
     "output_type": "stream",
     "text": [
      "Original Dataframe:\n",
      "   carat      cut color clarity  depth  table  price     x     y     z\n",
      "0   0.23    Ideal     E     SI2   61.5   55.0    326  3.95  3.98  2.43\n",
      "1   0.21  Premium     E     SI1   59.8   61.0    326  3.89  3.84  2.31\n",
      "2   0.23     Good     E     VS1   56.9   65.0    327  4.05  4.07  2.31\n",
      "3   0.29  Premium     I     VS2   62.4   58.0    334  4.20  4.23  2.63\n",
      "4   0.31     Good     J     SI2   63.3   58.0    335  4.34  4.35  2.75\n",
      "\n",
      "Remove the second column of the said Dataframe:\n",
      "   carat color clarity  depth  table  price     x     y     z\n",
      "0   0.23     E     SI2   61.5   55.0    326  3.95  3.98  2.43\n",
      "1   0.21     E     SI1   59.8   61.0    326  3.89  3.84  2.31\n",
      "2   0.23     E     VS1   56.9   65.0    327  4.05  4.07  2.31\n",
      "3   0.29     I     VS2   62.4   58.0    334  4.20  4.23  2.63\n",
      "4   0.31     J     SI2   63.3   58.0    335  4.34  4.35  2.75\n"
     ]
    }
   ],
   "source": [
    "import pandas as pd\n",
    "diamonds = pd.read_csv('https://raw.githubusercontent.com/mwaskom/seaborn-data/master/diamonds.csv') \n",
    "print(\"Original Dataframe:\")\n",
    "print(diamonds.head())\n",
    "print(\"\\nRemove the second column of the said Dataframe:\")\n",
    "diamonds.drop('cut', axis=1, inplace=True)\n",
    "print(diamonds.head())"
   ]
  },
  {
   "cell_type": "code",
   "execution_count": null,
   "id": "64719fa1-216c-43d1-8c03-628d43544278",
   "metadata": {},
   "outputs": [],
   "source": []
  },
  {
   "cell_type": "code",
   "execution_count": null,
   "id": "48a160c8-9d63-451e-947c-79433e11e440",
   "metadata": {},
   "outputs": [],
   "source": []
  },
  {
   "cell_type": "markdown",
   "id": "2dc64941-424d-4e0b-b27a-225e5800a0f4",
   "metadata": {},
   "source": [
    "# Write a Pandas program to read rows in which the 'cut' is 'Premium', column 'color' of diamonds DataFrame."
   ]
  },
  {
   "cell_type": "code",
   "execution_count": 2,
   "id": "17d8bbeb-88bd-4fb3-8c0f-48c6814ffb3c",
   "metadata": {},
   "outputs": [
    {
     "name": "stdout",
     "output_type": "stream",
     "text": [
      "Original Dataframe:\n",
      "   carat      cut color clarity  depth  table  price     x     y     z\n",
      "0   0.23    Ideal     E     SI2   61.5   55.0    326  3.95  3.98  2.43\n",
      "1   0.21  Premium     E     SI1   59.8   61.0    326  3.89  3.84  2.31\n",
      "2   0.23     Good     E     VS1   56.9   65.0    327  4.05  4.07  2.31\n",
      "3   0.29  Premium     I     VS2   62.4   58.0    334  4.20  4.23  2.63\n",
      "4   0.31     Good     J     SI2   63.3   58.0    335  4.34  4.35  2.75\n",
      "\n",
      "Rows in which the ‘cut’  is ‘Premium’, column ‘color’:\n",
      "1        E\n",
      "3        I\n",
      "12       F\n",
      "14       E\n",
      "15       E\n",
      "        ..\n",
      "53928    E\n",
      "53930    E\n",
      "53931    F\n",
      "53934    D\n",
      "53938    H\n",
      "Name: color, Length: 13791, dtype: object\n"
     ]
    }
   ],
   "source": [
    "import pandas as pd\n",
    "diamonds = pd.read_csv('https://raw.githubusercontent.com/mwaskom/seaborn-data/master/diamonds.csv')\n",
    "print(\"Original Dataframe:\")\n",
    "print(diamonds.head())\n",
    "print(\"\\nRows in which the ‘cut’  is ‘Premium’, column ‘color’:\")\n",
    "print(diamonds.loc[diamonds.cut=='Premium', 'color'])"
   ]
  },
  {
   "cell_type": "code",
   "execution_count": null,
   "id": "bc03d5e3-4de6-4218-950a-e5481371f043",
   "metadata": {},
   "outputs": [],
   "source": []
  }
 ],
 "metadata": {
  "kernelspec": {
   "display_name": "Python 3 (ipykernel)",
   "language": "python",
   "name": "python3"
  },
  "language_info": {
   "codemirror_mode": {
    "name": "ipython",
    "version": 3
   },
   "file_extension": ".py",
   "mimetype": "text/x-python",
   "name": "python",
   "nbconvert_exporter": "python",
   "pygments_lexer": "ipython3",
   "version": "3.12.7"
  }
 },
 "nbformat": 4,
 "nbformat_minor": 5
}
