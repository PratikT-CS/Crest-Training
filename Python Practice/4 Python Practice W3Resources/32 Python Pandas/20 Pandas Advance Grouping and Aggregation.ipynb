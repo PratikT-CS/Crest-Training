{
 "cells": [
  {
   "cell_type": "markdown",
   "id": "52c18d92-2c30-4608-b4f0-76c6e7e784a8",
   "metadata": {},
   "source": [
    "# Applying different functions to different columns with GroupBy:\n",
    "# Write a Pandas program that applies different functions to different columns in Pandas GroupBy for tailored data analysis."
   ]
  },
  {
   "cell_type": "code",
   "execution_count": 2,
   "id": "2446ab0c-1704-4924-833a-94beb79729a6",
   "metadata": {},
   "outputs": [
    {
     "name": "stdout",
     "output_type": "stream",
     "text": [
      "Sample DataFrame:\n",
      "  Category  Value1  Value2\n",
      "0        A      10     100\n",
      "1        A      20     200\n",
      "2        B      30     300\n",
      "3        B      40     400\n",
      "4        C      50     500\n",
      "5        C      60     600\n",
      "\n",
      "Group by 'Category' and apply different functions:\n",
      "          Value1  Value2\n",
      "Category                \n",
      "A           15.0     300\n",
      "B           35.0     700\n",
      "C           55.0    1100\n"
     ]
    }
   ],
   "source": [
    "import pandas as pd\n",
    "\n",
    "data = {'Category': ['A', 'A', 'B', 'B', 'C', 'C'],\n",
    "        'Value1': [10, 20, 30, 40, 50, 60],\n",
    "        'Value2': [100, 200, 300, 400, 500, 600]}\n",
    "\n",
    "df = pd.DataFrame(data)\n",
    "print(\"Sample DataFrame:\")\n",
    "print(df)\n",
    "\n",
    "print(\"\\nGroup by 'Category' and apply different functions:\")\n",
    "grouped = df.groupby('Category').agg({'Value1': 'mean', 'Value2': 'sum'})\n",
    "print(grouped)"
   ]
  },
  {
   "cell_type": "code",
   "execution_count": null,
   "id": "7737c9cf-03aa-480f-b60b-7abce33fa5af",
   "metadata": {},
   "outputs": [],
   "source": []
  }
 ],
 "metadata": {
  "kernelspec": {
   "display_name": "Python 3 (ipykernel)",
   "language": "python",
   "name": "python3"
  },
  "language_info": {
   "codemirror_mode": {
    "name": "ipython",
    "version": 3
   },
   "file_extension": ".py",
   "mimetype": "text/x-python",
   "name": "python",
   "nbconvert_exporter": "python",
   "pygments_lexer": "ipython3",
   "version": "3.12.7"
  }
 },
 "nbformat": 4,
 "nbformat_minor": 5
}
