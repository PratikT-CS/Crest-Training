{
 "cells": [
  {
   "cell_type": "code",
   "execution_count": 1,
   "id": "5f5f4fda-2c6a-44bf-be6f-10fd30c6e4aa",
   "metadata": {},
   "outputs": [],
   "source": [
    "import pandas as pd\n",
    "import numpy as np"
   ]
  },
  {
   "cell_type": "code",
   "execution_count": 4,
   "id": "8d6216e4-32d6-4c6a-9f42-06dbc4ffe7e4",
   "metadata": {},
   "outputs": [
    {
     "data": {
      "text/plain": [
       "9.9852785804776"
      ]
     },
     "execution_count": 4,
     "metadata": {},
     "output_type": "execute_result"
    }
   ],
   "source": [
    "np.mean(num_series)"
   ]
  },
  {
   "cell_type": "code",
   "execution_count": 6,
   "id": "d7294bd3-da5a-4dd5-b3ba-059fbfbb643c",
   "metadata": {},
   "outputs": [
    {
     "data": {
      "text/plain": [
       "10.233537051661546"
      ]
     },
     "execution_count": 6,
     "metadata": {},
     "output_type": "execute_result"
    }
   ],
   "source": [
    "np.median(num_series)"
   ]
  },
  {
   "cell_type": "code",
   "execution_count": 7,
   "id": "a348d35a-02ff-4854-a8d2-12060bf3ca12",
   "metadata": {},
   "outputs": [
    {
     "data": {
      "text/plain": [
       "count    20.000000\n",
       "mean      9.985279\n",
       "std       3.145584\n",
       "min       3.000938\n",
       "25%       8.094639\n",
       "50%      10.233537\n",
       "75%      12.215377\n",
       "max      14.612143\n",
       "dtype: float64"
      ]
     },
     "execution_count": 7,
     "metadata": {},
     "output_type": "execute_result"
    }
   ],
   "source": [
    "num_series.describe()"
   ]
  },
  {
   "cell_type": "code",
   "execution_count": null,
   "id": "fc97f871-a6d0-48d1-adfa-fe150ebe6625",
   "metadata": {},
   "outputs": [],
   "source": []
  },
  {
   "cell_type": "code",
   "execution_count": null,
   "id": "cdb714b5-7f79-4e84-a70f-9132278e3ed6",
   "metadata": {},
   "outputs": [],
   "source": []
  },
  {
   "cell_type": "code",
   "execution_count": 8,
   "id": "5bc1a367-4a29-4911-8b63-786e8e1c1461",
   "metadata": {},
   "outputs": [
    {
     "name": "stdout",
     "output_type": "stream",
     "text": [
      "1837030265872\n"
     ]
    }
   ],
   "source": [
    "name = \"Pratik\"\n",
    "print(id(name))"
   ]
  },
  {
   "cell_type": "code",
   "execution_count": 9,
   "id": "60bc6e4a-1891-4c9a-9187-54cbecafb1c9",
   "metadata": {},
   "outputs": [
    {
     "name": "stdout",
     "output_type": "stream",
     "text": [
      "1837030262128\n"
     ]
    }
   ],
   "source": [
    "name = \"Crest\"\n",
    "print(id(name))"
   ]
  },
  {
   "cell_type": "code",
   "execution_count": null,
   "id": "9225773a-ce18-4152-83c2-4206ecd2e8c4",
   "metadata": {},
   "outputs": [],
   "source": []
  },
  {
   "cell_type": "code",
   "execution_count": null,
   "id": "57046a69-209a-4224-b180-0a62f4d58c5f",
   "metadata": {},
   "outputs": [],
   "source": []
  },
  {
   "cell_type": "code",
   "execution_count": 13,
   "id": "34ca9a12-edbb-419b-aa83-dd2e96ebefda",
   "metadata": {},
   "outputs": [
    {
     "name": "stdout",
     "output_type": "stream",
     "text": [
      "0       9.005630\n",
      "1     129.293310\n",
      "2     213.514729\n",
      "3      80.824700\n",
      "4     193.913511\n",
      "5     145.368244\n",
      "6     118.477101\n",
      "7      32.716417\n",
      "8      85.414872\n",
      "9     121.440527\n",
      "10     66.714461\n",
      "11    137.842955\n",
      "12     58.761727\n",
      "13    176.023592\n",
      "14    161.058517\n",
      "15     91.821536\n",
      "16     62.013711\n",
      "17    199.344205\n",
      "18     68.020555\n",
      "19     30.544711\n",
      "dtype: float64\n"
     ]
    }
   ],
   "source": [
    "def square(x):\n",
    "    return x ** 2\n",
    "\n",
    "# can apply custom function to each element of series\n",
    "squared_series = num_series.apply(square)\n",
    "print(squared_series)"
   ]
  },
  {
   "cell_type": "code",
   "execution_count": null,
   "id": "84d6db93-4e0c-4a13-80e5-174b5f99d9c9",
   "metadata": {},
   "outputs": [],
   "source": []
  },
  {
   "cell_type": "code",
   "execution_count": 14,
   "id": "47000b47-d3b0-405c-80f5-2d04073ed219",
   "metadata": {},
   "outputs": [
    {
     "name": "stdout",
     "output_type": "stream",
     "text": [
      "0    False\n",
      "1     True\n",
      "2    False\n",
      "3     True\n",
      "4    False\n",
      "dtype: bool\n"
     ]
    }
   ],
   "source": [
    "series = pd.Series([10, None, 30, None, 50])\n",
    "\n",
    "print(series.isnull())"
   ]
  },
  {
   "cell_type": "code",
   "execution_count": null,
   "id": "f776cbcd-811b-485a-ba3e-87d6f71f6eb6",
   "metadata": {},
   "outputs": [],
   "source": []
  },
  {
   "cell_type": "code",
   "execution_count": null,
   "id": "13d08392-d4e2-4dbd-b20f-648686f2c599",
   "metadata": {},
   "outputs": [],
   "source": []
  },
  {
   "cell_type": "markdown",
   "id": "c2ac4866-e420-4af8-9a85-e16b9ec372d0",
   "metadata": {},
   "source": [
    "# Write a  Pandas program to compute the minimum, 25th percentile, median, 75th, and maximum of a given series."
   ]
  },
  {
   "cell_type": "code",
   "execution_count": 3,
   "id": "414c0fc7-e0f3-4cee-9426-81a530579da5",
   "metadata": {},
   "outputs": [
    {
     "name": "stdout",
     "output_type": "stream",
     "text": [
      "0      3.000938\n",
      "1     11.370722\n",
      "2     14.612143\n",
      "3      8.990256\n",
      "4     13.925283\n",
      "5     12.056875\n",
      "6     10.884719\n",
      "7      5.719827\n",
      "8      9.242017\n",
      "9     11.020006\n",
      "10     8.167892\n",
      "11    11.740654\n",
      "12     7.665620\n",
      "13    13.267388\n",
      "14    12.690883\n",
      "15     9.582355\n",
      "16     7.874878\n",
      "17    14.118931\n",
      "18     8.247458\n",
      "19     5.526727\n",
      "dtype: float64\n",
      "[ 3.00093811  8.09463867 10.23353705 12.21537733 14.61214321]\n"
     ]
    }
   ],
   "source": [
    "num_state = np.random.RandomState(100)\n",
    "num_series = pd.Series(num_state.normal(10, 4, 20))\n",
    "\n",
    "print(num_series)\n",
    "\n",
    "result = np.percentile(num_series, q=[0, 25, 50, 75, 100])\n",
    "\n",
    "print(result)"
   ]
  },
  {
   "cell_type": "code",
   "execution_count": null,
   "id": "ed3e2732-6b58-44c3-9665-5d8b340acfc1",
   "metadata": {},
   "outputs": [],
   "source": []
  },
  {
   "cell_type": "code",
   "execution_count": null,
   "id": "66b8e4b8-0601-4693-8aae-a90ed58a0550",
   "metadata": {},
   "outputs": [],
   "source": []
  },
  {
   "cell_type": "code",
   "execution_count": 17,
   "id": "012804b1-e16e-4667-976e-733b8e162be1",
   "metadata": {},
   "outputs": [
    {
     "name": "stdout",
     "output_type": "stream",
     "text": [
      "c    3\n",
      "     3\n",
      "d    3\n",
      "a    2\n",
      "b    2\n",
      "e    2\n",
      "f    2\n",
      "i    1\n",
      "Name: count, dtype: int64\n",
      "Original series:\n",
      "abc def abcdef icd\n",
      "abcidefiabcdefiicd\n"
     ]
    }
   ],
   "source": [
    "str1 = 'abc def abcdef icd'\n",
    "\n",
    "ser = pd.Series(list(str1))\n",
    "\n",
    "element_freq = ser.value_counts()\n",
    "print(element_freq)\n",
    "\n",
    "print(\"Original series:\")\n",
    "print(str1)\n",
    "\n",
    "current_freq = element_freq.dropna().index[-1]\n",
    "result = \"\".join(ser.replace(' ', current_freq))\n",
    "print(result)"
   ]
  },
  {
   "cell_type": "code",
   "execution_count": null,
   "id": "324bf06d-92fd-4080-9644-d132d5ebfd7e",
   "metadata": {},
   "outputs": [],
   "source": []
  }
 ],
 "metadata": {
  "kernelspec": {
   "display_name": "Python 3 (ipykernel)",
   "language": "python",
   "name": "python3"
  },
  "language_info": {
   "codemirror_mode": {
    "name": "ipython",
    "version": 3
   },
   "file_extension": ".py",
   "mimetype": "text/x-python",
   "name": "python",
   "nbconvert_exporter": "python",
   "pygments_lexer": "ipython3",
   "version": "3.12.7"
  }
 },
 "nbformat": 4,
 "nbformat_minor": 5
}
