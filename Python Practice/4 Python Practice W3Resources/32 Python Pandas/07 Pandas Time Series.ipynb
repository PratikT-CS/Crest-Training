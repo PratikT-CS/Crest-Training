{
 "cells": [
  {
   "cell_type": "code",
   "execution_count": 1,
   "id": "271c156b-00f7-4aee-b5ce-071c9dd04652",
   "metadata": {},
   "outputs": [],
   "source": [
    "import pandas as pd"
   ]
  },
  {
   "cell_type": "code",
   "execution_count": 4,
   "id": "d1cdf9d9-ab37-4603-ad2e-e59bf6192296",
   "metadata": {},
   "outputs": [
    {
     "data": {
      "text/plain": [
       "0    2025-12-01\n",
       "1    2025-12-02\n",
       "2    2025-12-03\n",
       "3    2025-12-04\n",
       "4    2025-12-05\n",
       "5    2025-12-06\n",
       "6    2025-12-07\n",
       "7    2025-12-08\n",
       "8    2025-12-09\n",
       "9    2025-12-10\n",
       "10   2025-12-11\n",
       "11   2025-12-12\n",
       "12   2025-12-13\n",
       "13   2025-12-14\n",
       "14   2025-12-15\n",
       "15   2025-12-16\n",
       "16   2025-12-17\n",
       "17   2025-12-18\n",
       "18   2025-12-19\n",
       "19   2025-12-20\n",
       "20   2025-12-21\n",
       "21   2025-12-22\n",
       "22   2025-12-23\n",
       "23   2025-12-24\n",
       "24   2025-12-25\n",
       "25   2025-12-26\n",
       "26   2025-12-27\n",
       "27   2025-12-28\n",
       "28   2025-12-29\n",
       "29   2025-12-30\n",
       "30   2025-12-31\n",
       "dtype: datetime64[ns]"
      ]
     },
     "execution_count": 4,
     "metadata": {},
     "output_type": "execute_result"
    }
   ],
   "source": [
    "dates = pd.Series(pd.date_range('2025-12-01',periods=31, freq='D'))\n",
    "dates"
   ]
  },
  {
   "cell_type": "code",
   "execution_count": 3,
   "id": "5e2547b0-3b08-4bd8-9d0c-2bcefe2bc5c5",
   "metadata": {},
   "outputs": [
    {
     "name": "stdout",
     "output_type": "stream",
     "text": [
      "\n",
      "Maximum date:  2020-12-31 00:00:00\n",
      "Minimum date:  2020-12-01 00:00:00\n",
      "Maximum index:  30\n",
      "Minimum index:  0\n"
     ]
    }
   ],
   "source": [
    "print(\"\\nMaximum date: \", dates.max())\n",
    "print(\"Minimum date: \", dates.min())\n",
    "print(\"Maximum index: \", dates.idxmax())\n",
    "print(\"Minimum index: \", dates.idxmin())"
   ]
  },
  {
   "cell_type": "code",
   "execution_count": null,
   "id": "7c551283-8196-49ef-9805-1edba0e87715",
   "metadata": {},
   "outputs": [],
   "source": []
  }
 ],
 "metadata": {
  "kernelspec": {
   "display_name": "Python 3 (ipykernel)",
   "language": "python",
   "name": "python3"
  },
  "language_info": {
   "codemirror_mode": {
    "name": "ipython",
    "version": 3
   },
   "file_extension": ".py",
   "mimetype": "text/x-python",
   "name": "python",
   "nbconvert_exporter": "python",
   "pygments_lexer": "ipython3",
   "version": "3.12.7"
  }
 },
 "nbformat": 4,
 "nbformat_minor": 5
}
