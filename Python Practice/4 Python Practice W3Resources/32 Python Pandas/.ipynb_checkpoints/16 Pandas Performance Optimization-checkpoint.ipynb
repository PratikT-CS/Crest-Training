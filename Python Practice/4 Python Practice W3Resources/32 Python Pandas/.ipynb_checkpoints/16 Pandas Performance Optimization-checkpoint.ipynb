{
 "cells": [
  {
   "cell_type": "markdown",
   "id": "0a38dc38-4bf2-4b48-afa1-b717741cc9c7",
   "metadata": {},
   "source": [
    "# Write a Pandas program to create a large DataFrame and measure the time taken to sum a column using a for loop vs. using the sum method."
   ]
  },
  {
   "cell_type": "code",
   "execution_count": 2,
   "id": "37847602-a5f3-416e-9d1e-d0e5f53a9216",
   "metadata": {},
   "outputs": [
    {
     "name": "stdout",
     "output_type": "stream",
     "text": [
      "Sum using for loop: 49988718\n",
      "Time taken using for loop: 0.2932474613189697 seconds\n",
      "Sum using sum method: 49988718\n",
      "Time taken using sum method: 0.0019943714141845703 seconds\n"
     ]
    }
   ],
   "source": [
    "import pandas as pd \n",
    "import numpy as np\n",
    "import time  \n",
    "\n",
    "np.random.seed(0) \n",
    "data = np.random.randint(1, 100, size=(1000000, 1))  \n",
    "df = pd.DataFrame(data, columns=['Values']) \n",
    "\n",
    "start_time = time.time() \n",
    "sum_for_loop = 0 \n",
    "for value in df['Values']: \n",
    "    sum_for_loop += value  \n",
    "time_for_loop = time.time() - start_time\n",
    "\n",
    "start_time = time.time()  \n",
    "sum_method = df['Values'].sum() \n",
    "time_sum_method = time.time() - start_time  \n",
    "\n",
    "print(\"Sum using for loop:\", sum_for_loop)\n",
    "print(\"Time taken using for loop:\", time_for_loop, \"seconds\")\n",
    "print(\"Sum using sum method:\", sum_method)\n",
    "print(\"Time taken using sum method:\", time_sum_method, \"seconds\")"
   ]
  },
  {
   "cell_type": "code",
   "execution_count": null,
   "id": "6dbe3ce3-9010-4490-be2c-a02ca30be654",
   "metadata": {},
   "outputs": [],
   "source": []
  }
 ],
 "metadata": {
  "kernelspec": {
   "display_name": "Python 3 (ipykernel)",
   "language": "python",
   "name": "python3"
  },
  "language_info": {
   "codemirror_mode": {
    "name": "ipython",
    "version": 3
   },
   "file_extension": ".py",
   "mimetype": "text/x-python",
   "name": "python",
   "nbconvert_exporter": "python",
   "pygments_lexer": "ipython3",
   "version": "3.12.7"
  }
 },
 "nbformat": 4,
 "nbformat_minor": 5
}
