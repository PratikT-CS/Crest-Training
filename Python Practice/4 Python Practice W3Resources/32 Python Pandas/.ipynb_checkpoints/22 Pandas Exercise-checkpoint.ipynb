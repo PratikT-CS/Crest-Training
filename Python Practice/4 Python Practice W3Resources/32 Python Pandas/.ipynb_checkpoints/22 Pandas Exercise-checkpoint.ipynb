{
 "cells": [
  {
   "cell_type": "code",
   "execution_count": 1,
   "id": "ec4a1dd4-0e16-4c82-902f-98a9f9484254",
   "metadata": {},
   "outputs": [],
   "source": [
    "import pandas as pd\n",
    "import numpy as np"
   ]
  },
  {
   "cell_type": "markdown",
   "id": "4289792a-8063-464d-aed5-5879d69f221c",
   "metadata": {},
   "source": [
    "# Create a DataFrame and calculate the interquartile range (IQR)."
   ]
  },
  {
   "cell_type": "code",
   "execution_count": 2,
   "id": "3f10aa23-2fb9-4a0c-b9f9-4870290d6b41",
   "metadata": {},
   "outputs": [],
   "source": [
    "data = np.random.rand(4, 3)\n",
    "df = pd.DataFrame(data, columns=['X', 'Y', 'Z'])\n",
    "Q1 = df.quantile(0.25)\n",
    "Q3 = df.quantile(0.75)\n",
    "IQR = Q3 - Q1"
   ]
  },
  {
   "cell_type": "code",
   "execution_count": 3,
   "id": "26957c9d-3572-4925-a7a2-2ab3f790595b",
   "metadata": {},
   "outputs": [
    {
     "data": {
      "text/html": [
       "<div>\n",
       "<style scoped>\n",
       "    .dataframe tbody tr th:only-of-type {\n",
       "        vertical-align: middle;\n",
       "    }\n",
       "\n",
       "    .dataframe tbody tr th {\n",
       "        vertical-align: top;\n",
       "    }\n",
       "\n",
       "    .dataframe thead th {\n",
       "        text-align: right;\n",
       "    }\n",
       "</style>\n",
       "<table border=\"1\" class=\"dataframe\">\n",
       "  <thead>\n",
       "    <tr style=\"text-align: right;\">\n",
       "      <th></th>\n",
       "      <th>X</th>\n",
       "      <th>Y</th>\n",
       "      <th>Z</th>\n",
       "    </tr>\n",
       "  </thead>\n",
       "  <tbody>\n",
       "    <tr>\n",
       "      <th>0</th>\n",
       "      <td>0.984354</td>\n",
       "      <td>0.627987</td>\n",
       "      <td>0.746145</td>\n",
       "    </tr>\n",
       "    <tr>\n",
       "      <th>1</th>\n",
       "      <td>0.797120</td>\n",
       "      <td>0.613523</td>\n",
       "      <td>0.287954</td>\n",
       "    </tr>\n",
       "    <tr>\n",
       "      <th>2</th>\n",
       "      <td>0.171628</td>\n",
       "      <td>0.569272</td>\n",
       "      <td>0.913394</td>\n",
       "    </tr>\n",
       "    <tr>\n",
       "      <th>3</th>\n",
       "      <td>0.382796</td>\n",
       "      <td>0.876734</td>\n",
       "      <td>0.213946</td>\n",
       "    </tr>\n",
       "  </tbody>\n",
       "</table>\n",
       "</div>"
      ],
      "text/plain": [
       "          X         Y         Z\n",
       "0  0.984354  0.627987  0.746145\n",
       "1  0.797120  0.613523  0.287954\n",
       "2  0.171628  0.569272  0.913394\n",
       "3  0.382796  0.876734  0.213946"
      ]
     },
     "execution_count": 3,
     "metadata": {},
     "output_type": "execute_result"
    }
   ],
   "source": [
    "df"
   ]
  },
  {
   "cell_type": "code",
   "execution_count": 4,
   "id": "da8121f6-3bb2-42c2-8c20-090adc108322",
   "metadata": {},
   "outputs": [
    {
     "data": {
      "text/plain": [
       "X    0.513924\n",
       "Y    0.087713\n",
       "Z    0.518505\n",
       "dtype: float64"
      ]
     },
     "execution_count": 4,
     "metadata": {},
     "output_type": "execute_result"
    }
   ],
   "source": [
    "IQR"
   ]
  },
  {
   "cell_type": "code",
   "execution_count": 5,
   "id": "bb1d98d5-61f9-41cb-a493-5d9dc4b61500",
   "metadata": {},
   "outputs": [
    {
     "data": {
      "text/plain": [
       "X    0.330004\n",
       "Y    0.602460\n",
       "Z    0.269452\n",
       "Name: 0.25, dtype: float64"
      ]
     },
     "execution_count": 5,
     "metadata": {},
     "output_type": "execute_result"
    }
   ],
   "source": [
    "Q1"
   ]
  },
  {
   "cell_type": "code",
   "execution_count": 7,
   "id": "a6af8db0-dc75-4194-8db5-918309a0e602",
   "metadata": {},
   "outputs": [
    {
     "data": {
      "text/plain": [
       "X    0.843928\n",
       "Y    0.690174\n",
       "Z    0.787957\n",
       "Name: 0.75, dtype: float64"
      ]
     },
     "execution_count": 7,
     "metadata": {},
     "output_type": "execute_result"
    }
   ],
   "source": [
    "Q3"
   ]
  },
  {
   "cell_type": "code",
   "execution_count": null,
   "id": "f3b9947c-ed2c-4341-861e-8368ba4c93d0",
   "metadata": {},
   "outputs": [],
   "source": []
  },
  {
   "cell_type": "code",
   "execution_count": null,
   "id": "9e1fc0c4-623c-4566-8415-876a0b64bdcd",
   "metadata": {},
   "outputs": [],
   "source": []
  },
  {
   "cell_type": "code",
   "execution_count": null,
   "id": "055b6bea-17f2-4751-a351-17e535a4a74e",
   "metadata": {},
   "outputs": [],
   "source": []
  },
  {
   "cell_type": "markdown",
   "id": "6cf6cc79-1937-4967-b68c-e564c5ddf15e",
   "metadata": {},
   "source": [
    "# Create a DataFrame with random values and calculate the rolling median for each group."
   ]
  },
  {
   "cell_type": "code",
   "execution_count": 8,
   "id": "02bb9bbb-f797-48c2-8035-5f1b929ab6dc",
   "metadata": {},
   "outputs": [
    {
     "data": {
      "text/html": [
       "<div>\n",
       "<style scoped>\n",
       "    .dataframe tbody tr th:only-of-type {\n",
       "        vertical-align: middle;\n",
       "    }\n",
       "\n",
       "    .dataframe tbody tr th {\n",
       "        vertical-align: top;\n",
       "    }\n",
       "\n",
       "    .dataframe thead th {\n",
       "        text-align: right;\n",
       "    }\n",
       "</style>\n",
       "<table border=\"1\" class=\"dataframe\">\n",
       "  <thead>\n",
       "    <tr style=\"text-align: right;\">\n",
       "      <th></th>\n",
       "      <th>X</th>\n",
       "      <th>Y</th>\n",
       "      <th>Z</th>\n",
       "      <th>Rolling_Median</th>\n",
       "    </tr>\n",
       "  </thead>\n",
       "  <tbody>\n",
       "    <tr>\n",
       "      <th>0</th>\n",
       "      <td>0.169706</td>\n",
       "      <td>0.153447</td>\n",
       "      <td>0.107505</td>\n",
       "      <td>NaN</td>\n",
       "    </tr>\n",
       "    <tr>\n",
       "      <th>1</th>\n",
       "      <td>0.242188</td>\n",
       "      <td>0.175463</td>\n",
       "      <td>0.198222</td>\n",
       "      <td>NaN</td>\n",
       "    </tr>\n",
       "    <tr>\n",
       "      <th>2</th>\n",
       "      <td>0.632960</td>\n",
       "      <td>0.824884</td>\n",
       "      <td>0.773524</td>\n",
       "      <td>NaN</td>\n",
       "    </tr>\n",
       "    <tr>\n",
       "      <th>3</th>\n",
       "      <td>0.456407</td>\n",
       "      <td>0.645756</td>\n",
       "      <td>0.421494</td>\n",
       "      <td>NaN</td>\n",
       "    </tr>\n",
       "    <tr>\n",
       "      <th>4</th>\n",
       "      <td>0.146471</td>\n",
       "      <td>0.841238</td>\n",
       "      <td>0.106475</td>\n",
       "      <td>NaN</td>\n",
       "    </tr>\n",
       "    <tr>\n",
       "      <th>5</th>\n",
       "      <td>0.475650</td>\n",
       "      <td>0.581060</td>\n",
       "      <td>0.943779</td>\n",
       "      <td>NaN</td>\n",
       "    </tr>\n",
       "    <tr>\n",
       "      <th>6</th>\n",
       "      <td>0.848670</td>\n",
       "      <td>0.804017</td>\n",
       "      <td>0.875990</td>\n",
       "      <td>NaN</td>\n",
       "    </tr>\n",
       "    <tr>\n",
       "      <th>7</th>\n",
       "      <td>0.754482</td>\n",
       "      <td>0.544786</td>\n",
       "      <td>0.634153</td>\n",
       "      <td>NaN</td>\n",
       "    </tr>\n",
       "    <tr>\n",
       "      <th>8</th>\n",
       "      <td>0.094930</td>\n",
       "      <td>0.805005</td>\n",
       "      <td>0.877751</td>\n",
       "      <td>NaN</td>\n",
       "    </tr>\n",
       "    <tr>\n",
       "      <th>9</th>\n",
       "      <td>0.317486</td>\n",
       "      <td>0.833348</td>\n",
       "      <td>0.859528</td>\n",
       "      <td>NaN</td>\n",
       "    </tr>\n",
       "  </tbody>\n",
       "</table>\n",
       "</div>"
      ],
      "text/plain": [
       "          X         Y         Z  Rolling_Median\n",
       "0  0.169706  0.153447  0.107505             NaN\n",
       "1  0.242188  0.175463  0.198222             NaN\n",
       "2  0.632960  0.824884  0.773524             NaN\n",
       "3  0.456407  0.645756  0.421494             NaN\n",
       "4  0.146471  0.841238  0.106475             NaN\n",
       "5  0.475650  0.581060  0.943779             NaN\n",
       "6  0.848670  0.804017  0.875990             NaN\n",
       "7  0.754482  0.544786  0.634153             NaN\n",
       "8  0.094930  0.805005  0.877751             NaN\n",
       "9  0.317486  0.833348  0.859528             NaN"
      ]
     },
     "execution_count": 8,
     "metadata": {},
     "output_type": "execute_result"
    }
   ],
   "source": [
    "data = np.random.rand(10, 3)\n",
    "df = pd.DataFrame(data, columns=['X', 'Y', 'Z'])\n",
    "df['Rolling_Median'] = df.groupby('X')['Y'].rolling(window=3).median().reset_index(level=0, drop=True)\n",
    "df"
   ]
  },
  {
   "cell_type": "code",
   "execution_count": null,
   "id": "338bc640-3011-4b59-b527-ae4797950319",
   "metadata": {},
   "outputs": [],
   "source": []
  }
 ],
 "metadata": {
  "kernelspec": {
   "display_name": "Python 3 (ipykernel)",
   "language": "python",
   "name": "python3"
  },
  "language_info": {
   "codemirror_mode": {
    "name": "ipython",
    "version": 3
   },
   "file_extension": ".py",
   "mimetype": "text/x-python",
   "name": "python",
   "nbconvert_exporter": "python",
   "pygments_lexer": "ipython3",
   "version": "3.12.7"
  }
 },
 "nbformat": 4,
 "nbformat_minor": 5
}
