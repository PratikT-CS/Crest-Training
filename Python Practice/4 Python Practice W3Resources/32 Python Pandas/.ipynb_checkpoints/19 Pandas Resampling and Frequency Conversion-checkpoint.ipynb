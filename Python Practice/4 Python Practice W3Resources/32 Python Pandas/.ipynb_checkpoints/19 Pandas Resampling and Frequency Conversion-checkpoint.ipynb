{
 "cells": [
  {
   "cell_type": "markdown",
   "id": "b730221f-3c5f-4bae-a487-1e8c9d0bf1f1",
   "metadata": {},
   "source": [
    "# Write a Pandas program to resample Time Series data to quarterly frequency."
   ]
  },
  {
   "cell_type": "code",
   "execution_count": 10,
   "id": "42ddd388-394a-40f3-a095-b5e73d703b6d",
   "metadata": {},
   "outputs": [
    {
     "data": {
      "text/plain": [
       "2019-03-31    0.153767\n",
       "2019-06-30    0.885628\n",
       "2019-09-30   -0.012157\n",
       "2019-12-31    1.055130\n",
       "Freq: QE-DEC, dtype: float64"
      ]
     },
     "execution_count": 10,
     "metadata": {},
     "output_type": "execute_result"
    }
   ],
   "source": [
    "import pandas as pd\n",
    "import numpy as np\n",
    "\n",
    "date_rng = pd.date_range(start='2019-01-01', end='2019-12-01', freq='ME')\n",
    "ts = pd.Series(np.random.randn(len(date_rng)), index=date_rng)\n",
    "\n",
    "ts_quarterly = ts.resample('QE').mean()\n",
    "\n",
    "ts_quarterly"
   ]
  },
  {
   "cell_type": "code",
   "execution_count": 8,
   "id": "bd5e8c40-727c-476e-9546-97fb230c26c6",
   "metadata": {},
   "outputs": [
    {
     "data": {
      "text/plain": [
       "2019-01-31   -1.711557\n",
       "2019-02-28    0.055495\n",
       "2019-03-31   -0.112403\n",
       "2019-04-30    0.120620\n",
       "2019-05-31   -0.821642\n",
       "2019-06-30    0.863591\n",
       "2019-07-31    0.653676\n",
       "2019-08-31    0.089763\n",
       "2019-09-30   -1.909444\n",
       "2019-10-31   -1.261604\n",
       "2019-11-30   -0.405279\n",
       "Freq: ME, dtype: float64"
      ]
     },
     "execution_count": 8,
     "metadata": {},
     "output_type": "execute_result"
    }
   ],
   "source": [
    "ts"
   ]
  },
  {
   "cell_type": "code",
   "execution_count": 9,
   "id": "67bfa772-49fb-4ad3-a7dd-2e09756a9159",
   "metadata": {},
   "outputs": [
    {
     "data": {
      "text/plain": [
       "DatetimeIndex(['2019-01-31', '2019-02-28', '2019-03-31', '2019-04-30',\n",
       "               '2019-05-31', '2019-06-30', '2019-07-31', '2019-08-31',\n",
       "               '2019-09-30', '2019-10-31', '2019-11-30'],\n",
       "              dtype='datetime64[ns]', freq='ME')"
      ]
     },
     "execution_count": 9,
     "metadata": {},
     "output_type": "execute_result"
    }
   ],
   "source": [
    "date_rng"
   ]
  },
  {
   "cell_type": "code",
   "execution_count": null,
   "id": "38629084-93c8-41a3-b542-7447a6238a6e",
   "metadata": {},
   "outputs": [],
   "source": []
  },
  {
   "cell_type": "code",
   "execution_count": null,
   "id": "27f990ad-b117-4a51-a24b-9727806330fc",
   "metadata": {},
   "outputs": [],
   "source": []
  },
  {
   "cell_type": "code",
   "execution_count": null,
   "id": "da274955-f3e9-48a6-b656-f4db408e7ed1",
   "metadata": {},
   "outputs": [],
   "source": []
  }
 ],
 "metadata": {
  "kernelspec": {
   "display_name": "Python 3 (ipykernel)",
   "language": "python",
   "name": "python3"
  },
  "language_info": {
   "codemirror_mode": {
    "name": "ipython",
    "version": 3
   },
   "file_extension": ".py",
   "mimetype": "text/x-python",
   "name": "python",
   "nbconvert_exporter": "python",
   "pygments_lexer": "ipython3",
   "version": "3.12.7"
  }
 },
 "nbformat": 4,
 "nbformat_minor": 5
}
