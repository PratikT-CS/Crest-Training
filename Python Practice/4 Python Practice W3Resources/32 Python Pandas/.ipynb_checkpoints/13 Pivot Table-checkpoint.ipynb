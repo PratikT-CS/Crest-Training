{
 "cells": [
  {
   "cell_type": "markdown",
   "id": "9c2fe85c-88b2-4b2e-a362-086c6cc83d0e",
   "metadata": {},
   "source": [
    "# Pandas Pivot Table: Create a Pivot table and count the manager wise sale and mean value of sale amount"
   ]
  },
  {
   "cell_type": "code",
   "execution_count": 2,
   "id": "00933392-2208-48c9-aed2-d86a244b3998",
   "metadata": {},
   "outputs": [
    {
     "name": "stdout",
     "output_type": "stream",
     "text": [
      "                 mean      len\n",
      "             Sale_amt Sale_amt\n",
      "Manager                       \n",
      "Douglas  29882.000000        8\n",
      "Hermann  30425.708333       12\n",
      "Martha   33749.500000       14\n",
      "Timothy  25446.444444        9\n"
     ]
    },
    {
     "name": "stderr",
     "output_type": "stream",
     "text": [
      "C:\\Users\\PratikTalaviya\\AppData\\Local\\Temp\\ipykernel_12740\\2272495990.py:4: FutureWarning: The provided callable <function mean at 0x0000019C10A9B880> is currently using DataFrameGroupBy.mean. In a future version of pandas, the provided callable will be used directly. To keep current behavior pass the string \"mean\" instead.\n",
      "  print(pd.pivot_table(df,index=[\"Manager\"],values=[\"Sale_amt\"],aggfunc=[np.mean,len]))\n"
     ]
    }
   ],
   "source": [
    "import pandas as pd\n",
    "import numpy as np\n",
    "df = pd.read_excel('SaleData.xlsx')\n",
    "print(pd.pivot_table(df,index=[\"Manager\"],values=[\"Sale_amt\"],aggfunc=[np.mean,len]))"
   ]
  },
  {
   "cell_type": "code",
   "execution_count": null,
   "id": "3bef6efc-705e-4d09-8897-7636be478407",
   "metadata": {},
   "outputs": [],
   "source": []
  }
 ],
 "metadata": {
  "kernelspec": {
   "display_name": "Python 3 (ipykernel)",
   "language": "python",
   "name": "python3"
  },
  "language_info": {
   "codemirror_mode": {
    "name": "ipython",
    "version": 3
   },
   "file_extension": ".py",
   "mimetype": "text/x-python",
   "name": "python",
   "nbconvert_exporter": "python",
   "pygments_lexer": "ipython3",
   "version": "3.12.7"
  }
 },
 "nbformat": 4,
 "nbformat_minor": 5
}
