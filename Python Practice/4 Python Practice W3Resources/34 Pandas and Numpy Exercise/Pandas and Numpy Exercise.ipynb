{
 "cells": [
  {
   "cell_type": "markdown",
   "id": "68ce58c8-7537-4446-a7f0-115dbbf6dfe1",
   "metadata": {},
   "source": [
    "# Replace missing values in a  Pandas DataFrame with the mean of the column."
   ]
  },
  {
   "cell_type": "code",
   "execution_count": 4,
   "id": "923d30df-ca11-416f-b6d4-9f84a08bb391",
   "metadata": {},
   "outputs": [
    {
     "data": {
      "text/html": [
       "<div>\n",
       "<style scoped>\n",
       "    .dataframe tbody tr th:only-of-type {\n",
       "        vertical-align: middle;\n",
       "    }\n",
       "\n",
       "    .dataframe tbody tr th {\n",
       "        vertical-align: top;\n",
       "    }\n",
       "\n",
       "    .dataframe thead th {\n",
       "        text-align: right;\n",
       "    }\n",
       "</style>\n",
       "<table border=\"1\" class=\"dataframe\">\n",
       "  <thead>\n",
       "    <tr style=\"text-align: right;\">\n",
       "      <th></th>\n",
       "      <th>A</th>\n",
       "      <th>B</th>\n",
       "      <th>C</th>\n",
       "      <th>D</th>\n",
       "    </tr>\n",
       "  </thead>\n",
       "  <tbody>\n",
       "    <tr>\n",
       "      <th>0</th>\n",
       "      <td>1.0</td>\n",
       "      <td>10.0</td>\n",
       "      <td>100.0</td>\n",
       "      <td>1000.0</td>\n",
       "    </tr>\n",
       "    <tr>\n",
       "      <th>1</th>\n",
       "      <td>2.0</td>\n",
       "      <td>32.5</td>\n",
       "      <td>200.0</td>\n",
       "      <td>2000.0</td>\n",
       "    </tr>\n",
       "    <tr>\n",
       "      <th>2</th>\n",
       "      <td>3.0</td>\n",
       "      <td>30.0</td>\n",
       "      <td>300.0</td>\n",
       "      <td>3000.0</td>\n",
       "    </tr>\n",
       "    <tr>\n",
       "      <th>3</th>\n",
       "      <td>4.0</td>\n",
       "      <td>40.0</td>\n",
       "      <td>275.0</td>\n",
       "      <td>4000.0</td>\n",
       "    </tr>\n",
       "    <tr>\n",
       "      <th>4</th>\n",
       "      <td>5.0</td>\n",
       "      <td>50.0</td>\n",
       "      <td>500.0</td>\n",
       "      <td>2500.0</td>\n",
       "    </tr>\n",
       "  </tbody>\n",
       "</table>\n",
       "</div>"
      ],
      "text/plain": [
       "     A     B      C       D\n",
       "0  1.0  10.0  100.0  1000.0\n",
       "1  2.0  32.5  200.0  2000.0\n",
       "2  3.0  30.0  300.0  3000.0\n",
       "3  4.0  40.0  275.0  4000.0\n",
       "4  5.0  50.0  500.0  2500.0"
      ]
     },
     "execution_count": 4,
     "metadata": {},
     "output_type": "execute_result"
    }
   ],
   "source": [
    "import pandas as pd\n",
    "import numpy as np\n",
    "\n",
    "data = {'A': [1, 2, np.nan, 4, 5],\n",
    "        'B': [10, np.nan, 30, 40, 50],\n",
    "        'C': [100, 200, 300, np.nan, 500],\n",
    "        'D': [1000, 2000, 3000, 4000, np.nan]}\n",
    "\n",
    "df = pd.DataFrame(data)\n",
    "\n",
    "df_filled = df.fillna(df.mean())\n",
    "\n",
    "df_filled\n"
   ]
  },
  {
   "cell_type": "code",
   "execution_count": 5,
   "id": "5ffd67d0-3a62-431a-9312-38b9ed56cec9",
   "metadata": {},
   "outputs": [
    {
     "data": {
      "text/html": [
       "<div>\n",
       "<style scoped>\n",
       "    .dataframe tbody tr th:only-of-type {\n",
       "        vertical-align: middle;\n",
       "    }\n",
       "\n",
       "    .dataframe tbody tr th {\n",
       "        vertical-align: top;\n",
       "    }\n",
       "\n",
       "    .dataframe thead th {\n",
       "        text-align: right;\n",
       "    }\n",
       "</style>\n",
       "<table border=\"1\" class=\"dataframe\">\n",
       "  <thead>\n",
       "    <tr style=\"text-align: right;\">\n",
       "      <th></th>\n",
       "      <th>A</th>\n",
       "      <th>B</th>\n",
       "      <th>C</th>\n",
       "      <th>D</th>\n",
       "    </tr>\n",
       "  </thead>\n",
       "  <tbody>\n",
       "    <tr>\n",
       "      <th>0</th>\n",
       "      <td>1.0</td>\n",
       "      <td>10.0</td>\n",
       "      <td>100.0</td>\n",
       "      <td>1000.0</td>\n",
       "    </tr>\n",
       "    <tr>\n",
       "      <th>1</th>\n",
       "      <td>2.0</td>\n",
       "      <td>NaN</td>\n",
       "      <td>200.0</td>\n",
       "      <td>2000.0</td>\n",
       "    </tr>\n",
       "    <tr>\n",
       "      <th>2</th>\n",
       "      <td>NaN</td>\n",
       "      <td>30.0</td>\n",
       "      <td>300.0</td>\n",
       "      <td>3000.0</td>\n",
       "    </tr>\n",
       "    <tr>\n",
       "      <th>3</th>\n",
       "      <td>4.0</td>\n",
       "      <td>40.0</td>\n",
       "      <td>NaN</td>\n",
       "      <td>4000.0</td>\n",
       "    </tr>\n",
       "    <tr>\n",
       "      <th>4</th>\n",
       "      <td>5.0</td>\n",
       "      <td>50.0</td>\n",
       "      <td>500.0</td>\n",
       "      <td>NaN</td>\n",
       "    </tr>\n",
       "  </tbody>\n",
       "</table>\n",
       "</div>"
      ],
      "text/plain": [
       "     A     B      C       D\n",
       "0  1.0  10.0  100.0  1000.0\n",
       "1  2.0   NaN  200.0  2000.0\n",
       "2  NaN  30.0  300.0  3000.0\n",
       "3  4.0  40.0    NaN  4000.0\n",
       "4  5.0  50.0  500.0     NaN"
      ]
     },
     "execution_count": 5,
     "metadata": {},
     "output_type": "execute_result"
    }
   ],
   "source": [
    "df"
   ]
  },
  {
   "cell_type": "code",
   "execution_count": null,
   "id": "3b1c57d0-3a74-4877-93b6-419e51718e2f",
   "metadata": {},
   "outputs": [],
   "source": []
  },
  {
   "cell_type": "code",
   "execution_count": null,
   "id": "b2192462-5ad3-4c56-a253-885ce522cf15",
   "metadata": {},
   "outputs": [],
   "source": []
  },
  {
   "cell_type": "markdown",
   "id": "84e7d835-06da-480e-a176-82691119512e",
   "metadata": {},
   "source": [
    "# GroupBy and Handling Missing data:\n",
    "# Write a Pandas program to handle missing data in GroupBy operations to ensure accurate and reliable data analysis."
   ]
  },
  {
   "cell_type": "code",
   "execution_count": 6,
   "id": "e9ffbdbd-7b1c-4804-85e0-6bf9eb985fd1",
   "metadata": {},
   "outputs": [
    {
     "name": "stdout",
     "output_type": "stream",
     "text": [
      "Sample DataFrame:\n",
      "  Category  Value\n",
      "0        A   10.0\n",
      "1        A    NaN\n",
      "2        B   30.0\n",
      "3        B   40.0\n",
      "4        C    NaN\n",
      "5        C   60.0\n",
      "\n",
      "Fill missing values with 0 and then group by 'Category' and sum:\n",
      "          Value\n",
      "Category       \n",
      "A          10.0\n",
      "B          70.0\n",
      "C          60.0\n"
     ]
    }
   ],
   "source": [
    "import pandas as pd\n",
    "\n",
    "# Sample DataFrame with missing values\n",
    "data = {'Category': ['A', 'A', 'B', 'B', 'C', 'C'],\n",
    "        'Value': [10, None, 30, 40, None, 60]}\n",
    "\n",
    "df = pd.DataFrame(data)\n",
    "print(\"Sample DataFrame:\")\n",
    "df\n",
    "      \n",
    "# Fill missing values with 0 and then group by 'Category' and sum\n",
    "print(\"\\nFill missing values with 0 and then group by 'Category' and sum:\")\n",
    "grouped = df.fillna(0).groupby('Category').sum()\n",
    "\n",
    "grouped"
   ]
  },
  {
   "cell_type": "code",
   "execution_count": null,
   "id": "3fba91c0-7b18-45a4-842c-512662e24815",
   "metadata": {},
   "outputs": [],
   "source": []
  }
 ],
 "metadata": {
  "kernelspec": {
   "display_name": "Python 3 (ipykernel)",
   "language": "python",
   "name": "python3"
  },
  "language_info": {
   "codemirror_mode": {
    "name": "ipython",
    "version": 3
   },
   "file_extension": ".py",
   "mimetype": "text/x-python",
   "name": "python",
   "nbconvert_exporter": "python",
   "pygments_lexer": "ipython3",
   "version": "3.12.7"
  }
 },
 "nbformat": 4,
 "nbformat_minor": 5
}
