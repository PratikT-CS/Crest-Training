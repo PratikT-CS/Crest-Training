{
 "cells": [
  {
   "cell_type": "markdown",
   "id": "943d07f9-6e3f-493f-a6c4-6d1830010b1c",
   "metadata": {},
   "source": [
    "# Write a Python program to calculate the value of 'a' to the power of 'b' using recursion."
   ]
  },
  {
   "cell_type": "code",
   "execution_count": 5,
   "id": "656442e4-6236-42a3-b06d-efbb1c6d30bd",
   "metadata": {},
   "outputs": [],
   "source": [
    "def power(a, b):\n",
    "    if b == 1:\n",
    "        return a\n",
    "    elif b == 0:\n",
    "        return 1\n",
    "    elif a == 0:\n",
    "        return 0\n",
    "    else:\n",
    "        return a * power(a, b-1)"
   ]
  },
  {
   "cell_type": "code",
   "execution_count": 6,
   "id": "450fe1e8-1545-4743-9e83-d9f696fd286f",
   "metadata": {},
   "outputs": [
    {
     "data": {
      "text/plain": [
       "81"
      ]
     },
     "execution_count": 6,
     "metadata": {},
     "output_type": "execute_result"
    }
   ],
   "source": [
    "power(3, 4)"
   ]
  },
  {
   "cell_type": "markdown",
   "id": "3a5275d4-6f56-471c-a1b2-7d44313b968f",
   "metadata": {},
   "source": [
    "#  Write a Python program to calculate the sum of the positive integers of n+(n-2)+(n-4)... (until n-x =< 0) using recursion."
   ]
  },
  {
   "cell_type": "code",
   "execution_count": 7,
   "id": "46156592-9cae-423e-a1fb-f8bc4703947c",
   "metadata": {},
   "outputs": [],
   "source": [
    "def sum_series(num):\n",
    "    if num < 1:\n",
    "        return 0\n",
    "    else:\n",
    "        return num + sum_series(num - 2)"
   ]
  },
  {
   "cell_type": "code",
   "execution_count": 8,
   "id": "37eafed8-6021-4dcb-acef-1bfbf247002b",
   "metadata": {},
   "outputs": [
    {
     "data": {
      "text/plain": [
       "784"
      ]
     },
     "execution_count": 8,
     "metadata": {},
     "output_type": "execute_result"
    }
   ],
   "source": [
    "sum_series(55)"
   ]
  },
  {
   "cell_type": "code",
   "execution_count": 9,
   "id": "c7f10b6b-4a67-4e2e-b919-7c62c202b14a",
   "metadata": {},
   "outputs": [
    {
     "data": {
      "text/plain": [
       "9"
      ]
     },
     "execution_count": 9,
     "metadata": {},
     "output_type": "execute_result"
    }
   ],
   "source": [
    "sum_series(5)"
   ]
  },
  {
   "cell_type": "markdown",
   "id": "53f63129-f481-47c5-b685-8ce0355efe0e",
   "metadata": {},
   "source": [
    "# Write a Python program to sum recursion lists using recursion."
   ]
  },
  {
   "cell_type": "code",
   "execution_count": 12,
   "id": "6a6f93eb-bf9c-4bcf-b7bb-dca6416a6d17",
   "metadata": {},
   "outputs": [],
   "source": [
    "def sum_list(lst):\n",
    "    total = 0\n",
    "    for element in lst:\n",
    "        if type(element) == type([]):\n",
    "            total = total + sum_list(element)\n",
    "        else:\n",
    "            total = total + element\n",
    "\n",
    "    return total"
   ]
  },
  {
   "cell_type": "code",
   "execution_count": 13,
   "id": "073e7161-57f8-4503-b74f-046ba8552a16",
   "metadata": {},
   "outputs": [
    {
     "data": {
      "text/plain": [
       "21"
      ]
     },
     "execution_count": 13,
     "metadata": {},
     "output_type": "execute_result"
    }
   ],
   "source": [
    "sum_list([1, 2, [3, 4], [5, 6]])"
   ]
  },
  {
   "cell_type": "code",
   "execution_count": null,
   "id": "d410d6d4-b460-48ee-847b-f17468cdc42a",
   "metadata": {},
   "outputs": [],
   "source": []
  }
 ],
 "metadata": {
  "kernelspec": {
   "display_name": "Python 3 (ipykernel)",
   "language": "python",
   "name": "python3"
  },
  "language_info": {
   "codemirror_mode": {
    "name": "ipython",
    "version": 3
   },
   "file_extension": ".py",
   "mimetype": "text/x-python",
   "name": "python",
   "nbconvert_exporter": "python",
   "pygments_lexer": "ipython3",
   "version": "3.12.7"
  }
 },
 "nbformat": 4,
 "nbformat_minor": 5
}
