{
 "cells": [
  {
   "cell_type": "code",
   "execution_count": 1,
   "id": "332f45a5-3423-40e9-97fa-9a11da014654",
   "metadata": {},
   "outputs": [],
   "source": [
    "import numpy as np"
   ]
  },
  {
   "cell_type": "code",
   "execution_count": 6,
   "id": "a8ced268-b1f6-418a-b79a-7318a439c0ea",
   "metadata": {},
   "outputs": [
    {
     "name": "stdout",
     "output_type": "stream",
     "text": [
      "[[10 20 30]\n",
      " [40 50 60]]\n",
      "[30 50]\n"
     ]
    }
   ],
   "source": [
    "arr2D = np.array([[10, 20, 30], [40, 50, 60]])\n",
    "rows = np.array([0, 1])\n",
    "cols = np.array([2, 1])\n",
    "print(arr2D)\n",
    "print(arr2D[rows, cols])"
   ]
  },
  {
   "cell_type": "code",
   "execution_count": null,
   "id": "aad9e09c-b2ba-46c0-a4f1-70aea482095f",
   "metadata": {},
   "outputs": [],
   "source": []
  },
  {
   "cell_type": "code",
   "execution_count": 11,
   "id": "f8effa16-3822-4cd4-89c7-1ea3fb2939a5",
   "metadata": {},
   "outputs": [
    {
     "name": "stdout",
     "output_type": "stream",
     "text": [
      "[30 40 50]\n"
     ]
    },
    {
     "data": {
      "text/plain": [
       "array([False, False,  True,  True,  True])"
      ]
     },
     "execution_count": 11,
     "metadata": {},
     "output_type": "execute_result"
    }
   ],
   "source": [
    "arr = np.array([10, 20, 30, 40, 50])\n",
    "print(arr[arr > 25])\n",
    "arr > 25"
   ]
  },
  {
   "cell_type": "code",
   "execution_count": null,
   "id": "f6c50b92-e8ca-45c5-930e-e408fc35fa4e",
   "metadata": {},
   "outputs": [],
   "source": []
  },
  {
   "cell_type": "code",
   "execution_count": null,
   "id": "2259236b-0b2f-426d-8313-bef1758bddbf",
   "metadata": {},
   "outputs": [],
   "source": []
  },
  {
   "cell_type": "markdown",
   "id": "1471e5d2-6950-4219-b301-c446bf22ffc4",
   "metadata": {},
   "source": [
    "# Write a  NumPy program that creates a 3D NumPy array and uses boolean indexing to set elements that meet a condition to a new value."
   ]
  },
  {
   "cell_type": "code",
   "execution_count": 26,
   "id": "51804927-9600-4faf-9a4d-49b7049638d4",
   "metadata": {},
   "outputs": [
    {
     "data": {
      "text/plain": [
       "array([[[63,  2, 63],\n",
       "        [15, 52,  8],\n",
       "        [80, 88, 36]],\n",
       "\n",
       "       [[ 0, 82, 40],\n",
       "        [46, 35, 47],\n",
       "        [57,  2, 49]],\n",
       "\n",
       "       [[11, 42, 46],\n",
       "        [34, 96, 81],\n",
       "        [41, 75, 95]]])"
      ]
     },
     "execution_count": 26,
     "metadata": {},
     "output_type": "execute_result"
    }
   ],
   "source": [
    "array_3d = np.random.randint(0, 100, size=(3,3,3))\n",
    "array_3d"
   ]
  },
  {
   "cell_type": "code",
   "execution_count": 27,
   "id": "4ff16d9d-d86d-45ac-8b8d-3499db4520b2",
   "metadata": {},
   "outputs": [
    {
     "data": {
      "text/plain": [
       "array([80, 88, 82, 96, 81, 75, 95])"
      ]
     },
     "execution_count": 27,
     "metadata": {},
     "output_type": "execute_result"
    }
   ],
   "source": [
    "array_3d[array_3d > 70]"
   ]
  },
  {
   "cell_type": "code",
   "execution_count": 28,
   "id": "befd3384-0ba5-42e9-9d8f-98597055ac1f",
   "metadata": {},
   "outputs": [
    {
     "data": {
      "text/plain": [
       "array([[[False, False, False],\n",
       "        [False, False, False],\n",
       "        [ True,  True, False]],\n",
       "\n",
       "       [[False,  True, False],\n",
       "        [False, False, False],\n",
       "        [False, False, False]],\n",
       "\n",
       "       [[False, False, False],\n",
       "        [False,  True,  True],\n",
       "        [False,  True,  True]]])"
      ]
     },
     "execution_count": 28,
     "metadata": {},
     "output_type": "execute_result"
    }
   ],
   "source": [
    "array_3d > 70"
   ]
  },
  {
   "cell_type": "code",
   "execution_count": 29,
   "id": "8ac5f37b-3d87-4dd7-80bb-8b5595a54853",
   "metadata": {},
   "outputs": [],
   "source": [
    "array_3d[array_3d > 70] = -1"
   ]
  },
  {
   "cell_type": "code",
   "execution_count": 30,
   "id": "2f061aa9-5742-4c16-9e1b-5f9d2ed35b62",
   "metadata": {},
   "outputs": [
    {
     "data": {
      "text/plain": [
       "array([[[63,  2, 63],\n",
       "        [15, 52,  8],\n",
       "        [-1, -1, 36]],\n",
       "\n",
       "       [[ 0, -1, 40],\n",
       "        [46, 35, 47],\n",
       "        [57,  2, 49]],\n",
       "\n",
       "       [[11, 42, 46],\n",
       "        [34, -1, -1],\n",
       "        [41, -1, -1]]])"
      ]
     },
     "execution_count": 30,
     "metadata": {},
     "output_type": "execute_result"
    }
   ],
   "source": [
    "array_3d"
   ]
  },
  {
   "cell_type": "code",
   "execution_count": null,
   "id": "1ecf3bcd-57c5-4318-9cb8-78c27b763529",
   "metadata": {},
   "outputs": [],
   "source": []
  }
 ],
 "metadata": {
  "kernelspec": {
   "display_name": "Python 3 (ipykernel)",
   "language": "python",
   "name": "python3"
  },
  "language_info": {
   "codemirror_mode": {
    "name": "ipython",
    "version": 3
   },
   "file_extension": ".py",
   "mimetype": "text/x-python",
   "name": "python",
   "nbconvert_exporter": "python",
   "pygments_lexer": "ipython3",
   "version": "3.12.7"
  }
 },
 "nbformat": 4,
 "nbformat_minor": 5
}
