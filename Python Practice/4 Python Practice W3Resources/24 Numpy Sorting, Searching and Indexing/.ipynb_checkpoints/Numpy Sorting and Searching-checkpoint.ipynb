{
 "cells": [
  {
   "cell_type": "code",
   "execution_count": 1,
   "id": "4af8b755-d3f5-430c-8f47-b968cb2112cd",
   "metadata": {},
   "outputs": [],
   "source": [
    "import numpy as np"
   ]
  },
  {
   "cell_type": "code",
   "execution_count": 8,
   "id": "cfa77c86-efb9-40d2-970b-47a3a4c91fc2",
   "metadata": {},
   "outputs": [
    {
     "data": {
      "text/plain": [
       "array([1, 3, 0, 4, 2], dtype=int64)"
      ]
     },
     "execution_count": 8,
     "metadata": {},
     "output_type": "execute_result"
    }
   ],
   "source": [
    "names = np.array([\"Alice\", \"Bob\", \"Charlie\", \"Alice\", \"Bob\"])\n",
    "scores = np.array([90, 85, 95, 88, 92])\n",
    "\n",
    "sorted_indices = np.lexsort((names, scores))\n",
    "sorted_indices\n"
   ]
  },
  {
   "cell_type": "code",
   "execution_count": 9,
   "id": "b2e288d1-b1a7-44fb-b9a8-b2977e743bb4",
   "metadata": {},
   "outputs": [],
   "source": [
    "sorted_names = names[sorted_indices]"
   ]
  },
  {
   "cell_type": "code",
   "execution_count": 10,
   "id": "7a02b59f-6034-445a-a13e-17219653ccee",
   "metadata": {},
   "outputs": [
    {
     "data": {
      "text/plain": [
       "array(['Bob', 'Alice', 'Alice', 'Bob', 'Charlie'], dtype='<U7')"
      ]
     },
     "execution_count": 10,
     "metadata": {},
     "output_type": "execute_result"
    }
   ],
   "source": [
    "sorted_names"
   ]
  },
  {
   "cell_type": "code",
   "execution_count": 11,
   "id": "952ce0ea-4af2-46b4-ac0a-bf10cd9eda84",
   "metadata": {},
   "outputs": [],
   "source": [
    "sorted_scores = scores[sorted_indices]"
   ]
  },
  {
   "cell_type": "code",
   "execution_count": 12,
   "id": "76017560-0bdf-4c97-904e-45b65c304161",
   "metadata": {},
   "outputs": [
    {
     "data": {
      "text/plain": [
       "array([85, 88, 90, 92, 95])"
      ]
     },
     "execution_count": 12,
     "metadata": {},
     "output_type": "execute_result"
    }
   ],
   "source": [
    "sorted_scores"
   ]
  },
  {
   "cell_type": "code",
   "execution_count": null,
   "id": "f73a7c1d-607c-46a8-973f-8b5a5fa717ec",
   "metadata": {},
   "outputs": [],
   "source": []
  },
  {
   "cell_type": "code",
   "execution_count": null,
   "id": "c0ceb12e-b2d3-4643-8f39-474d2ecf780c",
   "metadata": {},
   "outputs": [],
   "source": []
  },
  {
   "cell_type": "code",
   "execution_count": 16,
   "id": "f1d425f8-1dd3-4b42-8be1-38d4d780fd30",
   "metadata": {},
   "outputs": [
    {
     "name": "stdout",
     "output_type": "stream",
     "text": [
      "[1 1 0]\n",
      "[0 0 1]\n",
      "[2 1]\n",
      "[0 2]\n"
     ]
    }
   ],
   "source": [
    "arr2D = np.array([[10, 20, 30], [40, 50, 5]])\n",
    "\n",
    "print(np.argmax(arr2D, axis=0))\n",
    "print(np.argmin(arr2D, axis=0))\n",
    "print(np.argmax(arr2D, axis=1))\n",
    "print(np.argmin(arr2D, axis=1))"
   ]
  },
  {
   "cell_type": "code",
   "execution_count": null,
   "id": "e92b9b6f-9853-42d0-bb38-591d148ce762",
   "metadata": {},
   "outputs": [],
   "source": []
  },
  {
   "cell_type": "code",
   "execution_count": null,
   "id": "40f781e8-7bc6-4fe4-a15d-637a9f0d987c",
   "metadata": {},
   "outputs": [],
   "source": []
  },
  {
   "cell_type": "markdown",
   "id": "1ef3f029-6f79-46a3-abb7-9764a1abdc6a",
   "metadata": {},
   "source": [
    "# Write a NumPy program to create a structured array from given student name, height, class and their data types. Now sort the array on height."
   ]
  },
  {
   "cell_type": "code",
   "execution_count": 23,
   "id": "60a08db1-ca2d-4548-85e6-59a53823e930",
   "metadata": {},
   "outputs": [
    {
     "data": {
      "text/plain": [
       "array([(b'James', 5, 48.5 ), (b'Nail', 6, 52.5 ), (b'Paul', 5, 42.1 ),\n",
       "       (b'Pit', 5, 40.11)],\n",
       "      dtype=[('name', 'S15'), ('class', '<i4'), ('height', '<f8')])"
      ]
     },
     "execution_count": 23,
     "metadata": {},
     "output_type": "execute_result"
    }
   ],
   "source": [
    "data_type = [('name', 'S15'), ('class', int), ('height', float)]\n",
    "students_details = [('James', 5, 48.5), ('Nail', 6, 52.5), ('Paul', 5, 42.10), ('Pit', 5, 40.11)]\n",
    "students = np.array(students_details, dtype=data_type)\n",
    "students"
   ]
  },
  {
   "cell_type": "code",
   "execution_count": 22,
   "id": "1654cc54-eb24-4ed3-a3d7-73acba705e39",
   "metadata": {},
   "outputs": [
    {
     "name": "stdout",
     "output_type": "stream",
     "text": [
      "[(b'James', 5, 48.5 ) (b'Nail', 6, 52.5 ) (b'Paul', 5, 42.1 )\n",
      " (b'Pit', 5, 40.11)]\n"
     ]
    }
   ],
   "source": [
    "print(students)"
   ]
  },
  {
   "cell_type": "code",
   "execution_count": 26,
   "id": "3e8bf5ec-4ca0-420c-b6a4-207ead58bfa3",
   "metadata": {},
   "outputs": [
    {
     "name": "stdout",
     "output_type": "stream",
     "text": [
      "[(b'Pit', 5, 40.11) (b'Paul', 5, 42.1 ) (b'James', 5, 48.5 )\n",
      " (b'Nail', 6, 52.5 )]\n"
     ]
    }
   ],
   "source": [
    "print(np.sort(students, order=\"height\"))"
   ]
  },
  {
   "cell_type": "code",
   "execution_count": 28,
   "id": "536a4c35-8b07-48b7-8dee-b8ce2ba0a406",
   "metadata": {},
   "outputs": [
    {
     "name": "stdout",
     "output_type": "stream",
     "text": [
      "[(b'James', 5, 48.5 ) (b'Paul', 5, 42.1 ) (b'Pit', 5, 40.11)\n",
      " (b'Nail', 6, 52.5 )]\n"
     ]
    }
   ],
   "source": [
    "print(np.sort(students, order=\"class\"))"
   ]
  },
  {
   "cell_type": "code",
   "execution_count": 30,
   "id": "0f504ed1-50c7-4804-877c-34ed402f1eb7",
   "metadata": {},
   "outputs": [
    {
     "name": "stdout",
     "output_type": "stream",
     "text": [
      "[(b'James', 5, 48.5 ) (b'Nail', 6, 52.5 ) (b'Paul', 5, 42.1 )\n",
      " (b'Pit', 5, 40.11)]\n"
     ]
    }
   ],
   "source": [
    "print(np.sort(students, order=\"name\"))"
   ]
  },
  {
   "cell_type": "code",
   "execution_count": 35,
   "id": "a1fe3a77-3697-4e54-9b67-3b76c0ca21ab",
   "metadata": {},
   "outputs": [
    {
     "name": "stdout",
     "output_type": "stream",
     "text": [
      "[(b'Pit', 5, 40.11) (b'Paul', 5, 42.1 ) (b'James', 5, 48.5 )\n",
      " (b'Nail', 6, 45.5 )]\n"
     ]
    }
   ],
   "source": [
    "print(np.sort(students, order=[\"class\", \"height\"]))"
   ]
  },
  {
   "cell_type": "markdown",
   "id": "b5f03058-935c-439b-8bdd-0e01c32b4d43",
   "metadata": {},
   "source": [
    "### Same Output using lexsort method but upper one is easy to understand"
   ]
  },
  {
   "cell_type": "code",
   "execution_count": 34,
   "id": "2c48d281-9397-4c79-afda-6fee066b5c5d",
   "metadata": {},
   "outputs": [
    {
     "name": "stdout",
     "output_type": "stream",
     "text": [
      "[(b'Pit', 5, 40.11) (b'Paul', 5, 42.1 ) (b'James', 5, 48.5 )\n",
      " (b'Nail', 6, 45.5 )]\n"
     ]
    }
   ],
   "source": [
    "data_type = [('name', 'S15'), ('class', int), ('height', float)]\n",
    "students_details = [('James', 5, 48.5), ('Nail', 6, 45.5), ('Paul', 5, 42.10), ('Pit', 5, 40.11)]\n",
    "\n",
    "# Create structured NumPy array\n",
    "students = np.array(students_details, dtype=data_type)\n",
    "\n",
    "# Extract columns (keys) correctly\n",
    "class_column = students['class']  # Extract 'class' field\n",
    "height_column = students['height']  # Extract 'height' field\n",
    "\n",
    "# Pass the fields correctly to np.lexsort()\n",
    "sorted_indices = np.lexsort((height_column, class_column))\n",
    "\n",
    "# Apply sorting\n",
    "sorted_students = students[sorted_indices]\n",
    "\n",
    "print(sorted_students)"
   ]
  },
  {
   "cell_type": "code",
   "execution_count": null,
   "id": "d207529d-c13d-4416-84c6-75b2d5ab99e3",
   "metadata": {},
   "outputs": [],
   "source": []
  },
  {
   "cell_type": "code",
   "execution_count": null,
   "id": "749c08f9-59a8-406e-986f-837347915467",
   "metadata": {},
   "outputs": [],
   "source": []
  },
  {
   "cell_type": "code",
   "execution_count": 38,
   "id": "a8776fae-448e-4411-911d-739c6cd4a087",
   "metadata": {},
   "outputs": [
    {
     "name": "stdout",
     "output_type": "stream",
     "text": [
      "[1023 5202 6230 1671 1682 5241 4532]\n"
     ]
    },
    {
     "data": {
      "text/plain": [
       "array([0, 3, 4, 6, 1, 5, 2], dtype=int64)"
      ]
     },
     "execution_count": 38,
     "metadata": {},
     "output_type": "execute_result"
    }
   ],
   "source": [
    "student_id = np.array([1023, 5202, 6230, 1671, 1682, 5241, 4532])\n",
    "\n",
    "print(student_id)\n",
    "indices = np.argsort(student_id)\n",
    "indices"
   ]
  },
  {
   "cell_type": "code",
   "execution_count": null,
   "id": "4999c481-f24c-4277-ac87-24939130cf52",
   "metadata": {},
   "outputs": [],
   "source": []
  },
  {
   "cell_type": "code",
   "execution_count": null,
   "id": "995f970b-e9b0-426b-aaa7-bf3003f754da",
   "metadata": {},
   "outputs": [],
   "source": []
  },
  {
   "cell_type": "code",
   "execution_count": 52,
   "id": "7d45cf6e-aeaf-4554-a9d3-81f4e24f4355",
   "metadata": {},
   "outputs": [
    {
     "name": "stdout",
     "output_type": "stream",
     "text": [
      "[ 20 -11  30  40  60  50  70]\n"
     ]
    }
   ],
   "source": [
    "nums = np.array([70, 20, 30, -11, 60, 50, 40])\n",
    "print(np.partition(nums, 3))"
   ]
  },
  {
   "cell_type": "code",
   "execution_count": null,
   "id": "6eba8d0e-6ca0-40ab-98e2-71d85800e9ba",
   "metadata": {},
   "outputs": [],
   "source": []
  },
  {
   "cell_type": "code",
   "execution_count": null,
   "id": "f3fc0144-c620-450d-8baa-7750f4bf9ca2",
   "metadata": {},
   "outputs": [],
   "source": []
  }
 ],
 "metadata": {
  "kernelspec": {
   "display_name": "Python 3 (ipykernel)",
   "language": "python",
   "name": "python3"
  },
  "language_info": {
   "codemirror_mode": {
    "name": "ipython",
    "version": 3
   },
   "file_extension": ".py",
   "mimetype": "text/x-python",
   "name": "python",
   "nbconvert_exporter": "python",
   "pygments_lexer": "ipython3",
   "version": "3.12.7"
  }
 },
 "nbformat": 4,
 "nbformat_minor": 5
}
