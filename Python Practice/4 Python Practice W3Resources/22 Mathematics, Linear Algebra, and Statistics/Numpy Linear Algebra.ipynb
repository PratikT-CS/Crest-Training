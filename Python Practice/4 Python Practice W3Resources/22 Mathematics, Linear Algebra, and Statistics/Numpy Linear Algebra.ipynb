{
 "cells": [
  {
   "cell_type": "markdown",
   "id": "25bf9d17-6bb3-42f6-9606-6b4ee04cd30f",
   "metadata": {},
   "source": [
    "# Write a NumPy program to compute the determinant of an array."
   ]
  },
  {
   "cell_type": "code",
   "execution_count": 7,
   "id": "1df2d97a-a482-499c-99da-7831a16fbd64",
   "metadata": {},
   "outputs": [
    {
     "name": "stdout",
     "output_type": "stream",
     "text": [
      "[[1 2]\n",
      " [5 4]]\n"
     ]
    },
    {
     "data": {
      "text/plain": [
       "-6.0"
      ]
     },
     "execution_count": 7,
     "metadata": {},
     "output_type": "execute_result"
    }
   ],
   "source": [
    "import numpy as np\n",
    "\n",
    "a = np.array([[1,2],[5,4]])\n",
    "\n",
    "det = np.linalg.det(a)\n",
    "print(a)\n",
    "det"
   ]
  },
  {
   "cell_type": "code",
   "execution_count": null,
   "id": "b34171b9-85e2-4a5f-80eb-fd49b6b034e8",
   "metadata": {},
   "outputs": [],
   "source": []
  },
  {
   "cell_type": "code",
   "execution_count": null,
   "id": "b489d5e0-eb03-4b5f-88cc-34625eb50ea1",
   "metadata": {},
   "outputs": [],
   "source": []
  },
  {
   "cell_type": "markdown",
   "id": "0e10473c-45e5-41c3-a3bc-f810e79fae6f",
   "metadata": {},
   "source": [
    "# Write a NumPy program to compute the inverse of a given matrix."
   ]
  },
  {
   "cell_type": "code",
   "execution_count": 8,
   "id": "0d06b192-a74d-4586-8aee-b853f8d881ac",
   "metadata": {},
   "outputs": [],
   "source": [
    "inv = np.linalg.inv(a)"
   ]
  },
  {
   "cell_type": "code",
   "execution_count": 9,
   "id": "a0cc4ca2-62d1-433a-8c90-26b78190a42e",
   "metadata": {},
   "outputs": [
    {
     "data": {
      "text/plain": [
       "array([[-0.66666667,  0.33333333],\n",
       "       [ 0.83333333, -0.16666667]])"
      ]
     },
     "execution_count": 9,
     "metadata": {},
     "output_type": "execute_result"
    }
   ],
   "source": [
    "inv"
   ]
  },
  {
   "cell_type": "code",
   "execution_count": null,
   "id": "a0df3b0e-488f-467b-904e-cd085588d0b8",
   "metadata": {},
   "outputs": [],
   "source": []
  },
  {
   "cell_type": "code",
   "execution_count": 10,
   "id": "15393af1-7813-4a8d-9955-47b97cdf0ebd",
   "metadata": {},
   "outputs": [
    {
     "data": {
      "text/plain": [
       "array([[1, 2],\n",
       "       [5, 4]])"
      ]
     },
     "execution_count": 10,
     "metadata": {},
     "output_type": "execute_result"
    }
   ],
   "source": [
    "a"
   ]
  },
  {
   "cell_type": "code",
   "execution_count": 11,
   "id": "6c77f3f0-76b6-4321-bfb9-c575a131406c",
   "metadata": {},
   "outputs": [
    {
     "data": {
      "text/plain": [
       "5"
      ]
     },
     "execution_count": 11,
     "metadata": {},
     "output_type": "execute_result"
    }
   ],
   "source": [
    "np.trace(a)"
   ]
  },
  {
   "cell_type": "code",
   "execution_count": null,
   "id": "ee70549c-e993-4120-835b-912b84116eda",
   "metadata": {},
   "outputs": [],
   "source": []
  }
 ],
 "metadata": {
  "kernelspec": {
   "display_name": "Python 3 (ipykernel)",
   "language": "python",
   "name": "python3"
  },
  "language_info": {
   "codemirror_mode": {
    "name": "ipython",
    "version": 3
   },
   "file_extension": ".py",
   "mimetype": "text/x-python",
   "name": "python",
   "nbconvert_exporter": "python",
   "pygments_lexer": "ipython3",
   "version": "3.12.7"
  }
 },
 "nbformat": 4,
 "nbformat_minor": 5
}
