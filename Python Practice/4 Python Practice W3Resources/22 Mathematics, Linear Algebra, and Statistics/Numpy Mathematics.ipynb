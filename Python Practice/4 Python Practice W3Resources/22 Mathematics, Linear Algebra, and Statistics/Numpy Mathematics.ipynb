{
 "cells": [
  {
   "cell_type": "markdown",
   "id": "a5ef8bf4-8e92-4ecb-9556-0af436753d8d",
   "metadata": {},
   "source": [
    "# Write a NumPy program to calculate cumulative sum of the elements along a given axis, sum over rows for each of the 3 columns and sum over columns for each of the 2 rows of a given 3x3 array."
   ]
  },
  {
   "cell_type": "code",
   "execution_count": 5,
   "id": "686c9a41-8b6f-4aa9-a8a7-3d37b198acab",
   "metadata": {},
   "outputs": [
    {
     "name": "stdout",
     "output_type": "stream",
     "text": [
      "[[1 2 3]\n",
      " [4 5 6]]\n",
      "\n",
      "Cumulative sum of the elements along a given axis:\n",
      "[ 1  3  6 10 15 21]\n",
      "\n",
      "Sum over rows for each of the 3 columns:\n",
      "[[1 2 3]\n",
      " [5 7 9]]\n",
      "\n",
      "Sum over columns for each of the 2 rows:\n",
      "[[ 1  3  6]\n",
      " [ 4  9 15]]\n"
     ]
    }
   ],
   "source": [
    "import numpy as np\n",
    "\n",
    "x = np.array([[1, 2, 3], [4, 5, 6]])\n",
    "print(x)\n",
    "\n",
    "print(\"\\nCumulative sum of the elements along a given axis:\")\n",
    "r = np.cumsum(x)\n",
    "print(r)\n",
    "\n",
    "print(\"\\nSum over rows for each of the 3 columns:\")\n",
    "r = np.cumsum(x, axis=0)\n",
    "print(r)\n",
    "\n",
    "print(\"\\nSum over columns for each of the 2 rows:\")\n",
    "r = np.cumsum(x, axis=1)\n",
    "print(r) "
   ]
  },
  {
   "cell_type": "code",
   "execution_count": null,
   "id": "542b4583-50b9-4cfa-8e4e-a7fe8a84d272",
   "metadata": {},
   "outputs": [],
   "source": []
  },
  {
   "cell_type": "code",
   "execution_count": null,
   "id": "7920197b-105e-4534-bd0f-c940178b5f11",
   "metadata": {},
   "outputs": [],
   "source": []
  },
  {
   "cell_type": "code",
   "execution_count": 6,
   "id": "4d3015b9-c8e7-452c-9504-b7edc01c7403",
   "metadata": {},
   "outputs": [
    {
     "data": {
      "text/plain": [
       "array([1, 2, 3, 4, 5, 6])"
      ]
     },
     "execution_count": 6,
     "metadata": {},
     "output_type": "execute_result"
    }
   ],
   "source": [
    "x.flatten()"
   ]
  },
  {
   "cell_type": "code",
   "execution_count": null,
   "id": "d7e5dfb3-f790-4441-b720-8e4dc8a102bb",
   "metadata": {},
   "outputs": [],
   "source": []
  }
 ],
 "metadata": {
  "kernelspec": {
   "display_name": "Python 3 (ipykernel)",
   "language": "python",
   "name": "python3"
  },
  "language_info": {
   "codemirror_mode": {
    "name": "ipython",
    "version": 3
   },
   "file_extension": ".py",
   "mimetype": "text/x-python",
   "name": "python",
   "nbconvert_exporter": "python",
   "pygments_lexer": "ipython3",
   "version": "3.12.7"
  }
 },
 "nbformat": 4,
 "nbformat_minor": 5
}
