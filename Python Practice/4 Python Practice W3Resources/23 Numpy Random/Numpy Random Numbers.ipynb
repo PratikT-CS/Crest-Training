{
 "cells": [
  {
   "cell_type": "markdown",
   "id": "38576636-b588-49ec-8a20-6648a5e53cc1",
   "metadata": {},
   "source": [
    "# Write a  NumPy program to create a 5x5 array with random values and find the minimum and maximum values."
   ]
  },
  {
   "cell_type": "code",
   "execution_count": 1,
   "id": "a971b35f-d0ff-44bf-bc42-2af0f531cc20",
   "metadata": {},
   "outputs": [],
   "source": [
    "import numpy as np"
   ]
  },
  {
   "cell_type": "code",
   "execution_count": 2,
   "id": "e194ff78-372c-4ba8-a48a-42a370ce9045",
   "metadata": {},
   "outputs": [],
   "source": [
    "random_arr = np.random.rand(25)"
   ]
  },
  {
   "cell_type": "code",
   "execution_count": 3,
   "id": "7e83c3c8-2c49-4cef-ad07-155605f1e5b4",
   "metadata": {},
   "outputs": [
    {
     "data": {
      "text/plain": [
       "array([0.80615241, 0.52054856, 0.68066089, 0.25127279, 0.26457269,\n",
       "       0.57439959, 0.54859801, 0.95372262, 0.00387154, 0.29298857,\n",
       "       0.19029003, 0.83235687, 0.34981397, 0.07089018, 0.43887488,\n",
       "       0.95590605, 0.82853572, 0.88212048, 0.88723786, 0.91999281,\n",
       "       0.78996662, 0.69750208, 0.51887018, 0.40288276, 0.41229583])"
      ]
     },
     "execution_count": 3,
     "metadata": {},
     "output_type": "execute_result"
    }
   ],
   "source": [
    "random_arr"
   ]
  },
  {
   "cell_type": "code",
   "execution_count": 4,
   "id": "1f372950-7b8e-4d6c-8ad7-eea9016621f9",
   "metadata": {},
   "outputs": [],
   "source": [
    "random_arr = random_arr.reshape(5, 5)"
   ]
  },
  {
   "cell_type": "code",
   "execution_count": 5,
   "id": "e8c4b9a1-4a91-4e9d-9b19-3c85be49185a",
   "metadata": {},
   "outputs": [
    {
     "data": {
      "text/plain": [
       "array([[0.80615241, 0.52054856, 0.68066089, 0.25127279, 0.26457269],\n",
       "       [0.57439959, 0.54859801, 0.95372262, 0.00387154, 0.29298857],\n",
       "       [0.19029003, 0.83235687, 0.34981397, 0.07089018, 0.43887488],\n",
       "       [0.95590605, 0.82853572, 0.88212048, 0.88723786, 0.91999281],\n",
       "       [0.78996662, 0.69750208, 0.51887018, 0.40288276, 0.41229583]])"
      ]
     },
     "execution_count": 5,
     "metadata": {},
     "output_type": "execute_result"
    }
   ],
   "source": [
    "random_arr"
   ]
  },
  {
   "cell_type": "code",
   "execution_count": 8,
   "id": "03cf8765-dd06-4835-9a37-48196f9dc712",
   "metadata": {},
   "outputs": [],
   "source": [
    "max_ = np.max(random_arr)"
   ]
  },
  {
   "cell_type": "code",
   "execution_count": 9,
   "id": "1f79d108-1ff5-4f8c-b152-acde7c8e4569",
   "metadata": {},
   "outputs": [
    {
     "data": {
      "text/plain": [
       "0.9559060471094412"
      ]
     },
     "execution_count": 9,
     "metadata": {},
     "output_type": "execute_result"
    }
   ],
   "source": [
    "max_"
   ]
  },
  {
   "cell_type": "code",
   "execution_count": 10,
   "id": "6089f407-6f7a-4b0d-aaed-38a7b72c0ec9",
   "metadata": {},
   "outputs": [],
   "source": [
    "min_ = np.min(random_arr)"
   ]
  },
  {
   "cell_type": "code",
   "execution_count": 11,
   "id": "ce68ad89-ef67-4f34-a02f-8ba6e51a7db5",
   "metadata": {},
   "outputs": [
    {
     "data": {
      "text/plain": [
       "0.003871537231918465"
      ]
     },
     "execution_count": 11,
     "metadata": {},
     "output_type": "execute_result"
    }
   ],
   "source": [
    "min_"
   ]
  },
  {
   "cell_type": "code",
   "execution_count": null,
   "id": "c7200f88-1abd-4102-a8ca-b9cd8ce6e60e",
   "metadata": {},
   "outputs": [],
   "source": []
  },
  {
   "cell_type": "code",
   "execution_count": null,
   "id": "4cb2d044-1ecb-4358-84b7-f5a91fa8c9bc",
   "metadata": {},
   "outputs": [],
   "source": []
  },
  {
   "cell_type": "markdown",
   "id": "214b5d67-1d25-407d-a4c8-5eb11834a4c3",
   "metadata": {},
   "source": [
    "# Write a NumPy program to shuffle numbers between 0 and 10 (inclusive)."
   ]
  },
  {
   "cell_type": "code",
   "execution_count": 12,
   "id": "773a1db6-154e-47de-96b0-84f4dc331bf5",
   "metadata": {},
   "outputs": [],
   "source": [
    "arr = np.random.randint(0,11,10)"
   ]
  },
  {
   "cell_type": "code",
   "execution_count": 13,
   "id": "d71fbafe-2f55-4186-9579-eb2d38d6f69f",
   "metadata": {},
   "outputs": [
    {
     "data": {
      "text/plain": [
       "array([ 6, 10,  1,  0,  2,  1,  6,  6,  2,  5])"
      ]
     },
     "execution_count": 13,
     "metadata": {},
     "output_type": "execute_result"
    }
   ],
   "source": [
    "arr"
   ]
  },
  {
   "cell_type": "code",
   "execution_count": 15,
   "id": "74115377-5503-447d-9c57-f219fce769d4",
   "metadata": {},
   "outputs": [],
   "source": [
    "np.random.shuffle(arr)"
   ]
  },
  {
   "cell_type": "code",
   "execution_count": 16,
   "id": "ef37647d-5935-41b8-9b60-5b9cadd3fb19",
   "metadata": {},
   "outputs": [
    {
     "data": {
      "text/plain": [
       "array([ 6,  6,  2,  1,  5,  6, 10,  2,  0,  1])"
      ]
     },
     "execution_count": 16,
     "metadata": {},
     "output_type": "execute_result"
    }
   ],
   "source": [
    "arr"
   ]
  },
  {
   "cell_type": "code",
   "execution_count": null,
   "id": "b6e99b3c-0860-4cfb-a77a-87cc7638a3b0",
   "metadata": {},
   "outputs": [],
   "source": []
  }
 ],
 "metadata": {
  "kernelspec": {
   "display_name": "Python 3 (ipykernel)",
   "language": "python",
   "name": "python3"
  },
  "language_info": {
   "codemirror_mode": {
    "name": "ipython",
    "version": 3
   },
   "file_extension": ".py",
   "mimetype": "text/x-python",
   "name": "python",
   "nbconvert_exporter": "python",
   "pygments_lexer": "ipython3",
   "version": "3.12.7"
  }
 },
 "nbformat": 4,
 "nbformat_minor": 5
}
