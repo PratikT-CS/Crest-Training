{
 "cells": [
  {
   "cell_type": "markdown",
   "id": "bf258c2a-38ec-4e44-9449-25684ccb5d94",
   "metadata": {},
   "source": [
    "# Create a  Python project to split a given data list into several small sections."
   ]
  },
  {
   "cell_type": "code",
   "execution_count": 3,
   "id": "730cfcad-e501-40c3-9dc7-dc74072d0a6f",
   "metadata": {},
   "outputs": [],
   "source": [
    "class Slicer(object):\n",
    "    @staticmethod\n",
    "    def cut(data, amount):\n",
    "        slices, temp = [], []\n",
    "        for x in range(1, len(data)+1):\n",
    "            temp.append(data[x-1])\n",
    "            if x % amount == 0 or x == len(data):\n",
    "                slices.append(temp)\n",
    "                temp = []\n",
    "        return slices"
   ]
  },
  {
   "cell_type": "code",
   "execution_count": 5,
   "id": "b4878ba4-d465-47e8-9b8b-efae18d67d08",
   "metadata": {},
   "outputs": [
    {
     "name": "stdout",
     "output_type": "stream",
     "text": [
      "[[200, 1230], [15, 2200], [5550]]\n",
      "[[{'foodname': 'Ayam Bakar', 'price': 12000}, {'foodname': 'Jus Mangga', 'price': 7000}], [{'foodname': 'Mie Goreng', 'price': 9000}, {'foodname': 'Chicken Katsu', 'price': 15000}]]\n"
     ]
    }
   ],
   "source": [
    "data = [\n",
    "    200, 1230, 15, 2200, 5550\n",
    "]\n",
    "#2 is amount to split\n",
    "data_slice = Slicer.cut(data, 2)\n",
    "print(data_slice)\n",
    "\n",
    "\n",
    "data = [\n",
    "    {\n",
    "        \"foodname\": \"Ayam Bakar\",\n",
    "        \"price\": 12000\n",
    "    }, \n",
    "    {\n",
    "        \"foodname\": \"Jus Mangga\",\n",
    "        \"price\": 7000\n",
    "    },\n",
    "    {\n",
    "        \"foodname\": \"Mie Goreng\",\n",
    "        \"price\": 9000\n",
    "    },\n",
    "    {\n",
    "        \"foodname\": \"Chicken Katsu\",\n",
    "        \"price\": 15000\n",
    "    },\n",
    "]\n",
    "print(Slicer.cut(data, 2))"
   ]
  },
  {
   "cell_type": "code",
   "execution_count": null,
   "id": "a30e9288-b51d-45aa-8b7a-5352ceb26a6a",
   "metadata": {},
   "outputs": [],
   "source": []
  },
  {
   "cell_type": "code",
   "execution_count": null,
   "id": "e0b582ed-8b5c-455a-94ae-68c9c7400a98",
   "metadata": {},
   "outputs": [],
   "source": []
  },
  {
   "cell_type": "markdown",
   "id": "1ab7eb2a-f8a6-4a76-afbf-8a121c5bebf1",
   "metadata": {},
   "source": [
    "# Create a  Python project to get a property from a nested object using a dot path"
   ]
  },
  {
   "cell_type": "code",
   "execution_count": 13,
   "id": "71f15741-adec-49a0-bd25-59e78137edc0",
   "metadata": {},
   "outputs": [],
   "source": [
    "def get(obj, path: str, default=None):\n",
    "    value = obj\n",
    "    for key in path.split('.'):\n",
    "        if isinstance(value, list):\n",
    "            index = int(key)\n",
    "            if index < len(value):\n",
    "                value = value[index]\n",
    "            else:\n",
    "                return default\n",
    "        elif isinstance(value, dict):\n",
    "            if key in value:\n",
    "                value = value[key]\n",
    "            else:\n",
    "                return default\n",
    "        else:\n",
    "            if hasattr(value, key):\n",
    "                value = getattr(value, key)\n",
    "            else:\n",
    "                return default\n",
    "    return value"
   ]
  },
  {
   "cell_type": "code",
   "execution_count": 14,
   "id": "144f291a-2abf-4c43-8ce9-4b02741366f6",
   "metadata": {},
   "outputs": [
    {
     "name": "stdout",
     "output_type": "stream",
     "text": [
      "S0001\n",
      "y\n",
      "None\n",
      "16\n",
      "20\n",
      "Hank Navas\n"
     ]
    }
   ],
   "source": [
    "data = {\n",
    "    'code': 'S0001',\n",
    "    'nested': {'x': 'y', 'int': 0, 'null': None},\n",
    "    'nums': [[12, 14, 16, 18, 20]],\n",
    "    'names': ['Hank Navas', 'Melinda Swatzell', 'Lucio Tardy', 'Hershel Luebke']\n",
    "     }\n",
    "\n",
    "print(get(data, 'code'))\n",
    "print(get(data, 'nested.x'))\n",
    "print(get(data, 'nested.null'))\n",
    "print(get(data, 'nums.0.2'))\n",
    "print(get(data, 'nums.0.-1'))\n",
    "print(get(data, 'names.0'))"
   ]
  },
  {
   "cell_type": "code",
   "execution_count": null,
   "id": "eb7c9eb9-4732-4704-9f64-7dc6d39d6b4e",
   "metadata": {},
   "outputs": [],
   "source": []
  }
 ],
 "metadata": {
  "kernelspec": {
   "display_name": "Python 3 (ipykernel)",
   "language": "python",
   "name": "python3"
  },
  "language_info": {
   "codemirror_mode": {
    "name": "ipython",
    "version": 3
   },
   "file_extension": ".py",
   "mimetype": "text/x-python",
   "name": "python",
   "nbconvert_exporter": "python",
   "pygments_lexer": "ipython3",
   "version": "3.12.7"
  }
 },
 "nbformat": 4,
 "nbformat_minor": 5
}
