{
 "cells": [
  {
   "cell_type": "markdown",
   "id": "e307d5e4-8c8c-49fb-860c-b7f601944bdf",
   "metadata": {},
   "source": [
    "# Write a  Python program to get the latest number of confirmed, deaths, recovered and active cases of Novel Coronavirus (COVID-19) Country wise."
   ]
  },
  {
   "cell_type": "code",
   "execution_count": 13,
   "id": "6cb6a0d0-f274-4e73-b2bf-2605c90d7bef",
   "metadata": {
    "scrolled": true
   },
   "outputs": [
    {
     "name": "stdout",
     "output_type": "stream",
     "text": [
      "                       Country/Region  Confirmed  Deaths  Recovered  Active\n",
      "0                         Afghanistan         26       0          1      25\n",
      "1                             Albania         55       1          0      54\n",
      "2                             Algeria         60       4         12      44\n",
      "3                             Andorra         39       0          1      38\n",
      "4                          Antarctica          0       0          0       0\n",
      "5                 Antigua and Barbuda          1       0          0       1\n",
      "6                           Argentina         68       2          3      63\n",
      "7                             Armenia         78       0          1      77\n",
      "8                               Aruba          3       0          0       3\n",
      "9                           Australia        452       5         23     424\n",
      "10                            Austria        999       3          1     995\n",
      "11                         Azerbaijan         28       1          6      21\n",
      "12                            Bahrain        228       1         81     146\n",
      "13                         Bangladesh         10       0          3       7\n",
      "14                           Barbados          2       0          0       2\n",
      "15                            Belarus         36       0          3      33\n",
      "16                            Belgium       1243      10          1    1232\n",
      "17                              Benin          1       0          0       1\n",
      "18                             Bhutan          1       0          0       1\n",
      "19                            Bolivia         11       0          0      11\n",
      "20             Bosnia and Herzegovina         26       0          2      24\n",
      "21                             Brazil        321       1          2     318\n",
      "22                             Brunei         56       0          0      56\n",
      "23                           Bulgaria         67       2          0      65\n",
      "24                       Burkina Faso         15       0          0      15\n",
      "25                           Cambodia         33       0          1      32\n",
      "26                           Cameroon         10       0          0      10\n",
      "27                             Canada        854       6          9     839\n",
      "28           Central African Republic          1       0          0       1\n",
      "29                              Chile        201       0          0     201\n",
      "30                              China      81058    3230      68798    9030\n",
      "31                           Colombia         65       0          1      64\n",
      "32                Congo (Brazzaville)          1       0          0       1\n",
      "33                   Congo (Kinshasa)          3       0          0       3\n",
      "34                         Costa Rica         41       0          0      41\n",
      "35                      Cote d'Ivoire          5       0          1       4\n",
      "36                            Croatia         65       0          4      61\n",
      "37                        Cruise Ship        696       7        325     364\n",
      "38                               Cuba          5       0          0       5\n",
      "39                             Cyprus         40       0          0      40\n",
      "40                            Czechia        396       0          3     393\n",
      "41                            Denmark       1024       4          1    1019\n",
      "42                 Dominican Republic         21       1          0      20\n",
      "43                            Ecuador         58       2          0      56\n",
      "44                              Egypt        196       4         32     160\n",
      "45                  Equatorial Guinea          1       0          0       1\n",
      "46                            Estonia        225       0          1     224\n",
      "47                           Eswatini          1       0          0       1\n",
      "48                           Ethiopia          5       0          0       5\n",
      "49                            Finland        413       4         10     399\n",
      "50                             France       7683     148         12    7523\n",
      "51                      French Guiana         11       0          0      11\n",
      "52                              Gabon          1       0          0       1\n",
      "53                            Georgia         34       0          1      33\n",
      "54                            Germany       9257      24         67    9166\n",
      "55                              Ghana          7       0          0       7\n",
      "56                             Greece        387       5          8     374\n",
      "57                          Greenland          1       0          0       1\n",
      "58                         Guadeloupe         18       0          0      18\n",
      "59                               Guam          3       0          0       3\n",
      "60                          Guatemala          6       1          0       5\n",
      "61                           Guernsey          0       0          0       0\n",
      "62                             Guinea          1       0          0       1\n",
      "63                             Guyana          7       1          0       6\n",
      "64                           Holy See          1       0          0       1\n",
      "65                           Honduras          8       0          0       8\n",
      "66                            Hungary         50       1          2      47\n",
      "67                            Iceland        220       1          0     219\n",
      "68                              India        142       3         14     125\n",
      "69                          Indonesia        172       5          8     159\n",
      "70                               Iran      16169     988       5389    9792\n",
      "71                               Iraq        154      11         32     111\n",
      "72                            Ireland        223       2          5     216\n",
      "73                             Israel        382       0          3     379\n",
      "74                              Italy      31506    2503       2941   26062\n",
      "75                            Jamaica         12       0          2      10\n",
      "76                              Japan        878      29        144     705\n",
      "77                             Jersey          0       0          0       0\n",
      "78                             Jordan         34       0          1      33\n",
      "79                         Kazakhstan         33       0          0      33\n",
      "80                              Kenya          3       0          0       3\n",
      "81                           Kiribati          0       0          0       0\n",
      "82                       Korea, North          0       0          0       0\n",
      "83                       Korea, South       8320      81       1407    6832\n",
      "84                             Kosovo          2       0          0       2\n",
      "85                             Kuwait        130       0          9     121\n",
      "86                             Latvia         49       0          1      48\n",
      "87                            Lebanon        120       3          3     114\n",
      "88                            Liberia          5       0          0       5\n",
      "89                      Liechtenstein         19       0          0      19\n",
      "90                          Lithuania          0       0          1      -1\n",
      "91                         Luxembourg        140       1          0     139\n",
      "92                           Malaysia          0       0          0       0\n",
      "93                           Maldives         13       0          0      13\n",
      "94                              Malta         38       0          2      36\n",
      "95                         Martinique         16       1          0      15\n",
      "96                         Mauritania          1       0          0       1\n",
      "97                            Mayotte          1       0          0       1\n",
      "98                             Mexico         82       0          4      78\n",
      "99                            Moldova         30       0          1      29\n",
      "100                            Monaco          7       0          0       7\n",
      "101                          Mongolia          4       0          0       4\n",
      "102                        Montenegro          2       0          0       2\n",
      "103                           Morocco         38       2          1      35\n",
      "104                           Namibia          2       0          0       2\n",
      "105                             Nauru          0       0          0       0\n",
      "106                             Nepal          1       0          1       0\n",
      "107                       Netherlands       1708      43          2    1663\n",
      "108                       New Zealand         12       0          0      12\n",
      "109                           Nigeria          3       0          0       3\n",
      "110                   North Macedonia         26       0          1      25\n",
      "111                            Norway       1463       3          1    1459\n",
      "112                              Oman         24       0          9      15\n",
      "113                          Pakistan        236       0          2     234\n",
      "114                             Palau          0       0          0       0\n",
      "115                            Panama         69       1          0      68\n",
      "116                          Paraguay         11       0          0      11\n",
      "117                              Peru        117       9          1     107\n",
      "118                       Philippines        187      12          5     170\n",
      "119                            Poland        238       5         13     220\n",
      "120                          Portugal        448       1          3     444\n",
      "121                       Puerto Rico          0       0          0       0\n",
      "122                             Qatar        439       0          4     435\n",
      "123             Republic of the Congo          0       0          0       0\n",
      "124                           Reunion          9       0          0       9\n",
      "125                           Romania        184       0         16     168\n",
      "126                            Russia        114       0          8     106\n",
      "127                            Rwanda          7       0          0       7\n",
      "128                       Saint Lucia          2       0          0       2\n",
      "129  Saint Vincent and the Grenadines          1       0          0       1\n",
      "130                        San Marino        102       9          4      89\n",
      "131                      Saudi Arabia        171       0          6     165\n",
      "132                           Senegal         26       0          2      24\n",
      "133                            Serbia         65       0          1      64\n",
      "134                        Seychelles          8       0          0       8\n",
      "135                         Singapore        266       0        114     152\n",
      "136                          Slovakia         72       0          0      72\n",
      "137                          Slovenia        275       1          0     274\n",
      "138                           Somalia          1       0          0       1\n",
      "139                      South Africa         62       0          0      62\n",
      "140                             Spain      11748     533       1028   10187\n",
      "141                         Sri Lanka         44       0          1      43\n",
      "142                             Sudan          1       1          0       0\n",
      "143              Summer Olympics 2020          0       0          0       0\n",
      "144                          Suriname          1       0          0       1\n",
      "145                            Sweden       1190       7          1    1182\n",
      "146                       Switzerland       2700      40          4    2656\n",
      "147                           Taiwan*         77       1         22      54\n",
      "148                          Tanzania          1       0          0       1\n",
      "149                          Thailand        177       1         41     135\n",
      "150                       The Bahamas          1       0          0       1\n",
      "151                        The Gambia          1       0          0       1\n",
      "152                              Togo          1       0          0       1\n",
      "153                             Tonga          0       0          0       0\n",
      "154               Trinidad and Tobago          5       0          0       5\n",
      "155                           Tunisia         24       0          0      24\n",
      "156                            Turkey         47       1          0      46\n",
      "157                            Tuvalu          0       0          0       0\n",
      "158                                US       6421     108         17    6296\n",
      "159                           Ukraine         14       2          0      12\n",
      "160              United Arab Emirates         98       0         23      75\n",
      "161                    United Kingdom       1954     217         53    1684\n",
      "162                           Uruguay         29       0          0      29\n",
      "163                        Uzbekistan         10       0          0      10\n",
      "164                         Venezuela         33       0          0      33\n",
      "165                           Vietnam         66       0         16      50\n",
      "166              Winter Olympics 2022          0       0          0       0\n",
      "167    occupied Palestinian territory          0       0          0       0\n"
     ]
    }
   ],
   "source": [
    "import pandas as pd\n",
    "covid_data= pd.read_csv('https://raw.githubusercontent.com/CSSEGISandData/COVID-19/master/csse_covid_19_data/csse_covid_19_daily_reports/03-17-2020.csv')\n",
    "covid_data['Active'] = covid_data['Confirmed'] - covid_data['Deaths'] - covid_data['Recovered']\n",
    "result = covid_data.groupby('Country/Region')[['Confirmed', 'Deaths', 'Recovered', 'Active']].sum().reset_index()\n",
    "print(result) "
   ]
  },
  {
   "cell_type": "code",
   "execution_count": 14,
   "id": "f48e34cc-d5f1-4b7d-889b-0073831cb994",
   "metadata": {},
   "outputs": [
    {
     "data": {
      "text/html": [
       "<div>\n",
       "<style scoped>\n",
       "    .dataframe tbody tr th:only-of-type {\n",
       "        vertical-align: middle;\n",
       "    }\n",
       "\n",
       "    .dataframe tbody tr th {\n",
       "        vertical-align: top;\n",
       "    }\n",
       "\n",
       "    .dataframe thead th {\n",
       "        text-align: right;\n",
       "    }\n",
       "</style>\n",
       "<table border=\"1\" class=\"dataframe\">\n",
       "  <thead>\n",
       "    <tr style=\"text-align: right;\">\n",
       "      <th></th>\n",
       "      <th>Province/State</th>\n",
       "      <th>Country/Region</th>\n",
       "      <th>Last Update</th>\n",
       "      <th>Confirmed</th>\n",
       "      <th>Deaths</th>\n",
       "      <th>Recovered</th>\n",
       "      <th>Latitude</th>\n",
       "      <th>Longitude</th>\n",
       "      <th>Active</th>\n",
       "    </tr>\n",
       "  </thead>\n",
       "  <tbody>\n",
       "    <tr>\n",
       "      <th>73</th>\n",
       "      <td>NaN</td>\n",
       "      <td>India</td>\n",
       "      <td>2020-03-17T15:33:06</td>\n",
       "      <td>142</td>\n",
       "      <td>3</td>\n",
       "      <td>14</td>\n",
       "      <td>20.5937</td>\n",
       "      <td>78.9629</td>\n",
       "      <td>125</td>\n",
       "    </tr>\n",
       "  </tbody>\n",
       "</table>\n",
       "</div>"
      ],
      "text/plain": [
       "   Province/State Country/Region          Last Update  Confirmed  Deaths  \\\n",
       "73            NaN          India  2020-03-17T15:33:06        142       3   \n",
       "\n",
       "    Recovered  Latitude  Longitude  Active  \n",
       "73         14   20.5937    78.9629     125  "
      ]
     },
     "execution_count": 14,
     "metadata": {},
     "output_type": "execute_result"
    }
   ],
   "source": [
    "india_data = covid_data[covid_data['Country/Region'] == 'India']\n",
    "india_data"
   ]
  },
  {
   "cell_type": "code",
   "execution_count": null,
   "id": "586a2098-5c78-492b-8ff1-2aa3e78d9f66",
   "metadata": {},
   "outputs": [],
   "source": []
  },
  {
   "cell_type": "code",
   "execution_count": null,
   "id": "ca2ff581-3921-486f-b915-e46fe9e71cd5",
   "metadata": {},
   "outputs": [],
   "source": []
  },
  {
   "cell_type": "markdown",
   "id": "089fbaa9-fded-462e-81cc-e81883f1e4c8",
   "metadata": {},
   "source": [
    "# Write a  Python program to get the latest number of confirmed deaths and recovered people of Novel Coronavirus (COVID-19) cases Country/Region - Province/State wise."
   ]
  },
  {
   "cell_type": "code",
   "execution_count": 16,
   "id": "3c2694e2-5fc8-407f-a139-50dca0476b34",
   "metadata": {
    "scrolled": true
   },
   "outputs": [
    {
     "name": "stdout",
     "output_type": "stream",
     "text": [
      "                                             Confirmed  Deaths  Recovered\n",
      "Country/Region Province/State                                            \n",
      "Australia      Australian Capital Territory          2       0          0\n",
      "               From Diamond Princess                 0       0          0\n",
      "               New South Wales                     171       2          4\n",
      "               Northern Territory                    1       0          0\n",
      "               Queensland                           68       0          8\n",
      "               South Australia                      29       0          3\n",
      "               Tasmania                              7       0          0\n",
      "               Victoria                             71       0          8\n",
      "               Western Australia                    28       1          0\n",
      "Canada         Alberta                              56       0          0\n",
      "               British Columbia                    103       4          4\n",
      "               Grand Princess                        2       0          0\n",
      "               Manitoba                              7       0          0\n",
      "               New Brunswick                         6       0          0\n",
      "               Newfoundland and Labrador             1       0          0\n",
      "               Nova Scotia                           5       0          0\n",
      "               Ontario                             427       5          5\n",
      "               Prince Edward Island                  1       0          0\n",
      "               Quebec                               85       0          0\n",
      "               Saskatchewan                          7       0          0\n",
      "China          Anhui                               990       6        984\n",
      "               Beijing                             452       8        360\n",
      "               Chongqing                           576       6        570\n",
      "               Fujian                              296       1        295\n",
      "               Gansu                               133       2         91\n",
      "               Guangdong                          1361       8       1306\n",
      "               Guangxi                             252       2        248\n",
      "               Guizhou                             146       2        144\n",
      "               Hainan                              168       6        161\n",
      "               Hebei                               318       6        310\n",
      "               Heilongjiang                        482      13        455\n",
      "               Henan                              1273      22       1250\n",
      "               Hong Kong                           155       4         84\n",
      "               Hubei                             67798    3099      55142\n",
      "               Hunan                              1018       4       1014\n",
      "               Inner Mongolia                       75       1         73\n",
      "               Jiangsu                             631       0        631\n",
      "               Jiangxi                             935       1        934\n",
      "               Jilin                                93       1         92\n",
      "               Liaoning                            125       1        115\n",
      "               Macau                                11       0         10\n",
      "               Ningxia                              75       0         75\n",
      "               Qinghai                              18       0         18\n",
      "               Shaanxi                             245       2        233\n",
      "               Shandong                            760       7        746\n",
      "               Shanghai                            355       3        325\n",
      "               Shanxi                              133       0        133\n",
      "               Sichuan                             539       3        516\n",
      "               Tianjin                             136       3        133\n",
      "               Tibet                                 1       0          1\n",
      "               Unknown                               0       0          0\n",
      "               Xinjiang                             76       3         73\n",
      "               Yunnan                              176       2        172\n",
      "               Zhejiang                           1231       1       1216\n",
      "Cruise Ship    Diamond Princess                    696       7        325\n",
      "Denmark        Denmark                             914       3          1\n",
      "               Faroe Islands                        18       0          0\n",
      "France         France                             6633     148         12\n",
      "               French Guiana                         5       0          0\n",
      "               French Polynesia                      3       0          0\n",
      "               Guadeloupe                            3       0          0\n",
      "               Mayotte                               1       0          0\n",
      "               Saint Barthelemy                      3       0          0\n",
      "               St Martin                             2       0          0\n",
      "Malaysia       Johor                                 0       0          0\n",
      "               Kedah                                 0       0          0\n",
      "               Kelantan                              0       0          0\n",
      "               Melaka                                0       0          0\n",
      "               Negeri Sembilan                       0       0          0\n",
      "               Pahang                                0       0          0\n",
      "               Perak                                 0       0          0\n",
      "               Perlis                                0       0          0\n",
      "               Pulau Pinang                          0       0          0\n",
      "               Sabah                                 0       0          0\n",
      "               Sarawak                               0       0          0\n",
      "               Selangor                              0       0          0\n",
      "               Terengganu                            0       0          0\n",
      "               Unknown                               0       0          0\n",
      "               W.P. Kuala Lumpur                     0       0          0\n",
      "               W.P. Labuan                           0       0          0\n",
      "               W.P. Putrajaya                        0       0          0\n",
      "Netherlands    Curacao                               1       0          0\n",
      "               Netherlands                        1413      24          2\n",
      "New Zealand    Cook Islands                          0       0          0\n",
      "               Niue                                  0       0          0\n",
      "US             Alabama                              29       0          0\n",
      "               Alaska                                1       0          0\n",
      "               Arizona                              18       0          1\n",
      "               Arkansas                             22       0          0\n",
      "               California                          557       7          6\n",
      "               Colorado                            160       1          0\n",
      "               Connecticut                          30       0          0\n",
      "               Delaware                              8       0          0\n",
      "               Diamond Princess                     47       0          0\n",
      "               District of Columbia                 22       0          0\n",
      "               Florida                             155       5          0\n",
      "               Georgia                             121       1          0\n",
      "               Grand Princess                       20       0          0\n",
      "               Guam                                  3       0          0\n",
      "               Hawaii                                7       0          0\n",
      "               Idaho                                 5       0          0\n",
      "               Illinois                            105       0          2\n",
      "               Indiana                              25       1          0\n",
      "               Iowa                                 23       0          0\n",
      "               Kansas                               11       1          0\n",
      "               Kentucky                             21       1          1\n",
      "               Louisiana                           136       3          0\n",
      "               Maine                                17       0          0\n",
      "               Maryland                             41       0          3\n",
      "               Massachusetts                       197       0          1\n",
      "               Michigan                             53       0          0\n",
      "               Minnesota                            54       0          0\n",
      "               Mississippi                          13       0          0\n",
      "               Missouri                              6       0          0\n",
      "               Montana                               7       0          0\n",
      "               Nebraska                             18       0          0\n",
      "               Nevada                               45       1          0\n",
      "               New Hampshire                        17       0          0\n",
      "               New Jersey                          178       2          1\n",
      "               New Mexico                           17       0          0\n",
      "               New York                            967      10          0\n",
      "               North Carolina                       38       0          0\n",
      "               North Dakota                          1       0          0\n",
      "               Ohio                                 50       0          0\n",
      "               Oklahoma                             10       0          0\n",
      "               Oregon                               39       1          0\n",
      "               Pennsylvania                         77       0          0\n",
      "               Puerto Rico                           5       0          0\n",
      "               Rhode Island                         21       0          0\n",
      "               South Carolina                       33       1          0\n",
      "               South Dakota                         10       1          0\n",
      "               Tennessee                            52       0          0\n",
      "               Texas                                85       0          0\n",
      "               Utah                                 39       0          0\n",
      "               Vermont                              12       0          0\n",
      "               Virgin Islands                        1       0          0\n",
      "               Virginia                             49       1          0\n",
      "               Washington                          904      48          1\n",
      "               West Virginia                         0       0          0\n",
      "               Wisconsin                            47       0          1\n",
      "               Wyoming                               3       0          0\n",
      "Ukraine        Unknown                               0       0          0\n",
      "United Kingdom Cayman Islands                        1       1          0\n",
      "               Channel Islands                       0       0          0\n",
      "               England                               0     144          0\n",
      "               Gibraltar                             1       0          1\n",
      "               Guernsey                              0       0          0\n",
      "               Jersey                                0       0          0\n",
      "               Northern Ireland                      0       0          0\n",
      "               Pitcairn Islands                      0       0          0\n",
      "               Scotland                              0       8          0\n",
      "               Unknown                            1543       2         20\n",
      "               Wales                                 0       4          0\n"
     ]
    }
   ],
   "source": [
    "import pandas as pd\n",
    "covid_data= pd.read_csv('https://raw.githubusercontent.com/CSSEGISandData/COVID-19/master/csse_covid_19_data/csse_covid_19_daily_reports/03-16-2020.csv')\n",
    "india_data = covid_data[covid_data['Country/Region'] == 'India']\n",
    "data = covid_data.groupby(['Country/Region', 'Province/State'])[['Confirmed', 'Deaths', 'Recovered']].max()\n",
    "pd.set_option('display.max_rows', None)\n",
    "print(data)"
   ]
  },
  {
   "cell_type": "code",
   "execution_count": null,
   "id": "838b1973-75ac-490f-a35f-390507e4d070",
   "metadata": {},
   "outputs": [],
   "source": []
  },
  {
   "cell_type": "code",
   "execution_count": null,
   "id": "6a1488d5-3bdb-4af3-b01d-1b865ec3e28c",
   "metadata": {},
   "outputs": [],
   "source": []
  },
  {
   "cell_type": "markdown",
   "id": "fe65f287-19e0-4de5-b66f-c7bf7ced1875",
   "metadata": {},
   "source": [
    "# Write a Python program to visualize the state/province wise Active cases of Novel Coronavirus (COVID-19) in USA."
   ]
  },
  {
   "cell_type": "code",
   "execution_count": 28,
   "id": "d57ef5fc-4196-42c4-95e6-20c20ec03272",
   "metadata": {
    "scrolled": true
   },
   "outputs": [
    {
     "data": {
      "application/vnd.plotly.v1+json": {
       "config": {
        "plotlyServerURL": "https://plot.ly"
       },
       "data": [
        {
         "alignmentgroup": "True",
         "hovertemplate": "Province/State=%{x}<br>Active=%{text}<extra></extra>",
         "legendgroup": "",
         "marker": {
          "color": "#636efa",
          "pattern": {
           "shape": ""
          }
         },
         "name": "",
         "offsetgroup": "",
         "orientation": "v",
         "showlegend": false,
         "text": [
          46,
          6,
          27,
          33,
          738,
          182,
          68,
          19,
          47,
          31,
          307,
          196,
          21,
          5,
          14,
          9,
          161,
          37,
          29,
          17,
          26,
          253,
          42,
          85,
          218,
          83,
          77,
          34,
          18,
          11,
          24,
          54,
          26,
          264,
          23,
          2479,
          70,
          6,
          86,
          19,
          66,
          152,
          5,
          33,
          46,
          10,
          79,
          170,
          2,
          51,
          18,
          2,
          75,
          959,
          1,
          92,
          15
         ],
         "textposition": "auto",
         "type": "bar",
         "x": [
          "Alabama",
          "Alaska",
          "Arizona",
          "Arkansas",
          "California",
          "Colorado",
          "Connecticut",
          "Delaware",
          "Diamond Princess",
          "District of Columbia",
          "Florida",
          "Georgia",
          "Grand Princess",
          "Guam",
          "Hawaii",
          "Idaho",
          "Illinois",
          "Indiana",
          "Iowa",
          "Kansas",
          "Kentucky",
          "Louisiana",
          "Maine",
          "Maryland",
          "Massachusetts",
          "Michigan",
          "Minnesota",
          "Mississippi",
          "Missouri",
          "Montana",
          "Nebraska",
          "Nevada",
          "New Hampshire",
          "New Jersey",
          "New Mexico",
          "New York",
          "North Carolina",
          "North Dakota",
          "Ohio",
          "Oklahoma",
          "Oregon",
          "Pennsylvania",
          "Puerto Rico",
          "Rhode Island",
          "South Carolina",
          "South Dakota",
          "Tennessee",
          "Texas",
          "United States Virgin Islands",
          "Utah",
          "Vermont",
          "Virgin Islands",
          "Virginia",
          "Washington",
          "West Virginia",
          "Wisconsin",
          "Wyoming"
         ],
         "xaxis": "x",
         "y": [
          46,
          6,
          27,
          33,
          738,
          182,
          68,
          19,
          47,
          31,
          307,
          196,
          21,
          5,
          14,
          9,
          161,
          37,
          29,
          17,
          26,
          253,
          42,
          85,
          218,
          83,
          77,
          34,
          18,
          11,
          24,
          54,
          26,
          264,
          23,
          2479,
          70,
          6,
          86,
          19,
          66,
          152,
          5,
          33,
          46,
          10,
          79,
          170,
          2,
          51,
          18,
          2,
          75,
          959,
          1,
          92,
          15
         ],
         "yaxis": "y"
        }
       ],
       "layout": {
        "autosize": true,
        "barmode": "relative",
        "legend": {
         "tracegroupgap": 0
        },
        "template": {
         "data": {
          "bar": [
           {
            "error_x": {
             "color": "#2a3f5f"
            },
            "error_y": {
             "color": "#2a3f5f"
            },
            "marker": {
             "line": {
              "color": "#E5ECF6",
              "width": 0.5
             },
             "pattern": {
              "fillmode": "overlay",
              "size": 10,
              "solidity": 0.2
             }
            },
            "type": "bar"
           }
          ],
          "barpolar": [
           {
            "marker": {
             "line": {
              "color": "#E5ECF6",
              "width": 0.5
             },
             "pattern": {
              "fillmode": "overlay",
              "size": 10,
              "solidity": 0.2
             }
            },
            "type": "barpolar"
           }
          ],
          "carpet": [
           {
            "aaxis": {
             "endlinecolor": "#2a3f5f",
             "gridcolor": "white",
             "linecolor": "white",
             "minorgridcolor": "white",
             "startlinecolor": "#2a3f5f"
            },
            "baxis": {
             "endlinecolor": "#2a3f5f",
             "gridcolor": "white",
             "linecolor": "white",
             "minorgridcolor": "white",
             "startlinecolor": "#2a3f5f"
            },
            "type": "carpet"
           }
          ],
          "choropleth": [
           {
            "colorbar": {
             "outlinewidth": 0,
             "ticks": ""
            },
            "type": "choropleth"
           }
          ],
          "contour": [
           {
            "colorbar": {
             "outlinewidth": 0,
             "ticks": ""
            },
            "colorscale": [
             [
              0,
              "#0d0887"
             ],
             [
              0.1111111111111111,
              "#46039f"
             ],
             [
              0.2222222222222222,
              "#7201a8"
             ],
             [
              0.3333333333333333,
              "#9c179e"
             ],
             [
              0.4444444444444444,
              "#bd3786"
             ],
             [
              0.5555555555555556,
              "#d8576b"
             ],
             [
              0.6666666666666666,
              "#ed7953"
             ],
             [
              0.7777777777777778,
              "#fb9f3a"
             ],
             [
              0.8888888888888888,
              "#fdca26"
             ],
             [
              1,
              "#f0f921"
             ]
            ],
            "type": "contour"
           }
          ],
          "contourcarpet": [
           {
            "colorbar": {
             "outlinewidth": 0,
             "ticks": ""
            },
            "type": "contourcarpet"
           }
          ],
          "heatmap": [
           {
            "colorbar": {
             "outlinewidth": 0,
             "ticks": ""
            },
            "colorscale": [
             [
              0,
              "#0d0887"
             ],
             [
              0.1111111111111111,
              "#46039f"
             ],
             [
              0.2222222222222222,
              "#7201a8"
             ],
             [
              0.3333333333333333,
              "#9c179e"
             ],
             [
              0.4444444444444444,
              "#bd3786"
             ],
             [
              0.5555555555555556,
              "#d8576b"
             ],
             [
              0.6666666666666666,
              "#ed7953"
             ],
             [
              0.7777777777777778,
              "#fb9f3a"
             ],
             [
              0.8888888888888888,
              "#fdca26"
             ],
             [
              1,
              "#f0f921"
             ]
            ],
            "type": "heatmap"
           }
          ],
          "heatmapgl": [
           {
            "colorbar": {
             "outlinewidth": 0,
             "ticks": ""
            },
            "colorscale": [
             [
              0,
              "#0d0887"
             ],
             [
              0.1111111111111111,
              "#46039f"
             ],
             [
              0.2222222222222222,
              "#7201a8"
             ],
             [
              0.3333333333333333,
              "#9c179e"
             ],
             [
              0.4444444444444444,
              "#bd3786"
             ],
             [
              0.5555555555555556,
              "#d8576b"
             ],
             [
              0.6666666666666666,
              "#ed7953"
             ],
             [
              0.7777777777777778,
              "#fb9f3a"
             ],
             [
              0.8888888888888888,
              "#fdca26"
             ],
             [
              1,
              "#f0f921"
             ]
            ],
            "type": "heatmapgl"
           }
          ],
          "histogram": [
           {
            "marker": {
             "pattern": {
              "fillmode": "overlay",
              "size": 10,
              "solidity": 0.2
             }
            },
            "type": "histogram"
           }
          ],
          "histogram2d": [
           {
            "colorbar": {
             "outlinewidth": 0,
             "ticks": ""
            },
            "colorscale": [
             [
              0,
              "#0d0887"
             ],
             [
              0.1111111111111111,
              "#46039f"
             ],
             [
              0.2222222222222222,
              "#7201a8"
             ],
             [
              0.3333333333333333,
              "#9c179e"
             ],
             [
              0.4444444444444444,
              "#bd3786"
             ],
             [
              0.5555555555555556,
              "#d8576b"
             ],
             [
              0.6666666666666666,
              "#ed7953"
             ],
             [
              0.7777777777777778,
              "#fb9f3a"
             ],
             [
              0.8888888888888888,
              "#fdca26"
             ],
             [
              1,
              "#f0f921"
             ]
            ],
            "type": "histogram2d"
           }
          ],
          "histogram2dcontour": [
           {
            "colorbar": {
             "outlinewidth": 0,
             "ticks": ""
            },
            "colorscale": [
             [
              0,
              "#0d0887"
             ],
             [
              0.1111111111111111,
              "#46039f"
             ],
             [
              0.2222222222222222,
              "#7201a8"
             ],
             [
              0.3333333333333333,
              "#9c179e"
             ],
             [
              0.4444444444444444,
              "#bd3786"
             ],
             [
              0.5555555555555556,
              "#d8576b"
             ],
             [
              0.6666666666666666,
              "#ed7953"
             ],
             [
              0.7777777777777778,
              "#fb9f3a"
             ],
             [
              0.8888888888888888,
              "#fdca26"
             ],
             [
              1,
              "#f0f921"
             ]
            ],
            "type": "histogram2dcontour"
           }
          ],
          "mesh3d": [
           {
            "colorbar": {
             "outlinewidth": 0,
             "ticks": ""
            },
            "type": "mesh3d"
           }
          ],
          "parcoords": [
           {
            "line": {
             "colorbar": {
              "outlinewidth": 0,
              "ticks": ""
             }
            },
            "type": "parcoords"
           }
          ],
          "pie": [
           {
            "automargin": true,
            "type": "pie"
           }
          ],
          "scatter": [
           {
            "fillpattern": {
             "fillmode": "overlay",
             "size": 10,
             "solidity": 0.2
            },
            "type": "scatter"
           }
          ],
          "scatter3d": [
           {
            "line": {
             "colorbar": {
              "outlinewidth": 0,
              "ticks": ""
             }
            },
            "marker": {
             "colorbar": {
              "outlinewidth": 0,
              "ticks": ""
             }
            },
            "type": "scatter3d"
           }
          ],
          "scattercarpet": [
           {
            "marker": {
             "colorbar": {
              "outlinewidth": 0,
              "ticks": ""
             }
            },
            "type": "scattercarpet"
           }
          ],
          "scattergeo": [
           {
            "marker": {
             "colorbar": {
              "outlinewidth": 0,
              "ticks": ""
             }
            },
            "type": "scattergeo"
           }
          ],
          "scattergl": [
           {
            "marker": {
             "colorbar": {
              "outlinewidth": 0,
              "ticks": ""
             }
            },
            "type": "scattergl"
           }
          ],
          "scattermapbox": [
           {
            "marker": {
             "colorbar": {
              "outlinewidth": 0,
              "ticks": ""
             }
            },
            "type": "scattermapbox"
           }
          ],
          "scatterpolar": [
           {
            "marker": {
             "colorbar": {
              "outlinewidth": 0,
              "ticks": ""
             }
            },
            "type": "scatterpolar"
           }
          ],
          "scatterpolargl": [
           {
            "marker": {
             "colorbar": {
              "outlinewidth": 0,
              "ticks": ""
             }
            },
            "type": "scatterpolargl"
           }
          ],
          "scatterternary": [
           {
            "marker": {
             "colorbar": {
              "outlinewidth": 0,
              "ticks": ""
             }
            },
            "type": "scatterternary"
           }
          ],
          "surface": [
           {
            "colorbar": {
             "outlinewidth": 0,
             "ticks": ""
            },
            "colorscale": [
             [
              0,
              "#0d0887"
             ],
             [
              0.1111111111111111,
              "#46039f"
             ],
             [
              0.2222222222222222,
              "#7201a8"
             ],
             [
              0.3333333333333333,
              "#9c179e"
             ],
             [
              0.4444444444444444,
              "#bd3786"
             ],
             [
              0.5555555555555556,
              "#d8576b"
             ],
             [
              0.6666666666666666,
              "#ed7953"
             ],
             [
              0.7777777777777778,
              "#fb9f3a"
             ],
             [
              0.8888888888888888,
              "#fdca26"
             ],
             [
              1,
              "#f0f921"
             ]
            ],
            "type": "surface"
           }
          ],
          "table": [
           {
            "cells": {
             "fill": {
              "color": "#EBF0F8"
             },
             "line": {
              "color": "white"
             }
            },
            "header": {
             "fill": {
              "color": "#C8D4E3"
             },
             "line": {
              "color": "white"
             }
            },
            "type": "table"
           }
          ]
         },
         "layout": {
          "annotationdefaults": {
           "arrowcolor": "#2a3f5f",
           "arrowhead": 0,
           "arrowwidth": 1
          },
          "autotypenumbers": "strict",
          "coloraxis": {
           "colorbar": {
            "outlinewidth": 0,
            "ticks": ""
           }
          },
          "colorscale": {
           "diverging": [
            [
             0,
             "#8e0152"
            ],
            [
             0.1,
             "#c51b7d"
            ],
            [
             0.2,
             "#de77ae"
            ],
            [
             0.3,
             "#f1b6da"
            ],
            [
             0.4,
             "#fde0ef"
            ],
            [
             0.5,
             "#f7f7f7"
            ],
            [
             0.6,
             "#e6f5d0"
            ],
            [
             0.7,
             "#b8e186"
            ],
            [
             0.8,
             "#7fbc41"
            ],
            [
             0.9,
             "#4d9221"
            ],
            [
             1,
             "#276419"
            ]
           ],
           "sequential": [
            [
             0,
             "#0d0887"
            ],
            [
             0.1111111111111111,
             "#46039f"
            ],
            [
             0.2222222222222222,
             "#7201a8"
            ],
            [
             0.3333333333333333,
             "#9c179e"
            ],
            [
             0.4444444444444444,
             "#bd3786"
            ],
            [
             0.5555555555555556,
             "#d8576b"
            ],
            [
             0.6666666666666666,
             "#ed7953"
            ],
            [
             0.7777777777777778,
             "#fb9f3a"
            ],
            [
             0.8888888888888888,
             "#fdca26"
            ],
            [
             1,
             "#f0f921"
            ]
           ],
           "sequentialminus": [
            [
             0,
             "#0d0887"
            ],
            [
             0.1111111111111111,
             "#46039f"
            ],
            [
             0.2222222222222222,
             "#7201a8"
            ],
            [
             0.3333333333333333,
             "#9c179e"
            ],
            [
             0.4444444444444444,
             "#bd3786"
            ],
            [
             0.5555555555555556,
             "#d8576b"
            ],
            [
             0.6666666666666666,
             "#ed7953"
            ],
            [
             0.7777777777777778,
             "#fb9f3a"
            ],
            [
             0.8888888888888888,
             "#fdca26"
            ],
            [
             1,
             "#f0f921"
            ]
           ]
          },
          "colorway": [
           "#636efa",
           "#EF553B",
           "#00cc96",
           "#ab63fa",
           "#FFA15A",
           "#19d3f3",
           "#FF6692",
           "#B6E880",
           "#FF97FF",
           "#FECB52"
          ],
          "font": {
           "color": "#2a3f5f"
          },
          "geo": {
           "bgcolor": "white",
           "lakecolor": "white",
           "landcolor": "#E5ECF6",
           "showlakes": true,
           "showland": true,
           "subunitcolor": "white"
          },
          "hoverlabel": {
           "align": "left"
          },
          "hovermode": "closest",
          "mapbox": {
           "style": "light"
          },
          "paper_bgcolor": "white",
          "plot_bgcolor": "#E5ECF6",
          "polar": {
           "angularaxis": {
            "gridcolor": "white",
            "linecolor": "white",
            "ticks": ""
           },
           "bgcolor": "#E5ECF6",
           "radialaxis": {
            "gridcolor": "white",
            "linecolor": "white",
            "ticks": ""
           }
          },
          "scene": {
           "xaxis": {
            "backgroundcolor": "#E5ECF6",
            "gridcolor": "white",
            "gridwidth": 2,
            "linecolor": "white",
            "showbackground": true,
            "ticks": "",
            "zerolinecolor": "white"
           },
           "yaxis": {
            "backgroundcolor": "#E5ECF6",
            "gridcolor": "white",
            "gridwidth": 2,
            "linecolor": "white",
            "showbackground": true,
            "ticks": "",
            "zerolinecolor": "white"
           },
           "zaxis": {
            "backgroundcolor": "#E5ECF6",
            "gridcolor": "white",
            "gridwidth": 2,
            "linecolor": "white",
            "showbackground": true,
            "ticks": "",
            "zerolinecolor": "white"
           }
          },
          "shapedefaults": {
           "line": {
            "color": "#2a3f5f"
           }
          },
          "ternary": {
           "aaxis": {
            "gridcolor": "white",
            "linecolor": "white",
            "ticks": ""
           },
           "baxis": {
            "gridcolor": "white",
            "linecolor": "white",
            "ticks": ""
           },
           "bgcolor": "#E5ECF6",
           "caxis": {
            "gridcolor": "white",
            "linecolor": "white",
            "ticks": ""
           }
          },
          "title": {
           "x": 0.05
          },
          "xaxis": {
           "automargin": true,
           "gridcolor": "white",
           "linecolor": "white",
           "ticks": "",
           "title": {
            "standoff": 15
           },
           "zerolinecolor": "white",
           "zerolinewidth": 2
          },
          "yaxis": {
           "automargin": true,
           "gridcolor": "white",
           "linecolor": "white",
           "ticks": "",
           "title": {
            "standoff": 15
           },
           "zerolinecolor": "white",
           "zerolinewidth": 2
          }
         }
        },
        "title": {
         "text": "State wise recovery cases of COVID-19 in USA"
        },
        "xaxis": {
         "anchor": "y",
         "autorange": true,
         "domain": [
          0,
          1
         ],
         "range": [
          -0.5,
          56.5
         ],
         "title": {
          "text": "Province/State"
         },
         "type": "category"
        },
        "yaxis": {
         "anchor": "x",
         "autorange": true,
         "domain": [
          0,
          1
         ],
         "range": [
          0,
          2609.4736842105262
         ],
         "title": {
          "text": "Active"
         },
         "type": "linear"
        }
       }
      },
      "image/png": "[encoded data removed]",
      "text/html": [
       "<div>                            <div id=\"ac224a36-9aab-4f28-905d-5f35daf6e359\" class=\"plotly-graph-div\" style=\"height:525px; width:100%;\"></div>            <script type=\"text/javascript\">                require([\"plotly\"], function(Plotly) {                    window.PLOTLYENV=window.PLOTLYENV || {};                                    if (document.getElementById(\"ac224a36-9aab-4f28-905d-5f35daf6e359\")) {                    Plotly.newPlot(                        \"ac224a36-9aab-4f28-905d-5f35daf6e359\",                        [{\"alignmentgroup\":\"True\",\"hovertemplate\":\"Province\\u002fState=%{x}\\u003cbr\\u003eActive=%{text}\\u003cextra\\u003e\\u003c\\u002fextra\\u003e\",\"legendgroup\":\"\",\"marker\":{\"color\":\"#636efa\",\"pattern\":{\"shape\":\"\"}},\"name\":\"\",\"offsetgroup\":\"\",\"orientation\":\"v\",\"showlegend\":false,\"text\":[46.0,6.0,27.0,33.0,738.0,182.0,68.0,19.0,47.0,31.0,307.0,196.0,21.0,5.0,14.0,9.0,161.0,37.0,29.0,17.0,26.0,253.0,42.0,85.0,218.0,83.0,77.0,34.0,18.0,11.0,24.0,54.0,26.0,264.0,23.0,2479.0,70.0,6.0,86.0,19.0,66.0,152.0,5.0,33.0,46.0,10.0,79.0,170.0,2.0,51.0,18.0,2.0,75.0,959.0,1.0,92.0,15.0],\"textposition\":\"auto\",\"x\":[\"Alabama\",\"Alaska\",\"Arizona\",\"Arkansas\",\"California\",\"Colorado\",\"Connecticut\",\"Delaware\",\"Diamond Princess\",\"District of Columbia\",\"Florida\",\"Georgia\",\"Grand Princess\",\"Guam\",\"Hawaii\",\"Idaho\",\"Illinois\",\"Indiana\",\"Iowa\",\"Kansas\",\"Kentucky\",\"Louisiana\",\"Maine\",\"Maryland\",\"Massachusetts\",\"Michigan\",\"Minnesota\",\"Mississippi\",\"Missouri\",\"Montana\",\"Nebraska\",\"Nevada\",\"New Hampshire\",\"New Jersey\",\"New Mexico\",\"New York\",\"North Carolina\",\"North Dakota\",\"Ohio\",\"Oklahoma\",\"Oregon\",\"Pennsylvania\",\"Puerto Rico\",\"Rhode Island\",\"South Carolina\",\"South Dakota\",\"Tennessee\",\"Texas\",\"United States Virgin Islands\",\"Utah\",\"Vermont\",\"Virgin Islands\",\"Virginia\",\"Washington\",\"West Virginia\",\"Wisconsin\",\"Wyoming\"],\"xaxis\":\"x\",\"y\":[46,6,27,33,738,182,68,19,47,31,307,196,21,5,14,9,161,37,29,17,26,253,42,85,218,83,77,34,18,11,24,54,26,264,23,2479,70,6,86,19,66,152,5,33,46,10,79,170,2,51,18,2,75,959,1,92,15],\"yaxis\":\"y\",\"type\":\"bar\"}],                        {\"template\":{\"data\":{\"histogram2dcontour\":[{\"type\":\"histogram2dcontour\",\"colorbar\":{\"outlinewidth\":0,\"ticks\":\"\"},\"colorscale\":[[0.0,\"#0d0887\"],[0.1111111111111111,\"#46039f\"],[0.2222222222222222,\"#7201a8\"],[0.3333333333333333,\"#9c179e\"],[0.4444444444444444,\"#bd3786\"],[0.5555555555555556,\"#d8576b\"],[0.6666666666666666,\"#ed7953\"],[0.7777777777777778,\"#fb9f3a\"],[0.8888888888888888,\"#fdca26\"],[1.0,\"#f0f921\"]]}],\"choropleth\":[{\"type\":\"choropleth\",\"colorbar\":{\"outlinewidth\":0,\"ticks\":\"\"}}],\"histogram2d\":[{\"type\":\"histogram2d\",\"colorbar\":{\"outlinewidth\":0,\"ticks\":\"\"},\"colorscale\":[[0.0,\"#0d0887\"],[0.1111111111111111,\"#46039f\"],[0.2222222222222222,\"#7201a8\"],[0.3333333333333333,\"#9c179e\"],[0.4444444444444444,\"#bd3786\"],[0.5555555555555556,\"#d8576b\"],[0.6666666666666666,\"#ed7953\"],[0.7777777777777778,\"#fb9f3a\"],[0.8888888888888888,\"#fdca26\"],[1.0,\"#f0f921\"]]}],\"heatmap\":[{\"type\":\"heatmap\",\"colorbar\":{\"outlinewidth\":0,\"ticks\":\"\"},\"colorscale\":[[0.0,\"#0d0887\"],[0.1111111111111111,\"#46039f\"],[0.2222222222222222,\"#7201a8\"],[0.3333333333333333,\"#9c179e\"],[0.4444444444444444,\"#bd3786\"],[0.5555555555555556,\"#d8576b\"],[0.6666666666666666,\"#ed7953\"],[0.7777777777777778,\"#fb9f3a\"],[0.8888888888888888,\"#fdca26\"],[1.0,\"#f0f921\"]]}],\"heatmapgl\":[{\"type\":\"heatmapgl\",\"colorbar\":{\"outlinewidth\":0,\"ticks\":\"\"},\"colorscale\":[[0.0,\"#0d0887\"],[0.1111111111111111,\"#46039f\"],[0.2222222222222222,\"#7201a8\"],[0.3333333333333333,\"#9c179e\"],[0.4444444444444444,\"#bd3786\"],[0.5555555555555556,\"#d8576b\"],[0.6666666666666666,\"#ed7953\"],[0.7777777777777778,\"#fb9f3a\"],[0.8888888888888888,\"#fdca26\"],[1.0,\"#f0f921\"]]}],\"contourcarpet\":[{\"type\":\"contourcarpet\",\"colorbar\":{\"outlinewidth\":0,\"ticks\":\"\"}}],\"contour\":[{\"type\":\"contour\",\"colorbar\":{\"outlinewidth\":0,\"ticks\":\"\"},\"colorscale\":[[0.0,\"#0d0887\"],[0.1111111111111111,\"#46039f\"],[0.2222222222222222,\"#7201a8\"],[0.3333333333333333,\"#9c179e\"],[0.4444444444444444,\"#bd3786\"],[0.5555555555555556,\"#d8576b\"],[0.6666666666666666,\"#ed7953\"],[0.7777777777777778,\"#fb9f3a\"],[0.8888888888888888,\"#fdca26\"],[1.0,\"#f0f921\"]]}],\"surface\":[{\"type\":\"surface\",\"colorbar\":{\"outlinewidth\":0,\"ticks\":\"\"},\"colorscale\":[[0.0,\"#0d0887\"],[0.1111111111111111,\"#46039f\"],[0.2222222222222222,\"#7201a8\"],[0.3333333333333333,\"#9c179e\"],[0.4444444444444444,\"#bd3786\"],[0.5555555555555556,\"#d8576b\"],[0.6666666666666666,\"#ed7953\"],[0.7777777777777778,\"#fb9f3a\"],[0.8888888888888888,\"#fdca26\"],[1.0,\"#f0f921\"]]}],\"mesh3d\":[{\"type\":\"mesh3d\",\"colorbar\":{\"outlinewidth\":0,\"ticks\":\"\"}}],\"scatter\":[{\"fillpattern\":{\"fillmode\":\"overlay\",\"size\":10,\"solidity\":0.2},\"type\":\"scatter\"}],\"parcoords\":[{\"type\":\"parcoords\",\"line\":{\"colorbar\":{\"outlinewidth\":0,\"ticks\":\"\"}}}],\"scatterpolargl\":[{\"type\":\"scatterpolargl\",\"marker\":{\"colorbar\":{\"outlinewidth\":0,\"ticks\":\"\"}}}],\"bar\":[{\"error_x\":{\"color\":\"#2a3f5f\"},\"error_y\":{\"color\":\"#2a3f5f\"},\"marker\":{\"line\":{\"color\":\"#E5ECF6\",\"width\":0.5},\"pattern\":{\"fillmode\":\"overlay\",\"size\":10,\"solidity\":0.2}},\"type\":\"bar\"}],\"scattergeo\":[{\"type\":\"scattergeo\",\"marker\":{\"colorbar\":{\"outlinewidth\":0,\"ticks\":\"\"}}}],\"scatterpolar\":[{\"type\":\"scatterpolar\",\"marker\":{\"colorbar\":{\"outlinewidth\":0,\"ticks\":\"\"}}}],\"histogram\":[{\"marker\":{\"pattern\":{\"fillmode\":\"overlay\",\"size\":10,\"solidity\":0.2}},\"type\":\"histogram\"}],\"scattergl\":[{\"type\":\"scattergl\",\"marker\":{\"colorbar\":{\"outlinewidth\":0,\"ticks\":\"\"}}}],\"scatter3d\":[{\"type\":\"scatter3d\",\"line\":{\"colorbar\":{\"outlinewidth\":0,\"ticks\":\"\"}},\"marker\":{\"colorbar\":{\"outlinewidth\":0,\"ticks\":\"\"}}}],\"scattermapbox\":[{\"type\":\"scattermapbox\",\"marker\":{\"colorbar\":{\"outlinewidth\":0,\"ticks\":\"\"}}}],\"scatterternary\":[{\"type\":\"scatterternary\",\"marker\":{\"colorbar\":{\"outlinewidth\":0,\"ticks\":\"\"}}}],\"scattercarpet\":[{\"type\":\"scattercarpet\",\"marker\":{\"colorbar\":{\"outlinewidth\":0,\"ticks\":\"\"}}}],\"carpet\":[{\"aaxis\":{\"endlinecolor\":\"#2a3f5f\",\"gridcolor\":\"white\",\"linecolor\":\"white\",\"minorgridcolor\":\"white\",\"startlinecolor\":\"#2a3f5f\"},\"baxis\":{\"endlinecolor\":\"#2a3f5f\",\"gridcolor\":\"white\",\"linecolor\":\"white\",\"minorgridcolor\":\"white\",\"startlinecolor\":\"#2a3f5f\"},\"type\":\"carpet\"}],\"table\":[{\"cells\":{\"fill\":{\"color\":\"#EBF0F8\"},\"line\":{\"color\":\"white\"}},\"header\":{\"fill\":{\"color\":\"#C8D4E3\"},\"line\":{\"color\":\"white\"}},\"type\":\"table\"}],\"barpolar\":[{\"marker\":{\"line\":{\"color\":\"#E5ECF6\",\"width\":0.5},\"pattern\":{\"fillmode\":\"overlay\",\"size\":10,\"solidity\":0.2}},\"type\":\"barpolar\"}],\"pie\":[{\"automargin\":true,\"type\":\"pie\"}]},\"layout\":{\"autotypenumbers\":\"strict\",\"colorway\":[\"#636efa\",\"#EF553B\",\"#00cc96\",\"#ab63fa\",\"#FFA15A\",\"#19d3f3\",\"#FF6692\",\"#B6E880\",\"#FF97FF\",\"#FECB52\"],\"font\":{\"color\":\"#2a3f5f\"},\"hovermode\":\"closest\",\"hoverlabel\":{\"align\":\"left\"},\"paper_bgcolor\":\"white\",\"plot_bgcolor\":\"#E5ECF6\",\"polar\":{\"bgcolor\":\"#E5ECF6\",\"angularaxis\":{\"gridcolor\":\"white\",\"linecolor\":\"white\",\"ticks\":\"\"},\"radialaxis\":{\"gridcolor\":\"white\",\"linecolor\":\"white\",\"ticks\":\"\"}},\"ternary\":{\"bgcolor\":\"#E5ECF6\",\"aaxis\":{\"gridcolor\":\"white\",\"linecolor\":\"white\",\"ticks\":\"\"},\"baxis\":{\"gridcolor\":\"white\",\"linecolor\":\"white\",\"ticks\":\"\"},\"caxis\":{\"gridcolor\":\"white\",\"linecolor\":\"white\",\"ticks\":\"\"}},\"coloraxis\":{\"colorbar\":{\"outlinewidth\":0,\"ticks\":\"\"}},\"colorscale\":{\"sequential\":[[0.0,\"#0d0887\"],[0.1111111111111111,\"#46039f\"],[0.2222222222222222,\"#7201a8\"],[0.3333333333333333,\"#9c179e\"],[0.4444444444444444,\"#bd3786\"],[0.5555555555555556,\"#d8576b\"],[0.6666666666666666,\"#ed7953\"],[0.7777777777777778,\"#fb9f3a\"],[0.8888888888888888,\"#fdca26\"],[1.0,\"#f0f921\"]],\"sequentialminus\":[[0.0,\"#0d0887\"],[0.1111111111111111,\"#46039f\"],[0.2222222222222222,\"#7201a8\"],[0.3333333333333333,\"#9c179e\"],[0.4444444444444444,\"#bd3786\"],[0.5555555555555556,\"#d8576b\"],[0.6666666666666666,\"#ed7953\"],[0.7777777777777778,\"#fb9f3a\"],[0.8888888888888888,\"#fdca26\"],[1.0,\"#f0f921\"]],\"diverging\":[[0,\"#8e0152\"],[0.1,\"#c51b7d\"],[0.2,\"#de77ae\"],[0.3,\"#f1b6da\"],[0.4,\"#fde0ef\"],[0.5,\"#f7f7f7\"],[0.6,\"#e6f5d0\"],[0.7,\"#b8e186\"],[0.8,\"#7fbc41\"],[0.9,\"#4d9221\"],[1,\"#276419\"]]},\"xaxis\":{\"gridcolor\":\"white\",\"linecolor\":\"white\",\"ticks\":\"\",\"title\":{\"standoff\":15},\"zerolinecolor\":\"white\",\"automargin\":true,\"zerolinewidth\":2},\"yaxis\":{\"gridcolor\":\"white\",\"linecolor\":\"white\",\"ticks\":\"\",\"title\":{\"standoff\":15},\"zerolinecolor\":\"white\",\"automargin\":true,\"zerolinewidth\":2},\"scene\":{\"xaxis\":{\"backgroundcolor\":\"#E5ECF6\",\"gridcolor\":\"white\",\"linecolor\":\"white\",\"showbackground\":true,\"ticks\":\"\",\"zerolinecolor\":\"white\",\"gridwidth\":2},\"yaxis\":{\"backgroundcolor\":\"#E5ECF6\",\"gridcolor\":\"white\",\"linecolor\":\"white\",\"showbackground\":true,\"ticks\":\"\",\"zerolinecolor\":\"white\",\"gridwidth\":2},\"zaxis\":{\"backgroundcolor\":\"#E5ECF6\",\"gridcolor\":\"white\",\"linecolor\":\"white\",\"showbackground\":true,\"ticks\":\"\",\"zerolinecolor\":\"white\",\"gridwidth\":2}},\"shapedefaults\":{\"line\":{\"color\":\"#2a3f5f\"}},\"annotationdefaults\":{\"arrowcolor\":\"#2a3f5f\",\"arrowhead\":0,\"arrowwidth\":1},\"geo\":{\"bgcolor\":\"white\",\"landcolor\":\"#E5ECF6\",\"subunitcolor\":\"white\",\"showland\":true,\"showlakes\":true,\"lakecolor\":\"white\"},\"title\":{\"x\":0.05},\"mapbox\":{\"style\":\"light\"}}},\"xaxis\":{\"anchor\":\"y\",\"domain\":[0.0,1.0],\"title\":{\"text\":\"Province\\u002fState\"}},\"yaxis\":{\"anchor\":\"x\",\"domain\":[0.0,1.0],\"title\":{\"text\":\"Active\"}},\"legend\":{\"tracegroupgap\":0},\"title\":{\"text\":\"State wise recovery cases of COVID-19 in USA\"},\"barmode\":\"relative\"},                        {\"responsive\": true}                    ).then(function(){\n",
       "                            \n",
       "var gd = document.getElementById('ac224a36-9aab-4f28-905d-5f35daf6e359');\n",
       "var x = new MutationObserver(function (mutations, observer) {{\n",
       "        var display = window.getComputedStyle(gd).display;\n",
       "        if (!display || display === 'none') {{\n",
       "            console.log([gd, 'removed!']);\n",
       "            Plotly.purge(gd);\n",
       "            observer.disconnect();\n",
       "        }}\n",
       "}});\n",
       "\n",
       "// Listen for the removal of the full notebook cells\n",
       "var notebookContainer = gd.closest('#notebook-container');\n",
       "if (notebookContainer) {{\n",
       "    x.observe(notebookContainer, {childList: true});\n",
       "}}\n",
       "\n",
       "// Listen for the clearing of the current output cell\n",
       "var outputEl = gd.closest('.output');\n",
       "if (outputEl) {{\n",
       "    x.observe(outputEl, {childList: true});\n",
       "}}\n",
       "\n",
       "                        })                };                });            </script>        </div>"
      ]
     },
     "metadata": {},
     "output_type": "display_data"
    }
   ],
   "source": [
    "import pandas as pd\n",
    "import plotly.express as px\n",
    " \n",
    "covid_data= pd.read_csv('https://raw.githubusercontent.com/CSSEGISandData/COVID-19/master/csse_covid_19_data/csse_covid_19_daily_reports/03-18-2020.csv')\n",
    "covid_data['Active'] = covid_data['Confirmed'] - covid_data['Deaths'] - covid_data['Recovered']\n",
    "us_data = covid_data[covid_data['Country/Region']=='US'].drop(['Country/Region','Latitude', 'Longitude'], axis=1)\n",
    "# us_data = us_data[us_data.sum(axis = 1) > 0]\n",
    "us_data = us_data[us_data.select_dtypes(include='number').sum(axis=1) > 0]\n",
    "\n",
    "us_data = us_data.groupby(['Province/State'])['Active'].sum().reset_index()\n",
    "us_data_death = us_data[us_data['Active'] > 0]\n",
    "\n",
    "state_fig = px.bar(us_data_death, x='Province/State', y='Active', title='State wise recovery cases of COVID-19 in USA', text='Active')\n",
    "state_fig.show()"
   ]
  },
  {
   "cell_type": "code",
   "execution_count": null,
   "id": "4eecc004-1a1e-403d-9364-387691f1bf5c",
   "metadata": {},
   "outputs": [],
   "source": []
  },
  {
   "cell_type": "code",
   "execution_count": null,
   "id": "c595fd3e-3ce5-42cd-afaa-e28601f82c76",
   "metadata": {},
   "outputs": [],
   "source": []
  }
 ],
 "metadata": {
  "kernelspec": {
   "display_name": "Python 3 (ipykernel)",
   "language": "python",
   "name": "python3"
  },
  "language_info": {
   "codemirror_mode": {
    "name": "ipython",
    "version": 3
   },
   "file_extension": ".py",
   "mimetype": "text/x-python",
   "name": "python",
   "nbconvert_exporter": "python",
   "pygments_lexer": "ipython3",
   "version": "3.12.7"
  }
 },
 "nbformat": 4,
 "nbformat_minor": 5
}
