{
 "cells": [
  {
   "cell_type": "markdown",
   "id": "794534ed-0cf8-4588-92f7-5b07626e0c34",
   "metadata": {},
   "source": [
    "# Write a  Python program that takes a string and encode it that the amount of symbols would be represented by integer and the symbol.\n",
    "## For example, the string \"AAAABBBCCDAAA\" would be encoded as \"4A3B2C1D3A\""
   ]
  },
  {
   "cell_type": "code",
   "execution_count": 11,
   "id": "f7d5c935-d79e-40a7-98e2-ad0e2bc94dcb",
   "metadata": {},
   "outputs": [],
   "source": [
    "def encode(str1):\n",
    "    encoded = \"\"\n",
    "    cnt = 1\n",
    "    last_char = str1[0]\n",
    "\n",
    "    for i in range(1, len(str1)):\n",
    "        if last_char == str1[i]:\n",
    "            cnt += 1\n",
    "         \n",
    "        else:\n",
    "            encoded += str(cnt) + last_char\n",
    "            cnt = 0\n",
    "            last_char = str1[i]\n",
    "            cnt += 1\n",
    "            \n",
    "    encoded += str(cnt) + last_char\n",
    "    return encoded"
   ]
  },
  {
   "cell_type": "code",
   "execution_count": 12,
   "id": "fb92f2e8-76ef-459c-83e6-f1adf6681d93",
   "metadata": {},
   "outputs": [
    {
     "data": {
      "text/plain": [
       "'4A3B2C1D3A'"
      ]
     },
     "execution_count": 12,
     "metadata": {},
     "output_type": "execute_result"
    }
   ],
   "source": [
    "encode(\"AAAABBBCCDAAA\")"
   ]
  },
  {
   "cell_type": "markdown",
   "id": "4ee03418-d585-4eac-a2bc-269cdf12f548",
   "metadata": {},
   "source": [
    "# Write a Python program that takes a string of numbers and letters and return string which consists of letters."
   ]
  },
  {
   "cell_type": "code",
   "execution_count": 21,
   "id": "0b0710e2-a17d-41f3-95b9-78657ee3b246",
   "metadata": {},
   "outputs": [],
   "source": [
    "def decode(str1):\n",
    "    ints = \"1234567890\"\n",
    "    num = \"\"\n",
    "    letters = \"\"\n",
    "    result = \"\"\n",
    "    i = 0\n",
    "\n",
    "    while i < len(str1):\n",
    "        if str1[i] in ints:\n",
    "            num += str1[i]\n",
    "        else:\n",
    "            letters += str1[i]\n",
    "        i += 1\n",
    "\n",
    "    for i, char in enumerate(num):\n",
    "        result += int(char) * letters[i]\n",
    "\n",
    "    return result\n",
    "    "
   ]
  },
  {
   "cell_type": "code",
   "execution_count": 20,
   "id": "1149a631-1d32-459f-9399-210cba2958f4",
   "metadata": {},
   "outputs": [
    {
     "data": {
      "text/plain": [
       "'AAAABBBCCDAAA'"
      ]
     },
     "execution_count": 20,
     "metadata": {},
     "output_type": "execute_result"
    }
   ],
   "source": [
    "decode('4A3B2C1D3A')"
   ]
  },
  {
   "cell_type": "code",
   "execution_count": null,
   "id": "647b3916-b0be-4a0d-baf3-846ad1c368fc",
   "metadata": {},
   "outputs": [],
   "source": []
  }
 ],
 "metadata": {
  "kernelspec": {
   "display_name": "Python 3 (ipykernel)",
   "language": "python",
   "name": "python3"
  },
  "language_info": {
   "codemirror_mode": {
    "name": "ipython",
    "version": 3
   },
   "file_extension": ".py",
   "mimetype": "text/x-python",
   "name": "python",
   "nbconvert_exporter": "python",
   "pygments_lexer": "ipython3",
   "version": "3.12.7"
  }
 },
 "nbformat": 4,
 "nbformat_minor": 5
}
