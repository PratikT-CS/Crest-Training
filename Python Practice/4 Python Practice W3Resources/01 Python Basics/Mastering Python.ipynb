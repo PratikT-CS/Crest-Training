{
 "cells": [
  {
   "cell_type": "markdown",
   "id": "8b5378e4-2c76-4a00-815e-7ba0c7e8db7b",
   "metadata": {},
   "source": [
    "## Replace all values in a list with the mean of the list."
   ]
  },
  {
   "cell_type": "code",
   "execution_count": 1,
   "id": "c44d4495-e64f-43bd-bd37-fb75145e71db",
   "metadata": {},
   "outputs": [
    {
     "name": "stdout",
     "output_type": "stream",
     "text": [
      "[30.0, 30.0, 30.0, 30.0, 30.0]\n"
     ]
    }
   ],
   "source": [
    "lst = [10, 20, 30, 40, 50]\n",
    "mean_val = sum(lst) / len(lst)\n",
    "lst = [mean_val] * len(lst)\n",
    "print(lst)"
   ]
  },
  {
   "cell_type": "markdown",
   "id": "e773d742-7c8f-4305-8c20-96cedf03037f",
   "metadata": {},
   "source": [
    "## Calculate the element-wise square of the difference between two lists."
   ]
  },
  {
   "cell_type": "code",
   "execution_count": 2,
   "id": "496a753a-b4a5-4fc6-a41b-cdef750891b2",
   "metadata": {},
   "outputs": [
    {
     "name": "stdout",
     "output_type": "stream",
     "text": [
      "[9, 9, 9]\n"
     ]
    }
   ],
   "source": [
    "lst1 = [1, 2, 3]\n",
    "lst2 = [4, 5, 6]\n",
    "squared_difference = [(x - y) ** 2 for x, y in zip(lst1, lst2)]\n",
    "print(squared_difference)"
   ]
  },
  {
   "cell_type": "markdown",
   "id": "6f258065-4afb-4ad8-807b-02807237810e",
   "metadata": {},
   "source": [
    "## Convert a list of numbers to a list of their logarithms."
   ]
  },
  {
   "cell_type": "code",
   "execution_count": 4,
   "id": "b76bbf11-65c8-41d6-9b49-80b3074f5ff6",
   "metadata": {},
   "outputs": [
    {
     "name": "stdout",
     "output_type": "stream",
     "text": [
      "[0.0, 1.0, 2.0, 3.0]\n"
     ]
    }
   ],
   "source": [
    "import math\n",
    "lst = [1, 10, 100, 1000]\n",
    "log_lst = [math.log10(x) for x in lst]\n",
    "print(log_lst)"
   ]
  },
  {
   "cell_type": "code",
   "execution_count": null,
   "id": "17364289-762c-4abb-92ca-9acf9e1a1375",
   "metadata": {},
   "outputs": [],
   "source": []
  }
 ],
 "metadata": {
  "kernelspec": {
   "display_name": "Python 3 (ipykernel)",
   "language": "python",
   "name": "python3"
  },
  "language_info": {
   "codemirror_mode": {
    "name": "ipython",
    "version": 3
   },
   "file_extension": ".py",
   "mimetype": "text/x-python",
   "name": "python",
   "nbconvert_exporter": "python",
   "pygments_lexer": "ipython3",
   "version": "3.12.7"
  }
 },
 "nbformat": 4,
 "nbformat_minor": 5
}
