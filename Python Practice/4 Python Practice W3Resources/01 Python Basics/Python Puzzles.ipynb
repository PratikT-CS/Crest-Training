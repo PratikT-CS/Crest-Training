{
 "cells": [
  {
   "cell_type": "markdown",
   "id": "99890a9d-fcb5-46d8-b37d-8f81f76ef23e",
   "metadata": {},
   "source": [
    "## Write a Python program to find a list of integers with exactly two occurrences of nineteen and at least three occurrences of five. Return True otherwise False."
   ]
  },
  {
   "cell_type": "code",
   "execution_count": 5,
   "id": "45c50fa1-555b-42f9-b44b-9ec89e56c16a",
   "metadata": {},
   "outputs": [],
   "source": [
    "from collections import Counter\n",
    "def check(arr):\n",
    "    cnt_dict = Counter(arr)\n",
    "    if cnt_dict[19] == 2 and cnt_dict[5] >= 3:\n",
    "        return True\n",
    "    return False"
   ]
  },
  {
   "cell_type": "code",
   "execution_count": 6,
   "id": "f02bd7e2-5381-4724-a5ec-02ec488be716",
   "metadata": {},
   "outputs": [
    {
     "data": {
      "text/plain": [
       "True"
      ]
     },
     "execution_count": 6,
     "metadata": {},
     "output_type": "execute_result"
    }
   ],
   "source": [
    "check([19, 19, 15, 5, 3, 5, 5, 2])"
   ]
  },
  {
   "cell_type": "code",
   "execution_count": 7,
   "id": "398a6c33-9007-47fa-9104-7178e76e1b32",
   "metadata": {},
   "outputs": [
    {
     "data": {
      "text/plain": [
       "False"
      ]
     },
     "execution_count": 7,
     "metadata": {},
     "output_type": "execute_result"
    }
   ],
   "source": [
    "check([19, 15, 15, 5, 3, 3, 5, 2])"
   ]
  },
  {
   "cell_type": "markdown",
   "id": "b96acfb6-8d13-4637-9a94-b539be6a0cac",
   "metadata": {},
   "source": [
    "## Write a Python program that accepts a list of integers and calculates the length and the fifth element. Return true if the length of the list is 8 and the fifth element occurs thrice in the said list."
   ]
  },
  {
   "cell_type": "code",
   "execution_count": 8,
   "id": "92883dd3-c441-42eb-912d-3cdc582efd04",
   "metadata": {},
   "outputs": [],
   "source": [
    "def check(arr):\n",
    "    cnt_dict = Counter(arr)\n",
    "    if cnt_dict[arr[4]] == 3 and len(arr) == 8:\n",
    "        return True\n",
    "    return False"
   ]
  },
  {
   "cell_type": "code",
   "execution_count": 9,
   "id": "6c865003-019e-4cad-821c-390ca4ff4c81",
   "metadata": {},
   "outputs": [
    {
     "data": {
      "text/plain": [
       "True"
      ]
     },
     "execution_count": 9,
     "metadata": {},
     "output_type": "execute_result"
    }
   ],
   "source": [
    "check([19, 19, 15, 5, 5, 5, 1, 2])"
   ]
  },
  {
   "cell_type": "code",
   "execution_count": 10,
   "id": "95d7289a-40eb-434d-9931-e3bcafb60212",
   "metadata": {},
   "outputs": [
    {
     "data": {
      "text/plain": [
       "False"
      ]
     },
     "execution_count": 10,
     "metadata": {},
     "output_type": "execute_result"
    }
   ],
   "source": [
    "check([19, 15, 5, 7, 5, 5, 2])"
   ]
  },
  {
   "cell_type": "markdown",
   "id": "a9e4749e-3c81-4e76-a7d1-e0354fbb7be1",
   "metadata": {},
   "source": [
    "## Write a Python program to select a string from a given list of strings with the most unique characters."
   ]
  },
  {
   "cell_type": "code",
   "execution_count": 11,
   "id": "7c70c2f3-5f95-4d78-b9f7-cdbff4f60305",
   "metadata": {},
   "outputs": [],
   "source": [
    "def check(arr):\n",
    "    max_cnt = 0\n",
    "    idx = 0\n",
    "    for i, st in enumerate(arr):\n",
    "        cnt_dict = Counter(st)\n",
    "        n = len(cnt_dict)\n",
    "        if n > max_cnt:\n",
    "            max_cnt = n\n",
    "            idx = i\n",
    "    return arr[idx]\n",
    "        "
   ]
  },
  {
   "cell_type": "code",
   "execution_count": 12,
   "id": "25bad88a-bcc7-4a05-bb03-f17dfb2ccb92",
   "metadata": {},
   "outputs": [
    {
     "data": {
      "text/plain": [
       "'abcdefhijklmnop'"
      ]
     },
     "execution_count": 12,
     "metadata": {},
     "output_type": "execute_result"
    }
   ],
   "source": [
    "check(['cat', 'catatatatctsa', 'abcdefhijklmnop', '124259239185125', '', 'foo', 'unique'])"
   ]
  },
  {
   "cell_type": "code",
   "execution_count": null,
   "id": "d5168c30-c94c-43d2-bd03-2257b2588238",
   "metadata": {},
   "outputs": [],
   "source": []
  }
 ],
 "metadata": {
  "kernelspec": {
   "display_name": "Python 3 (ipykernel)",
   "language": "python",
   "name": "python3"
  },
  "language_info": {
   "codemirror_mode": {
    "name": "ipython",
    "version": 3
   },
   "file_extension": ".py",
   "mimetype": "text/x-python",
   "name": "python",
   "nbconvert_exporter": "python",
   "pygments_lexer": "ipython3",
   "version": "3.12.7"
  }
 },
 "nbformat": 4,
 "nbformat_minor": 5
}
