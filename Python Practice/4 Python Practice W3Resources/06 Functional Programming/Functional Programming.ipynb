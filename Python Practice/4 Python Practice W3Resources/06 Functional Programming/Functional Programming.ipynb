{
 "cells": [
  {
   "cell_type": "markdown",
   "id": "d2e76726-e7b6-4344-bcb4-b0a81bab1c05",
   "metadata": {},
   "source": [
    "# Functions\n",
    "## Write a Python program that accepts a hyphen-separated sequence of words as input and prints the words in a hyphen-separated sequence after sorting them alphabetically."
   ]
  },
  {
   "cell_type": "code",
   "execution_count": 2,
   "id": "0fa6e3c9-a4b1-4422-ab05-e925d4b51006",
   "metadata": {},
   "outputs": [],
   "source": [
    "def sort_hyphen_string(string):\n",
    "    return \"-\".join(sorted(string.split(\"-\")))"
   ]
  },
  {
   "cell_type": "code",
   "execution_count": 3,
   "id": "bf676f94-ae49-441c-a443-0ae8c3cdb551",
   "metadata": {},
   "outputs": [
    {
     "data": {
      "text/plain": [
       "'black-green-red-white-yellow'"
      ]
     },
     "execution_count": 3,
     "metadata": {},
     "output_type": "execute_result"
    }
   ],
   "source": [
    "sort_hyphen_string(\"green-red-yellow-black-white\")"
   ]
  },
  {
   "cell_type": "markdown",
   "id": "7f95feb3-d927-470d-9366-8d3fb19cf2cc",
   "metadata": {},
   "source": [
    "## Write a  Python function to multiply all the numbers in a list."
   ]
  },
  {
   "cell_type": "code",
   "execution_count": 7,
   "id": "a87d217c-dbbd-47cf-a9b4-dd3aec00108d",
   "metadata": {},
   "outputs": [],
   "source": [
    "def mul_lst(lst):\n",
    "    total = 1\n",
    "    for n in lst:\n",
    "        total *= n\n",
    "    return total"
   ]
  },
  {
   "cell_type": "code",
   "execution_count": 8,
   "id": "1cbaee92-92e4-4969-bf9f-9d7a94aee7ac",
   "metadata": {},
   "outputs": [
    {
     "data": {
      "text/plain": [
       "-336"
      ]
     },
     "execution_count": 8,
     "metadata": {},
     "output_type": "execute_result"
    }
   ],
   "source": [
    "mul_lst((8, 2, 3, -1, 7))"
   ]
  },
  {
   "cell_type": "code",
   "execution_count": null,
   "id": "84fa2996-4136-40ee-bf70-7e71b63c9981",
   "metadata": {},
   "outputs": [],
   "source": []
  },
  {
   "cell_type": "code",
   "execution_count": null,
   "id": "ad6c5790-e69d-4d65-a82f-3b28b93338eb",
   "metadata": {},
   "outputs": [],
   "source": []
  },
  {
   "cell_type": "markdown",
   "id": "2151544a-c14f-4a81-b04c-130037497ad0",
   "metadata": {},
   "source": [
    "# Lambda Function\n",
    "## Write a Python program to sort a list of tuples using Lambda."
   ]
  },
  {
   "cell_type": "code",
   "execution_count": 11,
   "id": "f2e5cad6-68da-4c54-9116-8665b3306c6e",
   "metadata": {},
   "outputs": [
    {
     "data": {
      "text/plain": [
       "[('Social sciences', 82), ('English', 88), ('Science', 90), ('Maths', 97)]"
      ]
     },
     "execution_count": 11,
     "metadata": {},
     "output_type": "execute_result"
    }
   ],
   "source": [
    "subject_marks = [('English', 88), ('Science', 90), ('Maths', 97), ('Social sciences', 82)]\n",
    "sorted(subject_marks, key=lambda x : x[1])"
   ]
  },
  {
   "cell_type": "code",
   "execution_count": 12,
   "id": "db0cffe1-e2c1-4f86-b342-416462f32c1c",
   "metadata": {},
   "outputs": [
    {
     "data": {
      "text/plain": [
       "[('Maths', 97), ('Science', 90), ('English', 88), ('Social sciences', 82)]"
      ]
     },
     "execution_count": 12,
     "metadata": {},
     "output_type": "execute_result"
    }
   ],
   "source": [
    "sorted(subject_marks, key=lambda x : x[1], reverse=True)"
   ]
  },
  {
   "cell_type": "code",
   "execution_count": 14,
   "id": "4341fe5c-8820-48f7-b010-e356065958ab",
   "metadata": {},
   "outputs": [],
   "source": [
    "r = lambda x, y, z: x*y*z"
   ]
  },
  {
   "cell_type": "code",
   "execution_count": 15,
   "id": "0664e1e2-bde6-4428-9038-b27c36b66091",
   "metadata": {},
   "outputs": [
    {
     "data": {
      "text/plain": [
       "162"
      ]
     },
     "execution_count": 15,
     "metadata": {},
     "output_type": "execute_result"
    }
   ],
   "source": [
    "r(3,6,9)"
   ]
  },
  {
   "cell_type": "code",
   "execution_count": null,
   "id": "98f8df2c-e541-495e-8c2f-e164150c9fd6",
   "metadata": {},
   "outputs": [],
   "source": []
  },
  {
   "cell_type": "code",
   "execution_count": null,
   "id": "dcfe4960-c00c-4a8b-9af0-626862c719dd",
   "metadata": {},
   "outputs": [],
   "source": []
  },
  {
   "cell_type": "markdown",
   "id": "93303c15-1fdf-41d6-b5af-5acd88e5f2cf",
   "metadata": {},
   "source": [
    "## Write a Python program to find the second lowest total marks of any student(s) from the given names and marks of each student using lists and lambda. Input the number of students, the names and grades of each student."
   ]
  },
  {
   "cell_type": "code",
   "execution_count": 17,
   "id": "947517d7-e179-4135-b4cb-8e64d66ffc4d",
   "metadata": {},
   "outputs": [],
   "source": [
    "names_grade = [['S ROY', 1.0], ['B BOSE', 3.0], ['N KAR', 2.0], ['C DUTTA', 1.0], ['G GHOSH', 1.0]]"
   ]
  },
  {
   "cell_type": "code",
   "execution_count": 22,
   "id": "57501c92-897f-463d-8bdc-d77754527fd2",
   "metadata": {},
   "outputs": [],
   "source": [
    "names_grade = sorted(names_grade, key=lambda x: x[1])"
   ]
  },
  {
   "cell_type": "code",
   "execution_count": 24,
   "id": "59923cf7-e5c7-41c7-9554-f2b73b9a0a08",
   "metadata": {},
   "outputs": [
    {
     "name": "stdout",
     "output_type": "stream",
     "text": [
      "Lowest Grade: 1.0\n",
      "Lowest Grade Student Name: C DUTTA\n"
     ]
    }
   ],
   "source": [
    "print(f\"Lowest Grade: {names_grade[1][1]}\")\n",
    "print(f\"Lowest Grade Student Name: {names_grade[1][0]}\")"
   ]
  },
  {
   "cell_type": "code",
   "execution_count": null,
   "id": "a4905e31-f9b3-4a88-8094-9122544be841",
   "metadata": {},
   "outputs": [],
   "source": []
  },
  {
   "cell_type": "code",
   "execution_count": null,
   "id": "8188009b-d587-4ffd-a3aa-cb16c56db3e4",
   "metadata": {},
   "outputs": [],
   "source": []
  },
  {
   "cell_type": "markdown",
   "id": "ce993a00-5346-4ea2-b503-59add3ae99a0",
   "metadata": {},
   "source": [
    "# Map \n",
    "## Write a  Python program to listify the list of given strings individually using Python map."
   ]
  },
  {
   "cell_type": "code",
   "execution_count": 26,
   "id": "ed4a6bdd-5a44-4205-9770-4e8c615ca733",
   "metadata": {},
   "outputs": [
    {
     "data": {
      "text/plain": [
       "[['R', 'e', 'd'],\n",
       " ['B', 'l', 'u', 'e'],\n",
       " ['B', 'l', 'a', 'c', 'k'],\n",
       " ['W', 'h', 'i', 't', 'e'],\n",
       " ['P', 'i', 'n', 'k']]"
      ]
     },
     "execution_count": 26,
     "metadata": {},
     "output_type": "execute_result"
    }
   ],
   "source": [
    "color = ['Red', 'Blue', 'Black', 'White', 'Pink']\n",
    "list(map(list, color))"
   ]
  },
  {
   "cell_type": "markdown",
   "id": "b6c7f2f4-31ec-4c2f-8796-436b1abc8b99",
   "metadata": {},
   "source": [
    "## Write a  Python program to convert all the characters into uppercase and lowercase and eliminate duplicate letters from a given sequence. Use the map() function."
   ]
  },
  {
   "cell_type": "code",
   "execution_count": 31,
   "id": "1d608247-db6c-4545-9209-acd5babab709",
   "metadata": {},
   "outputs": [
    {
     "data": {
      "text/plain": [
       "[('i', 'I'),\n",
       " ('u', 'U'),\n",
       " ('o', 'O'),\n",
       " ('e', 'E'),\n",
       " ('a', 'A'),\n",
       " ('f', 'F'),\n",
       " ('b', 'B')]"
      ]
     },
     "execution_count": 31,
     "metadata": {},
     "output_type": "execute_result"
    }
   ],
   "source": [
    "chars = {'a', 'b', 'E', 'f', 'a', 'i', 'o', 'U', 'a'}\n",
    "def change_char(char):\n",
    "    return str(char).lower(), str(char).upper()\n",
    "list(map(change_char, chars))"
   ]
  },
  {
   "cell_type": "code",
   "execution_count": 33,
   "id": "655e33ad-a01f-4cb7-a3bc-c6b87fee0a79",
   "metadata": {},
   "outputs": [
    {
     "data": {
      "text/plain": [
       "[('I', 'i'),\n",
       " ('U', 'u'),\n",
       " ('O', 'o'),\n",
       " ('E', 'e'),\n",
       " ('A', 'a'),\n",
       " ('F', 'f'),\n",
       " ('B', 'b')]"
      ]
     },
     "execution_count": 33,
     "metadata": {},
     "output_type": "execute_result"
    }
   ],
   "source": [
    "list(map(lambda char: (char.upper(), char.lower()), chars))"
   ]
  },
  {
   "cell_type": "markdown",
   "id": "21f925aa-ffb2-4923-8425-4578676a8065",
   "metadata": {},
   "source": [
    "## Write a  Python program to compute the square of the first N Fibonacci numbers, using the map function and generate a list of the numbers."
   ]
  },
  {
   "cell_type": "code",
   "execution_count": 44,
   "id": "13d60e34-b70b-40ab-9928-7e5d5bb0820e",
   "metadata": {},
   "outputs": [],
   "source": [
    "def fibonacci(n):\n",
    "    num = [0]\n",
    "    x = 0\n",
    "    y = 1\n",
    "    for i in range(n-1):\n",
    "        num.append(y)\n",
    "        x, y = y, x+y\n",
    "    return num"
   ]
  },
  {
   "cell_type": "code",
   "execution_count": 45,
   "id": "e846d564-d702-4844-9acc-5fff0cf8ffff",
   "metadata": {},
   "outputs": [
    {
     "data": {
      "text/plain": [
       "[0, 1, 1, 4, 9, 25, 64, 169, 441, 1156]"
      ]
     },
     "execution_count": 45,
     "metadata": {},
     "output_type": "execute_result"
    }
   ],
   "source": [
    "list(map(lambda x: x**2, fibonacci(10)))"
   ]
  },
  {
   "cell_type": "code",
   "execution_count": null,
   "id": "4b1c5aac-6448-44e0-b624-ec6538653a7b",
   "metadata": {},
   "outputs": [],
   "source": []
  },
  {
   "cell_type": "code",
   "execution_count": null,
   "id": "d9897331-3b79-403c-a8a9-11708d771eb8",
   "metadata": {},
   "outputs": [],
   "source": []
  },
  {
   "cell_type": "markdown",
   "id": "93214890-cdb6-4b20-9b80-e9f0a9b64e88",
   "metadata": {},
   "source": [
    "# Itertools\n",
    "## Write a  Python program to create an iterator that returns consecutive keys and groups from an iterable."
   ]
  },
  {
   "cell_type": "code",
   "execution_count": 49,
   "id": "f8072bd8-e9aa-4b73-aa6e-e4d83cc7339c",
   "metadata": {},
   "outputs": [
    {
     "name": "stdout",
     "output_type": "stream",
     "text": [
      "A ['A', 'A', 'A', 'A']\n",
      "J ['J', 'J', 'J', 'J']\n",
      "H ['H', 'H', 'H', 'H']\n",
      "N ['N']\n",
      "W ['W', 'W', 'W']\n",
      "E ['E', 'E']\n",
      "R ['R', 'R', 'R']\n",
      "S ['S', 'S', 'S']\n",
      "O ['O', 'O']\n",
      "I ['I', 'I']\n",
      "U ['U']\n"
     ]
    }
   ],
   "source": [
    "import itertools\n",
    "str1 = 'AAAAJJJJHHHHNWWWEERRRSSSOOIIU'\n",
    "for key, group in itertools.groupby(str1):\n",
    "    print(key,list(group))"
   ]
  },
  {
   "cell_type": "markdown",
   "id": "fc6d1ddb-6971-4cd0-b39a-81e2225afc78",
   "metadata": {},
   "source": [
    "## Write a  Python program to generate all possible permutations of n different objects."
   ]
  },
  {
   "cell_type": "code",
   "execution_count": 50,
   "id": "c93d791c-5139-4b9d-be26-8e39ca4ba104",
   "metadata": {},
   "outputs": [
    {
     "name": "stdout",
     "output_type": "stream",
     "text": [
      "(1, 2, 3)\n",
      "(1, 3, 2)\n",
      "(2, 1, 3)\n",
      "(2, 3, 1)\n",
      "(3, 1, 2)\n",
      "(3, 2, 1)\n"
     ]
    }
   ],
   "source": [
    "lst = [1, 2, 3]\n",
    "for val in itertools.permutations(lst):\n",
    "    print(val)"
   ]
  },
  {
   "cell_type": "code",
   "execution_count": 51,
   "id": "f6415ca6-b09e-4c5f-9143-7503449737d5",
   "metadata": {
    "scrolled": true
   },
   "outputs": [
    {
     "name": "stdout",
     "output_type": "stream",
     "text": [
      "(1, 2, 3, 4, 5)\n",
      "(1, 2, 3, 5, 4)\n",
      "(1, 2, 4, 3, 5)\n",
      "(1, 2, 4, 5, 3)\n",
      "(1, 2, 5, 3, 4)\n",
      "(1, 2, 5, 4, 3)\n",
      "(1, 3, 2, 4, 5)\n",
      "(1, 3, 2, 5, 4)\n",
      "(1, 3, 4, 2, 5)\n",
      "(1, 3, 4, 5, 2)\n",
      "(1, 3, 5, 2, 4)\n",
      "(1, 3, 5, 4, 2)\n",
      "(1, 4, 2, 3, 5)\n",
      "(1, 4, 2, 5, 3)\n",
      "(1, 4, 3, 2, 5)\n",
      "(1, 4, 3, 5, 2)\n",
      "(1, 4, 5, 2, 3)\n",
      "(1, 4, 5, 3, 2)\n",
      "(1, 5, 2, 3, 4)\n",
      "(1, 5, 2, 4, 3)\n",
      "(1, 5, 3, 2, 4)\n",
      "(1, 5, 3, 4, 2)\n",
      "(1, 5, 4, 2, 3)\n",
      "(1, 5, 4, 3, 2)\n",
      "(2, 1, 3, 4, 5)\n",
      "(2, 1, 3, 5, 4)\n",
      "(2, 1, 4, 3, 5)\n",
      "(2, 1, 4, 5, 3)\n",
      "(2, 1, 5, 3, 4)\n",
      "(2, 1, 5, 4, 3)\n",
      "(2, 3, 1, 4, 5)\n",
      "(2, 3, 1, 5, 4)\n",
      "(2, 3, 4, 1, 5)\n",
      "(2, 3, 4, 5, 1)\n",
      "(2, 3, 5, 1, 4)\n",
      "(2, 3, 5, 4, 1)\n",
      "(2, 4, 1, 3, 5)\n",
      "(2, 4, 1, 5, 3)\n",
      "(2, 4, 3, 1, 5)\n",
      "(2, 4, 3, 5, 1)\n",
      "(2, 4, 5, 1, 3)\n",
      "(2, 4, 5, 3, 1)\n",
      "(2, 5, 1, 3, 4)\n",
      "(2, 5, 1, 4, 3)\n",
      "(2, 5, 3, 1, 4)\n",
      "(2, 5, 3, 4, 1)\n",
      "(2, 5, 4, 1, 3)\n",
      "(2, 5, 4, 3, 1)\n",
      "(3, 1, 2, 4, 5)\n",
      "(3, 1, 2, 5, 4)\n",
      "(3, 1, 4, 2, 5)\n",
      "(3, 1, 4, 5, 2)\n",
      "(3, 1, 5, 2, 4)\n",
      "(3, 1, 5, 4, 2)\n",
      "(3, 2, 1, 4, 5)\n",
      "(3, 2, 1, 5, 4)\n",
      "(3, 2, 4, 1, 5)\n",
      "(3, 2, 4, 5, 1)\n",
      "(3, 2, 5, 1, 4)\n",
      "(3, 2, 5, 4, 1)\n",
      "(3, 4, 1, 2, 5)\n",
      "(3, 4, 1, 5, 2)\n",
      "(3, 4, 2, 1, 5)\n",
      "(3, 4, 2, 5, 1)\n",
      "(3, 4, 5, 1, 2)\n",
      "(3, 4, 5, 2, 1)\n",
      "(3, 5, 1, 2, 4)\n",
      "(3, 5, 1, 4, 2)\n",
      "(3, 5, 2, 1, 4)\n",
      "(3, 5, 2, 4, 1)\n",
      "(3, 5, 4, 1, 2)\n",
      "(3, 5, 4, 2, 1)\n",
      "(4, 1, 2, 3, 5)\n",
      "(4, 1, 2, 5, 3)\n",
      "(4, 1, 3, 2, 5)\n",
      "(4, 1, 3, 5, 2)\n",
      "(4, 1, 5, 2, 3)\n",
      "(4, 1, 5, 3, 2)\n",
      "(4, 2, 1, 3, 5)\n",
      "(4, 2, 1, 5, 3)\n",
      "(4, 2, 3, 1, 5)\n",
      "(4, 2, 3, 5, 1)\n",
      "(4, 2, 5, 1, 3)\n",
      "(4, 2, 5, 3, 1)\n",
      "(4, 3, 1, 2, 5)\n",
      "(4, 3, 1, 5, 2)\n",
      "(4, 3, 2, 1, 5)\n",
      "(4, 3, 2, 5, 1)\n",
      "(4, 3, 5, 1, 2)\n",
      "(4, 3, 5, 2, 1)\n",
      "(4, 5, 1, 2, 3)\n",
      "(4, 5, 1, 3, 2)\n",
      "(4, 5, 2, 1, 3)\n",
      "(4, 5, 2, 3, 1)\n",
      "(4, 5, 3, 1, 2)\n",
      "(4, 5, 3, 2, 1)\n",
      "(5, 1, 2, 3, 4)\n",
      "(5, 1, 2, 4, 3)\n",
      "(5, 1, 3, 2, 4)\n",
      "(5, 1, 3, 4, 2)\n",
      "(5, 1, 4, 2, 3)\n",
      "(5, 1, 4, 3, 2)\n",
      "(5, 2, 1, 3, 4)\n",
      "(5, 2, 1, 4, 3)\n",
      "(5, 2, 3, 1, 4)\n",
      "(5, 2, 3, 4, 1)\n",
      "(5, 2, 4, 1, 3)\n",
      "(5, 2, 4, 3, 1)\n",
      "(5, 3, 1, 2, 4)\n",
      "(5, 3, 1, 4, 2)\n",
      "(5, 3, 2, 1, 4)\n",
      "(5, 3, 2, 4, 1)\n",
      "(5, 3, 4, 1, 2)\n",
      "(5, 3, 4, 2, 1)\n",
      "(5, 4, 1, 2, 3)\n",
      "(5, 4, 1, 3, 2)\n",
      "(5, 4, 2, 1, 3)\n",
      "(5, 4, 2, 3, 1)\n",
      "(5, 4, 3, 1, 2)\n",
      "(5, 4, 3, 2, 1)\n"
     ]
    }
   ],
   "source": [
    "lst = [1, 2, 3, 4, 5]\n",
    "for val in itertools.permutations(lst):\n",
    "    print(val)"
   ]
  },
  {
   "cell_type": "markdown",
   "id": "859682fd-cd0d-407d-b643-61a5cfbe0ef4",
   "metadata": {},
   "source": [
    "## Write a  Python program to find the years between 2000 and 2150 when the 25th of December is a Sunday."
   ]
  },
  {
   "cell_type": "code",
   "execution_count": 61,
   "id": "9cd96fff-a26c-43bf-9571-8b1ae1b60a66",
   "metadata": {},
   "outputs": [
    {
     "name": "stdout",
     "output_type": "stream",
     "text": [
      "[False, False, False, False, False, True, False, False, False, False, False, True, False, False, False, False, True, False, False, False, False, False, True, False, False, False, False, False, False, False, False, False, False, True, False, False, False, False, False, True, False, False, False, False, True, False, False, False, False, False, True, False, False, False, False, False, False, False, False, False, False, True, False, False, False, False, False, True, False, False, False, False, True, False, False, False, False, False, True, False, False, False, False, False, False, False, False, False, False, True, False, False, False, False, False, True, False, False, False, False, False, True, False, False, False, False, False, True, False, False, False, False, True, False, False, False, False, False, True, False, False, False, False, False, False, False, False, False, False, True, False, False, False, False, False, True, False, False, False, False, True, False, False, False, False, False, True, False, False, False, False]\n",
      "151\n"
     ]
    }
   ],
   "source": [
    "from datetime import date\n",
    "from itertools import islice\n",
    "\n",
    "def xmasIsSunday(y):\n",
    "    return 6 == date(y, 12, 25).weekday()\n",
    " \n",
    "xs = list(map(\n",
    "    xmasIsSunday,\n",
    "    enumFromTo(2000)(2150)\n",
    "))\n",
    "print(xs)\n",
    "print(len(xs))"
   ]
  },
  {
   "cell_type": "code",
   "execution_count": 62,
   "id": "e7fe101e-9f4f-4e2f-86fc-0b79be989a0f",
   "metadata": {},
   "outputs": [
    {
     "name": "stdout",
     "output_type": "stream",
     "text": [
      "[2005, 2011, 2016, 2022, 2033, 2039, 2044, 2050, 2061, 2067, 2072, 2078, 2089, 2095, 2101, 2107, 2112, 2118, 2129, 2135, 2140, 2146]\n",
      "22\n"
     ]
    }
   ],
   "source": [
    "from datetime import date\n",
    "from itertools import islice\n",
    "\n",
    "def xmasIsSunday(y):\n",
    "    return 6 == date(y, 12, 25).weekday()\n",
    " \n",
    "xs = list(filter(\n",
    "    xmasIsSunday,\n",
    "    enumFromTo(2000)(2150)\n",
    "))\n",
    "print(xs)\n",
    "print(len(xs))"
   ]
  },
  {
   "cell_type": "code",
   "execution_count": null,
   "id": "940714dd-1fe3-4465-8e78-fdd5049e51af",
   "metadata": {},
   "outputs": [],
   "source": []
  },
  {
   "cell_type": "code",
   "execution_count": null,
   "id": "4a4b361a-54a8-4662-ae8a-e225dd3697aa",
   "metadata": {},
   "outputs": [],
   "source": []
  },
  {
   "cell_type": "markdown",
   "id": "727c4706-d410-43fa-b9a9-589201182ba8",
   "metadata": {},
   "source": [
    "# Filter Function\n",
    "## Write a  Python function that filters out all empty strings from a list of strings using the filter function."
   ]
  },
  {
   "cell_type": "code",
   "execution_count": 64,
   "id": "dc49f848-585f-4d3f-b974-30affff60554",
   "metadata": {},
   "outputs": [
    {
     "data": {
      "text/plain": [
       "['Pratik', 'Filter', 'Python']"
      ]
     },
     "execution_count": 64,
     "metadata": {},
     "output_type": "execute_result"
    }
   ],
   "source": [
    "strings = [\"\", \"Pratik\", \"Filter\", \"\", \"Python\", \"\"]\n",
    "list(filter(lambda s: s.strip() != \"\", strings))"
   ]
  },
  {
   "cell_type": "markdown",
   "id": "75fb6b39-03db-4962-a3f9-b279e0651d1d",
   "metadata": {},
   "source": [
    "## Write a  Python function that filters out elements from a list of strings containing a specific substring using the filter function."
   ]
  },
  {
   "cell_type": "code",
   "execution_count": 65,
   "id": "006c1fb1-9156-4908-8f63-784bfb1ee926",
   "metadata": {},
   "outputs": [
    {
     "data": {
      "text/plain": [
       "['Red', 'Green', 'Orange', 'White', 'Yellow']"
      ]
     },
     "execution_count": 65,
     "metadata": {},
     "output_type": "execute_result"
    }
   ],
   "source": [
    "strings = [\"Red\", \"Green\", \"Orange\", \"White\", \"Black\", \"Pink\", \"Yellow\"]\n",
    "sub = \"e\"\n",
    "list(filter(lambda s : sub in s, strings ))"
   ]
  },
  {
   "cell_type": "code",
   "execution_count": null,
   "id": "18b86278-6626-47c4-ad13-067813a19bd2",
   "metadata": {},
   "outputs": [],
   "source": []
  }
 ],
 "metadata": {
  "kernelspec": {
   "display_name": "Python 3 (ipykernel)",
   "language": "python",
   "name": "python3"
  },
  "language_info": {
   "codemirror_mode": {
    "name": "ipython",
    "version": 3
   },
   "file_extension": ".py",
   "mimetype": "text/x-python",
   "name": "python",
   "nbconvert_exporter": "python",
   "pygments_lexer": "ipython3",
   "version": "3.12.7"
  }
 },
 "nbformat": 4,
 "nbformat_minor": 5
}
