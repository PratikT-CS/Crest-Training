{
 "cells": [
  {
   "cell_type": "markdown",
   "id": "d1711d9c-6ce1-4d04-8ea7-8e7c908e1a73",
   "metadata": {},
   "source": [
    "# Write a NumPy program to create a 3x3 array with random values and calculate the pairwise Euclidean distance between each pair of rows."
   ]
  },
  {
   "cell_type": "code",
   "execution_count": 5,
   "id": "3fb5ad6b-bca3-4cef-9ea7-557e0cb8badb",
   "metadata": {},
   "outputs": [
    {
     "name": "stdout",
     "output_type": "stream",
     "text": [
      "Original Array:\n",
      " [[16 46 11]\n",
      " [14 36 48]\n",
      " [49 46  8]]\n",
      "Pairwise Euclidean distances between each pair of rows:\n",
      " [[ 0.         38.37968212 33.13608305]\n",
      " [38.37968212  0.         54.08326913]\n",
      " [33.13608305 54.08326913  0.        ]]\n"
     ]
    }
   ],
   "source": [
    "import numpy as np\n",
    "from scipy.spatial import distance\n",
    "\n",
    "array = np.random.randint(1, 50, 9).reshape(3, 3)\n",
    "\n",
    "# Print the original array\n",
    "print(\"Original Array:\\n\", array)\n",
    "\n",
    "# Calculate pairwise Euclidean distances between each pair of rows\n",
    "pairwise_distances = distance.cdist(array, array, 'euclidean')\n",
    "\n",
    "# Print the pairwise distances\n",
    "print(\"Pairwise Euclidean distances between each pair of rows:\\n\", pairwise_distances)"
   ]
  },
  {
   "cell_type": "code",
   "execution_count": null,
   "id": "615a3246-896b-4f39-9d05-433114b73ddb",
   "metadata": {},
   "outputs": [],
   "source": []
  },
  {
   "cell_type": "code",
   "execution_count": null,
   "id": "3ce71c29-06e5-4305-9de0-f0dbbdc75bbd",
   "metadata": {},
   "outputs": [],
   "source": []
  },
  {
   "cell_type": "markdown",
   "id": "bd50943e-dfce-4eb6-b1cb-b843a51f7d5b",
   "metadata": {},
   "source": [
    "# Check if any element in a 1D array is non-zero."
   ]
  },
  {
   "cell_type": "code",
   "execution_count": 6,
   "id": "6ce1c30d-0171-4a53-835b-8006f73cd521",
   "metadata": {},
   "outputs": [
    {
     "name": "stdout",
     "output_type": "stream",
     "text": [
      "True\n"
     ]
    }
   ],
   "source": [
    "arr = np.array([0, 0, 0, 1, 0])\n",
    "any_nonzero = np.any(arr != 0)\n",
    "print(any_nonzero)"
   ]
  },
  {
   "cell_type": "code",
   "execution_count": null,
   "id": "4c5c4f06-ea69-4aec-a984-d57e86e4a467",
   "metadata": {},
   "outputs": [],
   "source": []
  },
  {
   "cell_type": "code",
   "execution_count": null,
   "id": "78810970-6334-4e9a-8cbd-0500423f6fa3",
   "metadata": {},
   "outputs": [],
   "source": []
  },
  {
   "cell_type": "markdown",
   "id": "87a4b353-224f-4719-9494-50d470eddc6c",
   "metadata": {},
   "source": [
    "# Create a 2D array with random integers and replace all values greater than a certain threshold with that threshold."
   ]
  },
  {
   "cell_type": "code",
   "execution_count": 7,
   "id": "3b46388f-7d1f-42a9-a79f-bdc95df13c47",
   "metadata": {},
   "outputs": [
    {
     "name": "stdout",
     "output_type": "stream",
     "text": [
      "[[63 34 52 49]\n",
      " [75 59 75 38]\n",
      " [61 75 63 74]]\n"
     ]
    }
   ],
   "source": [
    "matrix = np.random.randint(0, 100, size=(3, 4))\n",
    "threshold = 75\n",
    "matrix[matrix > threshold] = threshold\n",
    "print(matrix)"
   ]
  },
  {
   "cell_type": "code",
   "execution_count": null,
   "id": "fa9d8ac0-011c-4a34-ac71-a1bf70ac6a07",
   "metadata": {},
   "outputs": [],
   "source": []
  },
  {
   "cell_type": "code",
   "execution_count": null,
   "id": "48c3eca8-7e59-4b19-967d-261efa8800e8",
   "metadata": {},
   "outputs": [],
   "source": []
  }
 ],
 "metadata": {
  "kernelspec": {
   "display_name": "Python 3 (ipykernel)",
   "language": "python",
   "name": "python3"
  },
  "language_info": {
   "codemirror_mode": {
    "name": "ipython",
    "version": 3
   },
   "file_extension": ".py",
   "mimetype": "text/x-python",
   "name": "python",
   "nbconvert_exporter": "python",
   "pygments_lexer": "ipython3",
   "version": "3.12.7"
  }
 },
 "nbformat": 4,
 "nbformat_minor": 5
}
