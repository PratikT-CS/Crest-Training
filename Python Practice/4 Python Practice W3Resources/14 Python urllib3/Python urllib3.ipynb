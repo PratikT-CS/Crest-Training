{
 "cells": [
  {
   "cell_type": "markdown",
   "id": "3be049f7-8673-4157-a6ba-1354037fd1e5",
   "metadata": {},
   "source": [
    "# Write a Python program that implements error handling for network-related exceptions that might occur during a request."
   ]
  },
  {
   "cell_type": "code",
   "execution_count": 1,
   "id": "446995c3-c271-4836-9bc2-9258935889ab",
   "metadata": {},
   "outputs": [],
   "source": [
    "import urllib3\n",
    "\n",
    "def make_http_request(url):\n",
    "    try:\n",
    "        # Create a PoolManager instance for managing HTTP connections\n",
    "        with urllib3.PoolManager() as http:\n",
    "            # Make an HTTP GET request\n",
    "            response = http.request('GET', url)\n",
    "\n",
    "            # Check if the request was successful (status code 200)\n",
    "            if response.status == 200:\n",
    "                print(\"Request Successful:\")\n",
    "                print(response.data.decode('utf-8'))\n",
    "            else:\n",
    "                print(f\"Error: Unable to fetch data. Status Code: {response.status}\")\n",
    "\n",
    "    except urllib3.exceptions.RequestError as e:\n",
    "        print(f\"Network Error: {e}\")\n",
    "    except Exception as e:\n",
    "        print(f\"Error: {e}\")"
   ]
  },
  {
   "cell_type": "code",
   "execution_count": 2,
   "id": "ec62edc5-c603-481d-bd99-758cd5413e33",
   "metadata": {},
   "outputs": [
    {
     "name": "stdout",
     "output_type": "stream",
     "text": [
      "Request Successful:\n",
      "<!doctype html>\n",
      "<html>\n",
      "<head>\n",
      "    <title>Example Domain</title>\n",
      "\n",
      "    <meta charset=\"utf-8\" />\n",
      "    <meta http-equiv=\"Content-type\" content=\"text/html; charset=utf-8\" />\n",
      "    <meta name=\"viewport\" content=\"width=device-width, initial-scale=1\" />\n",
      "    <style type=\"text/css\">\n",
      "    body {\n",
      "        background-color: #f0f0f2;\n",
      "        margin: 0;\n",
      "        padding: 0;\n",
      "        font-family: -apple-system, system-ui, BlinkMacSystemFont, \"Segoe UI\", \"Open Sans\", \"Helvetica Neue\", Helvetica, Arial, sans-serif;\n",
      "        \n",
      "    }\n",
      "    div {\n",
      "        width: 600px;\n",
      "        margin: 5em auto;\n",
      "        padding: 2em;\n",
      "        background-color: #fdfdff;\n",
      "        border-radius: 0.5em;\n",
      "        box-shadow: 2px 3px 7px 2px rgba(0,0,0,0.02);\n",
      "    }\n",
      "    a:link, a:visited {\n",
      "        color: #38488f;\n",
      "        text-decoration: none;\n",
      "    }\n",
      "    @media (max-width: 700px) {\n",
      "        div {\n",
      "            margin: 0 auto;\n",
      "            width: auto;\n",
      "        }\n",
      "    }\n",
      "    </style>    \n",
      "</head>\n",
      "\n",
      "<body>\n",
      "<div>\n",
      "    <h1>Example Domain</h1>\n",
      "    <p>This domain is for use in illustrative examples in documents. You may use this\n",
      "    domain in literature without prior coordination or asking for permission.</p>\n",
      "    <p><a href=\"https://www.iana.org/domains/example\">More information...</a></p>\n",
      "</div>\n",
      "</body>\n",
      "</html>\n",
      "\n"
     ]
    }
   ],
   "source": [
    "make_http_request('https://www.example.com')"
   ]
  },
  {
   "cell_type": "code",
   "execution_count": 4,
   "id": "24d32495-64b4-4d6f-ad85-5f072d89baa3",
   "metadata": {},
   "outputs": [
    {
     "name": "stdout",
     "output_type": "stream",
     "text": [
      "Network Error: HTTPSConnectionPool(host='www.exampsadfl.com', port=443): Max retries exceeded with url: / (Caused by NameResolutionError(\"<urllib3.connection.HTTPSConnection object at 0x0000022808256960>: Failed to resolve 'www.exampsadfl.com' ([Errno 11001] getaddrinfo failed)\"))\n"
     ]
    }
   ],
   "source": [
    "make_http_request('https://www.exampsadfl.com')"
   ]
  },
  {
   "cell_type": "code",
   "execution_count": null,
   "id": "c86d8d8e-55d3-41ed-a0a5-231c9a88044a",
   "metadata": {},
   "outputs": [],
   "source": []
  },
  {
   "cell_type": "code",
   "execution_count": null,
   "id": "74109f88-d395-43e0-8e0d-dda9433aa506",
   "metadata": {},
   "outputs": [],
   "source": []
  }
 ],
 "metadata": {
  "kernelspec": {
   "display_name": "Python 3 (ipykernel)",
   "language": "python",
   "name": "python3"
  },
  "language_info": {
   "codemirror_mode": {
    "name": "ipython",
    "version": 3
   },
   "file_extension": ".py",
   "mimetype": "text/x-python",
   "name": "python",
   "nbconvert_exporter": "python",
   "pygments_lexer": "ipython3",
   "version": "3.12.7"
  }
 },
 "nbformat": 4,
 "nbformat_minor": 5
}
