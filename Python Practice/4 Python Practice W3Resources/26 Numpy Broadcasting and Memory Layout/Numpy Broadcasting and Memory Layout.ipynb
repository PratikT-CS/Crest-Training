{
 "cells": [
  {
   "cell_type": "code",
   "execution_count": 1,
   "id": "65fa7c1c-33b7-4970-bcb1-8e96cf668804",
   "metadata": {},
   "outputs": [],
   "source": [
    "import numpy as np"
   ]
  },
  {
   "cell_type": "markdown",
   "id": "70aeab22-3f18-4658-8d7c-cbd75034a26c",
   "metadata": {},
   "source": [
    "# Broadcasting\n",
    "## Write a  NumPy program that creates two 1D arrays x of shape (5,) and y of shape (5,). Reshape them to (5, 1) and (1, 5) respectively, and perform element-wise addition using broadcasting."
   ]
  },
  {
   "cell_type": "code",
   "execution_count": 3,
   "id": "d3915f26-8384-45fc-8a37-6981ea10347d",
   "metadata": {},
   "outputs": [],
   "source": [
    "x = np.array([1, 2, 3, 4, 5])\n",
    "y = np.array([10, 20, 30, 40, 50])\n",
    "\n",
    "x_reshaped = x.reshape((5, 1))\n",
    "y_reshaped = y.reshape((1, 5))"
   ]
  },
  {
   "cell_type": "code",
   "execution_count": 5,
   "id": "3ff1f76b-db3c-465d-8c0a-ee4dd57a0588",
   "metadata": {},
   "outputs": [
    {
     "data": {
      "text/plain": [
       "array([[11, 21, 31, 41, 51],\n",
       "       [12, 22, 32, 42, 52],\n",
       "       [13, 23, 33, 43, 53],\n",
       "       [14, 24, 34, 44, 54],\n",
       "       [15, 25, 35, 45, 55]])"
      ]
     },
     "execution_count": 5,
     "metadata": {},
     "output_type": "execute_result"
    }
   ],
   "source": [
    "result = x_reshaped + y_reshaped\n",
    "result"
   ]
  },
  {
   "cell_type": "code",
   "execution_count": 6,
   "id": "378ca0be-1b3c-44e3-953e-fdd9939cd0e4",
   "metadata": {},
   "outputs": [
    {
     "data": {
      "text/plain": [
       "array([1, 2, 3, 4, 5])"
      ]
     },
     "execution_count": 6,
     "metadata": {},
     "output_type": "execute_result"
    }
   ],
   "source": [
    "x"
   ]
  },
  {
   "cell_type": "code",
   "execution_count": 7,
   "id": "538183e9-38d3-4d71-b6a0-f828adf41199",
   "metadata": {},
   "outputs": [
    {
     "data": {
      "text/plain": [
       "array([10, 20, 30, 40, 50])"
      ]
     },
     "execution_count": 7,
     "metadata": {},
     "output_type": "execute_result"
    }
   ],
   "source": [
    "y"
   ]
  },
  {
   "cell_type": "code",
   "execution_count": 8,
   "id": "21507674-04d6-4934-83f4-4cdb3f29598a",
   "metadata": {},
   "outputs": [
    {
     "data": {
      "text/plain": [
       "array([[1],\n",
       "       [2],\n",
       "       [3],\n",
       "       [4],\n",
       "       [5]])"
      ]
     },
     "execution_count": 8,
     "metadata": {},
     "output_type": "execute_result"
    }
   ],
   "source": [
    "x_reshaped"
   ]
  },
  {
   "cell_type": "code",
   "execution_count": 9,
   "id": "bf570319-7b7f-4b51-b9e9-76be33b1b752",
   "metadata": {},
   "outputs": [
    {
     "data": {
      "text/plain": [
       "array([[10, 20, 30, 40, 50]])"
      ]
     },
     "execution_count": 9,
     "metadata": {},
     "output_type": "execute_result"
    }
   ],
   "source": [
    "y_reshaped"
   ]
  },
  {
   "cell_type": "code",
   "execution_count": null,
   "id": "a79cfad2-9f39-4090-bc09-00bb1b2f53d6",
   "metadata": {},
   "outputs": [],
   "source": []
  },
  {
   "cell_type": "code",
   "execution_count": null,
   "id": "d3aada37-b273-4060-b558-68a7e198a58b",
   "metadata": {},
   "outputs": [],
   "source": []
  },
  {
   "cell_type": "markdown",
   "id": "41d2d49e-779a-4719-b915-489dbd8284f8",
   "metadata": {},
   "source": [
    "## Write a  NumPy program that Multiplies each column of a 2D array x of shape (7, 3) by a 1D array y of shape (7,) using broadcasting."
   ]
  },
  {
   "cell_type": "code",
   "execution_count": 12,
   "id": "2486b628-ba3a-4494-89b7-3ac56480372a",
   "metadata": {},
   "outputs": [
    {
     "data": {
      "text/plain": [
       "array([[ 1,  2,  3],\n",
       "       [ 4,  5,  6],\n",
       "       [ 7,  8,  9],\n",
       "       [10, 11, 12],\n",
       "       [13, 14, 15],\n",
       "       [16, 17, 18],\n",
       "       [19, 20, 21]])"
      ]
     },
     "execution_count": 12,
     "metadata": {},
     "output_type": "execute_result"
    }
   ],
   "source": [
    "x = np.array([[1, 2, 3],\n",
    "              [4, 5, 6],\n",
    "              [7, 8, 9],\n",
    "              [10, 11, 12],\n",
    "              [13, 14, 15],\n",
    "              [16, 17, 18],\n",
    "              [19, 20, 21]])\n",
    "x"
   ]
  },
  {
   "cell_type": "code",
   "execution_count": 22,
   "id": "bd5a2dce-4200-414c-ad5f-b3f36a7a844c",
   "metadata": {},
   "outputs": [
    {
     "data": {
      "text/plain": [
       "array([1, 2, 3, 4, 5, 6, 7])"
      ]
     },
     "execution_count": 22,
     "metadata": {},
     "output_type": "execute_result"
    }
   ],
   "source": [
    "y = np.array([1, 2, 3, 4, 5, 6, 7])\n",
    "y"
   ]
  },
  {
   "cell_type": "code",
   "execution_count": 23,
   "id": "5bfc3329-23bd-4eb5-84d4-9d854b66899e",
   "metadata": {},
   "outputs": [
    {
     "data": {
      "text/plain": [
       "array([[1],\n",
       "       [2],\n",
       "       [3],\n",
       "       [4],\n",
       "       [5],\n",
       "       [6],\n",
       "       [7]])"
      ]
     },
     "execution_count": 23,
     "metadata": {},
     "output_type": "execute_result"
    }
   ],
   "source": [
    "y = y.reshape(7,1)\n",
    "y"
   ]
  },
  {
   "cell_type": "code",
   "execution_count": 24,
   "id": "3ca15fa5-93d9-466a-88bd-16f4091254b5",
   "metadata": {},
   "outputs": [],
   "source": [
    "result = x * y"
   ]
  },
  {
   "cell_type": "code",
   "execution_count": 25,
   "id": "06cb33c0-6d5d-40c7-8f3e-7b00aa04f995",
   "metadata": {},
   "outputs": [
    {
     "data": {
      "text/plain": [
       "array([[  1,   2,   3],\n",
       "       [  8,  10,  12],\n",
       "       [ 21,  24,  27],\n",
       "       [ 40,  44,  48],\n",
       "       [ 65,  70,  75],\n",
       "       [ 96, 102, 108],\n",
       "       [133, 140, 147]])"
      ]
     },
     "execution_count": 25,
     "metadata": {},
     "output_type": "execute_result"
    }
   ],
   "source": [
    "result"
   ]
  },
  {
   "cell_type": "code",
   "execution_count": 21,
   "id": "ba7816bb-b03c-448c-92be-4553c155475c",
   "metadata": {},
   "outputs": [
    {
     "data": {
      "text/plain": [
       "array([[1],\n",
       "       [2],\n",
       "       [3],\n",
       "       [4],\n",
       "       [5],\n",
       "       [6],\n",
       "       [7]])"
      ]
     },
     "execution_count": 21,
     "metadata": {},
     "output_type": "execute_result"
    }
   ],
   "source": [
    " y[:, np.newaxis]"
   ]
  },
  {
   "cell_type": "code",
   "execution_count": null,
   "id": "5bfacca3-932f-48ec-ae37-3becc9f7e06c",
   "metadata": {},
   "outputs": [],
   "source": []
  },
  {
   "cell_type": "code",
   "execution_count": null,
   "id": "42529671-846e-4a01-89d2-5036efb6af3a",
   "metadata": {},
   "outputs": [],
   "source": []
  },
  {
   "cell_type": "markdown",
   "id": "f0f2f95d-85fa-4250-995a-7e2dcb5ba83e",
   "metadata": {},
   "source": [
    "# Memory Layout"
   ]
  },
  {
   "cell_type": "code",
   "execution_count": 26,
   "id": "4f8ee692-9cb3-4800-895c-a456c0157afd",
   "metadata": {},
   "outputs": [
    {
     "name": "stdout",
     "output_type": "stream",
     "text": [
      "  C_CONTIGUOUS : True\n",
      "  F_CONTIGUOUS : False\n",
      "  OWNDATA : True\n",
      "  WRITEABLE : True\n",
      "  ALIGNED : True\n",
      "  WRITEBACKIFCOPY : False\n",
      "\n"
     ]
    }
   ],
   "source": [
    "arr = np.array([[1, 2, 3], [4, 5, 6]])\n",
    "\n",
    "print(arr.flags)"
   ]
  },
  {
   "cell_type": "code",
   "execution_count": 45,
   "id": "63e020e0-05a4-47d3-93c1-aea719b53366",
   "metadata": {},
   "outputs": [
    {
     "name": "stdout",
     "output_type": "stream",
     "text": [
      "\n",
      "\n",
      "Row Ordered\n",
      "\n",
      "Row-wise sum time: 0.058873891830444336\n",
      "Column-wise sum time: 0.12064719200134277\n",
      "\n",
      "\n",
      "Column Ordered\n",
      "\n",
      "Row-wise sum time: 0.12967944145202637\n",
      "Column-wise sum time: 0.05781722068786621\n"
     ]
    }
   ],
   "source": [
    "import time\n",
    "\n",
    "arrR = np.random.rand(10000, 10000)  \n",
    "arrC = np.array(arrR, order=\"F\")\n",
    "\n",
    "print(\"\\n\\nRow Ordered\\n\")\n",
    "# Row-wise iteration (fast in C-order)\n",
    "start = time.time()\n",
    "row_sums = np.sum(arrR, axis=0)\n",
    "end = time.time()\n",
    "print(\"Row-wise sum time:\", end - start)\n",
    "\n",
    "# Column-wise iteration (slow in C-order)\n",
    "start = time.time()\n",
    "row_sums = np.sum(arrR, axis=1)\n",
    "end = time.time()\n",
    "print(\"Column-wise sum time:\", end - start)\n",
    "\n",
    "\n",
    "print(\"\\n\\nColumn Ordered\\n\")\n",
    "# Row-wise iteration (slow in f-order)\n",
    "start = time.time()\n",
    "row_sums = np.sum(arrC, axis=0)\n",
    "end = time.time()\n",
    "print(\"Row-wise sum time:\", end - start)\n",
    "\n",
    "# Column-wise iteration (fast in f-order)\n",
    "start = time.time()\n",
    "row_sums = np.sum(arrC, axis=1)\n",
    "end = time.time()\n",
    "print(\"Column-wise sum time:\", end - start)\n"
   ]
  },
  {
   "cell_type": "code",
   "execution_count": null,
   "id": "dab43f83-4d60-4a3b-8d65-585acfe245d7",
   "metadata": {},
   "outputs": [],
   "source": []
  },
  {
   "cell_type": "code",
   "execution_count": null,
   "id": "da38c3a0-dee7-4974-bd48-03748e43a078",
   "metadata": {},
   "outputs": [],
   "source": []
  },
  {
   "cell_type": "markdown",
   "id": "5cb4f4e4-5667-4734-97d4-ac3ad3a669df",
   "metadata": {},
   "source": [
    "## Write a NumPy program that creates a 1D array of 20 elements and use reshape() to create a (4, 5) matrix. Slice a (2, 3) sub-matrix and print its strides."
   ]
  },
  {
   "cell_type": "code",
   "execution_count": 48,
   "id": "60336044-afa0-4d8b-a0ca-f6af9287f676",
   "metadata": {},
   "outputs": [],
   "source": [
    "arr = np.random.randint(1, 50, 20)"
   ]
  },
  {
   "cell_type": "code",
   "execution_count": 49,
   "id": "9283891b-7b38-4316-ac28-c1e3f5817544",
   "metadata": {},
   "outputs": [
    {
     "data": {
      "text/plain": [
       "array([27, 35,  8, 24, 17, 41,  8, 16, 38, 22,  1, 47,  5,  9,  3, 14, 26,\n",
       "       22, 14, 48])"
      ]
     },
     "execution_count": 49,
     "metadata": {},
     "output_type": "execute_result"
    }
   ],
   "source": [
    "arr"
   ]
  },
  {
   "cell_type": "code",
   "execution_count": 50,
   "id": "d38a90cd-205c-42b2-a82e-08c148f7d27f",
   "metadata": {},
   "outputs": [],
   "source": [
    "arr = arr.reshape(4,5)"
   ]
  },
  {
   "cell_type": "code",
   "execution_count": 51,
   "id": "19bac6ba-7ee6-4d19-8440-13a810be8cd3",
   "metadata": {},
   "outputs": [
    {
     "data": {
      "text/plain": [
       "array([[27, 35,  8, 24, 17],\n",
       "       [41,  8, 16, 38, 22],\n",
       "       [ 1, 47,  5,  9,  3],\n",
       "       [14, 26, 22, 14, 48]])"
      ]
     },
     "execution_count": 51,
     "metadata": {},
     "output_type": "execute_result"
    }
   ],
   "source": [
    "arr"
   ]
  },
  {
   "cell_type": "code",
   "execution_count": 54,
   "id": "e7b02bbe-237c-4a57-8b5c-536a8572d8fa",
   "metadata": {},
   "outputs": [],
   "source": [
    "slice_arr = arr[:2, :3]"
   ]
  },
  {
   "cell_type": "code",
   "execution_count": 55,
   "id": "fa5f8398-e7fa-4c2b-95a1-4e8800fe4074",
   "metadata": {},
   "outputs": [
    {
     "data": {
      "text/plain": [
       "array([[27, 35,  8],\n",
       "       [41,  8, 16]])"
      ]
     },
     "execution_count": 55,
     "metadata": {},
     "output_type": "execute_result"
    }
   ],
   "source": [
    "slice_arr"
   ]
  },
  {
   "cell_type": "code",
   "execution_count": 57,
   "id": "a776c5bd-c4f3-4eec-b6ca-b803c949ec0a",
   "metadata": {},
   "outputs": [
    {
     "data": {
      "text/plain": [
       "(20, 4)"
      ]
     },
     "execution_count": 57,
     "metadata": {},
     "output_type": "execute_result"
    }
   ],
   "source": [
    "slice_arr.strides"
   ]
  },
  {
   "cell_type": "code",
   "execution_count": null,
   "id": "6db5833a-010e-4bda-915d-197ddd788105",
   "metadata": {},
   "outputs": [],
   "source": []
  }
 ],
 "metadata": {
  "kernelspec": {
   "display_name": "Python 3 (ipykernel)",
   "language": "python",
   "name": "python3"
  },
  "language_info": {
   "codemirror_mode": {
    "name": "ipython",
    "version": 3
   },
   "file_extension": ".py",
   "mimetype": "text/x-python",
   "name": "python",
   "nbconvert_exporter": "python",
   "pygments_lexer": "ipython3",
   "version": "3.12.7"
  }
 },
 "nbformat": 4,
 "nbformat_minor": 5
}
