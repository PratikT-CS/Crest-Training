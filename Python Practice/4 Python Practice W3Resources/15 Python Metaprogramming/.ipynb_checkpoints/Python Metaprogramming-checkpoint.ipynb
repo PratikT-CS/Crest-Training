{
 "cells": [
  {
   "cell_type": "markdown",
   "id": "a6fdd4bf-ee22-4a80-9dc5-6f09cb84d17f",
   "metadata": {},
   "source": [
    "# Write Python a function \"add_method\" that takes a class, a method name, and a method, and adds that method to the class."
   ]
  },
  {
   "cell_type": "code",
   "execution_count": 3,
   "id": "bfb617bc-df05-4632-b095-02c608338a68",
   "metadata": {},
   "outputs": [
    {
     "name": "stdout",
     "output_type": "stream",
     "text": [
      "Hello, dynamically added method!\n"
     ]
    }
   ],
   "source": [
    "def add_method(cls, method_name, method):\n",
    "    setattr(cls, method_name, method)\n",
    "\n",
    "class MyClass:\n",
    "    pass\n",
    "\n",
    "def greet(self):\n",
    "    return \"Hello, dynamically added method!\"\n",
    "\n",
    "add_method(MyClass, 'greet', greet)\n",
    "\n",
    "instance = MyClass()\n",
    "print(instance.greet())"
   ]
  },
  {
   "cell_type": "code",
   "execution_count": null,
   "id": "3e16aa6b-a233-4cb0-9daf-1a63c47e281d",
   "metadata": {},
   "outputs": [],
   "source": []
  },
  {
   "cell_type": "code",
   "execution_count": null,
   "id": "d17bd018-843b-491e-89a2-80ddc78744af",
   "metadata": {},
   "outputs": [],
   "source": []
  },
  {
   "cell_type": "markdown",
   "id": "b5830854-a861-4f53-a17c-84ed32327c20",
   "metadata": {},
   "source": [
    "# Write a  Python metaclass “AttrLoggingMeta” that logs every time an attribute is accessed or modified."
   ]
  },
  {
   "cell_type": "code",
   "execution_count": 4,
   "id": "925c162d-801a-444d-8d99-7d6cb10e87a5",
   "metadata": {},
   "outputs": [
    {
     "name": "stdout",
     "output_type": "stream",
     "text": [
      "Reading attribute foo\n",
      "42\n",
      "Writing attribute foo with value 78\n",
      "Calling method bar\n"
     ]
    },
    {
     "data": {
      "text/plain": [
       "'baz'"
      ]
     },
     "execution_count": 4,
     "metadata": {},
     "output_type": "execute_result"
    }
   ],
   "source": [
    "class AttrLoggingMeta(type):\n",
    "    def __new__(cls, name, bases, dct):\n",
    "        for key, value in dct.items():\n",
    "            if not key.startswith('__'):\n",
    "                dct[key] = cls.log_access(key, value)\n",
    "        return super().__new__(cls, name, bases, dct)\n",
    "        \n",
    "    @staticmethod\n",
    "    def log_access(name, value):\n",
    "        if callable(value):\n",
    "            def wrapper(*args, **kwargs):\n",
    "                print(f\"Calling method {name}\")\n",
    "                return value(*args, **kwargs)\n",
    "            return wrapper\n",
    "        else:\n",
    "            return property(\n",
    "                fget=lambda self: AttrLoggingMeta.log_read(name, value, self),\n",
    "                fset=lambda self, v: AttrLoggingMeta.log_write(name, v, self)\n",
    "            )\n",
    "            \n",
    "    @staticmethod\n",
    "    def log_read(name, value, instance):\n",
    "        print(f\"Reading attribute {name}\")\n",
    "        return value\n",
    "\n",
    "    @staticmethod\n",
    "    def log_write(name, value, instance):\n",
    "        print(f\"Writing attribute {name} with value {value}\")\n",
    "        instance.__dict__[name] = value\n",
    "\n",
    "class LoggedClass(metaclass=AttrLoggingMeta):\n",
    "    foo = 42\n",
    "    def bar(self):\n",
    "        return 'baz'\n",
    "\n",
    "\n",
    "instance = LoggedClass()\n",
    "print(instance.foo)\n",
    "\n",
    "instance.foo = 78   \n",
    "instance.bar()      "
   ]
  },
  {
   "cell_type": "code",
   "execution_count": null,
   "id": "b4b2be2d-2995-4213-b515-d2ae21927af4",
   "metadata": {},
   "outputs": [],
   "source": []
  }
 ],
 "metadata": {
  "kernelspec": {
   "display_name": "Python 3 (ipykernel)",
   "language": "python",
   "name": "python3"
  },
  "language_info": {
   "codemirror_mode": {
    "name": "ipython",
    "version": 3
   },
   "file_extension": ".py",
   "mimetype": "text/x-python",
   "name": "python",
   "nbconvert_exporter": "python",
   "pygments_lexer": "ipython3",
   "version": "3.12.7"
  }
 },
 "nbformat": 4,
 "nbformat_minor": 5
}
