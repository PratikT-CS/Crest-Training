{
 "cells": [
  {
   "cell_type": "code",
   "execution_count": 1,
   "id": "dd5e7524-e05f-416b-9572-23a758c79589",
   "metadata": {},
   "outputs": [],
   "source": [
    "import numpy as np"
   ]
  },
  {
   "cell_type": "code",
   "execution_count": 6,
   "id": "df233e4d-d9e4-43bd-b971-152ff654aa99",
   "metadata": {},
   "outputs": [],
   "source": [
    "x = np.array([-1, -4, 0, 2, 3, 4, 5, -6])"
   ]
  },
  {
   "cell_type": "code",
   "execution_count": 7,
   "id": "214ed467-fcd8-4920-a8d3-6c40940f2d04",
   "metadata": {},
   "outputs": [
    {
     "data": {
      "text/plain": [
       "array([-1, -4,  0,  2,  3,  4,  5, -6])"
      ]
     },
     "execution_count": 7,
     "metadata": {},
     "output_type": "execute_result"
    }
   ],
   "source": [
    "x"
   ]
  },
  {
   "cell_type": "code",
   "execution_count": 8,
   "id": "82723ece-7057-4949-8d8c-7c85caf380de",
   "metadata": {},
   "outputs": [],
   "source": [
    "x[x<0] = 0"
   ]
  },
  {
   "cell_type": "code",
   "execution_count": 9,
   "id": "71c51bf8-bcb2-49dc-b459-d7881d237563",
   "metadata": {},
   "outputs": [
    {
     "data": {
      "text/plain": [
       "array([0, 0, 0, 2, 3, 4, 5, 0])"
      ]
     },
     "execution_count": 9,
     "metadata": {},
     "output_type": "execute_result"
    }
   ],
   "source": [
    "x"
   ]
  },
  {
   "cell_type": "code",
   "execution_count": null,
   "id": "27e4f10a-93e5-4f55-9cb3-9a49677c5963",
   "metadata": {},
   "outputs": [],
   "source": []
  },
  {
   "cell_type": "code",
   "execution_count": 10,
   "id": "4928ab69-d95c-46f2-b0aa-df1b66ba30f7",
   "metadata": {},
   "outputs": [],
   "source": [
    "arra_data = np.arange(0, 36).reshape((6, 6))"
   ]
  },
  {
   "cell_type": "code",
   "execution_count": 11,
   "id": "989d1915-6dde-471d-8aeb-d64c93eb6b1c",
   "metadata": {},
   "outputs": [
    {
     "data": {
      "text/plain": [
       "array([[ 0,  1,  2,  3,  4,  5],\n",
       "       [ 6,  7,  8,  9, 10, 11],\n",
       "       [12, 13, 14, 15, 16, 17],\n",
       "       [18, 19, 20, 21, 22, 23],\n",
       "       [24, 25, 26, 27, 28, 29],\n",
       "       [30, 31, 32, 33, 34, 35]])"
      ]
     },
     "execution_count": 11,
     "metadata": {},
     "output_type": "execute_result"
    }
   ],
   "source": [
    "arra_data"
   ]
  },
  {
   "cell_type": "code",
   "execution_count": 16,
   "id": "62705ef4-f76d-452d-87bf-9bb2674c7f9d",
   "metadata": {},
   "outputs": [
    {
     "data": {
      "text/plain": [
       "array([[12, 14, 16],\n",
       "       [24, 26, 28]])"
      ]
     },
     "execution_count": 16,
     "metadata": {},
     "output_type": "execute_result"
    }
   ],
   "source": [
    "arra_data[[2, 4], ::2]"
   ]
  },
  {
   "cell_type": "code",
   "execution_count": null,
   "id": "f99ee475-a94a-4405-9dc0-65953a1c4f1c",
   "metadata": {},
   "outputs": [],
   "source": []
  },
  {
   "cell_type": "code",
   "execution_count": null,
   "id": "7f708c09-7453-4349-9457-16e7e25e9d51",
   "metadata": {},
   "outputs": [],
   "source": []
  },
  {
   "cell_type": "markdown",
   "id": "69b48cda-f8df-4855-82f2-8fffdafe2d03",
   "metadata": {},
   "source": [
    "# Write a NumPy program to get the row numbers in a given array where at least one item is larger than a specified value."
   ]
  },
  {
   "cell_type": "code",
   "execution_count": 29,
   "id": "4a1ac0b1-528d-4fcf-b6aa-1b2e09871bd9",
   "metadata": {},
   "outputs": [],
   "source": [
    "num = np.arange(36)\n",
    "\n",
    "num = np.reshape(num, [4, 9])"
   ]
  },
  {
   "cell_type": "code",
   "execution_count": 30,
   "id": "5aabd291-d370-41c0-87b2-f988626976eb",
   "metadata": {},
   "outputs": [
    {
     "data": {
      "text/plain": [
       "array([[ 0,  1,  2,  3,  4,  5,  6,  7,  8],\n",
       "       [ 9, 10, 11, 12, 13, 14, 15, 16, 17],\n",
       "       [18, 19, 20, 21, 22, 23, 24, 25, 26],\n",
       "       [27, 28, 29, 30, 31, 32, 33, 34, 35]])"
      ]
     },
     "execution_count": 30,
     "metadata": {},
     "output_type": "execute_result"
    }
   ],
   "source": [
    "num"
   ]
  },
  {
   "cell_type": "code",
   "execution_count": 31,
   "id": "46583d44-d157-41d2-af86-f0434b8d9af0",
   "metadata": {},
   "outputs": [
    {
     "data": {
      "text/plain": [
       "array([11, 12, 13, 14, 15, 16, 17, 18, 19, 20, 21, 22, 23, 24, 25, 26, 27,\n",
       "       28, 29, 30, 31, 32, 33, 34, 35])"
      ]
     },
     "execution_count": 31,
     "metadata": {},
     "output_type": "execute_result"
    }
   ],
   "source": [
    "num[num > 10]"
   ]
  },
  {
   "cell_type": "code",
   "execution_count": 27,
   "id": "852963b2-1bd8-4897-80f6-5fff26de97bf",
   "metadata": {},
   "outputs": [],
   "source": [
    "num[num > 10] = 0"
   ]
  },
  {
   "cell_type": "code",
   "execution_count": 28,
   "id": "c42078f0-e823-4147-8c64-ef63331c6644",
   "metadata": {},
   "outputs": [
    {
     "data": {
      "text/plain": [
       "array([[ 0,  1,  2,  3,  4,  5,  6,  7,  8],\n",
       "       [ 9, 10,  0,  0,  0,  0,  0,  0,  0],\n",
       "       [ 0,  0,  0,  0,  0,  0,  0,  0,  0],\n",
       "       [ 0,  0,  0,  0,  0,  0,  0,  0,  0]])"
      ]
     },
     "execution_count": 28,
     "metadata": {},
     "output_type": "execute_result"
    }
   ],
   "source": [
    "num"
   ]
  },
  {
   "cell_type": "code",
   "execution_count": 32,
   "id": "a924708d-7140-4c50-9afc-f7b1b2911542",
   "metadata": {},
   "outputs": [],
   "source": [
    "num[num < 10] = 0"
   ]
  },
  {
   "cell_type": "code",
   "execution_count": 33,
   "id": "4008d8d8-2ebd-4897-8f35-e9cda16397f9",
   "metadata": {},
   "outputs": [
    {
     "data": {
      "text/plain": [
       "array([[ 0,  0,  0,  0,  0,  0,  0,  0,  0],\n",
       "       [ 0, 10, 11, 12, 13, 14, 15, 16, 17],\n",
       "       [18, 19, 20, 21, 22, 23, 24, 25, 26],\n",
       "       [27, 28, 29, 30, 31, 32, 33, 34, 35]])"
      ]
     },
     "execution_count": 33,
     "metadata": {},
     "output_type": "execute_result"
    }
   ],
   "source": [
    "num"
   ]
  },
  {
   "cell_type": "code",
   "execution_count": 35,
   "id": "4dd86388-f0c0-4557-a425-caaafe7559d6",
   "metadata": {},
   "outputs": [],
   "source": [
    "result = np.where(np.any(num> 10, axis=1))"
   ]
  },
  {
   "cell_type": "code",
   "execution_count": 36,
   "id": "4cbd678d-b623-4949-a45f-a7ae20e29dda",
   "metadata": {},
   "outputs": [
    {
     "data": {
      "text/plain": [
       "(array([1, 2, 3], dtype=int64),)"
      ]
     },
     "execution_count": 36,
     "metadata": {},
     "output_type": "execute_result"
    }
   ],
   "source": [
    "result"
   ]
  },
  {
   "cell_type": "code",
   "execution_count": null,
   "id": "4153342a-bc23-4a3a-8bf1-9b83de7e1e4d",
   "metadata": {},
   "outputs": [],
   "source": []
  },
  {
   "cell_type": "code",
   "execution_count": null,
   "id": "b3c55bb0-3c0c-4040-a5a9-990b7f727ec4",
   "metadata": {},
   "outputs": [],
   "source": []
  },
  {
   "cell_type": "markdown",
   "id": "df35887e-b1d7-4009-abd9-51dc358851ca",
   "metadata": {},
   "source": [
    "# Write a Numpy program to test whether numpy array is faster than Python list or not."
   ]
  },
  {
   "cell_type": "code",
   "execution_count": 37,
   "id": "31fc963d-e492-4611-8053-dd6bdf532af1",
   "metadata": {},
   "outputs": [
    {
     "name": "stdout",
     "output_type": "stream",
     "text": [
      "Time to aggregate elements from each of the iterables:\n",
      "List:\n",
      "69.81587409973145\n",
      "NumPy array:\n",
      "12.010335922241211\n"
     ]
    }
   ],
   "source": [
    "import time \n",
    "import numpy as np \n",
    "\n",
    "SIZE = 200000\n",
    "\n",
    "list1 = range(SIZE)\n",
    "list2 = range(SIZE)\n",
    "arra1 = np.arange(SIZE)\n",
    "arra2 = np.arange(SIZE)\n",
    "\n",
    "start_list = time.time()  # Marking the start time\n",
    "result = [(x, y) for x, y in zip(list1, list2)]  # Aggregating elements from 'list1' and 'list2' using list comprehension\n",
    "print(\"Time to aggregate elements from each of the iterables:\")\n",
    "print(\"List:\")\n",
    "print((time.time() - start_list) * 1000)  # Printing the execution time in milliseconds\n",
    "\n",
    "# Measuring the time taken to add NumPy arrays element-wise\n",
    "start_array = time.time()  # Marking the start time\n",
    "result = arra1 + arra2  # Performing element-wise addition on 'arra1' and 'arra2' using NumPy\n",
    "print(\"NumPy array:\")\n",
    "print((time.time() - start_array) * 1000)"
   ]
  },
  {
   "cell_type": "code",
   "execution_count": null,
   "id": "1f79bc58-8173-4079-b4ad-f9c5d148194e",
   "metadata": {},
   "outputs": [],
   "source": []
  }
 ],
 "metadata": {
  "kernelspec": {
   "display_name": "Python 3 (ipykernel)",
   "language": "python",
   "name": "python3"
  },
  "language_info": {
   "codemirror_mode": {
    "name": "ipython",
    "version": 3
   },
   "file_extension": ".py",
   "mimetype": "text/x-python",
   "name": "python",
   "nbconvert_exporter": "python",
   "pygments_lexer": "ipython3",
   "version": "3.12.7"
  }
 },
 "nbformat": 4,
 "nbformat_minor": 5
}
