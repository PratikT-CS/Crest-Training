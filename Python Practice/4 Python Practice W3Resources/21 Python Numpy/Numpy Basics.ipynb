{
 "cells": [
  {
   "cell_type": "markdown",
   "id": "ab0e1da4-c827-43ca-9b78-f0838b2132a8",
   "metadata": {},
   "source": [
    "# Write a  NumPy program to create a 4x4 array. Create an array from said array by swapping first and last, second and third columns."
   ]
  },
  {
   "cell_type": "code",
   "execution_count": 11,
   "id": "f34e81eb-41ba-4efd-bbc7-75ca7fd0dfb9",
   "metadata": {},
   "outputs": [
    {
     "name": "stdout",
     "output_type": "stream",
     "text": [
      "Original array:\n",
      "[[ 0  1  2  3]\n",
      " [ 4  5  6  7]\n",
      " [ 8  9 10 11]\n",
      " [12 13 14 15]]\n",
      "\n",
      "New array after swapping first and last columns of the said array:\n",
      "[[ 3  2  1  0]\n",
      " [ 7  6  5  4]\n",
      " [11 10  9  8]\n",
      " [15 14 13 12]]\n"
     ]
    }
   ],
   "source": [
    "import numpy as np \n",
    "\n",
    "nums = np.arange(16, dtype='int').reshape(-1, 4)\n",
    "\n",
    "print(\"Original array:\")\n",
    "print(nums)\n",
    "\n",
    "new_nums = nums[:, ::-1]\n",
    "\n",
    "print(\"\\nNew array after swapping first and last columns of the said array:\")\n",
    "print(new_nums)"
   ]
  },
  {
   "cell_type": "code",
   "execution_count": 12,
   "id": "888055d4-1d3a-4600-a071-b320aec843c1",
   "metadata": {},
   "outputs": [
    {
     "name": "stdout",
     "output_type": "stream",
     "text": [
      "Original array:\n",
      "[[ 0  1  2  3]\n",
      " [ 4  5  6  7]\n",
      " [ 8  9 10 11]\n",
      " [12 13 14 15]]\n",
      "\n",
      "New array after swapping first and last columns of the said array:\n",
      "[[ 0  1  2  3]\n",
      " [ 7  6  5  4]\n",
      " [11 10  9  8]\n",
      " [12 13 14 15]]\n"
     ]
    }
   ],
   "source": [
    "import numpy as np \n",
    "\n",
    "nums = np.arange(16, dtype='int').reshape(-1, 4)\n",
    "\n",
    "print(\"Original array:\")\n",
    "print(nums)\n",
    "\n",
    "new_nums = nums.copy()\n",
    "new_nums[1:3, :] = nums[1:3, ::-1]\n",
    "\n",
    "print(\"\\nNew array after swapping first and last columns of the said array:\")\n",
    "print(new_nums)"
   ]
  },
  {
   "cell_type": "code",
   "execution_count": null,
   "id": "0f94f2e2-2aad-46bc-843c-2b0ed9442544",
   "metadata": {},
   "outputs": [],
   "source": []
  },
  {
   "cell_type": "code",
   "execution_count": null,
   "id": "ce3f2fa3-49ee-4919-b957-b2747f1608cb",
   "metadata": {},
   "outputs": [],
   "source": []
  },
  {
   "cell_type": "markdown",
   "id": "c3b957f6-5b79-4c84-af23-94ab33dc870f",
   "metadata": {},
   "source": [
    "# Write a  NumPy program to swap rows and columns of a given array in reverse order."
   ]
  },
  {
   "cell_type": "code",
   "execution_count": 13,
   "id": "23f3403a-7636-444e-9327-33a736e41c7d",
   "metadata": {},
   "outputs": [
    {
     "data": {
      "text/plain": [
       "array([[ 0,  1,  2,  3],\n",
       "       [ 4,  5,  6,  7],\n",
       "       [ 8,  9, 10, 11],\n",
       "       [12, 13, 14, 15]])"
      ]
     },
     "execution_count": 13,
     "metadata": {},
     "output_type": "execute_result"
    }
   ],
   "source": [
    "nums"
   ]
  },
  {
   "cell_type": "code",
   "execution_count": 16,
   "id": "aa5709af-e60f-4252-a26d-960bb2929b3b",
   "metadata": {},
   "outputs": [],
   "source": [
    "reverse = nums[::-1, :]"
   ]
  },
  {
   "cell_type": "code",
   "execution_count": 17,
   "id": "1a59a856-8c76-40d6-96d9-205210145cc2",
   "metadata": {},
   "outputs": [
    {
     "data": {
      "text/plain": [
       "array([[12, 13, 14, 15],\n",
       "       [ 8,  9, 10, 11],\n",
       "       [ 4,  5,  6,  7],\n",
       "       [ 0,  1,  2,  3]])"
      ]
     },
     "execution_count": 17,
     "metadata": {},
     "output_type": "execute_result"
    }
   ],
   "source": [
    "reverse"
   ]
  },
  {
   "cell_type": "code",
   "execution_count": 20,
   "id": "e99d924d-7d0b-4e29-a82e-328d0bc64ce7",
   "metadata": {},
   "outputs": [],
   "source": [
    "reverse = nums[::-1, ::-1]"
   ]
  },
  {
   "cell_type": "code",
   "execution_count": 21,
   "id": "5144801d-aa6c-4c79-87e2-78c923fea759",
   "metadata": {},
   "outputs": [
    {
     "data": {
      "text/plain": [
       "array([[15, 14, 13, 12],\n",
       "       [11, 10,  9,  8],\n",
       "       [ 7,  6,  5,  4],\n",
       "       [ 3,  2,  1,  0]])"
      ]
     },
     "execution_count": 21,
     "metadata": {},
     "output_type": "execute_result"
    }
   ],
   "source": [
    "reverse"
   ]
  },
  {
   "cell_type": "code",
   "execution_count": null,
   "id": "9a05621e-38c6-4746-8e8f-1165871e305a",
   "metadata": {},
   "outputs": [],
   "source": []
  },
  {
   "cell_type": "code",
   "execution_count": null,
   "id": "c35a3956-9e06-4446-98d1-dfccd10259d6",
   "metadata": {},
   "outputs": [],
   "source": []
  },
  {
   "cell_type": "code",
   "execution_count": 31,
   "id": "19aa1a27-7a29-45bf-a7b9-a8835efec105",
   "metadata": {},
   "outputs": [
    {
     "data": {
      "text/plain": [
       "array([[ 0, 14, 26, 36],\n",
       "       [44, 50, 54, 56],\n",
       "       [56, 54, 50, 44],\n",
       "       [36, 26, 14,  0]])"
      ]
     },
     "execution_count": 31,
     "metadata": {},
     "output_type": "execute_result"
    }
   ],
   "source": [
    "np.multiply(nums, reverse)"
   ]
  },
  {
   "cell_type": "code",
   "execution_count": 32,
   "id": "5210ecf3-a200-4d76-a930-bd0aef604ad7",
   "metadata": {},
   "outputs": [
    {
     "data": {
      "text/plain": [
       "array([[ 0, 14, 26, 36],\n",
       "       [44, 50, 54, 56],\n",
       "       [56, 54, 50, 44],\n",
       "       [36, 26, 14,  0]])"
      ]
     },
     "execution_count": 32,
     "metadata": {},
     "output_type": "execute_result"
    }
   ],
   "source": [
    "nums * reverse"
   ]
  },
  {
   "cell_type": "code",
   "execution_count": 33,
   "id": "0bdc0f3d-3e1c-40ee-98d5-93efb3f817ea",
   "metadata": {},
   "outputs": [
    {
     "data": {
      "text/plain": [
       "array([[15, 15, 15, 15],\n",
       "       [15, 15, 15, 15],\n",
       "       [15, 15, 15, 15],\n",
       "       [15, 15, 15, 15]])"
      ]
     },
     "execution_count": 33,
     "metadata": {},
     "output_type": "execute_result"
    }
   ],
   "source": [
    "nums + reverse"
   ]
  },
  {
   "cell_type": "code",
   "execution_count": 34,
   "id": "9242e685-279d-4e44-addd-3c28000e821e",
   "metadata": {},
   "outputs": [
    {
     "data": {
      "text/plain": [
       "array([[-15, -13, -11,  -9],\n",
       "       [ -7,  -5,  -3,  -1],\n",
       "       [  1,   3,   5,   7],\n",
       "       [  9,  11,  13,  15]])"
      ]
     },
     "execution_count": 34,
     "metadata": {},
     "output_type": "execute_result"
    }
   ],
   "source": [
    "nums - reverse"
   ]
  },
  {
   "cell_type": "code",
   "execution_count": 35,
   "id": "e18c7d9a-ec15-427e-a784-f4ea7eb373a9",
   "metadata": {},
   "outputs": [
    {
     "data": {
      "text/plain": [
       "array([[  0,   1,   4,   9],\n",
       "       [ 16,  25,  36,  49],\n",
       "       [ 64,  81, 100, 121],\n",
       "       [144, 169, 196, 225]])"
      ]
     },
     "execution_count": 35,
     "metadata": {},
     "output_type": "execute_result"
    }
   ],
   "source": [
    "nums ** 2"
   ]
  },
  {
   "cell_type": "code",
   "execution_count": 36,
   "id": "076d874d-344d-48b1-a5c5-f8be44596020",
   "metadata": {},
   "outputs": [
    {
     "data": {
      "text/plain": [
       "array([[ 2,  3,  4,  5],\n",
       "       [ 6,  7,  8,  9],\n",
       "       [10, 11, 12, 13],\n",
       "       [14, 15, 16, 17]])"
      ]
     },
     "execution_count": 36,
     "metadata": {},
     "output_type": "execute_result"
    }
   ],
   "source": [
    "nums + 2"
   ]
  },
  {
   "cell_type": "code",
   "execution_count": null,
   "id": "1da6f3b5-ec0f-4b85-b799-a4abd693286a",
   "metadata": {},
   "outputs": [],
   "source": []
  },
  {
   "cell_type": "code",
   "execution_count": null,
   "id": "3a7921a3-7a26-4e0c-9b84-29b8345d27f5",
   "metadata": {},
   "outputs": [],
   "source": []
  },
  {
   "cell_type": "code",
   "execution_count": 37,
   "id": "bbe5dd16-1f79-4579-966c-eb69ab68c5f5",
   "metadata": {},
   "outputs": [],
   "source": [
    "nums = np.array([[[1, 5, 2, 1],\n",
    "               [4, 3, 5, 6],\n",
    "               [6, 3, 0, 6],\n",
    "               [7, 3, 5, 0],\n",
    "               [2, 3, 3, 5]],\n",
    "              \n",
    "              [[2, 2, 3, 1],\n",
    "               [4, 0, 0, 5],\n",
    "               [6, 3, 2, 1],\n",
    "               [5, 1, 0, 0],               \n",
    "               [0, 1, 9, 1]],\n",
    "              \n",
    "              [[3, 1, 4, 2],\n",
    "               [4, 1, 6, 0],\n",
    "               [1, 2, 0, 6],\n",
    "               [8, 3, 4, 0],               \n",
    "               [2, 0, 2, 8]]]) "
   ]
  },
  {
   "cell_type": "code",
   "execution_count": 39,
   "id": "28301a89-7dce-44ad-8899-6bf898995ce6",
   "metadata": {},
   "outputs": [
    {
     "data": {
      "text/plain": [
       "array([[[3, 1, 4, 2],\n",
       "        [4, 1, 6, 0],\n",
       "        [1, 2, 0, 6],\n",
       "        [8, 3, 4, 0],\n",
       "        [2, 0, 2, 8]],\n",
       "\n",
       "       [[2, 2, 3, 1],\n",
       "        [4, 0, 0, 5],\n",
       "        [6, 3, 2, 1],\n",
       "        [5, 1, 0, 0],\n",
       "        [0, 1, 9, 1]],\n",
       "\n",
       "       [[1, 5, 2, 1],\n",
       "        [4, 3, 5, 6],\n",
       "        [6, 3, 0, 6],\n",
       "        [7, 3, 5, 0],\n",
       "        [2, 3, 3, 5]]])"
      ]
     },
     "execution_count": 39,
     "metadata": {},
     "output_type": "execute_result"
    }
   ],
   "source": [
    "nums[::-1]"
   ]
  },
  {
   "cell_type": "code",
   "execution_count": 40,
   "id": "24c4bd59-1d94-4401-85ba-13315c5f8a0c",
   "metadata": {},
   "outputs": [
    {
     "data": {
      "text/plain": [
       "array([[1, 5, 2, 1],\n",
       "       [4, 3, 5, 6],\n",
       "       [6, 3, 0, 6],\n",
       "       [7, 3, 5, 0],\n",
       "       [2, 3, 3, 5]])"
      ]
     },
     "execution_count": 40,
     "metadata": {},
     "output_type": "execute_result"
    }
   ],
   "source": [
    "nums[0]"
   ]
  },
  {
   "cell_type": "code",
   "execution_count": 42,
   "id": "ffbad174-3d1d-4797-83ed-ede3110042ec",
   "metadata": {},
   "outputs": [
    {
     "data": {
      "text/plain": [
       "array([1, 5, 2, 1])"
      ]
     },
     "execution_count": 42,
     "metadata": {},
     "output_type": "execute_result"
    }
   ],
   "source": [
    "nums[0, 0]"
   ]
  },
  {
   "cell_type": "code",
   "execution_count": 43,
   "id": "70d0b8ad-0120-4b79-a1d6-b61fc836cf89",
   "metadata": {},
   "outputs": [
    {
     "data": {
      "text/plain": [
       "array([[2, 3, 3, 5],\n",
       "       [7, 3, 5, 0],\n",
       "       [6, 3, 0, 6],\n",
       "       [4, 3, 5, 6],\n",
       "       [1, 5, 2, 1]])"
      ]
     },
     "execution_count": 43,
     "metadata": {},
     "output_type": "execute_result"
    }
   ],
   "source": [
    "nums[0, ::-1]"
   ]
  },
  {
   "cell_type": "code",
   "execution_count": 45,
   "id": "b2494673-1a29-4e9f-af23-4a65286f024e",
   "metadata": {},
   "outputs": [
    {
     "data": {
      "text/plain": [
       "1"
      ]
     },
     "execution_count": 45,
     "metadata": {},
     "output_type": "execute_result"
    }
   ],
   "source": [
    "nums[0, 0, 0]"
   ]
  },
  {
   "cell_type": "code",
   "execution_count": 47,
   "id": "ae637ffc-aba9-407c-a844-02813b2a00ef",
   "metadata": {},
   "outputs": [
    {
     "data": {
      "text/plain": [
       "2"
      ]
     },
     "execution_count": 47,
     "metadata": {},
     "output_type": "execute_result"
    }
   ],
   "source": [
    "nums[1, 2, 2]"
   ]
  },
  {
   "cell_type": "code",
   "execution_count": null,
   "id": "b74e2124-dbd2-405e-96c5-94984158da6a",
   "metadata": {},
   "outputs": [],
   "source": []
  },
  {
   "cell_type": "code",
   "execution_count": null,
   "id": "972bed4e-d23b-4693-b990-915c86b62b0b",
   "metadata": {},
   "outputs": [],
   "source": []
  },
  {
   "cell_type": "code",
   "execution_count": 50,
   "id": "d17df24d-27be-45ae-92dc-3fd9f217acfd",
   "metadata": {},
   "outputs": [],
   "source": [
    "matrix = np.arange(2,11).reshape(3,3)"
   ]
  },
  {
   "cell_type": "code",
   "execution_count": 51,
   "id": "7735447c-b102-4d9d-89ce-b4f09f3f2974",
   "metadata": {},
   "outputs": [
    {
     "data": {
      "text/plain": [
       "array([[ 2,  3,  4],\n",
       "       [ 5,  6,  7],\n",
       "       [ 8,  9, 10]])"
      ]
     },
     "execution_count": 51,
     "metadata": {},
     "output_type": "execute_result"
    }
   ],
   "source": [
    "matrix"
   ]
  },
  {
   "cell_type": "code",
   "execution_count": null,
   "id": "f0f7fbb9-132c-440e-8750-40be31e9fdcc",
   "metadata": {},
   "outputs": [],
   "source": []
  },
  {
   "cell_type": "code",
   "execution_count": null,
   "id": "bc1784f8-fe70-4d65-85ea-6055e08029b7",
   "metadata": {},
   "outputs": [],
   "source": []
  }
 ],
 "metadata": {
  "kernelspec": {
   "display_name": "Python 3 (ipykernel)",
   "language": "python",
   "name": "python3"
  },
  "language_info": {
   "codemirror_mode": {
    "name": "ipython",
    "version": 3
   },
   "file_extension": ".py",
   "mimetype": "text/x-python",
   "name": "python",
   "nbconvert_exporter": "python",
   "pygments_lexer": "ipython3",
   "version": "3.12.7"
  }
 },
 "nbformat": 4,
 "nbformat_minor": 5
}
