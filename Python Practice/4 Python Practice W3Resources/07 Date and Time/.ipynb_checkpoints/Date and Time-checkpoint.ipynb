{
 "cells": [
  {
   "cell_type": "markdown",
   "id": "655decf4-e60a-4a72-a893-8dc326cefa4f",
   "metadata": {},
   "source": [
    "# Date Time\n",
    "## Write a Python program to convert a string to datetime."
   ]
  },
  {
   "cell_type": "code",
   "execution_count": 1,
   "id": "6aa4ea1e-f398-4651-a5f9-7fc0c94beb77",
   "metadata": {},
   "outputs": [
    {
     "data": {
      "text/plain": [
       "datetime.datetime(2014, 7, 1, 14, 43)"
      ]
     },
     "execution_count": 1,
     "metadata": {},
     "output_type": "execute_result"
    }
   ],
   "source": [
    "from datetime import datetime\n",
    "date_obj = datetime.strptime('Jul 1 2014 2:43PM', '%b %d %Y %I:%M%p')\n",
    "date_obj"
   ]
  },
  {
   "cell_type": "code",
   "execution_count": 2,
   "id": "e6578fbe-6351-40ae-8e92-8029f1044544",
   "metadata": {},
   "outputs": [
    {
     "name": "stdout",
     "output_type": "stream",
     "text": [
      "2014-07-01 14:43:00\n"
     ]
    }
   ],
   "source": [
    "print(date_obj)"
   ]
  },
  {
   "cell_type": "markdown",
   "id": "b257ca98-bc25-4a35-8181-bc917014a7ec",
   "metadata": {},
   "source": [
    "## Write a  Python program to calculate the number of days between two date times."
   ]
  },
  {
   "cell_type": "code",
   "execution_count": 4,
   "id": "b2faeefe-8374-4116-afde-d049f6253ff7",
   "metadata": {},
   "outputs": [
    {
     "data": {
      "text/plain": [
       "307"
      ]
     },
     "execution_count": 4,
     "metadata": {},
     "output_type": "execute_result"
    }
   ],
   "source": [
    "((datetime(2016, 10, 12, 0, 0, 0)) - datetime(2015, 12, 10, 0, 0, 0)).days"
   ]
  },
  {
   "cell_type": "code",
   "execution_count": null,
   "id": "0dd0b74e-9595-4476-90c2-f8256b70f20e",
   "metadata": {},
   "outputs": [],
   "source": []
  },
  {
   "cell_type": "code",
   "execution_count": null,
   "id": "0c7bd607-c541-4de1-bb99-74aac2be4b26",
   "metadata": {},
   "outputs": [],
   "source": []
  },
  {
   "cell_type": "markdown",
   "id": "2deabc32-1d15-4bc3-87f6-cfbd3ba4dfae",
   "metadata": {},
   "source": [
    "# Pendulum \n",
    "## Write a Python program to create a Pendulum object for the current date and time in the \"Europe/London\" timezon using Pendulum module."
   ]
  },
  {
   "cell_type": "code",
   "execution_count": 11,
   "id": "ce58d64b-a0d7-4bf9-9971-0356fb50ceb8",
   "metadata": {},
   "outputs": [
    {
     "name": "stdout",
     "output_type": "stream",
     "text": [
      "Collecting pendulum\n",
      "  Downloading pendulum-3.0.0-cp312-none-win_amd64.whl.metadata (7.0 kB)\n",
      "Requirement already satisfied: python-dateutil>=2.6 in c:\\users\\pratiktalaviya\\anaconda3\\lib\\site-packages (from pendulum) (2.9.0.post0)\n",
      "Requirement already satisfied: tzdata>=2020.1 in c:\\users\\pratiktalaviya\\anaconda3\\lib\\site-packages (from pendulum) (2023.3)\n",
      "Collecting time-machine>=2.6.0 (from pendulum)\n",
      "  Downloading time_machine-2.16.0-cp312-cp312-win_amd64.whl.metadata (21 kB)\n",
      "Requirement already satisfied: six>=1.5 in c:\\users\\pratiktalaviya\\anaconda3\\lib\\site-packages (from python-dateutil>=2.6->pendulum) (1.16.0)\n",
      "Downloading pendulum-3.0.0-cp312-none-win_amd64.whl (293 kB)\n",
      "Downloading time_machine-2.16.0-cp312-cp312-win_amd64.whl (19 kB)\n",
      "Installing collected packages: time-machine, pendulum\n",
      "Successfully installed pendulum-3.0.0 time-machine-2.16.0\n"
     ]
    }
   ],
   "source": [
    "!pip install pendulum"
   ]
  },
  {
   "cell_type": "code",
   "execution_count": 14,
   "id": "da698958-6b7e-4f63-a31c-c332a4507be7",
   "metadata": {},
   "outputs": [
    {
     "name": "stdout",
     "output_type": "stream",
     "text": [
      "2025-01-24 07:28:41.341106+00:00\n"
     ]
    }
   ],
   "source": [
    "import pendulum\n",
    "\n",
    "london_datetime = pendulum.now('Europe/London')\n",
    "print(london_datetime)"
   ]
  },
  {
   "cell_type": "markdown",
   "id": "bdc802f6-8cf4-4227-b881-3aa8f9446036",
   "metadata": {},
   "source": [
    "## Write a Python program to print the first day of the current month using Pendulum module."
   ]
  },
  {
   "cell_type": "code",
   "execution_count": 17,
   "id": "68ff0191-dba9-47b0-840a-403aaf71aa23",
   "metadata": {},
   "outputs": [
    {
     "name": "stdout",
     "output_type": "stream",
     "text": [
      "2025-01-01 00:00:00+05:30\n"
     ]
    }
   ],
   "source": [
    "import pendulum\n",
    "current_datetime = pendulum.now()\n",
    "\n",
    "first = current_datetime.start_of('month')\n",
    "print(first)"
   ]
  },
  {
   "cell_type": "code",
   "execution_count": null,
   "id": "fb3d211d-fb04-4809-9d0c-f5c839a2317d",
   "metadata": {},
   "outputs": [],
   "source": []
  }
 ],
 "metadata": {
  "kernelspec": {
   "display_name": "Python 3 (ipykernel)",
   "language": "python",
   "name": "python3"
  },
  "language_info": {
   "codemirror_mode": {
    "name": "ipython",
    "version": 3
   },
   "file_extension": ".py",
   "mimetype": "text/x-python",
   "name": "python",
   "nbconvert_exporter": "python",
   "pygments_lexer": "ipython3",
   "version": "3.12.7"
  }
 },
 "nbformat": 4,
 "nbformat_minor": 5
}
