{
 "cells": [
  {
   "cell_type": "code",
   "execution_count": 1,
   "id": "89041451-3ce7-46eb-a17e-6e6e6aef16d1",
   "metadata": {},
   "outputs": [],
   "source": [
    "import numpy as np\n",
    "\n",
    "arr = np.array([1, 2, 3, 4, 5])\n",
    "np.save(\"data.npy\", arr)"
   ]
  },
  {
   "cell_type": "code",
   "execution_count": 2,
   "id": "ef7580d4-b256-448c-9f90-565ec937c588",
   "metadata": {},
   "outputs": [
    {
     "name": "stdout",
     "output_type": "stream",
     "text": [
      "[1 2 3 4 5]\n"
     ]
    }
   ],
   "source": [
    "loaded_arr = np.load(\"data.npy\")\n",
    "print(loaded_arr)"
   ]
  },
  {
   "cell_type": "code",
   "execution_count": null,
   "id": "27ac2b7c-083e-48f6-b632-ff60f1df2d80",
   "metadata": {},
   "outputs": [],
   "source": []
  },
  {
   "cell_type": "markdown",
   "id": "911c5d85-3219-450d-88ed-e6b97e6a58f8",
   "metadata": {},
   "source": [
    "## Write a NumPy program that saves a large NumPy array to a compressed .npz file and then reads it back into a NumPy array."
   ]
  },
  {
   "cell_type": "code",
   "execution_count": 3,
   "id": "9aa0cd0f-6627-4656-aae0-768828eeac7f",
   "metadata": {},
   "outputs": [
    {
     "name": "stdout",
     "output_type": "stream",
     "text": [
      "Original NumPy Array:\n",
      "[[0.69532919 0.13969966 0.30861405 ... 0.67522995 0.52167421 0.35574677]\n",
      " [0.28664514 0.0896239  0.19035305 ... 0.6070947  0.37689509 0.32978025]\n",
      " [0.05853312 0.69001282 0.74719465 ... 0.85032722 0.99325712 0.30731676]\n",
      " ...\n",
      " [0.45583198 0.21217935 0.56987883 ... 0.4275382  0.69015015 0.33829215]\n",
      " [0.91068948 0.20341422 0.41123175 ... 0.88437501 0.78734006 0.48021566]\n",
      " [0.85077175 0.86512563 0.63638979 ... 0.52520972 0.80861157 0.45218359]]\n",
      "\n",
      "Loaded NumPy Array from Compressed .npz File:\n",
      "[[0.69532919 0.13969966 0.30861405 ... 0.67522995 0.52167421 0.35574677]\n",
      " [0.28664514 0.0896239  0.19035305 ... 0.6070947  0.37689509 0.32978025]\n",
      " [0.05853312 0.69001282 0.74719465 ... 0.85032722 0.99325712 0.30731676]\n",
      " ...\n",
      " [0.45583198 0.21217935 0.56987883 ... 0.4275382  0.69015015 0.33829215]\n",
      " [0.91068948 0.20341422 0.41123175 ... 0.88437501 0.78734006 0.48021566]\n",
      " [0.85077175 0.86512563 0.63638979 ... 0.52520972 0.80861157 0.45218359]]\n"
     ]
    }
   ],
   "source": [
    "data_array = np.random.rand(1000, 1000)\n",
    "\n",
    "compressed_file_path = 'data_compressed.npz'\n",
    "\n",
    "np.savez_compressed(compressed_file_path, data_array=data_array)\n",
    "\n",
    "loaded_data = np.load(compressed_file_path)\n",
    "loaded_array = loaded_data['data_array']\n",
    "\n",
    "print(\"Original NumPy Array:\")\n",
    "print(data_array)\n",
    "\n",
    "print(\"\\nLoaded NumPy Array from Compressed .npz File:\")\n",
    "print(loaded_array)"
   ]
  },
  {
   "cell_type": "code",
   "execution_count": null,
   "id": "51cfeaca-d001-4359-a689-f8380d6be9c0",
   "metadata": {},
   "outputs": [],
   "source": []
  }
 ],
 "metadata": {
  "kernelspec": {
   "display_name": "Python 3 (ipykernel)",
   "language": "python",
   "name": "python3"
  },
  "language_info": {
   "codemirror_mode": {
    "name": "ipython",
    "version": 3
   },
   "file_extension": ".py",
   "mimetype": "text/x-python",
   "name": "python",
   "nbconvert_exporter": "python",
   "pygments_lexer": "ipython3",
   "version": "3.12.7"
  }
 },
 "nbformat": 4,
 "nbformat_minor": 5
}
