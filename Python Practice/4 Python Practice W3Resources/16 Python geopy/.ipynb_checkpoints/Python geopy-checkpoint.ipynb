{
 "cells": [
  {
   "cell_type": "code",
   "execution_count": 5,
   "id": "5f922f8b-f10c-4dc6-a07d-69126ed8aaac",
   "metadata": {},
   "outputs": [
    {
     "name": "stdout",
     "output_type": "stream",
     "text": [
      "White House, 1600, Pennsylvania Avenue Northwest, Ward 2, Washington, District of Columbia, 20500, United States\n",
      "(38.897699700000004, -77.03655315)\n"
     ]
    }
   ],
   "source": [
    "from geopy.geocoders import Nominatim\n",
    "\n",
    "# Initialize the geolocator\n",
    "geolocator = Nominatim(user_agent=\"Exercises\")\n",
    "\n",
    "# Geocode an address to get coordinates\n",
    "location = geolocator.geocode(\"1600 Pennsylvania Ave NW, Washington, DC\")\n",
    "\n",
    "print(location.address)  # Full address\n",
    "print((location.latitude, location.longitude))  # Latitude and longitude\n"
   ]
  },
  {
   "cell_type": "code",
   "execution_count": null,
   "id": "8b05226d-0f8e-46d3-ba6f-5509bacc2d07",
   "metadata": {},
   "outputs": [],
   "source": []
  },
  {
   "cell_type": "code",
   "execution_count": 40,
   "id": "f3678af6-4f17-430e-8934-00bb7c9e13bb",
   "metadata": {},
   "outputs": [
    {
     "data": {
      "text/plain": [
       "Location(395010, Puna Taluka, Surat, Gujarat, India, (21.199630320895523, 72.87405808358209, 0.0))"
      ]
     },
     "execution_count": 40,
     "metadata": {},
     "output_type": "execute_result"
    }
   ],
   "source": [
    "geolocator.geocode(395010)"
   ]
  },
  {
   "cell_type": "code",
   "execution_count": null,
   "id": "76b05ec5-778a-44af-8a4c-2a0cacfc212f",
   "metadata": {},
   "outputs": [],
   "source": []
  },
  {
   "cell_type": "code",
   "execution_count": 22,
   "id": "4accb5f2-228d-48f7-b8bd-b0a1c1c7e3d7",
   "metadata": {},
   "outputs": [
    {
     "data": {
      "text/plain": [
       "Location(White House, 1600, Pennsylvania Avenue Northwest, Ward 2, Washington, District of Columbia, 20500, United States, (38.897699700000004, -77.03655315, 0.0))"
      ]
     },
     "execution_count": 22,
     "metadata": {},
     "output_type": "execute_result"
    }
   ],
   "source": [
    "geolocator.reverse((38.897699700000004, -77.03655315))"
   ]
  },
  {
   "cell_type": "code",
   "execution_count": 23,
   "id": "71e32913-7248-42dc-bc6b-524baca0c3e6",
   "metadata": {},
   "outputs": [
    {
     "name": "stdout",
     "output_type": "stream",
     "text": [
      "White House, 1600, Pennsylvania Avenue Northwest, Ward 2, Washington, District of Columbia, 20500, United States\n"
     ]
    }
   ],
   "source": [
    "print(geolocator.reverse((38.897699700000004, -77.03655315)))"
   ]
  },
  {
   "cell_type": "code",
   "execution_count": 24,
   "id": "1d7dcd7c-8760-48ba-896a-0af284873fa4",
   "metadata": {},
   "outputs": [],
   "source": [
    "location = geolocator.reverse((38.897699700000004, -77.03655315))\n",
    "address = location.raw['address']\n",
    "city = address.get('city', '')\n",
    "state = address.get('state', '')\n",
    "country = address.get('country', '')"
   ]
  },
  {
   "cell_type": "code",
   "execution_count": 25,
   "id": "fabce662-f685-4227-9d09-ac7ea5a98a3b",
   "metadata": {},
   "outputs": [
    {
     "data": {
      "text/plain": [
       "{'office': 'White House',\n",
       " 'house_number': '1600',\n",
       " 'road': 'Pennsylvania Avenue Northwest',\n",
       " 'borough': 'Ward 2',\n",
       " 'city': 'Washington',\n",
       " 'state': 'District of Columbia',\n",
       " 'ISO3166-2-lvl4': 'US-DC',\n",
       " 'postcode': '20500',\n",
       " 'country': 'United States',\n",
       " 'country_code': 'us'}"
      ]
     },
     "execution_count": 25,
     "metadata": {},
     "output_type": "execute_result"
    }
   ],
   "source": [
    "address"
   ]
  },
  {
   "cell_type": "code",
   "execution_count": 26,
   "id": "61b3d77d-5622-4e77-b6f2-44da2739d51e",
   "metadata": {},
   "outputs": [
    {
     "data": {
      "text/plain": [
       "'Washington'"
      ]
     },
     "execution_count": 26,
     "metadata": {},
     "output_type": "execute_result"
    }
   ],
   "source": [
    "city"
   ]
  },
  {
   "cell_type": "code",
   "execution_count": 27,
   "id": "43a5df44-8191-49bc-b3b5-df6ec306c881",
   "metadata": {},
   "outputs": [
    {
     "data": {
      "text/plain": [
       "'District of Columbia'"
      ]
     },
     "execution_count": 27,
     "metadata": {},
     "output_type": "execute_result"
    }
   ],
   "source": [
    "state"
   ]
  },
  {
   "cell_type": "code",
   "execution_count": 28,
   "id": "d64f4d60-2020-4847-9b89-442908aadbbb",
   "metadata": {},
   "outputs": [
    {
     "data": {
      "text/plain": [
       "'United States'"
      ]
     },
     "execution_count": 28,
     "metadata": {},
     "output_type": "execute_result"
    }
   ],
   "source": [
    "country"
   ]
  },
  {
   "cell_type": "code",
   "execution_count": null,
   "id": "c9c3f3ac-538d-4ee6-b0bb-28e0afb9b283",
   "metadata": {},
   "outputs": [],
   "source": []
  },
  {
   "cell_type": "code",
   "execution_count": null,
   "id": "14aef321-f64b-485e-b82d-cb1e6d7b83d0",
   "metadata": {},
   "outputs": [],
   "source": []
  },
  {
   "cell_type": "code",
   "execution_count": null,
   "id": "44fa9b4a-464a-41d4-85fc-159e4966a6fc",
   "metadata": {},
   "outputs": [],
   "source": []
  },
  {
   "cell_type": "markdown",
   "id": "9b172a55-4200-491b-b911-2fbd2dc75071",
   "metadata": {},
   "source": [
    "# Write a  Python program to calculate the distance between London and New York city.\n",
    "\n"
   ]
  },
  {
   "cell_type": "code",
   "execution_count": 12,
   "id": "c5629414-5f43-414e-b47b-cfb26b3c95ec",
   "metadata": {},
   "outputs": [],
   "source": [
    "from geopy import distance\n",
    "london = (\"51.5074° N, 0.1278° W\")\n",
    "newyork = (\"40.7128° N, 74.0060° W\")\n",
    "distance = distance.distance(london, newyork)"
   ]
  },
  {
   "cell_type": "code",
   "execution_count": 13,
   "id": "b390d51f-35cd-4baa-8816-21b9c869a420",
   "metadata": {},
   "outputs": [
    {
     "data": {
      "text/plain": [
       "Distance(5585.2335789313)"
      ]
     },
     "execution_count": 13,
     "metadata": {},
     "output_type": "execute_result"
    }
   ],
   "source": [
    "distance"
   ]
  },
  {
   "cell_type": "code",
   "execution_count": 14,
   "id": "349ca560-ef23-4a57-857f-a0157ca7d423",
   "metadata": {},
   "outputs": [
    {
     "data": {
      "text/plain": [
       "5585.2335789313"
      ]
     },
     "execution_count": 14,
     "metadata": {},
     "output_type": "execute_result"
    }
   ],
   "source": [
    "distance.km"
   ]
  },
  {
   "cell_type": "code",
   "execution_count": null,
   "id": "674cf9f7-9c03-4116-b066-24028ba74ef8",
   "metadata": {},
   "outputs": [],
   "source": []
  }
 ],
 "metadata": {
  "kernelspec": {
   "display_name": "Python 3 (ipykernel)",
   "language": "python",
   "name": "python3"
  },
  "language_info": {
   "codemirror_mode": {
    "name": "ipython",
    "version": 3
   },
   "file_extension": ".py",
   "mimetype": "text/x-python",
   "name": "python",
   "nbconvert_exporter": "python",
   "pygments_lexer": "ipython3",
   "version": "3.12.7"
  }
 },
 "nbformat": 4,
 "nbformat_minor": 5
}
