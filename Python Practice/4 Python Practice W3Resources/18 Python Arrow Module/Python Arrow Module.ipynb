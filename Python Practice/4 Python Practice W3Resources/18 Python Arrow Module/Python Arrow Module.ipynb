{
 "cells": [
  {
   "cell_type": "markdown",
   "id": "bc986a8b-b837-40c5-8826-a0e0f1f6b311",
   "metadata": {},
   "source": [
    "# Write a  Python program to create a localized, humanized representation of a relative difference in time using arrow module."
   ]
  },
  {
   "cell_type": "code",
   "execution_count": 4,
   "id": "7e9ab038-4262-4320-ac54-d67a07a53434",
   "metadata": {},
   "outputs": [
    {
     "name": "stdout",
     "output_type": "stream",
     "text": [
      "2025-01-28T11:24:41.812582+00:00\n",
      "10 hours ago\n",
      "in 5 hours\n"
     ]
    }
   ],
   "source": [
    "import arrow\n",
    "\n",
    "print(arrow.utcnow())\n",
    "earlier = arrow.utcnow().shift(hours=-10)\n",
    "print(earlier.humanize())\n",
    "later = earlier.shift(hours=5)\n",
    "print(later.humanize(earlier))"
   ]
  },
  {
   "cell_type": "code",
   "execution_count": null,
   "id": "ac511324-3b37-468c-b6a1-fde2546a704e",
   "metadata": {},
   "outputs": [],
   "source": []
  }
 ],
 "metadata": {
  "kernelspec": {
   "display_name": "Python 3 (ipykernel)",
   "language": "python",
   "name": "python3"
  },
  "language_info": {
   "codemirror_mode": {
    "name": "ipython",
    "version": 3
   },
   "file_extension": ".py",
   "mimetype": "text/x-python",
   "name": "python",
   "nbconvert_exporter": "python",
   "pygments_lexer": "ipython3",
   "version": "3.12.7"
  }
 },
 "nbformat": 4,
 "nbformat_minor": 5
}
