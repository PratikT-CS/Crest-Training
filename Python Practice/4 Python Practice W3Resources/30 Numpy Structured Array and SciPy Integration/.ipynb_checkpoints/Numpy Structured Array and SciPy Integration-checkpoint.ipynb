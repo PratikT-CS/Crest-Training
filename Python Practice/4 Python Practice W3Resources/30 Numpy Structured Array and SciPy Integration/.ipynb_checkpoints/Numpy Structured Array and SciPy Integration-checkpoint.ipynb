{
 "cells": [
  {
   "cell_type": "code",
   "execution_count": 1,
   "id": "658e9554-16e1-4d60-9050-5439f0b68b75",
   "metadata": {},
   "outputs": [],
   "source": [
    "import numpy as np"
   ]
  },
  {
   "cell_type": "markdown",
   "id": "86006619-3c05-421f-90a2-e35692a5718c",
   "metadata": {},
   "source": [
    "# Structured Array\n",
    "## Write a NumPy program that updates the 'age' field for the first individual in the structured array created"
   ]
  },
  {
   "cell_type": "code",
   "execution_count": 4,
   "id": "9f549a14-48c4-43d2-9024-540be7a1442f",
   "metadata": {},
   "outputs": [
    {
     "name": "stdout",
     "output_type": "stream",
     "text": [
      "[('Lehi Piero', 25, 5.5) ('Albin Acha', 30, 5.8) ('Zerach Hav', 35, 6.1)\n",
      " ('Edmund Ter', 40, 5.9) ('Laura Feli', 28, 5.7)]\n",
      "[('Lehi Piero', 30, 5.5) ('Albin Acha', 30, 5.8) ('Zerach Hav', 35, 6.1)\n",
      " ('Edmund Ter', 40, 5.9) ('Laura Feli', 28, 5.7)]\n"
     ]
    }
   ],
   "source": [
    "dtype = [('name', 'U10'), ('age', 'i4'), ('height', 'f4')]\n",
    "\n",
    "structured_array = np.array([\n",
    "    ('Lehi Piero', 25, 5.5),\n",
    "    ('Albin Achan', 30, 5.8),\n",
    "    ('Zerach Hava', 35, 6.1),\n",
    "    ('Edmund Tereza', 40, 5.9),\n",
    "    ('Laura Felinus', 28, 5.7)\n",
    "], dtype=dtype)\n",
    "\n",
    "print(structured_array)\n",
    "\n",
    "\n",
    "structured_array[0]['age'] = 30\n",
    "\n",
    "print(structured_array)\n"
   ]
  },
  {
   "cell_type": "code",
   "execution_count": 5,
   "id": "dee5573a-f5d7-44f9-b252-ac68e1bfd3c3",
   "metadata": {},
   "outputs": [
    {
     "data": {
      "text/plain": [
       "array(['Lehi Piero', 'Albin Acha', 'Zerach Hav', 'Edmund Ter',\n",
       "       'Laura Feli'], dtype='<U10')"
      ]
     },
     "execution_count": 5,
     "metadata": {},
     "output_type": "execute_result"
    }
   ],
   "source": [
    "structured_array[\"name\"]"
   ]
  },
  {
   "cell_type": "code",
   "execution_count": null,
   "id": "dfa8c5d9-a94c-461a-9a58-92bf16fa72cc",
   "metadata": {},
   "outputs": [],
   "source": []
  },
  {
   "cell_type": "code",
   "execution_count": null,
   "id": "9b7ce080-2942-4d99-99e5-2f311e906237",
   "metadata": {},
   "outputs": [],
   "source": []
  },
  {
   "cell_type": "markdown",
   "id": "ce80f56f-da45-4f9d-9897-fa90f537e21b",
   "metadata": {},
   "source": [
    "# SciPy Integration\n",
    "## Write a NumPy program that creates a NumPy array and uses SciPy to solve a linear algebra problem. For example, finding the determinant, inverse, and eigenvalues of a matrix."
   ]
  },
  {
   "cell_type": "code",
   "execution_count": 7,
   "id": "d9106fce-9c1b-49b7-ab46-5e19c7fb9306",
   "metadata": {},
   "outputs": [
    {
     "name": "stdout",
     "output_type": "stream",
     "text": [
      "Matrix:\n",
      "[[4 2]\n",
      " [3 1]]\n",
      "Determinant:\n",
      "-2.0\n",
      "Inverse:\n",
      "[[-0.5  1. ]\n",
      " [ 1.5 -2. ]]\n",
      "Eigenvalues:\n",
      "[ 5.37228132+0.j -0.37228132+0.j]\n",
      "Eigenvectors:\n",
      "[[ 0.82456484 -0.41597356]\n",
      " [ 0.56576746  0.90937671]]\n"
     ]
    }
   ],
   "source": [
    "from scipy import linalg\n",
    "\n",
    "matrix = np.array([[4, 2], [3, 1]])\n",
    "\n",
    "determinant = linalg.det(matrix)\n",
    "\n",
    "inverse = linalg.inv(matrix)\n",
    "\n",
    "eigenvalues, eigenvectors = linalg.eig(matrix)\n",
    "\n",
    "print(\"Matrix:\")\n",
    "print(matrix)\n",
    "\n",
    "print(\"Determinant:\")\n",
    "print(determinant)\n",
    "\n",
    "print(\"Inverse:\")\n",
    "print(inverse)\n",
    "\n",
    "print(\"Eigenvalues:\")\n",
    "print(eigenvalues)\n",
    "\n",
    "print(\"Eigenvectors:\")\n",
    "print(eigenvectors)"
   ]
  },
  {
   "cell_type": "code",
   "execution_count": null,
   "id": "66ba4ce5-146c-458c-84ed-27c6dd39a7a6",
   "metadata": {},
   "outputs": [],
   "source": []
  }
 ],
 "metadata": {
  "kernelspec": {
   "display_name": "Python 3 (ipykernel)",
   "language": "python",
   "name": "python3"
  },
  "language_info": {
   "codemirror_mode": {
    "name": "ipython",
    "version": 3
   },
   "file_extension": ".py",
   "mimetype": "text/x-python",
   "name": "python",
   "nbconvert_exporter": "python",
   "pygments_lexer": "ipython3",
   "version": "3.12.7"
  }
 },
 "nbformat": 4,
 "nbformat_minor": 5
}
