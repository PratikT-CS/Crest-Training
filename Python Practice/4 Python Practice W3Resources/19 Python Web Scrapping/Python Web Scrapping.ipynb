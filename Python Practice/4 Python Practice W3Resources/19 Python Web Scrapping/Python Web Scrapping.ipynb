{
 "cells": [
  {
   "cell_type": "markdown",
   "id": "61447144-fa9c-4b16-9b6b-58be8bae1ccb",
   "metadata": {},
   "source": [
    "# Write a Python program to get 90 days of visits broken down by browser for all sites on data.gov."
   ]
  },
  {
   "cell_type": "code",
   "execution_count": 5,
   "id": "61a242de-b28a-476c-b6be-bb20d047a6c5",
   "metadata": {},
   "outputs": [
    {
     "name": "stdout",
     "output_type": "stream",
     "text": [
      "90 days of visits broken down by browser for all sites:\n"
     ]
    },
    {
     "data": {
      "text/plain": [
       "{'Chrome': 286842248,\n",
       " 'Safari': 226610979,\n",
       " 'Edge': 50626204,\n",
       " 'Safari (in-app)': 11833209,\n",
       " 'Firefox': 8904442,\n",
       " 'Internet Explorer': 8274946,\n",
       " 'Android Webview': 3106160,\n",
       " 'Samsung Internet': 1961335,\n",
       " 'Mozilla Compatible Agent': 1515253,\n",
       " 'Opera': 673401,\n",
       " 'Amazon Silk': 279688,\n",
       " 'YaBrowser': 108507,\n",
       " 'Whale Browser': 15293,\n",
       " 'Vivaldi': 2927,\n",
       " 'Opera Mini': 1233,\n",
       " 'UC Browser': 1226,\n",
       " 'PaleMoon': 1092,\n",
       " 'Meta Quest Browser': 879,\n",
       " 'Android Browser': 801,\n",
       " 'Aloha Browser': 452,\n",
       " 'Mozilla': 335,\n",
       " 'Iron': 330,\n",
       " 'DuckDuckGo Browser': 318,\n",
       " 'Phoenix Browser': 243,\n",
       " 'SeaMonkey': 150,\n",
       " 'Android Runtime': 120,\n",
       " 'Puffin': 119,\n",
       " 'Seznam': 96,\n",
       " 'Maxthon': 89,\n",
       " 'Nintendo Browser': 30,\n",
       " 'Waterfox': 21,\n",
       " 'Lunascape': 16,\n",
       " 'Coc Coc': 7}"
      ]
     },
     "execution_count": 5,
     "metadata": {},
     "output_type": "execute_result"
    }
   ],
   "source": [
    "import requests\n",
    "r = requests.get(\"https://analytics.usa.gov/data/live/browsers.json\")\n",
    "print(\"90 days of visits broken down by browser for all sites:\")\n",
    "r.json()['totals']['by_browser']"
   ]
  },
  {
   "cell_type": "code",
   "execution_count": null,
   "id": "ece53ea1-e2aa-400f-8a60-3400624fff4f",
   "metadata": {},
   "outputs": [],
   "source": []
  }
 ],
 "metadata": {
  "kernelspec": {
   "display_name": "Python 3 (ipykernel)",
   "language": "python",
   "name": "python3"
  },
  "language_info": {
   "codemirror_mode": {
    "name": "ipython",
    "version": 3
   },
   "file_extension": ".py",
   "mimetype": "text/x-python",
   "name": "python",
   "nbconvert_exporter": "python",
   "pygments_lexer": "ipython3",
   "version": "3.12.7"
  }
 },
 "nbformat": 4,
 "nbformat_minor": 5
}
