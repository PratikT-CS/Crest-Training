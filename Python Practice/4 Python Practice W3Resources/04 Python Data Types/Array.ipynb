{
 "cells": [
  {
   "cell_type": "markdown",
   "id": "f1a08467-67e8-410d-80e0-6eef73841048",
   "metadata": {},
   "source": [
    "# Write a Python program to reverse the order of the items in the array."
   ]
  },
  {
   "cell_type": "code",
   "execution_count": 2,
   "id": "791dbd3b-0201-4fab-850b-db08b74839cb",
   "metadata": {},
   "outputs": [],
   "source": [
    "array_num.reverse()"
   ]
  },
  {
   "cell_type": "code",
   "execution_count": 7,
   "id": "23cc4a3a-5918-4f44-8134-65072ff0f495",
   "metadata": {},
   "outputs": [],
   "source": [
    "from array import *\n",
    "array_num = array('i', [1, 3, 5, 3, 7, 1, 9, 3])"
   ]
  },
  {
   "cell_type": "code",
   "execution_count": 8,
   "id": "52278fcc-fc16-457b-b75b-a516ac509c29",
   "metadata": {},
   "outputs": [
    {
     "data": {
      "text/plain": [
       "array('i', [1, 3, 5, 3, 7, 1, 9, 3])"
      ]
     },
     "execution_count": 8,
     "metadata": {},
     "output_type": "execute_result"
    }
   ],
   "source": [
    "array_num"
   ]
  },
  {
   "cell_type": "code",
   "execution_count": null,
   "id": "44baab9f-77e5-4740-ad2c-80257cc94f78",
   "metadata": {},
   "outputs": [],
   "source": []
  },
  {
   "cell_type": "code",
   "execution_count": 9,
   "id": "be84dd43-ab79-4030-bf57-624290583364",
   "metadata": {},
   "outputs": [],
   "source": [
    "array_num.append(5)"
   ]
  },
  {
   "cell_type": "code",
   "execution_count": 10,
   "id": "d572f8e2-1c10-422f-a6e3-6377dd355573",
   "metadata": {},
   "outputs": [
    {
     "data": {
      "text/plain": [
       "array('i', [1, 3, 5, 3, 7, 1, 9, 3, 5])"
      ]
     },
     "execution_count": 10,
     "metadata": {},
     "output_type": "execute_result"
    }
   ],
   "source": [
    "array_num"
   ]
  },
  {
   "cell_type": "code",
   "execution_count": null,
   "id": "f40b0b4d-a00e-4e01-bcb8-c72847839735",
   "metadata": {},
   "outputs": [],
   "source": []
  }
 ],
 "metadata": {
  "kernelspec": {
   "display_name": "Python 3 (ipykernel)",
   "language": "python",
   "name": "python3"
  },
  "language_info": {
   "codemirror_mode": {
    "name": "ipython",
    "version": 3
   },
   "file_extension": ".py",
   "mimetype": "text/x-python",
   "name": "python",
   "nbconvert_exporter": "python",
   "pygments_lexer": "ipython3",
   "version": "3.12.7"
  }
 },
 "nbformat": 4,
 "nbformat_minor": 5
}
