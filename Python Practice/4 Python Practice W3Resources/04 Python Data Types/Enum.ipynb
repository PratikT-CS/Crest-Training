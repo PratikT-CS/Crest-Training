{
 "cells": [
  {
   "cell_type": "markdown",
   "id": "b3585d15-85e7-4c95-95f2-c8a47710eb83",
   "metadata": {},
   "source": [
    "#  Write a Python program to display all the member names of an enum class ordered by their values."
   ]
  },
  {
   "cell_type": "code",
   "execution_count": 1,
   "id": "0f3f776a-d50d-43f9-b99a-57c7a8035c91",
   "metadata": {},
   "outputs": [
    {
     "name": "stdout",
     "output_type": "stream",
     "text": [
      "Country Name ordered by Country Code:\n",
      "  Afghanistan\n",
      "  Algeria\n",
      "  Angola\n",
      "  Albania\n",
      "  Andorra\n",
      "  Antarctica\n"
     ]
    }
   ],
   "source": [
    "import enum\n",
    "class Country(enum.IntEnum):\n",
    "    Afghanistan = 93\n",
    "    Albania = 355\n",
    "    Algeria = 213\n",
    "    Andorra = 376\n",
    "    Angola = 244\n",
    "    Antarctica = 672\n",
    "print('Country Name ordered by Country Code:')\n",
    "print('\\n'.join('  ' + c.name for c in sorted(Country)))"
   ]
  },
  {
   "cell_type": "code",
   "execution_count": null,
   "id": "0d89dbba-b9ee-4d2c-b972-d0b2e35055b4",
   "metadata": {},
   "outputs": [],
   "source": []
  }
 ],
 "metadata": {
  "kernelspec": {
   "display_name": "Python 3 (ipykernel)",
   "language": "python",
   "name": "python3"
  },
  "language_info": {
   "codemirror_mode": {
    "name": "ipython",
    "version": 3
   },
   "file_extension": ".py",
   "mimetype": "text/x-python",
   "name": "python",
   "nbconvert_exporter": "python",
   "pygments_lexer": "ipython3",
   "version": "3.12.7"
  }
 },
 "nbformat": 4,
 "nbformat_minor": 5
}
