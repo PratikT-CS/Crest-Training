{
 "cells": [
  {
   "cell_type": "markdown",
   "id": "20550e70-ceb3-4e2b-8c41-5b148c9683f2",
   "metadata": {},
   "source": [
    "# Write a Python program to create a new deque with three items and iterate over the deque's elements."
   ]
  },
  {
   "cell_type": "code",
   "execution_count": 3,
   "id": "acc4b801-c1bd-4ab0-902e-eaa2a00f4a8d",
   "metadata": {},
   "outputs": [
    {
     "name": "stdout",
     "output_type": "stream",
     "text": [
      "P\n",
      "r\n",
      "a\n",
      "t\n",
      "i\n",
      "k\n"
     ]
    }
   ],
   "source": [
    "from collections import deque\n",
    "dq = deque('Pratik')\n",
    "for element in dq:\n",
    "   print(element) "
   ]
  },
  {
   "cell_type": "code",
   "execution_count": 4,
   "id": "d96cec36-d078-413d-a718-1c93a035162b",
   "metadata": {},
   "outputs": [
    {
     "data": {
      "text/plain": [
       "deque(['P', 'r', 'a', 't', 'i', 'k'])"
      ]
     },
     "execution_count": 4,
     "metadata": {},
     "output_type": "execute_result"
    }
   ],
   "source": [
    "dq"
   ]
  },
  {
   "cell_type": "code",
   "execution_count": null,
   "id": "7bb4dc17-bfd6-4a82-ba3e-a1dfc6fbcd40",
   "metadata": {},
   "outputs": [],
   "source": []
  }
 ],
 "metadata": {
  "kernelspec": {
   "display_name": "Python 3 (ipykernel)",
   "language": "python",
   "name": "python3"
  },
  "language_info": {
   "codemirror_mode": {
    "name": "ipython",
    "version": 3
   },
   "file_extension": ".py",
   "mimetype": "text/x-python",
   "name": "python",
   "nbconvert_exporter": "python",
   "pygments_lexer": "ipython3",
   "version": "3.12.7"
  }
 },
 "nbformat": 4,
 "nbformat_minor": 5
}
