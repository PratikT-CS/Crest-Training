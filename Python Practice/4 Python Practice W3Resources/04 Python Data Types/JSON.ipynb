{
 "cells": [
  {
   "cell_type": "markdown",
   "id": "c7ba02b0-d9ff-40a4-8e77-ab950ef558fe",
   "metadata": {},
   "source": [
    "# Write a Python program to convert Python objects into JSON strings. Print all the values."
   ]
  },
  {
   "cell_type": "code",
   "execution_count": 1,
   "id": "8ed758ab-2bce-4e81-80f3-f5bd0e605f75",
   "metadata": {},
   "outputs": [],
   "source": [
    "import json"
   ]
  },
  {
   "cell_type": "code",
   "execution_count": 2,
   "id": "08eba190-a25d-4f53-b403-6eadc28fd89d",
   "metadata": {},
   "outputs": [],
   "source": [
    "py_dic = python_dict =  {\"name\": \"Pratik\", \"age\": 6}"
   ]
  },
  {
   "cell_type": "code",
   "execution_count": 3,
   "id": "27a19c4f-31d4-4f42-8653-34da6e97144d",
   "metadata": {},
   "outputs": [],
   "source": [
    "json_dic = json.dumps(py_dic)"
   ]
  },
  {
   "cell_type": "code",
   "execution_count": 4,
   "id": "e9b707e2-9202-4d2f-b499-176648c2817c",
   "metadata": {},
   "outputs": [
    {
     "data": {
      "text/plain": [
       "'{\"name\": \"Pratik\", \"age\": 6}'"
      ]
     },
     "execution_count": 4,
     "metadata": {},
     "output_type": "execute_result"
    }
   ],
   "source": [
    "json_dic"
   ]
  },
  {
   "cell_type": "code",
   "execution_count": 5,
   "id": "f6e34927-5dba-4734-9218-ab31bdc1f217",
   "metadata": {},
   "outputs": [
    {
     "data": {
      "text/plain": [
       "str"
      ]
     },
     "execution_count": 5,
     "metadata": {},
     "output_type": "execute_result"
    }
   ],
   "source": [
    "type(json_dic)"
   ]
  },
  {
   "cell_type": "code",
   "execution_count": 16,
   "id": "fe4c0725-243e-453b-ac63-366cf4c05cdf",
   "metadata": {},
   "outputs": [],
   "source": [
    "def py_to_json(py):\n",
    "    return json.dumps(py)"
   ]
  },
  {
   "cell_type": "code",
   "execution_count": 17,
   "id": "59767c0e-becc-4212-ab47-c5813be09ae4",
   "metadata": {},
   "outputs": [],
   "source": [
    "json_lst = py_to_json([char for char in \"Pratik\"])"
   ]
  },
  {
   "cell_type": "code",
   "execution_count": 18,
   "id": "fabd7eaf-0783-43a9-96cc-e27b358d14e4",
   "metadata": {},
   "outputs": [
    {
     "data": {
      "text/plain": [
       "'[\"P\", \"r\", \"a\", \"t\", \"i\", \"k\"]'"
      ]
     },
     "execution_count": 18,
     "metadata": {},
     "output_type": "execute_result"
    }
   ],
   "source": [
    "json_lst"
   ]
  },
  {
   "cell_type": "code",
   "execution_count": 15,
   "id": "be9cea0f-237b-4331-a628-3be7cb385dc0",
   "metadata": {},
   "outputs": [
    {
     "data": {
      "text/plain": [
       "str"
      ]
     },
     "execution_count": 15,
     "metadata": {},
     "output_type": "execute_result"
    }
   ],
   "source": [
    "type(json_lst)"
   ]
  },
  {
   "cell_type": "code",
   "execution_count": 19,
   "id": "2bc413f0-2025-4a40-b5ee-caf91aedd5ef",
   "metadata": {},
   "outputs": [
    {
     "data": {
      "text/plain": [
       "'null'"
      ]
     },
     "execution_count": 19,
     "metadata": {},
     "output_type": "execute_result"
    }
   ],
   "source": [
    "py_to_json(None)"
   ]
  },
  {
   "cell_type": "code",
   "execution_count": null,
   "id": "7a6ac77d-887e-4a81-bf1d-293da61ea5ab",
   "metadata": {},
   "outputs": [],
   "source": []
  }
 ],
 "metadata": {
  "kernelspec": {
   "display_name": "Python 3 (ipykernel)",
   "language": "python",
   "name": "python3"
  },
  "language_info": {
   "codemirror_mode": {
    "name": "ipython",
    "version": 3
   },
   "file_extension": ".py",
   "mimetype": "text/x-python",
   "name": "python",
   "nbconvert_exporter": "python",
   "pygments_lexer": "ipython3",
   "version": "3.12.7"
  }
 },
 "nbformat": 4,
 "nbformat_minor": 5
}
