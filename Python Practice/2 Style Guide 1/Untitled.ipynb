{
 "cells": [
  {
   "cell_type": "code",
   "execution_count": 19,
   "id": "26279e58-6e2a-4eb8-b805-c4385857467e",
   "metadata": {},
   "outputs": [],
   "source": [
    "i = 4\n",
    "def foo(x):\n",
    "    def bar():\n",
    "        print(i, end=' ')\n",
    "    # ...\n",
    "    # A bunch of code here\n",
    "    # ...\n",
    "    for i in x:  # Ah, i *is* local to foo, so this is what bar sees\n",
    "        print(i, end=' ')\n",
    "    bar()"
   ]
  },
  {
   "cell_type": "code",
   "execution_count": 20,
   "id": "8d34ed68-7c7b-4c9b-b444-3a72b181e6e0",
   "metadata": {},
   "outputs": [
    {
     "name": "stdout",
     "output_type": "stream",
     "text": [
      "1 2 3 3 "
     ]
    }
   ],
   "source": [
    "foo([1, 2, 3])"
   ]
  },
  {
   "cell_type": "code",
   "execution_count": 22,
   "id": "c30443f5-04a0-4c9c-a7d2-59d4c26e7b05",
   "metadata": {},
   "outputs": [],
   "source": [
    "i = 4\n",
    "def foo(x):\n",
    "    def bar():\n",
    "        print(i, end=' ')\n",
    "    bar()\n",
    "    # ...\n",
    "    # A bunch of code here\n",
    "    # ...\n",
    "    for i in x:  # Ah, i *is* local to foo, so this is what bar sees\n",
    "        print(i, end=' ')\n",
    "    bar()"
   ]
  },
  {
   "cell_type": "code",
   "execution_count": 23,
   "id": "772ffbe7-375c-4bf1-9458-fd0142b7eb62",
   "metadata": {},
   "outputs": [
    {
     "ename": "NameError",
     "evalue": "cannot access free variable 'i' where it is not associated with a value in enclosing scope",
     "output_type": "error",
     "traceback": [
      "\u001b[1;31m---------------------------------------------------------------------------\u001b[0m",
      "\u001b[1;31mNameError\u001b[0m                                 Traceback (most recent call last)",
      "Cell \u001b[1;32mIn[23], line 1\u001b[0m\n\u001b[1;32m----> 1\u001b[0m foo([\u001b[38;5;241m1\u001b[39m, \u001b[38;5;241m2\u001b[39m, \u001b[38;5;241m3\u001b[39m])\n",
      "Cell \u001b[1;32mIn[22], line 5\u001b[0m, in \u001b[0;36mfoo\u001b[1;34m(x)\u001b[0m\n\u001b[0;32m      3\u001b[0m \u001b[38;5;28;01mdef\u001b[39;00m \u001b[38;5;21mbar\u001b[39m():\n\u001b[0;32m      4\u001b[0m     \u001b[38;5;28mprint\u001b[39m(i, end\u001b[38;5;241m=\u001b[39m\u001b[38;5;124m'\u001b[39m\u001b[38;5;124m \u001b[39m\u001b[38;5;124m'\u001b[39m)\n\u001b[1;32m----> 5\u001b[0m bar()\n\u001b[0;32m      6\u001b[0m \u001b[38;5;66;03m# ...\u001b[39;00m\n\u001b[0;32m      7\u001b[0m \u001b[38;5;66;03m# A bunch of code here\u001b[39;00m\n\u001b[0;32m      8\u001b[0m \u001b[38;5;66;03m# ...\u001b[39;00m\n\u001b[0;32m      9\u001b[0m \u001b[38;5;28;01mfor\u001b[39;00m i \u001b[38;5;129;01min\u001b[39;00m x:  \u001b[38;5;66;03m# Ah, i *is* local to foo, so this is what bar sees\u001b[39;00m\n",
      "Cell \u001b[1;32mIn[22], line 4\u001b[0m, in \u001b[0;36mfoo.<locals>.bar\u001b[1;34m()\u001b[0m\n\u001b[0;32m      3\u001b[0m \u001b[38;5;28;01mdef\u001b[39;00m \u001b[38;5;21mbar\u001b[39m():\n\u001b[1;32m----> 4\u001b[0m     \u001b[38;5;28mprint\u001b[39m(i, end\u001b[38;5;241m=\u001b[39m\u001b[38;5;124m'\u001b[39m\u001b[38;5;124m \u001b[39m\u001b[38;5;124m'\u001b[39m)\n",
      "\u001b[1;31mNameError\u001b[0m: cannot access free variable 'i' where it is not associated with a value in enclosing scope"
     ]
    }
   ],
   "source": [
    "foo([1, 2, 3])"
   ]
  },
  {
   "cell_type": "code",
   "execution_count": 24,
   "id": "e48784fa-ef62-4786-bbf6-34591935cf53",
   "metadata": {},
   "outputs": [],
   "source": [
    "i = 4\n",
    "def foo(x):\n",
    "    global i\n",
    "    def bar():\n",
    "        print(i, end=' ')\n",
    "    bar()\n",
    "    # ...\n",
    "    # A bunch of code here\n",
    "    # ...\n",
    "    for i in x:  # Ah, i *is* local to foo, so this is what bar sees\n",
    "        print(i, end=' ')\n",
    "    bar()"
   ]
  },
  {
   "cell_type": "code",
   "execution_count": 25,
   "id": "5e878154-480f-44d6-b3d7-590cb7dff5f4",
   "metadata": {},
   "outputs": [
    {
     "name": "stdout",
     "output_type": "stream",
     "text": [
      "4 1 2 3 3 "
     ]
    }
   ],
   "source": [
    "foo([1, 2, 3])"
   ]
  },
  {
   "cell_type": "code",
   "execution_count": 26,
   "id": "9770a744-e940-4b81-8adf-a05e9ae5e11e",
   "metadata": {},
   "outputs": [
    {
     "name": "stdout",
     "output_type": "stream",
     "text": [
      "{'name': 'Alice', 'age': 25, 'city': 'Paris'}\n"
     ]
    }
   ],
   "source": [
    "simple_dict = {\n",
    "    \"name\": \"Alice\",\n",
    "    \"age\": 25,\n",
    "    \"city\": \"Paris\",\n",
    "}\n",
    "print(simple_dict)"
   ]
  },
  {
   "cell_type": "code",
   "execution_count": 29,
   "id": "5cd4ac76-d298-4fb5-a4fd-56a9c156c551",
   "metadata": {},
   "outputs": [
    {
     "data": {
      "text/plain": [
       "dict_items"
      ]
     },
     "execution_count": 29,
     "metadata": {},
     "output_type": "execute_result"
    }
   ],
   "source": [
    "type(simple_dict.items())"
   ]
  },
  {
   "cell_type": "code",
   "execution_count": 30,
   "id": "1f0499ef-dec1-477a-b43c-7046645c966d",
   "metadata": {},
   "outputs": [
    {
     "data": {
      "text/plain": [
       "dict_keys"
      ]
     },
     "execution_count": 30,
     "metadata": {},
     "output_type": "execute_result"
    }
   ],
   "source": [
    "type(simple_dict.keys())"
   ]
  },
  {
   "cell_type": "code",
   "execution_count": 31,
   "id": "d200a36e-589a-4121-92d8-0945dca24260",
   "metadata": {},
   "outputs": [
    {
     "data": {
      "text/plain": [
       "dict_items([('name', 'Alice'), ('age', 25), ('city', 'Paris')])"
      ]
     },
     "execution_count": 31,
     "metadata": {},
     "output_type": "execute_result"
    }
   ],
   "source": [
    "simple_dict.items()"
   ]
  },
  {
   "cell_type": "code",
   "execution_count": 44,
   "id": "20d9e2d7-68de-467a-902a-a143747ed79d",
   "metadata": {},
   "outputs": [
    {
     "name": "stdout",
     "output_type": "stream",
     "text": [
      "<class 'str'>\n",
      "<class 'str'>\n",
      "<class 'str'>\n",
      "<class 'int'>\n",
      "<class 'str'>\n",
      "<class 'str'>\n"
     ]
    }
   ],
   "source": [
    "for key in simple_dict:\n",
    "    print(type(key))\n",
    "    print(type(simple_dict[key]))"
   ]
  },
  {
   "cell_type": "code",
   "execution_count": null,
   "id": "86ff8571-dae0-4f31-bdaa-0d311ff486c9",
   "metadata": {},
   "outputs": [],
   "source": [
    "\n"
   ]
  }
 ],
 "metadata": {
  "kernelspec": {
   "display_name": "Python 3 (ipykernel)",
   "language": "python",
   "name": "python3"
  },
  "language_info": {
   "codemirror_mode": {
    "name": "ipython",
    "version": 3
   },
   "file_extension": ".py",
   "mimetype": "text/x-python",
   "name": "python",
   "nbconvert_exporter": "python",
   "pygments_lexer": "ipython3",
   "version": "3.12.7"
  }
 },
 "nbformat": 4,
 "nbformat_minor": 5
}
