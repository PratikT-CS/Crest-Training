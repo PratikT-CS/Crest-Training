{
 "cells": [
  {
   "cell_type": "markdown",
   "id": "a520e04b-ee71-457e-b6ca-7d786fbcdc5b",
   "metadata": {},
   "source": [
    "# Extracting Numbers from String"
   ]
  },
  {
   "cell_type": "code",
   "execution_count": 63,
   "id": "94596ca1-562d-4538-96b3-ad37c9e78f82",
   "metadata": {},
   "outputs": [],
   "source": [
    "import re\n",
    "def numberMatcher(str):\n",
    "    pat=r\"\\d+\"\n",
    "    match=re.findall(pat,str) ##find all finds all the matched texts and returns a list\n",
    "    if(match): \n",
    "        for i in match:\n",
    "            print(i, end=\" \")\n",
    "    else:\n",
    "        print(-1,end=\"\")\n"
   ]
  },
  {
   "cell_type": "code",
   "execution_count": 64,
   "id": "064c254c-e52d-4b1c-96fd-9e4997d1791b",
   "metadata": {},
   "outputs": [
    {
     "name": "stdout",
     "output_type": "stream",
     "text": [
      "123 34234 34 5 "
     ]
    }
   ],
   "source": [
    "numberMatcher('asdasd123asmdasdk34234kfdsd34sdfk5')"
   ]
  },
  {
   "cell_type": "markdown",
   "id": "d6cb2415-27c3-45ee-9074-74ad2199cb7f",
   "metadata": {},
   "source": [
    "# Password Validation "
   ]
  },
  {
   "cell_type": "code",
   "execution_count": 16,
   "id": "a3aa5676-eaf1-4451-83c4-6ea844a12f24",
   "metadata": {},
   "outputs": [],
   "source": [
    "def validate(str):\n",
    "    pat= r\"^[a-z]+[\\W]+\\d+$\"\n",
    "    match = re.search(pat, str)\n",
    "    if(match):\n",
    "        return True\n",
    "    else:\n",
    "        return False"
   ]
  },
  {
   "cell_type": "code",
   "execution_count": 17,
   "id": "cf2ebfb0-a5b9-4218-818d-2dd88f60c4ec",
   "metadata": {},
   "outputs": [
    {
     "data": {
      "text/plain": [
       "False"
      ]
     },
     "execution_count": 17,
     "metadata": {},
     "output_type": "execute_result"
    }
   ],
   "source": [
    "validate('asdasd@')"
   ]
  },
  {
   "cell_type": "code",
   "execution_count": 18,
   "id": "65662204-d968-46d7-89db-2aaf03464c20",
   "metadata": {},
   "outputs": [
    {
     "data": {
      "text/plain": [
       "True"
      ]
     },
     "execution_count": 18,
     "metadata": {},
     "output_type": "execute_result"
    }
   ],
   "source": [
    "validate(\"asdsab@!@234\")"
   ]
  },
  {
   "cell_type": "code",
   "execution_count": 19,
   "id": "a2bb323d-7ec5-4fba-a7a5-863a4ad2cd52",
   "metadata": {},
   "outputs": [
    {
     "data": {
      "text/plain": [
       "False"
      ]
     },
     "execution_count": 19,
     "metadata": {},
     "output_type": "execute_result"
    }
   ],
   "source": [
    "validate(\"asdsab234\")"
   ]
  },
  {
   "cell_type": "markdown",
   "id": "02d9478d-1e7a-4b62-a968-115e6f962291",
   "metadata": {},
   "source": [
    "# IPv4"
   ]
  },
  {
   "cell_type": "code",
   "execution_count": 44,
   "id": "aef875dc-57fa-426c-ac94-b86609d9532b",
   "metadata": {},
   "outputs": [],
   "source": [
    "def ipv4(str):\n",
    "    pat= r'''^(25[0-5]|2[0-4][0-9]|[0-1]?[0-9][0-9]?)\\.( \n",
    "            25[0-5]|2[0-4][0-9]|[0-1]?[0-9][0-9]?)\\.( \n",
    "            25[0-5]|2[0-4][0-9]|[0-1]?[0-9][0-9]?)\\.( \n",
    "            25[0-5]|2[0-4][0-9]|[0-1]?[0-9][0-9]?)$'''\n",
    "    match = re.search(pat, str)\n",
    "    if(match):\n",
    "        return True\n",
    "    else:\n",
    "        return False"
   ]
  },
  {
   "cell_type": "code",
   "execution_count": 45,
   "id": "98d151d7-5a6f-424b-8703-eb0c42b74590",
   "metadata": {},
   "outputs": [
    {
     "data": {
      "text/plain": [
       "True"
      ]
     },
     "execution_count": 45,
     "metadata": {},
     "output_type": "execute_result"
    }
   ],
   "source": [
    "ipv4(\"192.2.3.34\")"
   ]
  },
  {
   "cell_type": "code",
   "execution_count": 46,
   "id": "f15488e4-78ba-4de6-9fc8-0f86b3246a06",
   "metadata": {},
   "outputs": [
    {
     "data": {
      "text/plain": [
       "False"
      ]
     },
     "execution_count": 46,
     "metadata": {},
     "output_type": "execute_result"
    }
   ],
   "source": [
    "ipv4(\"192..23.3\")"
   ]
  },
  {
   "cell_type": "code",
   "execution_count": 47,
   "id": "87a80802-a01e-458f-8cba-01f62336a65a",
   "metadata": {},
   "outputs": [
    {
     "data": {
      "text/plain": [
       "False"
      ]
     },
     "execution_count": 47,
     "metadata": {},
     "output_type": "execute_result"
    }
   ],
   "source": [
    "ipv4(\"36.12.08.20.52\")"
   ]
  },
  {
   "cell_type": "markdown",
   "id": "4c67e00a-4919-4210-a545-e58f6c254e73",
   "metadata": {},
   "source": [
    "# IPv6"
   ]
  },
  {
   "cell_type": "code",
   "execution_count": 70,
   "id": "7fa12dfc-9636-4bc5-a4ec-3f0b7938cd09",
   "metadata": {},
   "outputs": [],
   "source": [
    "def ipv6(str):\n",
    "    pat= r'''(([0-9a-fA-F]{1,4}:){7,7}[0-9a-fA-F]{1,4}|\n",
    "        ([0-9a-fA-F]{1,4}:){1,7}:|([0-9a-fA-F]{1,4}:)\n",
    "        {1,6}:[0-9a-fA-F]{1,4}|([0-9a-fA-F]{1,4}:){1\n",
    "        ,5}(:[0-9a-fA-F]{1,4}){1,2}|([0-9a-fA-F]{1,4}\n",
    "        :){1,4}(:[0-9a-fA-F]{1,4}){1,3}|([0-9a-fA-F]{\n",
    "        1,4}:){1,3}(:[0-9a-fA-F]{1,4}){1,4}|([0-9a-fA\n",
    "        -F]{1,4}:){1,2}(:[0-9a-fA-F]{1,4}){1,5}|[0-9a\n",
    "        -fA-F]{1,4}:((:[0-9a-fA-F]{1,4}){1,6})|:((:[0\n",
    "        -9a-fA-F]{1,4}){1,7}|:)|fe80:(:[0-9a-fA-F]{0,\n",
    "        4}){0,4}%[0-9a-zA-Z]{1,}|::(ffff(:0{1,4}){0,1}\n",
    "        :){0,1}((25[0-5]|(2[0-4]|1{0,1}[0-9]){0,1}[0-9\n",
    "        ])\\.){3,3}(25[0-5]|(2[0-4]|1{0,1}[0-9]){0,1}[0\n",
    "        -9])|([0-9a-fA-F]{1,4}:){1,4}:((25[0-5]|(2[0-4]\n",
    "        |1{0,1}[0-9]){0,1}[0-9])\\.){3,3}(25[0-5]|(2[0-4]\n",
    "        |1{0,1}[0-9]){0,1}[0-9]))$'''\n",
    "    match = re.search(pat, str)\n",
    "    if(match):\n",
    "        return True\n",
    "    else:\n",
    "        return False"
   ]
  },
  {
   "cell_type": "code",
   "execution_count": 71,
   "id": "f80652f4-55c6-4ff0-9ce5-5008dfac9c71",
   "metadata": {},
   "outputs": [
    {
     "data": {
      "text/plain": [
       "True"
      ]
     },
     "execution_count": 71,
     "metadata": {},
     "output_type": "execute_result"
    }
   ],
   "source": [
    "ipv6(\"3001:0da8:75a3:0000:0000:8a2e:0370:7334\")"
   ]
  },
  {
   "cell_type": "markdown",
   "id": "78b4a946-d741-48a3-ab77-9399aa9b525a",
   "metadata": {},
   "source": [
    "# Python program to find Indices of Overlapping Substrings"
   ]
  },
  {
   "cell_type": "code",
   "execution_count": 67,
   "id": "204f996b-3863-4962-8d3f-8228a07e2277",
   "metadata": {},
   "outputs": [],
   "source": [
    "txt = \"geeksforgeeksforgeeksforgeeks\"\n",
    "pattern = \"geeksforgeeks\"\n",
    "a = [m.start() for m in re.finditer(pattern, txt)]"
   ]
  },
  {
   "cell_type": "code",
   "execution_count": 68,
   "id": "2b6f460a-c557-4d61-82b5-80e658d38cd2",
   "metadata": {},
   "outputs": [
    {
     "data": {
      "text/plain": [
       "[0, 16]"
      ]
     },
     "execution_count": 68,
     "metadata": {},
     "output_type": "execute_result"
    }
   ],
   "source": [
    "a"
   ]
  },
  {
   "cell_type": "code",
   "execution_count": 73,
   "id": "0f4ab46d-d07c-41f0-91cc-6a989e32c883",
   "metadata": {},
   "outputs": [],
   "source": [
    "a = [m.start() for m in re.finditer('(?={0})'.format(re.escape(pattern)), txt)]"
   ]
  },
  {
   "cell_type": "code",
   "execution_count": 74,
   "id": "bca2cb8b-9ea1-426b-8826-8b4c109aa679",
   "metadata": {},
   "outputs": [
    {
     "data": {
      "text/plain": [
       "[0, 8, 16]"
      ]
     },
     "execution_count": 74,
     "metadata": {},
     "output_type": "execute_result"
    }
   ],
   "source": [
    "a"
   ]
  },
  {
   "cell_type": "markdown",
   "id": "fd17ebc1-ac66-4065-a912-238218c9425a",
   "metadata": {},
   "source": [
    "# Python program to extract Strings between HTML Tags"
   ]
  },
  {
   "cell_type": "code",
   "execution_count": 96,
   "id": "01fd730a-8e00-4e6f-bff0-ba8cfa703fdd",
   "metadata": {},
   "outputs": [],
   "source": [
    "txt = '<h1>Gfg</h1> is <h1>Best</h1> I love <h1>Reading CS</h1>'   \n",
    "tag = 'h1'\n",
    "pattern = r\"^[\\<{}>](.*?)[<{}/>]$\".format(tag,tag)\n",
    "match = re.findall(pattern, txt)"
   ]
  },
  {
   "cell_type": "code",
   "execution_count": 97,
   "id": "5f894337-6b7f-45fe-a048-f5b21298ac8c",
   "metadata": {},
   "outputs": [
    {
     "data": {
      "text/plain": [
       "['h1>Gfg</h1> is <h1>Best</h1> I love <h1>Reading CS</h1']"
      ]
     },
     "execution_count": 97,
     "metadata": {},
     "output_type": "execute_result"
    }
   ],
   "source": [
    "match"
   ]
  },
  {
   "cell_type": "code",
   "execution_count": null,
   "id": "9f6b5564-9bf1-4ffd-b534-20ba7ddd879f",
   "metadata": {},
   "outputs": [],
   "source": []
  },
  {
   "cell_type": "code",
   "execution_count": null,
   "id": "5d83ada5-2b1e-4cbb-b1cc-00089fc1c23a",
   "metadata": {},
   "outputs": [],
   "source": []
  }
 ],
 "metadata": {
  "kernelspec": {
   "display_name": "Python 3 (ipykernel)",
   "language": "python",
   "name": "python3"
  },
  "language_info": {
   "codemirror_mode": {
    "name": "ipython",
    "version": 3
   },
   "file_extension": ".py",
   "mimetype": "text/x-python",
   "name": "python",
   "nbconvert_exporter": "python",
   "pygments_lexer": "ipython3",
   "version": "3.12.7"
  }
 },
 "nbformat": 4,
 "nbformat_minor": 5
}
