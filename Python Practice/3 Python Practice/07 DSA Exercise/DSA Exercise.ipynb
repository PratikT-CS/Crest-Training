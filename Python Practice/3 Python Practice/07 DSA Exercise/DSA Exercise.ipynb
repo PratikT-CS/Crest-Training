{
 "cells": [
  {
   "cell_type": "markdown",
   "id": "1b02dad9-4493-4d41-ae48-a2ba2be46151",
   "metadata": {},
   "source": [
    "# Python program to reverse a stack"
   ]
  },
  {
   "cell_type": "code",
   "execution_count": 7,
   "id": "0e0a6bde-9bfa-4d32-b02e-4303991565e0",
   "metadata": {},
   "outputs": [
    {
     "name": "stdout",
     "output_type": "stream",
     "text": [
      "Original Stack\n",
      "5\n",
      "4\n",
      "3\n",
      "2\n",
      "1\n",
      "\n",
      "Stack after Reversing\n",
      "1\n",
      "2\n",
      "3\n",
      "4\n",
      "5\n"
     ]
    }
   ],
   "source": [
    "class Stack:\n",
    "    def __init__(self):\n",
    "        self.Elements = []\n",
    "        \n",
    "    def push(self, value):\n",
    "        self.Elements.append(value)\n",
    "    \n",
    "    def pop(self):\n",
    "        return self.Elements.pop()\n",
    "    \n",
    "    def empty(self):\n",
    "        return self.Elements == []\n",
    "    \n",
    "    def show(self):\n",
    "        for value in reversed(self.Elements):\n",
    "            print(value)\n",
    "\n",
    "def BottomInsert(s, value):\n",
    "    if s.empty():\n",
    "        s.push(value)\n",
    "    else:\n",
    "        popped = s.pop()\n",
    "        BottomInsert(s, value)\n",
    "        s.push(popped)\n",
    "\n",
    "def Reverse(s):\n",
    "    if s.empty():\n",
    "        pass\n",
    "    else:\n",
    "        popped = s.pop()\n",
    "        Reverse(s)\n",
    "        BottomInsert(s, popped)\n",
    "\n",
    "stk = Stack()\n",
    "\n",
    "stk.push(1)\n",
    "stk.push(2)\n",
    "stk.push(3)\n",
    "stk.push(4)\n",
    "stk.push(5)\n",
    "\n",
    "print(\"Original Stack\")\n",
    "stk.show()\n",
    "\n",
    "print(\"\\nStack after Reversing\")\n",
    "Reverse(stk)\n",
    "stk.show()"
   ]
  },
  {
   "cell_type": "markdown",
   "id": "eedacd38-609e-4de9-a561-baf0e3a24341",
   "metadata": {},
   "source": [
    "# Multithreaded Priority Queue in Python"
   ]
  },
  {
   "cell_type": "code",
   "execution_count": 13,
   "id": "a7674dd2-5a6d-4523-9149-1bae9b4379bf",
   "metadata": {},
   "outputs": [
    {
     "name": "stdout",
     "output_type": "stream",
     "text": [
      "Thread-2 processing AThread-3 processing B\n",
      "\n",
      "Thread-1 processing C\n",
      "Thread-3 processing D\n",
      "Thread-2 processing E\n",
      "Exit Main Thread\n"
     ]
    }
   ],
   "source": [
    "import queue\n",
    "import threading\n",
    "import time\n",
    "\n",
    "thread_exit_Flag = 0\n",
    "\n",
    "class sample_Thread(threading.Thread): \n",
    "    def __init__(self, threadID, name, q): \n",
    "        threading.Thread.__init__(self) \n",
    "        self.threadID = threadID \n",
    "        self.name = name \n",
    "        self.q = q \n",
    "    \n",
    "    def run(self): \n",
    "        process_data(self.name, self.q) \n",
    "\n",
    "def process_data(threadName, q): \n",
    "    while not thread_exit_Flag: \n",
    "        queueLock.acquire() \n",
    "        if not workQueue.empty(): \n",
    "            data = q.get() \n",
    "            queueLock.release() \n",
    "            print(\"%s processing %s\" % (threadName, data)) \n",
    "        else: \n",
    "            queueLock.release() \n",
    "            time.sleep(1)\n",
    "\n",
    "thread_list = [\"Thread-1\", \"Thread-2\", \"Thread-3\"] \n",
    "name_list = [\"A\", \"B\", \"C\", \"D\", \"E\"] \n",
    "queueLock = threading.Lock() \n",
    "workQueue = queue.Queue(10) \n",
    "threads = [] \n",
    "threadID = 1\n",
    "\n",
    "for thread_name in thread_list: \n",
    "    thread = sample_Thread(threadID, thread_name, workQueue) \n",
    "    thread.start() \n",
    "    threads.append(thread) \n",
    "    threadID += 1\n",
    "\n",
    "queueLock.acquire() \n",
    "for items in name_list: \n",
    "    workQueue.put(items) \n",
    "queueLock.release() \n",
    "\n",
    "while not workQueue.empty(): \n",
    "    pass\n",
    "\n",
    "thread_exit_Flag = 1\n",
    "\n",
    "for t in threads: \n",
    "    t.join() \n",
    "\n",
    "print(\"Exit Main Thread\")"
   ]
  },
  {
   "cell_type": "markdown",
   "id": "cee34bd3-0bb7-48f8-8724-f23c5b9bab8f",
   "metadata": {},
   "source": [
    "# Check whether the given string is Palindrome using Stack"
   ]
  },
  {
   "cell_type": "code",
   "execution_count": 15,
   "id": "2e0c0ab1-7e27-4856-aba1-b4f7aa8c03b7",
   "metadata": {},
   "outputs": [],
   "source": [
    "stack = []\n",
    "top = -1\n",
    "\n",
    "def push(ele: str):\n",
    "    global top\n",
    "    top += 1\n",
    "    stack[top] = ele\n",
    "\n",
    "def pop():\n",
    "    global top\n",
    "    ele = stack[top]\n",
    "    top -= 1\n",
    "    return ele\n",
    "\n",
    "def isPalindrome(string: str) -> bool:\n",
    "    global stack\n",
    "    length = len(string)\n",
    "    stack = ['0'] * (length + 1)\n",
    "    mid = length // 2\n",
    "    i = 0\n",
    "    while i < mid:\n",
    "        push(string[i])\n",
    "        i += 1\n",
    "    if length % 2 != 0:\n",
    "        i += 1\n",
    "    while i < length:\n",
    "        ele = pop()\n",
    "        if ele != string[i]:\n",
    "            return False\n",
    "        i += 1\n",
    "    return True"
   ]
  },
  {
   "cell_type": "code",
   "execution_count": 16,
   "id": "4dba7851-2ce4-45f4-b311-420cb9724b13",
   "metadata": {},
   "outputs": [
    {
     "data": {
      "text/plain": [
       "True"
      ]
     },
     "execution_count": 16,
     "metadata": {},
     "output_type": "execute_result"
    }
   ],
   "source": [
    "isPalindrome(\"madam\")"
   ]
  },
  {
   "cell_type": "code",
   "execution_count": 17,
   "id": "48442de1-10ab-4709-be89-0106bf7ef31b",
   "metadata": {},
   "outputs": [
    {
     "data": {
      "text/plain": [
       "False"
      ]
     },
     "execution_count": 17,
     "metadata": {},
     "output_type": "execute_result"
    }
   ],
   "source": [
    "isPalindrome(\"string\")    "
   ]
  },
  {
   "cell_type": "code",
   "execution_count": null,
   "id": "aa96d74e-ea2d-4c6d-85ea-5e07b12fba0c",
   "metadata": {},
   "outputs": [],
   "source": []
  }
 ],
 "metadata": {
  "kernelspec": {
   "display_name": "Python 3 (ipykernel)",
   "language": "python",
   "name": "python3"
  },
  "language_info": {
   "codemirror_mode": {
    "name": "ipython",
    "version": 3
   },
   "file_extension": ".py",
   "mimetype": "text/x-python",
   "name": "python",
   "nbconvert_exporter": "python",
   "pygments_lexer": "ipython3",
   "version": "3.12.7"
  }
 },
 "nbformat": 4,
 "nbformat_minor": 5
}
