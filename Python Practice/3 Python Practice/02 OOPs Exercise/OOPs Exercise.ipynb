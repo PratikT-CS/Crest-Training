{
 "cells": [
  {
   "cell_type": "markdown",
   "id": "64a7f701-60c2-4a1c-aa0a-395cca533dec",
   "metadata": {},
   "source": [
    "## Take the word and its meaning as input from the user.\n",
    "## Create a class named flashcard, use the __init__() function to assign values for Word and Meaning.\n",
    "## Now we use the __str__() function to return a string that contains the word and meaning.\n",
    "## Store the returned strings in a list named flash.\n",
    "## Use a while loop to print all the stored flashcards."
   ]
  },
  {
   "cell_type": "code",
   "execution_count": 12,
   "id": "61dabeb2-2f73-4870-8d33-79329724d1d9",
   "metadata": {},
   "outputs": [
    {
     "name": "stdin",
     "output_type": "stream",
     "text": [
      "Enter Word for Flash Card : Crest \n",
      "Enter meaning for the word in Flash Card : Name of Company\n",
      "Enter 0 to add one more card. d\n"
     ]
    },
    {
     "name": "stdout",
     "output_type": "stream",
     "text": [
      "[<__main__.FlashCard object at 0x000002A3C1F20EC0>]\n"
     ]
    }
   ],
   "source": [
    "class FlashCard:\n",
    "    \n",
    "    def __init__(self, word, meaning):\n",
    "        self.word = word\n",
    "        self.meaning = meaning\n",
    "    \n",
    "    def __str__(self):\n",
    "        return f\"Meaning of {self.word} is {self.meaning}\"\n",
    "\n",
    "flash = []\n",
    "while True:\n",
    "    word = input(\"Enter Word for Flash Card :\")\n",
    "    meaning = input(\"Enter meaning for the word in Flash Card :\")\n",
    "    \n",
    "    flash.append(FlashCard(word, meaning))\n",
    "\n",
    "    choice = input(\"Enter 0 to add one more card.\")\n",
    "    if choice != \"0\":\n",
    "        break\n",
    "\n",
    "print(flash)"
   ]
  },
  {
   "cell_type": "code",
   "execution_count": 13,
   "id": "9fb751fd-c60a-4173-a6a1-044bb295662c",
   "metadata": {},
   "outputs": [
    {
     "name": "stdout",
     "output_type": "stream",
     "text": [
      "Meaning of Crest  is Name of Company\n"
     ]
    }
   ],
   "source": [
    "for i in flash:\n",
    "    print(i)"
   ]
  },
  {
   "cell_type": "markdown",
   "id": "ea2c978e-8214-4f7a-b81c-8061566ecc4b",
   "metadata": {},
   "source": [
    "## Create a class named flashcard.\n",
    "## Initialize dictionary fruits using __init__() method.\n",
    "## Now randomly choose a pair from fruits using choice() method and store the key in variable fruit and value in variable color.\n",
    "## Now prompt the user to answer the color of the randomly chosen fruit.\n",
    "## If correct print correct else print wrong."
   ]
  },
  {
   "cell_type": "code",
   "execution_count": 26,
   "id": "fb8e2d08-0fe7-4271-936a-09529acd16c9",
   "metadata": {},
   "outputs": [],
   "source": [
    "import random\n",
    "\n",
    "class FlashCard:\n",
    "\n",
    "    def __init__(self):\n",
    "        self.fruits = {\"Apple\":\"Red\", \"Banana\":\"Yellow\", \"Orange\":\"Orange\", \"Strawberry\":\"Red\", \"Watermelon\":\"Green\"}\n",
    "\n",
    "    def quiz(self):\n",
    "        while True:\n",
    "            fruit, color = random.choice(list(self.fruits.items()))\n",
    "            # color = self.fruits[fruit]\n",
    "            print(f\"What is the color of {fruit}\")\n",
    "            answer = input()\n",
    "            \n",
    "            if(answer.lower() == color.lower()):\n",
    "                print(\"Correct answer\")\n",
    "            else:\n",
    "                print(\"Wrong answer\")\n",
    "                \n",
    "            option = input(\"enter 0 , if you want to play again : \")\n",
    "            if option != \"0\":\n",
    "                break\n",
    "\n",
    "fc = FlashCard()"
   ]
  },
  {
   "cell_type": "code",
   "execution_count": 27,
   "id": "a3e819df-9e1a-4225-a893-4d17d4779cd2",
   "metadata": {},
   "outputs": [
    {
     "name": "stdout",
     "output_type": "stream",
     "text": [
      "What is the color of Orange\n"
     ]
    },
    {
     "name": "stdin",
     "output_type": "stream",
     "text": [
      " Orange\n"
     ]
    },
    {
     "name": "stdout",
     "output_type": "stream",
     "text": [
      "Correct answer\n"
     ]
    },
    {
     "name": "stdin",
     "output_type": "stream",
     "text": [
      "enter 0 , if you want to play again :  0\n"
     ]
    },
    {
     "name": "stdout",
     "output_type": "stream",
     "text": [
      "What is the color of Banana\n"
     ]
    },
    {
     "name": "stdin",
     "output_type": "stream",
     "text": [
      " Yellow\n"
     ]
    },
    {
     "name": "stdout",
     "output_type": "stream",
     "text": [
      "Correct answer\n"
     ]
    },
    {
     "name": "stdin",
     "output_type": "stream",
     "text": [
      "enter 0 , if you want to play again :  0\n"
     ]
    },
    {
     "name": "stdout",
     "output_type": "stream",
     "text": [
      "What is the color of Watermelon\n"
     ]
    },
    {
     "name": "stdin",
     "output_type": "stream",
     "text": [
      " Green\n"
     ]
    },
    {
     "name": "stdout",
     "output_type": "stream",
     "text": [
      "Correct answer\n"
     ]
    },
    {
     "name": "stdin",
     "output_type": "stream",
     "text": [
      "enter 0 , if you want to play again :  0\n"
     ]
    },
    {
     "name": "stdout",
     "output_type": "stream",
     "text": [
      "What is the color of Orange\n"
     ]
    },
    {
     "name": "stdin",
     "output_type": "stream",
     "text": [
      " Orange\n"
     ]
    },
    {
     "name": "stdout",
     "output_type": "stream",
     "text": [
      "Correct answer\n"
     ]
    },
    {
     "name": "stdin",
     "output_type": "stream",
     "text": [
      "enter 0 , if you want to play again :  d\n"
     ]
    }
   ],
   "source": [
    "fc.quiz()"
   ]
  },
  {
   "cell_type": "markdown",
   "id": "24483c45-29d4-4968-ba65-30be779da8b0",
   "metadata": {},
   "source": [
    "# Shuffle a deck of card with OOPS in Python"
   ]
  },
  {
   "cell_type": "code",
   "execution_count": 31,
   "id": "8f3ad9ca-a7b8-4695-9210-743392852803",
   "metadata": {},
   "outputs": [],
   "source": [
    "from random import shuffle\n",
    "# global variables\n",
    "suits = ('Hearts', 'Diamonds', 'Spades', 'Clubs')\n",
    "ranks = ('Two', 'Three', 'Four', 'Five', 'Six', 'Seven', 'Eight', 'Nine', 'Ten', 'Jack', 'Queen', 'King', 'Ace')"
   ]
  },
  {
   "cell_type": "code",
   "execution_count": 32,
   "id": "48e2f9c3-a093-4111-afdd-02cea9bea30b",
   "metadata": {},
   "outputs": [],
   "source": [
    "class Card:\n",
    "    def __init__(self,suit,rank):\n",
    "        self.suit = suit\n",
    "        self.rank = rank\n",
    "\n",
    "    def __str__(self):\n",
    "        return f\"{self.rank} of {self.suit}\""
   ]
  },
  {
   "cell_type": "code",
   "execution_count": 33,
   "id": "8393f0c6-9257-460c-b708-9a9089796ff2",
   "metadata": {},
   "outputs": [],
   "source": [
    "class Deck:\n",
    "    def __init__(self):\n",
    "        self.all_cards = []\n",
    "        for suit in suits:\n",
    "            for rank in ranks:\n",
    "                self.all_cards.append(Card(suit,rank))\n",
    "\n",
    "    def shuffle(self):\n",
    "        shuffle(self.all_cards)\n",
    "\n",
    "    def remove_one(self):\n",
    "        return self.all_cards.pop()"
   ]
  },
  {
   "cell_type": "code",
   "execution_count": 34,
   "id": "cb18dbb1-a8d5-4303-9cd1-b673235a2b3e",
   "metadata": {},
   "outputs": [],
   "source": [
    "myDeck = Deck()"
   ]
  },
  {
   "cell_type": "code",
   "execution_count": 35,
   "id": "f3079315-6969-40ae-b510-665408cbdae5",
   "metadata": {
    "scrolled": true
   },
   "outputs": [
    {
     "name": "stdout",
     "output_type": "stream",
     "text": [
      "Two of Hearts\n",
      "Three of Hearts\n",
      "Four of Hearts\n",
      "Five of Hearts\n",
      "Six of Hearts\n",
      "Seven of Hearts\n",
      "Eight of Hearts\n",
      "Nine of Hearts\n",
      "Ten of Hearts\n",
      "Jack of Hearts\n",
      "Queen of Hearts\n",
      "King of Hearts\n",
      "Ace of Hearts\n",
      "Two of Diamonds\n",
      "Three of Diamonds\n",
      "Four of Diamonds\n",
      "Five of Diamonds\n",
      "Six of Diamonds\n",
      "Seven of Diamonds\n",
      "Eight of Diamonds\n",
      "Nine of Diamonds\n",
      "Ten of Diamonds\n",
      "Jack of Diamonds\n",
      "Queen of Diamonds\n",
      "King of Diamonds\n",
      "Ace of Diamonds\n",
      "Two of Spades\n",
      "Three of Spades\n",
      "Four of Spades\n",
      "Five of Spades\n",
      "Six of Spades\n",
      "Seven of Spades\n",
      "Eight of Spades\n",
      "Nine of Spades\n",
      "Ten of Spades\n",
      "Jack of Spades\n",
      "Queen of Spades\n",
      "King of Spades\n",
      "Ace of Spades\n",
      "Two of Clubs\n",
      "Three of Clubs\n",
      "Four of Clubs\n",
      "Five of Clubs\n",
      "Six of Clubs\n",
      "Seven of Clubs\n",
      "Eight of Clubs\n",
      "Nine of Clubs\n",
      "Ten of Clubs\n",
      "Jack of Clubs\n",
      "Queen of Clubs\n",
      "King of Clubs\n",
      "Ace of Clubs\n"
     ]
    }
   ],
   "source": [
    "for card in myDeck.all_cards:\n",
    "    print(card)"
   ]
  },
  {
   "cell_type": "code",
   "execution_count": 36,
   "id": "a5e28fe5-6464-415d-a31d-7096903ad3ca",
   "metadata": {},
   "outputs": [],
   "source": [
    "myDeck.shuffle()"
   ]
  },
  {
   "cell_type": "code",
   "execution_count": 37,
   "id": "94284fcf-2b37-4406-9043-574fa13b199c",
   "metadata": {
    "scrolled": true
   },
   "outputs": [
    {
     "name": "stdout",
     "output_type": "stream",
     "text": [
      "King of Diamonds\n",
      "Nine of Diamonds\n",
      "Five of Hearts\n",
      "Five of Diamonds\n",
      "Ace of Clubs\n",
      "King of Hearts\n",
      "King of Spades\n",
      "Four of Diamonds\n",
      "Six of Spades\n",
      "Four of Clubs\n",
      "Five of Spades\n",
      "Two of Diamonds\n",
      "Three of Diamonds\n",
      "Seven of Clubs\n",
      "Two of Clubs\n",
      "Six of Clubs\n",
      "Eight of Hearts\n",
      "Three of Clubs\n",
      "Queen of Hearts\n",
      "Ace of Hearts\n",
      "Eight of Diamonds\n",
      "Jack of Hearts\n",
      "Queen of Diamonds\n",
      "Jack of Clubs\n",
      "Jack of Spades\n",
      "Two of Hearts\n",
      "Ace of Spades\n",
      "Eight of Clubs\n",
      "Two of Spades\n",
      "Nine of Hearts\n",
      "Four of Spades\n",
      "Seven of Diamonds\n",
      "Queen of Spades\n",
      "Nine of Spades\n",
      "Four of Hearts\n",
      "Three of Spades\n",
      "Six of Hearts\n",
      "Ten of Clubs\n",
      "Ace of Diamonds\n",
      "Eight of Spades\n",
      "Six of Diamonds\n",
      "King of Clubs\n",
      "Ten of Hearts\n",
      "Ten of Diamonds\n",
      "Ten of Spades\n",
      "Seven of Hearts\n",
      "Seven of Spades\n",
      "Queen of Clubs\n",
      "Three of Hearts\n",
      "Nine of Clubs\n",
      "Five of Clubs\n",
      "Jack of Diamonds\n"
     ]
    }
   ],
   "source": [
    "for card in myDeck.all_cards:\n",
    "    print(card)"
   ]
  },
  {
   "cell_type": "markdown",
   "id": "f74e864e-3adb-4aff-b0f8-8166172323a2",
   "metadata": {},
   "source": [
    "# Empty Class"
   ]
  },
  {
   "cell_type": "code",
   "execution_count": 38,
   "id": "c3164d38-b113-488c-bb5d-d246fb35eb51",
   "metadata": {},
   "outputs": [],
   "source": [
    "class EmptyClass:\n",
    "    pass"
   ]
  },
  {
   "cell_type": "code",
   "execution_count": 39,
   "id": "a547be81-ffd5-4f04-92d0-68b3e4a48390",
   "metadata": {},
   "outputs": [],
   "source": [
    "e1 = EmptyClass()"
   ]
  },
  {
   "cell_type": "code",
   "execution_count": 40,
   "id": "7dc44a6a-5f49-48bd-b5f4-5b2f2277293b",
   "metadata": {},
   "outputs": [],
   "source": [
    "e1.name = \"Pratik\""
   ]
  },
  {
   "cell_type": "code",
   "execution_count": 41,
   "id": "2551832d-d857-450f-b18f-a2c943846f4c",
   "metadata": {},
   "outputs": [],
   "source": [
    "e2 = EmptyClass()"
   ]
  },
  {
   "cell_type": "code",
   "execution_count": 42,
   "id": "7378f35d-48c3-4bbb-b0c4-76fe48956ff3",
   "metadata": {},
   "outputs": [],
   "source": [
    "e2.age = 22"
   ]
  },
  {
   "cell_type": "code",
   "execution_count": 43,
   "id": "c4898aec-5126-4ac5-a3b0-487404a00c66",
   "metadata": {},
   "outputs": [
    {
     "name": "stdout",
     "output_type": "stream",
     "text": [
      "Pratik\n"
     ]
    }
   ],
   "source": [
    "print(e1.name)"
   ]
  },
  {
   "cell_type": "code",
   "execution_count": 44,
   "id": "61df7959-0492-45b2-a9d9-9d1cd63ea539",
   "metadata": {},
   "outputs": [
    {
     "name": "stdout",
     "output_type": "stream",
     "text": [
      "22\n"
     ]
    }
   ],
   "source": [
    "print(e2.age)"
   ]
  },
  {
   "cell_type": "markdown",
   "id": "e6ec5479-4b6f-4b9e-9610-4078386549bd",
   "metadata": {},
   "source": [
    "# Problem Statement: Write a program to build a simple Student Management System using Python which can perform the following operations:\n",
    "\n",
    "Accept\n",
    "Display\n",
    "Search\n",
    "Delete\n",
    "Update"
   ]
  },
  {
   "cell_type": "code",
   "execution_count": 45,
   "id": "0b08decc-81e3-4ac8-aaa4-78a78cf2e6ea",
   "metadata": {},
   "outputs": [
    {
     "name": "stdout",
     "output_type": "stream",
     "text": [
      "Name:  Charlie\n",
      "Roll No:  103\n",
      "Mark1:  95\n",
      "Mark2:  92\n",
      "\n",
      "Name:  David\n",
      "Roll No:  104\n",
      "Mark1:  88\n",
      "Mark2:  84\n",
      "\n",
      "Updated list of students:\n",
      "Name:  Charlie\n",
      "Roll No:  103\n",
      "Mark1:  95\n",
      "Mark2:  92\n",
      "\n",
      "Name:  David\n",
      "Roll No:  104\n",
      "Mark1:  88\n",
      "Mark2:  84\n",
      "\n",
      "Final list after deletion:\n",
      "Name:  Charlie\n",
      "Roll No:  103\n",
      "Mark1:  95\n",
      "Mark2:  92\n",
      "\n"
     ]
    }
   ],
   "source": [
    "class Student:\n",
    "    def __init__(self, name, rn, m1, m2):\n",
    "        self.name = name\n",
    "        self.rn = rn\n",
    "        self.m1 = m1\n",
    "        self.m2 = m2\n",
    "\n",
    "    def accept(self, name, rn, m1, m2):\n",
    "        ob = Student(name, rn, m1, m2)\n",
    "        ls.append(ob)\n",
    "\n",
    "    # Display student information\n",
    "    def display(self):\n",
    "        print(\"Name: \", self.name)\n",
    "        print(\"Roll No: \", self.rn)\n",
    "        print(\"Mark1: \", self.m1)\n",
    "        print(\"Mark2: \", self.m2)\n",
    "        print()\n",
    "\n",
    "    # Search for a student by roll number\n",
    "    def search(self, rn):\n",
    "        for i in range(len(ls)):\n",
    "            if ls[i].rn == rn:\n",
    "                return i\n",
    "        return -1  # return -1 if student not found\n",
    "\n",
    "    # Delete student by roll number\n",
    "    def delete(self, rn):\n",
    "        i = self.search(rn)\n",
    "        if i != -1:  # Ensure the student exists\n",
    "            del ls[i]\n",
    "\n",
    "    # Update a student's roll number\n",
    "    def update(self, rn, new_roll_no):\n",
    "        i = self.search(rn)\n",
    "        if i != -1:  # Ensure the student exists\n",
    "            ls[i].rn = new_roll_no  # Update the roll number\n",
    "\n",
    "ls = []\n",
    "\n",
    "s1 = Student(\"Alice\", 101, 85, 90)\n",
    "s2 = Student(\"Bob\", 102, 75, 80)\n",
    "\n",
    "s1.accept(\"Charlie\", 103, 95, 92)\n",
    "s2.accept(\"David\", 104, 88, 84)\n",
    "\n",
    "for student in ls:\n",
    "    student.display()\n",
    "\n",
    "s1.update(101, 111)\n",
    "\n",
    "print(\"Updated list of students:\")\n",
    "for student in ls:\n",
    "    student.display()\n",
    "\n",
    "s1.delete(104)\n",
    "\n",
    "print(\"Final list after deletion:\")\n",
    "for student in ls:\n",
    "    student.display()"
   ]
  },
  {
   "cell_type": "code",
   "execution_count": null,
   "id": "10358268-e66f-49d0-b2f0-e277057ff064",
   "metadata": {},
   "outputs": [],
   "source": []
  }
 ],
 "metadata": {
  "kernelspec": {
   "display_name": "Python 3 (ipykernel)",
   "language": "python",
   "name": "python3"
  },
  "language_info": {
   "codemirror_mode": {
    "name": "ipython",
    "version": 3
   },
   "file_extension": ".py",
   "mimetype": "text/x-python",
   "name": "python",
   "nbconvert_exporter": "python",
   "pygments_lexer": "ipython3",
   "version": "3.12.7"
  }
 },
 "nbformat": 4,
 "nbformat_minor": 5
}
