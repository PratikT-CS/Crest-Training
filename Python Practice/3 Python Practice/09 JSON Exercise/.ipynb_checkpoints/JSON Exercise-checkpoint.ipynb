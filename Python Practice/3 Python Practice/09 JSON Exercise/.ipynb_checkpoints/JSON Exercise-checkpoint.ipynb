{
 "cells": [
  {
   "cell_type": "markdown",
   "id": "16b74eda-85cd-4ee3-bbed-e631c94dbd25",
   "metadata": {},
   "source": [
    "# Convert class object to JSON in Python"
   ]
  },
  {
   "cell_type": "code",
   "execution_count": 1,
   "id": "582f5b07-5cfc-4154-bc21-94a965f6a5a8",
   "metadata": {},
   "outputs": [],
   "source": [
    "import json"
   ]
  },
  {
   "cell_type": "code",
   "execution_count": 2,
   "id": "e7054afd-b49d-471b-afb4-1784a15f0948",
   "metadata": {},
   "outputs": [],
   "source": [
    "class Student: \n",
    "    def __init__(self, roll_no, name, batch): \n",
    "        self.roll_no = roll_no \n",
    "        self.name = name \n",
    "        self.batch = batch "
   ]
  },
  {
   "cell_type": "code",
   "execution_count": 4,
   "id": "8f763abf-c30e-468d-8b73-0c8095c4a449",
   "metadata": {},
   "outputs": [],
   "source": [
    "s1 = Student(1, \"Pratik\", 2024)\n",
    "s2 = Student(2, \"Aditya\", 2024)\n",
    "s3 = Student(3, \"Deep\", 2024)\n",
    "s4 = Student(4, \"Karan\", 2024)"
   ]
  },
  {
   "cell_type": "code",
   "execution_count": 6,
   "id": "916b15e1-c369-4f41-b49e-407b4996a208",
   "metadata": {},
   "outputs": [
    {
     "data": {
      "text/plain": [
       "{'roll_no': 1, 'name': 'Pratik', 'batch': 2024}"
      ]
     },
     "execution_count": 6,
     "metadata": {},
     "output_type": "execute_result"
    }
   ],
   "source": [
    "s1.__dict__"
   ]
  },
  {
   "cell_type": "code",
   "execution_count": 7,
   "id": "04c5562e-edc5-41d4-8f0a-4e648e5d4f66",
   "metadata": {},
   "outputs": [
    {
     "data": {
      "text/plain": [
       "dict"
      ]
     },
     "execution_count": 7,
     "metadata": {},
     "output_type": "execute_result"
    }
   ],
   "source": [
    "type(s1.__dict__)"
   ]
  },
  {
   "cell_type": "code",
   "execution_count": 5,
   "id": "84b0a910-6638-4b79-9a6f-fad81b3e2ce6",
   "metadata": {},
   "outputs": [
    {
     "name": "stdout",
     "output_type": "stream",
     "text": [
      "{\"roll_no\": 1, \"name\": \"Pratik\", \"batch\": 2024}\n"
     ]
    }
   ],
   "source": [
    "print(json.dumps(s1.__dict__))"
   ]
  },
  {
   "cell_type": "code",
   "execution_count": 8,
   "id": "86c3d966-adaf-4702-8f8e-8224ef826bd2",
   "metadata": {},
   "outputs": [
    {
     "data": {
      "text/plain": [
       "str"
      ]
     },
     "execution_count": 8,
     "metadata": {},
     "output_type": "execute_result"
    }
   ],
   "source": [
    "type(json.dumps(s1.__dict__))"
   ]
  },
  {
   "cell_type": "markdown",
   "id": "83e1b32e-cfe9-4bc6-a84a-00f8858b9e38",
   "metadata": {},
   "source": [
    "# Convert JSON data Into a Custom Python Object"
   ]
  },
  {
   "cell_type": "code",
   "execution_count": 15,
   "id": "d49843cf-b6eb-41cf-a74f-f7b98f075397",
   "metadata": {},
   "outputs": [],
   "source": [
    "json_str = json.dumps(s1.__dict__)"
   ]
  },
  {
   "cell_type": "code",
   "execution_count": 16,
   "id": "32081eb4-694b-40c5-8334-61025ac7ed66",
   "metadata": {},
   "outputs": [],
   "source": [
    "py_dic = json.loads(json_str)"
   ]
  },
  {
   "cell_type": "code",
   "execution_count": 17,
   "id": "5378a8b8-ad08-4c02-a9ed-7e635c635d5f",
   "metadata": {},
   "outputs": [
    {
     "data": {
      "text/plain": [
       "{'roll_no': 1, 'name': 'Pratik', 'batch': 2024}"
      ]
     },
     "execution_count": 17,
     "metadata": {},
     "output_type": "execute_result"
    }
   ],
   "source": [
    "py_dic"
   ]
  },
  {
   "cell_type": "code",
   "execution_count": 18,
   "id": "f2a3f09f-1322-4327-b791-cd185d67a286",
   "metadata": {},
   "outputs": [
    {
     "data": {
      "text/plain": [
       "dict"
      ]
     },
     "execution_count": 18,
     "metadata": {},
     "output_type": "execute_result"
    }
   ],
   "source": [
    "type(py_dic)"
   ]
  },
  {
   "cell_type": "code",
   "execution_count": 29,
   "id": "5bc0ca24-93b5-466a-a195-0010ca0285ac",
   "metadata": {},
   "outputs": [
    {
     "ename": "AttributeError",
     "evalue": "'dict' object has no attribute 'name'",
     "output_type": "error",
     "traceback": [
      "\u001b[1;31m---------------------------------------------------------------------------\u001b[0m",
      "\u001b[1;31mAttributeError\u001b[0m                            Traceback (most recent call last)",
      "Cell \u001b[1;32mIn[29], line 1\u001b[0m\n\u001b[1;32m----> 1\u001b[0m py_dic\u001b[38;5;241m.\u001b[39mname\n",
      "\u001b[1;31mAttributeError\u001b[0m: 'dict' object has no attribute 'name'"
     ]
    }
   ],
   "source": [
    "py_dic.name"
   ]
  },
  {
   "cell_type": "code",
   "execution_count": 25,
   "id": "86ecdedc-1510-4651-81b5-28ae843df2a9",
   "metadata": {},
   "outputs": [],
   "source": [
    "from collections import namedtuple\n",
    "py_obj = json.loads(json_str, object_hook = lambda d : namedtuple('X', d.keys())(*d.values()))"
   ]
  },
  {
   "cell_type": "code",
   "execution_count": 26,
   "id": "bcbc5874-7190-4fb3-a2fa-35ae433888a4",
   "metadata": {},
   "outputs": [
    {
     "data": {
      "text/plain": [
       "__main__.X"
      ]
     },
     "execution_count": 26,
     "metadata": {},
     "output_type": "execute_result"
    }
   ],
   "source": [
    "type(py_obj)"
   ]
  },
  {
   "cell_type": "code",
   "execution_count": 27,
   "id": "5f78b98c-5d71-46d6-aa19-f4d4cc93a621",
   "metadata": {},
   "outputs": [
    {
     "data": {
      "text/plain": [
       "2024"
      ]
     },
     "execution_count": 27,
     "metadata": {},
     "output_type": "execute_result"
    }
   ],
   "source": [
    "py_obj.batch"
   ]
  },
  {
   "cell_type": "code",
   "execution_count": 28,
   "id": "65695c39-3c60-469c-b24d-02c0f01b7486",
   "metadata": {},
   "outputs": [
    {
     "data": {
      "text/plain": [
       "'Pratik'"
      ]
     },
     "execution_count": 28,
     "metadata": {},
     "output_type": "execute_result"
    }
   ],
   "source": [
    "py_obj.name"
   ]
  },
  {
   "cell_type": "markdown",
   "id": "a20e4315-bc24-4715-8165-4ff94da12112",
   "metadata": {},
   "source": [
    "# Flattening Json Object"
   ]
  },
  {
   "cell_type": "code",
   "execution_count": 33,
   "id": "49e5bb70-80e3-4172-9f06-17ce3ed8de57",
   "metadata": {},
   "outputs": [],
   "source": [
    "from flatten_json import flatten"
   ]
  },
  {
   "cell_type": "code",
   "execution_count": 34,
   "id": "b1b3f4a1-f359-4a20-ada1-49756f7ac2a5",
   "metadata": {},
   "outputs": [],
   "source": [
    "unflat_json = {'user': {'Rachel':{'UserID': 1717171717,'Email': 'rachel1999@gmail.com','friends': ['John', 'Jeremy', 'Emily']}}}"
   ]
  },
  {
   "cell_type": "code",
   "execution_count": 35,
   "id": "ab4bde1b-8df4-48cb-8a47-c3ed37cd0441",
   "metadata": {},
   "outputs": [],
   "source": [
    "flat_json = flatten(unflat_json)"
   ]
  },
  {
   "cell_type": "code",
   "execution_count": 36,
   "id": "829c8b38-6b4d-48e1-a52d-40d95e6e88d3",
   "metadata": {},
   "outputs": [
    {
     "data": {
      "text/plain": [
       "{'user_Rachel_UserID': 1717171717,\n",
       " 'user_Rachel_Email': 'rachel1999@gmail.com',\n",
       " 'user_Rachel_friends_0': 'John',\n",
       " 'user_Rachel_friends_1': 'Jeremy',\n",
       " 'user_Rachel_friends_2': 'Emily'}"
      ]
     },
     "execution_count": 36,
     "metadata": {},
     "output_type": "execute_result"
    }
   ],
   "source": [
    "flat_json"
   ]
  },
  {
   "cell_type": "code",
   "execution_count": null,
   "id": "29a1376a-c1fd-4c30-b3b9-ef35fa7aadf2",
   "metadata": {},
   "outputs": [],
   "source": []
  }
 ],
 "metadata": {
  "kernelspec": {
   "display_name": "Python 3 (ipykernel)",
   "language": "python",
   "name": "python3"
  },
  "language_info": {
   "codemirror_mode": {
    "name": "ipython",
    "version": 3
   },
   "file_extension": ".py",
   "mimetype": "text/x-python",
   "name": "python",
   "nbconvert_exporter": "python",
   "pygments_lexer": "ipython3",
   "version": "3.12.7"
  }
 },
 "nbformat": 4,
 "nbformat_minor": 5
}
