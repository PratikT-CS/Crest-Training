{
 "cells": [
  {
   "cell_type": "code",
   "execution_count": 1,
   "id": "72329df4-1119-494b-aacb-b5e95db46363",
   "metadata": {},
   "outputs": [],
   "source": [
    "def endPoints(self, matrix, m, n):\n",
    "    #code here\n",
    "    d = {\"U\": [-1, 0], \"D\": [1, 0], \"R\": [0, 1], \"L\": [0, -1]}\n",
    "    dir_0 = {\"U\": \"R\", \"R\": \"D\", \"D\": \"L\", \"L\": \"U\"}\n",
    "    \n",
    "    curr_dir = \"R\"\n",
    "    i = 0\n",
    "    j = 0\n",
    "    while(0 <= i < m and 0 <= j < n):\n",
    "        x, y = i, j\n",
    "        if(matrix[i][j] == 0):\n",
    "            i = i + d[curr_dir][0]\n",
    "            j = j + d[curr_dir][1]\n",
    "            \n",
    "        elif (matrix[i][j] == 1):\n",
    "            matrix[i][j] = 0\n",
    "            curr_dir = dir_0[curr_dir]\n",
    "            i = i + d[curr_dir][0]\n",
    "            j = j + d[curr_dir][1]\n",
    "            \n",
    "        if(i < 0 or i == m or j < 0 or j == n):\n",
    "            return x, y"
   ]
  },
  {
   "cell_type": "code",
   "execution_count": 3,
   "id": "b0fb9cfe-3e47-4154-b760-39cb0c67d351",
   "metadata": {},
   "outputs": [],
   "source": [
    "test_list = [[5, 8, 9], [2, 0, 9], [5, 4, 2], [2, 3, 9]]\n",
    "result = dict()\n",
    "for row in range(1, len(test_list)):\n",
    "    result[test_list[0][row-1]] = test_list[row]\n",
    "    "
   ]
  },
  {
   "cell_type": "code",
   "execution_count": 4,
   "id": "32c81c3a-26bc-4fb6-a886-7a682fb10d03",
   "metadata": {},
   "outputs": [
    {
     "name": "stdout",
     "output_type": "stream",
     "text": [
      "{5: [2, 0, 9], 8: [5, 4, 2], 9: [2, 3, 9]}\n"
     ]
    }
   ],
   "source": [
    "print(result)"
   ]
  },
  {
   "cell_type": "code",
   "execution_count": 10,
   "id": "8249b49b-c1e6-4922-aa98-58e9473cd4b9",
   "metadata": {},
   "outputs": [],
   "source": [
    "result = {test_list[0][row] : test_list[row+1] for row in range(len(test_list)-1) }"
   ]
  },
  {
   "cell_type": "code",
   "execution_count": 11,
   "id": "c6cc53bf-8274-4660-9a19-7df0fad80510",
   "metadata": {},
   "outputs": [
    {
     "data": {
      "text/plain": [
       "{5: [2, 0, 9], 8: [5, 4, 2], 9: [2, 3, 9]}"
      ]
     },
     "execution_count": 11,
     "metadata": {},
     "output_type": "execute_result"
    }
   ],
   "source": [
    "result"
   ]
  },
  {
   "cell_type": "code",
   "execution_count": 18,
   "id": "0777a0ae-45d7-42bf-a091-cc42cd673aa0",
   "metadata": {},
   "outputs": [],
   "source": [
    "res = dict(zip(test_list[0], test_list[1:]))"
   ]
  },
  {
   "cell_type": "code",
   "execution_count": 19,
   "id": "fde437f8-6f37-4177-9cdd-de9ed3857951",
   "metadata": {},
   "outputs": [
    {
     "data": {
      "text/plain": [
       "{5: [2, 0, 9], 8: [5, 4, 2], 9: [2, 3, 9]}"
      ]
     },
     "execution_count": 19,
     "metadata": {},
     "output_type": "execute_result"
    }
   ],
   "source": [
    "res"
   ]
  },
  {
   "cell_type": "code",
   "execution_count": 20,
   "id": "c4e41829-6d43-4488-ad71-c9416d61b19d",
   "metadata": {},
   "outputs": [],
   "source": [
    "A = [[1,2],[3,4]]\n",
    "B = [[4,5],[6,7]]"
   ]
  },
  {
   "cell_type": "code",
   "execution_count": 32,
   "id": "72cd228b-18d4-47c7-ae5f-c683eb451901",
   "metadata": {},
   "outputs": [],
   "source": [
    "def sub(a, b):\n",
    "    res = []\n",
    "    for i in range(len(a)):\n",
    "        result = []\n",
    "        for j in range(len(a[0])):\n",
    "            result.append(a[i][j] - b[i][j])\n",
    "        res.append(result)\n",
    "    return res\n",
    "            "
   ]
  },
  {
   "cell_type": "code",
   "execution_count": 33,
   "id": "041e41c3-a676-46e1-95d9-e3b4bba1b86e",
   "metadata": {},
   "outputs": [
    {
     "data": {
      "text/plain": [
       "[[-3, -3], [-3, -3]]"
      ]
     },
     "execution_count": 33,
     "metadata": {},
     "output_type": "execute_result"
    }
   ],
   "source": [
    "sub(A, B)"
   ]
  },
  {
   "cell_type": "code",
   "execution_count": 34,
   "id": "f7719ea9-3df1-42e0-afe9-78ff1014d4ba",
   "metadata": {},
   "outputs": [],
   "source": [
    "def add(a, b):\n",
    "    res = []\n",
    "    for i in range(len(a)):\n",
    "        result = []\n",
    "        for j in range(len(a[0])):\n",
    "            result.append(a[i][j] + b[i][j])\n",
    "        res.append(result)\n",
    "    return res"
   ]
  },
  {
   "cell_type": "code",
   "execution_count": 35,
   "id": "1f2be77f-3c89-42e0-87a3-1dd8e079267c",
   "metadata": {},
   "outputs": [
    {
     "data": {
      "text/plain": [
       "[[5, 7], [9, 11]]"
      ]
     },
     "execution_count": 35,
     "metadata": {},
     "output_type": "execute_result"
    }
   ],
   "source": [
    "add(A, B)"
   ]
  },
  {
   "cell_type": "code",
   "execution_count": 42,
   "id": "3bc12015-df4c-4f17-8920-b128180dedc9",
   "metadata": {},
   "outputs": [
    {
     "data": {
      "text/plain": [
       "{1, 2, 3, 4}"
      ]
     },
     "execution_count": 42,
     "metadata": {},
     "output_type": "execute_result"
    }
   ],
   "source": [
    "list1 = [1, 3, 4, 4, 2, 3]\n",
    "set1 = set(list1)\n",
    "set1"
   ]
  },
  {
   "cell_type": "code",
   "execution_count": 45,
   "id": "bf18381a-91b6-4d51-a63d-b5d4a39a2459",
   "metadata": {},
   "outputs": [],
   "source": [
    "list1 = [1, 3, 4, 4, 2, 3]\n",
    "res1 = []\n",
    "set1 = set(list1)\n",
    "for ele in set1:\n",
    "    result = [ele] * list1.count(ele)\n",
    "    res1.append(result)"
   ]
  },
  {
   "cell_type": "code",
   "execution_count": 46,
   "id": "208a900c-a2ef-4dcd-bad3-714581b283ad",
   "metadata": {},
   "outputs": [
    {
     "data": {
      "text/plain": [
       "[[1], [2], [3, 3], [4, 4]]"
      ]
     },
     "execution_count": 46,
     "metadata": {},
     "output_type": "execute_result"
    }
   ],
   "source": [
    "res1"
   ]
  },
  {
   "cell_type": "code",
   "execution_count": 49,
   "id": "1a617901-35c8-4779-a998-2c7d2b437832",
   "metadata": {},
   "outputs": [],
   "source": [
    "from collections import Counter\n",
    "temp = Counter(list1)\n",
    "res1 = [[key]*temp[key] for key in temp]"
   ]
  },
  {
   "cell_type": "code",
   "execution_count": 50,
   "id": "3f184a81-f4bc-4845-bdbe-f4bd2e76116e",
   "metadata": {},
   "outputs": [
    {
     "data": {
      "text/plain": [
       "Counter({3: 2, 4: 2, 1: 1, 2: 1})"
      ]
     },
     "execution_count": 50,
     "metadata": {},
     "output_type": "execute_result"
    }
   ],
   "source": [
    "temp"
   ]
  },
  {
   "cell_type": "code",
   "execution_count": 51,
   "id": "036bd9f3-7b7c-44ad-bb23-25bf2df69b0c",
   "metadata": {},
   "outputs": [
    {
     "data": {
      "text/plain": [
       "[[1], [3, 3], [4, 4], [2]]"
      ]
     },
     "execution_count": 51,
     "metadata": {},
     "output_type": "execute_result"
    }
   ],
   "source": [
    "res1"
   ]
  },
  {
   "cell_type": "code",
   "execution_count": 69,
   "id": "47837c21-1641-4a28-9a52-a81cee06bcc6",
   "metadata": {},
   "outputs": [
    {
     "name": "stdout",
     "output_type": "stream",
     "text": [
      "2\n"
     ]
    }
   ],
   "source": [
    "list2 = [[('Gfg', 3)], [('best', 1)]] \n",
    "cus_eles = [1, 2]\n",
    "print(len(list2))\n",
    "for i in range(len(list2)):\n",
    "    list2[i][0] = list(list2[i][0])\n",
    "    list2[i][0].append(cus_eles[i])\n",
    "    list2[i][0] = tuple(list2[i][0])"
   ]
  },
  {
   "cell_type": "code",
   "execution_count": 70,
   "id": "fdb206e4-04d0-4a0d-aa02-cc05406622b1",
   "metadata": {},
   "outputs": [
    {
     "data": {
      "text/plain": [
       "[[('Gfg', 3, 1)], [('best', 1, 2)]]"
      ]
     },
     "execution_count": 70,
     "metadata": {},
     "output_type": "execute_result"
    }
   ],
   "source": [
    "list2"
   ]
  },
  {
   "cell_type": "code",
   "execution_count": 71,
   "id": "07346921-0659-4e4e-a8ee-544d77ccd61a",
   "metadata": {},
   "outputs": [
    {
     "data": {
      "text/plain": [
       "[[('Gfg', 3, 1)], [('best', 1, 2)]]"
      ]
     },
     "execution_count": 71,
     "metadata": {},
     "output_type": "execute_result"
    }
   ],
   "source": [
    "list3 = [[('Gfg', 3)], [('best', 1)]] \n",
    "res3 = [[sub + (cus_eles[idx], ) for sub in val] for idx, val in enumerate(list3)]\n",
    "res3"
   ]
  },
  {
   "cell_type": "markdown",
   "id": "fd8aae8f-c12d-4ef6-86e6-48fd27bec42d",
   "metadata": {},
   "source": [
    "# The sum of opposite corner elements as even"
   ]
  },
  {
   "cell_type": "code",
   "execution_count": 95,
   "id": "103dbabf-cf80-4d5c-832d-e9da3edf3aba",
   "metadata": {},
   "outputs": [
    {
     "name": "stdin",
     "output_type": "stream",
     "text": [
      "Enter Value for N : 6\n"
     ]
    },
    {
     "data": {
      "text/plain": [
       "[[1, 2, 3, 4, 5, 6],\n",
       " [12, 11, 10, 9, 8, 7],\n",
       " [13, 14, 15, 16, 17, 18],\n",
       " [24, 23, 22, 21, 20, 19],\n",
       " [25, 26, 27, 28, 29, 30],\n",
       " [36, 35, 34, 33, 32, 31]]"
      ]
     },
     "execution_count": 95,
     "metadata": {},
     "output_type": "execute_result"
    }
   ],
   "source": [
    "import itertools\n",
    "temp = itertools.count(1)\n",
    "n = int(input(\"Enter Value for N :\"))\n",
    "list4 = [[next(temp) for i in range(n)] for i in range(n)]\n",
    "if n%2 == 0:\n",
    "    for i in range(len(list4)):\n",
    "        if i%2 == 1:\n",
    "            list4[i][:] = list4[i][::-1]\n",
    "list4"
   ]
  },
  {
   "cell_type": "code",
   "execution_count": null,
   "id": "95646eb5-1d39-447d-8534-1b101021877d",
   "metadata": {},
   "outputs": [],
   "source": []
  },
  {
   "cell_type": "code",
   "execution_count": null,
   "id": "def52534-bb1a-4018-a35b-9e293c7ffe77",
   "metadata": {},
   "outputs": [],
   "source": []
  },
  {
   "cell_type": "code",
   "execution_count": null,
   "id": "5af079c4-3b7d-4b6f-8f4d-a7c2443c26bf",
   "metadata": {},
   "outputs": [],
   "source": []
  },
  {
   "cell_type": "code",
   "execution_count": null,
   "id": "f0816422-8ae6-4cea-ade0-4eb0c273b608",
   "metadata": {},
   "outputs": [],
   "source": []
  }
 ],
 "metadata": {
  "kernelspec": {
   "display_name": "Python 3 (ipykernel)",
   "language": "python",
   "name": "python3"
  },
  "language_info": {
   "codemirror_mode": {
    "name": "ipython",
    "version": 3
   },
   "file_extension": ".py",
   "mimetype": "text/x-python",
   "name": "python",
   "nbconvert_exporter": "python",
   "pygments_lexer": "ipython3",
   "version": "3.12.7"
  }
 },
 "nbformat": 4,
 "nbformat_minor": 5
}
