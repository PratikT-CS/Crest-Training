{
 "cells": [
  {
   "cell_type": "markdown",
   "id": "df9086d3-d4ee-44b4-97fc-04e3f9c4281a",
   "metadata": {},
   "source": [
    "# Getting File Size"
   ]
  },
  {
   "cell_type": "code",
   "execution_count": 23,
   "id": "3188833d-13d9-4df2-946c-49e45cb5ef95",
   "metadata": {},
   "outputs": [],
   "source": [
    "import os\n",
    "from collections import Counter"
   ]
  },
  {
   "cell_type": "code",
   "execution_count": 5,
   "id": "58d6c3c6-899a-4c9d-91d1-9a8e5cfa3051",
   "metadata": {},
   "outputs": [],
   "source": [
    "size = os.path.getsize(\"File Handling Exercise.ipynb\")"
   ]
  },
  {
   "cell_type": "code",
   "execution_count": 6,
   "id": "2ceeb6c8-3465-4ef0-8b11-23de07c0f0e2",
   "metadata": {},
   "outputs": [
    {
     "data": {
      "text/plain": [
       "826"
      ]
     },
     "execution_count": 6,
     "metadata": {},
     "output_type": "execute_result"
    }
   ],
   "source": [
    "size"
   ]
  },
  {
   "cell_type": "markdown",
   "id": "7405754f-21c2-4ae2-a7ce-7ea40aa51892",
   "metadata": {},
   "source": [
    "# Writing in File"
   ]
  },
  {
   "cell_type": "code",
   "execution_count": 9,
   "id": "81d5215d-ce61-466b-a517-8bc238c529a7",
   "metadata": {},
   "outputs": [],
   "source": [
    "with open(\"test.txt\", \"r+\") as f:\n",
    "    f.write(\"Hello\")"
   ]
  },
  {
   "cell_type": "markdown",
   "id": "5d8bf733-780e-4e98-889e-440acda110c1",
   "metadata": {},
   "source": [
    "# Reading from File"
   ]
  },
  {
   "cell_type": "code",
   "execution_count": 10,
   "id": "5e6d6761-3839-4dbc-a907-2f73c981bf73",
   "metadata": {},
   "outputs": [],
   "source": [
    "with open(\"test.txt\", \"r\") as f:\n",
    "    text = f.read()"
   ]
  },
  {
   "cell_type": "code",
   "execution_count": 11,
   "id": "a13e23ab-ea63-4dc4-bd29-2da4627ac8cf",
   "metadata": {},
   "outputs": [
    {
     "data": {
      "text/plain": [
       "'Hello'"
      ]
     },
     "execution_count": 11,
     "metadata": {},
     "output_type": "execute_result"
    }
   ],
   "source": [
    "text"
   ]
  },
  {
   "cell_type": "code",
   "execution_count": 12,
   "id": "bdcfd952-e2c4-43e8-9efe-d484a4fd3dbc",
   "metadata": {},
   "outputs": [
    {
     "data": {
      "text/plain": [
       "5"
      ]
     },
     "execution_count": 12,
     "metadata": {},
     "output_type": "execute_result"
    }
   ],
   "source": [
    "os.path.getsize(\"test.txt\")"
   ]
  },
  {
   "cell_type": "markdown",
   "id": "a5718968-5ec4-48d8-86b0-58a31e768ed1",
   "metadata": {},
   "source": [
    "# Find the most repeated word in a text file "
   ]
  },
  {
   "cell_type": "code",
   "execution_count": 14,
   "id": "3b87833a-5a5c-4cc7-81af-3f1fd1b81434",
   "metadata": {},
   "outputs": [],
   "source": [
    "with open(\"test.txt\", \"r+\") as f:\n",
    "    f.write(\"\"\"Lorem ipsum odor amet, consectetuer adipiscing elit. Porta parturient eu mattis aenean habitasse elit tincidunt. Dignissim ante parturient at posuere torquent. Interdum libero massa sollicitudin et donec. Venenatis netus himenaeos cubilia purus massa adipiscing fames. Platea maximus ipsum efficitur interdum fringilla. Mi nisi mauris faucibus convallis montes felis vivamus. Praesent tincidunt fames maecenas cubilia nam nulla maecenas class posuere.\n",
    "\n",
    "Senectus rutrum congue sed, ligula auctor sociosqu urna. Consectetur posuere sem potenti semper efficitur urna vulputate. Dignissim volutpat sodales cursus natoque ultricies. Habitasse maximus tristique torquent proin morbi dictumst dignissim fames. Ipsum volutpat magnis non accumsan curae ultrices elit erat rutrum. Augue purus inceptos vulputate risus lobortis eu imperdiet venenatis. Ac lobortis scelerisque risus diam elementum dapibus pharetra. Non aptent vitae himenaeos, mollis eu mattis fringilla rhoncus. Et congue accumsan imperdiet diam cubilia.\n",
    "\n",
    "Montes fringilla ut ullamcorper commodo turpis ligula nascetur massa vehicula. Urna facilisi ultricies auctor elit interdum penatibus luctus. Commodo aenean taciti dolor rhoncus parturient ligula nibh torquent. Purus rhoncus vulputate per cras amet varius porta adipiscing. Montes amet elit platea hac eleifend tempus. Placerat blandit odio facilisis etiam pulvinar ante. Ex platea tempor vulputate habitasse lacinia justo sit nibh. Mi sagittis dui senectus lobortis ridiculus praesent. Habitant nec phasellus tellus cras sagittis sagittis vestibulum sollicitudin molestie. Ante vestibulum mollis mattis platea rutrum.\n",
    "\n",
    "Purus senectus cras mattis tempus ut malesuada ac nibh. Laoreet consequat vel primis interdum dictumst vivamus. Torquent fames sagittis at, ante volutpat efficitur curae mi ultrices. Ipsum gravida condimentum lacinia diam maximus aliquam mus. Ad malesuada lectus velit; risus pulvinar bibendum. Turpis habitant ullamcorper dis parturient habitasse cras non quam praesent. Diam torquent rutrum eros parturient, lacinia velit dignissim. Semper magna volutpat taciti massa tempor elementum senectus eleifend.\n",
    "\n",
    "Suspendisse malesuada libero vehicula risus augue turpis congue? Mattis ex magnis id lorem, cursus facilisi aptent. Rhoncus natoque venenatis elementum curabitur proin libero. Praesent eros erat fames in integer maximus at. Leo etiam magnis fusce ad hendrerit tempor ridiculus? Augue elementum commodo; vestibulum porttitor nec sodales inceptos montes. Accumsan euismod mauris facilisi aliquet scelerisque fusce. Dui maximus fames condimentum rutrum curae efficitur fringilla imperdiet himenaeos. In senectus netus adipiscing est finibus maximus cursus. Vitae turpis pharetra porttitor scelerisque platea cursus.\"\"\")"
   ]
  },
  {
   "cell_type": "code",
   "execution_count": 16,
   "id": "063fea73-a2ff-4a2d-8bc2-01b7261ab7ed",
   "metadata": {},
   "outputs": [],
   "source": [
    "with open(\"test.txt\", \"r\") as f:\n",
    "    text = f.read()"
   ]
  },
  {
   "cell_type": "code",
   "execution_count": 37,
   "id": "12caefdc-3e6c-407f-88da-fc25e4b8458f",
   "metadata": {},
   "outputs": [
    {
     "name": "stdout",
     "output_type": "stream",
     "text": [
      "Lorem ipsum odor amet, consectetuer adipiscing elit. Porta parturient eu mattis aenean habitasse elit tincidunt. Dignissim ante parturient at posuere torquent. Interdum libero massa sollicitudin et donec. Venenatis netus himenaeos cubilia purus massa adipiscing fames. Platea maximus ipsum efficitur interdum fringilla. Mi nisi mauris faucibus convallis montes felis vivamus. Praesent tincidunt fames maecenas cubilia nam nulla maecenas class posuere.\n",
      "\n",
      "Senectus rutrum congue sed, ligula auctor sociosqu urna. Consectetur posuere sem potenti semper efficitur urna vulputate. Dignissim volutpat sodales cursus natoque ultricies. Habitasse maximus tristique torquent proin morbi dictumst dignissim fames. Ipsum volutpat magnis non accumsan curae ultrices elit erat rutrum. Augue purus inceptos vulputate risus lobortis eu imperdiet venenatis. Ac lobortis scelerisque risus diam elementum dapibus pharetra. Non aptent vitae himenaeos, mollis eu mattis fringilla rhoncus. Et congue accumsan imperdiet diam cubilia.\n",
      "\n",
      "Montes fringilla ut ullamcorper commodo turpis ligula nascetur massa vehicula. Urna facilisi ultricies auctor elit interdum penatibus luctus. Commodo aenean taciti dolor rhoncus parturient ligula nibh torquent. Purus rhoncus vulputate per cras amet varius porta adipiscing. Montes amet elit platea hac eleifend tempus. Placerat blandit odio facilisis etiam pulvinar ante. Ex platea tempor vulputate habitasse lacinia justo sit nibh. Mi sagittis dui senectus lobortis ridiculus praesent. Habitant nec phasellus tellus cras sagittis sagittis vestibulum sollicitudin molestie. Ante vestibulum mollis mattis platea rutrum.\n",
      "\n",
      "Purus senectus cras mattis tempus ut malesuada ac nibh. Laoreet consequat vel primis interdum dictumst vivamus. Torquent fames sagittis at, ante volutpat efficitur curae mi ultrices. Ipsum gravida condimentum lacinia diam maximus aliquam mus. Ad malesuada lectus velit; risus pulvinar bibendum. Turpis habitant ullamcorper dis parturient habitasse cras non quam praesent. Diam torquent rutrum eros parturient, lacinia velit dignissim. Semper magna volutpat taciti massa tempor elementum senectus eleifend.\n",
      "\n",
      "Suspendisse malesuada libero vehicula risus augue turpis congue? Mattis ex magnis id lorem, cursus facilisi aptent. Rhoncus natoque venenatis elementum curabitur proin libero. Praesent eros erat fames in integer maximus at. Leo etiam magnis fusce ad hendrerit tempor ridiculus? Augue elementum commodo; vestibulum porttitor nec sodales inceptos montes. Accumsan euismod mauris facilisi aliquet scelerisque fusce. Dui maximus fames condimentum rutrum curae efficitur fringilla imperdiet himenaeos. In senectus netus adipiscing est finibus maximus cursus. Vitae turpis pharetra porttitor scelerisque platea cursus.\n"
     ]
    }
   ],
   "source": [
    "print(text)"
   ]
  },
  {
   "cell_type": "code",
   "execution_count": 21,
   "id": "a9504f83-f2a0-494e-a090-6be1426cff5e",
   "metadata": {},
   "outputs": [],
   "source": [
    "words_list = text.lower().replace(',','').replace('.','').split()"
   ]
  },
  {
   "cell_type": "code",
   "execution_count": 38,
   "id": "21020ff8-a0c2-405e-a554-5364168c5956",
   "metadata": {},
   "outputs": [
    {
     "name": "stdout",
     "output_type": "stream",
     "text": [
      "['lorem', 'ipsum', 'odor', 'amet', 'consectetuer', 'adipiscing', 'elit', 'porta', 'parturient', 'eu', 'mattis', 'aenean', 'habitasse', 'elit', 'tincidunt', 'dignissim', 'ante', 'parturient', 'at', 'posuere', 'torquent', 'interdum', 'libero', 'massa', 'sollicitudin', 'et', 'donec', 'venenatis', 'netus', 'himenaeos', 'cubilia', 'purus', 'massa', 'adipiscing', 'fames', 'platea', 'maximus', 'ipsum', 'efficitur', 'interdum', 'fringilla', 'mi', 'nisi', 'mauris', 'faucibus', 'convallis', 'montes', 'felis', 'vivamus', 'praesent', 'tincidunt', 'fames', 'maecenas', 'cubilia', 'nam', 'nulla', 'maecenas', 'class', 'posuere', 'senectus', 'rutrum', 'congue', 'sed', 'ligula', 'auctor', 'sociosqu', 'urna', 'consectetur', 'posuere', 'sem', 'potenti', 'semper', 'efficitur', 'urna', 'vulputate', 'dignissim', 'volutpat', 'sodales', 'cursus', 'natoque', 'ultricies', 'habitasse', 'maximus', 'tristique', 'torquent', 'proin', 'morbi', 'dictumst', 'dignissim', 'fames', 'ipsum', 'volutpat', 'magnis', 'non', 'accumsan', 'curae', 'ultrices', 'elit', 'erat', 'rutrum', 'augue', 'purus', 'inceptos', 'vulputate', 'risus', 'lobortis', 'eu', 'imperdiet', 'venenatis', 'ac', 'lobortis', 'scelerisque', 'risus', 'diam', 'elementum', 'dapibus', 'pharetra', 'non', 'aptent', 'vitae', 'himenaeos', 'mollis', 'eu', 'mattis', 'fringilla', 'rhoncus', 'et', 'congue', 'accumsan', 'imperdiet', 'diam', 'cubilia', 'montes', 'fringilla', 'ut', 'ullamcorper', 'commodo', 'turpis', 'ligula', 'nascetur', 'massa', 'vehicula', 'urna', 'facilisi', 'ultricies', 'auctor', 'elit', 'interdum', 'penatibus', 'luctus', 'commodo', 'aenean', 'taciti', 'dolor', 'rhoncus', 'parturient', 'ligula', 'nibh', 'torquent', 'purus', 'rhoncus', 'vulputate', 'per', 'cras', 'amet', 'varius', 'porta', 'adipiscing', 'montes', 'amet', 'elit', 'platea', 'hac', 'eleifend', 'tempus', 'placerat', 'blandit', 'odio', 'facilisis', 'etiam', 'pulvinar', 'ante', 'ex', 'platea', 'tempor', 'vulputate', 'habitasse', 'lacinia', 'justo', 'sit', 'nibh', 'mi', 'sagittis', 'dui', 'senectus', 'lobortis', 'ridiculus', 'praesent', 'habitant', 'nec', 'phasellus', 'tellus', 'cras', 'sagittis', 'sagittis', 'vestibulum', 'sollicitudin', 'molestie', 'ante', 'vestibulum', 'mollis', 'mattis', 'platea', 'rutrum', 'purus', 'senectus', 'cras', 'mattis', 'tempus', 'ut', 'malesuada', 'ac', 'nibh', 'laoreet', 'consequat', 'vel', 'primis', 'interdum', 'dictumst', 'vivamus', 'torquent', 'fames', 'sagittis', 'at', 'ante', 'volutpat', 'efficitur', 'curae', 'mi', 'ultrices', 'ipsum', 'gravida', 'condimentum', 'lacinia', 'diam', 'maximus', 'aliquam', 'mus', 'ad', 'malesuada', 'lectus', 'velit;', 'risus', 'pulvinar', 'bibendum', 'turpis', 'habitant', 'ullamcorper', 'dis', 'parturient', 'habitasse', 'cras', 'non', 'quam', 'praesent', 'diam', 'torquent', 'rutrum', 'eros', 'parturient', 'lacinia', 'velit', 'dignissim', 'semper', 'magna', 'volutpat', 'taciti', 'massa', 'tempor', 'elementum', 'senectus', 'eleifend', 'suspendisse', 'malesuada', 'libero', 'vehicula', 'risus', 'augue', 'turpis', 'congue?', 'mattis', 'ex', 'magnis', 'id', 'lorem', 'cursus', 'facilisi', 'aptent', 'rhoncus', 'natoque', 'venenatis', 'elementum', 'curabitur', 'proin', 'libero', 'praesent', 'eros', 'erat', 'fames', 'in', 'integer', 'maximus', 'at', 'leo', 'etiam', 'magnis', 'fusce', 'ad', 'hendrerit', 'tempor', 'ridiculus?', 'augue', 'elementum', 'commodo;', 'vestibulum', 'porttitor', 'nec', 'sodales', 'inceptos', 'montes', 'accumsan', 'euismod', 'mauris', 'facilisi', 'aliquet', 'scelerisque', 'fusce', 'dui', 'maximus', 'fames', 'condimentum', 'rutrum', 'curae', 'efficitur', 'fringilla', 'imperdiet', 'himenaeos', 'in', 'senectus', 'netus', 'adipiscing', 'est', 'finibus', 'maximus', 'cursus', 'vitae', 'turpis', 'pharetra', 'porttitor', 'scelerisque', 'platea', 'cursus']\n"
     ]
    }
   ],
   "source": [
    "print(words_list)"
   ]
  },
  {
   "cell_type": "code",
   "execution_count": 24,
   "id": "b1b05156-80f3-4fe8-b9b4-bfea3aef274d",
   "metadata": {},
   "outputs": [],
   "source": [
    "word_dict = Counter(words_list)"
   ]
  },
  {
   "cell_type": "code",
   "execution_count": 27,
   "id": "7d1f77ee-1b80-497b-a973-bf37b6e197f1",
   "metadata": {
    "scrolled": true
   },
   "outputs": [
    {
     "data": {
      "text/plain": [
       "Counter({'fames': 6,\n",
       "         'maximus': 6,\n",
       "         'elit': 5,\n",
       "         'parturient': 5,\n",
       "         'mattis': 5,\n",
       "         'torquent': 5,\n",
       "         'platea': 5,\n",
       "         'senectus': 5,\n",
       "         'rutrum': 5,\n",
       "         'ipsum': 4,\n",
       "         'adipiscing': 4,\n",
       "         'habitasse': 4,\n",
       "         'dignissim': 4,\n",
       "         'ante': 4,\n",
       "         'interdum': 4,\n",
       "         'massa': 4,\n",
       "         'purus': 4,\n",
       "         'efficitur': 4,\n",
       "         'fringilla': 4,\n",
       "         'montes': 4,\n",
       "         'praesent': 4,\n",
       "         'vulputate': 4,\n",
       "         'volutpat': 4,\n",
       "         'cursus': 4,\n",
       "         'risus': 4,\n",
       "         'diam': 4,\n",
       "         'elementum': 4,\n",
       "         'rhoncus': 4,\n",
       "         'turpis': 4,\n",
       "         'cras': 4,\n",
       "         'sagittis': 4,\n",
       "         'amet': 3,\n",
       "         'eu': 3,\n",
       "         'at': 3,\n",
       "         'posuere': 3,\n",
       "         'libero': 3,\n",
       "         'venenatis': 3,\n",
       "         'himenaeos': 3,\n",
       "         'cubilia': 3,\n",
       "         'mi': 3,\n",
       "         'ligula': 3,\n",
       "         'urna': 3,\n",
       "         'magnis': 3,\n",
       "         'non': 3,\n",
       "         'accumsan': 3,\n",
       "         'curae': 3,\n",
       "         'augue': 3,\n",
       "         'lobortis': 3,\n",
       "         'imperdiet': 3,\n",
       "         'scelerisque': 3,\n",
       "         'facilisi': 3,\n",
       "         'nibh': 3,\n",
       "         'tempor': 3,\n",
       "         'lacinia': 3,\n",
       "         'vestibulum': 3,\n",
       "         'malesuada': 3,\n",
       "         'lorem': 2,\n",
       "         'porta': 2,\n",
       "         'aenean': 2,\n",
       "         'tincidunt': 2,\n",
       "         'sollicitudin': 2,\n",
       "         'et': 2,\n",
       "         'netus': 2,\n",
       "         'mauris': 2,\n",
       "         'vivamus': 2,\n",
       "         'maecenas': 2,\n",
       "         'congue': 2,\n",
       "         'auctor': 2,\n",
       "         'semper': 2,\n",
       "         'sodales': 2,\n",
       "         'natoque': 2,\n",
       "         'ultricies': 2,\n",
       "         'proin': 2,\n",
       "         'dictumst': 2,\n",
       "         'ultrices': 2,\n",
       "         'erat': 2,\n",
       "         'inceptos': 2,\n",
       "         'ac': 2,\n",
       "         'pharetra': 2,\n",
       "         'aptent': 2,\n",
       "         'vitae': 2,\n",
       "         'mollis': 2,\n",
       "         'ut': 2,\n",
       "         'ullamcorper': 2,\n",
       "         'commodo': 2,\n",
       "         'vehicula': 2,\n",
       "         'taciti': 2,\n",
       "         'eleifend': 2,\n",
       "         'tempus': 2,\n",
       "         'etiam': 2,\n",
       "         'pulvinar': 2,\n",
       "         'ex': 2,\n",
       "         'dui': 2,\n",
       "         'habitant': 2,\n",
       "         'nec': 2,\n",
       "         'condimentum': 2,\n",
       "         'ad': 2,\n",
       "         'eros': 2,\n",
       "         'in': 2,\n",
       "         'fusce': 2,\n",
       "         'porttitor': 2,\n",
       "         'odor': 1,\n",
       "         'consectetuer': 1,\n",
       "         'donec': 1,\n",
       "         'nisi': 1,\n",
       "         'faucibus': 1,\n",
       "         'convallis': 1,\n",
       "         'felis': 1,\n",
       "         'nam': 1,\n",
       "         'nulla': 1,\n",
       "         'class': 1,\n",
       "         'sed': 1,\n",
       "         'sociosqu': 1,\n",
       "         'consectetur': 1,\n",
       "         'sem': 1,\n",
       "         'potenti': 1,\n",
       "         'tristique': 1,\n",
       "         'morbi': 1,\n",
       "         'dapibus': 1,\n",
       "         'nascetur': 1,\n",
       "         'penatibus': 1,\n",
       "         'luctus': 1,\n",
       "         'dolor': 1,\n",
       "         'per': 1,\n",
       "         'varius': 1,\n",
       "         'hac': 1,\n",
       "         'placerat': 1,\n",
       "         'blandit': 1,\n",
       "         'odio': 1,\n",
       "         'facilisis': 1,\n",
       "         'justo': 1,\n",
       "         'sit': 1,\n",
       "         'ridiculus': 1,\n",
       "         'phasellus': 1,\n",
       "         'tellus': 1,\n",
       "         'molestie': 1,\n",
       "         'laoreet': 1,\n",
       "         'consequat': 1,\n",
       "         'vel': 1,\n",
       "         'primis': 1,\n",
       "         'gravida': 1,\n",
       "         'aliquam': 1,\n",
       "         'mus': 1,\n",
       "         'lectus': 1,\n",
       "         'velit;': 1,\n",
       "         'bibendum': 1,\n",
       "         'dis': 1,\n",
       "         'quam': 1,\n",
       "         'velit': 1,\n",
       "         'magna': 1,\n",
       "         'suspendisse': 1,\n",
       "         'congue?': 1,\n",
       "         'id': 1,\n",
       "         'curabitur': 1,\n",
       "         'integer': 1,\n",
       "         'leo': 1,\n",
       "         'hendrerit': 1,\n",
       "         'ridiculus?': 1,\n",
       "         'commodo;': 1,\n",
       "         'euismod': 1,\n",
       "         'aliquet': 1,\n",
       "         'est': 1,\n",
       "         'finibus': 1})"
      ]
     },
     "execution_count": 27,
     "metadata": {},
     "output_type": "execute_result"
    }
   ],
   "source": [
    "word_dict"
   ]
  },
  {
   "cell_type": "code",
   "execution_count": 32,
   "id": "343c43de-5e7b-4b19-a71f-eace09c35072",
   "metadata": {},
   "outputs": [],
   "source": [
    "max_cnt = word_dict[max(word_dict, key=word_dict.get)]"
   ]
  },
  {
   "cell_type": "code",
   "execution_count": 33,
   "id": "91423c6e-13e5-4f46-9158-deec5cc051f5",
   "metadata": {},
   "outputs": [
    {
     "data": {
      "text/plain": [
       "6"
      ]
     },
     "execution_count": 33,
     "metadata": {},
     "output_type": "execute_result"
    }
   ],
   "source": [
    "max_cnt"
   ]
  },
  {
   "cell_type": "code",
   "execution_count": 34,
   "id": "2d51b8f8-c676-471b-bff7-d2c229cdd32a",
   "metadata": {},
   "outputs": [],
   "source": [
    "max_words = [word for word, count in word_dict.items() if count == max_cnt]"
   ]
  },
  {
   "cell_type": "code",
   "execution_count": 35,
   "id": "68d8f8ca-c154-48e2-b13e-c95722a2c81f",
   "metadata": {},
   "outputs": [
    {
     "data": {
      "text/plain": [
       "['fames', 'maximus']"
      ]
     },
     "execution_count": 35,
     "metadata": {},
     "output_type": "execute_result"
    }
   ],
   "source": [
    "max_words"
   ]
  },
  {
   "cell_type": "markdown",
   "id": "8f858f10-6ca1-4858-84e9-b6801a239a01",
   "metadata": {},
   "source": [
    "# Reading Specific lines from File"
   ]
  },
  {
   "cell_type": "code",
   "execution_count": 39,
   "id": "473debfa-dc7c-4453-a7fa-8f011a04eb13",
   "metadata": {},
   "outputs": [],
   "source": [
    "with open(\"test.txt\", \"r\") as f:\n",
    "    lines = f.readlines()"
   ]
  },
  {
   "cell_type": "code",
   "execution_count": 42,
   "id": "e17f87b6-d764-459e-b46b-3ea39eaf5394",
   "metadata": {},
   "outputs": [
    {
     "name": "stdout",
     "output_type": "stream",
     "text": [
      "['Lorem ipsum odor amet, consectetuer adipiscing elit. Porta parturient eu mattis aenean habitasse elit tincidunt. Dignissim ante parturient at posuere torquent. Interdum libero massa sollicitudin et donec. Venenatis netus himenaeos cubilia purus massa adipiscing fames. Platea maximus ipsum efficitur interdum fringilla. Mi nisi mauris faucibus convallis montes felis vivamus. Praesent tincidunt fames maecenas cubilia nam nulla maecenas class posuere.\\n', '\\n', 'Senectus rutrum congue sed, ligula auctor sociosqu urna. Consectetur posuere sem potenti semper efficitur urna vulputate. Dignissim volutpat sodales cursus natoque ultricies. Habitasse maximus tristique torquent proin morbi dictumst dignissim fames. Ipsum volutpat magnis non accumsan curae ultrices elit erat rutrum. Augue purus inceptos vulputate risus lobortis eu imperdiet venenatis. Ac lobortis scelerisque risus diam elementum dapibus pharetra. Non aptent vitae himenaeos, mollis eu mattis fringilla rhoncus. Et congue accumsan imperdiet diam cubilia.\\n', '\\n', 'Montes fringilla ut ullamcorper commodo turpis ligula nascetur massa vehicula. Urna facilisi ultricies auctor elit interdum penatibus luctus. Commodo aenean taciti dolor rhoncus parturient ligula nibh torquent. Purus rhoncus vulputate per cras amet varius porta adipiscing. Montes amet elit platea hac eleifend tempus. Placerat blandit odio facilisis etiam pulvinar ante. Ex platea tempor vulputate habitasse lacinia justo sit nibh. Mi sagittis dui senectus lobortis ridiculus praesent. Habitant nec phasellus tellus cras sagittis sagittis vestibulum sollicitudin molestie. Ante vestibulum mollis mattis platea rutrum.\\n', '\\n', 'Purus senectus cras mattis tempus ut malesuada ac nibh. Laoreet consequat vel primis interdum dictumst vivamus. Torquent fames sagittis at, ante volutpat efficitur curae mi ultrices. Ipsum gravida condimentum lacinia diam maximus aliquam mus. Ad malesuada lectus velit; risus pulvinar bibendum. Turpis habitant ullamcorper dis parturient habitasse cras non quam praesent. Diam torquent rutrum eros parturient, lacinia velit dignissim. Semper magna volutpat taciti massa tempor elementum senectus eleifend.\\n', '\\n', 'Suspendisse malesuada libero vehicula risus augue turpis congue? Mattis ex magnis id lorem, cursus facilisi aptent. Rhoncus natoque venenatis elementum curabitur proin libero. Praesent eros erat fames in integer maximus at. Leo etiam magnis fusce ad hendrerit tempor ridiculus? Augue elementum commodo; vestibulum porttitor nec sodales inceptos montes. Accumsan euismod mauris facilisi aliquet scelerisque fusce. Dui maximus fames condimentum rutrum curae efficitur fringilla imperdiet himenaeos. In senectus netus adipiscing est finibus maximus cursus. Vitae turpis pharetra porttitor scelerisque platea cursus.']\n"
     ]
    }
   ],
   "source": [
    "print(lines)"
   ]
  },
  {
   "cell_type": "code",
   "execution_count": 43,
   "id": "3cdefe7e-137c-43be-a809-41beee7f7a3a",
   "metadata": {},
   "outputs": [
    {
     "name": "stdout",
     "output_type": "stream",
     "text": [
      "Lorem ipsum odor amet, consectetuer adipiscing elit. Porta parturient eu mattis aenean habitasse elit tincidunt. Dignissim ante parturient at posuere torquent. Interdum libero massa sollicitudin et donec. Venenatis netus himenaeos cubilia purus massa adipiscing fames. Platea maximus ipsum efficitur interdum fringilla. Mi nisi mauris faucibus convallis montes felis vivamus. Praesent tincidunt fames maecenas cubilia nam nulla maecenas class posuere.\n",
      "\n"
     ]
    }
   ],
   "source": [
    "print(lines[0])"
   ]
  },
  {
   "cell_type": "code",
   "execution_count": null,
   "id": "f13179bd-9467-4b05-866e-bb425240079d",
   "metadata": {},
   "outputs": [],
   "source": []
  }
 ],
 "metadata": {
  "kernelspec": {
   "display_name": "Python 3 (ipykernel)",
   "language": "python",
   "name": "python3"
  },
  "language_info": {
   "codemirror_mode": {
    "name": "ipython",
    "version": 3
   },
   "file_extension": ".py",
   "mimetype": "text/x-python",
   "name": "python",
   "nbconvert_exporter": "python",
   "pygments_lexer": "ipython3",
   "version": "3.12.7"
  }
 },
 "nbformat": 4,
 "nbformat_minor": 5
}
