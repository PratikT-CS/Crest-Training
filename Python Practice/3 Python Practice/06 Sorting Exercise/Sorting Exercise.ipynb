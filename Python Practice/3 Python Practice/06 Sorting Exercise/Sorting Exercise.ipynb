{
 "cells": [
  {
   "cell_type": "markdown",
   "id": "18f2faa7-adc0-4334-86d7-41d6c4792032",
   "metadata": {},
   "source": [
    "# Bubble Sort"
   ]
  },
  {
   "cell_type": "code",
   "execution_count": 1,
   "id": "afe87354-6888-4dd3-8982-f83b104714e4",
   "metadata": {},
   "outputs": [],
   "source": [
    "def bubble(arr):\n",
    "    n = len(arr)\n",
    "    for i in range(n):\n",
    "        for j in range(n-i-1):\n",
    "            if arr[j] > arr[j+1]:\n",
    "                arr[j], arr[j+1] = arr[j+1], arr[j]\n",
    "    return arr"
   ]
  },
  {
   "cell_type": "code",
   "execution_count": 2,
   "id": "f4d1b34c-bf73-484c-8512-a14eba469880",
   "metadata": {},
   "outputs": [
    {
     "data": {
      "text/plain": [
       "[2, 3, 4, 6, 8]"
      ]
     },
     "execution_count": 2,
     "metadata": {},
     "output_type": "execute_result"
    }
   ],
   "source": [
    "bubble([2, 8, 3, 4, 6])"
   ]
  },
  {
   "cell_type": "markdown",
   "id": "075443a6-17da-4fee-8dff-82b5205e7e30",
   "metadata": {},
   "source": [
    "## Selection Sort"
   ]
  },
  {
   "cell_type": "code",
   "execution_count": 9,
   "id": "a283ede1-6460-4230-9345-d19fec71d217",
   "metadata": {},
   "outputs": [],
   "source": [
    "def selection(arr):\n",
    "    n = len(arr)\n",
    "    for i in range(n):\n",
    "        min_idx = i\n",
    "        \n",
    "        for j in range(i + 1, n):\n",
    "            if arr[j] < arr[min_idx]:\n",
    "                min_idx = j\n",
    "\n",
    "        (arr[i], arr[min_idx]) = (arr[min_idx], arr[i])\n",
    "    return arr"
   ]
  },
  {
   "cell_type": "code",
   "execution_count": 10,
   "id": "753ddc00-db62-4583-b7df-165a46e3bcb5",
   "metadata": {},
   "outputs": [
    {
     "data": {
      "text/plain": [
       "[2, 3, 4, 6, 8]"
      ]
     },
     "execution_count": 10,
     "metadata": {},
     "output_type": "execute_result"
    }
   ],
   "source": [
    "selection([2, 8, 3, 4, 6])"
   ]
  },
  {
   "cell_type": "markdown",
   "id": "f5093818-7e9e-4e17-882a-358fb6d53060",
   "metadata": {},
   "source": [
    "## Insertion Sort"
   ]
  },
  {
   "cell_type": "code",
   "execution_count": 11,
   "id": "2d0998ea-dc96-4f79-b6b6-cae60a7a5cb3",
   "metadata": {},
   "outputs": [],
   "source": [
    "def insertion(arr):  \n",
    "    n = len(arr)\n",
    "    for i in range(1, n):  \n",
    "        a = arr[i]  \n",
    "        j = i - 1  \n",
    "      \n",
    "        while j >= 0 and a < arr[j]:  \n",
    "            arr[j + 1] = arr[j]  \n",
    "            j -= 1  \n",
    "            \n",
    "        arr[j + 1] = a  \n",
    "        \n",
    "    return arr "
   ]
  },
  {
   "cell_type": "code",
   "execution_count": 12,
   "id": "c79affac-0f70-427a-98ed-3de4fe5c3680",
   "metadata": {},
   "outputs": [
    {
     "data": {
      "text/plain": [
       "[2, 3, 4, 6, 8]"
      ]
     },
     "execution_count": 12,
     "metadata": {},
     "output_type": "execute_result"
    }
   ],
   "source": [
    "insertion([2, 8, 3, 4, 6])"
   ]
  },
  {
   "cell_type": "code",
   "execution_count": 21,
   "id": "1aae96c7-22f1-45cf-97f7-3b1148368855",
   "metadata": {},
   "outputs": [
    {
     "name": "stdout",
     "output_type": "stream",
     "text": [
      "['p', 'r', 'a', 't', 'i', 'k']\n"
     ]
    }
   ],
   "source": [
    "txt = \"pratik\"\n",
    "print(list(txt))"
   ]
  },
  {
   "cell_type": "code",
   "execution_count": 20,
   "id": "a9699731-8e33-4d70-9fd3-bef08e713205",
   "metadata": {},
   "outputs": [
    {
     "data": {
      "text/plain": [
       "['a', 'i', 'k', 'p', 'r', 't']"
      ]
     },
     "execution_count": 20,
     "metadata": {},
     "output_type": "execute_result"
    }
   ],
   "source": [
    "bubble(list(txt))"
   ]
  },
  {
   "cell_type": "code",
   "execution_count": 24,
   "id": "9d7abc91-fc1e-4711-b1fc-86f2742cffa4",
   "metadata": {},
   "outputs": [
    {
     "data": {
      "text/plain": [
       "'aikprt'"
      ]
     },
     "execution_count": 24,
     "metadata": {},
     "output_type": "execute_result"
    }
   ],
   "source": [
    "arr = list(txt)\n",
    "\"\".join(sorted(arr))"
   ]
  },
  {
   "cell_type": "markdown",
   "id": "15ae7f85-ab5b-4365-9bed-f739154da329",
   "metadata": {},
   "source": [
    "# Sort a String"
   ]
  },
  {
   "cell_type": "code",
   "execution_count": null,
   "id": "7a4e9ac0-97f4-4d71-af22-bff9bd270cc7",
   "metadata": {},
   "outputs": [],
   "source": [
    "def sort(self, s): \n",
    "    #code here\n",
    "    return \"\".join(sorted(s))"
   ]
  },
  {
   "cell_type": "markdown",
   "id": "0bfaac06-d08b-4a54-adcb-c15f5a33d5a9",
   "metadata": {},
   "source": [
    "# Counting Sort"
   ]
  },
  {
   "cell_type": "code",
   "execution_count": null,
   "id": "fccb06ba-d9aa-4a6b-825d-5ac3d96271a5",
   "metadata": {},
   "outputs": [],
   "source": [
    "def countSort(self,arr):\n",
    "    # code here\n",
    "    ans = \"\"\n",
    "    cnt = [0] * 26\n",
    "    for i in arr:\n",
    "        cnt[ord(i) - ord('a')] += 1\n",
    "    i = 0\n",
    "    for freq in cnt:\n",
    "        ans = ans + freq * chr(i + ord('a'))\n",
    "        i = i + 1\n",
    "    return ans"
   ]
  },
  {
   "cell_type": "markdown",
   "id": "83f12ae0-e358-43e6-922b-933ba368d9aa",
   "metadata": {},
   "source": [
    "# Topological Sort"
   ]
  },
  {
   "cell_type": "code",
   "execution_count": null,
   "id": "3b9ede61-38b3-48b8-861d-472acccfc5b9",
   "metadata": {},
   "outputs": [],
   "source": [
    "    def topologicalSort(self,adj):\n",
    "        # Code here\n",
    "        n = len(adj)\n",
    "        \n",
    "        def dfs(node):\n",
    "            visit[node] = True\n",
    "            for nei in adj[node]:\n",
    "                if not visit[nei]:\n",
    "                    dfs(nei)\n",
    "            stack.append(node)\n",
    "        \n",
    "        visit = [False] * n\n",
    "        stack = []\n",
    "        \n",
    "        for i in range(n):\n",
    "            if not visit[i]:\n",
    "                dfs(i)\n",
    "        \n",
    "        return stack[::-1]"
   ]
  },
  {
   "cell_type": "markdown",
   "id": "ab588f70-34ff-4bff-9a78-0b9b1cd0501f",
   "metadata": {},
   "source": [
    "# Quick Sort"
   ]
  },
  {
   "cell_type": "code",
   "execution_count": 28,
   "id": "3de34f50-6864-4b4e-aac5-616dc0407ca5",
   "metadata": {},
   "outputs": [],
   "source": [
    "def partition(array, low, high):\n",
    "    pivot = array[high]\n",
    "    i = low - 1\n",
    "\n",
    "    for j in range(low, high):\n",
    "        if array[j] <= pivot:\n",
    "            i = i + 1\n",
    "            (array[i], array[j]) = (array[j], array[i])\n",
    "\n",
    "    (array[i + 1], array[high]) = (array[high], array[i + 1])\n",
    "    return i + 1\n",
    "\n",
    "def quickSort(array, low, high):\n",
    "    if low < high:\n",
    "        pi = partition(array, low, high)\n",
    "        quickSort(array, low, pi - 1)\n",
    "        quickSort(array, pi + 1, high)\n",
    "    \n",
    "    return array"
   ]
  },
  {
   "cell_type": "code",
   "execution_count": 29,
   "id": "57159aec-0bb7-4527-8503-77374dcf1c84",
   "metadata": {},
   "outputs": [
    {
     "data": {
      "text/plain": [
       "[2, 3, 4, 6, 8]"
      ]
     },
     "execution_count": 29,
     "metadata": {},
     "output_type": "execute_result"
    }
   ],
   "source": [
    "quickSort([2, 8, 3, 4, 6], 0, 4)"
   ]
  },
  {
   "cell_type": "markdown",
   "id": "9ef77007-cc6c-4c38-a69a-6baafa3eb8ad",
   "metadata": {},
   "source": [
    "# Heap Sort"
   ]
  },
  {
   "cell_type": "code",
   "execution_count": 31,
   "id": "90cecbcd-3408-458d-8e1b-7b9b55f66e06",
   "metadata": {},
   "outputs": [],
   "source": [
    "def heapify(arr, n, i):\n",
    "    largest = i\n",
    "    l = 2 * i + 1\n",
    "    r = 2 * i + 2\n",
    "\n",
    "    if l < n and arr[i] < arr[l]:\n",
    "        largest = l\n",
    "\n",
    "    if r < n and arr[largest] < arr[r]:\n",
    "        largest = r\n",
    "\n",
    "    if largest != i:\n",
    "        (arr[i], arr[largest]) = (arr[largest], arr[i])\n",
    "        heapify(arr, n, largest)\n",
    "\n",
    "def heap(arr):\n",
    "    n = len(arr)\n",
    "\n",
    "    for i in range(n // 2, -1, -1):\n",
    "        heapify(arr, n, i)\n",
    "\n",
    "    for i in range(n - 1, 0, -1):\n",
    "        (arr[i], arr[0]) = (arr[0], arr[i])\n",
    "        heapify(arr, i, 0)\n",
    "\n",
    "    return arr"
   ]
  },
  {
   "cell_type": "code",
   "execution_count": 32,
   "id": "fb4e398c-33ab-413e-871c-d9d0a82f8a80",
   "metadata": {},
   "outputs": [
    {
     "data": {
      "text/plain": [
       "[2, 3, 4, 6, 8]"
      ]
     },
     "execution_count": 32,
     "metadata": {},
     "output_type": "execute_result"
    }
   ],
   "source": [
    "heap([2, 8, 3, 4, 6])"
   ]
  },
  {
   "cell_type": "code",
   "execution_count": null,
   "id": "d3acea72-f9b4-4b53-95e2-9dce0da4daf1",
   "metadata": {},
   "outputs": [],
   "source": []
  },
  {
   "cell_type": "code",
   "execution_count": null,
   "id": "b763230b-ab3a-4010-b1aa-f93dc2c40be0",
   "metadata": {},
   "outputs": [],
   "source": []
  }
 ],
 "metadata": {
  "kernelspec": {
   "display_name": "Python 3 (ipykernel)",
   "language": "python",
   "name": "python3"
  },
  "language_info": {
   "codemirror_mode": {
    "name": "ipython",
    "version": 3
   },
   "file_extension": ".py",
   "mimetype": "text/x-python",
   "name": "python",
   "nbconvert_exporter": "python",
   "pygments_lexer": "ipython3",
   "version": "3.12.7"
  }
 },
 "nbformat": 4,
 "nbformat_minor": 5
}
