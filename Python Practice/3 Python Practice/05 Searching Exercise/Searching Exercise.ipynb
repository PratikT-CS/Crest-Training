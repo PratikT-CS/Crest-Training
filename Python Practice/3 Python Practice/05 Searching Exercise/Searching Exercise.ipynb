{
 "cells": [
  {
   "cell_type": "markdown",
   "id": "fd38ac67-9503-4474-96ec-101e87d530d3",
   "metadata": {},
   "source": [
    "# Last Match"
   ]
  },
  {
   "cell_type": "code",
   "execution_count": 1,
   "id": "180a3de4-7bca-41f1-bd2e-e3c85e4096bb",
   "metadata": {},
   "outputs": [],
   "source": [
    "def findLastOccurence(self, A, B):\n",
    "    # code here \n",
    "    size = len(B)\n",
    "    last = -1\n",
    "    for i in range(len(A)):\n",
    "        if A[i:i+size] == B:\n",
    "            last = i\n",
    "    if last == -1:\n",
    "        return last\n",
    "    else: \n",
    "        return last + 1"
   ]
  },
  {
   "cell_type": "markdown",
   "id": "a60bf70a-c8b5-4087-819e-6ebdb28282a6",
   "metadata": {},
   "source": [
    "# Pattern Searching"
   ]
  },
  {
   "cell_type": "code",
   "execution_count": 2,
   "id": "c5ccb689-cf77-4d20-82e3-57acc8815adb",
   "metadata": {},
   "outputs": [],
   "source": [
    "import re\n",
    "def searchPattern(txt, pat):\n",
    "    # code here\n",
    "    match = re.search(pat, txt)\n",
    "    if match:\n",
    "        return True\n",
    "    else:\n",
    "        return False"
   ]
  },
  {
   "cell_type": "code",
   "execution_count": 3,
   "id": "2d9e89bc-2975-4470-9fd0-bae1531f3823",
   "metadata": {},
   "outputs": [
    {
     "data": {
      "text/plain": [
       "2"
      ]
     },
     "execution_count": 3,
     "metadata": {},
     "output_type": "execute_result"
    }
   ],
   "source": [
    "0 + 4 // 2"
   ]
  },
  {
   "cell_type": "code",
   "execution_count": 4,
   "id": "33f69271-2205-4aea-b36c-e3102ed635de",
   "metadata": {},
   "outputs": [],
   "source": [
    "start = 0 \n",
    "end = 5"
   ]
  },
  {
   "cell_type": "code",
   "execution_count": 5,
   "id": "252201f6-19ed-4386-9981-5a088e6d3c15",
   "metadata": {},
   "outputs": [],
   "source": [
    "mid = start + (end - start) // 2"
   ]
  },
  {
   "cell_type": "code",
   "execution_count": 6,
   "id": "8b7e4ecd-b7c8-46d0-9774-4508c0e53a45",
   "metadata": {},
   "outputs": [
    {
     "data": {
      "text/plain": [
       "2"
      ]
     },
     "execution_count": 6,
     "metadata": {},
     "output_type": "execute_result"
    }
   ],
   "source": [
    "mid"
   ]
  },
  {
   "cell_type": "code",
   "execution_count": 7,
   "id": "3d569765-e5e5-41c3-ae12-0bba45f5dc11",
   "metadata": {},
   "outputs": [
    {
     "data": {
      "text/plain": [
       "2"
      ]
     },
     "execution_count": 7,
     "metadata": {},
     "output_type": "execute_result"
    }
   ],
   "source": [
    "start + end //2"
   ]
  },
  {
   "cell_type": "markdown",
   "id": "2f13ab07-fa81-4e6f-9c2a-476344d7ba3a",
   "metadata": {},
   "source": [
    "# Binary Search"
   ]
  },
  {
   "cell_type": "code",
   "execution_count": null,
   "id": "eaa0c48e-ad25-41bc-a16d-002dccdcd6e3",
   "metadata": {},
   "outputs": [],
   "source": [
    "def binarysearch(self, arr, k):\n",
    "    start, end = 0, len(arr) - 1\n",
    "    while start <= end:\n",
    "        mid = start + (end - start) // 2\n",
    "        if arr[mid] == k:\n",
    "            if mid == 0 or arr[mid - 1] != k:\n",
    "                return mid\n",
    "            end = mid - 1\n",
    "            \n",
    "        elif arr[mid] < k:\n",
    "            start = mid + 1\n",
    "            \n",
    "        else:\n",
    "            end = mid - 1\n",
    "    return -1\n"
   ]
  },
  {
   "cell_type": "markdown",
   "id": "58110196-584e-40d7-9bd4-98077275f2d5",
   "metadata": {},
   "source": [
    "# Recursive Linear Search "
   ]
  },
  {
   "cell_type": "code",
   "execution_count": 9,
   "id": "d11eb953-31c3-4d82-92d3-7cf804bf557e",
   "metadata": {},
   "outputs": [
    {
     "name": "stdout",
     "output_type": "stream",
     "text": [
      "3 present in [1, 2, 3, 4] at index 2\n"
     ]
    }
   ],
   "source": [
    "def fun(list1, i, target):\n",
    "    if(i == len(list1)):\n",
    "        return -1\n",
    "    if(list1[i] == target):\n",
    "        return i\n",
    "    return fun(list1, i + 1, target)\n",
    "list1 = [1, 2, 3, 4]\n",
    "ans = fun(list1, 0, 3)\n",
    "tar = 3\n",
    "if(ans == -1):\n",
    "    print(f\"{tar} not present in {list1}\")\n",
    "else:\n",
    "    print(f\"{tar} present in {list1} at index {ans}\")"
   ]
  },
  {
   "cell_type": "markdown",
   "id": "f93cfe7e-45b7-4133-b0e2-05865c015770",
   "metadata": {},
   "source": [
    "# Recursive Binary Search"
   ]
  },
  {
   "cell_type": "code",
   "execution_count": 10,
   "id": "09816e19-4f64-43de-bf93-ef7d2dcd099e",
   "metadata": {},
   "outputs": [
    {
     "name": "stdout",
     "output_type": "stream",
     "text": [
      "Element is present at index 3\n"
     ]
    }
   ],
   "source": [
    "def binary_search(arr, low, high, x):\n",
    "    if high >= low:\n",
    "        mid = (high + low) // 2\n",
    "        if arr[mid] == x:\n",
    "            return mid\n",
    "        elif arr[mid] > x:\n",
    "            return binary_search(arr, low, mid - 1, x)\n",
    "        else:\n",
    "            return binary_search(arr, mid + 1, high, x)\n",
    "    else:\n",
    "        return -1\n",
    "\n",
    "arr = [2, 3, 4, 10, 40]\n",
    "x = 10\n",
    "\n",
    "result = binary_search(arr, 0, len(arr)-1, x)\n",
    "\n",
    "if result != -1:\n",
    "    print(\"Element is present at index\", str(result))\n",
    "else:\n",
    "    print(\"Element is not present in array\")"
   ]
  },
  {
   "cell_type": "markdown",
   "id": "7879d391-70ac-46ec-b35e-ae2e0a36ca55",
   "metadata": {},
   "source": [
    "# Python Program for Anagram Substring Search (Or Search for all permutations)"
   ]
  },
  {
   "cell_type": "code",
   "execution_count": 17,
   "id": "2ef5d21d-42e4-4bfd-b381-46d7c0310efb",
   "metadata": {},
   "outputs": [
    {
     "name": "stdout",
     "output_type": "stream",
     "text": [
      "Found at Index 0\n",
      "Found at Index 1\n",
      "Found at Index 6\n",
      "Found at Index 7\n"
     ]
    }
   ],
   "source": [
    "MAX = 256\n",
    "\n",
    "def compare(arr1, arr2): \n",
    "    for i in range(MAX): \n",
    "        if arr1[i] != arr2[i]: \n",
    "            return False\n",
    "    return True\n",
    "\n",
    "def search(pat, txt): \n",
    "    M = len(pat) \n",
    "    N = len(txt) \n",
    "    countP = [0]*MAX\n",
    "    countTW = [0]*MAX\n",
    "\n",
    "    for i in range(M): \n",
    "        countP[ord(pat[i])] += 1\n",
    "        countTW[ord(txt[i])] += 1\n",
    "\n",
    "    for i in range(M, N): \n",
    "        if compare(countP, countTW): \n",
    "            print(\"Found at Index\", (i-M)) \n",
    "\n",
    "        countTW[ord(txt[i])] += 1\n",
    "        countTW[ord(txt[i-M])] -= 1\n",
    "    \n",
    "    if compare(countP, countTW): \n",
    "        print(\"Found at Index\", N-M)\n",
    "\n",
    "txt = \"BACDBGABCDA\"\n",
    "pat = \"ABCD\"    \n",
    "search(pat, txt)"
   ]
  },
  {
   "cell_type": "code",
   "execution_count": 1,
   "id": "1aadb17b-5d2e-4f1c-ae82-d1b97aa67629",
   "metadata": {},
   "outputs": [
    {
     "name": "stdout",
     "output_type": "stream",
     "text": [
      "Counter({'a': 2, 'b': 1, 'c': 1})\n",
      "Counter({'a': 2, 'b': 1, 'c': 1})\n"
     ]
    }
   ],
   "source": [
    "from collections import Counter\n",
    "test1 = \"aabc\"\n",
    "test2 = \"baca\"\n",
    "dict1 = Counter(test1)\n",
    "dict2 = Counter(test2)\n",
    "print(dict1)\n",
    "print(dict2)"
   ]
  },
  {
   "cell_type": "code",
   "execution_count": 2,
   "id": "ccd2b98f-ad1d-4bf0-9876-79d7440118ad",
   "metadata": {},
   "outputs": [
    {
     "name": "stdout",
     "output_type": "stream",
     "text": [
      "True\n"
     ]
    }
   ],
   "source": [
    "print(dict1 == dict2)"
   ]
  },
  {
   "cell_type": "markdown",
   "id": "1bb4aa18-3665-4a1e-99c9-9fc24504e817",
   "metadata": {},
   "source": [
    "## My Solution to Anagram Substring Search"
   ]
  },
  {
   "cell_type": "code",
   "execution_count": null,
   "id": "9c2103d4-b075-491b-8db1-92015dbed9c1",
   "metadata": {},
   "outputs": [],
   "source": [
    "def search(self,pat, txt):\n",
    "    # code here\n",
    "    m = len(pat)\n",
    "    n = len(txt)\n",
    "    pat_dict = Counter(pat)\n",
    "    cnt = 0\n",
    "    for i in range(n-m+1):\n",
    "        test_dict = Counter(txt[i:i+m])\n",
    "        if pat_dict == test_dict:\n",
    "            cnt += 1\n",
    "    return cnt"
   ]
  },
  {
   "cell_type": "markdown",
   "id": "278df8fd-ea96-412f-b974-5f33e7abb9e2",
   "metadata": {},
   "source": [
    "## Optimized Version"
   ]
  },
  {
   "cell_type": "code",
   "execution_count": 10,
   "id": "c5d3077b-9622-47f1-a69e-6e14d95e25a8",
   "metadata": {},
   "outputs": [],
   "source": [
    "def search(self, pat, txt):\n",
    "    m = len(pat)\n",
    "    n = len(txt)\n",
    "    pat_dict = Counter(pat)\n",
    "    cnt = 0\n",
    "\n",
    "    # Initialize the window's Counter for the first window\n",
    "    window_dict = Counter(txt[:m])\n",
    "\n",
    "    # Check the first window\n",
    "    if window_dict == pat_dict:\n",
    "        cnt += 1\n",
    "\n",
    "    # Slide the window\n",
    "    for i in range(m, n):\n",
    "        # Remove the character going out of the window\n",
    "        window_dict[txt[i - m]] -= 1\n",
    "        if window_dict[txt[i - m]] == 0:\n",
    "            del window_dict[txt[i - m]]\n",
    "\n",
    "        # Add the new character coming into the window\n",
    "        window_dict[txt[i]] += 1\n",
    "\n",
    "        # Check if the current window matches the pattern Counter\n",
    "        if window_dict == pat_dict:\n",
    "            cnt += 1\n",
    "\n",
    "    return cnt"
   ]
  },
  {
   "cell_type": "code",
   "execution_count": 11,
   "id": "f412e8f0-f1be-4b45-a993-bf6866b3329d",
   "metadata": {},
   "outputs": [],
   "source": [
    "def search_index(self, pat, txt):\n",
    "    m = len(pat)\n",
    "    n = len(txt)\n",
    "    pat_dict = Counter(pat)\n",
    "    index = []\n",
    "\n",
    "    # Initialize the window's Counter for the first window\n",
    "    window_dict = Counter(txt[:m])\n",
    "\n",
    "    # Check the first window\n",
    "    if window_dict == pat_dict:\n",
    "        index.append(0)\n",
    "\n",
    "    # Slide the window\n",
    "    for i in range(m, n):\n",
    "        # Remove the character going out of the window\n",
    "        window_dict[txt[i - m]] -= 1\n",
    "        if window_dict[txt[i - m]] == 0:\n",
    "            del window_dict[txt[i - m]]\n",
    "\n",
    "        # Add the new character coming into the window\n",
    "        window_dict[txt[i]] += 1\n",
    "\n",
    "        # Check if the current window matches the pattern Counter\n",
    "        if window_dict == pat_dict:\n",
    "            index.append(i-m+1)\n",
    "\n",
    "    return index"
   ]
  },
  {
   "cell_type": "code",
   "execution_count": 15,
   "id": "b56bd008-e5ac-4621-8baf-30eb9d98fdaa",
   "metadata": {},
   "outputs": [
    {
     "data": {
      "text/plain": [
       "4"
      ]
     },
     "execution_count": 15,
     "metadata": {},
     "output_type": "execute_result"
    }
   ],
   "source": [
    "search(0, \"ABCD\", \"BACDBGABCDA\")"
   ]
  },
  {
   "cell_type": "code",
   "execution_count": 14,
   "id": "e21bcb30-f354-4232-b3c8-991076dfb80c",
   "metadata": {},
   "outputs": [
    {
     "data": {
      "text/plain": [
       "[0, 1, 6, 7]"
      ]
     },
     "execution_count": 14,
     "metadata": {},
     "output_type": "execute_result"
    }
   ],
   "source": [
    "search_index(0, \"ABCD\", \"BACDBGABCDA\")"
   ]
  },
  {
   "cell_type": "code",
   "execution_count": null,
   "id": "6a069cf3-100d-408c-b136-a8b74b3dd143",
   "metadata": {},
   "outputs": [],
   "source": []
  }
 ],
 "metadata": {
  "kernelspec": {
   "display_name": "Python 3 (ipykernel)",
   "language": "python",
   "name": "python3"
  },
  "language_info": {
   "codemirror_mode": {
    "name": "ipython",
    "version": 3
   },
   "file_extension": ".py",
   "mimetype": "text/x-python",
   "name": "python",
   "nbconvert_exporter": "python",
   "pygments_lexer": "ipython3",
   "version": "3.12.7"
  }
 },
 "nbformat": 4,
 "nbformat_minor": 5
}
