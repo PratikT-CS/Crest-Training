{
 "cells": [
  {
   "cell_type": "code",
   "execution_count": 4,
   "id": "36babea0-5dbb-466a-be7e-5f46e22f1124",
   "metadata": {},
   "outputs": [],
   "source": [
    "def func():\n",
    "    def other_func():\n",
    "        print(\"function defined in the other function\")\n",
    "    return other_func"
   ]
  },
  {
   "cell_type": "code",
   "execution_count": 5,
   "id": "9ab5def9-9244-463d-8005-70adc45d01f6",
   "metadata": {},
   "outputs": [],
   "source": [
    "hello = func"
   ]
  },
  {
   "cell_type": "code",
   "execution_count": 6,
   "id": "382e0ab4-f372-45cb-9cbc-c1490c702af3",
   "metadata": {},
   "outputs": [
    {
     "data": {
      "text/plain": [
       "<function __main__.func.<locals>.other_func()>"
      ]
     },
     "execution_count": 6,
     "metadata": {},
     "output_type": "execute_result"
    }
   ],
   "source": [
    "hello()"
   ]
  },
  {
   "cell_type": "code",
   "execution_count": 8,
   "id": "80345314-7764-4341-9315-d4d47eb4f230",
   "metadata": {},
   "outputs": [],
   "source": [
    "greet = hello()"
   ]
  },
  {
   "cell_type": "code",
   "execution_count": 9,
   "id": "1e3408b0-0b35-48ed-8418-8ba4e910872e",
   "metadata": {},
   "outputs": [
    {
     "name": "stdout",
     "output_type": "stream",
     "text": [
      "function defined in the other function\n"
     ]
    }
   ],
   "source": [
    "greet()"
   ]
  },
  {
   "cell_type": "code",
   "execution_count": 10,
   "id": "2daa13e1-7319-4111-ae52-0320d18c2120",
   "metadata": {},
   "outputs": [
    {
     "name": "stdout",
     "output_type": "stream",
     "text": [
      "<function func.<locals>.other_func at 0x000001AC99C90900>\n"
     ]
    }
   ],
   "source": [
    "print(greet)"
   ]
  },
  {
   "cell_type": "code",
   "execution_count": 11,
   "id": "5c45fbc8-1229-4e5a-9ba0-61166109454e",
   "metadata": {},
   "outputs": [
    {
     "name": "stdout",
     "output_type": "stream",
     "text": [
      "{'__name__': '__main__', '__doc__': 'Automatically created module for IPython interactive environment', '__package__': None, '__loader__': None, '__spec__': None, '__builtin__': <module 'builtins' (built-in)>, '__builtins__': <module 'builtins' (built-in)>, '_ih': ['', 'def func():\\n    def other_func():\\n        print(\"function defined in the other function\")\\n    return other_function', 'hello = func', 'hello()', 'def func():\\n    def other_func():\\n        print(\"function defined in the other function\")\\n    return other_func', 'hello = func', 'hello()', 'print(hello())', 'greet = hello()', 'greet()', 'print(greet)', 'print(locals())'], '_oh': {6: <function func.<locals>.other_func at 0x000001AC98ED3B00>}, '_dh': [WindowsPath('C:/Users/PratikTalaviya/Crest Training/Python Course/12 Python Decorators')], 'In': ['', 'def func():\\n    def other_func():\\n        print(\"function defined in the other function\")\\n    return other_function', 'hello = func', 'hello()', 'def func():\\n    def other_func():\\n        print(\"function defined in the other function\")\\n    return other_func', 'hello = func', 'hello()', 'print(hello())', 'greet = hello()', 'greet()', 'print(greet)', 'print(locals())'], 'Out': {6: <function func.<locals>.other_func at 0x000001AC98ED3B00>}, 'get_ipython': <bound method InteractiveShell.get_ipython of <ipykernel.zmqshell.ZMQInteractiveShell object at 0x000001AC97BBFC20>>, 'exit': <IPython.core.autocall.ZMQExitAutocall object at 0x000001AC98EC4350>, 'quit': <IPython.core.autocall.ZMQExitAutocall object at 0x000001AC98EC4350>, 'open': <function open at 0x000001AC96E5DC60>, '_': <function func.<locals>.other_func at 0x000001AC98ED3B00>, '__': '', '___': '', '__session__': 'C:\\\\Users\\\\PratikTalaviya\\\\Crest Training\\\\Python Course\\\\12 Python Decorators\\\\Untitled.ipynb', '_i': 'print(greet)', '_ii': 'greet()', '_iii': 'greet = hello()', '_i1': 'def func():\\n    def other_func():\\n        print(\"function defined in the other function\")\\n    return other_function', 'func': <function func at 0x000001AC99C90220>, '_i2': 'hello = func', 'hello': <function func at 0x000001AC99C90220>, '_i3': 'hello()', '_i4': 'def func():\\n    def other_func():\\n        print(\"function defined in the other function\")\\n    return other_func', '_i5': 'hello = func', '_i6': 'hello()', '_6': <function func.<locals>.other_func at 0x000001AC98ED3B00>, '_i7': 'print(hello())', '_i8': 'greet = hello()', 'greet': <function func.<locals>.other_func at 0x000001AC99C90900>, '_i9': 'greet()', '_i10': 'print(greet)', '_i11': 'print(locals())'}\n"
     ]
    }
   ],
   "source": [
    "print(locals())"
   ]
  },
  {
   "cell_type": "code",
   "execution_count": 14,
   "id": "c5741527-d323-4252-bfac-08f4ad3c0b83",
   "metadata": {},
   "outputs": [
    {
     "name": "stdout",
     "output_type": "stream",
     "text": [
      "dict_keys(['__name__', '__doc__', '__package__', '__loader__', '__spec__', '__builtin__', '__builtins__', '_ih', '_oh', '_dh', 'In', 'Out', 'get_ipython', 'exit', 'quit', 'open', '_', '__', '___', '__session__', '_i', '_ii', '_iii', '_i1', 'func', '_i2', 'hello', '_i3', '_i4', '_i5', '_i6', '_6', '_i7', '_i8', 'greet', '_i9', '_i10', '_i11', '_i12', '_i13', '_i14'])\n"
     ]
    }
   ],
   "source": [
    "print(locals().keys())"
   ]
  },
  {
   "cell_type": "code",
   "execution_count": 16,
   "id": "9de19f77-9508-4e2e-832f-be806f2a30a8",
   "metadata": {},
   "outputs": [
    {
     "name": "stdout",
     "output_type": "stream",
     "text": [
      "<function func at 0x000001AC99C90220>\n"
     ]
    }
   ],
   "source": [
    "print(locals()['hello'])"
   ]
  },
  {
   "cell_type": "code",
   "execution_count": 17,
   "id": "4c575cf2-05e1-4da8-bb06-e5c9b07bbd07",
   "metadata": {},
   "outputs": [
    {
     "name": "stdout",
     "output_type": "stream",
     "text": [
      "{'__name__': '__main__', '__doc__': 'Automatically created module for IPython interactive environment', '__package__': None, '__loader__': None, '__spec__': None, '__builtin__': <module 'builtins' (built-in)>, '__builtins__': <module 'builtins' (built-in)>, '_ih': ['', 'def func():\\n    def other_func():\\n        print(\"function defined in the other function\")\\n    return other_function', 'hello = func', 'hello()', 'def func():\\n    def other_func():\\n        print(\"function defined in the other function\")\\n    return other_func', 'hello = func', 'hello()', 'print(hello())', 'greet = hello()', 'greet()', 'print(greet)', 'print(locals())', 'print(locals().kekys)', 'print(locals().keys)', 'print(locals().keys())', \"print(locals()['hello']\", \"print(locals()['hello'])\", 'print(globals())'], '_oh': {6: <function func.<locals>.other_func at 0x000001AC98ED3B00>}, '_dh': [WindowsPath('C:/Users/PratikTalaviya/Crest Training/Python Course/12 Python Decorators')], 'In': ['', 'def func():\\n    def other_func():\\n        print(\"function defined in the other function\")\\n    return other_function', 'hello = func', 'hello()', 'def func():\\n    def other_func():\\n        print(\"function defined in the other function\")\\n    return other_func', 'hello = func', 'hello()', 'print(hello())', 'greet = hello()', 'greet()', 'print(greet)', 'print(locals())', 'print(locals().kekys)', 'print(locals().keys)', 'print(locals().keys())', \"print(locals()['hello']\", \"print(locals()['hello'])\", 'print(globals())'], 'Out': {6: <function func.<locals>.other_func at 0x000001AC98ED3B00>}, 'get_ipython': <bound method InteractiveShell.get_ipython of <ipykernel.zmqshell.ZMQInteractiveShell object at 0x000001AC97BBFC20>>, 'exit': <IPython.core.autocall.ZMQExitAutocall object at 0x000001AC98EC4350>, 'quit': <IPython.core.autocall.ZMQExitAutocall object at 0x000001AC98EC4350>, 'open': <function open at 0x000001AC96E5DC60>, '_': <function func.<locals>.other_func at 0x000001AC98ED3B00>, '__': '', '___': '', '__session__': 'C:\\\\Users\\\\PratikTalaviya\\\\Crest Training\\\\Python Course\\\\12 Python Decorators\\\\Untitled.ipynb', '_i': \"print(locals()['hello'])\", '_ii': \"print(locals()['hello']\", '_iii': 'print(locals().keys())', '_i1': 'def func():\\n    def other_func():\\n        print(\"function defined in the other function\")\\n    return other_function', 'func': <function func at 0x000001AC99C90220>, '_i2': 'hello = func', 'hello': <function func at 0x000001AC99C90220>, '_i3': 'hello()', '_i4': 'def func():\\n    def other_func():\\n        print(\"function defined in the other function\")\\n    return other_func', '_i5': 'hello = func', '_i6': 'hello()', '_6': <function func.<locals>.other_func at 0x000001AC98ED3B00>, '_i7': 'print(hello())', '_i8': 'greet = hello()', 'greet': <function func.<locals>.other_func at 0x000001AC99C90900>, '_i9': 'greet()', '_i10': 'print(greet)', '_i11': 'print(locals())', '_i12': 'print(locals().kekys)', '_i13': 'print(locals().keys)', '_i14': 'print(locals().keys())', '_i15': \"print(locals()['hello']\", '_i16': \"print(locals()['hello'])\", '_i17': 'print(globals())'}\n"
     ]
    }
   ],
   "source": [
    "print(globals())"
   ]
  },
  {
   "cell_type": "code",
   "execution_count": 18,
   "id": "a12f5d86-24cd-48da-bab6-709ffd51dfd5",
   "metadata": {},
   "outputs": [
    {
     "name": "stdout",
     "output_type": "stream",
     "text": [
      "dict_keys(['__name__', '__doc__', '__package__', '__loader__', '__spec__', '__builtin__', '__builtins__', '_ih', '_oh', '_dh', 'In', 'Out', 'get_ipython', 'exit', 'quit', 'open', '_', '__', '___', '__session__', '_i', '_ii', '_iii', '_i1', 'func', '_i2', 'hello', '_i3', '_i4', '_i5', '_i6', '_6', '_i7', '_i8', 'greet', '_i9', '_i10', '_i11', '_i12', '_i13', '_i14', '_i15', '_i16', '_i17', '_i18'])\n"
     ]
    }
   ],
   "source": [
    "print(globals().keys())"
   ]
  },
  {
   "cell_type": "code",
   "execution_count": 19,
   "id": "3b9d18a0-71f1-4d15-96f0-665950dbe8df",
   "metadata": {},
   "outputs": [],
   "source": [
    "def new_decorator(func):\n",
    "\n",
    "    def wrap_func():\n",
    "        print(\"Code would be here, before executing the func\")\n",
    "\n",
    "        func()\n",
    "\n",
    "        print(\"Code here will execute after the func()\")\n",
    "\n",
    "    return wrap_func\n",
    "\n",
    "def func_needs_decorator():\n",
    "    print(\"This function is in need of a Decorator\")"
   ]
  },
  {
   "cell_type": "code",
   "execution_count": 20,
   "id": "392fb605-8e4c-480a-b4af-df85c548cee2",
   "metadata": {},
   "outputs": [],
   "source": [
    "decorated_func = new_decorator(func_needs_decorator)"
   ]
  },
  {
   "cell_type": "code",
   "execution_count": 21,
   "id": "a53d8015-4ae2-4ced-97a8-d070daf80243",
   "metadata": {},
   "outputs": [
    {
     "name": "stdout",
     "output_type": "stream",
     "text": [
      "Code would be here, before executing the func\n",
      "This function is in need of a Decorator\n",
      "Code here will execute after the func()\n"
     ]
    }
   ],
   "source": [
    "decorated_func()"
   ]
  },
  {
   "cell_type": "markdown",
   "id": "ca04235c-f409-43ae-b416-090fa770ff0f",
   "metadata": {},
   "source": [
    "# Another way of doing the same with help of '@'"
   ]
  },
  {
   "cell_type": "code",
   "execution_count": 22,
   "id": "a4ad75ba-0b99-4256-a641-f22b2956806b",
   "metadata": {},
   "outputs": [],
   "source": [
    "@new_decorator\n",
    "def func_using_decorator():\n",
    "    print(\"This uses Decorator with '@'\")"
   ]
  },
  {
   "cell_type": "code",
   "execution_count": 23,
   "id": "2e884dca-9efd-45e4-8d9e-d3465f52a3ff",
   "metadata": {},
   "outputs": [
    {
     "name": "stdout",
     "output_type": "stream",
     "text": [
      "Code would be here, before executing the func\n",
      "This uses Decorator with '@'\n",
      "Code here will execute after the func()\n"
     ]
    }
   ],
   "source": [
    "func_using_decorator()"
   ]
  },
  {
   "cell_type": "code",
   "execution_count": null,
   "id": "bc6083ed-fb37-4b7a-bc58-54624f1a4856",
   "metadata": {},
   "outputs": [],
   "source": []
  }
 ],
 "metadata": {
  "kernelspec": {
   "display_name": "Python 3 (ipykernel)",
   "language": "python",
   "name": "python3"
  },
  "language_info": {
   "codemirror_mode": {
    "name": "ipython",
    "version": 3
   },
   "file_extension": ".py",
   "mimetype": "text/x-python",
   "name": "python",
   "nbconvert_exporter": "python",
   "pygments_lexer": "ipython3",
   "version": "3.12.7"
  }
 },
 "nbformat": 4,
 "nbformat_minor": 5
}
