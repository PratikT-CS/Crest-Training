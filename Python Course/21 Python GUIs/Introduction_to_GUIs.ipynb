{
  "nbformat": 4,
  "nbformat_minor": 0,
  "metadata": {
    "colab": {
      "provenance": []
    },
    "kernelspec": {
      "name": "python3",
      "display_name": "Python 3"
    },
    "language_info": {
      "name": "python"
    },
    "widgets": {
      "application/vnd.jupyter.widget-state+json": {
        "10299dcddf9b4580b95edbad43576a72": {
          "model_module": "@jupyter-widgets/controls",
          "model_name": "VBoxModel",
          "model_module_version": "1.5.0",
          "state": {
            "_dom_classes": [
              "widget-interact"
            ],
            "_model_module": "@jupyter-widgets/controls",
            "_model_module_version": "1.5.0",
            "_model_name": "VBoxModel",
            "_view_count": null,
            "_view_module": "@jupyter-widgets/controls",
            "_view_module_version": "1.5.0",
            "_view_name": "VBoxView",
            "box_style": "",
            "children": [
              "IPY_MODEL_656220c7d31c4765bcbb793cd8e1f0c7",
              "IPY_MODEL_b18cb6598ca64360ad2e0c2b03948c6a"
            ],
            "layout": "IPY_MODEL_474cd53b430041e8b99b4f88777eb793"
          }
        },
        "656220c7d31c4765bcbb793cd8e1f0c7": {
          "model_module": "@jupyter-widgets/controls",
          "model_name": "IntSliderModel",
          "model_module_version": "1.5.0",
          "state": {
            "_dom_classes": [],
            "_model_module": "@jupyter-widgets/controls",
            "_model_module_version": "1.5.0",
            "_model_name": "IntSliderModel",
            "_view_count": null,
            "_view_module": "@jupyter-widgets/controls",
            "_view_module_version": "1.5.0",
            "_view_name": "IntSliderView",
            "continuous_update": true,
            "description": "x",
            "description_tooltip": null,
            "disabled": false,
            "layout": "IPY_MODEL_6e3b841b6811468c88e4bb70ff9bee8a",
            "max": 30,
            "min": -10,
            "orientation": "horizontal",
            "readout": true,
            "readout_format": "d",
            "step": 1,
            "style": "IPY_MODEL_33c83108cf654865b18163d76274384c",
            "value": 30
          }
        },
        "b18cb6598ca64360ad2e0c2b03948c6a": {
          "model_module": "@jupyter-widgets/output",
          "model_name": "OutputModel",
          "model_module_version": "1.0.0",
          "state": {
            "_dom_classes": [],
            "_model_module": "@jupyter-widgets/output",
            "_model_module_version": "1.0.0",
            "_model_name": "OutputModel",
            "_view_count": null,
            "_view_module": "@jupyter-widgets/output",
            "_view_module_version": "1.0.0",
            "_view_name": "OutputView",
            "layout": "IPY_MODEL_3ccc1bf0b9cd4f33808ae5d2cdc2a5a2",
            "msg_id": "",
            "outputs": [
              {
                "output_type": "display_data",
                "data": {
                  "text/plain": "30"
                },
                "metadata": {}
              }
            ]
          }
        },
        "474cd53b430041e8b99b4f88777eb793": {
          "model_module": "@jupyter-widgets/base",
          "model_name": "LayoutModel",
          "model_module_version": "1.2.0",
          "state": {
            "_model_module": "@jupyter-widgets/base",
            "_model_module_version": "1.2.0",
            "_model_name": "LayoutModel",
            "_view_count": null,
            "_view_module": "@jupyter-widgets/base",
            "_view_module_version": "1.2.0",
            "_view_name": "LayoutView",
            "align_content": null,
            "align_items": null,
            "align_self": null,
            "border": null,
            "bottom": null,
            "display": null,
            "flex": null,
            "flex_flow": null,
            "grid_area": null,
            "grid_auto_columns": null,
            "grid_auto_flow": null,
            "grid_auto_rows": null,
            "grid_column": null,
            "grid_gap": null,
            "grid_row": null,
            "grid_template_areas": null,
            "grid_template_columns": null,
            "grid_template_rows": null,
            "height": null,
            "justify_content": null,
            "justify_items": null,
            "left": null,
            "margin": null,
            "max_height": null,
            "max_width": null,
            "min_height": null,
            "min_width": null,
            "object_fit": null,
            "object_position": null,
            "order": null,
            "overflow": null,
            "overflow_x": null,
            "overflow_y": null,
            "padding": null,
            "right": null,
            "top": null,
            "visibility": null,
            "width": null
          }
        },
        "6e3b841b6811468c88e4bb70ff9bee8a": {
          "model_module": "@jupyter-widgets/base",
          "model_name": "LayoutModel",
          "model_module_version": "1.2.0",
          "state": {
            "_model_module": "@jupyter-widgets/base",
            "_model_module_version": "1.2.0",
            "_model_name": "LayoutModel",
            "_view_count": null,
            "_view_module": "@jupyter-widgets/base",
            "_view_module_version": "1.2.0",
            "_view_name": "LayoutView",
            "align_content": null,
            "align_items": null,
            "align_self": null,
            "border": null,
            "bottom": null,
            "display": null,
            "flex": null,
            "flex_flow": null,
            "grid_area": null,
            "grid_auto_columns": null,
            "grid_auto_flow": null,
            "grid_auto_rows": null,
            "grid_column": null,
            "grid_gap": null,
            "grid_row": null,
            "grid_template_areas": null,
            "grid_template_columns": null,
            "grid_template_rows": null,
            "height": null,
            "justify_content": null,
            "justify_items": null,
            "left": null,
            "margin": null,
            "max_height": null,
            "max_width": null,
            "min_height": null,
            "min_width": null,
            "object_fit": null,
            "object_position": null,
            "order": null,
            "overflow": null,
            "overflow_x": null,
            "overflow_y": null,
            "padding": null,
            "right": null,
            "top": null,
            "visibility": null,
            "width": null
          }
        },
        "33c83108cf654865b18163d76274384c": {
          "model_module": "@jupyter-widgets/controls",
          "model_name": "SliderStyleModel",
          "model_module_version": "1.5.0",
          "state": {
            "_model_module": "@jupyter-widgets/controls",
            "_model_module_version": "1.5.0",
            "_model_name": "SliderStyleModel",
            "_view_count": null,
            "_view_module": "@jupyter-widgets/base",
            "_view_module_version": "1.2.0",
            "_view_name": "StyleView",
            "description_width": "",
            "handle_color": null
          }
        },
        "3ccc1bf0b9cd4f33808ae5d2cdc2a5a2": {
          "model_module": "@jupyter-widgets/base",
          "model_name": "LayoutModel",
          "model_module_version": "1.2.0",
          "state": {
            "_model_module": "@jupyter-widgets/base",
            "_model_module_version": "1.2.0",
            "_model_name": "LayoutModel",
            "_view_count": null,
            "_view_module": "@jupyter-widgets/base",
            "_view_module_version": "1.2.0",
            "_view_name": "LayoutView",
            "align_content": null,
            "align_items": null,
            "align_self": null,
            "border": null,
            "bottom": null,
            "display": null,
            "flex": null,
            "flex_flow": null,
            "grid_area": null,
            "grid_auto_columns": null,
            "grid_auto_flow": null,
            "grid_auto_rows": null,
            "grid_column": null,
            "grid_gap": null,
            "grid_row": null,
            "grid_template_areas": null,
            "grid_template_columns": null,
            "grid_template_rows": null,
            "height": null,
            "justify_content": null,
            "justify_items": null,
            "left": null,
            "margin": null,
            "max_height": null,
            "max_width": null,
            "min_height": null,
            "min_width": null,
            "object_fit": null,
            "object_position": null,
            "order": null,
            "overflow": null,
            "overflow_x": null,
            "overflow_y": null,
            "padding": null,
            "right": null,
            "top": null,
            "visibility": null,
            "width": null
          }
        },
        "4d72e67b9da04f53bcf869604c3950b9": {
          "model_module": "@jupyter-widgets/controls",
          "model_name": "VBoxModel",
          "model_module_version": "1.5.0",
          "state": {
            "_dom_classes": [
              "widget-interact"
            ],
            "_model_module": "@jupyter-widgets/controls",
            "_model_module_version": "1.5.0",
            "_model_name": "VBoxModel",
            "_view_count": null,
            "_view_module": "@jupyter-widgets/controls",
            "_view_module_version": "1.5.0",
            "_view_name": "VBoxView",
            "box_style": "",
            "children": [
              "IPY_MODEL_d1cee84d593b4212949094c5d28fd495",
              "IPY_MODEL_d79b16f8aaf942eda901e301784d4be2"
            ],
            "layout": "IPY_MODEL_917e7da657224b9aaa4a92c46a10310a"
          }
        },
        "d1cee84d593b4212949094c5d28fd495": {
          "model_module": "@jupyter-widgets/controls",
          "model_name": "CheckboxModel",
          "model_module_version": "1.5.0",
          "state": {
            "_dom_classes": [],
            "_model_module": "@jupyter-widgets/controls",
            "_model_module_version": "1.5.0",
            "_model_name": "CheckboxModel",
            "_view_count": null,
            "_view_module": "@jupyter-widgets/controls",
            "_view_module_version": "1.5.0",
            "_view_name": "CheckboxView",
            "description": "x",
            "description_tooltip": null,
            "disabled": false,
            "indent": true,
            "layout": "IPY_MODEL_45f8384eeb9b4efda59b660fbb76373d",
            "style": "IPY_MODEL_9c952eecb5c446bdbfbf8d8029252b1d",
            "value": true
          }
        },
        "d79b16f8aaf942eda901e301784d4be2": {
          "model_module": "@jupyter-widgets/output",
          "model_name": "OutputModel",
          "model_module_version": "1.0.0",
          "state": {
            "_dom_classes": [],
            "_model_module": "@jupyter-widgets/output",
            "_model_module_version": "1.0.0",
            "_model_name": "OutputModel",
            "_view_count": null,
            "_view_module": "@jupyter-widgets/output",
            "_view_module_version": "1.0.0",
            "_view_name": "OutputView",
            "layout": "IPY_MODEL_87c81ce8371f46fd96c6ab0dc091afde",
            "msg_id": "",
            "outputs": [
              {
                "output_type": "display_data",
                "data": {
                  "text/plain": "True"
                },
                "metadata": {}
              }
            ]
          }
        },
        "917e7da657224b9aaa4a92c46a10310a": {
          "model_module": "@jupyter-widgets/base",
          "model_name": "LayoutModel",
          "model_module_version": "1.2.0",
          "state": {
            "_model_module": "@jupyter-widgets/base",
            "_model_module_version": "1.2.0",
            "_model_name": "LayoutModel",
            "_view_count": null,
            "_view_module": "@jupyter-widgets/base",
            "_view_module_version": "1.2.0",
            "_view_name": "LayoutView",
            "align_content": null,
            "align_items": null,
            "align_self": null,
            "border": null,
            "bottom": null,
            "display": null,
            "flex": null,
            "flex_flow": null,
            "grid_area": null,
            "grid_auto_columns": null,
            "grid_auto_flow": null,
            "grid_auto_rows": null,
            "grid_column": null,
            "grid_gap": null,
            "grid_row": null,
            "grid_template_areas": null,
            "grid_template_columns": null,
            "grid_template_rows": null,
            "height": null,
            "justify_content": null,
            "justify_items": null,
            "left": null,
            "margin": null,
            "max_height": null,
            "max_width": null,
            "min_height": null,
            "min_width": null,
            "object_fit": null,
            "object_position": null,
            "order": null,
            "overflow": null,
            "overflow_x": null,
            "overflow_y": null,
            "padding": null,
            "right": null,
            "top": null,
            "visibility": null,
            "width": null
          }
        },
        "45f8384eeb9b4efda59b660fbb76373d": {
          "model_module": "@jupyter-widgets/base",
          "model_name": "LayoutModel",
          "model_module_version": "1.2.0",
          "state": {
            "_model_module": "@jupyter-widgets/base",
            "_model_module_version": "1.2.0",
            "_model_name": "LayoutModel",
            "_view_count": null,
            "_view_module": "@jupyter-widgets/base",
            "_view_module_version": "1.2.0",
            "_view_name": "LayoutView",
            "align_content": null,
            "align_items": null,
            "align_self": null,
            "border": null,
            "bottom": null,
            "display": null,
            "flex": null,
            "flex_flow": null,
            "grid_area": null,
            "grid_auto_columns": null,
            "grid_auto_flow": null,
            "grid_auto_rows": null,
            "grid_column": null,
            "grid_gap": null,
            "grid_row": null,
            "grid_template_areas": null,
            "grid_template_columns": null,
            "grid_template_rows": null,
            "height": null,
            "justify_content": null,
            "justify_items": null,
            "left": null,
            "margin": null,
            "max_height": null,
            "max_width": null,
            "min_height": null,
            "min_width": null,
            "object_fit": null,
            "object_position": null,
            "order": null,
            "overflow": null,
            "overflow_x": null,
            "overflow_y": null,
            "padding": null,
            "right": null,
            "top": null,
            "visibility": null,
            "width": null
          }
        },
        "9c952eecb5c446bdbfbf8d8029252b1d": {
          "model_module": "@jupyter-widgets/controls",
          "model_name": "DescriptionStyleModel",
          "model_module_version": "1.5.0",
          "state": {
            "_model_module": "@jupyter-widgets/controls",
            "_model_module_version": "1.5.0",
            "_model_name": "DescriptionStyleModel",
            "_view_count": null,
            "_view_module": "@jupyter-widgets/base",
            "_view_module_version": "1.2.0",
            "_view_name": "StyleView",
            "description_width": ""
          }
        },
        "87c81ce8371f46fd96c6ab0dc091afde": {
          "model_module": "@jupyter-widgets/base",
          "model_name": "LayoutModel",
          "model_module_version": "1.2.0",
          "state": {
            "_model_module": "@jupyter-widgets/base",
            "_model_module_version": "1.2.0",
            "_model_name": "LayoutModel",
            "_view_count": null,
            "_view_module": "@jupyter-widgets/base",
            "_view_module_version": "1.2.0",
            "_view_name": "LayoutView",
            "align_content": null,
            "align_items": null,
            "align_self": null,
            "border": null,
            "bottom": null,
            "display": null,
            "flex": null,
            "flex_flow": null,
            "grid_area": null,
            "grid_auto_columns": null,
            "grid_auto_flow": null,
            "grid_auto_rows": null,
            "grid_column": null,
            "grid_gap": null,
            "grid_row": null,
            "grid_template_areas": null,
            "grid_template_columns": null,
            "grid_template_rows": null,
            "height": null,
            "justify_content": null,
            "justify_items": null,
            "left": null,
            "margin": null,
            "max_height": null,
            "max_width": null,
            "min_height": null,
            "min_width": null,
            "object_fit": null,
            "object_position": null,
            "order": null,
            "overflow": null,
            "overflow_x": null,
            "overflow_y": null,
            "padding": null,
            "right": null,
            "top": null,
            "visibility": null,
            "width": null
          }
        },
        "e1a89467a1014ba494a6bfb653180ff2": {
          "model_module": "@jupyter-widgets/controls",
          "model_name": "VBoxModel",
          "model_module_version": "1.5.0",
          "state": {
            "_dom_classes": [
              "widget-interact"
            ],
            "_model_module": "@jupyter-widgets/controls",
            "_model_module_version": "1.5.0",
            "_model_name": "VBoxModel",
            "_view_count": null,
            "_view_module": "@jupyter-widgets/controls",
            "_view_module_version": "1.5.0",
            "_view_name": "VBoxView",
            "box_style": "",
            "children": [
              "IPY_MODEL_e326f4c79cc044139507d3adddb9f7e8",
              "IPY_MODEL_be31ecb4e7c9452aa4e25764353fdf0a"
            ],
            "layout": "IPY_MODEL_7dd0eb7eb3fb495ab105f8b84a933c66"
          }
        },
        "e326f4c79cc044139507d3adddb9f7e8": {
          "model_module": "@jupyter-widgets/controls",
          "model_name": "TextModel",
          "model_module_version": "1.5.0",
          "state": {
            "_dom_classes": [],
            "_model_module": "@jupyter-widgets/controls",
            "_model_module_version": "1.5.0",
            "_model_name": "TextModel",
            "_view_count": null,
            "_view_module": "@jupyter-widgets/controls",
            "_view_module_version": "1.5.0",
            "_view_name": "TextView",
            "continuous_update": true,
            "description": "x",
            "description_tooltip": null,
            "disabled": false,
            "layout": "IPY_MODEL_db2eeceaaac34af088187da24c11711b",
            "placeholder": "​",
            "style": "IPY_MODEL_6ecb9010333e4c7c97800597a8074386",
            "value": "Hello !!!!"
          }
        },
        "be31ecb4e7c9452aa4e25764353fdf0a": {
          "model_module": "@jupyter-widgets/output",
          "model_name": "OutputModel",
          "model_module_version": "1.0.0",
          "state": {
            "_dom_classes": [],
            "_model_module": "@jupyter-widgets/output",
            "_model_module_version": "1.0.0",
            "_model_name": "OutputModel",
            "_view_count": null,
            "_view_module": "@jupyter-widgets/output",
            "_view_module_version": "1.0.0",
            "_view_name": "OutputView",
            "layout": "IPY_MODEL_f986542d6c9e4eb694aee25e050846ac",
            "msg_id": "",
            "outputs": [
              {
                "output_type": "display_data",
                "data": {
                  "text/plain": "'Hello !!!!'",
                  "application/vnd.google.colaboratory.intrinsic+json": {
                    "type": "string"
                  }
                },
                "metadata": {}
              }
            ]
          }
        },
        "7dd0eb7eb3fb495ab105f8b84a933c66": {
          "model_module": "@jupyter-widgets/base",
          "model_name": "LayoutModel",
          "model_module_version": "1.2.0",
          "state": {
            "_model_module": "@jupyter-widgets/base",
            "_model_module_version": "1.2.0",
            "_model_name": "LayoutModel",
            "_view_count": null,
            "_view_module": "@jupyter-widgets/base",
            "_view_module_version": "1.2.0",
            "_view_name": "LayoutView",
            "align_content": null,
            "align_items": null,
            "align_self": null,
            "border": null,
            "bottom": null,
            "display": null,
            "flex": null,
            "flex_flow": null,
            "grid_area": null,
            "grid_auto_columns": null,
            "grid_auto_flow": null,
            "grid_auto_rows": null,
            "grid_column": null,
            "grid_gap": null,
            "grid_row": null,
            "grid_template_areas": null,
            "grid_template_columns": null,
            "grid_template_rows": null,
            "height": null,
            "justify_content": null,
            "justify_items": null,
            "left": null,
            "margin": null,
            "max_height": null,
            "max_width": null,
            "min_height": null,
            "min_width": null,
            "object_fit": null,
            "object_position": null,
            "order": null,
            "overflow": null,
            "overflow_x": null,
            "overflow_y": null,
            "padding": null,
            "right": null,
            "top": null,
            "visibility": null,
            "width": null
          }
        },
        "db2eeceaaac34af088187da24c11711b": {
          "model_module": "@jupyter-widgets/base",
          "model_name": "LayoutModel",
          "model_module_version": "1.2.0",
          "state": {
            "_model_module": "@jupyter-widgets/base",
            "_model_module_version": "1.2.0",
            "_model_name": "LayoutModel",
            "_view_count": null,
            "_view_module": "@jupyter-widgets/base",
            "_view_module_version": "1.2.0",
            "_view_name": "LayoutView",
            "align_content": null,
            "align_items": null,
            "align_self": null,
            "border": null,
            "bottom": null,
            "display": null,
            "flex": null,
            "flex_flow": null,
            "grid_area": null,
            "grid_auto_columns": null,
            "grid_auto_flow": null,
            "grid_auto_rows": null,
            "grid_column": null,
            "grid_gap": null,
            "grid_row": null,
            "grid_template_areas": null,
            "grid_template_columns": null,
            "grid_template_rows": null,
            "height": null,
            "justify_content": null,
            "justify_items": null,
            "left": null,
            "margin": null,
            "max_height": null,
            "max_width": null,
            "min_height": null,
            "min_width": null,
            "object_fit": null,
            "object_position": null,
            "order": null,
            "overflow": null,
            "overflow_x": null,
            "overflow_y": null,
            "padding": null,
            "right": null,
            "top": null,
            "visibility": null,
            "width": null
          }
        },
        "6ecb9010333e4c7c97800597a8074386": {
          "model_module": "@jupyter-widgets/controls",
          "model_name": "DescriptionStyleModel",
          "model_module_version": "1.5.0",
          "state": {
            "_model_module": "@jupyter-widgets/controls",
            "_model_module_version": "1.5.0",
            "_model_name": "DescriptionStyleModel",
            "_view_count": null,
            "_view_module": "@jupyter-widgets/base",
            "_view_module_version": "1.2.0",
            "_view_name": "StyleView",
            "description_width": ""
          }
        },
        "f986542d6c9e4eb694aee25e050846ac": {
          "model_module": "@jupyter-widgets/base",
          "model_name": "LayoutModel",
          "model_module_version": "1.2.0",
          "state": {
            "_model_module": "@jupyter-widgets/base",
            "_model_module_version": "1.2.0",
            "_model_name": "LayoutModel",
            "_view_count": null,
            "_view_module": "@jupyter-widgets/base",
            "_view_module_version": "1.2.0",
            "_view_name": "LayoutView",
            "align_content": null,
            "align_items": null,
            "align_self": null,
            "border": null,
            "bottom": null,
            "display": null,
            "flex": null,
            "flex_flow": null,
            "grid_area": null,
            "grid_auto_columns": null,
            "grid_auto_flow": null,
            "grid_auto_rows": null,
            "grid_column": null,
            "grid_gap": null,
            "grid_row": null,
            "grid_template_areas": null,
            "grid_template_columns": null,
            "grid_template_rows": null,
            "height": null,
            "justify_content": null,
            "justify_items": null,
            "left": null,
            "margin": null,
            "max_height": null,
            "max_width": null,
            "min_height": null,
            "min_width": null,
            "object_fit": null,
            "object_position": null,
            "order": null,
            "overflow": null,
            "overflow_x": null,
            "overflow_y": null,
            "padding": null,
            "right": null,
            "top": null,
            "visibility": null,
            "width": null
          }
        },
        "05a49486c17f4bd683d1edfc646d8025": {
          "model_module": "@jupyter-widgets/controls",
          "model_name": "VBoxModel",
          "model_module_version": "1.5.0",
          "state": {
            "_dom_classes": [
              "widget-interact"
            ],
            "_model_module": "@jupyter-widgets/controls",
            "_model_module_version": "1.5.0",
            "_model_name": "VBoxModel",
            "_view_count": null,
            "_view_module": "@jupyter-widgets/controls",
            "_view_module_version": "1.5.0",
            "_view_name": "VBoxView",
            "box_style": "",
            "children": [
              "IPY_MODEL_583ee3be5b114c0ab0d39a2c14a5d572",
              "IPY_MODEL_d6b38d270b804591b57ac6cbcf3cab63",
              "IPY_MODEL_b582b3b26a8c4252a34b258853149f53"
            ],
            "layout": "IPY_MODEL_43ebdb2e65484c4d953901f6a22e536c"
          }
        },
        "583ee3be5b114c0ab0d39a2c14a5d572": {
          "model_module": "@jupyter-widgets/controls",
          "model_name": "CheckboxModel",
          "model_module_version": "1.5.0",
          "state": {
            "_dom_classes": [],
            "_model_module": "@jupyter-widgets/controls",
            "_model_module_version": "1.5.0",
            "_model_name": "CheckboxModel",
            "_view_count": null,
            "_view_module": "@jupyter-widgets/controls",
            "_view_module_version": "1.5.0",
            "_view_name": "CheckboxView",
            "description": "x",
            "description_tooltip": null,
            "disabled": false,
            "indent": true,
            "layout": "IPY_MODEL_10e0f9a05fd64349a094ebb4c2bc38ca",
            "style": "IPY_MODEL_d586d818964c456498406e1ea79d1944",
            "value": true
          }
        },
        "d6b38d270b804591b57ac6cbcf3cab63": {
          "model_module": "@jupyter-widgets/controls",
          "model_name": "FloatSliderModel",
          "model_module_version": "1.5.0",
          "state": {
            "_dom_classes": [],
            "_model_module": "@jupyter-widgets/controls",
            "_model_module_version": "1.5.0",
            "_model_name": "FloatSliderModel",
            "_view_count": null,
            "_view_module": "@jupyter-widgets/controls",
            "_view_module_version": "1.5.0",
            "_view_name": "FloatSliderView",
            "continuous_update": true,
            "description": "y",
            "description_tooltip": null,
            "disabled": false,
            "layout": "IPY_MODEL_28cb334d43e7400397e0568b3ffdf78c",
            "max": 3,
            "min": -1,
            "orientation": "horizontal",
            "readout": true,
            "readout_format": ".2f",
            "step": 0.1,
            "style": "IPY_MODEL_9237e823b8684121889040f2ed94a49c",
            "value": 1.2
          }
        },
        "b582b3b26a8c4252a34b258853149f53": {
          "model_module": "@jupyter-widgets/output",
          "model_name": "OutputModel",
          "model_module_version": "1.0.0",
          "state": {
            "_dom_classes": [],
            "_model_module": "@jupyter-widgets/output",
            "_model_module_version": "1.0.0",
            "_model_name": "OutputModel",
            "_view_count": null,
            "_view_module": "@jupyter-widgets/output",
            "_view_module_version": "1.0.0",
            "_view_name": "OutputView",
            "layout": "IPY_MODEL_84cfd3faba224b8786ffceeeb06945e4",
            "msg_id": "",
            "outputs": [
              {
                "output_type": "display_data",
                "data": {
                  "text/plain": "(True, 1.2)"
                },
                "metadata": {}
              }
            ]
          }
        },
        "43ebdb2e65484c4d953901f6a22e536c": {
          "model_module": "@jupyter-widgets/base",
          "model_name": "LayoutModel",
          "model_module_version": "1.2.0",
          "state": {
            "_model_module": "@jupyter-widgets/base",
            "_model_module_version": "1.2.0",
            "_model_name": "LayoutModel",
            "_view_count": null,
            "_view_module": "@jupyter-widgets/base",
            "_view_module_version": "1.2.0",
            "_view_name": "LayoutView",
            "align_content": null,
            "align_items": null,
            "align_self": null,
            "border": null,
            "bottom": null,
            "display": null,
            "flex": null,
            "flex_flow": null,
            "grid_area": null,
            "grid_auto_columns": null,
            "grid_auto_flow": null,
            "grid_auto_rows": null,
            "grid_column": null,
            "grid_gap": null,
            "grid_row": null,
            "grid_template_areas": null,
            "grid_template_columns": null,
            "grid_template_rows": null,
            "height": null,
            "justify_content": null,
            "justify_items": null,
            "left": null,
            "margin": null,
            "max_height": null,
            "max_width": null,
            "min_height": null,
            "min_width": null,
            "object_fit": null,
            "object_position": null,
            "order": null,
            "overflow": null,
            "overflow_x": null,
            "overflow_y": null,
            "padding": null,
            "right": null,
            "top": null,
            "visibility": null,
            "width": null
          }
        },
        "10e0f9a05fd64349a094ebb4c2bc38ca": {
          "model_module": "@jupyter-widgets/base",
          "model_name": "LayoutModel",
          "model_module_version": "1.2.0",
          "state": {
            "_model_module": "@jupyter-widgets/base",
            "_model_module_version": "1.2.0",
            "_model_name": "LayoutModel",
            "_view_count": null,
            "_view_module": "@jupyter-widgets/base",
            "_view_module_version": "1.2.0",
            "_view_name": "LayoutView",
            "align_content": null,
            "align_items": null,
            "align_self": null,
            "border": null,
            "bottom": null,
            "display": null,
            "flex": null,
            "flex_flow": null,
            "grid_area": null,
            "grid_auto_columns": null,
            "grid_auto_flow": null,
            "grid_auto_rows": null,
            "grid_column": null,
            "grid_gap": null,
            "grid_row": null,
            "grid_template_areas": null,
            "grid_template_columns": null,
            "grid_template_rows": null,
            "height": null,
            "justify_content": null,
            "justify_items": null,
            "left": null,
            "margin": null,
            "max_height": null,
            "max_width": null,
            "min_height": null,
            "min_width": null,
            "object_fit": null,
            "object_position": null,
            "order": null,
            "overflow": null,
            "overflow_x": null,
            "overflow_y": null,
            "padding": null,
            "right": null,
            "top": null,
            "visibility": null,
            "width": null
          }
        },
        "d586d818964c456498406e1ea79d1944": {
          "model_module": "@jupyter-widgets/controls",
          "model_name": "DescriptionStyleModel",
          "model_module_version": "1.5.0",
          "state": {
            "_model_module": "@jupyter-widgets/controls",
            "_model_module_version": "1.5.0",
            "_model_name": "DescriptionStyleModel",
            "_view_count": null,
            "_view_module": "@jupyter-widgets/base",
            "_view_module_version": "1.2.0",
            "_view_name": "StyleView",
            "description_width": ""
          }
        },
        "28cb334d43e7400397e0568b3ffdf78c": {
          "model_module": "@jupyter-widgets/base",
          "model_name": "LayoutModel",
          "model_module_version": "1.2.0",
          "state": {
            "_model_module": "@jupyter-widgets/base",
            "_model_module_version": "1.2.0",
            "_model_name": "LayoutModel",
            "_view_count": null,
            "_view_module": "@jupyter-widgets/base",
            "_view_module_version": "1.2.0",
            "_view_name": "LayoutView",
            "align_content": null,
            "align_items": null,
            "align_self": null,
            "border": null,
            "bottom": null,
            "display": null,
            "flex": null,
            "flex_flow": null,
            "grid_area": null,
            "grid_auto_columns": null,
            "grid_auto_flow": null,
            "grid_auto_rows": null,
            "grid_column": null,
            "grid_gap": null,
            "grid_row": null,
            "grid_template_areas": null,
            "grid_template_columns": null,
            "grid_template_rows": null,
            "height": null,
            "justify_content": null,
            "justify_items": null,
            "left": null,
            "margin": null,
            "max_height": null,
            "max_width": null,
            "min_height": null,
            "min_width": null,
            "object_fit": null,
            "object_position": null,
            "order": null,
            "overflow": null,
            "overflow_x": null,
            "overflow_y": null,
            "padding": null,
            "right": null,
            "top": null,
            "visibility": null,
            "width": null
          }
        },
        "9237e823b8684121889040f2ed94a49c": {
          "model_module": "@jupyter-widgets/controls",
          "model_name": "SliderStyleModel",
          "model_module_version": "1.5.0",
          "state": {
            "_model_module": "@jupyter-widgets/controls",
            "_model_module_version": "1.5.0",
            "_model_name": "SliderStyleModel",
            "_view_count": null,
            "_view_module": "@jupyter-widgets/base",
            "_view_module_version": "1.2.0",
            "_view_name": "StyleView",
            "description_width": "",
            "handle_color": null
          }
        },
        "84cfd3faba224b8786ffceeeb06945e4": {
          "model_module": "@jupyter-widgets/base",
          "model_name": "LayoutModel",
          "model_module_version": "1.2.0",
          "state": {
            "_model_module": "@jupyter-widgets/base",
            "_model_module_version": "1.2.0",
            "_model_name": "LayoutModel",
            "_view_count": null,
            "_view_module": "@jupyter-widgets/base",
            "_view_module_version": "1.2.0",
            "_view_name": "LayoutView",
            "align_content": null,
            "align_items": null,
            "align_self": null,
            "border": null,
            "bottom": null,
            "display": null,
            "flex": null,
            "flex_flow": null,
            "grid_area": null,
            "grid_auto_columns": null,
            "grid_auto_flow": null,
            "grid_auto_rows": null,
            "grid_column": null,
            "grid_gap": null,
            "grid_row": null,
            "grid_template_areas": null,
            "grid_template_columns": null,
            "grid_template_rows": null,
            "height": null,
            "justify_content": null,
            "justify_items": null,
            "left": null,
            "margin": null,
            "max_height": null,
            "max_width": null,
            "min_height": null,
            "min_width": null,
            "object_fit": null,
            "object_position": null,
            "order": null,
            "overflow": null,
            "overflow_x": null,
            "overflow_y": null,
            "padding": null,
            "right": null,
            "top": null,
            "visibility": null,
            "width": null
          }
        },
        "729cead81c2f4a1e800e2854c574bfe2": {
          "model_module": "@jupyter-widgets/controls",
          "model_name": "VBoxModel",
          "model_module_version": "1.5.0",
          "state": {
            "_dom_classes": [
              "widget-interact"
            ],
            "_model_module": "@jupyter-widgets/controls",
            "_model_module_version": "1.5.0",
            "_model_name": "VBoxModel",
            "_view_count": null,
            "_view_module": "@jupyter-widgets/controls",
            "_view_module_version": "1.5.0",
            "_view_name": "VBoxView",
            "box_style": "",
            "children": [
              "IPY_MODEL_c8fdfe22bd6a4b4e84ce031b57ed059a",
              "IPY_MODEL_56512b67321a4ff5abf6dd8b7d551bcf"
            ],
            "layout": "IPY_MODEL_69995143012b494cafcab524766c4ce8"
          }
        },
        "c8fdfe22bd6a4b4e84ce031b57ed059a": {
          "model_module": "@jupyter-widgets/controls",
          "model_name": "IntSliderModel",
          "model_module_version": "1.5.0",
          "state": {
            "_dom_classes": [],
            "_model_module": "@jupyter-widgets/controls",
            "_model_module_version": "1.5.0",
            "_model_name": "IntSliderModel",
            "_view_count": null,
            "_view_module": "@jupyter-widgets/controls",
            "_view_module_version": "1.5.0",
            "_view_name": "IntSliderView",
            "continuous_update": true,
            "description": "p",
            "description_tooltip": null,
            "disabled": false,
            "layout": "IPY_MODEL_b7da7bc0f7ae4a6a829818630e43811c",
            "max": 15,
            "min": -5,
            "orientation": "horizontal",
            "readout": true,
            "readout_format": "d",
            "step": 1,
            "style": "IPY_MODEL_a3ab647f15ce4b6eba375b8a4f3dff4a",
            "value": 4
          }
        },
        "56512b67321a4ff5abf6dd8b7d551bcf": {
          "model_module": "@jupyter-widgets/output",
          "model_name": "OutputModel",
          "model_module_version": "1.0.0",
          "state": {
            "_dom_classes": [],
            "_model_module": "@jupyter-widgets/output",
            "_model_module_version": "1.0.0",
            "_model_name": "OutputModel",
            "_view_count": null,
            "_view_module": "@jupyter-widgets/output",
            "_view_module_version": "1.0.0",
            "_view_name": "OutputView",
            "layout": "IPY_MODEL_986ddbeae76c4d149ff55e454f40988d",
            "msg_id": "",
            "outputs": [
              {
                "output_type": "display_data",
                "data": {
                  "text/plain": "(4, 20)"
                },
                "metadata": {}
              }
            ]
          }
        },
        "69995143012b494cafcab524766c4ce8": {
          "model_module": "@jupyter-widgets/base",
          "model_name": "LayoutModel",
          "model_module_version": "1.2.0",
          "state": {
            "_model_module": "@jupyter-widgets/base",
            "_model_module_version": "1.2.0",
            "_model_name": "LayoutModel",
            "_view_count": null,
            "_view_module": "@jupyter-widgets/base",
            "_view_module_version": "1.2.0",
            "_view_name": "LayoutView",
            "align_content": null,
            "align_items": null,
            "align_self": null,
            "border": null,
            "bottom": null,
            "display": null,
            "flex": null,
            "flex_flow": null,
            "grid_area": null,
            "grid_auto_columns": null,
            "grid_auto_flow": null,
            "grid_auto_rows": null,
            "grid_column": null,
            "grid_gap": null,
            "grid_row": null,
            "grid_template_areas": null,
            "grid_template_columns": null,
            "grid_template_rows": null,
            "height": null,
            "justify_content": null,
            "justify_items": null,
            "left": null,
            "margin": null,
            "max_height": null,
            "max_width": null,
            "min_height": null,
            "min_width": null,
            "object_fit": null,
            "object_position": null,
            "order": null,
            "overflow": null,
            "overflow_x": null,
            "overflow_y": null,
            "padding": null,
            "right": null,
            "top": null,
            "visibility": null,
            "width": null
          }
        },
        "b7da7bc0f7ae4a6a829818630e43811c": {
          "model_module": "@jupyter-widgets/base",
          "model_name": "LayoutModel",
          "model_module_version": "1.2.0",
          "state": {
            "_model_module": "@jupyter-widgets/base",
            "_model_module_version": "1.2.0",
            "_model_name": "LayoutModel",
            "_view_count": null,
            "_view_module": "@jupyter-widgets/base",
            "_view_module_version": "1.2.0",
            "_view_name": "LayoutView",
            "align_content": null,
            "align_items": null,
            "align_self": null,
            "border": null,
            "bottom": null,
            "display": null,
            "flex": null,
            "flex_flow": null,
            "grid_area": null,
            "grid_auto_columns": null,
            "grid_auto_flow": null,
            "grid_auto_rows": null,
            "grid_column": null,
            "grid_gap": null,
            "grid_row": null,
            "grid_template_areas": null,
            "grid_template_columns": null,
            "grid_template_rows": null,
            "height": null,
            "justify_content": null,
            "justify_items": null,
            "left": null,
            "margin": null,
            "max_height": null,
            "max_width": null,
            "min_height": null,
            "min_width": null,
            "object_fit": null,
            "object_position": null,
            "order": null,
            "overflow": null,
            "overflow_x": null,
            "overflow_y": null,
            "padding": null,
            "right": null,
            "top": null,
            "visibility": null,
            "width": null
          }
        },
        "a3ab647f15ce4b6eba375b8a4f3dff4a": {
          "model_module": "@jupyter-widgets/controls",
          "model_name": "SliderStyleModel",
          "model_module_version": "1.5.0",
          "state": {
            "_model_module": "@jupyter-widgets/controls",
            "_model_module_version": "1.5.0",
            "_model_name": "SliderStyleModel",
            "_view_count": null,
            "_view_module": "@jupyter-widgets/base",
            "_view_module_version": "1.2.0",
            "_view_name": "StyleView",
            "description_width": "",
            "handle_color": null
          }
        },
        "986ddbeae76c4d149ff55e454f40988d": {
          "model_module": "@jupyter-widgets/base",
          "model_name": "LayoutModel",
          "model_module_version": "1.2.0",
          "state": {
            "_model_module": "@jupyter-widgets/base",
            "_model_module_version": "1.2.0",
            "_model_name": "LayoutModel",
            "_view_count": null,
            "_view_module": "@jupyter-widgets/base",
            "_view_module_version": "1.2.0",
            "_view_name": "LayoutView",
            "align_content": null,
            "align_items": null,
            "align_self": null,
            "border": null,
            "bottom": null,
            "display": null,
            "flex": null,
            "flex_flow": null,
            "grid_area": null,
            "grid_auto_columns": null,
            "grid_auto_flow": null,
            "grid_auto_rows": null,
            "grid_column": null,
            "grid_gap": null,
            "grid_row": null,
            "grid_template_areas": null,
            "grid_template_columns": null,
            "grid_template_rows": null,
            "height": null,
            "justify_content": null,
            "justify_items": null,
            "left": null,
            "margin": null,
            "max_height": null,
            "max_width": null,
            "min_height": null,
            "min_width": null,
            "object_fit": null,
            "object_position": null,
            "order": null,
            "overflow": null,
            "overflow_x": null,
            "overflow_y": null,
            "padding": null,
            "right": null,
            "top": null,
            "visibility": null,
            "width": null
          }
        },
        "fb7b9c5be41e47bea696177729861c2b": {
          "model_module": "@jupyter-widgets/controls",
          "model_name": "VBoxModel",
          "model_module_version": "1.5.0",
          "state": {
            "_dom_classes": [
              "widget-interact"
            ],
            "_model_module": "@jupyter-widgets/controls",
            "_model_module_version": "1.5.0",
            "_model_name": "VBoxModel",
            "_view_count": null,
            "_view_module": "@jupyter-widgets/controls",
            "_view_module_version": "1.5.0",
            "_view_name": "VBoxView",
            "box_style": "",
            "children": [
              "IPY_MODEL_e39a370003e74d97981f1b09daa6c3a0",
              "IPY_MODEL_d0dcf2c0b96741ca8e22e2bf239a3b6d"
            ],
            "layout": "IPY_MODEL_c11e01c57d0b4c05880e3499bb47fc29"
          }
        },
        "e39a370003e74d97981f1b09daa6c3a0": {
          "model_module": "@jupyter-widgets/controls",
          "model_name": "IntSliderModel",
          "model_module_version": "1.5.0",
          "state": {
            "_dom_classes": [],
            "_model_module": "@jupyter-widgets/controls",
            "_model_module_version": "1.5.0",
            "_model_name": "IntSliderModel",
            "_view_count": null,
            "_view_module": "@jupyter-widgets/controls",
            "_view_module_version": "1.5.0",
            "_view_name": "IntSliderView",
            "continuous_update": true,
            "description": "x",
            "description_tooltip": null,
            "disabled": false,
            "layout": "IPY_MODEL_08e5936aa60b48a9b641b9124dc54830",
            "max": 30,
            "min": -10,
            "orientation": "horizontal",
            "readout": true,
            "readout_format": "d",
            "step": 1,
            "style": "IPY_MODEL_ac9d329f6eb048feb1283992658b432b",
            "value": 30
          }
        },
        "d0dcf2c0b96741ca8e22e2bf239a3b6d": {
          "model_module": "@jupyter-widgets/output",
          "model_name": "OutputModel",
          "model_module_version": "1.0.0",
          "state": {
            "_dom_classes": [],
            "_model_module": "@jupyter-widgets/output",
            "_model_module_version": "1.0.0",
            "_model_name": "OutputModel",
            "_view_count": null,
            "_view_module": "@jupyter-widgets/output",
            "_view_module_version": "1.0.0",
            "_view_name": "OutputView",
            "layout": "IPY_MODEL_cc05b5ced9dc4b6cbac8a61ba10c01be",
            "msg_id": "",
            "outputs": [
              {
                "output_type": "display_data",
                "data": {
                  "text/plain": "30"
                },
                "metadata": {}
              }
            ]
          }
        },
        "c11e01c57d0b4c05880e3499bb47fc29": {
          "model_module": "@jupyter-widgets/base",
          "model_name": "LayoutModel",
          "model_module_version": "1.2.0",
          "state": {
            "_model_module": "@jupyter-widgets/base",
            "_model_module_version": "1.2.0",
            "_model_name": "LayoutModel",
            "_view_count": null,
            "_view_module": "@jupyter-widgets/base",
            "_view_module_version": "1.2.0",
            "_view_name": "LayoutView",
            "align_content": null,
            "align_items": null,
            "align_self": null,
            "border": null,
            "bottom": null,
            "display": null,
            "flex": null,
            "flex_flow": null,
            "grid_area": null,
            "grid_auto_columns": null,
            "grid_auto_flow": null,
            "grid_auto_rows": null,
            "grid_column": null,
            "grid_gap": null,
            "grid_row": null,
            "grid_template_areas": null,
            "grid_template_columns": null,
            "grid_template_rows": null,
            "height": null,
            "justify_content": null,
            "justify_items": null,
            "left": null,
            "margin": null,
            "max_height": null,
            "max_width": null,
            "min_height": null,
            "min_width": null,
            "object_fit": null,
            "object_position": null,
            "order": null,
            "overflow": null,
            "overflow_x": null,
            "overflow_y": null,
            "padding": null,
            "right": null,
            "top": null,
            "visibility": null,
            "width": null
          }
        },
        "08e5936aa60b48a9b641b9124dc54830": {
          "model_module": "@jupyter-widgets/base",
          "model_name": "LayoutModel",
          "model_module_version": "1.2.0",
          "state": {
            "_model_module": "@jupyter-widgets/base",
            "_model_module_version": "1.2.0",
            "_model_name": "LayoutModel",
            "_view_count": null,
            "_view_module": "@jupyter-widgets/base",
            "_view_module_version": "1.2.0",
            "_view_name": "LayoutView",
            "align_content": null,
            "align_items": null,
            "align_self": null,
            "border": null,
            "bottom": null,
            "display": null,
            "flex": null,
            "flex_flow": null,
            "grid_area": null,
            "grid_auto_columns": null,
            "grid_auto_flow": null,
            "grid_auto_rows": null,
            "grid_column": null,
            "grid_gap": null,
            "grid_row": null,
            "grid_template_areas": null,
            "grid_template_columns": null,
            "grid_template_rows": null,
            "height": null,
            "justify_content": null,
            "justify_items": null,
            "left": null,
            "margin": null,
            "max_height": null,
            "max_width": null,
            "min_height": null,
            "min_width": null,
            "object_fit": null,
            "object_position": null,
            "order": null,
            "overflow": null,
            "overflow_x": null,
            "overflow_y": null,
            "padding": null,
            "right": null,
            "top": null,
            "visibility": null,
            "width": null
          }
        },
        "ac9d329f6eb048feb1283992658b432b": {
          "model_module": "@jupyter-widgets/controls",
          "model_name": "SliderStyleModel",
          "model_module_version": "1.5.0",
          "state": {
            "_model_module": "@jupyter-widgets/controls",
            "_model_module_version": "1.5.0",
            "_model_name": "SliderStyleModel",
            "_view_count": null,
            "_view_module": "@jupyter-widgets/base",
            "_view_module_version": "1.2.0",
            "_view_name": "StyleView",
            "description_width": "",
            "handle_color": null
          }
        },
        "cc05b5ced9dc4b6cbac8a61ba10c01be": {
          "model_module": "@jupyter-widgets/base",
          "model_name": "LayoutModel",
          "model_module_version": "1.2.0",
          "state": {
            "_model_module": "@jupyter-widgets/base",
            "_model_module_version": "1.2.0",
            "_model_name": "LayoutModel",
            "_view_count": null,
            "_view_module": "@jupyter-widgets/base",
            "_view_module_version": "1.2.0",
            "_view_name": "LayoutView",
            "align_content": null,
            "align_items": null,
            "align_self": null,
            "border": null,
            "bottom": null,
            "display": null,
            "flex": null,
            "flex_flow": null,
            "grid_area": null,
            "grid_auto_columns": null,
            "grid_auto_flow": null,
            "grid_auto_rows": null,
            "grid_column": null,
            "grid_gap": null,
            "grid_row": null,
            "grid_template_areas": null,
            "grid_template_columns": null,
            "grid_template_rows": null,
            "height": null,
            "justify_content": null,
            "justify_items": null,
            "left": null,
            "margin": null,
            "max_height": null,
            "max_width": null,
            "min_height": null,
            "min_width": null,
            "object_fit": null,
            "object_position": null,
            "order": null,
            "overflow": null,
            "overflow_x": null,
            "overflow_y": null,
            "padding": null,
            "right": null,
            "top": null,
            "visibility": null,
            "width": null
          }
        },
        "87053d5fa0124c36b5090d1feea4be5b": {
          "model_module": "@jupyter-widgets/controls",
          "model_name": "VBoxModel",
          "model_module_version": "1.5.0",
          "state": {
            "_dom_classes": [
              "widget-interact"
            ],
            "_model_module": "@jupyter-widgets/controls",
            "_model_module_version": "1.5.0",
            "_model_name": "VBoxModel",
            "_view_count": null,
            "_view_module": "@jupyter-widgets/controls",
            "_view_module_version": "1.5.0",
            "_view_name": "VBoxView",
            "box_style": "",
            "children": [
              "IPY_MODEL_746511c5b45a406ba0e2837cc682fbac",
              "IPY_MODEL_ee1fcd30d4c548d09a6fe9e5990d4b6e"
            ],
            "layout": "IPY_MODEL_dfaa6260592241a1a2b6e40ea7d52ef2"
          }
        },
        "746511c5b45a406ba0e2837cc682fbac": {
          "model_module": "@jupyter-widgets/controls",
          "model_name": "IntSliderModel",
          "model_module_version": "1.5.0",
          "state": {
            "_dom_classes": [],
            "_model_module": "@jupyter-widgets/controls",
            "_model_module_version": "1.5.0",
            "_model_name": "IntSliderModel",
            "_view_count": null,
            "_view_module": "@jupyter-widgets/controls",
            "_view_module_version": "1.5.0",
            "_view_name": "IntSliderView",
            "continuous_update": true,
            "description": "x",
            "description_tooltip": null,
            "disabled": false,
            "layout": "IPY_MODEL_559e0dd57af245869fb99f98d35dbb5b",
            "max": 10,
            "min": 0,
            "orientation": "horizontal",
            "readout": true,
            "readout_format": "d",
            "step": 2,
            "style": "IPY_MODEL_2c066b82d1f340cc88a83caa8f2ba305",
            "value": 4
          }
        },
        "ee1fcd30d4c548d09a6fe9e5990d4b6e": {
          "model_module": "@jupyter-widgets/output",
          "model_name": "OutputModel",
          "model_module_version": "1.0.0",
          "state": {
            "_dom_classes": [],
            "_model_module": "@jupyter-widgets/output",
            "_model_module_version": "1.0.0",
            "_model_name": "OutputModel",
            "_view_count": null,
            "_view_module": "@jupyter-widgets/output",
            "_view_module_version": "1.0.0",
            "_view_name": "OutputView",
            "layout": "IPY_MODEL_ffe985c307474536b3360e787ce4cf04",
            "msg_id": "",
            "outputs": [
              {
                "output_type": "display_data",
                "data": {
                  "text/plain": "4"
                },
                "metadata": {}
              }
            ]
          }
        },
        "dfaa6260592241a1a2b6e40ea7d52ef2": {
          "model_module": "@jupyter-widgets/base",
          "model_name": "LayoutModel",
          "model_module_version": "1.2.0",
          "state": {
            "_model_module": "@jupyter-widgets/base",
            "_model_module_version": "1.2.0",
            "_model_name": "LayoutModel",
            "_view_count": null,
            "_view_module": "@jupyter-widgets/base",
            "_view_module_version": "1.2.0",
            "_view_name": "LayoutView",
            "align_content": null,
            "align_items": null,
            "align_self": null,
            "border": null,
            "bottom": null,
            "display": null,
            "flex": null,
            "flex_flow": null,
            "grid_area": null,
            "grid_auto_columns": null,
            "grid_auto_flow": null,
            "grid_auto_rows": null,
            "grid_column": null,
            "grid_gap": null,
            "grid_row": null,
            "grid_template_areas": null,
            "grid_template_columns": null,
            "grid_template_rows": null,
            "height": null,
            "justify_content": null,
            "justify_items": null,
            "left": null,
            "margin": null,
            "max_height": null,
            "max_width": null,
            "min_height": null,
            "min_width": null,
            "object_fit": null,
            "object_position": null,
            "order": null,
            "overflow": null,
            "overflow_x": null,
            "overflow_y": null,
            "padding": null,
            "right": null,
            "top": null,
            "visibility": null,
            "width": null
          }
        },
        "559e0dd57af245869fb99f98d35dbb5b": {
          "model_module": "@jupyter-widgets/base",
          "model_name": "LayoutModel",
          "model_module_version": "1.2.0",
          "state": {
            "_model_module": "@jupyter-widgets/base",
            "_model_module_version": "1.2.0",
            "_model_name": "LayoutModel",
            "_view_count": null,
            "_view_module": "@jupyter-widgets/base",
            "_view_module_version": "1.2.0",
            "_view_name": "LayoutView",
            "align_content": null,
            "align_items": null,
            "align_self": null,
            "border": null,
            "bottom": null,
            "display": null,
            "flex": null,
            "flex_flow": null,
            "grid_area": null,
            "grid_auto_columns": null,
            "grid_auto_flow": null,
            "grid_auto_rows": null,
            "grid_column": null,
            "grid_gap": null,
            "grid_row": null,
            "grid_template_areas": null,
            "grid_template_columns": null,
            "grid_template_rows": null,
            "height": null,
            "justify_content": null,
            "justify_items": null,
            "left": null,
            "margin": null,
            "max_height": null,
            "max_width": null,
            "min_height": null,
            "min_width": null,
            "object_fit": null,
            "object_position": null,
            "order": null,
            "overflow": null,
            "overflow_x": null,
            "overflow_y": null,
            "padding": null,
            "right": null,
            "top": null,
            "visibility": null,
            "width": null
          }
        },
        "2c066b82d1f340cc88a83caa8f2ba305": {
          "model_module": "@jupyter-widgets/controls",
          "model_name": "SliderStyleModel",
          "model_module_version": "1.5.0",
          "state": {
            "_model_module": "@jupyter-widgets/controls",
            "_model_module_version": "1.5.0",
            "_model_name": "SliderStyleModel",
            "_view_count": null,
            "_view_module": "@jupyter-widgets/base",
            "_view_module_version": "1.2.0",
            "_view_name": "StyleView",
            "description_width": "",
            "handle_color": null
          }
        },
        "ffe985c307474536b3360e787ce4cf04": {
          "model_module": "@jupyter-widgets/base",
          "model_name": "LayoutModel",
          "model_module_version": "1.2.0",
          "state": {
            "_model_module": "@jupyter-widgets/base",
            "_model_module_version": "1.2.0",
            "_model_name": "LayoutModel",
            "_view_count": null,
            "_view_module": "@jupyter-widgets/base",
            "_view_module_version": "1.2.0",
            "_view_name": "LayoutView",
            "align_content": null,
            "align_items": null,
            "align_self": null,
            "border": null,
            "bottom": null,
            "display": null,
            "flex": null,
            "flex_flow": null,
            "grid_area": null,
            "grid_auto_columns": null,
            "grid_auto_flow": null,
            "grid_auto_rows": null,
            "grid_column": null,
            "grid_gap": null,
            "grid_row": null,
            "grid_template_areas": null,
            "grid_template_columns": null,
            "grid_template_rows": null,
            "height": null,
            "justify_content": null,
            "justify_items": null,
            "left": null,
            "margin": null,
            "max_height": null,
            "max_width": null,
            "min_height": null,
            "min_width": null,
            "object_fit": null,
            "object_position": null,
            "order": null,
            "overflow": null,
            "overflow_x": null,
            "overflow_y": null,
            "padding": null,
            "right": null,
            "top": null,
            "visibility": null,
            "width": null
          }
        },
        "83d55e2f92cf40b388d813c962dc1770": {
          "model_module": "@jupyter-widgets/controls",
          "model_name": "VBoxModel",
          "model_module_version": "1.5.0",
          "state": {
            "_dom_classes": [
              "widget-interact"
            ],
            "_model_module": "@jupyter-widgets/controls",
            "_model_module_version": "1.5.0",
            "_model_name": "VBoxModel",
            "_view_count": null,
            "_view_module": "@jupyter-widgets/controls",
            "_view_module_version": "1.5.0",
            "_view_name": "VBoxView",
            "box_style": "",
            "children": [
              "IPY_MODEL_a7333065ebd74d1c9b84e62a572abbc9",
              "IPY_MODEL_a42c924cddae4f1a892f68fb6b772e6e"
            ],
            "layout": "IPY_MODEL_4681e54db92d4509991c921847349cb2"
          }
        },
        "a7333065ebd74d1c9b84e62a572abbc9": {
          "model_module": "@jupyter-widgets/controls",
          "model_name": "FloatSliderModel",
          "model_module_version": "1.5.0",
          "state": {
            "_dom_classes": [],
            "_model_module": "@jupyter-widgets/controls",
            "_model_module_version": "1.5.0",
            "_model_name": "FloatSliderModel",
            "_view_count": null,
            "_view_module": "@jupyter-widgets/controls",
            "_view_module_version": "1.5.0",
            "_view_name": "FloatSliderView",
            "continuous_update": true,
            "description": "x",
            "description_tooltip": null,
            "disabled": false,
            "layout": "IPY_MODEL_e272e9e9632744af906c13e8179add9f",
            "max": 20,
            "min": 0,
            "orientation": "horizontal",
            "readout": true,
            "readout_format": ".2f",
            "step": 0.5,
            "style": "IPY_MODEL_61063dc2609e4ecdb051d5bbaa486ba5",
            "value": 6
          }
        },
        "a42c924cddae4f1a892f68fb6b772e6e": {
          "model_module": "@jupyter-widgets/output",
          "model_name": "OutputModel",
          "model_module_version": "1.0.0",
          "state": {
            "_dom_classes": [],
            "_model_module": "@jupyter-widgets/output",
            "_model_module_version": "1.0.0",
            "_model_name": "OutputModel",
            "_view_count": null,
            "_view_module": "@jupyter-widgets/output",
            "_view_module_version": "1.0.0",
            "_view_name": "OutputView",
            "layout": "IPY_MODEL_ff5e35de17a649b6a05d8e0701108a9f",
            "msg_id": "",
            "outputs": [
              {
                "output_type": "display_data",
                "data": {
                  "text/plain": "6.0"
                },
                "metadata": {}
              }
            ]
          }
        },
        "4681e54db92d4509991c921847349cb2": {
          "model_module": "@jupyter-widgets/base",
          "model_name": "LayoutModel",
          "model_module_version": "1.2.0",
          "state": {
            "_model_module": "@jupyter-widgets/base",
            "_model_module_version": "1.2.0",
            "_model_name": "LayoutModel",
            "_view_count": null,
            "_view_module": "@jupyter-widgets/base",
            "_view_module_version": "1.2.0",
            "_view_name": "LayoutView",
            "align_content": null,
            "align_items": null,
            "align_self": null,
            "border": null,
            "bottom": null,
            "display": null,
            "flex": null,
            "flex_flow": null,
            "grid_area": null,
            "grid_auto_columns": null,
            "grid_auto_flow": null,
            "grid_auto_rows": null,
            "grid_column": null,
            "grid_gap": null,
            "grid_row": null,
            "grid_template_areas": null,
            "grid_template_columns": null,
            "grid_template_rows": null,
            "height": null,
            "justify_content": null,
            "justify_items": null,
            "left": null,
            "margin": null,
            "max_height": null,
            "max_width": null,
            "min_height": null,
            "min_width": null,
            "object_fit": null,
            "object_position": null,
            "order": null,
            "overflow": null,
            "overflow_x": null,
            "overflow_y": null,
            "padding": null,
            "right": null,
            "top": null,
            "visibility": null,
            "width": null
          }
        },
        "e272e9e9632744af906c13e8179add9f": {
          "model_module": "@jupyter-widgets/base",
          "model_name": "LayoutModel",
          "model_module_version": "1.2.0",
          "state": {
            "_model_module": "@jupyter-widgets/base",
            "_model_module_version": "1.2.0",
            "_model_name": "LayoutModel",
            "_view_count": null,
            "_view_module": "@jupyter-widgets/base",
            "_view_module_version": "1.2.0",
            "_view_name": "LayoutView",
            "align_content": null,
            "align_items": null,
            "align_self": null,
            "border": null,
            "bottom": null,
            "display": null,
            "flex": null,
            "flex_flow": null,
            "grid_area": null,
            "grid_auto_columns": null,
            "grid_auto_flow": null,
            "grid_auto_rows": null,
            "grid_column": null,
            "grid_gap": null,
            "grid_row": null,
            "grid_template_areas": null,
            "grid_template_columns": null,
            "grid_template_rows": null,
            "height": null,
            "justify_content": null,
            "justify_items": null,
            "left": null,
            "margin": null,
            "max_height": null,
            "max_width": null,
            "min_height": null,
            "min_width": null,
            "object_fit": null,
            "object_position": null,
            "order": null,
            "overflow": null,
            "overflow_x": null,
            "overflow_y": null,
            "padding": null,
            "right": null,
            "top": null,
            "visibility": null,
            "width": null
          }
        },
        "61063dc2609e4ecdb051d5bbaa486ba5": {
          "model_module": "@jupyter-widgets/controls",
          "model_name": "SliderStyleModel",
          "model_module_version": "1.5.0",
          "state": {
            "_model_module": "@jupyter-widgets/controls",
            "_model_module_version": "1.5.0",
            "_model_name": "SliderStyleModel",
            "_view_count": null,
            "_view_module": "@jupyter-widgets/base",
            "_view_module_version": "1.2.0",
            "_view_name": "StyleView",
            "description_width": "",
            "handle_color": null
          }
        },
        "ff5e35de17a649b6a05d8e0701108a9f": {
          "model_module": "@jupyter-widgets/base",
          "model_name": "LayoutModel",
          "model_module_version": "1.2.0",
          "state": {
            "_model_module": "@jupyter-widgets/base",
            "_model_module_version": "1.2.0",
            "_model_name": "LayoutModel",
            "_view_count": null,
            "_view_module": "@jupyter-widgets/base",
            "_view_module_version": "1.2.0",
            "_view_name": "LayoutView",
            "align_content": null,
            "align_items": null,
            "align_self": null,
            "border": null,
            "bottom": null,
            "display": null,
            "flex": null,
            "flex_flow": null,
            "grid_area": null,
            "grid_auto_columns": null,
            "grid_auto_flow": null,
            "grid_auto_rows": null,
            "grid_column": null,
            "grid_gap": null,
            "grid_row": null,
            "grid_template_areas": null,
            "grid_template_columns": null,
            "grid_template_rows": null,
            "height": null,
            "justify_content": null,
            "justify_items": null,
            "left": null,
            "margin": null,
            "max_height": null,
            "max_width": null,
            "min_height": null,
            "min_width": null,
            "object_fit": null,
            "object_position": null,
            "order": null,
            "overflow": null,
            "overflow_x": null,
            "overflow_y": null,
            "padding": null,
            "right": null,
            "top": null,
            "visibility": null,
            "width": null
          }
        },
        "0949ac64b63e4ae89688490c09202516": {
          "model_module": "@jupyter-widgets/controls",
          "model_name": "VBoxModel",
          "model_module_version": "1.5.0",
          "state": {
            "_dom_classes": [
              "widget-interact"
            ],
            "_model_module": "@jupyter-widgets/controls",
            "_model_module_version": "1.5.0",
            "_model_name": "VBoxModel",
            "_view_count": null,
            "_view_module": "@jupyter-widgets/controls",
            "_view_module_version": "1.5.0",
            "_view_name": "VBoxView",
            "box_style": "",
            "children": [
              "IPY_MODEL_e5bb6ddb31fc4e009dbc6b7d4f52051d",
              "IPY_MODEL_1d64f649e9f44ef592b53a6c0b2f4ba7"
            ],
            "layout": "IPY_MODEL_8ae02a7386c2453f9fef25bd7038c822"
          }
        },
        "e5bb6ddb31fc4e009dbc6b7d4f52051d": {
          "model_module": "@jupyter-widgets/controls",
          "model_name": "DropdownModel",
          "model_module_version": "1.5.0",
          "state": {
            "_dom_classes": [],
            "_model_module": "@jupyter-widgets/controls",
            "_model_module_version": "1.5.0",
            "_model_name": "DropdownModel",
            "_options_labels": [
              "apples",
              "oranges"
            ],
            "_view_count": null,
            "_view_module": "@jupyter-widgets/controls",
            "_view_module_version": "1.5.0",
            "_view_name": "DropdownView",
            "description": "x",
            "description_tooltip": null,
            "disabled": false,
            "index": 0,
            "layout": "IPY_MODEL_5e0c14c64f444bea8ae313055591815e",
            "style": "IPY_MODEL_5798ba0f9c32489093e3387a4112d734"
          }
        },
        "1d64f649e9f44ef592b53a6c0b2f4ba7": {
          "model_module": "@jupyter-widgets/output",
          "model_name": "OutputModel",
          "model_module_version": "1.0.0",
          "state": {
            "_dom_classes": [],
            "_model_module": "@jupyter-widgets/output",
            "_model_module_version": "1.0.0",
            "_model_name": "OutputModel",
            "_view_count": null,
            "_view_module": "@jupyter-widgets/output",
            "_view_module_version": "1.0.0",
            "_view_name": "OutputView",
            "layout": "IPY_MODEL_6f5a3c64edc4444cade170fffb7b5b86",
            "msg_id": "",
            "outputs": [
              {
                "output_type": "display_data",
                "data": {
                  "text/plain": "'apples'",
                  "application/vnd.google.colaboratory.intrinsic+json": {
                    "type": "string"
                  }
                },
                "metadata": {}
              }
            ]
          }
        },
        "8ae02a7386c2453f9fef25bd7038c822": {
          "model_module": "@jupyter-widgets/base",
          "model_name": "LayoutModel",
          "model_module_version": "1.2.0",
          "state": {
            "_model_module": "@jupyter-widgets/base",
            "_model_module_version": "1.2.0",
            "_model_name": "LayoutModel",
            "_view_count": null,
            "_view_module": "@jupyter-widgets/base",
            "_view_module_version": "1.2.0",
            "_view_name": "LayoutView",
            "align_content": null,
            "align_items": null,
            "align_self": null,
            "border": null,
            "bottom": null,
            "display": null,
            "flex": null,
            "flex_flow": null,
            "grid_area": null,
            "grid_auto_columns": null,
            "grid_auto_flow": null,
            "grid_auto_rows": null,
            "grid_column": null,
            "grid_gap": null,
            "grid_row": null,
            "grid_template_areas": null,
            "grid_template_columns": null,
            "grid_template_rows": null,
            "height": null,
            "justify_content": null,
            "justify_items": null,
            "left": null,
            "margin": null,
            "max_height": null,
            "max_width": null,
            "min_height": null,
            "min_width": null,
            "object_fit": null,
            "object_position": null,
            "order": null,
            "overflow": null,
            "overflow_x": null,
            "overflow_y": null,
            "padding": null,
            "right": null,
            "top": null,
            "visibility": null,
            "width": null
          }
        },
        "5e0c14c64f444bea8ae313055591815e": {
          "model_module": "@jupyter-widgets/base",
          "model_name": "LayoutModel",
          "model_module_version": "1.2.0",
          "state": {
            "_model_module": "@jupyter-widgets/base",
            "_model_module_version": "1.2.0",
            "_model_name": "LayoutModel",
            "_view_count": null,
            "_view_module": "@jupyter-widgets/base",
            "_view_module_version": "1.2.0",
            "_view_name": "LayoutView",
            "align_content": null,
            "align_items": null,
            "align_self": null,
            "border": null,
            "bottom": null,
            "display": null,
            "flex": null,
            "flex_flow": null,
            "grid_area": null,
            "grid_auto_columns": null,
            "grid_auto_flow": null,
            "grid_auto_rows": null,
            "grid_column": null,
            "grid_gap": null,
            "grid_row": null,
            "grid_template_areas": null,
            "grid_template_columns": null,
            "grid_template_rows": null,
            "height": null,
            "justify_content": null,
            "justify_items": null,
            "left": null,
            "margin": null,
            "max_height": null,
            "max_width": null,
            "min_height": null,
            "min_width": null,
            "object_fit": null,
            "object_position": null,
            "order": null,
            "overflow": null,
            "overflow_x": null,
            "overflow_y": null,
            "padding": null,
            "right": null,
            "top": null,
            "visibility": null,
            "width": null
          }
        },
        "5798ba0f9c32489093e3387a4112d734": {
          "model_module": "@jupyter-widgets/controls",
          "model_name": "DescriptionStyleModel",
          "model_module_version": "1.5.0",
          "state": {
            "_model_module": "@jupyter-widgets/controls",
            "_model_module_version": "1.5.0",
            "_model_name": "DescriptionStyleModel",
            "_view_count": null,
            "_view_module": "@jupyter-widgets/base",
            "_view_module_version": "1.2.0",
            "_view_name": "StyleView",
            "description_width": ""
          }
        },
        "6f5a3c64edc4444cade170fffb7b5b86": {
          "model_module": "@jupyter-widgets/base",
          "model_name": "LayoutModel",
          "model_module_version": "1.2.0",
          "state": {
            "_model_module": "@jupyter-widgets/base",
            "_model_module_version": "1.2.0",
            "_model_name": "LayoutModel",
            "_view_count": null,
            "_view_module": "@jupyter-widgets/base",
            "_view_module_version": "1.2.0",
            "_view_name": "LayoutView",
            "align_content": null,
            "align_items": null,
            "align_self": null,
            "border": null,
            "bottom": null,
            "display": null,
            "flex": null,
            "flex_flow": null,
            "grid_area": null,
            "grid_auto_columns": null,
            "grid_auto_flow": null,
            "grid_auto_rows": null,
            "grid_column": null,
            "grid_gap": null,
            "grid_row": null,
            "grid_template_areas": null,
            "grid_template_columns": null,
            "grid_template_rows": null,
            "height": null,
            "justify_content": null,
            "justify_items": null,
            "left": null,
            "margin": null,
            "max_height": null,
            "max_width": null,
            "min_height": null,
            "min_width": null,
            "object_fit": null,
            "object_position": null,
            "order": null,
            "overflow": null,
            "overflow_x": null,
            "overflow_y": null,
            "padding": null,
            "right": null,
            "top": null,
            "visibility": null,
            "width": null
          }
        },
        "2cc6d45e25a042eda1024dc44665f181": {
          "model_module": "@jupyter-widgets/controls",
          "model_name": "IntSliderModel",
          "model_module_version": "1.5.0",
          "state": {
            "_dom_classes": [],
            "_model_module": "@jupyter-widgets/controls",
            "_model_module_version": "1.5.0",
            "_model_name": "IntSliderModel",
            "_view_count": null,
            "_view_module": "@jupyter-widgets/controls",
            "_view_module_version": "1.5.0",
            "_view_name": "IntSliderView",
            "continuous_update": true,
            "description": "",
            "description_tooltip": null,
            "disabled": false,
            "layout": "IPY_MODEL_ae231efd3da64fce82be0b9660d6886a",
            "max": 100,
            "min": 0,
            "orientation": "vertical",
            "readout": true,
            "readout_format": "d",
            "step": 1,
            "style": "IPY_MODEL_c233a2b15c984b13b8455bd4d19695c7",
            "value": 3
          }
        },
        "ae231efd3da64fce82be0b9660d6886a": {
          "model_module": "@jupyter-widgets/base",
          "model_name": "LayoutModel",
          "model_module_version": "1.2.0",
          "state": {
            "_model_module": "@jupyter-widgets/base",
            "_model_module_version": "1.2.0",
            "_model_name": "LayoutModel",
            "_view_count": null,
            "_view_module": "@jupyter-widgets/base",
            "_view_module_version": "1.2.0",
            "_view_name": "LayoutView",
            "align_content": null,
            "align_items": null,
            "align_self": null,
            "border": null,
            "bottom": null,
            "display": null,
            "flex": null,
            "flex_flow": null,
            "grid_area": null,
            "grid_auto_columns": null,
            "grid_auto_flow": null,
            "grid_auto_rows": null,
            "grid_column": null,
            "grid_gap": null,
            "grid_row": null,
            "grid_template_areas": null,
            "grid_template_columns": null,
            "grid_template_rows": null,
            "height": null,
            "justify_content": null,
            "justify_items": null,
            "left": null,
            "margin": null,
            "max_height": null,
            "max_width": null,
            "min_height": null,
            "min_width": null,
            "object_fit": null,
            "object_position": null,
            "order": null,
            "overflow": null,
            "overflow_x": null,
            "overflow_y": null,
            "padding": null,
            "right": null,
            "top": null,
            "visibility": null,
            "width": null
          }
        },
        "c233a2b15c984b13b8455bd4d19695c7": {
          "model_module": "@jupyter-widgets/controls",
          "model_name": "SliderStyleModel",
          "model_module_version": "1.5.0",
          "state": {
            "_model_module": "@jupyter-widgets/controls",
            "_model_module_version": "1.5.0",
            "_model_name": "SliderStyleModel",
            "_view_count": null,
            "_view_module": "@jupyter-widgets/base",
            "_view_module_version": "1.2.0",
            "_view_name": "StyleView",
            "description_width": "",
            "handle_color": null
          }
        },
        "7b2e919a1bc84bc78944b3d9e979c4e2": {
          "model_module": "@jupyter-widgets/controls",
          "model_name": "FloatTextModel",
          "model_module_version": "1.5.0",
          "state": {
            "_dom_classes": [],
            "_model_module": "@jupyter-widgets/controls",
            "_model_module_version": "1.5.0",
            "_model_name": "FloatTextModel",
            "_view_count": null,
            "_view_module": "@jupyter-widgets/controls",
            "_view_module_version": "1.5.0",
            "_view_name": "FloatTextView",
            "continuous_update": false,
            "description": "",
            "description_tooltip": null,
            "disabled": false,
            "layout": "IPY_MODEL_a92632c1d4bc40d79c3cec859b5c5817",
            "step": null,
            "style": "IPY_MODEL_b6322ab23db64ad98dbe538f1885fa56",
            "value": 1
          }
        },
        "a92632c1d4bc40d79c3cec859b5c5817": {
          "model_module": "@jupyter-widgets/base",
          "model_name": "LayoutModel",
          "model_module_version": "1.2.0",
          "state": {
            "_model_module": "@jupyter-widgets/base",
            "_model_module_version": "1.2.0",
            "_model_name": "LayoutModel",
            "_view_count": null,
            "_view_module": "@jupyter-widgets/base",
            "_view_module_version": "1.2.0",
            "_view_name": "LayoutView",
            "align_content": null,
            "align_items": null,
            "align_self": null,
            "border": null,
            "bottom": null,
            "display": null,
            "flex": null,
            "flex_flow": null,
            "grid_area": null,
            "grid_auto_columns": null,
            "grid_auto_flow": null,
            "grid_auto_rows": null,
            "grid_column": null,
            "grid_gap": null,
            "grid_row": null,
            "grid_template_areas": null,
            "grid_template_columns": null,
            "grid_template_rows": null,
            "height": null,
            "justify_content": null,
            "justify_items": null,
            "left": null,
            "margin": null,
            "max_height": null,
            "max_width": null,
            "min_height": null,
            "min_width": null,
            "object_fit": null,
            "object_position": null,
            "order": null,
            "overflow": null,
            "overflow_x": null,
            "overflow_y": null,
            "padding": null,
            "right": null,
            "top": null,
            "visibility": null,
            "width": null
          }
        },
        "b6322ab23db64ad98dbe538f1885fa56": {
          "model_module": "@jupyter-widgets/controls",
          "model_name": "DescriptionStyleModel",
          "model_module_version": "1.5.0",
          "state": {
            "_model_module": "@jupyter-widgets/controls",
            "_model_module_version": "1.5.0",
            "_model_name": "DescriptionStyleModel",
            "_view_count": null,
            "_view_module": "@jupyter-widgets/base",
            "_view_module_version": "1.2.0",
            "_view_name": "StyleView",
            "description_width": ""
          }
        },
        "40d5b496e3874b06a6d7b3a6a814a5da": {
          "model_module": "@jupyter-widgets/controls",
          "model_name": "FloatSliderModel",
          "model_module_version": "1.5.0",
          "state": {
            "_dom_classes": [],
            "_model_module": "@jupyter-widgets/controls",
            "_model_module_version": "1.5.0",
            "_model_name": "FloatSliderModel",
            "_view_count": null,
            "_view_module": "@jupyter-widgets/controls",
            "_view_module_version": "1.5.0",
            "_view_name": "FloatSliderView",
            "continuous_update": true,
            "description": "",
            "description_tooltip": null,
            "disabled": false,
            "layout": "IPY_MODEL_9d2622bb0e3d4c4cab652c52ca730132",
            "max": 100,
            "min": 0,
            "orientation": "horizontal",
            "readout": true,
            "readout_format": ".2f",
            "step": 0.1,
            "style": "IPY_MODEL_d1b9666ea5aa40649bd911328640f92b",
            "value": 1
          }
        },
        "9d2622bb0e3d4c4cab652c52ca730132": {
          "model_module": "@jupyter-widgets/base",
          "model_name": "LayoutModel",
          "model_module_version": "1.2.0",
          "state": {
            "_model_module": "@jupyter-widgets/base",
            "_model_module_version": "1.2.0",
            "_model_name": "LayoutModel",
            "_view_count": null,
            "_view_module": "@jupyter-widgets/base",
            "_view_module_version": "1.2.0",
            "_view_name": "LayoutView",
            "align_content": null,
            "align_items": null,
            "align_self": null,
            "border": null,
            "bottom": null,
            "display": null,
            "flex": null,
            "flex_flow": null,
            "grid_area": null,
            "grid_auto_columns": null,
            "grid_auto_flow": null,
            "grid_auto_rows": null,
            "grid_column": null,
            "grid_gap": null,
            "grid_row": null,
            "grid_template_areas": null,
            "grid_template_columns": null,
            "grid_template_rows": null,
            "height": null,
            "justify_content": null,
            "justify_items": null,
            "left": null,
            "margin": null,
            "max_height": null,
            "max_width": null,
            "min_height": null,
            "min_width": null,
            "object_fit": null,
            "object_position": null,
            "order": null,
            "overflow": null,
            "overflow_x": null,
            "overflow_y": null,
            "padding": null,
            "right": null,
            "top": null,
            "visibility": null,
            "width": null
          }
        },
        "d1b9666ea5aa40649bd911328640f92b": {
          "model_module": "@jupyter-widgets/controls",
          "model_name": "SliderStyleModel",
          "model_module_version": "1.5.0",
          "state": {
            "_model_module": "@jupyter-widgets/controls",
            "_model_module_version": "1.5.0",
            "_model_name": "SliderStyleModel",
            "_view_count": null,
            "_view_module": "@jupyter-widgets/base",
            "_view_module_version": "1.2.0",
            "_view_name": "StyleView",
            "description_width": "",
            "handle_color": null
          }
        },
        "663ea8fbdfe040a689222e34d72ede52": {
          "model_module": "@jupyter-widgets/controls",
          "model_name": "VBoxModel",
          "model_module_version": "1.5.0",
          "state": {
            "_dom_classes": [
              "widget-interact"
            ],
            "_model_module": "@jupyter-widgets/controls",
            "_model_module_version": "1.5.0",
            "_model_name": "VBoxModel",
            "_view_count": null,
            "_view_module": "@jupyter-widgets/controls",
            "_view_module_version": "1.5.0",
            "_view_name": "VBoxView",
            "box_style": "",
            "children": [
              "IPY_MODEL_ab1a865915064effbf9c0f72294ebb1b",
              "IPY_MODEL_b03b079a3a4249468070990e21898b40",
              "IPY_MODEL_3d82a0a67c184ecdb3546be1409b3c21",
              "IPY_MODEL_dca5a6932a61477db2a2cfc91bb6169d",
              "IPY_MODEL_2ab6b60f482d4c54bd7da79d11ee062b",
              "IPY_MODEL_12703d2deb8e495595134ced0bf52fa4",
              "IPY_MODEL_b49b2066a3454692aafea457a9c1d33e"
            ],
            "layout": "IPY_MODEL_b56c4db0f32c49479016e7c613a6131f"
          }
        },
        "ab1a865915064effbf9c0f72294ebb1b": {
          "model_module": "@jupyter-widgets/controls",
          "model_name": "IntSliderModel",
          "model_module_version": "1.5.0",
          "state": {
            "_dom_classes": [],
            "_model_module": "@jupyter-widgets/controls",
            "_model_module_version": "1.5.0",
            "_model_name": "IntSliderModel",
            "_view_count": null,
            "_view_module": "@jupyter-widgets/controls",
            "_view_module_version": "1.5.0",
            "_view_name": "IntSliderView",
            "continuous_update": true,
            "description": "N",
            "description_tooltip": null,
            "disabled": false,
            "layout": "IPY_MODEL_48729b8aafa74c46a2624e68d471f045",
            "max": 50,
            "min": 0,
            "orientation": "horizontal",
            "readout": true,
            "readout_format": "d",
            "step": 1,
            "style": "IPY_MODEL_d84b4ae60e624f9986327452c33d8e2c",
            "value": 10
          }
        },
        "b03b079a3a4249468070990e21898b40": {
          "model_module": "@jupyter-widgets/controls",
          "model_name": "FloatSliderModel",
          "model_module_version": "1.5.0",
          "state": {
            "_dom_classes": [],
            "_model_module": "@jupyter-widgets/controls",
            "_model_module_version": "1.5.0",
            "_model_name": "FloatSliderModel",
            "_view_count": null,
            "_view_module": "@jupyter-widgets/controls",
            "_view_module_version": "1.5.0",
            "_view_name": "FloatSliderView",
            "continuous_update": true,
            "description": "angle",
            "description_tooltip": null,
            "disabled": false,
            "layout": "IPY_MODEL_80b1c5a93da84177b5edf62e4d5a7c1c",
            "max": 360,
            "min": 0,
            "orientation": "horizontal",
            "readout": true,
            "readout_format": ".2f",
            "step": 0.1,
            "style": "IPY_MODEL_e29c7023b9d845b4a225f13bfa702b7e",
            "value": 180
          }
        },
        "3d82a0a67c184ecdb3546be1409b3c21": {
          "model_module": "@jupyter-widgets/controls",
          "model_name": "FloatSliderModel",
          "model_module_version": "1.5.0",
          "state": {
            "_dom_classes": [],
            "_model_module": "@jupyter-widgets/controls",
            "_model_module_version": "1.5.0",
            "_model_name": "FloatSliderModel",
            "_view_count": null,
            "_view_module": "@jupyter-widgets/controls",
            "_view_module_version": "1.5.0",
            "_view_name": "FloatSliderView",
            "continuous_update": true,
            "description": "max_time",
            "description_tooltip": null,
            "disabled": false,
            "layout": "IPY_MODEL_4655e8111d224e349401a95d44fa9df9",
            "max": 12,
            "min": -4,
            "orientation": "horizontal",
            "readout": true,
            "readout_format": ".2f",
            "step": 0.1,
            "style": "IPY_MODEL_086f548c29f54157ad4e03b286ffdd6e",
            "value": 4
          }
        },
        "dca5a6932a61477db2a2cfc91bb6169d": {
          "model_module": "@jupyter-widgets/controls",
          "model_name": "FloatSliderModel",
          "model_module_version": "1.5.0",
          "state": {
            "_dom_classes": [],
            "_model_module": "@jupyter-widgets/controls",
            "_model_module_version": "1.5.0",
            "_model_name": "FloatSliderModel",
            "_view_count": null,
            "_view_module": "@jupyter-widgets/controls",
            "_view_module_version": "1.5.0",
            "_view_name": "FloatSliderView",
            "continuous_update": true,
            "description": "sigma",
            "description_tooltip": null,
            "disabled": false,
            "layout": "IPY_MODEL_e6eb94f9e1cf4f09af1608548d756967",
            "max": 50,
            "min": 0,
            "orientation": "horizontal",
            "readout": true,
            "readout_format": ".2f",
            "step": 0.1,
            "style": "IPY_MODEL_817f3de447d548b8a961f73437c5e0c8",
            "value": 10
          }
        },
        "2ab6b60f482d4c54bd7da79d11ee062b": {
          "model_module": "@jupyter-widgets/controls",
          "model_name": "FloatSliderModel",
          "model_module_version": "1.5.0",
          "state": {
            "_dom_classes": [],
            "_model_module": "@jupyter-widgets/controls",
            "_model_module_version": "1.5.0",
            "_model_name": "FloatSliderModel",
            "_view_count": null,
            "_view_module": "@jupyter-widgets/controls",
            "_view_module_version": "1.5.0",
            "_view_name": "FloatSliderView",
            "continuous_update": true,
            "description": "beta",
            "description_tooltip": null,
            "disabled": false,
            "layout": "IPY_MODEL_a1006139eccf49cb8b1c8f142eb1dfb3",
            "max": 8,
            "min": -2.6666666666666665,
            "orientation": "horizontal",
            "readout": true,
            "readout_format": ".2f",
            "step": 0.1,
            "style": "IPY_MODEL_fd1f1f6f4f6546588b8d2e9299c9abf9",
            "value": 2.6666666666666665
          }
        },
        "12703d2deb8e495595134ced0bf52fa4": {
          "model_module": "@jupyter-widgets/controls",
          "model_name": "FloatSliderModel",
          "model_module_version": "1.5.0",
          "state": {
            "_dom_classes": [],
            "_model_module": "@jupyter-widgets/controls",
            "_model_module_version": "1.5.0",
            "_model_name": "FloatSliderModel",
            "_view_count": null,
            "_view_module": "@jupyter-widgets/controls",
            "_view_module_version": "1.5.0",
            "_view_name": "FloatSliderView",
            "continuous_update": true,
            "description": "rho",
            "description_tooltip": null,
            "disabled": false,
            "layout": "IPY_MODEL_dec5eec5cd02487681f416228d4e00a9",
            "max": 50,
            "min": 0,
            "orientation": "horizontal",
            "readout": true,
            "readout_format": ".2f",
            "step": 0.1,
            "style": "IPY_MODEL_2cd95b36ae7141a6a7bf63817c262807",
            "value": 28
          }
        },
        "b49b2066a3454692aafea457a9c1d33e": {
          "model_module": "@jupyter-widgets/output",
          "model_name": "OutputModel",
          "model_module_version": "1.0.0",
          "state": {
            "_dom_classes": [],
            "_model_module": "@jupyter-widgets/output",
            "_model_module_version": "1.0.0",
            "_model_name": "OutputModel",
            "_view_count": null,
            "_view_module": "@jupyter-widgets/output",
            "_view_module_version": "1.0.0",
            "_view_name": "OutputView",
            "layout": "IPY_MODEL_8e8f5cd3dc5e4962a9cf1fe2cd176961",
            "msg_id": "",
            "outputs": [
              {
                "output_type": "display_data",
                "data": {
                  "text/plain": "<Figure size 640x480 with 1 Axes>",
                  "image/png": "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\n"
                },
                "metadata": {}
              }
            ]
          }
        },
        "b56c4db0f32c49479016e7c613a6131f": {
          "model_module": "@jupyter-widgets/base",
          "model_name": "LayoutModel",
          "model_module_version": "1.2.0",
          "state": {
            "_model_module": "@jupyter-widgets/base",
            "_model_module_version": "1.2.0",
            "_model_name": "LayoutModel",
            "_view_count": null,
            "_view_module": "@jupyter-widgets/base",
            "_view_module_version": "1.2.0",
            "_view_name": "LayoutView",
            "align_content": null,
            "align_items": null,
            "align_self": null,
            "border": null,
            "bottom": null,
            "display": null,
            "flex": null,
            "flex_flow": null,
            "grid_area": null,
            "grid_auto_columns": null,
            "grid_auto_flow": null,
            "grid_auto_rows": null,
            "grid_column": null,
            "grid_gap": null,
            "grid_row": null,
            "grid_template_areas": null,
            "grid_template_columns": null,
            "grid_template_rows": null,
            "height": null,
            "justify_content": null,
            "justify_items": null,
            "left": null,
            "margin": null,
            "max_height": null,
            "max_width": null,
            "min_height": null,
            "min_width": null,
            "object_fit": null,
            "object_position": null,
            "order": null,
            "overflow": null,
            "overflow_x": null,
            "overflow_y": null,
            "padding": null,
            "right": null,
            "top": null,
            "visibility": null,
            "width": null
          }
        },
        "48729b8aafa74c46a2624e68d471f045": {
          "model_module": "@jupyter-widgets/base",
          "model_name": "LayoutModel",
          "model_module_version": "1.2.0",
          "state": {
            "_model_module": "@jupyter-widgets/base",
            "_model_module_version": "1.2.0",
            "_model_name": "LayoutModel",
            "_view_count": null,
            "_view_module": "@jupyter-widgets/base",
            "_view_module_version": "1.2.0",
            "_view_name": "LayoutView",
            "align_content": null,
            "align_items": null,
            "align_self": null,
            "border": null,
            "bottom": null,
            "display": null,
            "flex": null,
            "flex_flow": null,
            "grid_area": null,
            "grid_auto_columns": null,
            "grid_auto_flow": null,
            "grid_auto_rows": null,
            "grid_column": null,
            "grid_gap": null,
            "grid_row": null,
            "grid_template_areas": null,
            "grid_template_columns": null,
            "grid_template_rows": null,
            "height": null,
            "justify_content": null,
            "justify_items": null,
            "left": null,
            "margin": null,
            "max_height": null,
            "max_width": null,
            "min_height": null,
            "min_width": null,
            "object_fit": null,
            "object_position": null,
            "order": null,
            "overflow": null,
            "overflow_x": null,
            "overflow_y": null,
            "padding": null,
            "right": null,
            "top": null,
            "visibility": null,
            "width": null
          }
        },
        "d84b4ae60e624f9986327452c33d8e2c": {
          "model_module": "@jupyter-widgets/controls",
          "model_name": "SliderStyleModel",
          "model_module_version": "1.5.0",
          "state": {
            "_model_module": "@jupyter-widgets/controls",
            "_model_module_version": "1.5.0",
            "_model_name": "SliderStyleModel",
            "_view_count": null,
            "_view_module": "@jupyter-widgets/base",
            "_view_module_version": "1.2.0",
            "_view_name": "StyleView",
            "description_width": "",
            "handle_color": null
          }
        },
        "80b1c5a93da84177b5edf62e4d5a7c1c": {
          "model_module": "@jupyter-widgets/base",
          "model_name": "LayoutModel",
          "model_module_version": "1.2.0",
          "state": {
            "_model_module": "@jupyter-widgets/base",
            "_model_module_version": "1.2.0",
            "_model_name": "LayoutModel",
            "_view_count": null,
            "_view_module": "@jupyter-widgets/base",
            "_view_module_version": "1.2.0",
            "_view_name": "LayoutView",
            "align_content": null,
            "align_items": null,
            "align_self": null,
            "border": null,
            "bottom": null,
            "display": null,
            "flex": null,
            "flex_flow": null,
            "grid_area": null,
            "grid_auto_columns": null,
            "grid_auto_flow": null,
            "grid_auto_rows": null,
            "grid_column": null,
            "grid_gap": null,
            "grid_row": null,
            "grid_template_areas": null,
            "grid_template_columns": null,
            "grid_template_rows": null,
            "height": null,
            "justify_content": null,
            "justify_items": null,
            "left": null,
            "margin": null,
            "max_height": null,
            "max_width": null,
            "min_height": null,
            "min_width": null,
            "object_fit": null,
            "object_position": null,
            "order": null,
            "overflow": null,
            "overflow_x": null,
            "overflow_y": null,
            "padding": null,
            "right": null,
            "top": null,
            "visibility": null,
            "width": null
          }
        },
        "e29c7023b9d845b4a225f13bfa702b7e": {
          "model_module": "@jupyter-widgets/controls",
          "model_name": "SliderStyleModel",
          "model_module_version": "1.5.0",
          "state": {
            "_model_module": "@jupyter-widgets/controls",
            "_model_module_version": "1.5.0",
            "_model_name": "SliderStyleModel",
            "_view_count": null,
            "_view_module": "@jupyter-widgets/base",
            "_view_module_version": "1.2.0",
            "_view_name": "StyleView",
            "description_width": "",
            "handle_color": null
          }
        },
        "4655e8111d224e349401a95d44fa9df9": {
          "model_module": "@jupyter-widgets/base",
          "model_name": "LayoutModel",
          "model_module_version": "1.2.0",
          "state": {
            "_model_module": "@jupyter-widgets/base",
            "_model_module_version": "1.2.0",
            "_model_name": "LayoutModel",
            "_view_count": null,
            "_view_module": "@jupyter-widgets/base",
            "_view_module_version": "1.2.0",
            "_view_name": "LayoutView",
            "align_content": null,
            "align_items": null,
            "align_self": null,
            "border": null,
            "bottom": null,
            "display": null,
            "flex": null,
            "flex_flow": null,
            "grid_area": null,
            "grid_auto_columns": null,
            "grid_auto_flow": null,
            "grid_auto_rows": null,
            "grid_column": null,
            "grid_gap": null,
            "grid_row": null,
            "grid_template_areas": null,
            "grid_template_columns": null,
            "grid_template_rows": null,
            "height": null,
            "justify_content": null,
            "justify_items": null,
            "left": null,
            "margin": null,
            "max_height": null,
            "max_width": null,
            "min_height": null,
            "min_width": null,
            "object_fit": null,
            "object_position": null,
            "order": null,
            "overflow": null,
            "overflow_x": null,
            "overflow_y": null,
            "padding": null,
            "right": null,
            "top": null,
            "visibility": null,
            "width": null
          }
        },
        "086f548c29f54157ad4e03b286ffdd6e": {
          "model_module": "@jupyter-widgets/controls",
          "model_name": "SliderStyleModel",
          "model_module_version": "1.5.0",
          "state": {
            "_model_module": "@jupyter-widgets/controls",
            "_model_module_version": "1.5.0",
            "_model_name": "SliderStyleModel",
            "_view_count": null,
            "_view_module": "@jupyter-widgets/base",
            "_view_module_version": "1.2.0",
            "_view_name": "StyleView",
            "description_width": "",
            "handle_color": null
          }
        },
        "e6eb94f9e1cf4f09af1608548d756967": {
          "model_module": "@jupyter-widgets/base",
          "model_name": "LayoutModel",
          "model_module_version": "1.2.0",
          "state": {
            "_model_module": "@jupyter-widgets/base",
            "_model_module_version": "1.2.0",
            "_model_name": "LayoutModel",
            "_view_count": null,
            "_view_module": "@jupyter-widgets/base",
            "_view_module_version": "1.2.0",
            "_view_name": "LayoutView",
            "align_content": null,
            "align_items": null,
            "align_self": null,
            "border": null,
            "bottom": null,
            "display": null,
            "flex": null,
            "flex_flow": null,
            "grid_area": null,
            "grid_auto_columns": null,
            "grid_auto_flow": null,
            "grid_auto_rows": null,
            "grid_column": null,
            "grid_gap": null,
            "grid_row": null,
            "grid_template_areas": null,
            "grid_template_columns": null,
            "grid_template_rows": null,
            "height": null,
            "justify_content": null,
            "justify_items": null,
            "left": null,
            "margin": null,
            "max_height": null,
            "max_width": null,
            "min_height": null,
            "min_width": null,
            "object_fit": null,
            "object_position": null,
            "order": null,
            "overflow": null,
            "overflow_x": null,
            "overflow_y": null,
            "padding": null,
            "right": null,
            "top": null,
            "visibility": null,
            "width": null
          }
        },
        "817f3de447d548b8a961f73437c5e0c8": {
          "model_module": "@jupyter-widgets/controls",
          "model_name": "SliderStyleModel",
          "model_module_version": "1.5.0",
          "state": {
            "_model_module": "@jupyter-widgets/controls",
            "_model_module_version": "1.5.0",
            "_model_name": "SliderStyleModel",
            "_view_count": null,
            "_view_module": "@jupyter-widgets/base",
            "_view_module_version": "1.2.0",
            "_view_name": "StyleView",
            "description_width": "",
            "handle_color": null
          }
        },
        "a1006139eccf49cb8b1c8f142eb1dfb3": {
          "model_module": "@jupyter-widgets/base",
          "model_name": "LayoutModel",
          "model_module_version": "1.2.0",
          "state": {
            "_model_module": "@jupyter-widgets/base",
            "_model_module_version": "1.2.0",
            "_model_name": "LayoutModel",
            "_view_count": null,
            "_view_module": "@jupyter-widgets/base",
            "_view_module_version": "1.2.0",
            "_view_name": "LayoutView",
            "align_content": null,
            "align_items": null,
            "align_self": null,
            "border": null,
            "bottom": null,
            "display": null,
            "flex": null,
            "flex_flow": null,
            "grid_area": null,
            "grid_auto_columns": null,
            "grid_auto_flow": null,
            "grid_auto_rows": null,
            "grid_column": null,
            "grid_gap": null,
            "grid_row": null,
            "grid_template_areas": null,
            "grid_template_columns": null,
            "grid_template_rows": null,
            "height": null,
            "justify_content": null,
            "justify_items": null,
            "left": null,
            "margin": null,
            "max_height": null,
            "max_width": null,
            "min_height": null,
            "min_width": null,
            "object_fit": null,
            "object_position": null,
            "order": null,
            "overflow": null,
            "overflow_x": null,
            "overflow_y": null,
            "padding": null,
            "right": null,
            "top": null,
            "visibility": null,
            "width": null
          }
        },
        "fd1f1f6f4f6546588b8d2e9299c9abf9": {
          "model_module": "@jupyter-widgets/controls",
          "model_name": "SliderStyleModel",
          "model_module_version": "1.5.0",
          "state": {
            "_model_module": "@jupyter-widgets/controls",
            "_model_module_version": "1.5.0",
            "_model_name": "SliderStyleModel",
            "_view_count": null,
            "_view_module": "@jupyter-widgets/base",
            "_view_module_version": "1.2.0",
            "_view_name": "StyleView",
            "description_width": "",
            "handle_color": null
          }
        },
        "dec5eec5cd02487681f416228d4e00a9": {
          "model_module": "@jupyter-widgets/base",
          "model_name": "LayoutModel",
          "model_module_version": "1.2.0",
          "state": {
            "_model_module": "@jupyter-widgets/base",
            "_model_module_version": "1.2.0",
            "_model_name": "LayoutModel",
            "_view_count": null,
            "_view_module": "@jupyter-widgets/base",
            "_view_module_version": "1.2.0",
            "_view_name": "LayoutView",
            "align_content": null,
            "align_items": null,
            "align_self": null,
            "border": null,
            "bottom": null,
            "display": null,
            "flex": null,
            "flex_flow": null,
            "grid_area": null,
            "grid_auto_columns": null,
            "grid_auto_flow": null,
            "grid_auto_rows": null,
            "grid_column": null,
            "grid_gap": null,
            "grid_row": null,
            "grid_template_areas": null,
            "grid_template_columns": null,
            "grid_template_rows": null,
            "height": null,
            "justify_content": null,
            "justify_items": null,
            "left": null,
            "margin": null,
            "max_height": null,
            "max_width": null,
            "min_height": null,
            "min_width": null,
            "object_fit": null,
            "object_position": null,
            "order": null,
            "overflow": null,
            "overflow_x": null,
            "overflow_y": null,
            "padding": null,
            "right": null,
            "top": null,
            "visibility": null,
            "width": null
          }
        },
        "2cd95b36ae7141a6a7bf63817c262807": {
          "model_module": "@jupyter-widgets/controls",
          "model_name": "SliderStyleModel",
          "model_module_version": "1.5.0",
          "state": {
            "_model_module": "@jupyter-widgets/controls",
            "_model_module_version": "1.5.0",
            "_model_name": "SliderStyleModel",
            "_view_count": null,
            "_view_module": "@jupyter-widgets/base",
            "_view_module_version": "1.2.0",
            "_view_name": "StyleView",
            "description_width": "",
            "handle_color": null
          }
        },
        "8e8f5cd3dc5e4962a9cf1fe2cd176961": {
          "model_module": "@jupyter-widgets/base",
          "model_name": "LayoutModel",
          "model_module_version": "1.2.0",
          "state": {
            "_model_module": "@jupyter-widgets/base",
            "_model_module_version": "1.2.0",
            "_model_name": "LayoutModel",
            "_view_count": null,
            "_view_module": "@jupyter-widgets/base",
            "_view_module_version": "1.2.0",
            "_view_name": "LayoutView",
            "align_content": null,
            "align_items": null,
            "align_self": null,
            "border": null,
            "bottom": null,
            "display": null,
            "flex": null,
            "flex_flow": null,
            "grid_area": null,
            "grid_auto_columns": null,
            "grid_auto_flow": null,
            "grid_auto_rows": null,
            "grid_column": null,
            "grid_gap": null,
            "grid_row": null,
            "grid_template_areas": null,
            "grid_template_columns": null,
            "grid_template_rows": null,
            "height": null,
            "justify_content": null,
            "justify_items": null,
            "left": null,
            "margin": null,
            "max_height": null,
            "max_width": null,
            "min_height": null,
            "min_width": null,
            "object_fit": null,
            "object_position": null,
            "order": null,
            "overflow": null,
            "overflow_x": null,
            "overflow_y": null,
            "padding": null,
            "right": null,
            "top": null,
            "visibility": null,
            "width": null
          }
        }
      }
    }
  },
  "cells": [
    {
      "cell_type": "code",
      "execution_count": 1,
      "metadata": {
        "id": "0r5SKu7HYaZb"
      },
      "outputs": [],
      "source": [
        "from ipywidgets import interact, interactive, fixed\n",
        "import ipywidgets as widgets"
      ]
    },
    {
      "cell_type": "code",
      "source": [
        "def f(x):\n",
        "    return x"
      ],
      "metadata": {
        "id": "8oGq6jXqYjhZ"
      },
      "execution_count": 2,
      "outputs": []
    },
    {
      "cell_type": "code",
      "source": [
        "interact(f, x=10,);"
      ],
      "metadata": {
        "colab": {
          "base_uri": "https://localhost:8080/",
          "height": 66,
          "referenced_widgets": [
            "10299dcddf9b4580b95edbad43576a72",
            "656220c7d31c4765bcbb793cd8e1f0c7",
            "b18cb6598ca64360ad2e0c2b03948c6a",
            "474cd53b430041e8b99b4f88777eb793",
            "6e3b841b6811468c88e4bb70ff9bee8a",
            "33c83108cf654865b18163d76274384c",
            "3ccc1bf0b9cd4f33808ae5d2cdc2a5a2"
          ]
        },
        "id": "3T-LBsUQYjQy",
        "outputId": "c06201f5-1154-4509-d7b8-715f6c043387"
      },
      "execution_count": 3,
      "outputs": [
        {
          "output_type": "display_data",
          "data": {
            "text/plain": [
              "interactive(children=(IntSlider(value=10, description='x', max=30, min=-10), Output()), _dom_classes=('widget-…"
            ],
            "application/vnd.jupyter.widget-view+json": {
              "version_major": 2,
              "version_minor": 0,
              "model_id": "10299dcddf9b4580b95edbad43576a72"
            }
          },
          "metadata": {}
        }
      ]
    },
    {
      "cell_type": "code",
      "source": [
        "interact(f, x=True);"
      ],
      "metadata": {
        "colab": {
          "base_uri": "https://localhost:8080/",
          "height": 66,
          "referenced_widgets": [
            "4d72e67b9da04f53bcf869604c3950b9",
            "d1cee84d593b4212949094c5d28fd495",
            "d79b16f8aaf942eda901e301784d4be2",
            "917e7da657224b9aaa4a92c46a10310a",
            "45f8384eeb9b4efda59b660fbb76373d",
            "9c952eecb5c446bdbfbf8d8029252b1d",
            "87c81ce8371f46fd96c6ab0dc091afde"
          ]
        },
        "id": "b0b5UWWHYi_s",
        "outputId": "3bb8a3f0-5ad6-4dc2-c1a4-87ad42025046"
      },
      "execution_count": 4,
      "outputs": [
        {
          "output_type": "display_data",
          "data": {
            "text/plain": [
              "interactive(children=(Checkbox(value=True, description='x'), Output()), _dom_classes=('widget-interact',))"
            ],
            "application/vnd.jupyter.widget-view+json": {
              "version_major": 2,
              "version_minor": 0,
              "model_id": "4d72e67b9da04f53bcf869604c3950b9"
            }
          },
          "metadata": {}
        }
      ]
    },
    {
      "cell_type": "code",
      "source": [
        "interact(f, x='Hi there!');"
      ],
      "metadata": {
        "colab": {
          "base_uri": "https://localhost:8080/",
          "height": 67,
          "referenced_widgets": [
            "e1a89467a1014ba494a6bfb653180ff2",
            "e326f4c79cc044139507d3adddb9f7e8",
            "be31ecb4e7c9452aa4e25764353fdf0a",
            "7dd0eb7eb3fb495ab105f8b84a933c66",
            "db2eeceaaac34af088187da24c11711b",
            "6ecb9010333e4c7c97800597a8074386",
            "f986542d6c9e4eb694aee25e050846ac"
          ]
        },
        "id": "yoRIUBvpYxhI",
        "outputId": "43d1d5fa-8854-4818-d1b4-39c14db042ef"
      },
      "execution_count": 5,
      "outputs": [
        {
          "output_type": "display_data",
          "data": {
            "text/plain": [
              "interactive(children=(Text(value='Hi there!', description='x'), Output()), _dom_classes=('widget-interact',))"
            ],
            "application/vnd.jupyter.widget-view+json": {
              "version_major": 2,
              "version_minor": 0,
              "model_id": "e1a89467a1014ba494a6bfb653180ff2"
            }
          },
          "metadata": {}
        }
      ]
    },
    {
      "cell_type": "code",
      "source": [
        "@interact(x=True, y=1.0)\n",
        "def g(x, y):\n",
        "    return (x, y)"
      ],
      "metadata": {
        "colab": {
          "base_uri": "https://localhost:8080/",
          "height": 98,
          "referenced_widgets": [
            "05a49486c17f4bd683d1edfc646d8025",
            "583ee3be5b114c0ab0d39a2c14a5d572",
            "d6b38d270b804591b57ac6cbcf3cab63",
            "b582b3b26a8c4252a34b258853149f53",
            "43ebdb2e65484c4d953901f6a22e536c",
            "10e0f9a05fd64349a094ebb4c2bc38ca",
            "d586d818964c456498406e1ea79d1944",
            "28cb334d43e7400397e0568b3ffdf78c",
            "9237e823b8684121889040f2ed94a49c",
            "84cfd3faba224b8786ffceeeb06945e4"
          ]
        },
        "id": "7h9qulI6Y34_",
        "outputId": "b7132631-26c3-49dd-db25-20ec2faee745"
      },
      "execution_count": 6,
      "outputs": [
        {
          "output_type": "display_data",
          "data": {
            "text/plain": [
              "interactive(children=(Checkbox(value=True, description='x'), FloatSlider(value=1.0, description='y', max=3.0, …"
            ],
            "application/vnd.jupyter.widget-view+json": {
              "version_major": 2,
              "version_minor": 0,
              "model_id": "05a49486c17f4bd683d1edfc646d8025"
            }
          },
          "metadata": {}
        }
      ]
    },
    {
      "cell_type": "code",
      "source": [
        "def h(p, q):\n",
        "    return (p, q)"
      ],
      "metadata": {
        "id": "7t26n-n2Y_pi"
      },
      "execution_count": 7,
      "outputs": []
    },
    {
      "cell_type": "code",
      "source": [
        "interact(h, p=5, q=fixed(20));"
      ],
      "metadata": {
        "colab": {
          "base_uri": "https://localhost:8080/",
          "height": 66,
          "referenced_widgets": [
            "729cead81c2f4a1e800e2854c574bfe2",
            "c8fdfe22bd6a4b4e84ce031b57ed059a",
            "56512b67321a4ff5abf6dd8b7d551bcf",
            "69995143012b494cafcab524766c4ce8",
            "b7da7bc0f7ae4a6a829818630e43811c",
            "a3ab647f15ce4b6eba375b8a4f3dff4a",
            "986ddbeae76c4d149ff55e454f40988d"
          ]
        },
        "id": "gIQk0DsIZH8J",
        "outputId": "08bbad6d-d7b2-4964-8dc7-38b51f8be7b6"
      },
      "execution_count": 8,
      "outputs": [
        {
          "output_type": "display_data",
          "data": {
            "text/plain": [
              "interactive(children=(IntSlider(value=5, description='p', max=15, min=-5), Output()), _dom_classes=('widget-in…"
            ],
            "application/vnd.jupyter.widget-view+json": {
              "version_major": 2,
              "version_minor": 0,
              "model_id": "729cead81c2f4a1e800e2854c574bfe2"
            }
          },
          "metadata": {}
        }
      ]
    },
    {
      "cell_type": "code",
      "source": [
        "interact(f, x=widgets.IntSlider(min=-10,max=30,step=1,value=10));"
      ],
      "metadata": {
        "colab": {
          "base_uri": "https://localhost:8080/",
          "height": 66,
          "referenced_widgets": [
            "fb7b9c5be41e47bea696177729861c2b",
            "e39a370003e74d97981f1b09daa6c3a0",
            "d0dcf2c0b96741ca8e22e2bf239a3b6d",
            "c11e01c57d0b4c05880e3499bb47fc29",
            "08e5936aa60b48a9b641b9124dc54830",
            "ac9d329f6eb048feb1283992658b432b",
            "cc05b5ced9dc4b6cbac8a61ba10c01be"
          ]
        },
        "id": "w54OgeMFZKu7",
        "outputId": "8fba85db-bd5b-46fa-db8d-786701265965"
      },
      "execution_count": 9,
      "outputs": [
        {
          "output_type": "display_data",
          "data": {
            "text/plain": [
              "interactive(children=(IntSlider(value=10, description='x', max=30, min=-10), Output()), _dom_classes=('widget-…"
            ],
            "application/vnd.jupyter.widget-view+json": {
              "version_major": 2,
              "version_minor": 0,
              "model_id": "fb7b9c5be41e47bea696177729861c2b"
            }
          },
          "metadata": {}
        }
      ]
    },
    {
      "cell_type": "code",
      "source": [
        "interact(f, x=(0,10,2));"
      ],
      "metadata": {
        "colab": {
          "base_uri": "https://localhost:8080/",
          "height": 66,
          "referenced_widgets": [
            "87053d5fa0124c36b5090d1feea4be5b",
            "746511c5b45a406ba0e2837cc682fbac",
            "ee1fcd30d4c548d09a6fe9e5990d4b6e",
            "dfaa6260592241a1a2b6e40ea7d52ef2",
            "559e0dd57af245869fb99f98d35dbb5b",
            "2c066b82d1f340cc88a83caa8f2ba305",
            "ffe985c307474536b3360e787ce4cf04"
          ]
        },
        "id": "0O9tfWA7ZV2V",
        "outputId": "8f9aade0-820f-42e9-f037-2e1557eef96e"
      },
      "execution_count": 12,
      "outputs": [
        {
          "output_type": "display_data",
          "data": {
            "text/plain": [
              "interactive(children=(IntSlider(value=4, description='x', max=10, step=2), Output()), _dom_classes=('widget-in…"
            ],
            "application/vnd.jupyter.widget-view+json": {
              "version_major": 2,
              "version_minor": 0,
              "model_id": "87053d5fa0124c36b5090d1feea4be5b"
            }
          },
          "metadata": {}
        }
      ]
    },
    {
      "cell_type": "code",
      "source": [
        "@interact(x=(0.0,20.0,0.5))\n",
        "def h(x=5.5):\n",
        "    return x"
      ],
      "metadata": {
        "colab": {
          "base_uri": "https://localhost:8080/",
          "height": 66,
          "referenced_widgets": [
            "83d55e2f92cf40b388d813c962dc1770",
            "a7333065ebd74d1c9b84e62a572abbc9",
            "a42c924cddae4f1a892f68fb6b772e6e",
            "4681e54db92d4509991c921847349cb2",
            "e272e9e9632744af906c13e8179add9f",
            "61063dc2609e4ecdb051d5bbaa486ba5",
            "ff5e35de17a649b6a05d8e0701108a9f"
          ]
        },
        "id": "uocdahHKZa28",
        "outputId": "1619917f-86af-4dc3-f513-cfb09e2c1743"
      },
      "execution_count": 13,
      "outputs": [
        {
          "output_type": "display_data",
          "data": {
            "text/plain": [
              "interactive(children=(FloatSlider(value=5.5, description='x', max=20.0, step=0.5), Output()), _dom_classes=('w…"
            ],
            "application/vnd.jupyter.widget-view+json": {
              "version_major": 2,
              "version_minor": 0,
              "model_id": "83d55e2f92cf40b388d813c962dc1770"
            }
          },
          "metadata": {}
        }
      ]
    },
    {
      "cell_type": "code",
      "source": [
        "interact(f, x=['apples','oranges']);"
      ],
      "metadata": {
        "colab": {
          "base_uri": "https://localhost:8080/",
          "height": 67,
          "referenced_widgets": [
            "0949ac64b63e4ae89688490c09202516",
            "e5bb6ddb31fc4e009dbc6b7d4f52051d",
            "1d64f649e9f44ef592b53a6c0b2f4ba7",
            "8ae02a7386c2453f9fef25bd7038c822",
            "5e0c14c64f444bea8ae313055591815e",
            "5798ba0f9c32489093e3387a4112d734",
            "6f5a3c64edc4444cade170fffb7b5b86"
          ]
        },
        "id": "XGSH3-9NZpYl",
        "outputId": "8b511fec-5d53-4aab-9a9f-060995ec014c"
      },
      "execution_count": 14,
      "outputs": [
        {
          "output_type": "display_data",
          "data": {
            "text/plain": [
              "interactive(children=(Dropdown(description='x', options=('apples', 'oranges'), value='apples'), Output()), _do…"
            ],
            "application/vnd.jupyter.widget-view+json": {
              "version_major": 2,
              "version_minor": 0,
              "model_id": "0949ac64b63e4ae89688490c09202516"
            }
          },
          "metadata": {}
        }
      ]
    },
    {
      "cell_type": "code",
      "source": [
        "w = widgets.IntSlider()"
      ],
      "metadata": {
        "id": "cS407JjRZvlc"
      },
      "execution_count": 15,
      "outputs": []
    },
    {
      "cell_type": "code",
      "source": [
        "display(w)"
      ],
      "metadata": {
        "colab": {
          "base_uri": "https://localhost:8080/",
          "height": 221,
          "referenced_widgets": [
            "2cc6d45e25a042eda1024dc44665f181",
            "ae231efd3da64fce82be0b9660d6886a",
            "c233a2b15c984b13b8455bd4d19695c7"
          ]
        },
        "id": "tpW-m6kni7Nz",
        "outputId": "bc5fb091-e9ee-4d1a-86e9-5dc43d993113"
      },
      "execution_count": 16,
      "outputs": [
        {
          "output_type": "display_data",
          "data": {
            "text/plain": [
              "IntSlider(value=0)"
            ],
            "application/vnd.jupyter.widget-view+json": {
              "version_major": 2,
              "version_minor": 0,
              "model_id": "2cc6d45e25a042eda1024dc44665f181"
            }
          },
          "metadata": {}
        }
      ]
    },
    {
      "cell_type": "code",
      "source": [
        "w.value"
      ],
      "metadata": {
        "colab": {
          "base_uri": "https://localhost:8080/"
        },
        "id": "4HVf1NO5i88L",
        "outputId": "3aca77f0-ccf6-4f90-da1d-7bfc1804f543"
      },
      "execution_count": 18,
      "outputs": [
        {
          "output_type": "execute_result",
          "data": {
            "text/plain": [
              "33"
            ]
          },
          "metadata": {},
          "execution_count": 18
        }
      ]
    },
    {
      "cell_type": "code",
      "source": [
        "w.keys"
      ],
      "metadata": {
        "colab": {
          "base_uri": "https://localhost:8080/"
        },
        "id": "lu85vcmNjBvz",
        "outputId": "846ea6b1-b33e-4383-ec17-cd6b6f72a64f"
      },
      "execution_count": 19,
      "outputs": [
        {
          "output_type": "execute_result",
          "data": {
            "text/plain": [
              "['_dom_classes',\n",
              " '_model_module',\n",
              " '_model_module_version',\n",
              " '_model_name',\n",
              " '_view_count',\n",
              " '_view_module',\n",
              " '_view_module_version',\n",
              " '_view_name',\n",
              " 'continuous_update',\n",
              " 'description',\n",
              " 'description_tooltip',\n",
              " 'disabled',\n",
              " 'layout',\n",
              " 'max',\n",
              " 'min',\n",
              " 'orientation',\n",
              " 'readout',\n",
              " 'readout_format',\n",
              " 'step',\n",
              " 'style',\n",
              " 'value']"
            ]
          },
          "metadata": {},
          "execution_count": 19
        }
      ]
    },
    {
      "cell_type": "code",
      "source": [
        "w.orientation = \"vertical\""
      ],
      "metadata": {
        "id": "siPVW55NjLJi"
      },
      "execution_count": 21,
      "outputs": []
    },
    {
      "cell_type": "code",
      "source": [
        "display(w)"
      ],
      "metadata": {
        "colab": {
          "base_uri": "https://localhost:8080/",
          "height": 221,
          "referenced_widgets": [
            "2cc6d45e25a042eda1024dc44665f181",
            "ae231efd3da64fce82be0b9660d6886a",
            "c233a2b15c984b13b8455bd4d19695c7"
          ]
        },
        "id": "vrr9rHXvjRBL",
        "outputId": "56fb64a2-25d2-4479-a4da-b5f03287b188"
      },
      "execution_count": 22,
      "outputs": [
        {
          "output_type": "display_data",
          "data": {
            "text/plain": [
              "IntSlider(value=33, orientation='vertical')"
            ],
            "application/vnd.jupyter.widget-view+json": {
              "version_major": 2,
              "version_minor": 0,
              "model_id": "2cc6d45e25a042eda1024dc44665f181"
            }
          },
          "metadata": {}
        }
      ]
    },
    {
      "cell_type": "code",
      "source": [
        "w.value = 3"
      ],
      "metadata": {
        "id": "iYeiFNCujW47"
      },
      "execution_count": 23,
      "outputs": []
    },
    {
      "cell_type": "code",
      "source": [
        "a = widgets.FloatText()\n",
        "b = widgets.FloatSlider()\n",
        "display(a,b)\n",
        "\n",
        "mylink = widgets.jslink((a, 'value'), (b, 'value'))"
      ],
      "metadata": {
        "colab": {
          "base_uri": "https://localhost:8080/",
          "height": 79,
          "referenced_widgets": [
            "7b2e919a1bc84bc78944b3d9e979c4e2",
            "a92632c1d4bc40d79c3cec859b5c5817",
            "b6322ab23db64ad98dbe538f1885fa56",
            "40d5b496e3874b06a6d7b3a6a814a5da",
            "9d2622bb0e3d4c4cab652c52ca730132",
            "d1b9666ea5aa40649bd911328640f92b"
          ]
        },
        "id": "ppdsZUxSjZd6",
        "outputId": "bc2b6238-4ecb-4c86-f9ee-d19e9f0358da"
      },
      "execution_count": 25,
      "outputs": [
        {
          "output_type": "display_data",
          "data": {
            "text/plain": [
              "FloatText(value=0.0)"
            ],
            "application/vnd.jupyter.widget-view+json": {
              "version_major": 2,
              "version_minor": 0,
              "model_id": "7b2e919a1bc84bc78944b3d9e979c4e2"
            }
          },
          "metadata": {}
        },
        {
          "output_type": "display_data",
          "data": {
            "text/plain": [
              "FloatSlider(value=0.0)"
            ],
            "application/vnd.jupyter.widget-view+json": {
              "version_major": 2,
              "version_minor": 0,
              "model_id": "40d5b496e3874b06a6d7b3a6a814a5da"
            }
          },
          "metadata": {}
        }
      ]
    },
    {
      "cell_type": "code",
      "source": [
        "mylink.unlink()"
      ],
      "metadata": {
        "id": "w3cBIufMkXuI"
      },
      "execution_count": 28,
      "outputs": []
    },
    {
      "cell_type": "code",
      "source": [
        "display(a,b)"
      ],
      "metadata": {
        "colab": {
          "base_uri": "https://localhost:8080/",
          "height": 79,
          "referenced_widgets": [
            "7b2e919a1bc84bc78944b3d9e979c4e2",
            "a92632c1d4bc40d79c3cec859b5c5817",
            "b6322ab23db64ad98dbe538f1885fa56",
            "40d5b496e3874b06a6d7b3a6a814a5da",
            "9d2622bb0e3d4c4cab652c52ca730132",
            "d1b9666ea5aa40649bd911328640f92b"
          ]
        },
        "id": "6izcJg5NkjOC",
        "outputId": "9dc08a48-873c-44c9-8960-5f3fe8a4778e"
      },
      "execution_count": 29,
      "outputs": [
        {
          "output_type": "display_data",
          "data": {
            "text/plain": [
              "FloatText(value=86.6)"
            ],
            "application/vnd.jupyter.widget-view+json": {
              "version_major": 2,
              "version_minor": 0,
              "model_id": "7b2e919a1bc84bc78944b3d9e979c4e2"
            }
          },
          "metadata": {}
        },
        {
          "output_type": "display_data",
          "data": {
            "text/plain": [
              "FloatSlider(value=86.6)"
            ],
            "application/vnd.jupyter.widget-view+json": {
              "version_major": 2,
              "version_minor": 0,
              "model_id": "40d5b496e3874b06a6d7b3a6a814a5da"
            }
          },
          "metadata": {}
        }
      ]
    },
    {
      "cell_type": "code",
      "source": [
        "from ipywidgets import interact, interactive\n",
        "from IPython.display import clear_output, display, HTML"
      ],
      "metadata": {
        "id": "H8uC5KTKkomy"
      },
      "execution_count": 31,
      "outputs": []
    },
    {
      "cell_type": "code",
      "source": [
        "import numpy as np\n",
        "from scipy import integrate\n",
        "\n",
        "from matplotlib import pyplot as plt\n",
        "from mpl_toolkits.mplot3d import Axes3D\n",
        "from matplotlib.colors import cnames\n",
        "from matplotlib import animation"
      ],
      "metadata": {
        "id": "8YhDQugBsa9x"
      },
      "execution_count": 30,
      "outputs": []
    },
    {
      "cell_type": "code",
      "source": [
        "def solve_lorenz(N=10, angle=0.0, max_time=4.0, sigma=10.0, beta=8./3, rho=28.0):\n",
        "\n",
        "    fig = plt.figure();\n",
        "    ax = fig.add_axes([0, 0, 1, 1], projection='3d');\n",
        "    ax.axis('off')\n",
        "\n",
        "    # prepare the axes limits\n",
        "    ax.set_xlim((-25, 25))\n",
        "    ax.set_ylim((-35, 35))\n",
        "    ax.set_zlim((5, 55))\n",
        "\n",
        "    def lorenz_deriv(x_y_z, t0, sigma=sigma, beta=beta, rho=rho):\n",
        "        \"\"\"Compute the time-derivative of a Lorenz system.\"\"\"\n",
        "        x, y, z = x_y_z\n",
        "        return [sigma * (y - x), x * (rho - z) - y, x * y - beta * z]\n",
        "\n",
        "    # Choose random starting points, uniformly distributed from -15 to 15\n",
        "    np.random.seed(1)\n",
        "    x0 = -15 + 30 * np.random.random((N, 3))\n",
        "\n",
        "    # Solve for the trajectories\n",
        "    t = np.linspace(0, max_time, int(250*max_time))\n",
        "    x_t = np.asarray([integrate.odeint(lorenz_deriv, x0i, t)\n",
        "                      for x0i in x0])\n",
        "\n",
        "    # choose a different color for each trajectory\n",
        "    colors = plt.cm.jet(np.linspace(0, 1, N));\n",
        "\n",
        "    for i in range(N):\n",
        "        x, y, z = x_t[i,:,:].T\n",
        "        lines = ax.plot(x, y, z, '-', c=colors[i])\n",
        "        _ = plt.setp(lines, linewidth=2);\n",
        "\n",
        "    ax.view_init(30, angle)\n",
        "    _ = plt.show();\n",
        "\n",
        "    return t, x_t"
      ],
      "metadata": {
        "id": "WRcBQdJhsa00"
      },
      "execution_count": 32,
      "outputs": []
    },
    {
      "cell_type": "code",
      "source": [
        "t, x_t = solve_lorenz(angle=0, N=10)"
      ],
      "metadata": {
        "colab": {
          "base_uri": "https://localhost:8080/",
          "height": 516
        },
        "id": "uJC8PkmOskK5",
        "outputId": "09ee30ca-7bc3-4733-c3c2-b9a9af343169"
      },
      "execution_count": 33,
      "outputs": [
        {
          "output_type": "display_data",
          "data": {
            "text/plain": [
              "<Figure size 640x480 with 1 Axes>"
            ],
            "image/png": "[encoded data removed]"
          },
          "metadata": {}
        }
      ]
    },
    {
      "cell_type": "code",
      "source": [
        "w = interactive(solve_lorenz, angle=(0.,360.), N=(0,50), sigma=(0.0,50.0), rho=(0.0,50.0))\n",
        "display(w);"
      ],
      "metadata": {
        "colab": {
          "base_uri": "https://localhost:8080/",
          "height": 708,
          "referenced_widgets": [
            "663ea8fbdfe040a689222e34d72ede52",
            "ab1a865915064effbf9c0f72294ebb1b",
            "b03b079a3a4249468070990e21898b40",
            "3d82a0a67c184ecdb3546be1409b3c21",
            "dca5a6932a61477db2a2cfc91bb6169d",
            "2ab6b60f482d4c54bd7da79d11ee062b",
            "12703d2deb8e495595134ced0bf52fa4",
            "b49b2066a3454692aafea457a9c1d33e",
            "b56c4db0f32c49479016e7c613a6131f",
            "48729b8aafa74c46a2624e68d471f045",
            "d84b4ae60e624f9986327452c33d8e2c",
            "80b1c5a93da84177b5edf62e4d5a7c1c",
            "e29c7023b9d845b4a225f13bfa702b7e",
            "4655e8111d224e349401a95d44fa9df9",
            "086f548c29f54157ad4e03b286ffdd6e",
            "e6eb94f9e1cf4f09af1608548d756967",
            "817f3de447d548b8a961f73437c5e0c8",
            "a1006139eccf49cb8b1c8f142eb1dfb3",
            "fd1f1f6f4f6546588b8d2e9299c9abf9",
            "dec5eec5cd02487681f416228d4e00a9",
            "2cd95b36ae7141a6a7bf63817c262807",
            "8e8f5cd3dc5e4962a9cf1fe2cd176961"
          ]
        },
        "id": "gI47mRVuspi7",
        "outputId": "6cb4a673-9827-4432-a65d-e5065164caef"
      },
      "execution_count": 35,
      "outputs": [
        {
          "output_type": "display_data",
          "data": {
            "text/plain": [
              "interactive(children=(IntSlider(value=10, description='N', max=50), FloatSlider(value=0.0, description='angle'…"
            ],
            "application/vnd.jupyter.widget-view+json": {
              "version_major": 2,
              "version_minor": 0,
              "model_id": "663ea8fbdfe040a689222e34d72ede52"
            }
          },
          "metadata": {}
        }
      ]
    },
    {
      "cell_type": "code",
      "source": [],
      "metadata": {
        "id": "rHlThNwssvth"
      },
      "execution_count": null,
      "outputs": []
    }
  ]
}