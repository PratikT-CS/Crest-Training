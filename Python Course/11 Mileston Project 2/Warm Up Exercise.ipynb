{
 "cells": [
  {
   "cell_type": "code",
   "execution_count": 1,
   "id": "e5e55b4c-f7f1-4669-b70d-f002490e3416",
   "metadata": {},
   "outputs": [],
   "source": [
    "from random import shuffle\n",
    "# global variables\n",
    "suits = ('Hearts', 'Diamonds', 'Spades', 'Clubs')\n",
    "ranks = ('Two', 'Three', 'Four', 'Five', 'Six', 'Seven', 'Eight', 'Nine', 'Ten', 'Jack', 'Queen', 'King', 'Ace')\n",
    "values = {'Two':2, 'Three':3, 'Four':4, 'Five':5, 'Six':6, 'Seven':7, 'Eight':8, \n",
    "            'Nine':9, 'Ten':10, 'Jack':11, 'Queen':12, 'King':13, 'Ace':14}"
   ]
  },
  {
   "cell_type": "code",
   "execution_count": 2,
   "id": "1df5c805-6fdf-4715-abbf-ed33ee73687d",
   "metadata": {},
   "outputs": [],
   "source": [
    "class Card:\n",
    "    def __init__(self,suit,rank):\n",
    "        self.suit = suit\n",
    "        self.rank = rank\n",
    "        self.value = values[rank]\n",
    "\n",
    "    def __str__(self):\n",
    "        return f\"{self.rank} of {self.suit}\""
   ]
  },
  {
   "cell_type": "code",
   "execution_count": 32,
   "id": "3a1c536f-9eb3-4f3f-bd6f-31fbe1b157bb",
   "metadata": {},
   "outputs": [],
   "source": [
    "ace_heart= Card(\"Hearts\",\"Ace\")"
   ]
  },
  {
   "cell_type": "code",
   "execution_count": 33,
   "id": "6385d158-f325-4dcc-97b2-172ef0ba96c5",
   "metadata": {},
   "outputs": [
    {
     "name": "stdout",
     "output_type": "stream",
     "text": [
      "Ace of Hearts\n"
     ]
    }
   ],
   "source": [
    "print(ace_heart)"
   ]
  },
  {
   "cell_type": "code",
   "execution_count": 34,
   "id": "e440413d-aa6a-4c88-b10f-ba47fbde3d43",
   "metadata": {},
   "outputs": [
    {
     "data": {
      "text/plain": [
       "<__main__.Card at 0x1fda47263c0>"
      ]
     },
     "execution_count": 34,
     "metadata": {},
     "output_type": "execute_result"
    }
   ],
   "source": [
    "ace_heart"
   ]
  },
  {
   "cell_type": "code",
   "execution_count": 3,
   "id": "1dc46172-c38b-47af-91f6-81e02a027968",
   "metadata": {},
   "outputs": [],
   "source": [
    "class Deck:\n",
    "    def __init__(self):\n",
    "        self.all_cards = []\n",
    "        for suit in suits:\n",
    "            for rank in ranks:\n",
    "                self.all_cards.append(Card(suit,rank))\n",
    "\n",
    "    def shuffle(self):\n",
    "        shuffle(self.all_cards)\n",
    "\n",
    "    def deal_one(self):\n",
    "        return self.all_cards.pop()"
   ]
  },
  {
   "cell_type": "code",
   "execution_count": 36,
   "id": "abdb088a-f755-483c-84df-9b6459c4ccd4",
   "metadata": {},
   "outputs": [],
   "source": [
    "myDeck = Deck()"
   ]
  },
  {
   "cell_type": "code",
   "execution_count": 37,
   "id": "8b226b11-f243-48dd-8df0-0ba40ee40888",
   "metadata": {},
   "outputs": [
    {
     "name": "stdout",
     "output_type": "stream",
     "text": [
      "Two of Hearts\n"
     ]
    }
   ],
   "source": [
    "print(myDeck.all_cards[0])"
   ]
  },
  {
   "cell_type": "code",
   "execution_count": 38,
   "id": "f62a5fad-2a43-4a7a-ad4f-2d080c803dac",
   "metadata": {},
   "outputs": [],
   "source": [
    "myDeck.shuffle()"
   ]
  },
  {
   "cell_type": "code",
   "execution_count": 39,
   "id": "ff437a11-88ab-4486-8254-229cc8018c2f",
   "metadata": {},
   "outputs": [
    {
     "name": "stdout",
     "output_type": "stream",
     "text": [
      "Six of Clubs\n"
     ]
    }
   ],
   "source": [
    "print(myDeck.all_cards[0])"
   ]
  },
  {
   "cell_type": "code",
   "execution_count": 4,
   "id": "756c81a9-d764-445f-9dc6-03ea28bfa5cc",
   "metadata": {},
   "outputs": [],
   "source": [
    "class Player:\n",
    "    def __init__(self, name):\n",
    "        self.name = name\n",
    "        self.all_cards = []\n",
    "\n",
    "    def remove_one(self):\n",
    "        return self.all_cards.pop(0)\n",
    "\n",
    "    def add_cards(self,new_cards):\n",
    "        if type(new_cards) == type([]):\n",
    "            self.all_cards.extend(new_cards)\n",
    "        else:\n",
    "            self.all_cards.append(new_cards)\n",
    "\n",
    "    def __str__(self):\n",
    "        return f\"{self.name} has {len(self.all_cards)} cards\"\n",
    "\n",
    "        "
   ]
  },
  {
   "cell_type": "code",
   "execution_count": 41,
   "id": "32bc6c20-1797-4762-b9a3-cfaa1178d15a",
   "metadata": {},
   "outputs": [],
   "source": [
    "player1 = Player(\"Pratik\")"
   ]
  },
  {
   "cell_type": "code",
   "execution_count": 42,
   "id": "c80fb2fe-842b-4e07-918d-2ca3e2ee9c4b",
   "metadata": {},
   "outputs": [
    {
     "name": "stdout",
     "output_type": "stream",
     "text": [
      "Pratik has 0 cards\n"
     ]
    }
   ],
   "source": [
    "print(player1)"
   ]
  },
  {
   "cell_type": "code",
   "execution_count": 46,
   "id": "66a769d8-f729-4380-a9f2-6db1bd8830cb",
   "metadata": {},
   "outputs": [],
   "source": [
    "player1.add_cards(ace_heart)"
   ]
  },
  {
   "cell_type": "code",
   "execution_count": 47,
   "id": "d4a118db-52df-4c7a-9373-ec6d4a602a43",
   "metadata": {},
   "outputs": [
    {
     "name": "stdout",
     "output_type": "stream",
     "text": [
      "Pratik has 1 cards\n"
     ]
    }
   ],
   "source": [
    "print(player1)"
   ]
  },
  {
   "cell_type": "code",
   "execution_count": 48,
   "id": "d346111d-c1e6-4b02-a09b-d9d2d7d7b5c7",
   "metadata": {},
   "outputs": [],
   "source": [
    "player1.add_cards(myDeck.all_cards)"
   ]
  },
  {
   "cell_type": "code",
   "execution_count": 49,
   "id": "a8af8580-5e88-4fec-b1ab-576f0939641a",
   "metadata": {},
   "outputs": [
    {
     "name": "stdout",
     "output_type": "stream",
     "text": [
      "Ace of Hearts\n"
     ]
    }
   ],
   "source": [
    "print(player1.all_cards[0])"
   ]
  },
  {
   "cell_type": "code",
   "execution_count": 50,
   "id": "838dce4f-b70a-4f10-8a34-e0d9fdbeb0ee",
   "metadata": {},
   "outputs": [
    {
     "name": "stdout",
     "output_type": "stream",
     "text": [
      "Pratik has 53 cards\n"
     ]
    }
   ],
   "source": [
    "print(player1)"
   ]
  },
  {
   "cell_type": "code",
   "execution_count": 51,
   "id": "eb345bd9-8b20-44af-bdd2-6d00e5870970",
   "metadata": {},
   "outputs": [
    {
     "name": "stdout",
     "output_type": "stream",
     "text": [
      "Ace of Hearts\n"
     ]
    }
   ],
   "source": [
    "print(player1.remove_one())"
   ]
  },
  {
   "cell_type": "code",
   "execution_count": 52,
   "id": "45989a00-7633-4c63-9f7e-202f7b13f024",
   "metadata": {},
   "outputs": [
    {
     "name": "stdout",
     "output_type": "stream",
     "text": [
      "Six of Clubs\n",
      "Four of Hearts\n",
      "Queen of Clubs\n",
      "Three of Clubs\n",
      "King of Diamonds\n",
      "Two of Diamonds\n",
      "Seven of Diamonds\n",
      "Two of Hearts\n",
      "Jack of Clubs\n",
      "Three of Spades\n",
      "Jack of Hearts\n",
      "Three of Hearts\n",
      "Six of Hearts\n",
      "Three of Diamonds\n",
      "Five of Hearts\n",
      "Seven of Spades\n",
      "Two of Clubs\n",
      "Jack of Spades\n",
      "Ace of Clubs\n",
      "King of Spades\n",
      "Ten of Spades\n",
      "Nine of Hearts\n",
      "Five of Clubs\n",
      "Queen of Diamonds\n",
      "Ace of Hearts\n",
      "Ten of Clubs\n",
      "Ace of Spades\n",
      "Seven of Hearts\n",
      "Eight of Hearts\n",
      "Jack of Diamonds\n",
      "Six of Diamonds\n",
      "Five of Diamonds\n",
      "Four of Diamonds\n",
      "Eight of Diamonds\n",
      "Nine of Diamonds\n",
      "Ten of Diamonds\n",
      "King of Hearts\n",
      "Nine of Spades\n",
      "Four of Clubs\n",
      "King of Clubs\n",
      "Four of Spades\n",
      "Queen of Spades\n",
      "Eight of Spades\n",
      "Six of Spades\n",
      "Ten of Hearts\n",
      "Queen of Hearts\n",
      "Seven of Clubs\n",
      "Five of Spades\n",
      "Eight of Clubs\n",
      "Ace of Diamonds\n",
      "Two of Spades\n",
      "Nine of Clubs\n"
     ]
    }
   ],
   "source": [
    "for card in myDeck.all_cards:\n",
    "    print(card)"
   ]
  },
  {
   "cell_type": "code",
   "execution_count": 53,
   "id": "99fe745c-6888-4c55-ac10-8789580b88ed",
   "metadata": {},
   "outputs": [
    {
     "name": "stdout",
     "output_type": "stream",
     "text": [
      "52\n"
     ]
    }
   ],
   "source": [
    "print(len(myDeck.all_cards))"
   ]
  },
  {
   "cell_type": "code",
   "execution_count": null,
   "id": "90810006-cd9f-443d-806c-3522ce3345c9",
   "metadata": {},
   "outputs": [],
   "source": []
  },
  {
   "cell_type": "code",
   "execution_count": 5,
   "id": "6a2c269b-f4db-4423-82eb-2ea52676cf16",
   "metadata": {},
   "outputs": [],
   "source": [
    "player_one = Player(\"One\")\n",
    "player_two = Player(\"Two\")\n",
    "\n",
    "new_deck = Deck()\n",
    "new_deck.shuffle()\n",
    "\n",
    "for x in range(26):\n",
    "    player_one.add_cards(new_deck.deal_one())\n",
    "    player_two.add_cards(new_deck.deal_one())\n",
    "    \n",
    "game_on = True"
   ]
  },
  {
   "cell_type": "code",
   "execution_count": 6,
   "id": "ef5f71f7-1083-4bcd-bf2d-07ac307d972b",
   "metadata": {},
   "outputs": [
    {
     "data": {
      "text/plain": [
       "26"
      ]
     },
     "execution_count": 6,
     "metadata": {},
     "output_type": "execute_result"
    }
   ],
   "source": [
    "len(player_one.all_cards)"
   ]
  },
  {
   "cell_type": "code",
   "execution_count": 7,
   "id": "dd884775-7ce0-4f9b-a8be-ba84da8d60ac",
   "metadata": {},
   "outputs": [
    {
     "name": "stdout",
     "output_type": "stream",
     "text": [
      "Round 1\n",
      "Round 2\n",
      "Round 3\n",
      "Round 4\n",
      "Round 5\n",
      "Round 6\n",
      "Round 7\n",
      "Round 8\n",
      "Round 9\n",
      "Round 10\n",
      "Round 11\n",
      "Round 12\n",
      "Round 13\n",
      "Round 14\n",
      "Round 15\n",
      "Round 16\n",
      "Round 17\n",
      "Round 18\n",
      "Round 19\n",
      "Round 20\n",
      "Round 21\n",
      "Round 22\n",
      "Round 23\n",
      "Round 24\n",
      "Round 25\n",
      "Round 26\n",
      "Round 27\n",
      "Round 28\n",
      "Round 29\n",
      "Round 30\n",
      "Round 31\n",
      "Round 32\n",
      "Round 33\n",
      "Round 34\n",
      "Round 35\n",
      "Round 36\n",
      "Round 37\n",
      "Round 38\n",
      "Round 39\n",
      "Round 40\n",
      "Round 41\n",
      "Round 42\n",
      "Round 43\n",
      "Round 44\n",
      "Round 45\n",
      "Round 46\n",
      "Round 47\n",
      "Round 48\n",
      "Round 49\n",
      "Round 50\n",
      "Round 51\n",
      "Round 52\n",
      "Round 53\n",
      "Round 54\n",
      "Round 55\n",
      "Round 56\n",
      "Round 57\n",
      "Round 58\n",
      "Round 59\n",
      "Round 60\n",
      "Round 61\n",
      "Round 62\n",
      "WAR!\n",
      "Round 63\n",
      "Round 64\n",
      "Round 65\n",
      "WAR!\n",
      "Player Two unable to play war! Game Over at War\n",
      "Player One Wins! Player Two Loses!\n"
     ]
    }
   ],
   "source": [
    "round_num = 0\n",
    "while game_on:\n",
    "    \n",
    "    round_num += 1\n",
    "    print(f\"Round {round_num}\")\n",
    "    if len(player_one.all_cards) == 0:\n",
    "        print(\"Player One out of cards! Game Over\")\n",
    "        print(\"Player Two Wins!\")\n",
    "        game_on = False\n",
    "        break\n",
    "        \n",
    "    if len(player_two.all_cards) == 0:\n",
    "        print(\"Player Two out of cards! Game Over\")\n",
    "        print(\"Player One Wins!\")\n",
    "        game_on = False\n",
    "        break\n",
    "\n",
    "    player_one_cards = []\n",
    "    player_one_cards.append(player_one.remove_one())\n",
    "    \n",
    "    player_two_cards = []\n",
    "    player_two_cards.append(player_two.remove_one())\n",
    "    \n",
    "    at_war = True\n",
    "\n",
    "    while at_war:\n",
    "        \n",
    "        if player_one_cards[-1].value > player_two_cards[-1].value:\n",
    "            player_one.add_cards(player_one_cards[-1])\n",
    "            player_one.add_cards(player_two_cards[-1])\n",
    "            at_war = False\n",
    "            \n",
    "        elif player_one_cards[-1].value < player_two_cards[-1].value:\n",
    "            player_two.add_cards(player_one_cards[-1])\n",
    "            player_two.add_cards(player_two_cards[-1])\n",
    "            at_war = False\n",
    "\n",
    "        else:\n",
    "            print('WAR!')\n",
    "            if len(player_one.all_cards) < 5:\n",
    "                print(\"Player One unable to play war! Game Over at War\")\n",
    "                print(\"Player Two Wins! Player One Loses!\")\n",
    "                game_on = False\n",
    "                break\n",
    "\n",
    "            elif len(player_two.all_cards) < 5:\n",
    "                print(\"Player Two unable to play war! Game Over at War\")\n",
    "                print(\"Player One Wins! Player Two Loses!\")\n",
    "                game_on = False\n",
    "                break\n",
    "\n",
    "            else:\n",
    "                for num in range(5):\n",
    "                    player_one_cards.append(player_one.remove_one())\n",
    "                    player_two_cards.append(player_two.remove_one())\n",
    "\n",
    "                if player_one_cards[-1].value > player_two_cards[-1].value:\n",
    "                    player_one.add_cards(player_one_cards[-1:-6])\n",
    "                    player_one.add_cards(player_two_cards[-1:-6])\n",
    "                    at_war = False\n",
    "                    break\n",
    "            \n",
    "                elif player_one_cards[-1].value < player_two_cards[-1].value:\n",
    "                    player_two.add_cards(player_one_cards[-1:-6])\n",
    "                    player_two.add_cards(player_two_cards[-1:-6])\n",
    "                    at_war = False\n",
    "                    break\n",
    "\n",
    "                else:\n",
    "                    at_war = True\n",
    "        "
   ]
  },
  {
   "cell_type": "code",
   "execution_count": null,
   "id": "9ad46dd2-584a-467f-9cb5-d2794b2f979c",
   "metadata": {},
   "outputs": [],
   "source": []
  },
  {
   "cell_type": "code",
   "execution_count": null,
   "id": "485784f4-9f69-4f43-bbb0-8a096f8d25e1",
   "metadata": {},
   "outputs": [],
   "source": []
  }
 ],
 "metadata": {
  "kernelspec": {
   "display_name": "Python 3 (ipykernel)",
   "language": "python",
   "name": "python3"
  },
  "language_info": {
   "codemirror_mode": {
    "name": "ipython",
    "version": 3
   },
   "file_extension": ".py",
   "mimetype": "text/x-python",
   "name": "python",
   "nbconvert_exporter": "python",
   "pygments_lexer": "ipython3",
   "version": "3.12.7"
  }
 },
 "nbformat": 4,
 "nbformat_minor": 5
}
