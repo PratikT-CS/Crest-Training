{
 "cells": [
  {
   "cell_type": "code",
   "execution_count": 1,
   "id": "7bc62f59-0e7a-4703-b427-ea310e0dcee0",
   "metadata": {},
   "outputs": [],
   "source": [
    "def display(row1, row2, row3):\n",
    "    print(row1)\n",
    "    print(row2)\n",
    "    print(row3)"
   ]
  },
  {
   "cell_type": "code",
   "execution_count": 2,
   "id": "7d800b33-1d0b-4697-8dc9-dfc85cce0fd4",
   "metadata": {},
   "outputs": [],
   "source": [
    "row1 = [' ',' ',' ']\n",
    "row2 = [' ',' ',' ']\n",
    "row3 = [' ',' ',' ']"
   ]
  },
  {
   "cell_type": "code",
   "execution_count": 3,
   "id": "ccc806dc-3110-408e-8c97-f136c887d896",
   "metadata": {},
   "outputs": [
    {
     "name": "stdout",
     "output_type": "stream",
     "text": [
      "[' ', ' ', ' ']\n",
      "[' ', ' ', ' ']\n",
      "[' ', ' ', ' ']\n"
     ]
    }
   ],
   "source": [
    "display(row1, row2, row3)"
   ]
  },
  {
   "cell_type": "code",
   "execution_count": 4,
   "id": "2b278ceb-4425-4f62-9a83-ebdf74af5360",
   "metadata": {},
   "outputs": [],
   "source": [
    "row2[1] = 'X'"
   ]
  },
  {
   "cell_type": "code",
   "execution_count": 5,
   "id": "7102d36f-a198-4d67-bef2-fe5172d8022f",
   "metadata": {},
   "outputs": [
    {
     "name": "stdout",
     "output_type": "stream",
     "text": [
      "[' ', ' ', ' ']\n",
      "[' ', 'X', ' ']\n",
      "[' ', ' ', ' ']\n"
     ]
    }
   ],
   "source": [
    "display(row1, row2, row3)"
   ]
  },
  {
   "cell_type": "code",
   "execution_count": 8,
   "id": "d2a3e56b-862d-45b6-9b20-b2d18096e446",
   "metadata": {},
   "outputs": [
    {
     "name": "stdin",
     "output_type": "stream",
     "text": [
      "Enter the Index value:  2\n"
     ]
    }
   ],
   "source": [
    "position_index = int(input(\"Enter the Index value: \"))"
   ]
  },
  {
   "cell_type": "code",
   "execution_count": 9,
   "id": "08a8d243-c872-4e9c-8569-eafdba38c731",
   "metadata": {},
   "outputs": [
    {
     "data": {
      "text/plain": [
       "' '"
      ]
     },
     "execution_count": 9,
     "metadata": {},
     "output_type": "execute_result"
    }
   ],
   "source": [
    "row2[position_index]"
   ]
  },
  {
   "cell_type": "code",
   "execution_count": 16,
   "id": "38ad365a-8df9-484b-9a7e-79acdf0b5112",
   "metadata": {},
   "outputs": [],
   "source": [
    "def user_choice():\n",
    "    \n",
    "    choice = \"WRONG\"\n",
    "    accepted_range = range(0,11)\n",
    "    within_range = False\n",
    "\n",
    "    while choice.isdigit() == False:\n",
    "        choice = input(\"Enter a Number (0-10): \")\n",
    "\n",
    "        #Digit Check\n",
    "        if choice.isdigit() == False:\n",
    "            print(\"Sorry, it's not a digit\")\n",
    "            \n",
    "        #Range Check\n",
    "        if choice.isdigit():\n",
    "            if int(choice) in accepted_range:\n",
    "                within_range = True\n",
    "            else:\n",
    "                print(\"Sorry, Out of Range\")\n",
    "                within_range = False\n",
    "            \n",
    "    return int(choice)"
   ]
  },
  {
   "cell_type": "code",
   "execution_count": 17,
   "id": "e5d137ae-72e0-43a9-afad-41f8afaaa2b3",
   "metadata": {},
   "outputs": [
    {
     "name": "stdin",
     "output_type": "stream",
     "text": [
      "Enter a Number (0-10):  c\n"
     ]
    },
    {
     "name": "stdout",
     "output_type": "stream",
     "text": [
      "Sorry, it's not a digit\n"
     ]
    },
    {
     "name": "stdin",
     "output_type": "stream",
     "text": [
      "Enter a Number (0-10):  56\n"
     ]
    },
    {
     "name": "stdout",
     "output_type": "stream",
     "text": [
      "Sorry, Out of Range\n"
     ]
    },
    {
     "data": {
      "text/plain": [
       "56"
      ]
     },
     "execution_count": 17,
     "metadata": {},
     "output_type": "execute_result"
    }
   ],
   "source": [
    "user_choice()"
   ]
  },
  {
   "cell_type": "code",
   "execution_count": 12,
   "id": "9b6a3fe0-f9fd-453e-a826-ac63ba4a5922",
   "metadata": {},
   "outputs": [],
   "source": [
    "game_list = [0,1,2]"
   ]
  },
  {
   "cell_type": "code",
   "execution_count": 13,
   "id": "1de6e6b9-3806-47a7-aa51-188a658da19a",
   "metadata": {},
   "outputs": [],
   "source": [
    "def display_game(game_list):\n",
    "    print(\"Here is the current List: \")\n",
    "    print(game_list)"
   ]
  },
  {
   "cell_type": "code",
   "execution_count": 14,
   "id": "ef2ccd8d-944b-4ef6-95d1-063d8209b9b1",
   "metadata": {},
   "outputs": [
    {
     "name": "stdout",
     "output_type": "stream",
     "text": [
      "Here is the current List: \n",
      "[0, 1, 2]\n"
     ]
    }
   ],
   "source": [
    "display_game(game_list)"
   ]
  },
  {
   "cell_type": "code",
   "execution_count": 23,
   "id": "2f2763a0-0e5d-446b-b127-848d080a48a9",
   "metadata": {},
   "outputs": [],
   "source": [
    "def position_choice():\n",
    "    choice = False\n",
    "    while choice not in ['1','2','3']:\n",
    "        choice = input(\"Pick a Position(1,2,3): \")\n",
    "        \n",
    "        if choice not in ['1','2','3']:\n",
    "            print(\"Invalid Choice\")\n",
    "            \n",
    "    return int(choice)\n"
   ]
  },
  {
   "cell_type": "code",
   "execution_count": 24,
   "id": "54e6f142-bf69-4f00-bd43-b8353b6692c8",
   "metadata": {},
   "outputs": [
    {
     "name": "stdin",
     "output_type": "stream",
     "text": [
      "Pick a Position(1,2,3):  2\n"
     ]
    }
   ],
   "source": [
    "choice = position_choice()"
   ]
  },
  {
   "cell_type": "code",
   "execution_count": 25,
   "id": "8f242b7d-9cd2-4b44-9664-e007c048c2e9",
   "metadata": {},
   "outputs": [
    {
     "data": {
      "text/plain": [
       "2"
      ]
     },
     "execution_count": 25,
     "metadata": {},
     "output_type": "execute_result"
    }
   ],
   "source": [
    "choice"
   ]
  },
  {
   "cell_type": "code",
   "execution_count": 38,
   "id": "8f2b5576-7755-447b-a869-d76b0b4517a6",
   "metadata": {},
   "outputs": [],
   "source": [
    "def replacement_position(game_list, position):\n",
    "    value = input(\"Enter the Value to Replace: \")\n",
    "    game_list[position-1] = value\n",
    "    \n",
    "    return game_list"
   ]
  },
  {
   "cell_type": "code",
   "execution_count": 39,
   "id": "96d8bdef-d55b-425a-b030-541152d3cc0f",
   "metadata": {},
   "outputs": [
    {
     "data": {
      "text/plain": [
       "[1, 'Pratik', 'Aditya']"
      ]
     },
     "execution_count": 39,
     "metadata": {},
     "output_type": "execute_result"
    }
   ],
   "source": [
    "game_list"
   ]
  },
  {
   "cell_type": "code",
   "execution_count": 41,
   "id": "ef001b65-098c-46cf-a587-bea8d8892f1f",
   "metadata": {},
   "outputs": [
    {
     "name": "stdin",
     "output_type": "stream",
     "text": [
      "Enter the Value to Replace:  Pratik\n"
     ]
    },
    {
     "data": {
      "text/plain": [
       "[1, 'Pratik', 'Aditya']"
      ]
     },
     "execution_count": 41,
     "metadata": {},
     "output_type": "execute_result"
    }
   ],
   "source": [
    "replacement_position(game_list,choice)"
   ]
  },
  {
   "cell_type": "code",
   "execution_count": 42,
   "id": "99e9cb62-3840-4b69-aaf3-2dd6416c0d8b",
   "metadata": {},
   "outputs": [],
   "source": [
    "def gameon_choice():\n",
    "    choice = False\n",
    "    while choice not in ['Y','N','y','n']:\n",
    "        choice = input(\"Keep Playing? (Y or N): \")\n",
    "        \n",
    "        if choice not in ['Y','N','y','n']:\n",
    "            print(\"Sorry, I don't understand!!\")\n",
    "            \n",
    "    if choice == 'Y'or choice == 'y':\n",
    "        return True\n",
    "    else:\n",
    "        return False\n"
   ]
  },
  {
   "cell_type": "code",
   "execution_count": 43,
   "id": "1457317d-15cb-4614-8af9-dc159ff34408",
   "metadata": {},
   "outputs": [
    {
     "name": "stdin",
     "output_type": "stream",
     "text": [
      "Keep Playing? (Y or N):  n\n"
     ]
    },
    {
     "data": {
      "text/plain": [
       "False"
      ]
     },
     "execution_count": 43,
     "metadata": {},
     "output_type": "execute_result"
    }
   ],
   "source": [
    "gameon_choice()"
   ]
  },
  {
   "cell_type": "code",
   "execution_count": 44,
   "id": "cb0d8c13-89cd-4045-9ff8-d20b38e5dffb",
   "metadata": {},
   "outputs": [
    {
     "name": "stdout",
     "output_type": "stream",
     "text": [
      "[1, 2, 3]\n"
     ]
    },
    {
     "name": "stdin",
     "output_type": "stream",
     "text": [
      "Pick a Position(1,2,3):  1\n",
      "Enter the Value to Replace:  Pratik\n"
     ]
    },
    {
     "name": "stdout",
     "output_type": "stream",
     "text": [
      "['Pratik', 2, 3]\n"
     ]
    },
    {
     "name": "stdin",
     "output_type": "stream",
     "text": [
      "Keep Playing? (Y or N):  0\n"
     ]
    },
    {
     "name": "stdout",
     "output_type": "stream",
     "text": [
      "Sorry, I don't understand!!\n"
     ]
    },
    {
     "name": "stdin",
     "output_type": "stream",
     "text": [
      "Keep Playing? (Y or N):  y\n"
     ]
    },
    {
     "name": "stdout",
     "output_type": "stream",
     "text": [
      "['Pratik', 2, 3]\n"
     ]
    },
    {
     "name": "stdin",
     "output_type": "stream",
     "text": [
      "Pick a Position(1,2,3):  0\n"
     ]
    },
    {
     "name": "stdout",
     "output_type": "stream",
     "text": [
      "Invalid Choice\n"
     ]
    },
    {
     "name": "stdin",
     "output_type": "stream",
     "text": [
      "Pick a Position(1,2,3):  2\n",
      "Enter the Value to Replace:   \n"
     ]
    },
    {
     "name": "stdout",
     "output_type": "stream",
     "text": [
      "['Pratik', ' ', 3]\n"
     ]
    },
    {
     "name": "stdin",
     "output_type": "stream",
     "text": [
      "Keep Playing? (Y or N):  n\n"
     ]
    }
   ],
   "source": [
    "gameon =True\n",
    "game_list = [1,2,3]\n",
    "\n",
    "while gameon:\n",
    "    print(game_list)\n",
    "    position = position_choice()\n",
    "    game_list = replacement_position(game_list, position)\n",
    "    print(game_list)\n",
    "    gameon = gameon_choice()"
   ]
  },
  {
   "cell_type": "code",
   "execution_count": null,
   "id": "bdffdb26-5782-4fca-864b-361ad5f2da86",
   "metadata": {},
   "outputs": [],
   "source": []
  }
 ],
 "metadata": {
  "kernelspec": {
   "display_name": "Python 3 (ipykernel)",
   "language": "python",
   "name": "python3"
  },
  "language_info": {
   "codemirror_mode": {
    "name": "ipython",
    "version": 3
   },
   "file_extension": ".py",
   "mimetype": "text/x-python",
   "name": "python",
   "nbconvert_exporter": "python",
   "pygments_lexer": "ipython3",
   "version": "3.12.7"
  }
 },
 "nbformat": 4,
 "nbformat_minor": 5
}
