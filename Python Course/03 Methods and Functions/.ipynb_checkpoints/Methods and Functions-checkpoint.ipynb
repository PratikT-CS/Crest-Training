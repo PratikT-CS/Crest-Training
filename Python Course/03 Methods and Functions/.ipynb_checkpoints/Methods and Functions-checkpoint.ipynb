{
 "cells": [
  {
   "cell_type": "code",
   "execution_count": 10,
   "id": "8b0b9018-3ee6-4085-8746-e29cd8ce141e",
   "metadata": {},
   "outputs": [],
   "source": [
    "def say_hello(name = \"Default Value for Parameter\"):\n",
    "    '''\n",
    "    This is the way of providing Docstring for the Function.\n",
    "    '''\n",
    "    print(f\"Hi how are you? {name}\")"
   ]
  },
  {
   "cell_type": "code",
   "execution_count": 2,
   "id": "82a39c7a-8c79-4ccc-ba74-8d9a8edda4e8",
   "metadata": {},
   "outputs": [
    {
     "name": "stdout",
     "output_type": "stream",
     "text": [
      "Hi how are you? Pratik\n"
     ]
    }
   ],
   "source": [
    "say_hello(\"Pratik\")"
   ]
  },
  {
   "cell_type": "code",
   "execution_count": 3,
   "id": "918723ae-1d91-4074-9c90-fdc32ce33af6",
   "metadata": {},
   "outputs": [
    {
     "ename": "NameError",
     "evalue": "name 'Pratik' is not defined",
     "output_type": "error",
     "traceback": [
      "\u001b[1;31m---------------------------------------------------------------------------\u001b[0m",
      "\u001b[1;31mNameError\u001b[0m                                 Traceback (most recent call last)",
      "Cell \u001b[1;32mIn[3], line 1\u001b[0m\n\u001b[1;32m----> 1\u001b[0m say_hello(Pratik)\n",
      "\u001b[1;31mNameError\u001b[0m: name 'Pratik' is not defined"
     ]
    }
   ],
   "source": [
    "say_hello(Pratik)"
   ]
  },
  {
   "cell_type": "code",
   "execution_count": 8,
   "id": "3a458c81-54cd-4119-8579-6510082fe6f7",
   "metadata": {},
   "outputs": [
    {
     "name": "stdout",
     "output_type": "stream",
     "text": [
      "Help on function say_hello in module __main__:\n",
      "\n",
      "say_hello(name)\n",
      "    This is the way of providing Docstring for the Function.\n",
      "\n"
     ]
    }
   ],
   "source": [
    "help(say_hello)"
   ]
  },
  {
   "cell_type": "code",
   "execution_count": 9,
   "id": "240ae633-1b42-4cdd-b52a-bf9c09376305",
   "metadata": {},
   "outputs": [
    {
     "ename": "TypeError",
     "evalue": "say_hello() missing 1 required positional argument: 'name'",
     "output_type": "error",
     "traceback": [
      "\u001b[1;31m---------------------------------------------------------------------------\u001b[0m",
      "\u001b[1;31mTypeError\u001b[0m                                 Traceback (most recent call last)",
      "Cell \u001b[1;32mIn[9], line 1\u001b[0m\n\u001b[1;32m----> 1\u001b[0m say_hello()\n",
      "\u001b[1;31mTypeError\u001b[0m: say_hello() missing 1 required positional argument: 'name'"
     ]
    }
   ],
   "source": [
    "say_hello()"
   ]
  },
  {
   "cell_type": "markdown",
   "id": "adc368a6-0ca1-42fe-9431-dde145ceec92",
   "metadata": {},
   "source": [
    "After adding some default value we will not get error"
   ]
  },
  {
   "cell_type": "code",
   "execution_count": 11,
   "id": "a7b243f4-2c85-4a2a-b8d4-6a1995540c96",
   "metadata": {},
   "outputs": [
    {
     "name": "stdout",
     "output_type": "stream",
     "text": [
      "Hi how are you? Default Value for Parameter\n"
     ]
    }
   ],
   "source": [
    "say_hello()"
   ]
  },
  {
   "cell_type": "code",
   "execution_count": 16,
   "id": "ed22eb4d-e864-488f-a882-1b8d8b63c0d4",
   "metadata": {},
   "outputs": [],
   "source": [
    "def add_two_nums(num1, num2):\n",
    "    return num1 + num2"
   ]
  },
  {
   "cell_type": "code",
   "execution_count": 18,
   "id": "e98a118f-b328-479a-ab09-8577ca5fe3ef",
   "metadata": {},
   "outputs": [
    {
     "data": {
      "text/plain": [
       "187"
      ]
     },
     "execution_count": 18,
     "metadata": {},
     "output_type": "execute_result"
    }
   ],
   "source": [
    "add_two_nums(142,45)"
   ]
  },
  {
   "cell_type": "code",
   "execution_count": 19,
   "id": "1cf7f712-9166-46f4-9f3e-ed60ea01532e",
   "metadata": {},
   "outputs": [],
   "source": [
    "result = add_two_nums(365,354)"
   ]
  },
  {
   "cell_type": "code",
   "execution_count": 20,
   "id": "98b4bc0c-034a-43ed-83de-8d2324916634",
   "metadata": {},
   "outputs": [
    {
     "data": {
      "text/plain": [
       "719"
      ]
     },
     "execution_count": 20,
     "metadata": {},
     "output_type": "execute_result"
    }
   ],
   "source": [
    "result"
   ]
  },
  {
   "cell_type": "markdown",
   "id": "9fc34bf6-363b-4672-a829-6f172d71a21c",
   "metadata": {},
   "source": [
    "TUPLE UNPACKING"
   ]
  },
  {
   "cell_type": "code",
   "execution_count": 22,
   "id": "af9bb505-a25c-49fa-a5c8-cfb9b5307606",
   "metadata": {},
   "outputs": [],
   "source": [
    "work_hours = [('Pratik',100),('Aditya',400),('Deep',800),('Karan',1000)]"
   ]
  },
  {
   "cell_type": "code",
   "execution_count": 28,
   "id": "1c89c338-d252-499b-b337-9fa7a1db212d",
   "metadata": {},
   "outputs": [],
   "source": [
    "def max_work_hours(work_hours):\n",
    "    cur_max = 0\n",
    "    employee = ''\n",
    "    for name, hours in work_hours:\n",
    "        if hours > cur_max:\n",
    "            cur_max = hours\n",
    "            employee = name\n",
    "    return (cur_max, employee)"
   ]
  },
  {
   "cell_type": "code",
   "execution_count": 29,
   "id": "2ec3180e-c793-4d0b-aa7a-83736b51149b",
   "metadata": {},
   "outputs": [],
   "source": [
    "max_working_employee = max_work_hours(work_hours)"
   ]
  },
  {
   "cell_type": "code",
   "execution_count": 30,
   "id": "b809e6e6-4328-4a50-961b-ef8e317711ab",
   "metadata": {},
   "outputs": [
    {
     "data": {
      "text/plain": [
       "(1000, 'Karan')"
      ]
     },
     "execution_count": 30,
     "metadata": {},
     "output_type": "execute_result"
    }
   ],
   "source": [
    "max_working_employee"
   ]
  },
  {
   "cell_type": "code",
   "execution_count": 32,
   "id": "8aa7af6a-56b5-479f-b5d7-3620cf05b972",
   "metadata": {},
   "outputs": [],
   "source": [
    "employee, hours = max_work_hours(work_hours)"
   ]
  },
  {
   "cell_type": "code",
   "execution_count": 33,
   "id": "9e7a2bd2-4e3d-40a8-990d-591c08b7c60d",
   "metadata": {},
   "outputs": [
    {
     "data": {
      "text/plain": [
       "1000"
      ]
     },
     "execution_count": 33,
     "metadata": {},
     "output_type": "execute_result"
    }
   ],
   "source": [
    "employee"
   ]
  },
  {
   "cell_type": "markdown",
   "id": "bc94d686-2b1e-4f71-b55e-7e3b46005c34",
   "metadata": {},
   "source": [
    "CUPS AND BALL GAME"
   ]
  },
  {
   "cell_type": "code",
   "execution_count": 43,
   "id": "3d49aa7a-1c19-41f6-a8a9-2e8e8b38d09c",
   "metadata": {},
   "outputs": [],
   "source": [
    "from random import shuffle\n",
    "\n",
    "def shuffle_mylist(mylist):\n",
    "    shuffle(mylist)\n",
    "    return mylist"
   ]
  },
  {
   "cell_type": "code",
   "execution_count": 48,
   "id": "f14d7cc7-168c-413b-a36f-cea2bcd08234",
   "metadata": {},
   "outputs": [],
   "source": [
    "# mylist = list(range(0,11))\n",
    "mylist = [\" \" ,\" \" ,\"O\"]"
   ]
  },
  {
   "cell_type": "code",
   "execution_count": 49,
   "id": "7148eda4-eb25-4edb-9ee9-1554862b5ed6",
   "metadata": {},
   "outputs": [
    {
     "data": {
      "text/plain": [
       "[' ', ' ', 'O']"
      ]
     },
     "execution_count": 49,
     "metadata": {},
     "output_type": "execute_result"
    }
   ],
   "source": [
    "mylist"
   ]
  },
  {
   "cell_type": "code",
   "execution_count": 51,
   "id": "4d5208a0-54dc-4bae-9291-22151b9729d8",
   "metadata": {},
   "outputs": [
    {
     "data": {
      "text/plain": [
       "[' ', 'O', ' ']"
      ]
     },
     "execution_count": 51,
     "metadata": {},
     "output_type": "execute_result"
    }
   ],
   "source": [
    "shuffle_mylist(mylist)"
   ]
  },
  {
   "cell_type": "code",
   "execution_count": 47,
   "id": "4a64b5fb-32a8-455d-8e00-b1c4871fd993",
   "metadata": {},
   "outputs": [],
   "source": [
    "shuffled_list"
   ]
  },
  {
   "cell_type": "code",
   "execution_count": 62,
   "id": "390e859d-5365-42f4-a367-8014a11a2a07",
   "metadata": {},
   "outputs": [],
   "source": [
    "def guess_number():\n",
    "    guess = \"\"\n",
    "    while guess not in [\"0\" ,\"1\" ,\"2\"]:\n",
    "        guess = input(\"Guess Postion 0 ,1 or 2 :\")\n",
    "    return int(guess)\n",
    "        "
   ]
  },
  {
   "cell_type": "code",
   "execution_count": 55,
   "id": "98a24ff7-e431-4bc1-8f1c-b0b3a78d09f7",
   "metadata": {},
   "outputs": [
    {
     "name": "stdin",
     "output_type": "stream",
     "text": [
      "Guess Postion 0 ,1 or 2 :  6\n",
      "Guess Postion 0 ,1 or 2 :  6\n",
      "Guess Postion 0 ,1 or 2 :  4\n",
      "Guess Postion 0 ,1 or 2 :  2\n"
     ]
    },
    {
     "data": {
      "text/plain": [
       "'2'"
      ]
     },
     "execution_count": 55,
     "metadata": {},
     "output_type": "execute_result"
    }
   ],
   "source": [
    "guess_number()"
   ]
  },
  {
   "cell_type": "code",
   "execution_count": 58,
   "id": "f8296d6e-7d41-439d-ba3b-555d4a35e0c1",
   "metadata": {},
   "outputs": [],
   "source": [
    "def check_result(guess,mylist):\n",
    "    if mylist[guess] == \"O\":\n",
    "        print(\"Correct!!!\")\n",
    "    else:\n",
    "        print(\"Wrong Guess!!!\")"
   ]
  },
  {
   "cell_type": "code",
   "execution_count": 69,
   "id": "957eba31-c39d-4cdd-8467-a3de40bc50be",
   "metadata": {},
   "outputs": [
    {
     "name": "stdin",
     "output_type": "stream",
     "text": [
      "Guess Postion 0 ,1 or 2 : 0\n"
     ]
    },
    {
     "name": "stdout",
     "output_type": "stream",
     "text": [
      "Correct!!!\n"
     ]
    }
   ],
   "source": [
    "mylist = shuffle_mylist(mylist)\n",
    "guess = guess_number()\n",
    "check_result(guess, mylist)"
   ]
  },
  {
   "cell_type": "code",
   "execution_count": 70,
   "id": "4d4f7937-b40b-4ca0-801e-2e63e59154fa",
   "metadata": {},
   "outputs": [
    {
     "data": {
      "text/plain": [
       "['O', ' ', ' ']"
      ]
     },
     "execution_count": 70,
     "metadata": {},
     "output_type": "execute_result"
    }
   ],
   "source": [
    "mylist"
   ]
  },
  {
   "cell_type": "markdown",
   "id": "4663ff7e-df1f-410d-94dd-fee3b0ce9611",
   "metadata": {},
   "source": [
    "*ARGS AND **KWARGS"
   ]
  },
  {
   "cell_type": "code",
   "execution_count": 74,
   "id": "c58dc8d1-f211-4657-80e8-3eb5ad6727f1",
   "metadata": {},
   "outputs": [],
   "source": [
    "def sum_of_numbers(*args):\n",
    "    print(args)\n",
    "    sum = 0\n",
    "    for num in args:\n",
    "        sum = sum + num\n",
    "    return sum\n",
    "    "
   ]
  },
  {
   "cell_type": "code",
   "execution_count": 75,
   "id": "f4c20d32-83d9-4795-9c13-ba2bcc95e53e",
   "metadata": {},
   "outputs": [
    {
     "name": "stdout",
     "output_type": "stream",
     "text": [
      "(1, 2, 5, 3)\n"
     ]
    },
    {
     "data": {
      "text/plain": [
       "11"
      ]
     },
     "execution_count": 75,
     "metadata": {},
     "output_type": "execute_result"
    }
   ],
   "source": [
    "sum_of_numbers(1,2,5,3)"
   ]
  },
  {
   "cell_type": "code",
   "execution_count": 76,
   "id": "26f14971-1835-466d-a31c-77e606fdc36d",
   "metadata": {},
   "outputs": [
    {
     "name": "stdout",
     "output_type": "stream",
     "text": [
      "(5, 3, 8, 6, 10, 23, 5)\n"
     ]
    },
    {
     "data": {
      "text/plain": [
       "60"
      ]
     },
     "execution_count": 76,
     "metadata": {},
     "output_type": "execute_result"
    }
   ],
   "source": [
    "sum_of_numbers(5,3,8,6,10,23,5)"
   ]
  },
  {
   "cell_type": "code",
   "execution_count": 83,
   "id": "b7bb5e17-aa50-48d5-af7c-35918066796c",
   "metadata": {},
   "outputs": [],
   "source": [
    "def myfunc(**kwargs):\n",
    "    if \"fruit\" in kwargs:\n",
    "        print(f\"I like {kwargs[\"fruit\"]}\")\n",
    "    else:\n",
    "        print(\"Nope No Friuts\")"
   ]
  },
  {
   "cell_type": "code",
   "execution_count": 84,
   "id": "3645231d-8b5d-410d-83e4-4f49cf4754b7",
   "metadata": {},
   "outputs": [
    {
     "name": "stdout",
     "output_type": "stream",
     "text": [
      "I like Orange\n"
     ]
    }
   ],
   "source": [
    "myfunc(veg=\"Potato\", fruit=\"Orange\")"
   ]
  },
  {
   "cell_type": "code",
   "execution_count": null,
   "id": "07a16de5-7d81-4439-a5e5-768d8eac0cca",
   "metadata": {},
   "outputs": [],
   "source": []
  }
 ],
 "metadata": {
  "kernelspec": {
   "display_name": "Python 3 (ipykernel)",
   "language": "python",
   "name": "python3"
  },
  "language_info": {
   "codemirror_mode": {
    "name": "ipython",
    "version": 3
   },
   "file_extension": ".py",
   "mimetype": "text/x-python",
   "name": "python",
   "nbconvert_exporter": "python",
   "pygments_lexer": "ipython3",
   "version": "3.12.7"
  }
 },
 "nbformat": 4,
 "nbformat_minor": 5
}
