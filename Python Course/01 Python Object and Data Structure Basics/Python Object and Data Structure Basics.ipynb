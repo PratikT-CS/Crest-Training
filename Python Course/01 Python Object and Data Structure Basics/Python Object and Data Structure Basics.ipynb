{
 "cells": [
  {
   "cell_type": "code",
   "execution_count": 2,
   "id": "4b032b2f-cdb5-4b6d-8846-dc5edf331ab6",
   "metadata": {},
   "outputs": [
    {
     "data": {
      "text/plain": [
       "5.551115123125783e-17"
      ]
     },
     "execution_count": 2,
     "metadata": {},
     "output_type": "execute_result"
    }
   ],
   "source": [
    "0.1 + 0.2 - 0.3"
   ]
  },
  {
   "cell_type": "code",
   "execution_count": 3,
   "id": "07bf3ffa-db73-4f71-9c0d-ce56fe4eed4e",
   "metadata": {},
   "outputs": [
    {
     "data": {
      "text/plain": [
       "0"
      ]
     },
     "execution_count": 3,
     "metadata": {},
     "output_type": "execute_result"
    }
   ],
   "source": [
    "1 + 2 - 3"
   ]
  },
  {
   "cell_type": "raw",
   "id": "15bc1aa5-891e-4d5f-9e1b-28a011800213",
   "metadata": {},
   "source": [
    "This is because floating numbers are stored in approximate value in form of binary which creates this small error and rounding of that solves this issue\n",
    "check this link for more detail https://docs.python.org/2/tutorial/floatingpoint.html"
   ]
  },
  {
   "cell_type": "code",
   "execution_count": 4,
   "id": "28f6b759-ecaf-4def-ba9b-bb6e7059029f",
   "metadata": {},
   "outputs": [
    {
     "data": {
      "text/plain": [
       "0"
      ]
     },
     "execution_count": 4,
     "metadata": {},
     "output_type": "execute_result"
    }
   ],
   "source": [
    "round(0.1 + 0.2 - 0.3 )"
   ]
  },
  {
   "cell_type": "code",
   "execution_count": 5,
   "id": "16a7dac1-02be-47c7-affa-a9681258587d",
   "metadata": {},
   "outputs": [
    {
     "data": {
      "text/plain": [
       "'C:\\\\Users\\\\PratikTalaviya\\\\Crest Training'"
      ]
     },
     "execution_count": 5,
     "metadata": {},
     "output_type": "execute_result"
    }
   ],
   "source": [
    "pwd"
   ]
  },
  {
   "cell_type": "code",
   "execution_count": 7,
   "id": "8233f68c-93c4-4890-92a2-6256db54136a",
   "metadata": {},
   "outputs": [],
   "source": [
    "myfile = open(\"Untitled.ipynb\")"
   ]
  },
  {
   "cell_type": "code",
   "execution_count": 8,
   "id": "d535da20-067a-4516-8006-6bd899d14b30",
   "metadata": {},
   "outputs": [
    {
     "data": {
      "text/plain": [
       "'{\\n \"cells\": [\\n  {\\n   \"cell_type\": \"code\",\\n   \"execution_count\": null,\\n   \"id\": \"e63504c9-3f50-48c7-a9ae-eca24310b7ce\",\\n   \"metadata\": {},\\n   \"outputs\": [],\\n   \"source\": []\\n  }\\n ],\\n \"metadata\": {\\n  \"kernelspec\": {\\n   \"display_name\": \"\",\\n   \"name\": \"\"\\n  },\\n  \"language_info\": {\\n   \"name\": \"\"\\n  }\\n },\\n \"nbformat\": 4,\\n \"nbformat_minor\": 5\\n}\\n'"
      ]
     },
     "execution_count": 8,
     "metadata": {},
     "output_type": "execute_result"
    }
   ],
   "source": [
    "myfile.read()"
   ]
  },
  {
   "cell_type": "code",
   "execution_count": 9,
   "id": "e2abf40d-ecb7-4839-b8ad-474a892a10b6",
   "metadata": {},
   "outputs": [],
   "source": [
    "myfile.close()"
   ]
  },
  {
   "cell_type": "code",
   "execution_count": 12,
   "id": "67e13921-14d7-4678-93a8-733dcdd7ea46",
   "metadata": {},
   "outputs": [],
   "source": [
    "with open(\"D:\\\\Python - The Complete Python Bootcamp From Zero to Hero in Python\\\\3 - Python Object and Data Structure Basics\\\\1 - Numbers Quiz.html\") as myfile:\n",
    "    contents = myfile.read()"
   ]
  },
  {
   "cell_type": "code",
   "execution_count": 13,
   "id": "9f5bdfc7-045f-4fa5-b95a-d824a63bfd91",
   "metadata": {},
   "outputs": [
    {
     "data": {
      "text/plain": [
       "'<p>Test your knowledge on Numbers in Python</p>'"
      ]
     },
     "execution_count": 13,
     "metadata": {},
     "output_type": "execute_result"
    }
   ],
   "source": [
    "contents"
   ]
  },
  {
   "cell_type": "raw",
   "id": "fccfa3dc-0a6f-45a4-a793-9df2c959f047",
   "metadata": {},
   "source": [
    "We Use with open() as fileName : syntax so we don't need to close the file manually it gets closed automatically.\n"
   ]
  },
  {
   "cell_type": "code",
   "execution_count": 17,
   "id": "731b57ba-eb18-44b6-a8c3-ae7c6ae3a9b8",
   "metadata": {},
   "outputs": [],
   "source": [
    "with open(\"D:\\\\Python - The Complete Python Bootcamp From Zero to Hero in Python\\\\3 - Python Object and Data Structure Basics\\\\11 - Introduction to Python Data Types English.vtt\", encoding='utf-8') as myfile:\n",
    "    contents = myfile.read()"
   ]
  },
  {
   "cell_type": "code",
   "execution_count": 18,
   "id": "07297ffd-9ebc-473a-a00a-446e61049e71",
   "metadata": {},
   "outputs": [
    {
     "data": {
      "text/plain": [
       "\"WEBVTT\\n\\n00:05.360 --> 00:09.740\\nWelcome back everyone to this section on Python object and data structure basics.\\n\\n00:10.960 --> 00:14.860\\nSo in this section of the course, we're going to start off by discussing basic data types.\\n\\n00:15.480 --> 00:19.650\\nAnd these are your basic building blocks of code when constructing larger pieces of code.\\n\\n00:19.800 --> 00:23.490\\nAnd we're going to quickly discuss all the possible data types that we're going to talk about in this\\n\\n00:23.490 --> 00:24.120\\nsection.\\n\\n00:24.120 --> 00:27.960\\nAnd then we'll have lectures that go into a lot more detail about each one.\\n\\n00:27.960 --> 00:30.770\\nSo don't worry about memorizing all the information shown here.\\n\\n00:30.780 --> 00:34.830\\nThis is more just a quick overview, and there's going to be a lecture on each of these data types as\\n\\n00:34.830 --> 00:36.330\\nwe go on throughout this section.\\n\\n00:37.820 --> 00:42.530\\nSo the data types that we're going to be discussing are the following in this table here we have the\\n\\n00:42.530 --> 00:46.100\\nname of the data type on that left hand column, and then there's the type.\\n\\n00:46.100 --> 00:52.040\\nSo what that means is just Python has an internal keyword for this name and you're not going to get\\n\\n00:52.040 --> 00:53.440\\nthe whole word integer.\\n\\n00:53.450 --> 00:56.810\\nThe whole word floating point instead of Python has kind of a shortened keyword.\\n\\n00:56.810 --> 01:02.000\\nSo that's the second column such as int for integer, STR, for strings, etc..\\n\\n01:02.670 --> 01:06.870\\nThen we have the description column, and that's just going to be what the actual description of the\\n\\n01:06.870 --> 01:07.500\\ndata type is.\\n\\n01:07.500 --> 01:08.970\\nSo let's quickly go through these.\\n\\n01:09.120 --> 01:14.350\\nWe start off with integers and those are just basic whole numbers such as three, 300, 200.\\n\\n01:14.370 --> 01:20.840\\nThen we have floating point numbers and those are numbers of a decimal point, 2.3, 4.6, 100.0.\\n\\n01:20.850 --> 01:25.930\\nAnd notice here that if even if you have 100.0, that still counts as a floating point number.\\n\\n01:25.950 --> 01:28.560\\nThat's no longer an integer because it has a decimal point.\\n\\n01:28.860 --> 01:33.950\\nThen after that, we have strings, and strings are an ordered sequence of characters.\\n\\n01:33.960 --> 01:39.090\\nYou can think of these as just kind of words, but you should also note they can be numbers as well\\n\\n01:39.090 --> 01:41.640\\nas foreign characters inside of a string.\\n\\n01:41.670 --> 01:46.330\\nThe main thing that the notes is a string is that it either has double quotes or single quotes.\\n\\n01:46.350 --> 01:49.800\\nHere we can see we have hello and double quotes Sammy and single quotes.\\n\\n01:49.800 --> 01:54.450\\nWe have the digits of 2000 inside double quotes that makes it a string.\\n\\n01:54.450 --> 01:57.480\\nIt's no longer just an integer because it has double quotes around it.\\n\\n01:57.480 --> 02:00.960\\nAnd then you can also see we have some Japanese characters inside double quotes.\\n\\n02:01.470 --> 02:08.130\\nThen we come to data structures, and data structures are a little more specialized in basic data types\\n\\n02:08.130 --> 02:14.310\\nand data objects because they can actually hold data objects in some sort of sequence or in some sort\\n\\n02:14.310 --> 02:15.270\\nof mapping.\\n\\n02:15.900 --> 02:19.500\\nSo here we have lists and these are an ordered sequence of objects.\\n\\n02:19.500 --> 02:24.660\\nHere we can see that we've been able to use square brackets and commas to have a sequence of other objects,\\n\\n02:24.660 --> 02:26.910\\nsuch as the number ten, the string.\\n\\n02:26.910 --> 02:27.360\\nHello.\\n\\n02:27.360 --> 02:29.220\\nAnd then the number of 200.3.\\n\\n02:30.090 --> 02:34.030\\nDictionaries are another data structure that can store other data types.\\n\\n02:34.050 --> 02:39.060\\nExcept in this case, instead of having an ordered sequence, they have unordered key value pairs.\\n\\n02:39.060 --> 02:42.540\\nAnd we'll be discussing in a lot more detail how dictionaries work.\\n\\n02:42.540 --> 02:48.360\\nBut here we can see that we have a key, then a colon and then a value, and it's denoted by curly braces\\n\\n02:48.360 --> 02:53.520\\nas far as if it's a dictionary, instead of just being a normal list which has square brackets, but\\n\\n02:53.520 --> 02:58.350\\nthen we can have something like name and then colon, and then the value of that name is Frankie.\\n\\n02:59.010 --> 03:01.470\\nAgain, we'll be discussing dictionaries in a lot more detail.\\n\\n03:01.980 --> 03:03.720\\nAfter dictionaries, we have tuples.\\n\\n03:03.720 --> 03:08.280\\nSometimes they're also called tuples, and these are ordered immutable sequences of objects.\\n\\n03:08.280 --> 03:13.110\\nThey look a lot like lists, except they have parentheses and they're immutable, meaning you cannot\\n\\n03:13.110 --> 03:15.870\\nchange an object that's already in that sequence.\\n\\n03:15.870 --> 03:18.750\\nSo we'll be discussing what immutable means in a lot more detail.\\n\\n03:18.750 --> 03:20.130\\nWhen discussing tuples.\\n\\n03:20.610 --> 03:25.710\\nThen we have sets which are an unordered collection of unique objects, and again, we'll talk about\\n\\n03:25.710 --> 03:26.910\\nthat in a lot more detail.\\n\\n03:26.910 --> 03:29.760\\nThey're a little similar to a dictionary, but they don't have key value pairs.\\n\\n03:29.760 --> 03:33.000\\nInstead, they're just unique objects in some unordered collection.\\n\\n03:33.000 --> 03:34.770\\nSo you don't have that colon key value pair.\\n\\n03:35.040 --> 03:37.260\\nAgain, we'll discuss it in more detail later on.\\n\\n03:37.350 --> 03:42.810\\nThen finally we'll talk about booleans, which are just logical value values indicating true or false.\\n\\n03:42.840 --> 03:46.980\\nNotice how we have capital T in capital F, that sort of syntax is necessary for Python.\\n\\n03:47.130 --> 03:48.660\\nSo those are all the basic data types.\\n\\n03:48.660 --> 03:53.190\\nAgain, don't worry if you didn't understand any of this or didn't want to memorize any of this, we're\\n\\n03:53.190 --> 03:57.060\\ngoing to have a lecture on basically each of these topics in a lot more detail and show you how you\\n\\n03:57.060 --> 03:58.620\\ncan use them to write your own code.\\n\\n03:59.400 --> 03:59.780\\nOkay.\\n\\n03:59.790 --> 04:00.690\\nLet's get started.\\n\\n04:00.720 --> 04:01.980\\nI'll see you at the next lecture.\\n\""
      ]
     },
     "execution_count": 18,
     "metadata": {},
     "output_type": "execute_result"
    }
   ],
   "source": [
    "contents"
   ]
  },
  {
   "cell_type": "code",
   "execution_count": null,
   "id": "a55e04af-d04e-420c-8e24-78fe89b32cdd",
   "metadata": {},
   "outputs": [],
   "source": []
  }
 ],
 "metadata": {
  "kernelspec": {
   "display_name": "Python 3 (ipykernel)",
   "language": "python",
   "name": "python3"
  },
  "language_info": {
   "codemirror_mode": {
    "name": "ipython",
    "version": 3
   },
   "file_extension": ".py",
   "mimetype": "text/x-python",
   "name": "python",
   "nbconvert_exporter": "python",
   "pygments_lexer": "ipython3",
   "version": "3.12.7"
  }
 },
 "nbformat": 4,
 "nbformat_minor": 5
}
