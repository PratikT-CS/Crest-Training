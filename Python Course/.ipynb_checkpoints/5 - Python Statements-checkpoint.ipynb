{
 "cells": [
  {
   "cell_type": "markdown",
   "id": "abd13851-a213-42ad-8de7-02de674d752a",
   "metadata": {},
   "source": [
    "if, elif and else"
   ]
  },
  {
   "cell_type": "code",
   "execution_count": 1,
   "id": "c9286fae-0508-4e85-9baa-bbd6552c15d1",
   "metadata": {},
   "outputs": [
    {
     "name": "stdout",
     "output_type": "stream",
     "text": [
      "Welcome to the bank!\n"
     ]
    }
   ],
   "source": [
    "loc = 'Bank'\n",
    "\n",
    "if loc == 'Auto Shop':\n",
    "    print('Welcome to the Auto Shop!')\n",
    "elif loc == 'Bank':\n",
    "    print('Welcome to the bank!')\n",
    "else:\n",
    "    print('Where are you?')"
   ]
  },
  {
   "cell_type": "code",
   "execution_count": 2,
   "id": "05fce4cb-8706-46ae-a92b-e5152519822d",
   "metadata": {},
   "outputs": [
    {
     "name": "stdout",
     "output_type": "stream",
     "text": [
      "Where are you?\n"
     ]
    }
   ],
   "source": [
    "loc = ''\n",
    "\n",
    "if loc == 'Auto Shop':\n",
    "    print('Welcome to the Auto Shop!')\n",
    "elif loc == 'Bank':\n",
    "    print('Welcome to the bank!')\n",
    "else:\n",
    "    print('Where are you?')"
   ]
  },
  {
   "cell_type": "markdown",
   "id": "43322690-67ed-4408-aa88-bb73b213c40b",
   "metadata": {},
   "source": [
    "FOR LOOP"
   ]
  },
  {
   "cell_type": "code",
   "execution_count": 3,
   "id": "22f93603-fcbc-4d7c-996e-ffc6be830a5b",
   "metadata": {},
   "outputs": [],
   "source": [
    "myList = [3]*10"
   ]
  },
  {
   "cell_type": "code",
   "execution_count": 4,
   "id": "c2fad10a-4c9a-40a2-94c9-3cb88948ae47",
   "metadata": {},
   "outputs": [
    {
     "data": {
      "text/plain": [
       "[3, 3, 3, 3, 3, 3, 3, 3, 3, 3]"
      ]
     },
     "execution_count": 4,
     "metadata": {},
     "output_type": "execute_result"
    }
   ],
   "source": [
    "myList"
   ]
  },
  {
   "cell_type": "code",
   "execution_count": 5,
   "id": "2067de0f-9e8e-4a54-b8a1-aca801604a1b",
   "metadata": {},
   "outputs": [
    {
     "name": "stdout",
     "output_type": "stream",
     "text": [
      "3\n",
      "3\n",
      "3\n",
      "3\n",
      "3\n",
      "3\n",
      "3\n",
      "3\n",
      "3\n",
      "3\n"
     ]
    }
   ],
   "source": [
    "for num in myList:\n",
    "    print(num)"
   ]
  },
  {
   "cell_type": "code",
   "execution_count": 8,
   "id": "074996f1-af80-481c-87d4-2b55b2a967f8",
   "metadata": {},
   "outputs": [],
   "source": [
    "list1 = [1, 2, 3, 4, 5, 6, 7, 8, 9, 10]"
   ]
  },
  {
   "cell_type": "code",
   "execution_count": 9,
   "id": "fbe3ad1a-ce01-4f0b-a4c2-61b247333283",
   "metadata": {},
   "outputs": [
    {
     "name": "stdout",
     "output_type": "stream",
     "text": [
      "1 is Odd\n",
      "2 is Even\n",
      "3 is Odd\n",
      "4 is Even\n",
      "5 is Odd\n",
      "6 is Even\n",
      "7 is Odd\n",
      "8 is Even\n",
      "9 is Odd\n",
      "10 is Even\n"
     ]
    }
   ],
   "source": [
    "for num in list1:\n",
    "    if num % 2 == 0:\n",
    "        print(f\"{num} is Even\")\n",
    "    else:\n",
    "        print(f\"{num} is Odd\")"
   ]
  },
  {
   "cell_type": "code",
   "execution_count": 10,
   "id": "e98d7d2c-c133-4abc-8c97-3939705db5cb",
   "metadata": {},
   "outputs": [],
   "source": [
    "d = {'k1':1,'k2':2,'k3':3}"
   ]
  },
  {
   "cell_type": "code",
   "execution_count": 12,
   "id": "a683917a-9492-4d9e-8e80-5d062ea0f37b",
   "metadata": {},
   "outputs": [
    {
     "name": "stdout",
     "output_type": "stream",
     "text": [
      "1\n",
      "2\n",
      "3\n"
     ]
    }
   ],
   "source": [
    "for item in d:\n",
    "    print(d[item])"
   ]
  },
  {
   "cell_type": "code",
   "execution_count": 13,
   "id": "e50b5c57-85ed-41e2-8181-090c617386f2",
   "metadata": {},
   "outputs": [
    {
     "name": "stdout",
     "output_type": "stream",
     "text": [
      "k1\n",
      "k2\n",
      "k3\n"
     ]
    }
   ],
   "source": [
    "for key in d:\n",
    "    print(key)"
   ]
  },
  {
   "cell_type": "code",
   "execution_count": 15,
   "id": "23711008-07ff-40fc-9a02-75b4084d8323",
   "metadata": {},
   "outputs": [
    {
     "name": "stdout",
     "output_type": "stream",
     "text": [
      "1\n",
      "2\n",
      "3\n"
     ]
    }
   ],
   "source": [
    "for val in d.values():\n",
    "    print(val)"
   ]
  },
  {
   "cell_type": "raw",
   "id": "8c677c03-6ccb-4810-9ef6-99e30db3f495",
   "metadata": {},
   "source": [
    "Below shown way is used to unpack the tuple items as we now that items() method will give as list with tuple of key value pair, \n",
    "so we will unpack the tuple"
   ]
  },
  {
   "cell_type": "code",
   "execution_count": 17,
   "id": "f6d03b7b-f838-40d4-8799-8ec374b8e27a",
   "metadata": {},
   "outputs": [
    {
     "name": "stdout",
     "output_type": "stream",
     "text": [
      "1\n",
      "2\n",
      "3\n"
     ]
    }
   ],
   "source": [
    "for key, val in d.items():\n",
    "    print(val)"
   ]
  },
  {
   "cell_type": "code",
   "execution_count": 18,
   "id": "efa7a41a-f621-4a85-955c-24cf4b643c23",
   "metadata": {},
   "outputs": [],
   "source": [
    "myString = \"Pratik\""
   ]
  },
  {
   "cell_type": "code",
   "execution_count": 19,
   "id": "b34502c9-ce95-4543-8aa9-a4251290c64b",
   "metadata": {},
   "outputs": [
    {
     "name": "stdout",
     "output_type": "stream",
     "text": [
      "P\n",
      "r\n",
      "a\n",
      "t\n",
      "k\n"
     ]
    }
   ],
   "source": [
    "for letter in myString:\n",
    "    if letter == \"i\":\n",
    "        continue\n",
    "    print(letter)"
   ]
  },
  {
   "cell_type": "code",
   "execution_count": 19,
   "id": "fb2d75e2-dc58-42c7-abbb-b1f61fa5bf4d",
   "metadata": {},
   "outputs": [
    {
     "name": "stdout",
     "output_type": "stream",
     "text": [
      "P\n",
      "r\n",
      "a\n",
      "t\n",
      "k\n"
     ]
    }
   ],
   "source": [
    "for letter in myString:\n",
    "    if letter == \"i\":\n",
    "        continue\n",
    "    print(letter)"
   ]
  },
  {
   "cell_type": "code",
   "execution_count": 26,
   "id": "af47b3ee-6a3d-46e6-8a8b-d42b83c06e8f",
   "metadata": {},
   "outputs": [
    {
     "name": "stdout",
     "output_type": "stream",
     "text": [
      "5\n",
      "4\n",
      "3\n",
      "2\n",
      "1\n",
      "0\n"
     ]
    }
   ],
   "source": [
    "x = 5\n",
    "print(x)\n",
    "while x > 0:\n",
    "    x = x - 1 \n",
    "    print(x)"
   ]
  },
  {
   "cell_type": "code",
   "execution_count": 29,
   "id": "d1cf0f69-ba76-49d0-b095-7911ff28b3f5",
   "metadata": {},
   "outputs": [
    {
     "name": "stdout",
     "output_type": "stream",
     "text": [
      "5\n",
      "4\n",
      "3\n",
      "2\n",
      "1\n"
     ]
    }
   ],
   "source": [
    "x = 5\n",
    "\n",
    "while x > 0:\n",
    "    print(x)\n",
    "    x = x - 1 \n"
   ]
  },
  {
   "cell_type": "code",
   "execution_count": 31,
   "id": "1bd96ebc-2120-4cd7-8f6b-6318457fc809",
   "metadata": {},
   "outputs": [],
   "source": [
    "from random import shuffle"
   ]
  },
  {
   "cell_type": "code",
   "execution_count": 34,
   "id": "feededc4-63dd-4196-a994-f972b8f0577a",
   "metadata": {},
   "outputs": [],
   "source": [
    "list2 = list(range(1 ,11))"
   ]
  },
  {
   "cell_type": "code",
   "execution_count": 35,
   "id": "4e52c722-ebf5-4ca7-8d99-fc043ab7075c",
   "metadata": {},
   "outputs": [
    {
     "data": {
      "text/plain": [
       "[1, 2, 3, 4, 5, 6, 7, 8, 9, 10]"
      ]
     },
     "execution_count": 35,
     "metadata": {},
     "output_type": "execute_result"
    }
   ],
   "source": [
    "list2"
   ]
  },
  {
   "cell_type": "code",
   "execution_count": 36,
   "id": "cbc423a3-d27e-4c4e-acd3-fb0b9bfce509",
   "metadata": {},
   "outputs": [],
   "source": [
    "shuffle(list2)"
   ]
  },
  {
   "cell_type": "code",
   "execution_count": 37,
   "id": "166720db-873c-46f5-b9a3-85f33d48dbfc",
   "metadata": {},
   "outputs": [
    {
     "data": {
      "text/plain": [
       "[2, 9, 8, 1, 7, 3, 10, 5, 6, 4]"
      ]
     },
     "execution_count": 37,
     "metadata": {},
     "output_type": "execute_result"
    }
   ],
   "source": [
    "list2"
   ]
  },
  {
   "cell_type": "code",
   "execution_count": 38,
   "id": "10d5af5d-fe42-45e0-bed1-2376661c60df",
   "metadata": {},
   "outputs": [],
   "source": [
    "from random import randint"
   ]
  },
  {
   "cell_type": "code",
   "execution_count": 40,
   "id": "bfd66509-a924-4773-84bf-f4c85a2d1e0f",
   "metadata": {},
   "outputs": [
    {
     "data": {
      "text/plain": [
       "622"
      ]
     },
     "execution_count": 40,
     "metadata": {},
     "output_type": "execute_result"
    }
   ],
   "source": [
    "randint(0,1000)"
   ]
  },
  {
   "cell_type": "code",
   "execution_count": 41,
   "id": "9d3e3cdb-149f-422d-beb8-ca8111104f6f",
   "metadata": {},
   "outputs": [],
   "source": [
    "letterList = [word for word in \"Pratik\"]"
   ]
  },
  {
   "cell_type": "markdown",
   "id": "e7c08093-ebd0-42f6-914b-a4077d90377e",
   "metadata": {},
   "source": [
    "LIST COMPREHENSIONS"
   ]
  },
  {
   "cell_type": "code",
   "execution_count": 42,
   "id": "9fadb6d3-a526-4f02-8354-9656b4a48fcc",
   "metadata": {},
   "outputs": [
    {
     "data": {
      "text/plain": [
       "['P', 'r', 'a', 't', 'i', 'k']"
      ]
     },
     "execution_count": 42,
     "metadata": {},
     "output_type": "execute_result"
    }
   ],
   "source": [
    "letterList"
   ]
  },
  {
   "cell_type": "code",
   "execution_count": 43,
   "id": "e4b90584-a4f9-4d0d-b40d-6f1c422393a8",
   "metadata": {},
   "outputs": [],
   "source": [
    "squareList = [num**2 for num in list2]"
   ]
  },
  {
   "cell_type": "code",
   "execution_count": 44,
   "id": "421d7e5c-be16-450d-8d2a-bf2fb139cfd4",
   "metadata": {},
   "outputs": [
    {
     "data": {
      "text/plain": [
       "[4, 81, 64, 1, 49, 9, 100, 25, 36, 16]"
      ]
     },
     "execution_count": 44,
     "metadata": {},
     "output_type": "execute_result"
    }
   ],
   "source": [
    "squareList"
   ]
  },
  {
   "cell_type": "code",
   "execution_count": 45,
   "id": "98b32e1a-eb6a-4ab1-bba6-7a5b6b17d0b5",
   "metadata": {},
   "outputs": [
    {
     "data": {
      "text/plain": [
       "[2, 9, 8, 1, 7, 3, 10, 5, 6, 4]"
      ]
     },
     "execution_count": 45,
     "metadata": {},
     "output_type": "execute_result"
    }
   ],
   "source": [
    "list2"
   ]
  },
  {
   "cell_type": "code",
   "execution_count": 1,
   "id": "04387043-2f95-424c-ad5b-8c09e109fe1a",
   "metadata": {},
   "outputs": [],
   "source": [
    "tempCel = [45, 35, 20, 15, 33]\n"
   ]
  },
  {
   "cell_type": "code",
   "execution_count": 2,
   "id": "dec88c7b-ad0f-4808-9956-2287fd072240",
   "metadata": {},
   "outputs": [],
   "source": [
    "tempFerh = [ ((9/5)*temp + 32) for temp in tempCel ]"
   ]
  },
  {
   "cell_type": "code",
   "execution_count": 3,
   "id": "c38373b3-2719-4ad0-99ee-3eee34403c14",
   "metadata": {},
   "outputs": [
    {
     "data": {
      "text/plain": [
       "[113.0, 95.0, 68.0, 59.0, 91.4]"
      ]
     },
     "execution_count": 3,
     "metadata": {},
     "output_type": "execute_result"
    }
   ],
   "source": [
    "tempFerh"
   ]
  },
  {
   "cell_type": "code",
   "execution_count": 6,
   "id": "cc1d792e-b218-4716-ad5c-caa9c988279c",
   "metadata": {},
   "outputs": [],
   "source": [
    "tempF = []"
   ]
  },
  {
   "cell_type": "code",
   "execution_count": 7,
   "id": "78dc78f2-1306-411a-a3ff-59cb7702bc61",
   "metadata": {},
   "outputs": [],
   "source": [
    "for temp in tempCel:\n",
    "    tempF.append((9/5)*temp + 32)"
   ]
  },
  {
   "cell_type": "code",
   "execution_count": 8,
   "id": "9bf355f8-7905-4626-be54-ccd293fe3b4c",
   "metadata": {},
   "outputs": [
    {
     "data": {
      "text/plain": [
       "[113.0, 95.0, 68.0, 59.0, 91.4]"
      ]
     },
     "execution_count": 8,
     "metadata": {},
     "output_type": "execute_result"
    }
   ],
   "source": [
    "tempF"
   ]
  },
  {
   "cell_type": "code",
   "execution_count": 9,
   "id": "1ae7b548-c42a-4c02-8cfc-b4c0dc2b92c4",
   "metadata": {},
   "outputs": [
    {
     "data": {
      "text/plain": [
       "[1, 10, 100, 2, 20, 200, 3, 30, 300]"
      ]
     },
     "execution_count": 9,
     "metadata": {},
     "output_type": "execute_result"
    }
   ],
   "source": [
    "list3 = []\n",
    "for x in [1, 2, 3]:\n",
    "    for y in [1, 10, 100]:\n",
    "        list3.append(x*y)\n",
    "\n",
    "list3"
   ]
  },
  {
   "cell_type": "code",
   "execution_count": 10,
   "id": "1bf14aa4-75ff-4f93-a4da-e5ae6cd85c01",
   "metadata": {},
   "outputs": [
    {
     "data": {
      "text/plain": [
       "[1, 10, 100, 2, 20, 200, 3, 30, 300]"
      ]
     },
     "execution_count": 10,
     "metadata": {},
     "output_type": "execute_result"
    }
   ],
   "source": [
    "list3 = [ x*y for x in [1, 2, 3] for y in [1, 10, 100]]\n",
    "list3"
   ]
  },
  {
   "cell_type": "code",
   "execution_count": 11,
   "id": "2a849de2-281f-47d0-a37c-0ebfecb39173",
   "metadata": {},
   "outputs": [
    {
     "data": {
      "text/plain": [
       "[0, 'ODD', 2, 'ODD', 4, 'ODD', 6, 'ODD', 8, 'ODD', 10]"
      ]
     },
     "execution_count": 11,
     "metadata": {},
     "output_type": "execute_result"
    }
   ],
   "source": [
    "results = [x if x%2==0 else \"ODD\" for x in range(0,11)]\n",
    "results"
   ]
  },
  {
   "cell_type": "code",
   "execution_count": null,
   "id": "beba12f8-cd8f-44c0-ab32-0084e68842e7",
   "metadata": {},
   "outputs": [],
   "source": []
  }
 ],
 "metadata": {
  "kernelspec": {
   "display_name": "Python 3 (ipykernel)",
   "language": "python",
   "name": "python3"
  },
  "language_info": {
   "codemirror_mode": {
    "name": "ipython",
    "version": 3
   },
   "file_extension": ".py",
   "mimetype": "text/x-python",
   "name": "python",
   "nbconvert_exporter": "python",
   "pygments_lexer": "ipython3",
   "version": "3.12.7"
  }
 },
 "nbformat": 4,
 "nbformat_minor": 5
}
