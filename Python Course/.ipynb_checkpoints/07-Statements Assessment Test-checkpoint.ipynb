{
 "cells": [
  {
   "cell_type": "markdown",
   "metadata": {},
   "source": [
    "___\n",
    "\n",
    "<a href='https://www.udemy.com/user/joseportilla/'><img src='../Pierian_Data_Logo.png'/></a>\n",
    "___\n",
    "<center><em>Content Copyright by Pierian Data</em></center>"
   ]
  },
  {
   "cell_type": "markdown",
   "metadata": {
    "collapsed": true,
    "jupyter": {
     "outputs_hidden": true
    }
   },
   "source": [
    "# Statements Assessment Test\n",
    "Let's test your knowledge!"
   ]
  },
  {
   "cell_type": "markdown",
   "metadata": {},
   "source": [
    "_____\n",
    "**Use <code>for</code>, .split(), and <code>if</code> to create a Statement that will print out words that start with 's':**"
   ]
  },
  {
   "cell_type": "code",
   "execution_count": 2,
   "metadata": {},
   "outputs": [],
   "source": [
    "st = 'Print only the words that start with s in this sentence'"
   ]
  },
  {
   "cell_type": "code",
   "execution_count": 5,
   "metadata": {},
   "outputs": [
    {
     "name": "stdout",
     "output_type": "stream",
     "text": [
      "words\n",
      "start\n",
      "s\n",
      "this\n",
      "sentence\n"
     ]
    }
   ],
   "source": [
    "#Code here\n",
    "words = st.split(\" \")\n",
    "for word in words:\n",
    "    if \"s\" in word:\n",
    "        print(word)"
   ]
  },
  {
   "cell_type": "markdown",
   "metadata": {},
   "source": [
    "______\n",
    "**Use range() to print all the even numbers from 0 to 10.**"
   ]
  },
  {
   "cell_type": "code",
   "execution_count": 8,
   "metadata": {},
   "outputs": [
    {
     "data": {
      "text/plain": [
       "[0, 2, 4, 6, 8, 10]"
      ]
     },
     "execution_count": 8,
     "metadata": {},
     "output_type": "execute_result"
    }
   ],
   "source": [
    "#Code Here\n",
    "[x for x in range(0,11) if x%2==0]"
   ]
  },
  {
   "cell_type": "markdown",
   "metadata": {},
   "source": [
    "___\n",
    "**Use a List Comprehension to create a list of all numbers between 1 and 50 that are divisible by 3.**"
   ]
  },
  {
   "cell_type": "code",
   "execution_count": 10,
   "metadata": {},
   "outputs": [
    {
     "data": {
      "text/plain": [
       "[3, 6, 9, 12, 15, 18, 21, 24, 27, 30, 33, 36, 39, 42, 45, 48]"
      ]
     },
     "execution_count": 10,
     "metadata": {},
     "output_type": "execute_result"
    }
   ],
   "source": [
    "#Code in this cell\n",
    "[y for y in range(1,51) if y%3 == 0]"
   ]
  },
  {
   "cell_type": "markdown",
   "metadata": {},
   "source": [
    "_____\n",
    "**Go through the string below and if the length of a word is even print \"even!\"**"
   ]
  },
  {
   "cell_type": "code",
   "execution_count": 11,
   "metadata": {},
   "outputs": [],
   "source": [
    "st = 'Print every word in this sentence that has an even number of letters'"
   ]
  },
  {
   "cell_type": "code",
   "execution_count": 16,
   "metadata": {},
   "outputs": [
    {
     "name": "stdout",
     "output_type": "stream",
     "text": [
      "even! word\n",
      "even! in\n",
      "even! this\n",
      "even! sentence\n",
      "even! that\n",
      "even! an\n",
      "even! even\n",
      "even! number\n",
      "even! of\n"
     ]
    }
   ],
   "source": [
    "#Code in this cell\n",
    "words = st.split(\" \")\n",
    "for word in words:\n",
    "    if len(word)%2 == 0:\n",
    "        print(f\"even! {word}\")"
   ]
  },
  {
   "cell_type": "markdown",
   "metadata": {},
   "source": [
    "____\n",
    "**Write a program that prints the integers from 1 to 100. But for multiples of three print \"Fizz\" instead of the number, and for the multiples of five print \"Buzz\". For numbers which are multiples of both three and five print \"FizzBuzz\".**"
   ]
  },
  {
   "cell_type": "code",
   "execution_count": 24,
   "metadata": {},
   "outputs": [
    {
     "name": "stdout",
     "output_type": "stream",
     "text": [
      "Fizz 3\n",
      "Buzz 5\n",
      "Fizz 6\n",
      "Fizz 9\n",
      "Buzz 10\n",
      "Fizz 12\n",
      "FizzBuzz 15\n",
      "Fizz 18\n",
      "Buzz 20\n",
      "Fizz 21\n",
      "Fizz 24\n",
      "Buzz 25\n",
      "Fizz 27\n",
      "FizzBuzz 30\n",
      "Fizz 33\n",
      "Buzz 35\n",
      "Fizz 36\n",
      "Fizz 39\n",
      "Buzz 40\n",
      "Fizz 42\n",
      "FizzBuzz 45\n",
      "Fizz 48\n",
      "Buzz 50\n",
      "Fizz 51\n",
      "Fizz 54\n",
      "Buzz 55\n",
      "Fizz 57\n",
      "FizzBuzz 60\n",
      "Fizz 63\n",
      "Buzz 65\n",
      "Fizz 66\n",
      "Fizz 69\n",
      "Buzz 70\n",
      "Fizz 72\n",
      "FizzBuzz 75\n",
      "Fizz 78\n",
      "Buzz 80\n",
      "Fizz 81\n",
      "Fizz 84\n",
      "Buzz 85\n",
      "Fizz 87\n",
      "FizzBuzz 90\n",
      "Fizz 93\n",
      "Buzz 95\n",
      "Fizz 96\n",
      "Fizz 99\n",
      "Buzz 100\n"
     ]
    }
   ],
   "source": [
    "#Code in this cell\n",
    "mylist = list(range(1,101))\n",
    "for num in mylist:\n",
    "    if num % 3 == 0 and num % 5 ==0:\n",
    "        print(f\"FizzBuzz {num}\")\n",
    "        continue\n",
    "    elif num % 3 == 0:\n",
    "        print(f\"Fizz {num}\")\n",
    "    elif num % 5 == 0:\n",
    "        print(f\"Buzz {num}\")"
   ]
  },
  {
   "cell_type": "markdown",
   "metadata": {},
   "source": [
    "____\n",
    "**Use List Comprehension to create a list of the first letters of every word in the string below:**"
   ]
  },
  {
   "cell_type": "code",
   "execution_count": 26,
   "metadata": {},
   "outputs": [],
   "source": [
    "st = 'Create a list of the first letters of every word in this string'"
   ]
  },
  {
   "cell_type": "code",
   "execution_count": 27,
   "metadata": {},
   "outputs": [
    {
     "data": {
      "text/plain": [
       "['C', 'a', 'l', 'o', 't', 'f', 'l', 'o', 'e', 'w', 'i', 't', 's']"
      ]
     },
     "execution_count": 27,
     "metadata": {},
     "output_type": "execute_result"
    }
   ],
   "source": [
    "#Code in this cell\n",
    "words = st.split(\" \")\n",
    "[word[0] for word in words] "
   ]
  },
  {
   "cell_type": "markdown",
   "metadata": {},
   "source": [
    "### Great Job!"
   ]
  }
 ],
 "metadata": {
  "kernelspec": {
   "display_name": "Python 3 (ipykernel)",
   "language": "python",
   "name": "python3"
  },
  "language_info": {
   "codemirror_mode": {
    "name": "ipython",
    "version": 3
   },
   "file_extension": ".py",
   "mimetype": "text/x-python",
   "name": "python",
   "nbconvert_exporter": "python",
   "pygments_lexer": "ipython3",
   "version": "3.12.7"
  }
 },
 "nbformat": 4,
 "nbformat_minor": 4
}
