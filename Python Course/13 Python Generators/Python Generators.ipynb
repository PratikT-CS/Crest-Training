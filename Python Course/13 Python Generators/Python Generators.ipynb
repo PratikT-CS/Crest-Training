{
 "cells": [
  {
   "cell_type": "code",
   "execution_count": 1,
   "id": "99f1aabb-5f3a-47f6-b226-23066080556c",
   "metadata": {},
   "outputs": [],
   "source": [
    "def cube_func(n):\n",
    "    cubes = []\n",
    "    for num in range(n):\n",
    "        cubes.append(num**3)\n",
    "    return cubes"
   ]
  },
  {
   "cell_type": "code",
   "execution_count": 2,
   "id": "5c6c4477-5727-4cd4-95ef-213e07cc892d",
   "metadata": {},
   "outputs": [
    {
     "data": {
      "text/plain": [
       "[0, 1, 8, 27, 64, 125, 216, 343, 512, 729]"
      ]
     },
     "execution_count": 2,
     "metadata": {},
     "output_type": "execute_result"
    }
   ],
   "source": [
    "cube_func(10)"
   ]
  },
  {
   "cell_type": "code",
   "execution_count": 3,
   "id": "2bb59f23-7908-438f-922b-c587c117f8bc",
   "metadata": {},
   "outputs": [],
   "source": [
    "def cube_gen(n):\n",
    "    for num in range(n):\n",
    "        yield num**3"
   ]
  },
  {
   "cell_type": "code",
   "execution_count": 4,
   "id": "09c4cf9e-1730-4340-9e01-bd0766120855",
   "metadata": {},
   "outputs": [
    {
     "data": {
      "text/plain": [
       "<generator object cube_gen at 0x000001EA68633AC0>"
      ]
     },
     "execution_count": 4,
     "metadata": {},
     "output_type": "execute_result"
    }
   ],
   "source": [
    "cube_gen(10)"
   ]
  },
  {
   "cell_type": "code",
   "execution_count": 13,
   "id": "3d77905c-17e7-4b97-96d1-0a10ca9849fc",
   "metadata": {},
   "outputs": [],
   "source": [
    "g = cube_gen(10)"
   ]
  },
  {
   "cell_type": "code",
   "execution_count": 14,
   "id": "7639b73b-70a0-4ca0-969c-d2f218019b0e",
   "metadata": {},
   "outputs": [
    {
     "name": "stdout",
     "output_type": "stream",
     "text": [
      "0\n"
     ]
    }
   ],
   "source": [
    "print(next(g))"
   ]
  },
  {
   "cell_type": "code",
   "execution_count": 15,
   "id": "d14a7439-828d-4110-b56c-0a8264e9a209",
   "metadata": {},
   "outputs": [
    {
     "name": "stdout",
     "output_type": "stream",
     "text": [
      "1\n"
     ]
    }
   ],
   "source": [
    "print(next(g))"
   ]
  },
  {
   "cell_type": "code",
   "execution_count": 6,
   "id": "85d2caa6-29fc-4e11-a348-7dd63a60fc8b",
   "metadata": {},
   "outputs": [
    {
     "name": "stdout",
     "output_type": "stream",
     "text": [
      "0\n",
      "1\n",
      "8\n",
      "27\n",
      "64\n",
      "125\n",
      "216\n",
      "343\n",
      "512\n",
      "729\n"
     ]
    }
   ],
   "source": [
    "for i in cube_gen(10):\n",
    "    print(i)"
   ]
  },
  {
   "cell_type": "code",
   "execution_count": 10,
   "id": "5cbb1d5a-3555-4608-99d0-0dedc9596c18",
   "metadata": {},
   "outputs": [],
   "source": [
    "def fibonnic(n):\n",
    "    a = 0\n",
    "    b = 1\n",
    "    for num in range(n):\n",
    "        yield a\n",
    "        a, b = b, b+a"
   ]
  },
  {
   "cell_type": "code",
   "execution_count": 11,
   "id": "8a593a95-689d-4f5d-8744-01f534bd9a5d",
   "metadata": {},
   "outputs": [
    {
     "name": "stdout",
     "output_type": "stream",
     "text": [
      "0\n",
      "1\n",
      "1\n",
      "2\n",
      "3\n",
      "5\n",
      "8\n",
      "13\n",
      "21\n",
      "34\n",
      "55\n"
     ]
    }
   ],
   "source": [
    "for i in fibonnic(11):\n",
    "    print(i)"
   ]
  },
  {
   "cell_type": "code",
   "execution_count": 16,
   "id": "c63cb3ce-b260-4513-ac3c-615b77a606dc",
   "metadata": {},
   "outputs": [],
   "source": [
    "name = \"Pratik\""
   ]
  },
  {
   "cell_type": "code",
   "execution_count": 17,
   "id": "2427e7d6-5e07-41c1-b438-095a4ba10528",
   "metadata": {},
   "outputs": [
    {
     "ename": "TypeError",
     "evalue": "'str' object is not an iterator",
     "output_type": "error",
     "traceback": [
      "\u001b[1;31m---------------------------------------------------------------------------\u001b[0m",
      "\u001b[1;31mTypeError\u001b[0m                                 Traceback (most recent call last)",
      "Cell \u001b[1;32mIn[17], line 1\u001b[0m\n\u001b[1;32m----> 1\u001b[0m \u001b[38;5;28mprint\u001b[39m(\u001b[38;5;28mnext\u001b[39m(name))\n",
      "\u001b[1;31mTypeError\u001b[0m: 'str' object is not an iterator"
     ]
    }
   ],
   "source": [
    "print(next(name))"
   ]
  },
  {
   "cell_type": "code",
   "execution_count": 20,
   "id": "9fda014c-32d0-4ade-8250-e1f11e19f14e",
   "metadata": {},
   "outputs": [],
   "source": [
    "iter_name = iter(name)"
   ]
  },
  {
   "cell_type": "code",
   "execution_count": 22,
   "id": "06007bbf-9354-4283-8869-ae532b6f4e05",
   "metadata": {},
   "outputs": [
    {
     "name": "stdout",
     "output_type": "stream",
     "text": [
      "P\n"
     ]
    }
   ],
   "source": [
    "print(next(iter_name))"
   ]
  },
  {
   "cell_type": "code",
   "execution_count": 23,
   "id": "a7749597-fa93-4c54-a97d-b1347f894b26",
   "metadata": {},
   "outputs": [
    {
     "name": "stdout",
     "output_type": "stream",
     "text": [
      "r\n"
     ]
    }
   ],
   "source": [
    "print(next(iter_name))"
   ]
  },
  {
   "cell_type": "code",
   "execution_count": 24,
   "id": "9d81fd73-e077-434b-9449-6c410e8edbba",
   "metadata": {},
   "outputs": [
    {
     "data": {
      "text/plain": [
       "str_ascii_iterator"
      ]
     },
     "execution_count": 24,
     "metadata": {},
     "output_type": "execute_result"
    }
   ],
   "source": [
    "type(iter_name)"
   ]
  },
  {
   "cell_type": "code",
   "execution_count": 25,
   "id": "f520b197-01e3-4683-b347-3240d5bf66e6",
   "metadata": {},
   "outputs": [
    {
     "data": {
      "text/plain": [
       "function"
      ]
     },
     "execution_count": 25,
     "metadata": {},
     "output_type": "execute_result"
    }
   ],
   "source": [
    "type(fibonnic)"
   ]
  },
  {
   "cell_type": "code",
   "execution_count": 26,
   "id": "089e69b1-5fad-4912-8d1f-a4e84ac9676a",
   "metadata": {},
   "outputs": [],
   "source": [
    "mylist = [3]*3"
   ]
  },
  {
   "cell_type": "code",
   "execution_count": 27,
   "id": "6c692e3f-8874-4a6c-9f92-4325db6f9cb3",
   "metadata": {},
   "outputs": [
    {
     "data": {
      "text/plain": [
       "[3, 3, 3]"
      ]
     },
     "execution_count": 27,
     "metadata": {},
     "output_type": "execute_result"
    }
   ],
   "source": [
    "mylist"
   ]
  },
  {
   "cell_type": "code",
   "execution_count": 28,
   "id": "c7a718b8-1e0a-4a71-810d-ba58efb9991c",
   "metadata": {},
   "outputs": [
    {
     "data": {
      "text/plain": [
       "list"
      ]
     },
     "execution_count": 28,
     "metadata": {},
     "output_type": "execute_result"
    }
   ],
   "source": [
    "type(mylist)"
   ]
  },
  {
   "cell_type": "code",
   "execution_count": 29,
   "id": "3a980080-f6f8-4945-a94d-8fdc1650ee8e",
   "metadata": {},
   "outputs": [
    {
     "ename": "TypeError",
     "evalue": "'list' object is not an iterator",
     "output_type": "error",
     "traceback": [
      "\u001b[1;31m---------------------------------------------------------------------------\u001b[0m",
      "\u001b[1;31mTypeError\u001b[0m                                 Traceback (most recent call last)",
      "Cell \u001b[1;32mIn[29], line 1\u001b[0m\n\u001b[1;32m----> 1\u001b[0m \u001b[38;5;28mnext\u001b[39m(mylist)\n",
      "\u001b[1;31mTypeError\u001b[0m: 'list' object is not an iterator"
     ]
    }
   ],
   "source": [
    "next(mylist)"
   ]
  },
  {
   "cell_type": "code",
   "execution_count": null,
   "id": "778ab78a-d750-440b-afc8-9b6b7afff0ac",
   "metadata": {},
   "outputs": [],
   "source": []
  }
 ],
 "metadata": {
  "kernelspec": {
   "display_name": "Python 3 (ipykernel)",
   "language": "python",
   "name": "python3"
  },
  "language_info": {
   "codemirror_mode": {
    "name": "ipython",
    "version": 3
   },
   "file_extension": ".py",
   "mimetype": "text/x-python",
   "name": "python",
   "nbconvert_exporter": "python",
   "pygments_lexer": "ipython3",
   "version": "3.12.7"
  }
 },
 "nbformat": 4,
 "nbformat_minor": 5
}
