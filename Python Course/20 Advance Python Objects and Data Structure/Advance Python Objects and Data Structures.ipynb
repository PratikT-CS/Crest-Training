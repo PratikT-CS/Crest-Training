{
 "cells": [
  {
   "cell_type": "code",
   "execution_count": 1,
   "id": "d52f3542-3235-4ef7-ad55-27a2ff650044",
   "metadata": {},
   "outputs": [
    {
     "data": {
      "text/plain": [
       "'0x4b0'"
      ]
     },
     "execution_count": 1,
     "metadata": {},
     "output_type": "execute_result"
    }
   ],
   "source": [
    "hex(1200)"
   ]
  },
  {
   "cell_type": "code",
   "execution_count": 2,
   "id": "4c42ec0d-6961-4997-9adb-530caa483d36",
   "metadata": {},
   "outputs": [
    {
     "data": {
      "text/plain": [
       "'0b1101010100'"
      ]
     },
     "execution_count": 2,
     "metadata": {},
     "output_type": "execute_result"
    }
   ],
   "source": [
    "bin(852)"
   ]
  },
  {
   "cell_type": "code",
   "execution_count": 3,
   "id": "b9fcda27-e3e9-412a-9940-687c1a0eddbc",
   "metadata": {},
   "outputs": [],
   "source": [
    "s = \"hiiiiiiihiihihhhhhhiih\""
   ]
  },
  {
   "cell_type": "code",
   "execution_count": 4,
   "id": "8c697780-eede-42b7-8d0c-5ded6fad759e",
   "metadata": {},
   "outputs": [
    {
     "data": {
      "text/plain": [
       "['', 'iiiiiii', 'ii', 'i', '', '', '', '', '', 'ii', '']"
      ]
     },
     "execution_count": 4,
     "metadata": {},
     "output_type": "execute_result"
    }
   ],
   "source": [
    "s.split(\"h\")"
   ]
  },
  {
   "cell_type": "code",
   "execution_count": 5,
   "id": "9f8fb08b-57fd-438e-a5ac-ffc40471c6fd",
   "metadata": {},
   "outputs": [
    {
     "data": {
      "text/plain": [
       "['h', '', '', '', '', '', '', 'h', '', 'h', 'hhhhhh', '', 'h']"
      ]
     },
     "execution_count": 5,
     "metadata": {},
     "output_type": "execute_result"
    }
   ],
   "source": [
    "s.split(\"i\")"
   ]
  },
  {
   "cell_type": "code",
   "execution_count": 6,
   "id": "97696017-1d05-410c-85a1-faffadde9b28",
   "metadata": {},
   "outputs": [
    {
     "data": {
      "text/plain": [
       "('h', 'i', 'iiiiiihiihihhhhhhiih')"
      ]
     },
     "execution_count": 6,
     "metadata": {},
     "output_type": "execute_result"
    }
   ],
   "source": [
    "s.partition(\"i\")"
   ]
  },
  {
   "cell_type": "code",
   "execution_count": 7,
   "id": "bbaf35d9-f982-4def-86ca-aaec5c890822",
   "metadata": {},
   "outputs": [
    {
     "data": {
      "text/plain": [
       "12"
      ]
     },
     "execution_count": 7,
     "metadata": {},
     "output_type": "execute_result"
    }
   ],
   "source": [
    "s.count('i')"
   ]
  },
  {
   "cell_type": "code",
   "execution_count": 8,
   "id": "f17b9469-cdc8-4a59-85f7-ac10d7e32233",
   "metadata": {},
   "outputs": [
    {
     "data": {
      "text/plain": [
       "1"
      ]
     },
     "execution_count": 8,
     "metadata": {},
     "output_type": "execute_result"
    }
   ],
   "source": [
    "s.find(\"i\")"
   ]
  },
  {
   "cell_type": "code",
   "execution_count": null,
   "id": "08a7f2e7-ce35-458d-b294-c91ee01f8a3d",
   "metadata": {},
   "outputs": [],
   "source": []
  }
 ],
 "metadata": {
  "kernelspec": {
   "display_name": "Python 3 (ipykernel)",
   "language": "python",
   "name": "python3"
  },
  "language_info": {
   "codemirror_mode": {
    "name": "ipython",
    "version": 3
   },
   "file_extension": ".py",
   "mimetype": "text/x-python",
   "name": "python",
   "nbconvert_exporter": "python",
   "pygments_lexer": "ipython3",
   "version": "3.12.7"
  }
 },
 "nbformat": 4,
 "nbformat_minor": 5
}
