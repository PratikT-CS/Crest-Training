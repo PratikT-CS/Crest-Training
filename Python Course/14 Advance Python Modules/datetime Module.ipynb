{
 "cells": [
  {
   "cell_type": "code",
   "execution_count": 1,
   "id": "3859e068-ab7c-4ac8-8ad8-fcb3f6f991a3",
   "metadata": {},
   "outputs": [],
   "source": [
    "import datetime"
   ]
  },
  {
   "cell_type": "code",
   "execution_count": 39,
   "id": "0a1905b2-74e8-4cc2-b705-62ee468b124c",
   "metadata": {},
   "outputs": [],
   "source": [
    "time = datetime.time()"
   ]
  },
  {
   "cell_type": "code",
   "execution_count": 40,
   "id": "98d56a5f-c693-4241-8127-74ebe5fa8b56",
   "metadata": {},
   "outputs": [
    {
     "name": "stdout",
     "output_type": "stream",
     "text": [
      "2025-01-13 16:55:45.095922\n"
     ]
    }
   ],
   "source": [
    "print(datetime.datetime.now())"
   ]
  },
  {
   "cell_type": "code",
   "execution_count": 44,
   "id": "7077f534-cdd8-4f8b-82da-82da9539dbbe",
   "metadata": {},
   "outputs": [
    {
     "name": "stdout",
     "output_type": "stream",
     "text": [
      "16:57:11.874037\n"
     ]
    }
   ],
   "source": [
    "print(datetime.datetime.now().time())"
   ]
  },
  {
   "cell_type": "code",
   "execution_count": 46,
   "id": "9e524a9f-62e0-4902-99c0-f2d695b8fd6c",
   "metadata": {},
   "outputs": [
    {
     "name": "stdout",
     "output_type": "stream",
     "text": [
      "2025-01-13\n"
     ]
    }
   ],
   "source": [
    "print(datetime.datetime.now().date())"
   ]
  },
  {
   "cell_type": "code",
   "execution_count": 47,
   "id": "35e4c990-0cea-40f8-bf5d-b69fcc858785",
   "metadata": {},
   "outputs": [
    {
     "name": "stdout",
     "output_type": "stream",
     "text": [
      "2025\n"
     ]
    }
   ],
   "source": [
    "print(datetime.datetime.now().date().year)"
   ]
  },
  {
   "cell_type": "code",
   "execution_count": 5,
   "id": "a4a825aa-b4d0-4658-8850-c3cc2f32b2be",
   "metadata": {},
   "outputs": [
    {
     "name": "stdout",
     "output_type": "stream",
     "text": [
      "00:00:00\n"
     ]
    }
   ],
   "source": [
    "print(time)"
   ]
  },
  {
   "cell_type": "code",
   "execution_count": 11,
   "id": "240b372b-476c-46d0-9c29-34ae32c47e9c",
   "metadata": {},
   "outputs": [],
   "source": [
    "time = datetime.time(10,33,5)"
   ]
  },
  {
   "cell_type": "code",
   "execution_count": 13,
   "id": "eda3389d-9992-43c0-8b70-8b6a31dd75fc",
   "metadata": {},
   "outputs": [
    {
     "name": "stdout",
     "output_type": "stream",
     "text": [
      "10:33:05\n"
     ]
    }
   ],
   "source": [
    "print(time)"
   ]
  },
  {
   "cell_type": "code",
   "execution_count": 15,
   "id": "e9876725-f85c-4517-91dc-5474df3fc8be",
   "metadata": {},
   "outputs": [
    {
     "name": "stdout",
     "output_type": "stream",
     "text": [
      "10\n"
     ]
    }
   ],
   "source": [
    "print(time.hour)"
   ]
  },
  {
   "cell_type": "code",
   "execution_count": 16,
   "id": "504a3de4-a255-4f5b-b604-76879ace5186",
   "metadata": {},
   "outputs": [
    {
     "name": "stdout",
     "output_type": "stream",
     "text": [
      "5\n"
     ]
    }
   ],
   "source": [
    "print(time.second)"
   ]
  },
  {
   "cell_type": "code",
   "execution_count": 17,
   "id": "c4421d53-b2df-4a45-aa67-ed6ddb38e0ad",
   "metadata": {},
   "outputs": [
    {
     "name": "stdout",
     "output_type": "stream",
     "text": [
      "0\n"
     ]
    }
   ],
   "source": [
    "print(time.microsecond)"
   ]
  },
  {
   "cell_type": "code",
   "execution_count": 19,
   "id": "487832c2-dae8-4a2c-9de2-f6445e223efb",
   "metadata": {},
   "outputs": [
    {
     "name": "stdout",
     "output_type": "stream",
     "text": [
      "2025-01-13\n"
     ]
    }
   ],
   "source": [
    "print(datetime.date.today())"
   ]
  },
  {
   "cell_type": "code",
   "execution_count": 24,
   "id": "b511b040-1708-4788-8042-5c1c771f7528",
   "metadata": {},
   "outputs": [],
   "source": [
    "today = datetime.date.today()"
   ]
  },
  {
   "cell_type": "code",
   "execution_count": 26,
   "id": "30ca1431-7f30-4110-b2d1-1fc5f822f093",
   "metadata": {},
   "outputs": [
    {
     "name": "stdout",
     "output_type": "stream",
     "text": [
      "13\n"
     ]
    }
   ],
   "source": [
    "print(today.day)"
   ]
  },
  {
   "cell_type": "code",
   "execution_count": 27,
   "id": "c548ece8-d46c-46df-9acd-934f4057629e",
   "metadata": {},
   "outputs": [
    {
     "name": "stdout",
     "output_type": "stream",
     "text": [
      "1\n"
     ]
    }
   ],
   "source": [
    "print(today.month)"
   ]
  },
  {
   "cell_type": "code",
   "execution_count": 32,
   "id": "a66e5f86-88ec-443e-923b-9a7193d87bd0",
   "metadata": {},
   "outputs": [
    {
     "name": "stdout",
     "output_type": "stream",
     "text": [
      "9999-12-31\n"
     ]
    }
   ],
   "source": [
    "print(today.max)"
   ]
  },
  {
   "cell_type": "code",
   "execution_count": 34,
   "id": "f285b035-806c-4acb-a329-f6957d390198",
   "metadata": {},
   "outputs": [
    {
     "name": "stdout",
     "output_type": "stream",
     "text": [
      "Mon Jan 13 00:00:00 2025\n"
     ]
    }
   ],
   "source": [
    "print(today.ctime())"
   ]
  },
  {
   "cell_type": "code",
   "execution_count": 48,
   "id": "cb748aa0-cfe6-4453-b754-6e1ec6d2ba2f",
   "metadata": {},
   "outputs": [],
   "source": [
    "date1 = datetime.datetime.now().date()"
   ]
  },
  {
   "cell_type": "code",
   "execution_count": 61,
   "id": "0cb88273-30e1-41be-842b-d0b051a0480d",
   "metadata": {},
   "outputs": [],
   "source": [
    "date2 = datetime.date(2002,11,3)"
   ]
  },
  {
   "cell_type": "code",
   "execution_count": 62,
   "id": "94f0ddaf-f904-4044-a827-5e423088f15e",
   "metadata": {},
   "outputs": [],
   "source": [
    "diff = date1 - date2"
   ]
  },
  {
   "cell_type": "code",
   "execution_count": 63,
   "id": "51617d8c-27ae-454c-a5db-6615d6a47475",
   "metadata": {},
   "outputs": [
    {
     "name": "stdout",
     "output_type": "stream",
     "text": [
      "8107 days, 0:00:00\n"
     ]
    }
   ],
   "source": [
    "print(diff)"
   ]
  },
  {
   "cell_type": "code",
   "execution_count": 64,
   "id": "9c3bc350-f512-4a24-acc9-438b2e7d66d6",
   "metadata": {},
   "outputs": [
    {
     "data": {
      "text/plain": [
       "datetime.timedelta"
      ]
     },
     "execution_count": 64,
     "metadata": {},
     "output_type": "execute_result"
    }
   ],
   "source": [
    "type(diff)"
   ]
  },
  {
   "cell_type": "code",
   "execution_count": 65,
   "id": "7456017c-0f68-4a48-99c6-e4ac8a904e1c",
   "metadata": {},
   "outputs": [
    {
     "name": "stdout",
     "output_type": "stream",
     "text": [
      "22.21095890410959\n"
     ]
    }
   ],
   "source": [
    "print(diff.days/365)"
   ]
  },
  {
   "cell_type": "code",
   "execution_count": null,
   "id": "b3c6b19c-d3b6-479f-a528-c176d8786aaa",
   "metadata": {},
   "outputs": [],
   "source": []
  }
 ],
 "metadata": {
  "kernelspec": {
   "display_name": "Python 3 (ipykernel)",
   "language": "python",
   "name": "python3"
  },
  "language_info": {
   "codemirror_mode": {
    "name": "ipython",
    "version": 3
   },
   "file_extension": ".py",
   "mimetype": "text/x-python",
   "name": "python",
   "nbconvert_exporter": "python",
   "pygments_lexer": "ipython3",
   "version": "3.12.7"
  }
 },
 "nbformat": 4,
 "nbformat_minor": 5
}
