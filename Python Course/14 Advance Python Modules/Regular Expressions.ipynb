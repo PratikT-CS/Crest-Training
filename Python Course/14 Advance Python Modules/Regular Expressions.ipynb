{
 "cells": [
  {
   "cell_type": "code",
   "execution_count": 1,
   "id": "7e92660f-4316-45a3-8d69-ba491c00e7ed",
   "metadata": {},
   "outputs": [],
   "source": [
    "import re"
   ]
  },
  {
   "cell_type": "code",
   "execution_count": 2,
   "id": "05f64dbb-80fd-4907-af9b-a6455da13c39",
   "metadata": {},
   "outputs": [],
   "source": [
    "text = \"I am working as Software Engineer Level 1 in Crest Infosystems\""
   ]
  },
  {
   "cell_type": "code",
   "execution_count": 3,
   "id": "3b1b9c22-257f-4a0f-9b7c-805926b65521",
   "metadata": {},
   "outputs": [],
   "source": [
    "pattern = \"Crest\""
   ]
  },
  {
   "cell_type": "code",
   "execution_count": 4,
   "id": "31bc9cdd-51fa-4a8a-83c8-7b6c4374b20b",
   "metadata": {},
   "outputs": [],
   "source": [
    "match = re.search(pattern, text)"
   ]
  },
  {
   "cell_type": "code",
   "execution_count": 5,
   "id": "e7dc1223-f864-4663-bdb4-895f0fb01adc",
   "metadata": {},
   "outputs": [
    {
     "name": "stdout",
     "output_type": "stream",
     "text": [
      "<re.Match object; span=(45, 50), match='Crest'>\n"
     ]
    }
   ],
   "source": [
    "print(match)"
   ]
  },
  {
   "cell_type": "code",
   "execution_count": 6,
   "id": "ff2ee4f9-26f0-41aa-91de-5b5494ddd11f",
   "metadata": {},
   "outputs": [
    {
     "data": {
      "text/plain": [
       "(45, 50)"
      ]
     },
     "execution_count": 6,
     "metadata": {},
     "output_type": "execute_result"
    }
   ],
   "source": [
    "match.span()"
   ]
  },
  {
   "cell_type": "code",
   "execution_count": 7,
   "id": "6dd6dc9c-c875-49dc-ba25-a2a13ff3784d",
   "metadata": {},
   "outputs": [
    {
     "data": {
      "text/plain": [
       "45"
      ]
     },
     "execution_count": 7,
     "metadata": {},
     "output_type": "execute_result"
    }
   ],
   "source": [
    "match.start()"
   ]
  },
  {
   "cell_type": "code",
   "execution_count": 8,
   "id": "d2284aba-45c2-49ed-8e39-3f75c3002453",
   "metadata": {},
   "outputs": [
    {
     "data": {
      "text/plain": [
       "50"
      ]
     },
     "execution_count": 8,
     "metadata": {},
     "output_type": "execute_result"
    }
   ],
   "source": [
    "match.end()"
   ]
  },
  {
   "cell_type": "code",
   "execution_count": 9,
   "id": "6a56d6c2-1730-42d6-8f4f-fddd6d1463b4",
   "metadata": {},
   "outputs": [
    {
     "data": {
      "text/plain": [
       "'Crest'"
      ]
     },
     "execution_count": 9,
     "metadata": {},
     "output_type": "execute_result"
    }
   ],
   "source": [
    "match.group()"
   ]
  },
  {
   "cell_type": "code",
   "execution_count": 10,
   "id": "3f869607-bca5-4772-8a4f-efc848e7709e",
   "metadata": {},
   "outputs": [],
   "source": [
    "text2 = \"Crest Skillserve is part of Crest Infosystem\""
   ]
  },
  {
   "cell_type": "code",
   "execution_count": 11,
   "id": "c3e7f1e0-0a12-41ed-a382-480071209330",
   "metadata": {},
   "outputs": [],
   "source": [
    "pattern = \"Crest\""
   ]
  },
  {
   "cell_type": "code",
   "execution_count": 12,
   "id": "2c17b33c-9b2c-48c9-9fd7-544a06750985",
   "metadata": {},
   "outputs": [],
   "source": [
    "matches = re.findall(pattern, text2)"
   ]
  },
  {
   "cell_type": "code",
   "execution_count": 13,
   "id": "330817b7-57fc-4b0a-8542-3547508a14d7",
   "metadata": {},
   "outputs": [
    {
     "name": "stdout",
     "output_type": "stream",
     "text": [
      "['Crest', 'Crest']\n"
     ]
    }
   ],
   "source": [
    "print(matches)"
   ]
  },
  {
   "cell_type": "code",
   "execution_count": 24,
   "id": "556a508c-f7f9-47ec-9d42-2e079a88bfe6",
   "metadata": {},
   "outputs": [
    {
     "name": "stdout",
     "output_type": "stream",
     "text": [
      "<re.Match object; span=(0, 5), match='Crest'>\n",
      "(0, 5)\n",
      "0\n",
      "5\n",
      "Crest\n",
      "<re.Match object; span=(28, 33), match='Crest'>\n",
      "(28, 33)\n",
      "28\n",
      "33\n",
      "Crest\n"
     ]
    }
   ],
   "source": [
    "for match in re.finditer(pattern, text2):\n",
    "    print(match)\n",
    "    print(match.span())\n",
    "    print(match.start())\n",
    "    print(match.end())\n",
    "    print(match.group())"
   ]
  },
  {
   "cell_type": "code",
   "execution_count": 25,
   "id": "a8134d1d-0535-49c6-969a-63a524ff6dee",
   "metadata": {},
   "outputs": [
    {
     "data": {
      "text/plain": [
       "44"
      ]
     },
     "execution_count": 25,
     "metadata": {},
     "output_type": "execute_result"
    }
   ],
   "source": [
    "len(text2)"
   ]
  },
  {
   "cell_type": "code",
   "execution_count": 26,
   "id": "a5e440da-cbeb-4cb5-a400-9569d49d3ace",
   "metadata": {},
   "outputs": [],
   "source": [
    "text3 = \"My telephone number is 408-555-1234\""
   ]
  },
  {
   "cell_type": "code",
   "execution_count": 27,
   "id": "d410e559-da1c-40e4-8287-f5db3c78e8c6",
   "metadata": {},
   "outputs": [
    {
     "data": {
      "text/plain": [
       "<re.Match object; span=(23, 35), match='408-555-1234'>"
      ]
     },
     "execution_count": 27,
     "metadata": {},
     "output_type": "execute_result"
    }
   ],
   "source": [
    "re.search(\"408-555-1234\", text3)"
   ]
  },
  {
   "cell_type": "code",
   "execution_count": 28,
   "id": "e1b987f4-92c0-4a04-a690-59372ee4e86c",
   "metadata": {},
   "outputs": [],
   "source": [
    "match = re.search(r\"\\d\\d\\d-\\d\\d\\d-\\d\\d\\d\\d\", text3)"
   ]
  },
  {
   "cell_type": "code",
   "execution_count": 29,
   "id": "578e0d5f-dbfe-49de-91c1-551f8bd9bae1",
   "metadata": {},
   "outputs": [
    {
     "data": {
      "text/plain": [
       "<re.Match object; span=(23, 35), match='408-555-1234'>"
      ]
     },
     "execution_count": 29,
     "metadata": {},
     "output_type": "execute_result"
    }
   ],
   "source": [
    "match"
   ]
  },
  {
   "cell_type": "code",
   "execution_count": 30,
   "id": "00a82403-5dbf-4b3d-867e-361d99f6b44d",
   "metadata": {},
   "outputs": [
    {
     "data": {
      "text/plain": [
       "'408-555-1234'"
      ]
     },
     "execution_count": 30,
     "metadata": {},
     "output_type": "execute_result"
    }
   ],
   "source": [
    "match.group()"
   ]
  },
  {
   "cell_type": "code",
   "execution_count": 33,
   "id": "b75afb77-7e36-43e9-9e87-c2f6aa7ee7b5",
   "metadata": {},
   "outputs": [],
   "source": [
    "match = re.search(r\"\\d{3}-\\d{3}-\\d{4}\",text3)"
   ]
  },
  {
   "cell_type": "code",
   "execution_count": 34,
   "id": "466d13c1-f2a4-4c1b-a0ae-11d844ce6ccf",
   "metadata": {},
   "outputs": [
    {
     "data": {
      "text/plain": [
       "<re.Match object; span=(23, 35), match='408-555-1234'>"
      ]
     },
     "execution_count": 34,
     "metadata": {},
     "output_type": "execute_result"
    }
   ],
   "source": [
    "match"
   ]
  },
  {
   "cell_type": "code",
   "execution_count": 35,
   "id": "e50fdf0f-5540-4331-8325-3629b20cc5ab",
   "metadata": {},
   "outputs": [
    {
     "data": {
      "text/plain": [
       "'408-555-1234'"
      ]
     },
     "execution_count": 35,
     "metadata": {},
     "output_type": "execute_result"
    }
   ],
   "source": [
    "match.group(0)"
   ]
  },
  {
   "cell_type": "code",
   "execution_count": 41,
   "id": "919b7e4d-9b2a-43bf-9edf-4f9cc2760fa6",
   "metadata": {},
   "outputs": [],
   "source": [
    "pattern = re.compile(r\"(\\d{3})-(\\d{3})-(\\d{4})\")"
   ]
  },
  {
   "cell_type": "code",
   "execution_count": 42,
   "id": "f840803e-bf18-45e7-b20d-006ce0688a7d",
   "metadata": {},
   "outputs": [],
   "source": [
    "match = re.search(pattern, text3)"
   ]
  },
  {
   "cell_type": "code",
   "execution_count": 43,
   "id": "3fdfe867-391f-4e9c-ba1c-f75c8677a6eb",
   "metadata": {},
   "outputs": [
    {
     "data": {
      "text/plain": [
       "<re.Match object; span=(23, 35), match='408-555-1234'>"
      ]
     },
     "execution_count": 43,
     "metadata": {},
     "output_type": "execute_result"
    }
   ],
   "source": [
    "match"
   ]
  },
  {
   "cell_type": "code",
   "execution_count": 44,
   "id": "f546a429-2a1f-4fad-b5ed-2ffc079e4031",
   "metadata": {},
   "outputs": [
    {
     "data": {
      "text/plain": [
       "'408-555-1234'"
      ]
     },
     "execution_count": 44,
     "metadata": {},
     "output_type": "execute_result"
    }
   ],
   "source": [
    "match.group()"
   ]
  },
  {
   "cell_type": "code",
   "execution_count": 45,
   "id": "00889963-5e54-4995-8085-93b2ce966274",
   "metadata": {},
   "outputs": [
    {
     "data": {
      "text/plain": [
       "'408-555-1234'"
      ]
     },
     "execution_count": 45,
     "metadata": {},
     "output_type": "execute_result"
    }
   ],
   "source": [
    "match.group(0)"
   ]
  },
  {
   "cell_type": "code",
   "execution_count": 46,
   "id": "e16eb1bb-a49b-4488-9eef-09a02fa79b4a",
   "metadata": {},
   "outputs": [
    {
     "data": {
      "text/plain": [
       "'408'"
      ]
     },
     "execution_count": 46,
     "metadata": {},
     "output_type": "execute_result"
    }
   ],
   "source": [
    "match.group(1)"
   ]
  },
  {
   "cell_type": "code",
   "execution_count": 47,
   "id": "62138902-695b-4e86-b8be-9c809dc4418a",
   "metadata": {},
   "outputs": [
    {
     "data": {
      "text/plain": [
       "'555'"
      ]
     },
     "execution_count": 47,
     "metadata": {},
     "output_type": "execute_result"
    }
   ],
   "source": [
    "match.group(2)"
   ]
  },
  {
   "cell_type": "code",
   "execution_count": 48,
   "id": "183d2c32-287d-437d-816a-382eb6d8488c",
   "metadata": {},
   "outputs": [
    {
     "data": {
      "text/plain": [
       "'1234'"
      ]
     },
     "execution_count": 48,
     "metadata": {},
     "output_type": "execute_result"
    }
   ],
   "source": [
    "match.group(3)"
   ]
  },
  {
   "cell_type": "code",
   "execution_count": 49,
   "id": "db5073d7-f7a3-4bb6-a74d-c58b71fbc2ee",
   "metadata": {},
   "outputs": [
    {
     "ename": "IndexError",
     "evalue": "no such group",
     "output_type": "error",
     "traceback": [
      "\u001b[1;31m---------------------------------------------------------------------------\u001b[0m",
      "\u001b[1;31mIndexError\u001b[0m                                Traceback (most recent call last)",
      "Cell \u001b[1;32mIn[49], line 1\u001b[0m\n\u001b[1;32m----> 1\u001b[0m \u001b[38;5;28;01mmatch\u001b[39;00m\u001b[38;5;241m.\u001b[39mgroup(\u001b[38;5;241m4\u001b[39m)\n",
      "\u001b[1;31mIndexError\u001b[0m: no such group"
     ]
    }
   ],
   "source": [
    "match.group(4)"
   ]
  },
  {
   "cell_type": "code",
   "execution_count": 52,
   "id": "073d5a70-bc5e-4496-a367-961d79c0aeb8",
   "metadata": {},
   "outputs": [
    {
     "data": {
      "text/plain": [
       "['cat', 'hat', 'sat']"
      ]
     },
     "execution_count": 52,
     "metadata": {},
     "output_type": "execute_result"
    }
   ],
   "source": [
    "re.findall(r\".at\", \"The cat in the hat sat here.\")"
   ]
  },
  {
   "cell_type": "code",
   "execution_count": 56,
   "id": "ff542846-b876-41be-bb8d-e74f61f89fe3",
   "metadata": {},
   "outputs": [
    {
     "data": {
      "text/plain": [
       "['scat', 'chat', 'sat']"
      ]
     },
     "execution_count": 56,
     "metadata": {},
     "output_type": "execute_result"
    }
   ],
   "source": [
    "re.findall(r\"\\S*at\", \"The scat in the chat sat here.\")"
   ]
  },
  {
   "cell_type": "code",
   "execution_count": 58,
   "id": "227c366d-4841-48ac-b3db-2ee2d71a03ac",
   "metadata": {},
   "outputs": [
    {
     "data": {
      "text/plain": [
       "'man'"
      ]
     },
     "execution_count": 58,
     "metadata": {},
     "output_type": "execute_result"
    }
   ],
   "source": [
    "re.search(r\"man|woman\",\"This man was here.\").group()"
   ]
  },
  {
   "cell_type": "code",
   "execution_count": 59,
   "id": "722aa6bf-c133-4d75-a83b-b6c79ed0e923",
   "metadata": {},
   "outputs": [
    {
     "data": {
      "text/plain": [
       "<re.Match object; span=(5, 10), match='woman'>"
      ]
     },
     "execution_count": 59,
     "metadata": {},
     "output_type": "execute_result"
    }
   ],
   "source": [
    "re.search(r\"man|woman\",\"This woman was here.\")"
   ]
  },
  {
   "cell_type": "code",
   "execution_count": 60,
   "id": "f9c76ec7-fa1d-4485-8e2d-2af1c8a77ea2",
   "metadata": {},
   "outputs": [],
   "source": [
    "text4 = 'Only find the hypen-words in this sentence. But you do not know how long-ish they are'"
   ]
  },
  {
   "cell_type": "code",
   "execution_count": 62,
   "id": "d65f18ac-e5ca-4de9-8076-1bda81b17431",
   "metadata": {},
   "outputs": [
    {
     "data": {
      "text/plain": [
       "['hypen-words', 'long-ish']"
      ]
     },
     "execution_count": 62,
     "metadata": {},
     "output_type": "execute_result"
    }
   ],
   "source": [
    "re.findall(r'[\\w]+-[\\w]+',text4)"
   ]
  },
  {
   "cell_type": "code",
   "execution_count": null,
   "id": "cf3e5823-381f-4070-ae9f-ce472cfc386b",
   "metadata": {},
   "outputs": [],
   "source": []
  }
 ],
 "metadata": {
  "kernelspec": {
   "display_name": "Python 3 (ipykernel)",
   "language": "python",
   "name": "python3"
  },
  "language_info": {
   "codemirror_mode": {
    "name": "ipython",
    "version": 3
   },
   "file_extension": ".py",
   "mimetype": "text/x-python",
   "name": "python",
   "nbconvert_exporter": "python",
   "pygments_lexer": "ipython3",
   "version": "3.12.7"
  }
 },
 "nbformat": 4,
 "nbformat_minor": 5
}
