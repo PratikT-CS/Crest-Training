{
 "cells": [
  {
   "cell_type": "markdown",
   "id": "d322729c-1bc7-4141-b6a2-2165a96db284",
   "metadata": {},
   "source": [
    "# Counter from Collections Module"
   ]
  },
  {
   "cell_type": "code",
   "execution_count": 3,
   "id": "e5af54c8-2abf-4f65-815e-0759a75e54a9",
   "metadata": {},
   "outputs": [],
   "source": [
    "from collections import Counter\n",
    "from random import randint"
   ]
  },
  {
   "cell_type": "code",
   "execution_count": 4,
   "id": "bd5da3be-1064-4652-accd-ec13990d12ad",
   "metadata": {},
   "outputs": [],
   "source": [
    "mylist = [1]*randint(1,10)"
   ]
  },
  {
   "cell_type": "code",
   "execution_count": 5,
   "id": "a3c7dcfe-3304-418e-8cfb-5b94a7556db5",
   "metadata": {},
   "outputs": [],
   "source": [
    "mylist.extend([2]*randint(1,10))"
   ]
  },
  {
   "cell_type": "code",
   "execution_count": 8,
   "id": "b650741c-d4de-499c-bdc9-853d9dc428de",
   "metadata": {},
   "outputs": [],
   "source": [
    "mylist.extend([3]*randint(1,10))"
   ]
  },
  {
   "cell_type": "code",
   "execution_count": 9,
   "id": "07ddcec8-cd3f-42a5-974b-324c56febde0",
   "metadata": {},
   "outputs": [
    {
     "data": {
      "text/plain": [
       "Counter({2: 9, 3: 8, 1: 2, 9: 1})"
      ]
     },
     "execution_count": 9,
     "metadata": {},
     "output_type": "execute_result"
    }
   ],
   "source": [
    "Counter(mylist)"
   ]
  },
  {
   "cell_type": "code",
   "execution_count": 10,
   "id": "a01f2497-a4d4-4c7f-b1fc-7f8dc67943bc",
   "metadata": {},
   "outputs": [
    {
     "data": {
      "text/plain": [
       "[1, 1, 2, 2, 2, 2, 2, 2, 2, 2, 2, 9, 3, 3, 3, 3, 3, 3, 3, 3]"
      ]
     },
     "execution_count": 10,
     "metadata": {},
     "output_type": "execute_result"
    }
   ],
   "source": [
    "mylist"
   ]
  },
  {
   "cell_type": "code",
   "execution_count": 11,
   "id": "4828839e-926a-4ca8-9120-50219bde54c3",
   "metadata": {},
   "outputs": [],
   "source": [
    "mystr = \"asdgasddddg\""
   ]
  },
  {
   "cell_type": "code",
   "execution_count": 12,
   "id": "d1362ecb-93d5-429e-bdd2-c1f838d1c6b9",
   "metadata": {},
   "outputs": [
    {
     "data": {
      "text/plain": [
       "Counter({'d': 5, 'a': 2, 's': 2, 'g': 2})"
      ]
     },
     "execution_count": 12,
     "metadata": {},
     "output_type": "execute_result"
    }
   ],
   "source": [
    "Counter(mystr)"
   ]
  },
  {
   "cell_type": "code",
   "execution_count": 13,
   "id": "6b9e3059-11bd-4691-9acc-18215240f2fb",
   "metadata": {},
   "outputs": [],
   "source": [
    "sentence = \"How many times does a single word appear in the sentence formed by this words\""
   ]
  },
  {
   "cell_type": "code",
   "execution_count": 15,
   "id": "c0fc474c-adc5-455b-95e5-b4f7c52a0450",
   "metadata": {},
   "outputs": [
    {
     "data": {
      "text/plain": [
       "Counter({'how': 1,\n",
       "         'many': 1,\n",
       "         'times': 1,\n",
       "         'does': 1,\n",
       "         'a': 1,\n",
       "         'single': 1,\n",
       "         'word': 1,\n",
       "         'appear': 1,\n",
       "         'in': 1,\n",
       "         'the': 1,\n",
       "         'sentence': 1,\n",
       "         'formed': 1,\n",
       "         'by': 1,\n",
       "         'this': 1,\n",
       "         'words': 1})"
      ]
     },
     "execution_count": 15,
     "metadata": {},
     "output_type": "execute_result"
    }
   ],
   "source": [
    "Counter(sentence.lower().split())"
   ]
  },
  {
   "cell_type": "code",
   "execution_count": 16,
   "id": "062eccda-5a53-4e23-b8de-a20785026a50",
   "metadata": {},
   "outputs": [],
   "source": [
    "letters = \"aaaaaaddddddeeeeecccbbbbbbbbb\""
   ]
  },
  {
   "cell_type": "code",
   "execution_count": 17,
   "id": "945a534f-91db-491d-a6bb-db94d12b110c",
   "metadata": {},
   "outputs": [],
   "source": [
    "c = Counter(letters)"
   ]
  },
  {
   "cell_type": "code",
   "execution_count": 18,
   "id": "da047625-aefa-411f-a074-e1123dea480b",
   "metadata": {},
   "outputs": [
    {
     "name": "stdout",
     "output_type": "stream",
     "text": [
      "Counter({'b': 9, 'a': 6, 'd': 6, 'e': 5, 'c': 3})\n"
     ]
    }
   ],
   "source": [
    "print(c)"
   ]
  },
  {
   "cell_type": "code",
   "execution_count": 19,
   "id": "79ca25c3-7c8a-4e79-9c2b-987b4475365f",
   "metadata": {},
   "outputs": [
    {
     "data": {
      "text/plain": [
       "collections.Counter"
      ]
     },
     "execution_count": 19,
     "metadata": {},
     "output_type": "execute_result"
    }
   ],
   "source": [
    "type(c)"
   ]
  },
  {
   "cell_type": "code",
   "execution_count": 20,
   "id": "fcfa532c-c913-4020-816e-3b09a01b1eb9",
   "metadata": {},
   "outputs": [
    {
     "data": {
      "text/plain": [
       "[('b', 9), ('a', 6), ('d', 6), ('e', 5), ('c', 3)]"
      ]
     },
     "execution_count": 20,
     "metadata": {},
     "output_type": "execute_result"
    }
   ],
   "source": [
    "c.most_common()"
   ]
  },
  {
   "cell_type": "code",
   "execution_count": 21,
   "id": "c6e01a69-975c-4e4c-a8ba-fca8665b9cc1",
   "metadata": {},
   "outputs": [
    {
     "data": {
      "text/plain": [
       "[('b', 9), ('a', 6), ('d', 6)]"
      ]
     },
     "execution_count": 21,
     "metadata": {},
     "output_type": "execute_result"
    }
   ],
   "source": [
    "c.most_common(3)"
   ]
  },
  {
   "cell_type": "code",
   "execution_count": 22,
   "id": "3f752c79-58a9-46d1-910b-74cd7a4065c4",
   "metadata": {},
   "outputs": [
    {
     "data": {
      "text/plain": [
       "[('b', 9), ('a', 6)]"
      ]
     },
     "execution_count": 22,
     "metadata": {},
     "output_type": "execute_result"
    }
   ],
   "source": [
    "c.most_common(2)"
   ]
  },
  {
   "cell_type": "code",
   "execution_count": 24,
   "id": "9e539fee-d241-4763-9fa5-9eaa709d2396",
   "metadata": {},
   "outputs": [
    {
     "data": {
      "text/plain": [
       "dict_keys(['a', 'd', 'e', 'c', 'b'])"
      ]
     },
     "execution_count": 24,
     "metadata": {},
     "output_type": "execute_result"
    }
   ],
   "source": [
    "c.keys()"
   ]
  },
  {
   "cell_type": "code",
   "execution_count": 25,
   "id": "25e8a18e-78d0-4f7f-b514-2ca43ee9c5d2",
   "metadata": {},
   "outputs": [
    {
     "data": {
      "text/plain": [
       "['a', 'd', 'e', 'c', 'b']"
      ]
     },
     "execution_count": 25,
     "metadata": {},
     "output_type": "execute_result"
    }
   ],
   "source": [
    "list(c.keys())"
   ]
  },
  {
   "cell_type": "code",
   "execution_count": 26,
   "id": "4b0d4c96-161f-4236-b49c-9e60eeb0b9d0",
   "metadata": {},
   "outputs": [
    {
     "data": {
      "text/plain": [
       "29"
      ]
     },
     "execution_count": 26,
     "metadata": {},
     "output_type": "execute_result"
    }
   ],
   "source": [
    "c.total()"
   ]
  },
  {
   "cell_type": "code",
   "execution_count": 27,
   "id": "fe721b60-7c25-429b-be52-e1b04606ee4d",
   "metadata": {},
   "outputs": [
    {
     "data": {
      "text/plain": [
       "29"
      ]
     },
     "execution_count": 27,
     "metadata": {},
     "output_type": "execute_result"
    }
   ],
   "source": [
    "len(letters)"
   ]
  },
  {
   "cell_type": "markdown",
   "id": "6e944866-7dd9-4c77-9184-6022dc10f28b",
   "metadata": {},
   "source": [
    "# defaultdict from Collection Module"
   ]
  },
  {
   "cell_type": "code",
   "execution_count": 42,
   "id": "57e89415-1309-4d32-bec1-c9539f54d027",
   "metadata": {},
   "outputs": [],
   "source": [
    "from collections import defaultdict"
   ]
  },
  {
   "cell_type": "code",
   "execution_count": 43,
   "id": "cd931375-49d2-408d-b33a-66811bbfd441",
   "metadata": {},
   "outputs": [],
   "source": [
    "dic = defaultdict(lambda : 0)"
   ]
  },
  {
   "cell_type": "code",
   "execution_count": 44,
   "id": "bf391620-bb11-41bc-9327-69ac16f6ef8c",
   "metadata": {},
   "outputs": [],
   "source": [
    "dic[\"apple\"] = 10"
   ]
  },
  {
   "cell_type": "code",
   "execution_count": 45,
   "id": "cca1cc5d-d1da-4b41-b7b7-2c79c797bd17",
   "metadata": {},
   "outputs": [],
   "source": [
    "dic[\"mongoes\"] = 45"
   ]
  },
  {
   "cell_type": "code",
   "execution_count": 46,
   "id": "d54fc070-5c9c-4ba0-9ee9-002e8e205df3",
   "metadata": {},
   "outputs": [
    {
     "data": {
      "text/plain": [
       "0"
      ]
     },
     "execution_count": 46,
     "metadata": {},
     "output_type": "execute_result"
    }
   ],
   "source": [
    "dic[\"orange\"]"
   ]
  },
  {
   "cell_type": "code",
   "execution_count": 47,
   "id": "f19bce1a-95a3-4651-895c-29b2b40ca243",
   "metadata": {},
   "outputs": [
    {
     "data": {
      "text/plain": [
       "defaultdict(<function __main__.<lambda>()>,\n",
       "            {'apple': 10, 'mongoes': 45, 'orange': 0})"
      ]
     },
     "execution_count": 47,
     "metadata": {},
     "output_type": "execute_result"
    }
   ],
   "source": [
    "dic"
   ]
  },
  {
   "cell_type": "code",
   "execution_count": 48,
   "id": "6f9f6f70-285c-4fbc-86d2-91e557f06157",
   "metadata": {},
   "outputs": [],
   "source": [
    "dic = dict(dic)"
   ]
  },
  {
   "cell_type": "code",
   "execution_count": 49,
   "id": "9b208eed-10c4-4743-b115-0cd4b844939c",
   "metadata": {},
   "outputs": [
    {
     "data": {
      "text/plain": [
       "{'apple': 10, 'mongoes': 45, 'orange': 0}"
      ]
     },
     "execution_count": 49,
     "metadata": {},
     "output_type": "execute_result"
    }
   ],
   "source": [
    "dic"
   ]
  },
  {
   "cell_type": "code",
   "execution_count": 50,
   "id": "6ec4e0ea-b707-4118-abed-3fabf566ac09",
   "metadata": {},
   "outputs": [
    {
     "ename": "KeyError",
     "evalue": "'pineapple'",
     "output_type": "error",
     "traceback": [
      "\u001b[1;31m---------------------------------------------------------------------------\u001b[0m",
      "\u001b[1;31mKeyError\u001b[0m                                  Traceback (most recent call last)",
      "Cell \u001b[1;32mIn[50], line 1\u001b[0m\n\u001b[1;32m----> 1\u001b[0m dic[\u001b[38;5;124m\"\u001b[39m\u001b[38;5;124mpineapple\u001b[39m\u001b[38;5;124m\"\u001b[39m]\n",
      "\u001b[1;31mKeyError\u001b[0m: 'pineapple'"
     ]
    }
   ],
   "source": [
    "dic[\"pineapple\"]"
   ]
  },
  {
   "cell_type": "code",
   "execution_count": 51,
   "id": "8499691b-dfc4-4868-b46b-2d2029ed62d2",
   "metadata": {},
   "outputs": [
    {
     "data": {
      "text/plain": [
       "{'apple': 10, 'mongoes': 45, 'orange': 0}"
      ]
     },
     "execution_count": 51,
     "metadata": {},
     "output_type": "execute_result"
    }
   ],
   "source": [
    "dic"
   ]
  },
  {
   "cell_type": "markdown",
   "id": "d35bcb2d-39b7-484d-a4bd-a27ce9803807",
   "metadata": {},
   "source": [
    "# namedtuple from collections module"
   ]
  },
  {
   "cell_type": "code",
   "execution_count": 52,
   "id": "24bcc976-0f8c-46c4-b0f9-543ff34da8dc",
   "metadata": {},
   "outputs": [],
   "source": [
    "from collections import namedtuple"
   ]
  },
  {
   "cell_type": "code",
   "execution_count": 53,
   "id": "bbf9b9f9-f43b-499f-b1ef-447c04cf8cac",
   "metadata": {},
   "outputs": [],
   "source": [
    "Dog = namedtuple('Dog',['age','breed','name'])\n",
    "\n",
    "sam = Dog(age=2,breed='Lab',name='Sammy')\n",
    "\n",
    "frank = Dog(age=2,breed='Shepard',name=\"Frankie\")"
   ]
  },
  {
   "cell_type": "code",
   "execution_count": 54,
   "id": "3eb03241-3cd4-458c-b019-accd09d4303c",
   "metadata": {},
   "outputs": [
    {
     "data": {
      "text/plain": [
       "__main__.Dog"
      ]
     },
     "execution_count": 54,
     "metadata": {},
     "output_type": "execute_result"
    }
   ],
   "source": [
    "Dog"
   ]
  },
  {
   "cell_type": "code",
   "execution_count": 55,
   "id": "f4be39b0-6459-43e3-bd50-3015dc3b0f3d",
   "metadata": {},
   "outputs": [
    {
     "name": "stdout",
     "output_type": "stream",
     "text": [
      "<class '__main__.Dog'>\n"
     ]
    }
   ],
   "source": [
    "print(Dog)"
   ]
  },
  {
   "cell_type": "code",
   "execution_count": 58,
   "id": "f5101618-73e6-4c94-bf11-36b4fe972b49",
   "metadata": {},
   "outputs": [
    {
     "name": "stdout",
     "output_type": "stream",
     "text": [
      "_tuplegetter(0, 'Alias for field number 0')\n"
     ]
    }
   ],
   "source": [
    "print(Dog.age)"
   ]
  },
  {
   "cell_type": "code",
   "execution_count": 59,
   "id": "9995b1cc-c208-4292-a7e6-5c1949df28ea",
   "metadata": {},
   "outputs": [
    {
     "data": {
      "text/plain": [
       "Dog(age=2, breed='Lab', name='Sammy')"
      ]
     },
     "execution_count": 59,
     "metadata": {},
     "output_type": "execute_result"
    }
   ],
   "source": [
    "sam"
   ]
  },
  {
   "cell_type": "code",
   "execution_count": 60,
   "id": "2b791482-85bb-4948-93ab-cfef4390ac63",
   "metadata": {},
   "outputs": [
    {
     "data": {
      "text/plain": [
       "Dog(age=2, breed='Shepard', name='Frankie')"
      ]
     },
     "execution_count": 60,
     "metadata": {},
     "output_type": "execute_result"
    }
   ],
   "source": [
    "frank"
   ]
  },
  {
   "cell_type": "code",
   "execution_count": 61,
   "id": "0de1993a-1def-435d-aa40-608bf9d4287f",
   "metadata": {},
   "outputs": [
    {
     "data": {
      "text/plain": [
       "2"
      ]
     },
     "execution_count": 61,
     "metadata": {},
     "output_type": "execute_result"
    }
   ],
   "source": [
    "sam[0]"
   ]
  },
  {
   "cell_type": "code",
   "execution_count": 63,
   "id": "90215df4-6142-4556-9659-bbf7448c3cbf",
   "metadata": {},
   "outputs": [
    {
     "data": {
      "text/plain": [
       "'Frankie'"
      ]
     },
     "execution_count": 63,
     "metadata": {},
     "output_type": "execute_result"
    }
   ],
   "source": [
    "frank[2]"
   ]
  },
  {
   "cell_type": "code",
   "execution_count": 64,
   "id": "141b9436-1e28-4212-bf64-9e386b77ae68",
   "metadata": {},
   "outputs": [
    {
     "data": {
      "text/plain": [
       "'Frankie'"
      ]
     },
     "execution_count": 64,
     "metadata": {},
     "output_type": "execute_result"
    }
   ],
   "source": [
    "frank.name"
   ]
  },
  {
   "cell_type": "code",
   "execution_count": 65,
   "id": "487d3ded-383e-4e8e-9e5c-2ad9dbabe74a",
   "metadata": {},
   "outputs": [
    {
     "data": {
      "text/plain": [
       "<function Dog.index(value, start=0, stop=9223372036854775807, /)>"
      ]
     },
     "execution_count": 65,
     "metadata": {},
     "output_type": "execute_result"
    }
   ],
   "source": [
    "frank.index"
   ]
  },
  {
   "cell_type": "code",
   "execution_count": 66,
   "id": "30aeb6c4-da3b-4309-85e4-381aa0a8a02c",
   "metadata": {},
   "outputs": [
    {
     "data": {
      "text/plain": [
       "2"
      ]
     },
     "execution_count": 66,
     "metadata": {},
     "output_type": "execute_result"
    }
   ],
   "source": [
    "frank.age"
   ]
  },
  {
   "cell_type": "code",
   "execution_count": null,
   "id": "10212192-c818-41f7-9bbc-c572b1614c0b",
   "metadata": {},
   "outputs": [],
   "source": []
  }
 ],
 "metadata": {
  "kernelspec": {
   "display_name": "Python 3 (ipykernel)",
   "language": "python",
   "name": "python3"
  },
  "language_info": {
   "codemirror_mode": {
    "name": "ipython",
    "version": 3
   },
   "file_extension": ".py",
   "mimetype": "text/x-python",
   "name": "python",
   "nbconvert_exporter": "python",
   "pygments_lexer": "ipython3",
   "version": "3.12.7"
  }
 },
 "nbformat": 4,
 "nbformat_minor": 5
}
