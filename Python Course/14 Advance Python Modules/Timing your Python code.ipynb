{
 "cells": [
  {
   "cell_type": "code",
   "execution_count": 3,
   "id": "e0447aa1-9540-4f60-a850-ac9e5936ffe0",
   "metadata": {},
   "outputs": [],
   "source": [
    "import re"
   ]
  },
  {
   "cell_type": "code",
   "execution_count": 4,
   "id": "ca9a6b83-0cbd-4161-a2c9-c9cecb07d2be",
   "metadata": {},
   "outputs": [],
   "source": [
    "def func_one(text):\n",
    "    return re.findall(r\"\\S*at\", text)"
   ]
  },
  {
   "cell_type": "code",
   "execution_count": 5,
   "id": "37eabb1f-8c5a-40be-9d19-bb6a0b5e7473",
   "metadata": {},
   "outputs": [
    {
     "data": {
      "text/plain": [
       "['scat', 'chat', 'sat']"
      ]
     },
     "execution_count": 5,
     "metadata": {},
     "output_type": "execute_result"
    }
   ],
   "source": [
    "func_one(\"The scat in the chat sat here.\")"
   ]
  },
  {
   "cell_type": "code",
   "execution_count": 17,
   "id": "b8ef3791-fa7d-44a9-abde-7fa29b16eaee",
   "metadata": {},
   "outputs": [],
   "source": [
    "def func_two(text):\n",
    "    ans = []\n",
    "    for word in text.split():\n",
    "        if word[-2:] ==\"at\":\n",
    "            ans.append(word)\n",
    "    return ans"
   ]
  },
  {
   "cell_type": "code",
   "execution_count": 18,
   "id": "94ed86d9-0f76-4778-afb2-76aa05a13260",
   "metadata": {},
   "outputs": [
    {
     "data": {
      "text/plain": [
       "['scat', 'chat', 'sat']"
      ]
     },
     "execution_count": 18,
     "metadata": {},
     "output_type": "execute_result"
    }
   ],
   "source": [
    "func_two(\"The scat in the chat sat here.\")"
   ]
  },
  {
   "cell_type": "code",
   "execution_count": 20,
   "id": "d5e705a1-63f2-41d9-9dc9-35a3a27eea71",
   "metadata": {},
   "outputs": [],
   "source": [
    "import time"
   ]
  },
  {
   "cell_type": "code",
   "execution_count": 23,
   "id": "0de2e728-6127-444b-bf98-e007a312199c",
   "metadata": {},
   "outputs": [
    {
     "name": "stdout",
     "output_type": "stream",
     "text": [
      "-0.002000093460083008\n"
     ]
    }
   ],
   "source": [
    "start_time = time.time()\n",
    "func_one(\"The world of programming is vast and ever-evolving, filled with opportunities for those willing to dive deep and explore its depths. At its core, programming is a methodical process of designing, writing, testing, and maintaining the source code of software applications. This source code serves as the blueprint for computers to execute specific tasks. Among the many programming languages available today, Python stands out as one of the most popular and versatile options. Known for its simplicity and readability, Python has become a favorite among both beginners and experienced developers.  It allows users to focus on solving problems rather than worrying about complex syntax.Python’s popularity is largely attributed to its vast ecosystem of libraries and frameworks. For instance, data scientists rely on libraries like NumPy, pandas, and Matplotlib for numerical computation and data visualization. Meanwhile, web developers leverage frameworks such as Django and Flask to build robust, scalable web applications. Machine learning enthusiasts benefit from TensorFlow, PyTorch, and scikit-learn, which provide powerful tools for building and deploying predictive models. Beyond these specialized areas, Python’s general-purpose nature makes it suitable for tasks as diverse as automation, game development, and network programming. One of Python’s key strengths is its community. Developers around the world contribute to open-source projects, create educational resources, and participate in forums and discussions. This collaborative spirit fosters innovation and ensures that Python remains relevant in the fast-paced world of technology. Whether a developer is troubleshooting an error or exploring new techniques, they can often find help through platforms like Stack Overflow, GitHub, or the official Python documentation. In the realm of education, Python has emerged as the language of choice for teaching programming. Its simple syntax allows students to grasp fundamental programming concepts without being overwhelmed. Concepts such as loops, conditionals, and functions can be introduced early on, providing a solid foundation for more advanced topics. Many universities and online platforms now include Python in their curriculum, reflecting its importance in the industry. Python’s flexibility also extends to its support for different programming paradigms. It accommodates object-oriented programming (OOP), procedural programming, and even functional programming. This versatility makes it a valuable tool for developers with diverse preferences and needs. For example, an OOP approach might be suitable for designing complex systems with reusable components, while a functional approach could simplify tasks involving mathematical computations. The rise of artificial intelligence (AI) and machine learning has further cemented Python’s position as a leading programming language. Organizations across industries are using AI to analyze data, automate processes, and improve decision-making. Python’s simplicity and extensive library support make it an ideal choice for implementing AI solutions. From natural language processing to image recognition, Python empowers developers to create cutting-edge applications. Despite its many advantages, Python is not without its limitations. Its interpreted nature can make it slower than compiled languages like C++ or Java, particularly for compute-intensive tasks. Additionally, Python’s reliance on indentation for defining code blocks can lead to issues if not managed carefully. However, these drawbacks are often outweighed by the language’s readability and ease of use. In conclusion, Python’s widespread adoption and versatility make it a cornerstone of modern software development. Its ability to adapt to various domains, combined with a strong community and a rich ecosystem of libraries, ensures that Python remains a valuable skill for developers. Whether you’re a beginner taking your first steps into coding or a seasoned professional exploring new horizons, Python offers a reliable and rewarding path to success. As technology continues to evolve, Python’s role in shaping the future of software development is set to grow even further.\")\n",
    "end_time = time.time()\n",
    "print(start_time - end_time)"
   ]
  },
  {
   "cell_type": "code",
   "execution_count": 24,
   "id": "375e4d51-1237-44ef-84e2-3969ec9c2be1",
   "metadata": {},
   "outputs": [
    {
     "name": "stdout",
     "output_type": "stream",
     "text": [
      "-0.0009999275207519531\n"
     ]
    }
   ],
   "source": [
    "start_time = time.time()\n",
    "func_two(\"The world of programming is vast and ever-evolving, filled with opportunities for those willing to dive deep and explore its depths. At its core, programming is a methodical process of designing, writing, testing, and maintaining the source code of software applications. This source code serves as the blueprint for computers to execute specific tasks. Among the many programming languages available today, Python stands out as one of the most popular and versatile options. Known for its simplicity and readability, Python has become a favorite among both beginners and experienced developers.  It allows users to focus on solving problems rather than worrying about complex syntax.Python’s popularity is largely attributed to its vast ecosystem of libraries and frameworks. For instance, data scientists rely on libraries like NumPy, pandas, and Matplotlib for numerical computation and data visualization. Meanwhile, web developers leverage frameworks such as Django and Flask to build robust, scalable web applications. Machine learning enthusiasts benefit from TensorFlow, PyTorch, and scikit-learn, which provide powerful tools for building and deploying predictive models. Beyond these specialized areas, Python’s general-purpose nature makes it suitable for tasks as diverse as automation, game development, and network programming. One of Python’s key strengths is its community. Developers around the world contribute to open-source projects, create educational resources, and participate in forums and discussions. This collaborative spirit fosters innovation and ensures that Python remains relevant in the fast-paced world of technology. Whether a developer is troubleshooting an error or exploring new techniques, they can often find help through platforms like Stack Overflow, GitHub, or the official Python documentation. In the realm of education, Python has emerged as the language of choice for teaching programming. Its simple syntax allows students to grasp fundamental programming concepts without being overwhelmed. Concepts such as loops, conditionals, and functions can be introduced early on, providing a solid foundation for more advanced topics. Many universities and online platforms now include Python in their curriculum, reflecting its importance in the industry. Python’s flexibility also extends to its support for different programming paradigms. It accommodates object-oriented programming (OOP), procedural programming, and even functional programming. This versatility makes it a valuable tool for developers with diverse preferences and needs. For example, an OOP approach might be suitable for designing complex systems with reusable components, while a functional approach could simplify tasks involving mathematical computations. The rise of artificial intelligence (AI) and machine learning has further cemented Python’s position as a leading programming language. Organizations across industries are using AI to analyze data, automate processes, and improve decision-making. Python’s simplicity and extensive library support make it an ideal choice for implementing AI solutions. From natural language processing to image recognition, Python empowers developers to create cutting-edge applications. Despite its many advantages, Python is not without its limitations. Its interpreted nature can make it slower than compiled languages like C++ or Java, particularly for compute-intensive tasks. Additionally, Python’s reliance on indentation for defining code blocks can lead to issues if not managed carefully. However, these drawbacks are often outweighed by the language’s readability and ease of use. In conclusion, Python’s widespread adoption and versatility make it a cornerstone of modern software development. Its ability to adapt to various domains, combined with a strong community and a rich ecosystem of libraries, ensures that Python remains a valuable skill for developers. Whether you’re a beginner taking your first steps into coding or a seasoned professional exploring new horizons, Python offers a reliable and rewarding path to success. As technology continues to evolve, Python’s role in shaping the future of software development is set to grow even further.\")\n",
    "end_time = time.time()\n",
    "print(start_time - end_time)"
   ]
  },
  {
   "cell_type": "code",
   "execution_count": 25,
   "id": "1245ddba-668e-48f1-bfe9-8854fc1e824a",
   "metadata": {},
   "outputs": [],
   "source": [
    "import timeit"
   ]
  },
  {
   "cell_type": "code",
   "execution_count": 28,
   "id": "69cfb4dd-ed1d-4161-a930-5e61fbac13af",
   "metadata": {},
   "outputs": [],
   "source": [
    "stmt1 = \"func_one(text)\""
   ]
  },
  {
   "cell_type": "code",
   "execution_count": 31,
   "id": "343e99f8-d7a8-4306-81cf-f03682e7b741",
   "metadata": {},
   "outputs": [
    {
     "name": "stderr",
     "output_type": "stream",
     "text": [
      "<>:1: SyntaxWarning: invalid escape sequence '\\S'\n",
      "<>:1: SyntaxWarning: invalid escape sequence '\\S'\n",
      "C:\\Users\\PratikTalaviya\\AppData\\Local\\Temp\\ipykernel_8736\\4035379486.py:1: SyntaxWarning: invalid escape sequence '\\S'\n",
      "  setup1 = '''\n"
     ]
    }
   ],
   "source": [
    "setup1 = '''\n",
    "import re\n",
    "text = \"The scat in the chat sat here.\"\n",
    "def func_one(text):\n",
    "    return re.findall(r\"\\S*at\", text)\n",
    "'''"
   ]
  },
  {
   "cell_type": "code",
   "execution_count": 37,
   "id": "85ce0dbc-5d9c-4f84-bd7f-a600e011914e",
   "metadata": {},
   "outputs": [
    {
     "data": {
      "text/plain": [
       "9.547489900025539"
      ]
     },
     "execution_count": 37,
     "metadata": {},
     "output_type": "execute_result"
    }
   ],
   "source": [
    "timeit.timeit(stmt1, setup1, number=1000000)"
   ]
  },
  {
   "cell_type": "code",
   "execution_count": 34,
   "id": "6318f60e-5893-45cc-90bd-52a81e04f677",
   "metadata": {},
   "outputs": [],
   "source": [
    "stmt2 = \"func_two(text)\""
   ]
  },
  {
   "cell_type": "code",
   "execution_count": 35,
   "id": "d32d8252-53ac-4790-8519-349855725cc1",
   "metadata": {},
   "outputs": [],
   "source": [
    "setup2 = '''\n",
    "text = \"The scat in the chat sat here.\"\n",
    "def func_two(text):\n",
    "    ans = []\n",
    "    for word in text.split():\n",
    "        if word[-2:] ==\"at\":\n",
    "            ans.append(word)\n",
    "    return ans\n",
    "'''"
   ]
  },
  {
   "cell_type": "code",
   "execution_count": 38,
   "id": "9893c984-e12b-440c-89a8-8d44fabc26b2",
   "metadata": {},
   "outputs": [
    {
     "data": {
      "text/plain": [
       "6.26022539997939"
      ]
     },
     "execution_count": 38,
     "metadata": {},
     "output_type": "execute_result"
    }
   ],
   "source": [
    "timeit.timeit(stmt2, setup2, number=1000000)"
   ]
  },
  {
   "cell_type": "code",
   "execution_count": null,
   "id": "3c0ae764-66fe-4cb7-8815-089ddcbc409e",
   "metadata": {},
   "outputs": [],
   "source": [
    "%%timeit\n",
    "\n"
   ]
  }
 ],
 "metadata": {
  "kernelspec": {
   "display_name": "Python 3 (ipykernel)",
   "language": "python",
   "name": "python3"
  },
  "language_info": {
   "codemirror_mode": {
    "name": "ipython",
    "version": 3
   },
   "file_extension": ".py",
   "mimetype": "text/x-python",
   "name": "python",
   "nbconvert_exporter": "python",
   "pygments_lexer": "ipython3",
   "version": "3.12.7"
  }
 },
 "nbformat": 4,
 "nbformat_minor": 5
}
