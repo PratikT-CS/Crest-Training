{
 "cells": [
  {
   "cell_type": "code",
   "execution_count": 1,
   "id": "f48f1f20-a185-458c-b23c-60e008d1f243",
   "metadata": {},
   "outputs": [
    {
     "data": {
      "text/plain": [
       "'C:\\\\Users\\\\PratikTalaviya\\\\Crest Training\\\\Python Course\\\\14 Advance Python Modules'"
      ]
     },
     "execution_count": 1,
     "metadata": {},
     "output_type": "execute_result"
    }
   ],
   "source": [
    "pwd"
   ]
  },
  {
   "cell_type": "markdown",
   "id": "09407f1d-bdc1-429c-83b5-aea5a86c7f7f",
   "metadata": {},
   "source": [
    "# OS Module"
   ]
  },
  {
   "cell_type": "code",
   "execution_count": 2,
   "id": "cb4866d8-8f8f-439e-8453-e7edccf8e996",
   "metadata": {},
   "outputs": [],
   "source": [
    "import os"
   ]
  },
  {
   "cell_type": "code",
   "execution_count": 3,
   "id": "987f6b75-157f-4b0a-8886-7f8c235dc1a3",
   "metadata": {},
   "outputs": [
    {
     "data": {
      "text/plain": [
       "'C:\\\\Users\\\\PratikTalaviya\\\\Crest Training\\\\Python Course\\\\14 Advance Python Modules'"
      ]
     },
     "execution_count": 3,
     "metadata": {},
     "output_type": "execute_result"
    }
   ],
   "source": [
    "os.getcwd()"
   ]
  },
  {
   "cell_type": "code",
   "execution_count": 4,
   "id": "8bf20ade-e7ee-48b3-94b2-0b8f894d39e2",
   "metadata": {},
   "outputs": [
    {
     "data": {
      "text/plain": [
       "['.ipynb_checkpoints',\n",
       " 'Collections Module.ipynb',\n",
       " 'Example_Top_Level',\n",
       " 'Practice.txt',\n",
       " 'shutil and os module.ipynb']"
      ]
     },
     "execution_count": 4,
     "metadata": {},
     "output_type": "execute_result"
    }
   ],
   "source": [
    "os.listdir()"
   ]
  },
  {
   "cell_type": "code",
   "execution_count": 8,
   "id": "88456ebe-e7a9-43cf-97e1-282d821ff8a4",
   "metadata": {},
   "outputs": [
    {
     "data": {
      "text/plain": [
       "['All Users',\n",
       " 'CrestAdmin',\n",
       " 'Default',\n",
       " 'Default User',\n",
       " 'desktop.ini',\n",
       " 'PratikTalaviya',\n",
       " 'Public']"
      ]
     },
     "execution_count": 8,
     "metadata": {},
     "output_type": "execute_result"
    }
   ],
   "source": [
    "os.listdir(\"C:\\\\Users\\\\\")"
   ]
  },
  {
   "cell_type": "code",
   "execution_count": 11,
   "id": "29c32feb-e7bf-483f-beda-679e6d4b8f6c",
   "metadata": {},
   "outputs": [
    {
     "data": {
      "text/plain": [
       "['.ipynb_checkpoints',\n",
       " '03 Python Object and Data Structure Basics',\n",
       " '05 Python Statements',\n",
       " '06 Methods and Functions',\n",
       " '07 Milestone Project 1',\n",
       " '08 Object Oriented Programming',\n",
       " '10 Errors and Execptions Handling',\n",
       " '11 Mileston Project 2',\n",
       " '12 Python Decorators',\n",
       " '13 Python Generators',\n",
       " '14 Advance Python Modules']"
      ]
     },
     "execution_count": 11,
     "metadata": {},
     "output_type": "execute_result"
    }
   ],
   "source": [
    "os.listdir(\"C:\\\\Users\\\\PratikTalaviya\\\\Crest Training\\\\Python Course\")"
   ]
  },
  {
   "cell_type": "code",
   "execution_count": 12,
   "id": "637a4798-76b5-4dee-99db-4310cca5a2cc",
   "metadata": {},
   "outputs": [],
   "source": [
    "f = open(\"Practice.txt\", \"w+\")"
   ]
  },
  {
   "cell_type": "code",
   "execution_count": 13,
   "id": "6d291bff-0bb3-48fe-b7c7-f2804f26753f",
   "metadata": {},
   "outputs": [
    {
     "data": {
      "text/plain": [
       "10"
      ]
     },
     "execution_count": 13,
     "metadata": {},
     "output_type": "execute_result"
    }
   ],
   "source": [
    "f.write(\"Hello!!!!!\")"
   ]
  },
  {
   "cell_type": "code",
   "execution_count": 14,
   "id": "7d1c1d08-63df-46de-9e87-3ecc1b1f5e65",
   "metadata": {},
   "outputs": [],
   "source": [
    "f.close()"
   ]
  },
  {
   "cell_type": "markdown",
   "id": "d13f4065-ec81-4a22-b81f-ca3ce71517d0",
   "metadata": {},
   "source": [
    "# shutil Module"
   ]
  },
  {
   "cell_type": "code",
   "execution_count": 16,
   "id": "76189611-4601-48b7-ae1c-fb181f470878",
   "metadata": {},
   "outputs": [],
   "source": [
    "import shutil"
   ]
  },
  {
   "cell_type": "code",
   "execution_count": 17,
   "id": "3e1a021f-66bc-4362-bf0c-c2b6bbfb7d51",
   "metadata": {},
   "outputs": [
    {
     "data": {
      "text/plain": [
       "'C:\\\\Users\\\\PratikTalaviya\\\\Crest Training\\\\Practice.txt'"
      ]
     },
     "execution_count": 17,
     "metadata": {},
     "output_type": "execute_result"
    }
   ],
   "source": [
    "shutil.move(\"Practice.txt\",\"C:\\\\Users\\\\PratikTalaviya\\\\Crest Training\\\\\")"
   ]
  },
  {
   "cell_type": "code",
   "execution_count": 20,
   "id": "e10a4be7-9297-42fe-8486-1bf88ab87012",
   "metadata": {},
   "outputs": [
    {
     "data": {
      "text/plain": [
       "['.git', '.ipynb_checkpoints', 'Practice.txt', 'Python Course']"
      ]
     },
     "execution_count": 20,
     "metadata": {},
     "output_type": "execute_result"
    }
   ],
   "source": [
    "os.listdir(\"C:\\\\Users\\\\PratikTalaviya\\\\Crest Training\\\\\")"
   ]
  },
  {
   "cell_type": "code",
   "execution_count": 24,
   "id": "a58e4ae6-c835-4f7c-8c7e-b8aab9903b49",
   "metadata": {},
   "outputs": [
    {
     "data": {
      "text/plain": [
       "'C:\\\\Users\\\\PratikTalaviya\\\\Crest Training\\\\Python Course\\\\14 Advance Python Modules\\\\Practice.txt'"
      ]
     },
     "execution_count": 24,
     "metadata": {},
     "output_type": "execute_result"
    }
   ],
   "source": [
    "shutil.move(\"C:\\\\Users\\\\PratikTalaviya\\\\Crest Training\\\\Practice.txt\",os.getcwd())"
   ]
  },
  {
   "cell_type": "code",
   "execution_count": 25,
   "id": "4a44d16f-0c7d-4544-ae5e-f2206885f1fb",
   "metadata": {},
   "outputs": [
    {
     "data": {
      "text/plain": [
       "['.ipynb_checkpoints',\n",
       " 'Collections Module.ipynb',\n",
       " 'Example_Top_Level',\n",
       " 'Practice.txt',\n",
       " 'shutil and os module.ipynb']"
      ]
     },
     "execution_count": 25,
     "metadata": {},
     "output_type": "execute_result"
    }
   ],
   "source": [
    "os.listdir()"
   ]
  },
  {
   "cell_type": "code",
   "execution_count": 26,
   "id": "dd0daad2-5e07-4903-85ea-56e0792f5452",
   "metadata": {},
   "outputs": [],
   "source": [
    "import send2trash"
   ]
  },
  {
   "cell_type": "code",
   "execution_count": 27,
   "id": "98e94872-257d-4566-b2ba-abe17a6aa064",
   "metadata": {},
   "outputs": [],
   "source": [
    "send2trash.send2trash(\"Practice.txt\")"
   ]
  },
  {
   "cell_type": "code",
   "execution_count": 28,
   "id": "c8ed5d24-777e-44ec-9fed-06ed282aa597",
   "metadata": {},
   "outputs": [
    {
     "data": {
      "text/plain": [
       "['.ipynb_checkpoints',\n",
       " 'Collections Module.ipynb',\n",
       " 'Example_Top_Level',\n",
       " 'shutil and os module.ipynb']"
      ]
     },
     "execution_count": 28,
     "metadata": {},
     "output_type": "execute_result"
    }
   ],
   "source": [
    "os.listdir()"
   ]
  },
  {
   "cell_type": "code",
   "execution_count": 39,
   "id": "a9501cd5-af00-493b-9d23-0568739125e1",
   "metadata": {},
   "outputs": [
    {
     "name": "stdout",
     "output_type": "stream",
     "text": [
      "Currently looking at folder: Example_Top_Level\n",
      "THE SUBFOLDERS ARE: \n",
      "\t Subfolder: Mid-Example-One\n",
      "THE FILES ARE: \n",
      "\t File: Mid-Example.txt\n",
      "\n",
      "\n",
      "Currently looking at folder: Example_Top_Level\\Mid-Example-One\n",
      "THE SUBFOLDERS ARE: \n",
      "\t Subfolder: Bottom-Level-One\n",
      "\t Subfolder: Bottom-Level-Two\n",
      "THE FILES ARE: \n",
      "\t File: Mid-Level-Doc.txt\n",
      "\n",
      "\n",
      "Currently looking at folder: Example_Top_Level\\Mid-Example-One\\Bottom-Level-One\n",
      "THE SUBFOLDERS ARE: \n",
      "THE FILES ARE: \n",
      "\t File: One_Text.txt\n",
      "\n",
      "\n",
      "Currently looking at folder: Example_Top_Level\\Mid-Example-One\\Bottom-Level-Two\n",
      "THE SUBFOLDERS ARE: \n",
      "THE FILES ARE: \n",
      "\t File: Bottom-Text-Two.txt\n",
      "\n",
      "\n"
     ]
    }
   ],
   "source": [
    "for folder, sub_folders, files in os.walk(\"Example_Top_Level\"):\n",
    "    print(\"Currently looking at folder: \"+ folder)\n",
    "    print(\"THE SUBFOLDERS ARE: \")\n",
    "    for sub_fold in sub_folders:\n",
    "        print(\"\\t Subfolder: \"+sub_fold )\n",
    "    \n",
    "    print(\"THE FILES ARE: \")\n",
    "    for f in files:\n",
    "        print(\"\\t File: \"+f)\n",
    "    print('\\n')"
   ]
  },
  {
   "cell_type": "code",
   "execution_count": 40,
   "id": "bb638a17-41c8-4cdc-8579-fa306691e569",
   "metadata": {},
   "outputs": [
    {
     "name": "stdout",
     "output_type": "stream",
     "text": [
      "<generator object walk at 0x000001D5FF93AE40>\n"
     ]
    }
   ],
   "source": [
    "print(os.walk(\"Example_Top_Level\"))"
   ]
  },
  {
   "cell_type": "code",
   "execution_count": 43,
   "id": "cbe1af82-21b0-4b22-9a4f-e589ed4e3e48",
   "metadata": {},
   "outputs": [],
   "source": [
    "fold = os.walk(\"Example_Top_Level\")"
   ]
  },
  {
   "cell_type": "code",
   "execution_count": 44,
   "id": "b928e1c9-12e0-43e0-9748-1a0751e198ae",
   "metadata": {},
   "outputs": [
    {
     "name": "stdout",
     "output_type": "stream",
     "text": [
      "('Example_Top_Level', ['Mid-Example-One'], ['Mid-Example.txt'])\n",
      "('Example_Top_Level\\\\Mid-Example-One', ['Bottom-Level-One', 'Bottom-Level-Two'], ['Mid-Level-Doc.txt'])\n",
      "('Example_Top_Level\\\\Mid-Example-One\\\\Bottom-Level-One', [], ['One_Text.txt'])\n",
      "('Example_Top_Level\\\\Mid-Example-One\\\\Bottom-Level-Two', [], ['Bottom-Text-Two.txt'])\n"
     ]
    }
   ],
   "source": [
    "for folder in fold:\n",
    "    print(folder)"
   ]
  },
  {
   "cell_type": "code",
   "execution_count": null,
   "id": "e2b0d9ed-1c6f-42c0-8a58-248efb5f3f35",
   "metadata": {},
   "outputs": [],
   "source": []
  }
 ],
 "metadata": {
  "kernelspec": {
   "display_name": "Python 3 (ipykernel)",
   "language": "python",
   "name": "python3"
  },
  "language_info": {
   "codemirror_mode": {
    "name": "ipython",
    "version": 3
   },
   "file_extension": ".py",
   "mimetype": "text/x-python",
   "name": "python",
   "nbconvert_exporter": "python",
   "pygments_lexer": "ipython3",
   "version": "3.12.7"
  }
 },
 "nbformat": 4,
 "nbformat_minor": 5
}
