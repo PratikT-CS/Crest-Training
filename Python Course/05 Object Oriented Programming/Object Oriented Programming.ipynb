{
 "cells": [
  {
   "cell_type": "code",
   "execution_count": 1,
   "id": "8db7f1d8-f76c-4b2d-a6d0-c2ac9e01cea6",
   "metadata": {},
   "outputs": [],
   "source": [
    "class Dog():\n",
    "    pass"
   ]
  },
  {
   "cell_type": "code",
   "execution_count": 2,
   "id": "589aa96d-48f1-4409-b1e4-f166ffc0298a",
   "metadata": {},
   "outputs": [],
   "source": [
    "myDog = Dog()"
   ]
  },
  {
   "cell_type": "code",
   "execution_count": 3,
   "id": "e79dd275-9f59-44b0-b773-781fe92d912e",
   "metadata": {},
   "outputs": [
    {
     "data": {
      "text/plain": [
       "__main__.Dog"
      ]
     },
     "execution_count": 3,
     "metadata": {},
     "output_type": "execute_result"
    }
   ],
   "source": [
    "type(myDog)"
   ]
  },
  {
   "cell_type": "code",
   "execution_count": 8,
   "id": "3af2c03d-a574-492e-9cef-6d3fbf721194",
   "metadata": {},
   "outputs": [],
   "source": [
    "class Cat():\n",
    "    def __init__(self,breed):\n",
    "        self.breed = breed"
   ]
  },
  {
   "cell_type": "code",
   "execution_count": 9,
   "id": "15d09c6f-fd84-4309-97bb-6bcc43205b88",
   "metadata": {},
   "outputs": [
    {
     "ename": "TypeError",
     "evalue": "Cat.__init__() missing 1 required positional argument: 'breed'",
     "output_type": "error",
     "traceback": [
      "\u001b[1;31m---------------------------------------------------------------------------\u001b[0m",
      "\u001b[1;31mTypeError\u001b[0m                                 Traceback (most recent call last)",
      "Cell \u001b[1;32mIn[9], line 1\u001b[0m\n\u001b[1;32m----> 1\u001b[0m myCat \u001b[38;5;241m=\u001b[39m Cat()\n",
      "\u001b[1;31mTypeError\u001b[0m: Cat.__init__() missing 1 required positional argument: 'breed'"
     ]
    }
   ],
   "source": [
    "myCat = Cat()"
   ]
  },
  {
   "cell_type": "code",
   "execution_count": 10,
   "id": "acb43e8a-76bd-45dc-baf9-a33430c09e4b",
   "metadata": {},
   "outputs": [],
   "source": [
    "myCat = Cat(\"something\")"
   ]
  },
  {
   "cell_type": "code",
   "execution_count": 11,
   "id": "7f5853ea-8e74-4b58-bd76-17901fd36e89",
   "metadata": {},
   "outputs": [
    {
     "data": {
      "text/plain": [
       "'something'"
      ]
     },
     "execution_count": 11,
     "metadata": {},
     "output_type": "execute_result"
    }
   ],
   "source": [
    "myCat.breed"
   ]
  },
  {
   "cell_type": "code",
   "execution_count": 17,
   "id": "f67ac232-0dbf-43fc-b03c-753cc7d14fd8",
   "metadata": {},
   "outputs": [],
   "source": [
    "class Circle():\n",
    "    pi = 3.14\n",
    "    def __init__(self,rad=3):\n",
    "        self.rad = rad\n",
    "    def circumference(self):\n",
    "        return self.rad * self.pi *2\n"
   ]
  },
  {
   "cell_type": "code",
   "execution_count": 18,
   "id": "47b584b1-99f0-402b-9a55-e41b3015961c",
   "metadata": {},
   "outputs": [],
   "source": [
    "myCircle1 = Circle()"
   ]
  },
  {
   "cell_type": "code",
   "execution_count": 19,
   "id": "f95f2b66-2183-4562-93fc-19d50acf90f2",
   "metadata": {},
   "outputs": [
    {
     "data": {
      "text/plain": [
       "18.84"
      ]
     },
     "execution_count": 19,
     "metadata": {},
     "output_type": "execute_result"
    }
   ],
   "source": [
    "myCircle1.circumference()"
   ]
  },
  {
   "cell_type": "markdown",
   "id": "6fd89fce-0635-4e72-983d-546a63e3b47b",
   "metadata": {},
   "source": [
    "# INHERITANCE"
   ]
  },
  {
   "cell_type": "code",
   "execution_count": 27,
   "id": "4c3055b0-5b1e-485e-8927-2cc735578106",
   "metadata": {},
   "outputs": [],
   "source": [
    "class Animal():\n",
    "    def __init__(self):\n",
    "        print(\"Animal Class\")\n",
    "              \n",
    "    def eating(self):\n",
    "        print(\"Animal is Eating\")\n",
    "\n",
    "    def who_am_i(self):\n",
    "        print(\"I am Animal\")"
   ]
  },
  {
   "cell_type": "code",
   "execution_count": 28,
   "id": "e7db4f11-a989-4ad4-ad62-c8e61b0cc009",
   "metadata": {},
   "outputs": [
    {
     "name": "stdout",
     "output_type": "stream",
     "text": [
      "Animal Class\n"
     ]
    }
   ],
   "source": [
    "myanimal=Animal()"
   ]
  },
  {
   "cell_type": "code",
   "execution_count": 29,
   "id": "a115e9f8-c7e1-47bb-b9f2-5e09d4dba314",
   "metadata": {},
   "outputs": [
    {
     "name": "stdout",
     "output_type": "stream",
     "text": [
      "Animal is Eating\n"
     ]
    }
   ],
   "source": [
    "myanimal.eating()"
   ]
  },
  {
   "cell_type": "code",
   "execution_count": 31,
   "id": "6eac4e20-3c05-4901-92e0-74c2adaf04ee",
   "metadata": {},
   "outputs": [
    {
     "name": "stdout",
     "output_type": "stream",
     "text": [
      "I am Animal\n"
     ]
    }
   ],
   "source": [
    "myanimal.who_am_i()"
   ]
  },
  {
   "cell_type": "code",
   "execution_count": 38,
   "id": "a8295fa6-622f-4cc3-8591-7118de5402ce",
   "metadata": {},
   "outputs": [],
   "source": [
    "class Dog(Animal):\n",
    "    def __init__(self):\n",
    "        Animal.__init__(self)\n",
    "        print(\"Dog Class\")\n",
    "\n",
    "    def who_am_i(self):\n",
    "        print(\"I am Dog\")"
   ]
  },
  {
   "cell_type": "code",
   "execution_count": 39,
   "id": "57fbed40-5f07-42e7-baca-d477113eef2a",
   "metadata": {},
   "outputs": [
    {
     "name": "stdout",
     "output_type": "stream",
     "text": [
      "Animal Class\n",
      "Dog Class\n"
     ]
    }
   ],
   "source": [
    "mydog = Dog()"
   ]
  },
  {
   "cell_type": "code",
   "execution_count": 40,
   "id": "e4dc7dc1-2f33-4372-9614-d00011873ec4",
   "metadata": {},
   "outputs": [
    {
     "name": "stdout",
     "output_type": "stream",
     "text": [
      "Animal is Eating\n"
     ]
    }
   ],
   "source": [
    "mydog.eating()"
   ]
  },
  {
   "cell_type": "code",
   "execution_count": 41,
   "id": "91948bfb-23ba-4132-9b11-11f4e3ca2b93",
   "metadata": {},
   "outputs": [
    {
     "name": "stdout",
     "output_type": "stream",
     "text": [
      "I am Dog\n"
     ]
    }
   ],
   "source": [
    "mydog.who_am_i()"
   ]
  },
  {
   "cell_type": "markdown",
   "id": "45d64a3c-96a8-4bc0-89d5-0518e6f2f758",
   "metadata": {},
   "source": [
    "# PLOYMORPHISM"
   ]
  },
  {
   "cell_type": "code",
   "execution_count": 42,
   "id": "9c1c9d3f-e97a-475b-900a-0a5623a4b62f",
   "metadata": {},
   "outputs": [],
   "source": [
    " class Dog:\n",
    "    def __init__(self, name):\n",
    "        self.name = name\n",
    "\n",
    "    def speak(self):\n",
    "        return self.name+' says Woof!'"
   ]
  },
  {
   "cell_type": "code",
   "execution_count": 43,
   "id": "7d461408-8206-4266-a695-9fc74aca31ee",
   "metadata": {},
   "outputs": [],
   "source": [
    "class Cat:\n",
    "    def __init__(self, name):\n",
    "        self.name = name\n",
    "\n",
    "    def speak(self):\n",
    "        return self.name+' says Meow!' "
   ]
  },
  {
   "cell_type": "code",
   "execution_count": 44,
   "id": "f5a9c8a9-a50c-4429-98e9-c06c9d4c65a1",
   "metadata": {},
   "outputs": [],
   "source": [
    "niko = Dog('Niko')\n",
    "felix = Cat('Felix')"
   ]
  },
  {
   "cell_type": "code",
   "execution_count": 45,
   "id": "c44c5727-8caa-42a3-87cd-7201da7bceaa",
   "metadata": {},
   "outputs": [
    {
     "name": "stdout",
     "output_type": "stream",
     "text": [
      "Niko says Woof!\n",
      "Felix says Meow!\n"
     ]
    }
   ],
   "source": [
    "print(niko.speak())\n",
    "print(felix.speak())"
   ]
  },
  {
   "cell_type": "markdown",
   "id": "0a215680-47e4-45db-b2c6-c9630c7de4be",
   "metadata": {},
   "source": [
    "# SPECIAL METHODS"
   ]
  },
  {
   "cell_type": "code",
   "execution_count": 61,
   "id": "344c3e40-33fd-4e4b-9860-b998c78b8c90",
   "metadata": {},
   "outputs": [],
   "source": [
    "class Book:\n",
    "    def __init__(self, title, author, pages):\n",
    "        print(\"A book is created\")\n",
    "        self.title = title\n",
    "        self.author = author\n",
    "        self.pages = pages\n",
    "\n",
    "    def __str__(self):\n",
    "        return \"Title: %s, author: %s, pages: %s\" %(self.title, self.author, self.pages)\n",
    "\n",
    "    def __len__(self):\n",
    "        return self.pages\n",
    "\n",
    "    def __del__(self):\n",
    "        print(\"A book is destroyed\")"
   ]
  },
  {
   "cell_type": "code",
   "execution_count": 62,
   "id": "2d9d0138-518a-4ad2-91f5-d51e658d8435",
   "metadata": {},
   "outputs": [
    {
     "name": "stdout",
     "output_type": "stream",
     "text": [
      "A book is created\n"
     ]
    }
   ],
   "source": [
    "mybook = Book(\"Python\",\"Pratik\",200)"
   ]
  },
  {
   "cell_type": "code",
   "execution_count": 54,
   "id": "3e0b17b5-c295-460c-8d1f-3806cd6f566d",
   "metadata": {},
   "outputs": [
    {
     "data": {
      "text/plain": [
       "'<__main__.Book object at 0x000002C0AF4C91F0>'"
      ]
     },
     "execution_count": 54,
     "metadata": {},
     "output_type": "execute_result"
    }
   ],
   "source": [
    "str(mybook)"
   ]
  },
  {
   "cell_type": "code",
   "execution_count": 55,
   "id": "8e1c3764-f278-4f98-8d10-32fd2ee23184",
   "metadata": {},
   "outputs": [
    {
     "ename": "TypeError",
     "evalue": "object of type 'Book' has no len()",
     "output_type": "error",
     "traceback": [
      "\u001b[1;31m---------------------------------------------------------------------------\u001b[0m",
      "\u001b[1;31mTypeError\u001b[0m                                 Traceback (most recent call last)",
      "Cell \u001b[1;32mIn[55], line 1\u001b[0m\n\u001b[1;32m----> 1\u001b[0m \u001b[38;5;28mlen\u001b[39m(mybook)\n",
      "\u001b[1;31mTypeError\u001b[0m: object of type 'Book' has no len()"
     ]
    }
   ],
   "source": [
    "len(mybook)"
   ]
  },
  {
   "cell_type": "code",
   "execution_count": 63,
   "id": "a5f3939d-a291-419e-8d64-01b4469f2bbf",
   "metadata": {},
   "outputs": [
    {
     "name": "stdout",
     "output_type": "stream",
     "text": [
      "Title: Python, author: Pratik, pages: 200\n"
     ]
    }
   ],
   "source": [
    "print(mybook)"
   ]
  },
  {
   "cell_type": "code",
   "execution_count": 64,
   "id": "e67782b0-9af1-4c02-8ce6-054a350d10e1",
   "metadata": {},
   "outputs": [
    {
     "data": {
      "text/plain": [
       "'Title: Python, author: Pratik, pages: 200'"
      ]
     },
     "execution_count": 64,
     "metadata": {},
     "output_type": "execute_result"
    }
   ],
   "source": [
    "str(mybook)"
   ]
  },
  {
   "cell_type": "code",
   "execution_count": 65,
   "id": "4b57d516-a2e0-4675-9a6d-1cb49e94232d",
   "metadata": {},
   "outputs": [
    {
     "data": {
      "text/plain": [
       "200"
      ]
     },
     "execution_count": 65,
     "metadata": {},
     "output_type": "execute_result"
    }
   ],
   "source": [
    "len(mybook)"
   ]
  },
  {
   "cell_type": "code",
   "execution_count": 66,
   "id": "a814a69a-ef10-4608-b972-91156fea2f56",
   "metadata": {},
   "outputs": [
    {
     "name": "stdout",
     "output_type": "stream",
     "text": [
      "A book is destroyed\n"
     ]
    }
   ],
   "source": [
    "del mybook"
   ]
  },
  {
   "cell_type": "code",
   "execution_count": null,
   "id": "52c805b8-589f-4209-94f2-ff300f477880",
   "metadata": {},
   "outputs": [],
   "source": []
  }
 ],
 "metadata": {
  "kernelspec": {
   "display_name": "Python 3 (ipykernel)",
   "language": "python",
   "name": "python3"
  },
  "language_info": {
   "codemirror_mode": {
    "name": "ipython",
    "version": 3
   },
   "file_extension": ".py",
   "mimetype": "text/x-python",
   "name": "python",
   "nbconvert_exporter": "python",
   "pygments_lexer": "ipython3",
   "version": "3.12.7"
  }
 },
 "nbformat": 4,
 "nbformat_minor": 5
}
