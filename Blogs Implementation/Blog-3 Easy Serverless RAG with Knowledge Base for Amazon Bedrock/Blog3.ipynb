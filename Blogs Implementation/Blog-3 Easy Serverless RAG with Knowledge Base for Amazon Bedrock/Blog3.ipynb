{
 "cells": [
  {
   "cell_type": "markdown",
   "id": "03ce96ee-8bd0-4278-aace-9f5a10107f55",
   "metadata": {},
   "source": [
    "# Blog 3 Implementation\n",
    "## Easy Serverless RAG with Knowledge Base for Amazon Bedrock\n",
    "#### https://community.aws/content/2bi5tqITxIperTzMsD3ohYbPIA4/easy-rag-with-amazon-bedrock-knowledge-base?lang=en"
   ]
  },
  {
   "cell_type": "code",
   "execution_count": null,
   "id": "58b61d64-2587-4543-a448-9def4352448d",
   "metadata": {},
   "outputs": [],
   "source": []
  }
 ],
 "metadata": {
  "kernelspec": {
   "display_name": "Python 3 (ipykernel)",
   "language": "python",
   "name": "python3"
  },
  "language_info": {
   "codemirror_mode": {
    "name": "ipython",
    "version": 3
   },
   "file_extension": ".py",
   "mimetype": "text/x-python",
   "name": "python",
   "nbconvert_exporter": "python",
   "pygments_lexer": "ipython3",
   "version": "3.12.7"
  }
 },
 "nbformat": 4,
 "nbformat_minor": 5
}
