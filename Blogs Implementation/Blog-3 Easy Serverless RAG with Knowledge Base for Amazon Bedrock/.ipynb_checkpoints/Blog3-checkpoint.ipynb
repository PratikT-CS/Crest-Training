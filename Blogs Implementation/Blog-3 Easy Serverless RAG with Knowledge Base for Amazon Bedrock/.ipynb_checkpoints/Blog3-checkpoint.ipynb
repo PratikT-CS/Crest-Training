{
 "cells": [
  {
   "cell_type": "markdown",
   "id": "03ce96ee-8bd0-4278-aace-9f5a10107f55",
   "metadata": {},
   "source": [
    "# Blog 3 Implementation\n",
    "## Easy Serverless RAG with Knowledge Base for Amazon Bedrock\n",
    "#### https://community.aws/content/2bi5tqITxIperTzMsD3ohYbPIA4/easy-rag-with-amazon-bedrock-knowledge-base?lang=en"
   ]
  },
  {
   "cell_type": "markdown",
   "id": "c38c2843-4e93-48aa-a781-aeb5b68f7786",
   "metadata": {},
   "source": [
    "#### Check the resume ai folder for the code"
   ]
  },
  {
   "cell_type": "code",
   "execution_count": null,
   "id": "2232022c-1362-4313-8108-d7fd778c2bf4",
   "metadata": {},
   "outputs": [],
   "source": []
  }
 ],
 "metadata": {
  "kernelspec": {
   "display_name": "Python 3 (ipykernel)",
   "language": "python",
   "name": "python3"
  },
  "language_info": {
   "codemirror_mode": {
    "name": "ipython",
    "version": 3
   },
   "file_extension": ".py",
   "mimetype": "text/x-python",
   "name": "python",
   "nbconvert_exporter": "python",
   "pygments_lexer": "ipython3",
   "version": "3.12.7"
  }
 },
 "nbformat": 4,
 "nbformat_minor": 5
}
